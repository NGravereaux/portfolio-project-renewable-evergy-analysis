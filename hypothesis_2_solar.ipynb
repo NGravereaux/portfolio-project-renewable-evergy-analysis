{
 "cells": [
  {
   "cell_type": "code",
   "execution_count": 18,
   "metadata": {},
   "outputs": [],
   "source": [
    "import pandas as pd\n",
    "import seaborn as sns\n",
    "from matplotlib import pyplot as plt\n",
    "import plotly.express as px\n",
    "import plotly.graph_objects as go\n",
    "from plotly.subplots import make_subplots"
   ]
  },
  {
   "cell_type": "code",
   "execution_count": 19,
   "metadata": {},
   "outputs": [],
   "source": [
    "df_main = pd.read_csv('data/df_main.csv').drop(columns=[\"Unnamed: 0\"])"
   ]
  },
  {
   "cell_type": "code",
   "execution_count": 20,
   "metadata": {},
   "outputs": [
    {
     "data": {
      "text/plain": [
       "Electricity                                          21957\n",
       "Total Combustible Fuels                               4128\n",
       "Total Renewables (Hydro, Geo, Solar, Wind, Other)     4128\n",
       "Combustible Renewables                                4109\n",
       "Natural Gas                                           4043\n",
       "Wind                                                  4036\n",
       "Solar                                                 4032\n",
       "Oil and Petroleum Products                            4019\n",
       "Hydro                                                 4010\n",
       "Coal, Peat and Manufactured Gases                     3743\n",
       "Other Combustible Non-Renewables                      3732\n",
       "Not Specified                                         2946\n",
       "Nuclear                                               2737\n",
       "Geothermal                                            2085\n",
       "Other Renewables                                      1392\n",
       "Name: product, dtype: int64"
      ]
     },
     "execution_count": 20,
     "metadata": {},
     "output_type": "execute_result"
    }
   ],
   "source": [
    "df_main['product'].value_counts()"
   ]
  },
  {
   "cell_type": "code",
   "execution_count": 21,
   "metadata": {},
   "outputs": [
    {
     "data": {
      "text/plain": [
       "Austria            1008\n",
       "Ireland            1008\n",
       "Spain              1008\n",
       "Slovenia           1008\n",
       "Slovak Republic    1008\n",
       "Portugal           1008\n",
       "Poland             1008\n",
       "Luxembourg         1008\n",
       "Belgium            1008\n",
       "Italy              1008\n",
       "Lithuania          1008\n",
       "Germany            1008\n",
       "France             1008\n",
       "Czech Republic     1008\n",
       "Greece             1007\n",
       "Sweden             1006\n",
       "Latvia              960\n",
       "Hungary             888\n",
       "Netherlands         888\n",
       "Finland             888\n",
       "Estonia             888\n",
       "Denmark             888\n",
       "Bulgaria            108\n",
       "Croatia             108\n",
       "Cyprus              108\n",
       "Malta               108\n",
       "Name: country_name, dtype: int64"
      ]
     },
     "execution_count": 21,
     "metadata": {},
     "output_type": "execute_result"
    }
   ],
   "source": [
    "df_main.loc[df_main['product'] == 'Electricity']['country_name'].value_counts()"
   ]
  },
  {
   "cell_type": "code",
   "execution_count": 22,
   "metadata": {},
   "outputs": [
    {
     "data": {
      "text/html": [
       "<div>\n",
       "<style scoped>\n",
       "    .dataframe tbody tr th:only-of-type {\n",
       "        vertical-align: middle;\n",
       "    }\n",
       "\n",
       "    .dataframe tbody tr th {\n",
       "        vertical-align: top;\n",
       "    }\n",
       "\n",
       "    .dataframe thead th {\n",
       "        text-align: right;\n",
       "    }\n",
       "</style>\n",
       "<table border=\"1\" class=\"dataframe\">\n",
       "  <thead>\n",
       "    <tr style=\"text-align: right;\">\n",
       "      <th></th>\n",
       "      <th>country_name</th>\n",
       "      <th>date</th>\n",
       "      <th>parameter</th>\n",
       "      <th>product</th>\n",
       "      <th>value</th>\n",
       "      <th>unit</th>\n",
       "      <th>year</th>\n",
       "    </tr>\n",
       "  </thead>\n",
       "  <tbody>\n",
       "    <tr>\n",
       "      <th>396</th>\n",
       "      <td>Malta</td>\n",
       "      <td>12/1/2023</td>\n",
       "      <td>Net Electricity Production</td>\n",
       "      <td>Electricity</td>\n",
       "      <td>134</td>\n",
       "      <td>GWh</td>\n",
       "      <td>2023</td>\n",
       "    </tr>\n",
       "    <tr>\n",
       "      <th>799</th>\n",
       "      <td>Malta</td>\n",
       "      <td>11/1/2023</td>\n",
       "      <td>Net Electricity Production</td>\n",
       "      <td>Electricity</td>\n",
       "      <td>146</td>\n",
       "      <td>GWh</td>\n",
       "      <td>2023</td>\n",
       "    </tr>\n",
       "    <tr>\n",
       "      <th>1202</th>\n",
       "      <td>Malta</td>\n",
       "      <td>10/1/2023</td>\n",
       "      <td>Net Electricity Production</td>\n",
       "      <td>Electricity</td>\n",
       "      <td>168</td>\n",
       "      <td>GWh</td>\n",
       "      <td>2023</td>\n",
       "    </tr>\n",
       "    <tr>\n",
       "      <th>1606</th>\n",
       "      <td>Malta</td>\n",
       "      <td>9/1/2023</td>\n",
       "      <td>Net Electricity Production</td>\n",
       "      <td>Electricity</td>\n",
       "      <td>205</td>\n",
       "      <td>GWh</td>\n",
       "      <td>2023</td>\n",
       "    </tr>\n",
       "    <tr>\n",
       "      <th>2010</th>\n",
       "      <td>Malta</td>\n",
       "      <td>8/1/2023</td>\n",
       "      <td>Net Electricity Production</td>\n",
       "      <td>Electricity</td>\n",
       "      <td>225</td>\n",
       "      <td>GWh</td>\n",
       "      <td>2023</td>\n",
       "    </tr>\n",
       "    <tr>\n",
       "      <th>...</th>\n",
       "      <td>...</td>\n",
       "      <td>...</td>\n",
       "      <td>...</td>\n",
       "      <td>...</td>\n",
       "      <td>...</td>\n",
       "      <td>...</td>\n",
       "      <td>...</td>\n",
       "    </tr>\n",
       "    <tr>\n",
       "      <th>46791</th>\n",
       "      <td>Malta</td>\n",
       "      <td>5/1/2015</td>\n",
       "      <td>Net Electricity Production</td>\n",
       "      <td>Electricity</td>\n",
       "      <td>89</td>\n",
       "      <td>GWh</td>\n",
       "      <td>2015</td>\n",
       "    </tr>\n",
       "    <tr>\n",
       "      <th>47200</th>\n",
       "      <td>Malta</td>\n",
       "      <td>4/1/2015</td>\n",
       "      <td>Net Electricity Production</td>\n",
       "      <td>Electricity</td>\n",
       "      <td>102</td>\n",
       "      <td>GWh</td>\n",
       "      <td>2015</td>\n",
       "    </tr>\n",
       "    <tr>\n",
       "      <th>47610</th>\n",
       "      <td>Malta</td>\n",
       "      <td>3/1/2015</td>\n",
       "      <td>Net Electricity Production</td>\n",
       "      <td>Electricity</td>\n",
       "      <td>170</td>\n",
       "      <td>GWh</td>\n",
       "      <td>2015</td>\n",
       "    </tr>\n",
       "    <tr>\n",
       "      <th>48020</th>\n",
       "      <td>Malta</td>\n",
       "      <td>2/1/2015</td>\n",
       "      <td>Net Electricity Production</td>\n",
       "      <td>Electricity</td>\n",
       "      <td>169</td>\n",
       "      <td>GWh</td>\n",
       "      <td>2015</td>\n",
       "    </tr>\n",
       "    <tr>\n",
       "      <th>48429</th>\n",
       "      <td>Malta</td>\n",
       "      <td>1/1/2015</td>\n",
       "      <td>Net Electricity Production</td>\n",
       "      <td>Electricity</td>\n",
       "      <td>183</td>\n",
       "      <td>GWh</td>\n",
       "      <td>2015</td>\n",
       "    </tr>\n",
       "  </tbody>\n",
       "</table>\n",
       "<p>108 rows × 7 columns</p>\n",
       "</div>"
      ],
      "text/plain": [
       "      country_name       date                   parameter      product  value  \\\n",
       "396          Malta  12/1/2023  Net Electricity Production  Electricity    134   \n",
       "799          Malta  11/1/2023  Net Electricity Production  Electricity    146   \n",
       "1202         Malta  10/1/2023  Net Electricity Production  Electricity    168   \n",
       "1606         Malta   9/1/2023  Net Electricity Production  Electricity    205   \n",
       "2010         Malta   8/1/2023  Net Electricity Production  Electricity    225   \n",
       "...            ...        ...                         ...          ...    ...   \n",
       "46791        Malta   5/1/2015  Net Electricity Production  Electricity     89   \n",
       "47200        Malta   4/1/2015  Net Electricity Production  Electricity    102   \n",
       "47610        Malta   3/1/2015  Net Electricity Production  Electricity    170   \n",
       "48020        Malta   2/1/2015  Net Electricity Production  Electricity    169   \n",
       "48429        Malta   1/1/2015  Net Electricity Production  Electricity    183   \n",
       "\n",
       "      unit  year  \n",
       "396    GWh  2023  \n",
       "799    GWh  2023  \n",
       "1202   GWh  2023  \n",
       "1606   GWh  2023  \n",
       "2010   GWh  2023  \n",
       "...    ...   ...  \n",
       "46791  GWh  2015  \n",
       "47200  GWh  2015  \n",
       "47610  GWh  2015  \n",
       "48020  GWh  2015  \n",
       "48429  GWh  2015  \n",
       "\n",
       "[108 rows x 7 columns]"
      ]
     },
     "execution_count": 22,
     "metadata": {},
     "output_type": "execute_result"
    }
   ],
   "source": [
    "df_main.loc[(df_main['product'] == 'Electricity') & (df_main['country_name'] == 'Malta')]"
   ]
  },
  {
   "cell_type": "code",
   "execution_count": 30,
   "metadata": {},
   "outputs": [],
   "source": [
    "# Classify all EU countries according to the average annual global solar radiation [kWh/m2] (period 1994-2016)\n",
    "\n",
    "eu_countries_solar_radiation_classification_dict = {\n",
    "    'Austria': '2: low',\n",
    "    'Belgium': '2: low',\n",
    "    'Bulgaria': '3: medium',\n",
    "    'Croatia': '3: medium',\n",
    "    'Cyprus': '5: very high',\n",
    "    'Czech Republic': '2: low',\n",
    "    'Denmark': '1: very low',\n",
    "    'Estonia': '2: low',\n",
    "    'Finland': '1: very low',\n",
    "    'France': '3: medium',\n",
    "    'Germany': '2: low',\n",
    "    'Greece': '4: high',\n",
    "    'Hungary': '3: medium',\n",
    "    'Ireland': '1: very low',\n",
    "    'Italy': '4: high',\n",
    "    'Latvia': '2: low',\n",
    "    'Lithuania': '2: low',\n",
    "    'Luxembourg': '2: low',\n",
    "    'Malta': '5: very high',\n",
    "    'Netherlands': '2: low',\n",
    "    'Poland': '2: low',\n",
    "    'Portugal': '4: high',\n",
    "    'Romania': '3: medium',\n",
    "    'Slovak Republic': '2: low',\n",
    "    'Slovenia': '3: medium',\n",
    "    'Spain': '5: very high',\n",
    "    'Sweden': '1: very low'}"
   ]
  },
  {
   "cell_type": "code",
   "execution_count": 31,
   "metadata": {},
   "outputs": [],
   "source": [
    "# Load demographic data (Population and Area)\n",
    "df_pop = pd.read_csv(\"data/eu_country_population.csv\")\n",
    "df_area = pd.read_csv(\"data/eu_country_area.csv\")\n",
    "\n",
    "df_pop = df_pop.rename(columns={'OBS_VALUE': \"population\"})\n",
    "df_area = df_area.rename(columns={'OBS_VALUE': \"area_[km2]\"})\n",
    "\n",
    "df_pop = df_pop[df_pop['geo'] != \"EU27_2020\"]\n",
    "df_area = df_area[df_area['geo'] != \"EU27_2020\"]"
   ]
  },
  {
   "cell_type": "code",
   "execution_count": 32,
   "metadata": {},
   "outputs": [],
   "source": [
    "country_codes_dict = {\n",
    "    'AT': 'Austria',\n",
    "    'BE': 'Belgium',\n",
    "    'BG': 'Bulgaria',\n",
    "    'CY': 'Cyprus',\n",
    "    'CZ': 'Czech Republic',\n",
    "    'DE': 'Germany',\n",
    "    'DK': 'Denmark',\n",
    "    'EE': 'Estonia',\n",
    "    'EL': 'Greece',\n",
    "    'ES': 'Spain',\n",
    "    'FI': 'Finland',\n",
    "    'FR': 'France',\n",
    "    'HR': 'Croatia',\n",
    "    'HU': 'Hungary',\n",
    "    'IE': 'Ireland',\n",
    "    'IT': 'Italy',\n",
    "    'LT': 'Lithuania',\n",
    "    'LU': 'Luxembourg',\n",
    "    'LV': 'Latvia',\n",
    "    'MT': 'Malta',\n",
    "    'NL': 'Netherlands',\n",
    "    'PL': 'Poland',\n",
    "    'PT': 'Portugal',\n",
    "    'RO': 'Romania',\n",
    "    'SE': 'Sweden',\n",
    "    'SI': 'Slovenia',\n",
    "    'SK': 'Slovak Republic'}"
   ]
  },
  {
   "cell_type": "code",
   "execution_count": 33,
   "metadata": {},
   "outputs": [],
   "source": [
    "# Create dataframe with one row per country and aggregate demographic information\n",
    "df_countries = df_pop[['geo', 'population']].merge(df_area[['geo', 'area_[km2]']], how='inner', on='geo')\n",
    "df_countries = df_countries.rename(columns={'geo': 'country_code'})\n",
    "df_countries['country_name'] = df_countries['country_code'].map(country_codes_dict)\n",
    "\n",
    "# Add data about solar radiation classification\n",
    "df_countries['solar_class'] = df_countries['country_name'].map(eu_countries_solar_radiation_classification_dict)\n",
    "\n",
    "# Add data from df_main (solar electricity production and total electricity production)\n",
    "df_pivot = df_main.loc[(df_main[\"product\"] == \"Solar\") & (df_main[\"year\"] > 2013)].pivot_table(index=\"country_name\", values=\"value\", aggfunc=\"mean\")*365\n",
    "df_countries = df_countries.merge(df_pivot, how='inner', on='country_name')\n",
    "df_countries = df_countries.rename(columns={'value': 'solar_power_[GWh]'})\n",
    "\n",
    "df_pivot = df_main.loc[(df_main[\"product\"] == \"Electricity\") & (df_main[\"year\"] > 2013)].pivot_table(index=\"country_name\", values=\"value\", aggfunc=\"mean\")*365\n",
    "df_countries = df_countries.merge(df_pivot, how='inner', on='country_name')\n",
    "df_countries = df_countries.rename(columns={'value': 'total_annual_electricity_[GWh]'})\n",
    "\n",
    "\n",
    "# Calculate solar power intensity (production per area)\n",
    "df_countries['solar_power_intensity_[GWh_per_km2]'] = df_countries['solar_power_[GWh]'] / df_countries[\"area_[km2]\"]\n",
    "df_countries['solar_power_intensity_[GWh_per_1000_capita]'] = df_countries['solar_power_[GWh]'] / df_countries[\"population\"] * 1000\n",
    "df_countries['solar_share_in_total_electricity_[%]'] = df_countries['solar_power_[GWh]'] / df_countries[\"total_annual_electricity_[GWh]\"] * 100"
   ]
  },
  {
   "cell_type": "code",
   "execution_count": 34,
   "metadata": {},
   "outputs": [
    {
     "data": {
      "text/html": [
       "<div>\n",
       "<style scoped>\n",
       "    .dataframe tbody tr th:only-of-type {\n",
       "        vertical-align: middle;\n",
       "    }\n",
       "\n",
       "    .dataframe tbody tr th {\n",
       "        vertical-align: top;\n",
       "    }\n",
       "\n",
       "    .dataframe thead th {\n",
       "        text-align: right;\n",
       "    }\n",
       "</style>\n",
       "<table border=\"1\" class=\"dataframe\">\n",
       "  <thead>\n",
       "    <tr style=\"text-align: right;\">\n",
       "      <th></th>\n",
       "      <th>solar_power_intensity_[GWh_per_km2]</th>\n",
       "    </tr>\n",
       "    <tr>\n",
       "      <th>solar_class</th>\n",
       "      <th></th>\n",
       "    </tr>\n",
       "  </thead>\n",
       "  <tbody>\n",
       "    <tr>\n",
       "      <th>1: very low</th>\n",
       "      <td>0.242875</td>\n",
       "    </tr>\n",
       "    <tr>\n",
       "      <th>2: low</th>\n",
       "      <td>1.666577</td>\n",
       "    </tr>\n",
       "    <tr>\n",
       "      <th>3: medium</th>\n",
       "      <td>0.480043</td>\n",
       "    </tr>\n",
       "    <tr>\n",
       "      <th>4: high</th>\n",
       "      <td>1.393859</td>\n",
       "    </tr>\n",
       "    <tr>\n",
       "      <th>5: very high</th>\n",
       "      <td>7.105441</td>\n",
       "    </tr>\n",
       "  </tbody>\n",
       "</table>\n",
       "</div>"
      ],
      "text/plain": [
       "              solar_power_intensity_[GWh_per_km2]\n",
       "solar_class                                      \n",
       "1: very low                              0.242875\n",
       "2: low                                   1.666577\n",
       "3: medium                                0.480043\n",
       "4: high                                  1.393859\n",
       "5: very high                             7.105441"
      ]
     },
     "execution_count": 34,
     "metadata": {},
     "output_type": "execute_result"
    }
   ],
   "source": []
  },
  {
   "cell_type": "code",
   "execution_count": 28,
   "metadata": {},
   "outputs": [
    {
     "data": {
      "text/html": [
       "<div>\n",
       "<style scoped>\n",
       "    .dataframe tbody tr th:only-of-type {\n",
       "        vertical-align: middle;\n",
       "    }\n",
       "\n",
       "    .dataframe tbody tr th {\n",
       "        vertical-align: top;\n",
       "    }\n",
       "\n",
       "    .dataframe thead th {\n",
       "        text-align: right;\n",
       "    }\n",
       "</style>\n",
       "<table border=\"1\" class=\"dataframe\">\n",
       "  <thead>\n",
       "    <tr style=\"text-align: right;\">\n",
       "      <th></th>\n",
       "      <th>country_code</th>\n",
       "      <th>population</th>\n",
       "      <th>area_[km2]</th>\n",
       "      <th>country_name</th>\n",
       "      <th>solar_class</th>\n",
       "      <th>solar_power_[GWh]</th>\n",
       "      <th>total_annual_electricity_[GWh]</th>\n",
       "      <th>solar_power_intensity_[GWh_per_km2]</th>\n",
       "      <th>solar_power_intensity_[GWh_per_1000_capita]</th>\n",
       "      <th>solar_share_in_total_electricity_[%]</th>\n",
       "    </tr>\n",
       "  </thead>\n",
       "  <tbody>\n",
       "    <tr>\n",
       "      <th>0</th>\n",
       "      <td>AT</td>\n",
       "      <td>9104772</td>\n",
       "      <td>83878</td>\n",
       "      <td>Austria</td>\n",
       "      <td>2: low</td>\n",
       "      <td>5.138288e+04</td>\n",
       "      <td>9.444436e+05</td>\n",
       "      <td>0.612591</td>\n",
       "      <td>5.643510</td>\n",
       "      <td>5.440545</td>\n",
       "    </tr>\n",
       "    <tr>\n",
       "      <th>1</th>\n",
       "      <td>BE</td>\n",
       "      <td>11742796</td>\n",
       "      <td>30667</td>\n",
       "      <td>Belgium</td>\n",
       "      <td>2: low</td>\n",
       "      <td>1.383837e+05</td>\n",
       "      <td>1.004391e+06</td>\n",
       "      <td>4.512462</td>\n",
       "      <td>11.784559</td>\n",
       "      <td>13.777871</td>\n",
       "    </tr>\n",
       "    <tr>\n",
       "      <th>2</th>\n",
       "      <td>BG</td>\n",
       "      <td>6447710</td>\n",
       "      <td>110996</td>\n",
       "      <td>Bulgaria</td>\n",
       "      <td>3: medium</td>\n",
       "      <td>5.135685e+04</td>\n",
       "      <td>1.262052e+06</td>\n",
       "      <td>0.462691</td>\n",
       "      <td>7.965131</td>\n",
       "      <td>4.069314</td>\n",
       "    </tr>\n",
       "    <tr>\n",
       "      <th>3</th>\n",
       "      <td>CY</td>\n",
       "      <td>920701</td>\n",
       "      <td>9253</td>\n",
       "      <td>Cyprus</td>\n",
       "      <td>5: very high</td>\n",
       "      <td>1.032815e+04</td>\n",
       "      <td>1.459088e+05</td>\n",
       "      <td>1.116195</td>\n",
       "      <td>11.217701</td>\n",
       "      <td>7.078498</td>\n",
       "    </tr>\n",
       "    <tr>\n",
       "      <th>4</th>\n",
       "      <td>CZ</td>\n",
       "      <td>10827529</td>\n",
       "      <td>78871</td>\n",
       "      <td>Czech Republic</td>\n",
       "      <td>2: low</td>\n",
       "      <td>6.904583e+04</td>\n",
       "      <td>9.266453e+05</td>\n",
       "      <td>0.875427</td>\n",
       "      <td>6.376878</td>\n",
       "      <td>7.451161</td>\n",
       "    </tr>\n",
       "    <tr>\n",
       "      <th>5</th>\n",
       "      <td>DE</td>\n",
       "      <td>84358845</td>\n",
       "      <td>357569</td>\n",
       "      <td>Germany</td>\n",
       "      <td>2: low</td>\n",
       "      <td>1.373805e+06</td>\n",
       "      <td>6.273871e+06</td>\n",
       "      <td>3.842070</td>\n",
       "      <td>16.285254</td>\n",
       "      <td>21.897249</td>\n",
       "    </tr>\n",
       "    <tr>\n",
       "      <th>6</th>\n",
       "      <td>DK</td>\n",
       "      <td>5932654</td>\n",
       "      <td>42925</td>\n",
       "      <td>Denmark</td>\n",
       "      <td>1: very low</td>\n",
       "      <td>3.816988e+04</td>\n",
       "      <td>5.306452e+05</td>\n",
       "      <td>0.889222</td>\n",
       "      <td>6.433862</td>\n",
       "      <td>7.193106</td>\n",
       "    </tr>\n",
       "    <tr>\n",
       "      <th>7</th>\n",
       "      <td>EE</td>\n",
       "      <td>1365884</td>\n",
       "      <td>45336</td>\n",
       "      <td>Estonia</td>\n",
       "      <td>2: low</td>\n",
       "      <td>5.455990e+03</td>\n",
       "      <td>1.526736e+05</td>\n",
       "      <td>0.120346</td>\n",
       "      <td>3.994475</td>\n",
       "      <td>3.573629</td>\n",
       "    </tr>\n",
       "    <tr>\n",
       "      <th>8</th>\n",
       "      <td>EL</td>\n",
       "      <td>10413982</td>\n",
       "      <td>131694</td>\n",
       "      <td>Greece</td>\n",
       "      <td>4: high</td>\n",
       "      <td>1.496378e+05</td>\n",
       "      <td>5.863504e+05</td>\n",
       "      <td>1.136254</td>\n",
       "      <td>14.368935</td>\n",
       "      <td>25.520206</td>\n",
       "    </tr>\n",
       "    <tr>\n",
       "      <th>9</th>\n",
       "      <td>ES</td>\n",
       "      <td>48085361</td>\n",
       "      <td>505983</td>\n",
       "      <td>Spain</td>\n",
       "      <td>5: very high</td>\n",
       "      <td>6.155025e+05</td>\n",
       "      <td>2.880798e+06</td>\n",
       "      <td>1.216449</td>\n",
       "      <td>12.800206</td>\n",
       "      <td>21.365696</td>\n",
       "    </tr>\n",
       "    <tr>\n",
       "      <th>10</th>\n",
       "      <td>FI</td>\n",
       "      <td>5563970</td>\n",
       "      <td>338411</td>\n",
       "      <td>Finland</td>\n",
       "      <td>1: very low</td>\n",
       "      <td>4.997458e+03</td>\n",
       "      <td>1.004380e+06</td>\n",
       "      <td>0.014767</td>\n",
       "      <td>0.898182</td>\n",
       "      <td>0.497566</td>\n",
       "    </tr>\n",
       "    <tr>\n",
       "      <th>11</th>\n",
       "      <td>FR</td>\n",
       "      <td>68172977</td>\n",
       "      <td>638475</td>\n",
       "      <td>France</td>\n",
       "      <td>3: medium</td>\n",
       "      <td>3.906504e+05</td>\n",
       "      <td>5.572861e+06</td>\n",
       "      <td>0.611849</td>\n",
       "      <td>5.730282</td>\n",
       "      <td>7.009871</td>\n",
       "    </tr>\n",
       "    <tr>\n",
       "      <th>12</th>\n",
       "      <td>HR</td>\n",
       "      <td>3850894</td>\n",
       "      <td>56594</td>\n",
       "      <td>Croatia</td>\n",
       "      <td>3: medium</td>\n",
       "      <td>4.630093e+03</td>\n",
       "      <td>4.022368e+05</td>\n",
       "      <td>0.081812</td>\n",
       "      <td>1.202342</td>\n",
       "      <td>1.151086</td>\n",
       "    </tr>\n",
       "    <tr>\n",
       "      <th>13</th>\n",
       "      <td>HU</td>\n",
       "      <td>9599744</td>\n",
       "      <td>93012</td>\n",
       "      <td>Hungary</td>\n",
       "      <td>3: medium</td>\n",
       "      <td>6.138083e+04</td>\n",
       "      <td>5.719657e+05</td>\n",
       "      <td>0.659924</td>\n",
       "      <td>6.394007</td>\n",
       "      <td>10.731558</td>\n",
       "    </tr>\n",
       "    <tr>\n",
       "      <th>14</th>\n",
       "      <td>IE</td>\n",
       "      <td>5271395</td>\n",
       "      <td>69947</td>\n",
       "      <td>Ireland</td>\n",
       "      <td>1: very low</td>\n",
       "      <td>1.283583e+03</td>\n",
       "      <td>3.240424e+05</td>\n",
       "      <td>0.018351</td>\n",
       "      <td>0.243500</td>\n",
       "      <td>0.396116</td>\n",
       "    </tr>\n",
       "    <tr>\n",
       "      <th>15</th>\n",
       "      <td>IT</td>\n",
       "      <td>58997201</td>\n",
       "      <td>302079</td>\n",
       "      <td>Italy</td>\n",
       "      <td>4: high</td>\n",
       "      <td>7.363966e+05</td>\n",
       "      <td>3.266722e+06</td>\n",
       "      <td>2.437762</td>\n",
       "      <td>12.481891</td>\n",
       "      <td>22.542371</td>\n",
       "    </tr>\n",
       "    <tr>\n",
       "      <th>16</th>\n",
       "      <td>LT</td>\n",
       "      <td>2857279</td>\n",
       "      <td>65284</td>\n",
       "      <td>Lithuania</td>\n",
       "      <td>2: low</td>\n",
       "      <td>3.187667e+03</td>\n",
       "      <td>1.595968e+05</td>\n",
       "      <td>0.048828</td>\n",
       "      <td>1.115630</td>\n",
       "      <td>1.997325</td>\n",
       "    </tr>\n",
       "    <tr>\n",
       "      <th>17</th>\n",
       "      <td>LU</td>\n",
       "      <td>660809</td>\n",
       "      <td>2595</td>\n",
       "      <td>Luxembourg</td>\n",
       "      <td>2: low</td>\n",
       "      <td>4.404333e+03</td>\n",
       "      <td>9.521684e+04</td>\n",
       "      <td>1.697238</td>\n",
       "      <td>6.665063</td>\n",
       "      <td>4.625582</td>\n",
       "    </tr>\n",
       "    <tr>\n",
       "      <th>18</th>\n",
       "      <td>LV</td>\n",
       "      <td>1883008</td>\n",
       "      <td>64586</td>\n",
       "      <td>Latvia</td>\n",
       "      <td>2: low</td>\n",
       "      <td>7.300000e+01</td>\n",
       "      <td>1.130691e+05</td>\n",
       "      <td>0.001130</td>\n",
       "      <td>0.038768</td>\n",
       "      <td>0.064562</td>\n",
       "    </tr>\n",
       "    <tr>\n",
       "      <th>19</th>\n",
       "      <td>MT</td>\n",
       "      <td>542051</td>\n",
       "      <td>316</td>\n",
       "      <td>Malta</td>\n",
       "      <td>5: very high</td>\n",
       "      <td>5.998843e+03</td>\n",
       "      <td>5.479056e+04</td>\n",
       "      <td>18.983679</td>\n",
       "      <td>11.066934</td>\n",
       "      <td>10.948680</td>\n",
       "    </tr>\n",
       "    <tr>\n",
       "      <th>20</th>\n",
       "      <td>NL</td>\n",
       "      <td>17811291</td>\n",
       "      <td>37378</td>\n",
       "      <td>Netherlands</td>\n",
       "      <td>2: low</td>\n",
       "      <td>2.239579e+05</td>\n",
       "      <td>1.544714e+06</td>\n",
       "      <td>5.991704</td>\n",
       "      <td>12.573929</td>\n",
       "      <td>14.498338</td>\n",
       "    </tr>\n",
       "    <tr>\n",
       "      <th>21</th>\n",
       "      <td>PL</td>\n",
       "      <td>36753736</td>\n",
       "      <td>311928</td>\n",
       "      <td>Poland</td>\n",
       "      <td>2: low</td>\n",
       "      <td>8.231358e+04</td>\n",
       "      <td>1.714153e+06</td>\n",
       "      <td>0.263886</td>\n",
       "      <td>2.239598</td>\n",
       "      <td>4.801997</td>\n",
       "    </tr>\n",
       "    <tr>\n",
       "      <th>22</th>\n",
       "      <td>PT</td>\n",
       "      <td>10467366</td>\n",
       "      <td>92227</td>\n",
       "      <td>Portugal</td>\n",
       "      <td>4: high</td>\n",
       "      <td>5.603358e+04</td>\n",
       "      <td>6.205035e+05</td>\n",
       "      <td>0.607562</td>\n",
       "      <td>5.353169</td>\n",
       "      <td>9.030341</td>\n",
       "    </tr>\n",
       "    <tr>\n",
       "      <th>23</th>\n",
       "      <td>SE</td>\n",
       "      <td>10521556</td>\n",
       "      <td>447424</td>\n",
       "      <td>Sweden</td>\n",
       "      <td>1: very low</td>\n",
       "      <td>2.199429e+04</td>\n",
       "      <td>1.743417e+06</td>\n",
       "      <td>0.049158</td>\n",
       "      <td>2.090403</td>\n",
       "      <td>1.261562</td>\n",
       "    </tr>\n",
       "    <tr>\n",
       "      <th>24</th>\n",
       "      <td>SI</td>\n",
       "      <td>2116972</td>\n",
       "      <td>20273</td>\n",
       "      <td>Slovenia</td>\n",
       "      <td>3: medium</td>\n",
       "      <td>1.183817e+04</td>\n",
       "      <td>2.412964e+05</td>\n",
       "      <td>0.583938</td>\n",
       "      <td>5.592028</td>\n",
       "      <td>4.906068</td>\n",
       "    </tr>\n",
       "    <tr>\n",
       "      <th>25</th>\n",
       "      <td>SK</td>\n",
       "      <td>5428792</td>\n",
       "      <td>49035</td>\n",
       "      <td>Slovak Republic</td>\n",
       "      <td>1: low</td>\n",
       "      <td>1.797929e+04</td>\n",
       "      <td>4.017215e+05</td>\n",
       "      <td>0.366662</td>\n",
       "      <td>3.311840</td>\n",
       "      <td>4.475561</td>\n",
       "    </tr>\n",
       "  </tbody>\n",
       "</table>\n",
       "</div>"
      ],
      "text/plain": [
       "   country_code  population  area_[km2]     country_name   solar_class  \\\n",
       "0            AT     9104772       83878          Austria        2: low   \n",
       "1            BE    11742796       30667          Belgium        2: low   \n",
       "2            BG     6447710      110996         Bulgaria     3: medium   \n",
       "3            CY      920701        9253           Cyprus  5: very high   \n",
       "4            CZ    10827529       78871   Czech Republic        2: low   \n",
       "5            DE    84358845      357569          Germany        2: low   \n",
       "6            DK     5932654       42925          Denmark   1: very low   \n",
       "7            EE     1365884       45336          Estonia        2: low   \n",
       "8            EL    10413982      131694           Greece       4: high   \n",
       "9            ES    48085361      505983            Spain  5: very high   \n",
       "10           FI     5563970      338411          Finland   1: very low   \n",
       "11           FR    68172977      638475           France     3: medium   \n",
       "12           HR     3850894       56594          Croatia     3: medium   \n",
       "13           HU     9599744       93012          Hungary     3: medium   \n",
       "14           IE     5271395       69947          Ireland   1: very low   \n",
       "15           IT    58997201      302079            Italy       4: high   \n",
       "16           LT     2857279       65284        Lithuania        2: low   \n",
       "17           LU      660809        2595       Luxembourg        2: low   \n",
       "18           LV     1883008       64586           Latvia        2: low   \n",
       "19           MT      542051         316            Malta  5: very high   \n",
       "20           NL    17811291       37378      Netherlands        2: low   \n",
       "21           PL    36753736      311928           Poland        2: low   \n",
       "22           PT    10467366       92227         Portugal       4: high   \n",
       "23           SE    10521556      447424           Sweden   1: very low   \n",
       "24           SI     2116972       20273         Slovenia     3: medium   \n",
       "25           SK     5428792       49035  Slovak Republic        1: low   \n",
       "\n",
       "    solar_power_[GWh]  total_annual_electricity_[GWh]  \\\n",
       "0        5.138288e+04                    9.444436e+05   \n",
       "1        1.383837e+05                    1.004391e+06   \n",
       "2        5.135685e+04                    1.262052e+06   \n",
       "3        1.032815e+04                    1.459088e+05   \n",
       "4        6.904583e+04                    9.266453e+05   \n",
       "5        1.373805e+06                    6.273871e+06   \n",
       "6        3.816988e+04                    5.306452e+05   \n",
       "7        5.455990e+03                    1.526736e+05   \n",
       "8        1.496378e+05                    5.863504e+05   \n",
       "9        6.155025e+05                    2.880798e+06   \n",
       "10       4.997458e+03                    1.004380e+06   \n",
       "11       3.906504e+05                    5.572861e+06   \n",
       "12       4.630093e+03                    4.022368e+05   \n",
       "13       6.138083e+04                    5.719657e+05   \n",
       "14       1.283583e+03                    3.240424e+05   \n",
       "15       7.363966e+05                    3.266722e+06   \n",
       "16       3.187667e+03                    1.595968e+05   \n",
       "17       4.404333e+03                    9.521684e+04   \n",
       "18       7.300000e+01                    1.130691e+05   \n",
       "19       5.998843e+03                    5.479056e+04   \n",
       "20       2.239579e+05                    1.544714e+06   \n",
       "21       8.231358e+04                    1.714153e+06   \n",
       "22       5.603358e+04                    6.205035e+05   \n",
       "23       2.199429e+04                    1.743417e+06   \n",
       "24       1.183817e+04                    2.412964e+05   \n",
       "25       1.797929e+04                    4.017215e+05   \n",
       "\n",
       "    solar_power_intensity_[GWh_per_km2]  \\\n",
       "0                              0.612591   \n",
       "1                              4.512462   \n",
       "2                              0.462691   \n",
       "3                              1.116195   \n",
       "4                              0.875427   \n",
       "5                              3.842070   \n",
       "6                              0.889222   \n",
       "7                              0.120346   \n",
       "8                              1.136254   \n",
       "9                              1.216449   \n",
       "10                             0.014767   \n",
       "11                             0.611849   \n",
       "12                             0.081812   \n",
       "13                             0.659924   \n",
       "14                             0.018351   \n",
       "15                             2.437762   \n",
       "16                             0.048828   \n",
       "17                             1.697238   \n",
       "18                             0.001130   \n",
       "19                            18.983679   \n",
       "20                             5.991704   \n",
       "21                             0.263886   \n",
       "22                             0.607562   \n",
       "23                             0.049158   \n",
       "24                             0.583938   \n",
       "25                             0.366662   \n",
       "\n",
       "    solar_power_intensity_[GWh_per_1000_capita]  \\\n",
       "0                                      5.643510   \n",
       "1                                     11.784559   \n",
       "2                                      7.965131   \n",
       "3                                     11.217701   \n",
       "4                                      6.376878   \n",
       "5                                     16.285254   \n",
       "6                                      6.433862   \n",
       "7                                      3.994475   \n",
       "8                                     14.368935   \n",
       "9                                     12.800206   \n",
       "10                                     0.898182   \n",
       "11                                     5.730282   \n",
       "12                                     1.202342   \n",
       "13                                     6.394007   \n",
       "14                                     0.243500   \n",
       "15                                    12.481891   \n",
       "16                                     1.115630   \n",
       "17                                     6.665063   \n",
       "18                                     0.038768   \n",
       "19                                    11.066934   \n",
       "20                                    12.573929   \n",
       "21                                     2.239598   \n",
       "22                                     5.353169   \n",
       "23                                     2.090403   \n",
       "24                                     5.592028   \n",
       "25                                     3.311840   \n",
       "\n",
       "    solar_share_in_total_electricity_[%]  \n",
       "0                               5.440545  \n",
       "1                              13.777871  \n",
       "2                               4.069314  \n",
       "3                               7.078498  \n",
       "4                               7.451161  \n",
       "5                              21.897249  \n",
       "6                               7.193106  \n",
       "7                               3.573629  \n",
       "8                              25.520206  \n",
       "9                              21.365696  \n",
       "10                              0.497566  \n",
       "11                              7.009871  \n",
       "12                              1.151086  \n",
       "13                             10.731558  \n",
       "14                              0.396116  \n",
       "15                             22.542371  \n",
       "16                              1.997325  \n",
       "17                              4.625582  \n",
       "18                              0.064562  \n",
       "19                             10.948680  \n",
       "20                             14.498338  \n",
       "21                              4.801997  \n",
       "22                              9.030341  \n",
       "23                              1.261562  \n",
       "24                              4.906068  \n",
       "25                              4.475561  "
      ]
     },
     "execution_count": 28,
     "metadata": {},
     "output_type": "execute_result"
    }
   ],
   "source": [
    "df_countries"
   ]
  },
  {
   "cell_type": "code",
   "execution_count": 50,
   "metadata": {},
   "outputs": [
    {
     "data": {
      "application/vnd.plotly.v1+json": {
       "config": {
        "plotlyServerURL": "https://plot.ly"
       },
       "data": [
        {
         "type": "bar",
         "x": [
          "AT",
          "BE",
          "BG",
          "CY",
          "CZ",
          "DE",
          "DK",
          "EE",
          "EL",
          "ES",
          "FI",
          "FR",
          "HR",
          "HU",
          "IE",
          "IT",
          "LT",
          "LU",
          "LV",
          "MT",
          "NL",
          "PL",
          "PT",
          "SE",
          "SI",
          "SK"
         ],
         "xaxis": "x",
         "y": [
          0.6125906077875009,
          4.512461821067162,
          0.46269101455774847,
          1.1161945475141195,
          0.8754273856466043,
          3.8420703416683213,
          0.8892224810716366,
          0.12034563224222104,
          1.1362539928419921,
          1.2164490539537232,
          0.01476742284776007,
          0.6118491326990094,
          0.0818124287484997,
          0.6599238091142361,
          0.018350798938243717,
          2.4377617278923727,
          0.04882768621203766,
          1.6972382787411688,
          0.001130275911188183,
          18.98367909048289,
          5.991704121854211,
          0.2638864844878733,
          0.6075615962064617,
          0.04915760367496305,
          0.5839375852940693,
          0.3666624180007478
         ],
         "yaxis": "y"
        },
        {
         "type": "bar",
         "x": [
          "AT",
          "BE",
          "BG",
          "CY",
          "CZ",
          "DE",
          "DK",
          "EE",
          "EL",
          "ES",
          "FI",
          "FR",
          "HR",
          "HU",
          "IE",
          "IT",
          "LT",
          "LU",
          "LV",
          "MT",
          "NL",
          "PL",
          "PT",
          "SE",
          "SI",
          "SK"
         ],
         "xaxis": "x2",
         "y": [
          5.643510348199823,
          11.78455852138338,
          7.965130542758879,
          11.217700586996374,
          6.376878171680106,
          16.285254379668192,
          6.433861641012606,
          3.994475067672901,
          14.368935276951056,
          12.800206317816075,
          0.8981821133710881,
          5.730281882805266,
          1.2023422593799238,
          6.394007312417219,
          0.24349974405889394,
          12.481890878179119,
          1.1156301735555634,
          6.665062572291438,
          0.038767758819930664,
          11.066933909526213,
          12.573929462309424,
          2.239597719625927,
          5.353169396516118,
          2.090402946737789,
          5.59202798462458,
          3.3118402154045814
         ],
         "yaxis": "y2"
        },
        {
         "type": "bar",
         "x": [
          "AT",
          "BE",
          "BG",
          "CY",
          "CZ",
          "DE",
          "DK",
          "EE",
          "EL",
          "ES",
          "FI",
          "FR",
          "HR",
          "HU",
          "IE",
          "IT",
          "LT",
          "LU",
          "LV",
          "MT",
          "NL",
          "PL",
          "PT",
          "SE",
          "SI",
          "SK"
         ],
         "xaxis": "x3",
         "y": [
          5.44054466637896,
          13.777871096431369,
          4.069314381046999,
          7.078498135408704,
          7.451161248709587,
          21.897248966051315,
          7.193106295982177,
          3.573629025117322,
          25.520205824379737,
          21.365696054847458,
          0.497566343020292,
          7.009871062975205,
          1.151086390293905,
          10.731558396155341,
          0.3961158122486143,
          22.54237117169684,
          1.9973254643114657,
          4.625582323971782,
          0.06456230694957511,
          10.948679990130767,
          14.498338497307284,
          4.801997312902004,
          9.030340512758507,
          1.2615620022683467,
          4.906067876516339,
          4.475560833227121
         ],
         "yaxis": "y3"
        }
       ],
       "layout": {
        "annotations": [
         {
          "font": {
           "size": 16
          },
          "showarrow": false,
          "text": "Average Annual Solar Net Electricity Production",
          "x": 0.5,
          "xanchor": "center",
          "xref": "paper",
          "y": 1,
          "yanchor": "bottom",
          "yref": "paper"
         }
        ],
        "height": 800,
        "showlegend": false,
        "template": {
         "data": {
          "bar": [
           {
            "error_x": {
             "color": "#2a3f5f"
            },
            "error_y": {
             "color": "#2a3f5f"
            },
            "marker": {
             "line": {
              "color": "#E5ECF6",
              "width": 0.5
             },
             "pattern": {
              "fillmode": "overlay",
              "size": 10,
              "solidity": 0.2
             }
            },
            "type": "bar"
           }
          ],
          "barpolar": [
           {
            "marker": {
             "line": {
              "color": "#E5ECF6",
              "width": 0.5
             },
             "pattern": {
              "fillmode": "overlay",
              "size": 10,
              "solidity": 0.2
             }
            },
            "type": "barpolar"
           }
          ],
          "carpet": [
           {
            "aaxis": {
             "endlinecolor": "#2a3f5f",
             "gridcolor": "white",
             "linecolor": "white",
             "minorgridcolor": "white",
             "startlinecolor": "#2a3f5f"
            },
            "baxis": {
             "endlinecolor": "#2a3f5f",
             "gridcolor": "white",
             "linecolor": "white",
             "minorgridcolor": "white",
             "startlinecolor": "#2a3f5f"
            },
            "type": "carpet"
           }
          ],
          "choropleth": [
           {
            "colorbar": {
             "outlinewidth": 0,
             "ticks": ""
            },
            "type": "choropleth"
           }
          ],
          "contour": [
           {
            "colorbar": {
             "outlinewidth": 0,
             "ticks": ""
            },
            "colorscale": [
             [
              0,
              "#0d0887"
             ],
             [
              0.1111111111111111,
              "#46039f"
             ],
             [
              0.2222222222222222,
              "#7201a8"
             ],
             [
              0.3333333333333333,
              "#9c179e"
             ],
             [
              0.4444444444444444,
              "#bd3786"
             ],
             [
              0.5555555555555556,
              "#d8576b"
             ],
             [
              0.6666666666666666,
              "#ed7953"
             ],
             [
              0.7777777777777778,
              "#fb9f3a"
             ],
             [
              0.8888888888888888,
              "#fdca26"
             ],
             [
              1,
              "#f0f921"
             ]
            ],
            "type": "contour"
           }
          ],
          "contourcarpet": [
           {
            "colorbar": {
             "outlinewidth": 0,
             "ticks": ""
            },
            "type": "contourcarpet"
           }
          ],
          "heatmap": [
           {
            "colorbar": {
             "outlinewidth": 0,
             "ticks": ""
            },
            "colorscale": [
             [
              0,
              "#0d0887"
             ],
             [
              0.1111111111111111,
              "#46039f"
             ],
             [
              0.2222222222222222,
              "#7201a8"
             ],
             [
              0.3333333333333333,
              "#9c179e"
             ],
             [
              0.4444444444444444,
              "#bd3786"
             ],
             [
              0.5555555555555556,
              "#d8576b"
             ],
             [
              0.6666666666666666,
              "#ed7953"
             ],
             [
              0.7777777777777778,
              "#fb9f3a"
             ],
             [
              0.8888888888888888,
              "#fdca26"
             ],
             [
              1,
              "#f0f921"
             ]
            ],
            "type": "heatmap"
           }
          ],
          "heatmapgl": [
           {
            "colorbar": {
             "outlinewidth": 0,
             "ticks": ""
            },
            "colorscale": [
             [
              0,
              "#0d0887"
             ],
             [
              0.1111111111111111,
              "#46039f"
             ],
             [
              0.2222222222222222,
              "#7201a8"
             ],
             [
              0.3333333333333333,
              "#9c179e"
             ],
             [
              0.4444444444444444,
              "#bd3786"
             ],
             [
              0.5555555555555556,
              "#d8576b"
             ],
             [
              0.6666666666666666,
              "#ed7953"
             ],
             [
              0.7777777777777778,
              "#fb9f3a"
             ],
             [
              0.8888888888888888,
              "#fdca26"
             ],
             [
              1,
              "#f0f921"
             ]
            ],
            "type": "heatmapgl"
           }
          ],
          "histogram": [
           {
            "marker": {
             "pattern": {
              "fillmode": "overlay",
              "size": 10,
              "solidity": 0.2
             }
            },
            "type": "histogram"
           }
          ],
          "histogram2d": [
           {
            "colorbar": {
             "outlinewidth": 0,
             "ticks": ""
            },
            "colorscale": [
             [
              0,
              "#0d0887"
             ],
             [
              0.1111111111111111,
              "#46039f"
             ],
             [
              0.2222222222222222,
              "#7201a8"
             ],
             [
              0.3333333333333333,
              "#9c179e"
             ],
             [
              0.4444444444444444,
              "#bd3786"
             ],
             [
              0.5555555555555556,
              "#d8576b"
             ],
             [
              0.6666666666666666,
              "#ed7953"
             ],
             [
              0.7777777777777778,
              "#fb9f3a"
             ],
             [
              0.8888888888888888,
              "#fdca26"
             ],
             [
              1,
              "#f0f921"
             ]
            ],
            "type": "histogram2d"
           }
          ],
          "histogram2dcontour": [
           {
            "colorbar": {
             "outlinewidth": 0,
             "ticks": ""
            },
            "colorscale": [
             [
              0,
              "#0d0887"
             ],
             [
              0.1111111111111111,
              "#46039f"
             ],
             [
              0.2222222222222222,
              "#7201a8"
             ],
             [
              0.3333333333333333,
              "#9c179e"
             ],
             [
              0.4444444444444444,
              "#bd3786"
             ],
             [
              0.5555555555555556,
              "#d8576b"
             ],
             [
              0.6666666666666666,
              "#ed7953"
             ],
             [
              0.7777777777777778,
              "#fb9f3a"
             ],
             [
              0.8888888888888888,
              "#fdca26"
             ],
             [
              1,
              "#f0f921"
             ]
            ],
            "type": "histogram2dcontour"
           }
          ],
          "mesh3d": [
           {
            "colorbar": {
             "outlinewidth": 0,
             "ticks": ""
            },
            "type": "mesh3d"
           }
          ],
          "parcoords": [
           {
            "line": {
             "colorbar": {
              "outlinewidth": 0,
              "ticks": ""
             }
            },
            "type": "parcoords"
           }
          ],
          "pie": [
           {
            "automargin": true,
            "type": "pie"
           }
          ],
          "scatter": [
           {
            "fillpattern": {
             "fillmode": "overlay",
             "size": 10,
             "solidity": 0.2
            },
            "type": "scatter"
           }
          ],
          "scatter3d": [
           {
            "line": {
             "colorbar": {
              "outlinewidth": 0,
              "ticks": ""
             }
            },
            "marker": {
             "colorbar": {
              "outlinewidth": 0,
              "ticks": ""
             }
            },
            "type": "scatter3d"
           }
          ],
          "scattercarpet": [
           {
            "marker": {
             "colorbar": {
              "outlinewidth": 0,
              "ticks": ""
             }
            },
            "type": "scattercarpet"
           }
          ],
          "scattergeo": [
           {
            "marker": {
             "colorbar": {
              "outlinewidth": 0,
              "ticks": ""
             }
            },
            "type": "scattergeo"
           }
          ],
          "scattergl": [
           {
            "marker": {
             "colorbar": {
              "outlinewidth": 0,
              "ticks": ""
             }
            },
            "type": "scattergl"
           }
          ],
          "scattermapbox": [
           {
            "marker": {
             "colorbar": {
              "outlinewidth": 0,
              "ticks": ""
             }
            },
            "type": "scattermapbox"
           }
          ],
          "scatterpolar": [
           {
            "marker": {
             "colorbar": {
              "outlinewidth": 0,
              "ticks": ""
             }
            },
            "type": "scatterpolar"
           }
          ],
          "scatterpolargl": [
           {
            "marker": {
             "colorbar": {
              "outlinewidth": 0,
              "ticks": ""
             }
            },
            "type": "scatterpolargl"
           }
          ],
          "scatterternary": [
           {
            "marker": {
             "colorbar": {
              "outlinewidth": 0,
              "ticks": ""
             }
            },
            "type": "scatterternary"
           }
          ],
          "surface": [
           {
            "colorbar": {
             "outlinewidth": 0,
             "ticks": ""
            },
            "colorscale": [
             [
              0,
              "#0d0887"
             ],
             [
              0.1111111111111111,
              "#46039f"
             ],
             [
              0.2222222222222222,
              "#7201a8"
             ],
             [
              0.3333333333333333,
              "#9c179e"
             ],
             [
              0.4444444444444444,
              "#bd3786"
             ],
             [
              0.5555555555555556,
              "#d8576b"
             ],
             [
              0.6666666666666666,
              "#ed7953"
             ],
             [
              0.7777777777777778,
              "#fb9f3a"
             ],
             [
              0.8888888888888888,
              "#fdca26"
             ],
             [
              1,
              "#f0f921"
             ]
            ],
            "type": "surface"
           }
          ],
          "table": [
           {
            "cells": {
             "fill": {
              "color": "#EBF0F8"
             },
             "line": {
              "color": "white"
             }
            },
            "header": {
             "fill": {
              "color": "#C8D4E3"
             },
             "line": {
              "color": "white"
             }
            },
            "type": "table"
           }
          ]
         },
         "layout": {
          "annotationdefaults": {
           "arrowcolor": "#2a3f5f",
           "arrowhead": 0,
           "arrowwidth": 1
          },
          "autotypenumbers": "strict",
          "coloraxis": {
           "colorbar": {
            "outlinewidth": 0,
            "ticks": ""
           }
          },
          "colorscale": {
           "diverging": [
            [
             0,
             "#8e0152"
            ],
            [
             0.1,
             "#c51b7d"
            ],
            [
             0.2,
             "#de77ae"
            ],
            [
             0.3,
             "#f1b6da"
            ],
            [
             0.4,
             "#fde0ef"
            ],
            [
             0.5,
             "#f7f7f7"
            ],
            [
             0.6,
             "#e6f5d0"
            ],
            [
             0.7,
             "#b8e186"
            ],
            [
             0.8,
             "#7fbc41"
            ],
            [
             0.9,
             "#4d9221"
            ],
            [
             1,
             "#276419"
            ]
           ],
           "sequential": [
            [
             0,
             "#0d0887"
            ],
            [
             0.1111111111111111,
             "#46039f"
            ],
            [
             0.2222222222222222,
             "#7201a8"
            ],
            [
             0.3333333333333333,
             "#9c179e"
            ],
            [
             0.4444444444444444,
             "#bd3786"
            ],
            [
             0.5555555555555556,
             "#d8576b"
            ],
            [
             0.6666666666666666,
             "#ed7953"
            ],
            [
             0.7777777777777778,
             "#fb9f3a"
            ],
            [
             0.8888888888888888,
             "#fdca26"
            ],
            [
             1,
             "#f0f921"
            ]
           ],
           "sequentialminus": [
            [
             0,
             "#0d0887"
            ],
            [
             0.1111111111111111,
             "#46039f"
            ],
            [
             0.2222222222222222,
             "#7201a8"
            ],
            [
             0.3333333333333333,
             "#9c179e"
            ],
            [
             0.4444444444444444,
             "#bd3786"
            ],
            [
             0.5555555555555556,
             "#d8576b"
            ],
            [
             0.6666666666666666,
             "#ed7953"
            ],
            [
             0.7777777777777778,
             "#fb9f3a"
            ],
            [
             0.8888888888888888,
             "#fdca26"
            ],
            [
             1,
             "#f0f921"
            ]
           ]
          },
          "colorway": [
           "#636efa",
           "#EF553B",
           "#00cc96",
           "#ab63fa",
           "#FFA15A",
           "#19d3f3",
           "#FF6692",
           "#B6E880",
           "#FF97FF",
           "#FECB52"
          ],
          "font": {
           "color": "#2a3f5f"
          },
          "geo": {
           "bgcolor": "white",
           "lakecolor": "white",
           "landcolor": "#E5ECF6",
           "showlakes": true,
           "showland": true,
           "subunitcolor": "white"
          },
          "hoverlabel": {
           "align": "left"
          },
          "hovermode": "closest",
          "mapbox": {
           "style": "light"
          },
          "paper_bgcolor": "white",
          "plot_bgcolor": "#E5ECF6",
          "polar": {
           "angularaxis": {
            "gridcolor": "white",
            "linecolor": "white",
            "ticks": ""
           },
           "bgcolor": "#E5ECF6",
           "radialaxis": {
            "gridcolor": "white",
            "linecolor": "white",
            "ticks": ""
           }
          },
          "scene": {
           "xaxis": {
            "backgroundcolor": "#E5ECF6",
            "gridcolor": "white",
            "gridwidth": 2,
            "linecolor": "white",
            "showbackground": true,
            "ticks": "",
            "zerolinecolor": "white"
           },
           "yaxis": {
            "backgroundcolor": "#E5ECF6",
            "gridcolor": "white",
            "gridwidth": 2,
            "linecolor": "white",
            "showbackground": true,
            "ticks": "",
            "zerolinecolor": "white"
           },
           "zaxis": {
            "backgroundcolor": "#E5ECF6",
            "gridcolor": "white",
            "gridwidth": 2,
            "linecolor": "white",
            "showbackground": true,
            "ticks": "",
            "zerolinecolor": "white"
           }
          },
          "shapedefaults": {
           "line": {
            "color": "#2a3f5f"
           }
          },
          "ternary": {
           "aaxis": {
            "gridcolor": "white",
            "linecolor": "white",
            "ticks": ""
           },
           "baxis": {
            "gridcolor": "white",
            "linecolor": "white",
            "ticks": ""
           },
           "bgcolor": "#E5ECF6",
           "caxis": {
            "gridcolor": "white",
            "linecolor": "white",
            "ticks": ""
           }
          },
          "title": {
           "x": 0.05
          },
          "xaxis": {
           "automargin": true,
           "gridcolor": "white",
           "linecolor": "white",
           "ticks": "",
           "title": {
            "standoff": 15
           },
           "zerolinecolor": "white",
           "zerolinewidth": 2
          },
          "yaxis": {
           "automargin": true,
           "gridcolor": "white",
           "linecolor": "white",
           "ticks": "",
           "title": {
            "standoff": 15
           },
           "zerolinecolor": "white",
           "zerolinewidth": 2
          }
         }
        },
        "width": 800,
        "xaxis": {
         "anchor": "y",
         "domain": [
          0,
          1
         ]
        },
        "xaxis2": {
         "anchor": "y2",
         "domain": [
          0,
          1
         ]
        },
        "xaxis3": {
         "anchor": "y3",
         "domain": [
          0,
          1
         ],
         "title": {
          "text": "Country Code"
         }
        },
        "yaxis": {
         "anchor": "x",
         "domain": [
          0.7066666666666667,
          1
         ],
         "title": {
          "text": "GWh/km²"
         }
        },
        "yaxis2": {
         "anchor": "x2",
         "domain": [
          0.35333333333333333,
          0.6466666666666667
         ],
         "title": {
          "text": "GWh/1000 People"
         }
        },
        "yaxis3": {
         "anchor": "x3",
         "domain": [
          0,
          0.29333333333333333
         ],
         "title": {
          "text": "Percent in total Electricity"
         }
        }
       }
      }
     },
     "metadata": {},
     "output_type": "display_data"
    }
   ],
   "source": [
    "fig = make_subplots(rows=3, cols=1, vertical_spacing=0.06,\n",
    "                    subplot_titles=('Average Annual Solar Net Electricity Production',\n",
    "                                    '',\n",
    "                                    ''))\n",
    "\n",
    "fig.add_trace(go.Bar(\n",
    "                x=df_countries['country_code'],\n",
    "                y=df_countries['solar_power_intensity_[GWh_per_km2]']),\n",
    "                row=1, col=1\n",
    "                )\n",
    "fig.add_trace(go.Bar(\n",
    "                x=df_countries['country_code'],\n",
    "                y=df_countries['solar_power_intensity_[GWh_per_1000_capita]']),\n",
    "                row=2, col=1\n",
    "                )\n",
    "fig.add_trace(go.Bar(\n",
    "                x=df_countries['country_code'],\n",
    "                y=df_countries['solar_share_in_total_electricity_[%]']),\n",
    "                row=3, col=1\n",
    "                )\n",
    "\n",
    "fig.update_layout(height=800, width=800, showlegend=False)\n",
    "\n",
    "fig.update_xaxes(title_text=\"Country Code\", row=3, col=1)\n",
    "fig.update_yaxes(title_text=\"GWh/km²\", row=1, col=1)\n",
    "fig.update_yaxes(title_text=\"GWh/1000 People\", row=2, col=1)\n",
    "fig.update_yaxes(title_text=\"Percent in total Electricity\", row=3, col=1)\n",
    "\n",
    "fig.show()"
   ]
  },
  {
   "cell_type": "code",
   "execution_count": 40,
   "metadata": {},
   "outputs": [],
   "source": [
    "df_pivot_class = df_countries.pivot_table(index=\"solar_class\", values=[\"solar_power_intensity_[GWh_per_km2]\"], aggfunc=\"mean\")"
   ]
  },
  {
   "cell_type": "code",
   "execution_count": 66,
   "metadata": {},
   "outputs": [
    {
     "data": {
      "application/vnd.plotly.v1+json": {
       "config": {
        "plotlyServerURL": "https://plot.ly"
       },
       "data": [
        {
         "alignmentgroup": "True",
         "hovertemplate": "solar_class=%{x}<br>solar_power_intensity_[GWh_per_km2]=%{y}<extra></extra>",
         "legendgroup": "",
         "marker": {
          "color": "#636efa",
          "pattern": {
           "shape": ""
          }
         },
         "name": "",
         "offsetgroup": "",
         "orientation": "v",
         "showlegend": false,
         "textposition": "auto",
         "type": "bar",
         "x": [
          "1: very low",
          "2: low",
          "3: medium",
          "4: high",
          "5: very high"
         ],
         "xaxis": "x",
         "y": [
          0.24287457663315085,
          1.666576823056276,
          0.48004279408271255,
          1.393859105646942,
          7.105440897316911
         ],
         "yaxis": "y"
        }
       ],
       "layout": {
        "barmode": "relative",
        "height": 500,
        "legend": {
         "tracegroupgap": 0
        },
        "showlegend": false,
        "template": {
         "data": {
          "bar": [
           {
            "error_x": {
             "color": "#2a3f5f"
            },
            "error_y": {
             "color": "#2a3f5f"
            },
            "marker": {
             "line": {
              "color": "#E5ECF6",
              "width": 0.5
             },
             "pattern": {
              "fillmode": "overlay",
              "size": 10,
              "solidity": 0.2
             }
            },
            "type": "bar"
           }
          ],
          "barpolar": [
           {
            "marker": {
             "line": {
              "color": "#E5ECF6",
              "width": 0.5
             },
             "pattern": {
              "fillmode": "overlay",
              "size": 10,
              "solidity": 0.2
             }
            },
            "type": "barpolar"
           }
          ],
          "carpet": [
           {
            "aaxis": {
             "endlinecolor": "#2a3f5f",
             "gridcolor": "white",
             "linecolor": "white",
             "minorgridcolor": "white",
             "startlinecolor": "#2a3f5f"
            },
            "baxis": {
             "endlinecolor": "#2a3f5f",
             "gridcolor": "white",
             "linecolor": "white",
             "minorgridcolor": "white",
             "startlinecolor": "#2a3f5f"
            },
            "type": "carpet"
           }
          ],
          "choropleth": [
           {
            "colorbar": {
             "outlinewidth": 0,
             "ticks": ""
            },
            "type": "choropleth"
           }
          ],
          "contour": [
           {
            "colorbar": {
             "outlinewidth": 0,
             "ticks": ""
            },
            "colorscale": [
             [
              0,
              "#0d0887"
             ],
             [
              0.1111111111111111,
              "#46039f"
             ],
             [
              0.2222222222222222,
              "#7201a8"
             ],
             [
              0.3333333333333333,
              "#9c179e"
             ],
             [
              0.4444444444444444,
              "#bd3786"
             ],
             [
              0.5555555555555556,
              "#d8576b"
             ],
             [
              0.6666666666666666,
              "#ed7953"
             ],
             [
              0.7777777777777778,
              "#fb9f3a"
             ],
             [
              0.8888888888888888,
              "#fdca26"
             ],
             [
              1,
              "#f0f921"
             ]
            ],
            "type": "contour"
           }
          ],
          "contourcarpet": [
           {
            "colorbar": {
             "outlinewidth": 0,
             "ticks": ""
            },
            "type": "contourcarpet"
           }
          ],
          "heatmap": [
           {
            "colorbar": {
             "outlinewidth": 0,
             "ticks": ""
            },
            "colorscale": [
             [
              0,
              "#0d0887"
             ],
             [
              0.1111111111111111,
              "#46039f"
             ],
             [
              0.2222222222222222,
              "#7201a8"
             ],
             [
              0.3333333333333333,
              "#9c179e"
             ],
             [
              0.4444444444444444,
              "#bd3786"
             ],
             [
              0.5555555555555556,
              "#d8576b"
             ],
             [
              0.6666666666666666,
              "#ed7953"
             ],
             [
              0.7777777777777778,
              "#fb9f3a"
             ],
             [
              0.8888888888888888,
              "#fdca26"
             ],
             [
              1,
              "#f0f921"
             ]
            ],
            "type": "heatmap"
           }
          ],
          "heatmapgl": [
           {
            "colorbar": {
             "outlinewidth": 0,
             "ticks": ""
            },
            "colorscale": [
             [
              0,
              "#0d0887"
             ],
             [
              0.1111111111111111,
              "#46039f"
             ],
             [
              0.2222222222222222,
              "#7201a8"
             ],
             [
              0.3333333333333333,
              "#9c179e"
             ],
             [
              0.4444444444444444,
              "#bd3786"
             ],
             [
              0.5555555555555556,
              "#d8576b"
             ],
             [
              0.6666666666666666,
              "#ed7953"
             ],
             [
              0.7777777777777778,
              "#fb9f3a"
             ],
             [
              0.8888888888888888,
              "#fdca26"
             ],
             [
              1,
              "#f0f921"
             ]
            ],
            "type": "heatmapgl"
           }
          ],
          "histogram": [
           {
            "marker": {
             "pattern": {
              "fillmode": "overlay",
              "size": 10,
              "solidity": 0.2
             }
            },
            "type": "histogram"
           }
          ],
          "histogram2d": [
           {
            "colorbar": {
             "outlinewidth": 0,
             "ticks": ""
            },
            "colorscale": [
             [
              0,
              "#0d0887"
             ],
             [
              0.1111111111111111,
              "#46039f"
             ],
             [
              0.2222222222222222,
              "#7201a8"
             ],
             [
              0.3333333333333333,
              "#9c179e"
             ],
             [
              0.4444444444444444,
              "#bd3786"
             ],
             [
              0.5555555555555556,
              "#d8576b"
             ],
             [
              0.6666666666666666,
              "#ed7953"
             ],
             [
              0.7777777777777778,
              "#fb9f3a"
             ],
             [
              0.8888888888888888,
              "#fdca26"
             ],
             [
              1,
              "#f0f921"
             ]
            ],
            "type": "histogram2d"
           }
          ],
          "histogram2dcontour": [
           {
            "colorbar": {
             "outlinewidth": 0,
             "ticks": ""
            },
            "colorscale": [
             [
              0,
              "#0d0887"
             ],
             [
              0.1111111111111111,
              "#46039f"
             ],
             [
              0.2222222222222222,
              "#7201a8"
             ],
             [
              0.3333333333333333,
              "#9c179e"
             ],
             [
              0.4444444444444444,
              "#bd3786"
             ],
             [
              0.5555555555555556,
              "#d8576b"
             ],
             [
              0.6666666666666666,
              "#ed7953"
             ],
             [
              0.7777777777777778,
              "#fb9f3a"
             ],
             [
              0.8888888888888888,
              "#fdca26"
             ],
             [
              1,
              "#f0f921"
             ]
            ],
            "type": "histogram2dcontour"
           }
          ],
          "mesh3d": [
           {
            "colorbar": {
             "outlinewidth": 0,
             "ticks": ""
            },
            "type": "mesh3d"
           }
          ],
          "parcoords": [
           {
            "line": {
             "colorbar": {
              "outlinewidth": 0,
              "ticks": ""
             }
            },
            "type": "parcoords"
           }
          ],
          "pie": [
           {
            "automargin": true,
            "type": "pie"
           }
          ],
          "scatter": [
           {
            "fillpattern": {
             "fillmode": "overlay",
             "size": 10,
             "solidity": 0.2
            },
            "type": "scatter"
           }
          ],
          "scatter3d": [
           {
            "line": {
             "colorbar": {
              "outlinewidth": 0,
              "ticks": ""
             }
            },
            "marker": {
             "colorbar": {
              "outlinewidth": 0,
              "ticks": ""
             }
            },
            "type": "scatter3d"
           }
          ],
          "scattercarpet": [
           {
            "marker": {
             "colorbar": {
              "outlinewidth": 0,
              "ticks": ""
             }
            },
            "type": "scattercarpet"
           }
          ],
          "scattergeo": [
           {
            "marker": {
             "colorbar": {
              "outlinewidth": 0,
              "ticks": ""
             }
            },
            "type": "scattergeo"
           }
          ],
          "scattergl": [
           {
            "marker": {
             "colorbar": {
              "outlinewidth": 0,
              "ticks": ""
             }
            },
            "type": "scattergl"
           }
          ],
          "scattermapbox": [
           {
            "marker": {
             "colorbar": {
              "outlinewidth": 0,
              "ticks": ""
             }
            },
            "type": "scattermapbox"
           }
          ],
          "scatterpolar": [
           {
            "marker": {
             "colorbar": {
              "outlinewidth": 0,
              "ticks": ""
             }
            },
            "type": "scatterpolar"
           }
          ],
          "scatterpolargl": [
           {
            "marker": {
             "colorbar": {
              "outlinewidth": 0,
              "ticks": ""
             }
            },
            "type": "scatterpolargl"
           }
          ],
          "scatterternary": [
           {
            "marker": {
             "colorbar": {
              "outlinewidth": 0,
              "ticks": ""
             }
            },
            "type": "scatterternary"
           }
          ],
          "surface": [
           {
            "colorbar": {
             "outlinewidth": 0,
             "ticks": ""
            },
            "colorscale": [
             [
              0,
              "#0d0887"
             ],
             [
              0.1111111111111111,
              "#46039f"
             ],
             [
              0.2222222222222222,
              "#7201a8"
             ],
             [
              0.3333333333333333,
              "#9c179e"
             ],
             [
              0.4444444444444444,
              "#bd3786"
             ],
             [
              0.5555555555555556,
              "#d8576b"
             ],
             [
              0.6666666666666666,
              "#ed7953"
             ],
             [
              0.7777777777777778,
              "#fb9f3a"
             ],
             [
              0.8888888888888888,
              "#fdca26"
             ],
             [
              1,
              "#f0f921"
             ]
            ],
            "type": "surface"
           }
          ],
          "table": [
           {
            "cells": {
             "fill": {
              "color": "#EBF0F8"
             },
             "line": {
              "color": "white"
             }
            },
            "header": {
             "fill": {
              "color": "#C8D4E3"
             },
             "line": {
              "color": "white"
             }
            },
            "type": "table"
           }
          ]
         },
         "layout": {
          "annotationdefaults": {
           "arrowcolor": "#2a3f5f",
           "arrowhead": 0,
           "arrowwidth": 1
          },
          "autotypenumbers": "strict",
          "coloraxis": {
           "colorbar": {
            "outlinewidth": 0,
            "ticks": ""
           }
          },
          "colorscale": {
           "diverging": [
            [
             0,
             "#8e0152"
            ],
            [
             0.1,
             "#c51b7d"
            ],
            [
             0.2,
             "#de77ae"
            ],
            [
             0.3,
             "#f1b6da"
            ],
            [
             0.4,
             "#fde0ef"
            ],
            [
             0.5,
             "#f7f7f7"
            ],
            [
             0.6,
             "#e6f5d0"
            ],
            [
             0.7,
             "#b8e186"
            ],
            [
             0.8,
             "#7fbc41"
            ],
            [
             0.9,
             "#4d9221"
            ],
            [
             1,
             "#276419"
            ]
           ],
           "sequential": [
            [
             0,
             "#0d0887"
            ],
            [
             0.1111111111111111,
             "#46039f"
            ],
            [
             0.2222222222222222,
             "#7201a8"
            ],
            [
             0.3333333333333333,
             "#9c179e"
            ],
            [
             0.4444444444444444,
             "#bd3786"
            ],
            [
             0.5555555555555556,
             "#d8576b"
            ],
            [
             0.6666666666666666,
             "#ed7953"
            ],
            [
             0.7777777777777778,
             "#fb9f3a"
            ],
            [
             0.8888888888888888,
             "#fdca26"
            ],
            [
             1,
             "#f0f921"
            ]
           ],
           "sequentialminus": [
            [
             0,
             "#0d0887"
            ],
            [
             0.1111111111111111,
             "#46039f"
            ],
            [
             0.2222222222222222,
             "#7201a8"
            ],
            [
             0.3333333333333333,
             "#9c179e"
            ],
            [
             0.4444444444444444,
             "#bd3786"
            ],
            [
             0.5555555555555556,
             "#d8576b"
            ],
            [
             0.6666666666666666,
             "#ed7953"
            ],
            [
             0.7777777777777778,
             "#fb9f3a"
            ],
            [
             0.8888888888888888,
             "#fdca26"
            ],
            [
             1,
             "#f0f921"
            ]
           ]
          },
          "colorway": [
           "#636efa",
           "#EF553B",
           "#00cc96",
           "#ab63fa",
           "#FFA15A",
           "#19d3f3",
           "#FF6692",
           "#B6E880",
           "#FF97FF",
           "#FECB52"
          ],
          "font": {
           "color": "#2a3f5f"
          },
          "geo": {
           "bgcolor": "white",
           "lakecolor": "white",
           "landcolor": "#E5ECF6",
           "showlakes": true,
           "showland": true,
           "subunitcolor": "white"
          },
          "hoverlabel": {
           "align": "left"
          },
          "hovermode": "closest",
          "mapbox": {
           "style": "light"
          },
          "paper_bgcolor": "white",
          "plot_bgcolor": "#E5ECF6",
          "polar": {
           "angularaxis": {
            "gridcolor": "white",
            "linecolor": "white",
            "ticks": ""
           },
           "bgcolor": "#E5ECF6",
           "radialaxis": {
            "gridcolor": "white",
            "linecolor": "white",
            "ticks": ""
           }
          },
          "scene": {
           "xaxis": {
            "backgroundcolor": "#E5ECF6",
            "gridcolor": "white",
            "gridwidth": 2,
            "linecolor": "white",
            "showbackground": true,
            "ticks": "",
            "zerolinecolor": "white"
           },
           "yaxis": {
            "backgroundcolor": "#E5ECF6",
            "gridcolor": "white",
            "gridwidth": 2,
            "linecolor": "white",
            "showbackground": true,
            "ticks": "",
            "zerolinecolor": "white"
           },
           "zaxis": {
            "backgroundcolor": "#E5ECF6",
            "gridcolor": "white",
            "gridwidth": 2,
            "linecolor": "white",
            "showbackground": true,
            "ticks": "",
            "zerolinecolor": "white"
           }
          },
          "shapedefaults": {
           "line": {
            "color": "#2a3f5f"
           }
          },
          "ternary": {
           "aaxis": {
            "gridcolor": "white",
            "linecolor": "white",
            "ticks": ""
           },
           "baxis": {
            "gridcolor": "white",
            "linecolor": "white",
            "ticks": ""
           },
           "bgcolor": "#E5ECF6",
           "caxis": {
            "gridcolor": "white",
            "linecolor": "white",
            "ticks": ""
           }
          },
          "title": {
           "x": 0.05
          },
          "xaxis": {
           "automargin": true,
           "gridcolor": "white",
           "linecolor": "white",
           "ticks": "",
           "title": {
            "standoff": 15
           },
           "zerolinecolor": "white",
           "zerolinewidth": 2
          },
          "yaxis": {
           "automargin": true,
           "gridcolor": "white",
           "linecolor": "white",
           "ticks": "",
           "title": {
            "standoff": 15
           },
           "zerolinecolor": "white",
           "zerolinewidth": 2
          }
         }
        },
        "title": {
         "text": "Average Annual Solar Net Electricity Production",
         "x": 0.5,
         "xanchor": "center",
         "y": 0.85,
         "yanchor": "top"
        },
        "width": 800,
        "xaxis": {
         "anchor": "y",
         "domain": [
          0,
          1
         ],
         "title": {
          "text": "Solar Radiation Category"
         }
        },
        "yaxis": {
         "anchor": "x",
         "domain": [
          0,
          1
         ],
         "title": {
          "text": "GWh/km²"
         }
        }
       }
      }
     },
     "metadata": {},
     "output_type": "display_data"
    }
   ],
   "source": [
    "fig = px.bar(df_pivot_class, x=df_pivot_class.index, y=\"solar_power_intensity_[GWh_per_km2]\",\n",
    "             title='Average Annual Solar Net Electricity Production')\n",
    "\n",
    "fig.update_layout(height=500, width=800, showlegend=False,\n",
    "                  title={'y': 0.85, 'x': 0.5, 'xanchor': 'center', 'yanchor': 'top'})\n",
    "\n",
    "fig.update_xaxes(title_text=\"Solar Radiation Category\")\n",
    "fig.update_yaxes(title_text=\"GWh/km²\")\n",
    "\n",
    "fig.show()"
   ]
  },
  {
   "cell_type": "code",
   "execution_count": null,
   "metadata": {},
   "outputs": [],
   "source": []
  }
 ],
 "metadata": {
  "kernelspec": {
   "display_name": "eu_renewables",
   "language": "python",
   "name": "python3"
  },
  "language_info": {
   "codemirror_mode": {
    "name": "ipython",
    "version": 3
   },
   "file_extension": ".py",
   "mimetype": "text/x-python",
   "name": "python",
   "nbconvert_exporter": "python",
   "pygments_lexer": "ipython3",
   "version": "3.11.7"
  }
 },
 "nbformat": 4,
 "nbformat_minor": 2
}
