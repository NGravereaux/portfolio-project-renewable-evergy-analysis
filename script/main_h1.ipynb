{
 "cells": [
  {
   "cell_type": "code",
   "execution_count": 1,
   "metadata": {},
   "outputs": [],
   "source": [
    "import pandas as pd\n",
    "import numpy as np\n",
    "import seaborn as sns\n",
    "import re\n",
    "import plotly.express as px\n",
    "from scipy.stats import pearsonr\n",
    "\n",
    "\n",
    "from functions_h1 import *"
   ]
  },
  {
   "cell_type": "markdown",
   "metadata": {},
   "source": [
    "# Hypotesis 1"
   ]
  },
  {
   "cell_type": "markdown",
   "metadata": {},
   "source": [
    "# H1 : Initial data cheking EDA 1st Dataset : Global_electricity_production"
   ]
  },
  {
   "cell_type": "code",
   "execution_count": 2,
   "metadata": {},
   "outputs": [
    {
     "data": {
      "text/html": [
       "<div>\n",
       "<style scoped>\n",
       "    .dataframe tbody tr th:only-of-type {\n",
       "        vertical-align: middle;\n",
       "    }\n",
       "\n",
       "    .dataframe tbody tr th {\n",
       "        vertical-align: top;\n",
       "    }\n",
       "\n",
       "    .dataframe thead th {\n",
       "        text-align: right;\n",
       "    }\n",
       "</style>\n",
       "<table border=\"1\" class=\"dataframe\">\n",
       "  <thead>\n",
       "    <tr style=\"text-align: right;\">\n",
       "      <th></th>\n",
       "      <th>country_name</th>\n",
       "      <th>date</th>\n",
       "      <th>parameter</th>\n",
       "      <th>product</th>\n",
       "      <th>value</th>\n",
       "      <th>unit</th>\n",
       "    </tr>\n",
       "  </thead>\n",
       "  <tbody>\n",
       "    <tr>\n",
       "      <th>0</th>\n",
       "      <td>Australia</td>\n",
       "      <td>12/1/2023</td>\n",
       "      <td>Net Electricity Production</td>\n",
       "      <td>Electricity</td>\n",
       "      <td>22646.1901</td>\n",
       "      <td>GWh</td>\n",
       "    </tr>\n",
       "    <tr>\n",
       "      <th>1</th>\n",
       "      <td>Australia</td>\n",
       "      <td>12/1/2023</td>\n",
       "      <td>Net Electricity Production</td>\n",
       "      <td>Total Combustible Fuels</td>\n",
       "      <td>13397.9356</td>\n",
       "      <td>GWh</td>\n",
       "    </tr>\n",
       "    <tr>\n",
       "      <th>2</th>\n",
       "      <td>Australia</td>\n",
       "      <td>12/1/2023</td>\n",
       "      <td>Net Electricity Production</td>\n",
       "      <td>Coal, Peat and Manufactured Gases</td>\n",
       "      <td>9768.5223</td>\n",
       "      <td>GWh</td>\n",
       "    </tr>\n",
       "    <tr>\n",
       "      <th>3</th>\n",
       "      <td>Australia</td>\n",
       "      <td>12/1/2023</td>\n",
       "      <td>Net Electricity Production</td>\n",
       "      <td>Oil and Petroleum Products</td>\n",
       "      <td>289.5415</td>\n",
       "      <td>GWh</td>\n",
       "    </tr>\n",
       "    <tr>\n",
       "      <th>4</th>\n",
       "      <td>Australia</td>\n",
       "      <td>12/1/2023</td>\n",
       "      <td>Net Electricity Production</td>\n",
       "      <td>Natural Gas</td>\n",
       "      <td>3091.9272</td>\n",
       "      <td>GWh</td>\n",
       "    </tr>\n",
       "  </tbody>\n",
       "</table>\n",
       "</div>"
      ],
      "text/plain": [
       "  country_name       date                   parameter  \\\n",
       "0    Australia  12/1/2023  Net Electricity Production   \n",
       "1    Australia  12/1/2023  Net Electricity Production   \n",
       "2    Australia  12/1/2023  Net Electricity Production   \n",
       "3    Australia  12/1/2023  Net Electricity Production   \n",
       "4    Australia  12/1/2023  Net Electricity Production   \n",
       "\n",
       "                             product       value unit  \n",
       "0                        Electricity  22646.1901  GWh  \n",
       "1            Total Combustible Fuels  13397.9356  GWh  \n",
       "2  Coal, Peat and Manufactured Gases   9768.5223  GWh  \n",
       "3         Oil and Petroleum Products    289.5415  GWh  \n",
       "4                        Natural Gas   3091.9272  GWh  "
      ]
     },
     "execution_count": 2,
     "metadata": {},
     "output_type": "execute_result"
    }
   ],
   "source": [
    "#load dataset 1        \n",
    "df1 = pd.read_csv('../data/global_electricity_production_data.csv')     \n",
    "df1.head()                       \n"
   ]
  },
  {
   "cell_type": "code",
   "execution_count": 3,
   "metadata": {},
   "outputs": [
    {
     "name": "stdout",
     "output_type": "stream",
     "text": [
      "\n",
      "Shape of the DataFrame:\n",
      "\n",
      "(121074, 6)\n",
      "\n",
      "Duplicate Rows Number:\n",
      "\n",
      "0\n",
      "\n",
      "Summary Statistics:\n",
      "\n",
      "              value\n",
      "count  121060.00000\n",
      "mean     6925.08149\n",
      "std     34224.45546\n",
      "min         0.00000\n",
      "25%        41.19900\n",
      "50%       470.41900\n",
      "75%      2629.71275\n",
      "max    865976.48280\n"
     ]
    }
   ],
   "source": [
    "# H1: Perform initial data cheking:\n",
    "initial_data_checking(df1)"
   ]
  },
  {
   "cell_type": "code",
   "execution_count": 4,
   "metadata": {},
   "outputs": [
    {
     "data": {
      "text/html": [
       "<div>\n",
       "<style scoped>\n",
       "    .dataframe tbody tr th:only-of-type {\n",
       "        vertical-align: middle;\n",
       "    }\n",
       "\n",
       "    .dataframe tbody tr th {\n",
       "        vertical-align: top;\n",
       "    }\n",
       "\n",
       "    .dataframe thead th {\n",
       "        text-align: right;\n",
       "    }\n",
       "</style>\n",
       "<table border=\"1\" class=\"dataframe\">\n",
       "  <thead>\n",
       "    <tr style=\"text-align: right;\">\n",
       "      <th></th>\n",
       "      <th>non-Null_count</th>\n",
       "      <th>dtype</th>\n",
       "      <th>unique_values</th>\n",
       "      <th>%_unique</th>\n",
       "      <th>missing_values</th>\n",
       "      <th>%_missing</th>\n",
       "    </tr>\n",
       "  </thead>\n",
       "  <tbody>\n",
       "    <tr>\n",
       "      <th>country_name</th>\n",
       "      <td>121074</td>\n",
       "      <td>object</td>\n",
       "      <td>48</td>\n",
       "      <td>0.04%</td>\n",
       "      <td>0</td>\n",
       "      <td>0.0%</td>\n",
       "    </tr>\n",
       "    <tr>\n",
       "      <th>date</th>\n",
       "      <td>121074</td>\n",
       "      <td>object</td>\n",
       "      <td>168</td>\n",
       "      <td>0.14%</td>\n",
       "      <td>0</td>\n",
       "      <td>0.0%</td>\n",
       "    </tr>\n",
       "    <tr>\n",
       "      <th>parameter</th>\n",
       "      <td>121074</td>\n",
       "      <td>object</td>\n",
       "      <td>7</td>\n",
       "      <td>0.01%</td>\n",
       "      <td>0</td>\n",
       "      <td>0.0%</td>\n",
       "    </tr>\n",
       "    <tr>\n",
       "      <th>product</th>\n",
       "      <td>121074</td>\n",
       "      <td>object</td>\n",
       "      <td>16</td>\n",
       "      <td>0.01%</td>\n",
       "      <td>0</td>\n",
       "      <td>0.0%</td>\n",
       "    </tr>\n",
       "    <tr>\n",
       "      <th>value</th>\n",
       "      <td>121060</td>\n",
       "      <td>float64</td>\n",
       "      <td>101983</td>\n",
       "      <td>84.23%</td>\n",
       "      <td>14</td>\n",
       "      <td>0.01%</td>\n",
       "    </tr>\n",
       "    <tr>\n",
       "      <th>unit</th>\n",
       "      <td>121074</td>\n",
       "      <td>object</td>\n",
       "      <td>1</td>\n",
       "      <td>0.0%</td>\n",
       "      <td>0</td>\n",
       "      <td>0.0%</td>\n",
       "    </tr>\n",
       "  </tbody>\n",
       "</table>\n",
       "</div>"
      ],
      "text/plain": [
       "              non-Null_count    dtype  unique_values %_unique  missing_values  \\\n",
       "country_name          121074   object             48    0.04%               0   \n",
       "date                  121074   object            168    0.14%               0   \n",
       "parameter             121074   object              7    0.01%               0   \n",
       "product               121074   object             16    0.01%               0   \n",
       "value                 121060  float64         101983   84.23%              14   \n",
       "unit                  121074   object              1     0.0%               0   \n",
       "\n",
       "             %_missing  \n",
       "country_name      0.0%  \n",
       "date              0.0%  \n",
       "parameter         0.0%  \n",
       "product           0.0%  \n",
       "value            0.01%  \n",
       "unit              0.0%  "
      ]
     },
     "execution_count": 4,
     "metadata": {},
     "output_type": "execute_result"
    }
   ],
   "source": [
    "# H1: check unique and missing values:\n",
    "unique_and_missing_values_dtype(df1)"
   ]
  },
  {
   "cell_type": "code",
   "execution_count": 5,
   "metadata": {},
   "outputs": [
    {
     "name": "stdout",
     "output_type": "stream",
     "text": [
      "\n",
      "Categorical Columns:\n",
      "\n",
      "  country_name       date                   parameter  \\\n",
      "0    Australia  12/1/2023  Net Electricity Production   \n",
      "1    Australia  12/1/2023  Net Electricity Production   \n",
      "2    Australia  12/1/2023  Net Electricity Production   \n",
      "3    Australia  12/1/2023  Net Electricity Production   \n",
      "4    Australia  12/1/2023  Net Electricity Production   \n",
      "\n",
      "                             product unit  \n",
      "0                        Electricity  GWh  \n",
      "1            Total Combustible Fuels  GWh  \n",
      "2  Coal, Peat and Manufactured Gases  GWh  \n",
      "3         Oil and Petroleum Products  GWh  \n",
      "4                        Natural Gas  GWh  \n",
      "\n",
      "Numerical Columns:\n",
      "\n",
      "        value\n",
      "0  22646.1901\n",
      "1  13397.9356\n",
      "2   9768.5223\n",
      "3    289.5415\n",
      "4   3091.9272\n"
     ]
    }
   ],
   "source": [
    "# H1: separate categorical and numerical columns for 1st Dataset : Global_electriciy_production:\n",
    "separate_columns_h1(df1)"
   ]
  },
  {
   "cell_type": "code",
   "execution_count": 6,
   "metadata": {},
   "outputs": [
    {
     "data": {
      "text/html": [
       "<div>\n",
       "<style scoped>\n",
       "    .dataframe tbody tr th:only-of-type {\n",
       "        vertical-align: middle;\n",
       "    }\n",
       "\n",
       "    .dataframe tbody tr th {\n",
       "        vertical-align: top;\n",
       "    }\n",
       "\n",
       "    .dataframe thead th {\n",
       "        text-align: right;\n",
       "    }\n",
       "</style>\n",
       "<table border=\"1\" class=\"dataframe\">\n",
       "  <thead>\n",
       "    <tr style=\"text-align: right;\">\n",
       "      <th></th>\n",
       "      <th>country_name</th>\n",
       "      <th>date</th>\n",
       "      <th>parameter</th>\n",
       "      <th>product</th>\n",
       "      <th>unit</th>\n",
       "    </tr>\n",
       "  </thead>\n",
       "  <tbody>\n",
       "    <tr>\n",
       "      <th>count</th>\n",
       "      <td>121074</td>\n",
       "      <td>121074</td>\n",
       "      <td>121074</td>\n",
       "      <td>121074</td>\n",
       "      <td>121074</td>\n",
       "    </tr>\n",
       "    <tr>\n",
       "      <th>unique</th>\n",
       "      <td>48</td>\n",
       "      <td>168</td>\n",
       "      <td>7</td>\n",
       "      <td>16</td>\n",
       "      <td>1</td>\n",
       "    </tr>\n",
       "    <tr>\n",
       "      <th>top</th>\n",
       "      <td>France</td>\n",
       "      <td>3/1/2021</td>\n",
       "      <td>Net Electricity Production</td>\n",
       "      <td>Electricity</td>\n",
       "      <td>GWh</td>\n",
       "    </tr>\n",
       "    <tr>\n",
       "      <th>freq</th>\n",
       "      <td>3348</td>\n",
       "      <td>893</td>\n",
       "      <td>93318</td>\n",
       "      <td>34930</td>\n",
       "      <td>121074</td>\n",
       "    </tr>\n",
       "  </tbody>\n",
       "</table>\n",
       "</div>"
      ],
      "text/plain": [
       "       country_name      date                   parameter      product    unit\n",
       "count        121074    121074                      121074       121074  121074\n",
       "unique           48       168                           7           16       1\n",
       "top          France  3/1/2021  Net Electricity Production  Electricity     GWh\n",
       "freq           3348       893                       93318        34930  121074"
      ]
     },
     "execution_count": 6,
     "metadata": {},
     "output_type": "execute_result"
    }
   ],
   "source": [
    "# H1: analyze_categorical cols:\n",
    "analyze_categorical_h1(df1)"
   ]
  },
  {
   "cell_type": "code",
   "execution_count": 7,
   "metadata": {},
   "outputs": [
    {
     "name": "stdout",
     "output_type": "stream",
     "text": [
      "\n",
      "Numerical Columns Analysis:\n"
     ]
    },
    {
     "data": {
      "text/html": [
       "<div>\n",
       "<style scoped>\n",
       "    .dataframe tbody tr th:only-of-type {\n",
       "        vertical-align: middle;\n",
       "    }\n",
       "\n",
       "    .dataframe tbody tr th {\n",
       "        vertical-align: top;\n",
       "    }\n",
       "\n",
       "    .dataframe thead th {\n",
       "        text-align: right;\n",
       "    }\n",
       "</style>\n",
       "<table border=\"1\" class=\"dataframe\">\n",
       "  <thead>\n",
       "    <tr style=\"text-align: right;\">\n",
       "      <th></th>\n",
       "      <th>value</th>\n",
       "    </tr>\n",
       "  </thead>\n",
       "  <tbody>\n",
       "    <tr>\n",
       "      <th>count</th>\n",
       "      <td>121060.00000</td>\n",
       "    </tr>\n",
       "    <tr>\n",
       "      <th>mean</th>\n",
       "      <td>6925.08149</td>\n",
       "    </tr>\n",
       "    <tr>\n",
       "      <th>std</th>\n",
       "      <td>34224.45546</td>\n",
       "    </tr>\n",
       "    <tr>\n",
       "      <th>min</th>\n",
       "      <td>0.00000</td>\n",
       "    </tr>\n",
       "    <tr>\n",
       "      <th>25%</th>\n",
       "      <td>41.19900</td>\n",
       "    </tr>\n",
       "    <tr>\n",
       "      <th>50%</th>\n",
       "      <td>470.41900</td>\n",
       "    </tr>\n",
       "    <tr>\n",
       "      <th>75%</th>\n",
       "      <td>2629.71275</td>\n",
       "    </tr>\n",
       "    <tr>\n",
       "      <th>max</th>\n",
       "      <td>865976.48280</td>\n",
       "    </tr>\n",
       "  </tbody>\n",
       "</table>\n",
       "</div>"
      ],
      "text/plain": [
       "              value\n",
       "count  121060.00000\n",
       "mean     6925.08149\n",
       "std     34224.45546\n",
       "min         0.00000\n",
       "25%        41.19900\n",
       "50%       470.41900\n",
       "75%      2629.71275\n",
       "max    865976.48280"
      ]
     },
     "execution_count": 7,
     "metadata": {},
     "output_type": "execute_result"
    }
   ],
   "source": [
    "# H1: analyze_numerical cols:\n",
    "analyze_numerical_h1(df1)"
   ]
  },
  {
   "cell_type": "code",
   "execution_count": 8,
   "metadata": {},
   "outputs": [
    {
     "name": "stdout",
     "output_type": "stream",
     "text": [
      "Number of missing values in 'value' column: 14\n"
     ]
    }
   ],
   "source": [
    "# H1: Count missing values in the 'value' column of df1\n",
    "missing_values_count = df1['value'].isna().sum()\n",
    "\n",
    "# Print the number of missing values\n",
    "print(\"Number of missing values in 'value' column:\", missing_values_count)"
   ]
  },
  {
   "cell_type": "code",
   "execution_count": 9,
   "metadata": {},
   "outputs": [
    {
     "data": {
      "text/html": [
       "<div>\n",
       "<style scoped>\n",
       "    .dataframe tbody tr th:only-of-type {\n",
       "        vertical-align: middle;\n",
       "    }\n",
       "\n",
       "    .dataframe tbody tr th {\n",
       "        vertical-align: top;\n",
       "    }\n",
       "\n",
       "    .dataframe thead th {\n",
       "        text-align: right;\n",
       "    }\n",
       "</style>\n",
       "<table border=\"1\" class=\"dataframe\">\n",
       "  <thead>\n",
       "    <tr style=\"text-align: right;\">\n",
       "      <th></th>\n",
       "      <th>country_name</th>\n",
       "      <th>date</th>\n",
       "      <th>parameter</th>\n",
       "      <th>product</th>\n",
       "      <th>value</th>\n",
       "      <th>unit</th>\n",
       "    </tr>\n",
       "  </thead>\n",
       "  <tbody>\n",
       "    <tr>\n",
       "      <th>67</th>\n",
       "      <td>Chile</td>\n",
       "      <td>12/1/2023</td>\n",
       "      <td>Remarks</td>\n",
       "      <td>Data is estimated for this month</td>\n",
       "      <td>NaN</td>\n",
       "      <td>GWh</td>\n",
       "    </tr>\n",
       "    <tr>\n",
       "      <th>94</th>\n",
       "      <td>Costa Rica</td>\n",
       "      <td>12/1/2023</td>\n",
       "      <td>Remarks</td>\n",
       "      <td>Data is estimated for this month</td>\n",
       "      <td>NaN</td>\n",
       "      <td>GWh</td>\n",
       "    </tr>\n",
       "    <tr>\n",
       "      <th>285</th>\n",
       "      <td>Japan</td>\n",
       "      <td>12/1/2023</td>\n",
       "      <td>Remarks</td>\n",
       "      <td>Data is estimated for this month</td>\n",
       "      <td>NaN</td>\n",
       "      <td>GWh</td>\n",
       "    </tr>\n",
       "    <tr>\n",
       "      <th>804</th>\n",
       "      <td>Costa Rica</td>\n",
       "      <td>11/1/2023</td>\n",
       "      <td>Remarks</td>\n",
       "      <td>Data is estimated for this month</td>\n",
       "      <td>NaN</td>\n",
       "      <td>GWh</td>\n",
       "    </tr>\n",
       "    <tr>\n",
       "      <th>1517</th>\n",
       "      <td>Costa Rica</td>\n",
       "      <td>10/1/2023</td>\n",
       "      <td>Remarks</td>\n",
       "      <td>Data is estimated for this month</td>\n",
       "      <td>NaN</td>\n",
       "      <td>GWh</td>\n",
       "    </tr>\n",
       "    <tr>\n",
       "      <th>2230</th>\n",
       "      <td>Costa Rica</td>\n",
       "      <td>9/1/2023</td>\n",
       "      <td>Remarks</td>\n",
       "      <td>Data is estimated for this month</td>\n",
       "      <td>NaN</td>\n",
       "      <td>GWh</td>\n",
       "    </tr>\n",
       "    <tr>\n",
       "      <th>2944</th>\n",
       "      <td>Costa Rica</td>\n",
       "      <td>8/1/2023</td>\n",
       "      <td>Remarks</td>\n",
       "      <td>Data is estimated for this month</td>\n",
       "      <td>NaN</td>\n",
       "      <td>GWh</td>\n",
       "    </tr>\n",
       "    <tr>\n",
       "      <th>3659</th>\n",
       "      <td>Costa Rica</td>\n",
       "      <td>7/1/2023</td>\n",
       "      <td>Remarks</td>\n",
       "      <td>Data is estimated for this month</td>\n",
       "      <td>NaN</td>\n",
       "      <td>GWh</td>\n",
       "    </tr>\n",
       "    <tr>\n",
       "      <th>4375</th>\n",
       "      <td>Costa Rica</td>\n",
       "      <td>6/1/2023</td>\n",
       "      <td>Remarks</td>\n",
       "      <td>Data is estimated for this month</td>\n",
       "      <td>NaN</td>\n",
       "      <td>GWh</td>\n",
       "    </tr>\n",
       "    <tr>\n",
       "      <th>5090</th>\n",
       "      <td>Costa Rica</td>\n",
       "      <td>5/1/2023</td>\n",
       "      <td>Remarks</td>\n",
       "      <td>Data is estimated for this month</td>\n",
       "      <td>NaN</td>\n",
       "      <td>GWh</td>\n",
       "    </tr>\n",
       "    <tr>\n",
       "      <th>5805</th>\n",
       "      <td>Costa Rica</td>\n",
       "      <td>4/1/2023</td>\n",
       "      <td>Remarks</td>\n",
       "      <td>Data is estimated for this month</td>\n",
       "      <td>NaN</td>\n",
       "      <td>GWh</td>\n",
       "    </tr>\n",
       "    <tr>\n",
       "      <th>6523</th>\n",
       "      <td>Costa Rica</td>\n",
       "      <td>3/1/2023</td>\n",
       "      <td>Remarks</td>\n",
       "      <td>Data is estimated for this month</td>\n",
       "      <td>NaN</td>\n",
       "      <td>GWh</td>\n",
       "    </tr>\n",
       "    <tr>\n",
       "      <th>7242</th>\n",
       "      <td>Costa Rica</td>\n",
       "      <td>2/1/2023</td>\n",
       "      <td>Remarks</td>\n",
       "      <td>Data is estimated for this month</td>\n",
       "      <td>NaN</td>\n",
       "      <td>GWh</td>\n",
       "    </tr>\n",
       "    <tr>\n",
       "      <th>7961</th>\n",
       "      <td>Costa Rica</td>\n",
       "      <td>1/1/2023</td>\n",
       "      <td>Remarks</td>\n",
       "      <td>Data is estimated for this month</td>\n",
       "      <td>NaN</td>\n",
       "      <td>GWh</td>\n",
       "    </tr>\n",
       "  </tbody>\n",
       "</table>\n",
       "</div>"
      ],
      "text/plain": [
       "     country_name       date parameter                           product  \\\n",
       "67          Chile  12/1/2023   Remarks  Data is estimated for this month   \n",
       "94     Costa Rica  12/1/2023   Remarks  Data is estimated for this month   \n",
       "285         Japan  12/1/2023   Remarks  Data is estimated for this month   \n",
       "804    Costa Rica  11/1/2023   Remarks  Data is estimated for this month   \n",
       "1517   Costa Rica  10/1/2023   Remarks  Data is estimated for this month   \n",
       "2230   Costa Rica   9/1/2023   Remarks  Data is estimated for this month   \n",
       "2944   Costa Rica   8/1/2023   Remarks  Data is estimated for this month   \n",
       "3659   Costa Rica   7/1/2023   Remarks  Data is estimated for this month   \n",
       "4375   Costa Rica   6/1/2023   Remarks  Data is estimated for this month   \n",
       "5090   Costa Rica   5/1/2023   Remarks  Data is estimated for this month   \n",
       "5805   Costa Rica   4/1/2023   Remarks  Data is estimated for this month   \n",
       "6523   Costa Rica   3/1/2023   Remarks  Data is estimated for this month   \n",
       "7242   Costa Rica   2/1/2023   Remarks  Data is estimated for this month   \n",
       "7961   Costa Rica   1/1/2023   Remarks  Data is estimated for this month   \n",
       "\n",
       "      value unit  \n",
       "67      NaN  GWh  \n",
       "94      NaN  GWh  \n",
       "285     NaN  GWh  \n",
       "804     NaN  GWh  \n",
       "1517    NaN  GWh  \n",
       "2230    NaN  GWh  \n",
       "2944    NaN  GWh  \n",
       "3659    NaN  GWh  \n",
       "4375    NaN  GWh  \n",
       "5090    NaN  GWh  \n",
       "5805    NaN  GWh  \n",
       "6523    NaN  GWh  \n",
       "7242    NaN  GWh  \n",
       "7961    NaN  GWh  "
      ]
     },
     "execution_count": 9,
     "metadata": {},
     "output_type": "execute_result"
    }
   ],
   "source": [
    "# H1: display missing data\n",
    "missing_value_rows = df1[df1['value'].isna()]\n",
    "\n",
    "# H1: Print the rows with missing values in the 'value' column\n",
    "missing_value_rows"
   ]
  },
  {
   "cell_type": "code",
   "execution_count": 10,
   "metadata": {},
   "outputs": [
    {
     "data": {
      "text/plain": [
       "parameter\n",
       "Net Electricity Production        93318\n",
       "Final Consumption (Calculated)     6036\n",
       "Distribution Losses                6033\n",
       "Total Exports                      5416\n",
       "Total Imports                      5411\n",
       "Used for pumped storage            4846\n",
       "Remarks                              14\n",
       "Name: count, dtype: int64"
      ]
     },
     "execution_count": 10,
     "metadata": {},
     "output_type": "execute_result"
    }
   ],
   "source": [
    "# H1: display 'parameter' col data\n",
    "parameter_counts = df1['parameter'].value_counts()\n",
    "parameter_counts"
   ]
  },
  {
   "cell_type": "code",
   "execution_count": 11,
   "metadata": {},
   "outputs": [
    {
     "data": {
      "text/plain": [
       "product\n",
       "Electricity                                          34930\n",
       "Total Combustible Fuels                               7188\n",
       "Total Renewables (Hydro, Geo, Solar, Wind, Other)     7188\n",
       "Hydro                                                 7070\n",
       "Oil and Petroleum Products                            7066\n",
       "Combustible Renewables                                7049\n",
       "Wind                                                  7040\n",
       "Natural Gas                                           6923\n",
       "Solar                                                 6898\n",
       "Coal, Peat and Manufactured Gases                     6525\n",
       "Other Combustible Non-Renewables                      6147\n",
       "Not Specified                                         5098\n",
       "Nuclear                                               4814\n",
       "Geothermal                                            4267\n",
       "Other Renewables                                      2857\n",
       "Data is estimated for this month                        14\n",
       "Name: count, dtype: int64"
      ]
     },
     "execution_count": 11,
     "metadata": {},
     "output_type": "execute_result"
    }
   ],
   "source": [
    "# H1: display 'product' col data\n",
    "product_count = df1['product'].value_counts()\n",
    "product_count"
   ]
  },
  {
   "cell_type": "markdown",
   "metadata": {},
   "source": [
    "# H1 : Data cleaning"
   ]
  },
  {
   "cell_type": "code",
   "execution_count": 12,
   "metadata": {},
   "outputs": [
    {
     "data": {
      "text/plain": [
       "Index(['country_name', 'date', 'parameter', 'product', 'value', 'unit'], dtype='object')"
      ]
     },
     "execution_count": 12,
     "metadata": {},
     "output_type": "execute_result"
    }
   ],
   "source": [
    "# H1: format titles names \n",
    "format_column_titles_h1(df1)"
   ]
  },
  {
   "cell_type": "code",
   "execution_count": 13,
   "metadata": {},
   "outputs": [],
   "source": [
    "# H1:  filter EU countries \n",
    "eu_countries = ['Austria', 'Belgium', 'Bulgaria', 'Croatia', 'Cyprus', 'Czech Republic', 'Denmark', 'Estonia', 'Finland', 'France', 'Germany', 'Greece', 'Hungary', 'Ireland', 'Italy', 'Latvia', 'Lithuania', 'Luxembourg', 'Malta', 'Netherlands', 'Poland', 'Portugal', 'Romania', 'Slovak Republic', 'Slovenia', 'Spain', 'Sweden']\n",
    "\n",
    "df_eu = df1.loc[df1['country_name'].isin(eu_countries)]"
   ]
  },
  {
   "cell_type": "code",
   "execution_count": 14,
   "metadata": {},
   "outputs": [
    {
     "data": {
      "text/plain": [
       "country_name\n",
       "France             3348\n",
       "Germany            3230\n",
       "Portugal           3134\n",
       "Belgium            3120\n",
       "Italy              3120\n",
       "Austria            3120\n",
       "Spain              3120\n",
       "Czech Republic     3120\n",
       "Slovak Republic    3097\n",
       "Poland             3072\n",
       "Netherlands        3065\n",
       "Slovenia           3019\n",
       "Finland            3000\n",
       "Sweden             2997\n",
       "Hungary            2982\n",
       "Greece             2891\n",
       "Luxembourg         2874\n",
       "Ireland            2856\n",
       "Lithuania          2831\n",
       "Denmark            2760\n",
       "Latvia             2679\n",
       "Estonia            2652\n",
       "Bulgaria           1438\n",
       "Croatia            1331\n",
       "Cyprus             1140\n",
       "Malta              1101\n",
       "Name: count, dtype: int64"
      ]
     },
     "execution_count": 14,
     "metadata": {},
     "output_type": "execute_result"
    }
   ],
   "source": [
    "countries  = df_eu['country_name'].value_counts()\n",
    "countries"
   ]
  },
  {
   "cell_type": "code",
   "execution_count": 15,
   "metadata": {},
   "outputs": [],
   "source": [
    "#  H1: drop rows with missing data \n",
    "df_cleaned = df_eu.dropna(axis=1)"
   ]
  },
  {
   "cell_type": "code",
   "execution_count": 16,
   "metadata": {},
   "outputs": [
    {
     "data": {
      "text/html": [
       "<div>\n",
       "<style scoped>\n",
       "    .dataframe tbody tr th:only-of-type {\n",
       "        vertical-align: middle;\n",
       "    }\n",
       "\n",
       "    .dataframe tbody tr th {\n",
       "        vertical-align: top;\n",
       "    }\n",
       "\n",
       "    .dataframe thead th {\n",
       "        text-align: right;\n",
       "    }\n",
       "</style>\n",
       "<table border=\"1\" class=\"dataframe\">\n",
       "  <thead>\n",
       "    <tr style=\"text-align: right;\">\n",
       "      <th></th>\n",
       "      <th>non-Null_count</th>\n",
       "      <th>dtype</th>\n",
       "      <th>unique_values</th>\n",
       "      <th>%_unique</th>\n",
       "      <th>missing_values</th>\n",
       "      <th>%_missing</th>\n",
       "    </tr>\n",
       "  </thead>\n",
       "  <tbody>\n",
       "    <tr>\n",
       "      <th>country_name</th>\n",
       "      <td>71097</td>\n",
       "      <td>object</td>\n",
       "      <td>26</td>\n",
       "      <td>0.04%</td>\n",
       "      <td>0</td>\n",
       "      <td>0.0%</td>\n",
       "    </tr>\n",
       "    <tr>\n",
       "      <th>date</th>\n",
       "      <td>71097</td>\n",
       "      <td>object</td>\n",
       "      <td>168</td>\n",
       "      <td>0.24%</td>\n",
       "      <td>0</td>\n",
       "      <td>0.0%</td>\n",
       "    </tr>\n",
       "    <tr>\n",
       "      <th>parameter</th>\n",
       "      <td>71097</td>\n",
       "      <td>object</td>\n",
       "      <td>6</td>\n",
       "      <td>0.01%</td>\n",
       "      <td>0</td>\n",
       "      <td>0.0%</td>\n",
       "    </tr>\n",
       "    <tr>\n",
       "      <th>product</th>\n",
       "      <td>71097</td>\n",
       "      <td>object</td>\n",
       "      <td>15</td>\n",
       "      <td>0.02%</td>\n",
       "      <td>0</td>\n",
       "      <td>0.0%</td>\n",
       "    </tr>\n",
       "    <tr>\n",
       "      <th>value</th>\n",
       "      <td>71097</td>\n",
       "      <td>float64</td>\n",
       "      <td>61218</td>\n",
       "      <td>86.1%</td>\n",
       "      <td>0</td>\n",
       "      <td>0.0%</td>\n",
       "    </tr>\n",
       "    <tr>\n",
       "      <th>unit</th>\n",
       "      <td>71097</td>\n",
       "      <td>object</td>\n",
       "      <td>1</td>\n",
       "      <td>0.0%</td>\n",
       "      <td>0</td>\n",
       "      <td>0.0%</td>\n",
       "    </tr>\n",
       "  </tbody>\n",
       "</table>\n",
       "</div>"
      ],
      "text/plain": [
       "              non-Null_count    dtype  unique_values %_unique  missing_values  \\\n",
       "country_name           71097   object             26    0.04%               0   \n",
       "date                   71097   object            168    0.24%               0   \n",
       "parameter              71097   object              6    0.01%               0   \n",
       "product                71097   object             15    0.02%               0   \n",
       "value                  71097  float64          61218    86.1%               0   \n",
       "unit                   71097   object              1     0.0%               0   \n",
       "\n",
       "             %_missing  \n",
       "country_name      0.0%  \n",
       "date              0.0%  \n",
       "parameter         0.0%  \n",
       "product           0.0%  \n",
       "value             0.0%  \n",
       "unit              0.0%  "
      ]
     },
     "execution_count": 16,
     "metadata": {},
     "output_type": "execute_result"
    }
   ],
   "source": [
    "#  H1: check cleaned date\n",
    "unique_and_missing_values_dtype(df_cleaned)"
   ]
  },
  {
   "cell_type": "code",
   "execution_count": 17,
   "metadata": {},
   "outputs": [],
   "source": [
    "# H1: make a copy (before year formatting)\n",
    "df_main = df_cleaned.copy()"
   ]
  },
  {
   "cell_type": "code",
   "execution_count": 18,
   "metadata": {},
   "outputs": [
    {
     "data": {
      "text/html": [
       "<div>\n",
       "<style scoped>\n",
       "    .dataframe tbody tr th:only-of-type {\n",
       "        vertical-align: middle;\n",
       "    }\n",
       "\n",
       "    .dataframe tbody tr th {\n",
       "        vertical-align: top;\n",
       "    }\n",
       "\n",
       "    .dataframe thead th {\n",
       "        text-align: right;\n",
       "    }\n",
       "</style>\n",
       "<table border=\"1\" class=\"dataframe\">\n",
       "  <thead>\n",
       "    <tr style=\"text-align: right;\">\n",
       "      <th></th>\n",
       "      <th>country_name</th>\n",
       "      <th>date</th>\n",
       "      <th>parameter</th>\n",
       "      <th>product</th>\n",
       "      <th>value</th>\n",
       "      <th>unit</th>\n",
       "      <th>year</th>\n",
       "    </tr>\n",
       "  </thead>\n",
       "  <tbody>\n",
       "    <tr>\n",
       "      <th>13</th>\n",
       "      <td>Austria</td>\n",
       "      <td>12/1/2023</td>\n",
       "      <td>Net Electricity Production</td>\n",
       "      <td>Electricity</td>\n",
       "      <td>6783.2730</td>\n",
       "      <td>GWh</td>\n",
       "      <td>2023</td>\n",
       "    </tr>\n",
       "    <tr>\n",
       "      <th>14</th>\n",
       "      <td>Austria</td>\n",
       "      <td>12/1/2023</td>\n",
       "      <td>Net Electricity Production</td>\n",
       "      <td>Total Combustible Fuels</td>\n",
       "      <td>1746.9034</td>\n",
       "      <td>GWh</td>\n",
       "      <td>2023</td>\n",
       "    </tr>\n",
       "    <tr>\n",
       "      <th>15</th>\n",
       "      <td>Austria</td>\n",
       "      <td>12/1/2023</td>\n",
       "      <td>Net Electricity Production</td>\n",
       "      <td>Coal, Peat and Manufactured Gases</td>\n",
       "      <td>167.3548</td>\n",
       "      <td>GWh</td>\n",
       "      <td>2023</td>\n",
       "    </tr>\n",
       "    <tr>\n",
       "      <th>16</th>\n",
       "      <td>Austria</td>\n",
       "      <td>12/1/2023</td>\n",
       "      <td>Net Electricity Production</td>\n",
       "      <td>Oil and Petroleum Products</td>\n",
       "      <td>73.8682</td>\n",
       "      <td>GWh</td>\n",
       "      <td>2023</td>\n",
       "    </tr>\n",
       "    <tr>\n",
       "      <th>17</th>\n",
       "      <td>Austria</td>\n",
       "      <td>12/1/2023</td>\n",
       "      <td>Net Electricity Production</td>\n",
       "      <td>Natural Gas</td>\n",
       "      <td>1035.0865</td>\n",
       "      <td>GWh</td>\n",
       "      <td>2023</td>\n",
       "    </tr>\n",
       "  </tbody>\n",
       "</table>\n",
       "</div>"
      ],
      "text/plain": [
       "   country_name       date                   parameter  \\\n",
       "13      Austria  12/1/2023  Net Electricity Production   \n",
       "14      Austria  12/1/2023  Net Electricity Production   \n",
       "15      Austria  12/1/2023  Net Electricity Production   \n",
       "16      Austria  12/1/2023  Net Electricity Production   \n",
       "17      Austria  12/1/2023  Net Electricity Production   \n",
       "\n",
       "                              product      value unit  year  \n",
       "13                        Electricity  6783.2730  GWh  2023  \n",
       "14            Total Combustible Fuels  1746.9034  GWh  2023  \n",
       "15  Coal, Peat and Manufactured Gases   167.3548  GWh  2023  \n",
       "16         Oil and Petroleum Products    73.8682  GWh  2023  \n",
       "17                        Natural Gas  1035.0865  GWh  2023  "
      ]
     },
     "execution_count": 18,
     "metadata": {},
     "output_type": "execute_result"
    }
   ],
   "source": [
    "# H1: format year\n",
    "df_main[\"year\"] = df_main[\"date\"].apply(lambda x: int(x.split(\"/\")[2]))\n",
    "df_main.head()"
   ]
  },
  {
   "cell_type": "code",
   "execution_count": 19,
   "metadata": {},
   "outputs": [
    {
     "data": {
      "text/html": [
       "<div>\n",
       "<style scoped>\n",
       "    .dataframe tbody tr th:only-of-type {\n",
       "        vertical-align: middle;\n",
       "    }\n",
       "\n",
       "    .dataframe tbody tr th {\n",
       "        vertical-align: top;\n",
       "    }\n",
       "\n",
       "    .dataframe thead th {\n",
       "        text-align: right;\n",
       "    }\n",
       "</style>\n",
       "<table border=\"1\" class=\"dataframe\">\n",
       "  <thead>\n",
       "    <tr style=\"text-align: right;\">\n",
       "      <th></th>\n",
       "      <th>country_name</th>\n",
       "      <th>date</th>\n",
       "      <th>parameter</th>\n",
       "      <th>product</th>\n",
       "      <th>value</th>\n",
       "      <th>unit</th>\n",
       "      <th>year</th>\n",
       "    </tr>\n",
       "  </thead>\n",
       "  <tbody>\n",
       "    <tr>\n",
       "      <th>0</th>\n",
       "      <td>Austria</td>\n",
       "      <td>12/1/2023</td>\n",
       "      <td>Net Electricity Production</td>\n",
       "      <td>Electricity</td>\n",
       "      <td>6783.2730</td>\n",
       "      <td>GWh</td>\n",
       "      <td>2023</td>\n",
       "    </tr>\n",
       "    <tr>\n",
       "      <th>1</th>\n",
       "      <td>Austria</td>\n",
       "      <td>12/1/2023</td>\n",
       "      <td>Net Electricity Production</td>\n",
       "      <td>Total Combustible Fuels</td>\n",
       "      <td>1746.9034</td>\n",
       "      <td>GWh</td>\n",
       "      <td>2023</td>\n",
       "    </tr>\n",
       "    <tr>\n",
       "      <th>2</th>\n",
       "      <td>Austria</td>\n",
       "      <td>12/1/2023</td>\n",
       "      <td>Net Electricity Production</td>\n",
       "      <td>Coal, Peat and Manufactured Gases</td>\n",
       "      <td>167.3548</td>\n",
       "      <td>GWh</td>\n",
       "      <td>2023</td>\n",
       "    </tr>\n",
       "    <tr>\n",
       "      <th>3</th>\n",
       "      <td>Austria</td>\n",
       "      <td>12/1/2023</td>\n",
       "      <td>Net Electricity Production</td>\n",
       "      <td>Oil and Petroleum Products</td>\n",
       "      <td>73.8682</td>\n",
       "      <td>GWh</td>\n",
       "      <td>2023</td>\n",
       "    </tr>\n",
       "    <tr>\n",
       "      <th>4</th>\n",
       "      <td>Austria</td>\n",
       "      <td>12/1/2023</td>\n",
       "      <td>Net Electricity Production</td>\n",
       "      <td>Natural Gas</td>\n",
       "      <td>1035.0865</td>\n",
       "      <td>GWh</td>\n",
       "      <td>2023</td>\n",
       "    </tr>\n",
       "    <tr>\n",
       "      <th>...</th>\n",
       "      <td>...</td>\n",
       "      <td>...</td>\n",
       "      <td>...</td>\n",
       "      <td>...</td>\n",
       "      <td>...</td>\n",
       "      <td>...</td>\n",
       "      <td>...</td>\n",
       "    </tr>\n",
       "    <tr>\n",
       "      <th>71092</th>\n",
       "      <td>Sweden</td>\n",
       "      <td>1/1/2010</td>\n",
       "      <td>Total Imports</td>\n",
       "      <td>Electricity</td>\n",
       "      <td>1806.0000</td>\n",
       "      <td>GWh</td>\n",
       "      <td>2010</td>\n",
       "    </tr>\n",
       "    <tr>\n",
       "      <th>71093</th>\n",
       "      <td>Sweden</td>\n",
       "      <td>1/1/2010</td>\n",
       "      <td>Total Exports</td>\n",
       "      <td>Electricity</td>\n",
       "      <td>266.6560</td>\n",
       "      <td>GWh</td>\n",
       "      <td>2010</td>\n",
       "    </tr>\n",
       "    <tr>\n",
       "      <th>71094</th>\n",
       "      <td>Sweden</td>\n",
       "      <td>1/1/2010</td>\n",
       "      <td>Used for pumped storage</td>\n",
       "      <td>Electricity</td>\n",
       "      <td>16.1090</td>\n",
       "      <td>GWh</td>\n",
       "      <td>2010</td>\n",
       "    </tr>\n",
       "    <tr>\n",
       "      <th>71095</th>\n",
       "      <td>Sweden</td>\n",
       "      <td>1/1/2010</td>\n",
       "      <td>Distribution Losses</td>\n",
       "      <td>Electricity</td>\n",
       "      <td>1091.0110</td>\n",
       "      <td>GWh</td>\n",
       "      <td>2010</td>\n",
       "    </tr>\n",
       "    <tr>\n",
       "      <th>71096</th>\n",
       "      <td>Sweden</td>\n",
       "      <td>1/1/2010</td>\n",
       "      <td>Final Consumption (Calculated)</td>\n",
       "      <td>Electricity</td>\n",
       "      <td>15170.7810</td>\n",
       "      <td>GWh</td>\n",
       "      <td>2010</td>\n",
       "    </tr>\n",
       "  </tbody>\n",
       "</table>\n",
       "<p>71097 rows × 7 columns</p>\n",
       "</div>"
      ],
      "text/plain": [
       "      country_name       date                       parameter  \\\n",
       "0          Austria  12/1/2023      Net Electricity Production   \n",
       "1          Austria  12/1/2023      Net Electricity Production   \n",
       "2          Austria  12/1/2023      Net Electricity Production   \n",
       "3          Austria  12/1/2023      Net Electricity Production   \n",
       "4          Austria  12/1/2023      Net Electricity Production   \n",
       "...            ...        ...                             ...   \n",
       "71092       Sweden   1/1/2010                   Total Imports   \n",
       "71093       Sweden   1/1/2010                   Total Exports   \n",
       "71094       Sweden   1/1/2010         Used for pumped storage   \n",
       "71095       Sweden   1/1/2010             Distribution Losses   \n",
       "71096       Sweden   1/1/2010  Final Consumption (Calculated)   \n",
       "\n",
       "                                 product       value unit  year  \n",
       "0                            Electricity   6783.2730  GWh  2023  \n",
       "1                Total Combustible Fuels   1746.9034  GWh  2023  \n",
       "2      Coal, Peat and Manufactured Gases    167.3548  GWh  2023  \n",
       "3             Oil and Petroleum Products     73.8682  GWh  2023  \n",
       "4                            Natural Gas   1035.0865  GWh  2023  \n",
       "...                                  ...         ...  ...   ...  \n",
       "71092                        Electricity   1806.0000  GWh  2010  \n",
       "71093                        Electricity    266.6560  GWh  2010  \n",
       "71094                        Electricity     16.1090  GWh  2010  \n",
       "71095                        Electricity   1091.0110  GWh  2010  \n",
       "71096                        Electricity  15170.7810  GWh  2010  \n",
       "\n",
       "[71097 rows x 7 columns]"
      ]
     },
     "execution_count": 19,
     "metadata": {},
     "output_type": "execute_result"
    }
   ],
   "source": [
    "# H1: Reset index\n",
    "df_main = df_main.reset_index(drop=True)\n",
    "df_main"
   ]
  },
  {
   "cell_type": "code",
   "execution_count": 20,
   "metadata": {},
   "outputs": [],
   "source": [
    "# H1: Drop unrelevant column 'index'\n",
    "#df_main = df_main.drop(columns=['index'])\n",
    "#df_main.head()"
   ]
  },
  {
   "cell_type": "code",
   "execution_count": 21,
   "metadata": {},
   "outputs": [],
   "source": [
    "# H1: convert col 'value' to integer \n",
    "df_main['value'] = df_main['value'].astype(int)"
   ]
  },
  {
   "cell_type": "markdown",
   "metadata": {},
   "source": [
    "# H1 : EDA 2st Dataset GDP per country per capita "
   ]
  },
  {
   "cell_type": "code",
   "execution_count": 22,
   "metadata": {},
   "outputs": [
    {
     "data": {
      "text/html": [
       "<div>\n",
       "<style scoped>\n",
       "    .dataframe tbody tr th:only-of-type {\n",
       "        vertical-align: middle;\n",
       "    }\n",
       "\n",
       "    .dataframe tbody tr th {\n",
       "        vertical-align: top;\n",
       "    }\n",
       "\n",
       "    .dataframe thead th {\n",
       "        text-align: right;\n",
       "    }\n",
       "</style>\n",
       "<table border=\"1\" class=\"dataframe\">\n",
       "  <thead>\n",
       "    <tr style=\"text-align: right;\">\n",
       "      <th></th>\n",
       "      <th>Country Name</th>\n",
       "      <th>Country Code</th>\n",
       "      <th>Indicator Name</th>\n",
       "      <th>Indicator Code</th>\n",
       "      <th>1960</th>\n",
       "      <th>1961</th>\n",
       "      <th>1962</th>\n",
       "      <th>1963</th>\n",
       "      <th>1964</th>\n",
       "      <th>1965</th>\n",
       "      <th>...</th>\n",
       "      <th>2014</th>\n",
       "      <th>2015</th>\n",
       "      <th>2016</th>\n",
       "      <th>2017</th>\n",
       "      <th>2018</th>\n",
       "      <th>2019</th>\n",
       "      <th>2020</th>\n",
       "      <th>2021</th>\n",
       "      <th>2022</th>\n",
       "      <th>2023</th>\n",
       "    </tr>\n",
       "  </thead>\n",
       "  <tbody>\n",
       "    <tr>\n",
       "      <th>0</th>\n",
       "      <td>Aruba</td>\n",
       "      <td>ABW</td>\n",
       "      <td>GDP per capita (current US$)</td>\n",
       "      <td>NY.GDP.PCAP.CD</td>\n",
       "      <td>NaN</td>\n",
       "      <td>NaN</td>\n",
       "      <td>NaN</td>\n",
       "      <td>NaN</td>\n",
       "      <td>NaN</td>\n",
       "      <td>NaN</td>\n",
       "      <td>...</td>\n",
       "      <td>26940.264110</td>\n",
       "      <td>28419.264530</td>\n",
       "      <td>28449.712950</td>\n",
       "      <td>29329.081750</td>\n",
       "      <td>30918.483580</td>\n",
       "      <td>31902.809820</td>\n",
       "      <td>24008.127820</td>\n",
       "      <td>29127.759380</td>\n",
       "      <td>33300.838820</td>\n",
       "      <td>NaN</td>\n",
       "    </tr>\n",
       "    <tr>\n",
       "      <th>1</th>\n",
       "      <td>Africa Eastern and Southern</td>\n",
       "      <td>AFE</td>\n",
       "      <td>GDP per capita (current US$)</td>\n",
       "      <td>NY.GDP.PCAP.CD</td>\n",
       "      <td>162.342518</td>\n",
       "      <td>166.263682</td>\n",
       "      <td>171.961916</td>\n",
       "      <td>182.018480</td>\n",
       "      <td>192.639989</td>\n",
       "      <td>202.847824</td>\n",
       "      <td>...</td>\n",
       "      <td>1678.553610</td>\n",
       "      <td>1498.805084</td>\n",
       "      <td>1346.301281</td>\n",
       "      <td>1485.753579</td>\n",
       "      <td>1558.612079</td>\n",
       "      <td>1508.486886</td>\n",
       "      <td>1356.088871</td>\n",
       "      <td>1545.956697</td>\n",
       "      <td>1642.432039</td>\n",
       "      <td>1672.505957</td>\n",
       "    </tr>\n",
       "    <tr>\n",
       "      <th>2</th>\n",
       "      <td>Afghanistan</td>\n",
       "      <td>AFG</td>\n",
       "      <td>GDP per capita (current US$)</td>\n",
       "      <td>NY.GDP.PCAP.CD</td>\n",
       "      <td>NaN</td>\n",
       "      <td>NaN</td>\n",
       "      <td>NaN</td>\n",
       "      <td>NaN</td>\n",
       "      <td>NaN</td>\n",
       "      <td>NaN</td>\n",
       "      <td>...</td>\n",
       "      <td>626.512929</td>\n",
       "      <td>566.881130</td>\n",
       "      <td>523.053012</td>\n",
       "      <td>526.140801</td>\n",
       "      <td>492.090631</td>\n",
       "      <td>497.741431</td>\n",
       "      <td>512.055098</td>\n",
       "      <td>355.777826</td>\n",
       "      <td>352.603733</td>\n",
       "      <td>NaN</td>\n",
       "    </tr>\n",
       "    <tr>\n",
       "      <th>3</th>\n",
       "      <td>Africa Western and Central</td>\n",
       "      <td>AFW</td>\n",
       "      <td>GDP per capita (current US$)</td>\n",
       "      <td>NY.GDP.PCAP.CD</td>\n",
       "      <td>122.193931</td>\n",
       "      <td>127.732834</td>\n",
       "      <td>134.130070</td>\n",
       "      <td>139.291222</td>\n",
       "      <td>148.821355</td>\n",
       "      <td>156.314136</td>\n",
       "      <td>...</td>\n",
       "      <td>2248.518426</td>\n",
       "      <td>1882.518808</td>\n",
       "      <td>1648.920269</td>\n",
       "      <td>1590.555785</td>\n",
       "      <td>1735.445833</td>\n",
       "      <td>1813.609146</td>\n",
       "      <td>1688.470871</td>\n",
       "      <td>1769.171853</td>\n",
       "      <td>1788.875347</td>\n",
       "      <td>1584.333285</td>\n",
       "    </tr>\n",
       "    <tr>\n",
       "      <th>4</th>\n",
       "      <td>Angola</td>\n",
       "      <td>AGO</td>\n",
       "      <td>GDP per capita (current US$)</td>\n",
       "      <td>NY.GDP.PCAP.CD</td>\n",
       "      <td>NaN</td>\n",
       "      <td>NaN</td>\n",
       "      <td>NaN</td>\n",
       "      <td>NaN</td>\n",
       "      <td>NaN</td>\n",
       "      <td>NaN</td>\n",
       "      <td>...</td>\n",
       "      <td>5011.984427</td>\n",
       "      <td>3217.339240</td>\n",
       "      <td>1809.709377</td>\n",
       "      <td>2439.374439</td>\n",
       "      <td>2540.508879</td>\n",
       "      <td>2191.347764</td>\n",
       "      <td>1450.905111</td>\n",
       "      <td>1927.474078</td>\n",
       "      <td>2933.484644</td>\n",
       "      <td>2309.521620</td>\n",
       "    </tr>\n",
       "  </tbody>\n",
       "</table>\n",
       "<p>5 rows × 68 columns</p>\n",
       "</div>"
      ],
      "text/plain": [
       "                  Country Name Country Code                Indicator Name  \\\n",
       "0                        Aruba          ABW  GDP per capita (current US$)   \n",
       "1  Africa Eastern and Southern          AFE  GDP per capita (current US$)   \n",
       "2                  Afghanistan          AFG  GDP per capita (current US$)   \n",
       "3   Africa Western and Central          AFW  GDP per capita (current US$)   \n",
       "4                       Angola          AGO  GDP per capita (current US$)   \n",
       "\n",
       "   Indicator Code        1960        1961        1962        1963        1964  \\\n",
       "0  NY.GDP.PCAP.CD         NaN         NaN         NaN         NaN         NaN   \n",
       "1  NY.GDP.PCAP.CD  162.342518  166.263682  171.961916  182.018480  192.639989   \n",
       "2  NY.GDP.PCAP.CD         NaN         NaN         NaN         NaN         NaN   \n",
       "3  NY.GDP.PCAP.CD  122.193931  127.732834  134.130070  139.291222  148.821355   \n",
       "4  NY.GDP.PCAP.CD         NaN         NaN         NaN         NaN         NaN   \n",
       "\n",
       "         1965  ...          2014          2015          2016          2017  \\\n",
       "0         NaN  ...  26940.264110  28419.264530  28449.712950  29329.081750   \n",
       "1  202.847824  ...   1678.553610   1498.805084   1346.301281   1485.753579   \n",
       "2         NaN  ...    626.512929    566.881130    523.053012    526.140801   \n",
       "3  156.314136  ...   2248.518426   1882.518808   1648.920269   1590.555785   \n",
       "4         NaN  ...   5011.984427   3217.339240   1809.709377   2439.374439   \n",
       "\n",
       "           2018          2019          2020          2021          2022  \\\n",
       "0  30918.483580  31902.809820  24008.127820  29127.759380  33300.838820   \n",
       "1   1558.612079   1508.486886   1356.088871   1545.956697   1642.432039   \n",
       "2    492.090631    497.741431    512.055098    355.777826    352.603733   \n",
       "3   1735.445833   1813.609146   1688.470871   1769.171853   1788.875347   \n",
       "4   2540.508879   2191.347764   1450.905111   1927.474078   2933.484644   \n",
       "\n",
       "          2023  \n",
       "0          NaN  \n",
       "1  1672.505957  \n",
       "2          NaN  \n",
       "3  1584.333285  \n",
       "4  2309.521620  \n",
       "\n",
       "[5 rows x 68 columns]"
      ]
     },
     "execution_count": 22,
     "metadata": {},
     "output_type": "execute_result"
    }
   ],
   "source": [
    "# H1: load dataset-2 GDP      \n",
    "df_gdp = pd.read_csv('../data/gdp_per_capita.csv')     \n",
    "df_gdp.head()                       "
   ]
  },
  {
   "cell_type": "code",
   "execution_count": 23,
   "metadata": {},
   "outputs": [
    {
     "data": {
      "text/html": [
       "<div>\n",
       "<style scoped>\n",
       "    .dataframe tbody tr th:only-of-type {\n",
       "        vertical-align: middle;\n",
       "    }\n",
       "\n",
       "    .dataframe tbody tr th {\n",
       "        vertical-align: top;\n",
       "    }\n",
       "\n",
       "    .dataframe thead th {\n",
       "        text-align: right;\n",
       "    }\n",
       "</style>\n",
       "<table border=\"1\" class=\"dataframe\">\n",
       "  <thead>\n",
       "    <tr style=\"text-align: right;\">\n",
       "      <th></th>\n",
       "      <th>Country Name</th>\n",
       "      <th>Country Code</th>\n",
       "      <th>1960</th>\n",
       "      <th>1961</th>\n",
       "      <th>1962</th>\n",
       "      <th>1963</th>\n",
       "      <th>1964</th>\n",
       "      <th>1965</th>\n",
       "      <th>1966</th>\n",
       "      <th>1967</th>\n",
       "      <th>...</th>\n",
       "      <th>2014</th>\n",
       "      <th>2015</th>\n",
       "      <th>2016</th>\n",
       "      <th>2017</th>\n",
       "      <th>2018</th>\n",
       "      <th>2019</th>\n",
       "      <th>2020</th>\n",
       "      <th>2021</th>\n",
       "      <th>2022</th>\n",
       "      <th>2023</th>\n",
       "    </tr>\n",
       "  </thead>\n",
       "  <tbody>\n",
       "    <tr>\n",
       "      <th>0</th>\n",
       "      <td>Aruba</td>\n",
       "      <td>ABW</td>\n",
       "      <td>NaN</td>\n",
       "      <td>NaN</td>\n",
       "      <td>NaN</td>\n",
       "      <td>NaN</td>\n",
       "      <td>NaN</td>\n",
       "      <td>NaN</td>\n",
       "      <td>NaN</td>\n",
       "      <td>NaN</td>\n",
       "      <td>...</td>\n",
       "      <td>26940.264110</td>\n",
       "      <td>28419.264530</td>\n",
       "      <td>28449.712950</td>\n",
       "      <td>29329.081750</td>\n",
       "      <td>30918.483580</td>\n",
       "      <td>31902.809820</td>\n",
       "      <td>24008.127820</td>\n",
       "      <td>29127.759380</td>\n",
       "      <td>33300.838820</td>\n",
       "      <td>NaN</td>\n",
       "    </tr>\n",
       "    <tr>\n",
       "      <th>1</th>\n",
       "      <td>Africa Eastern and Southern</td>\n",
       "      <td>AFE</td>\n",
       "      <td>162.342518</td>\n",
       "      <td>166.263682</td>\n",
       "      <td>171.961916</td>\n",
       "      <td>182.018480</td>\n",
       "      <td>192.639989</td>\n",
       "      <td>202.847824</td>\n",
       "      <td>214.666914</td>\n",
       "      <td>226.978859</td>\n",
       "      <td>...</td>\n",
       "      <td>1678.553610</td>\n",
       "      <td>1498.805084</td>\n",
       "      <td>1346.301281</td>\n",
       "      <td>1485.753579</td>\n",
       "      <td>1558.612079</td>\n",
       "      <td>1508.486886</td>\n",
       "      <td>1356.088871</td>\n",
       "      <td>1545.956697</td>\n",
       "      <td>1642.432039</td>\n",
       "      <td>1672.505957</td>\n",
       "    </tr>\n",
       "    <tr>\n",
       "      <th>2</th>\n",
       "      <td>Afghanistan</td>\n",
       "      <td>AFG</td>\n",
       "      <td>NaN</td>\n",
       "      <td>NaN</td>\n",
       "      <td>NaN</td>\n",
       "      <td>NaN</td>\n",
       "      <td>NaN</td>\n",
       "      <td>NaN</td>\n",
       "      <td>NaN</td>\n",
       "      <td>NaN</td>\n",
       "      <td>...</td>\n",
       "      <td>626.512929</td>\n",
       "      <td>566.881130</td>\n",
       "      <td>523.053012</td>\n",
       "      <td>526.140801</td>\n",
       "      <td>492.090631</td>\n",
       "      <td>497.741431</td>\n",
       "      <td>512.055098</td>\n",
       "      <td>355.777826</td>\n",
       "      <td>352.603733</td>\n",
       "      <td>NaN</td>\n",
       "    </tr>\n",
       "    <tr>\n",
       "      <th>3</th>\n",
       "      <td>Africa Western and Central</td>\n",
       "      <td>AFW</td>\n",
       "      <td>122.193931</td>\n",
       "      <td>127.732834</td>\n",
       "      <td>134.130070</td>\n",
       "      <td>139.291222</td>\n",
       "      <td>148.821355</td>\n",
       "      <td>156.314136</td>\n",
       "      <td>162.890667</td>\n",
       "      <td>145.568085</td>\n",
       "      <td>...</td>\n",
       "      <td>2248.518426</td>\n",
       "      <td>1882.518808</td>\n",
       "      <td>1648.920269</td>\n",
       "      <td>1590.555785</td>\n",
       "      <td>1735.445833</td>\n",
       "      <td>1813.609146</td>\n",
       "      <td>1688.470871</td>\n",
       "      <td>1769.171853</td>\n",
       "      <td>1788.875347</td>\n",
       "      <td>1584.333285</td>\n",
       "    </tr>\n",
       "    <tr>\n",
       "      <th>4</th>\n",
       "      <td>Angola</td>\n",
       "      <td>AGO</td>\n",
       "      <td>NaN</td>\n",
       "      <td>NaN</td>\n",
       "      <td>NaN</td>\n",
       "      <td>NaN</td>\n",
       "      <td>NaN</td>\n",
       "      <td>NaN</td>\n",
       "      <td>NaN</td>\n",
       "      <td>NaN</td>\n",
       "      <td>...</td>\n",
       "      <td>5011.984427</td>\n",
       "      <td>3217.339240</td>\n",
       "      <td>1809.709377</td>\n",
       "      <td>2439.374439</td>\n",
       "      <td>2540.508879</td>\n",
       "      <td>2191.347764</td>\n",
       "      <td>1450.905111</td>\n",
       "      <td>1927.474078</td>\n",
       "      <td>2933.484644</td>\n",
       "      <td>2309.521620</td>\n",
       "    </tr>\n",
       "    <tr>\n",
       "      <th>...</th>\n",
       "      <td>...</td>\n",
       "      <td>...</td>\n",
       "      <td>...</td>\n",
       "      <td>...</td>\n",
       "      <td>...</td>\n",
       "      <td>...</td>\n",
       "      <td>...</td>\n",
       "      <td>...</td>\n",
       "      <td>...</td>\n",
       "      <td>...</td>\n",
       "      <td>...</td>\n",
       "      <td>...</td>\n",
       "      <td>...</td>\n",
       "      <td>...</td>\n",
       "      <td>...</td>\n",
       "      <td>...</td>\n",
       "      <td>...</td>\n",
       "      <td>...</td>\n",
       "      <td>...</td>\n",
       "      <td>...</td>\n",
       "      <td>...</td>\n",
       "    </tr>\n",
       "    <tr>\n",
       "      <th>261</th>\n",
       "      <td>Kosovo</td>\n",
       "      <td>XKX</td>\n",
       "      <td>NaN</td>\n",
       "      <td>NaN</td>\n",
       "      <td>NaN</td>\n",
       "      <td>NaN</td>\n",
       "      <td>NaN</td>\n",
       "      <td>NaN</td>\n",
       "      <td>NaN</td>\n",
       "      <td>NaN</td>\n",
       "      <td>...</td>\n",
       "      <td>3902.530841</td>\n",
       "      <td>3520.782075</td>\n",
       "      <td>3759.472855</td>\n",
       "      <td>4009.353811</td>\n",
       "      <td>4384.188680</td>\n",
       "      <td>4416.029253</td>\n",
       "      <td>4310.934002</td>\n",
       "      <td>5270.550640</td>\n",
       "      <td>5290.977397</td>\n",
       "      <td>5943.125714</td>\n",
       "    </tr>\n",
       "    <tr>\n",
       "      <th>262</th>\n",
       "      <td>Yemen, Rep.</td>\n",
       "      <td>YEM</td>\n",
       "      <td>NaN</td>\n",
       "      <td>NaN</td>\n",
       "      <td>NaN</td>\n",
       "      <td>NaN</td>\n",
       "      <td>NaN</td>\n",
       "      <td>NaN</td>\n",
       "      <td>NaN</td>\n",
       "      <td>NaN</td>\n",
       "      <td>...</td>\n",
       "      <td>1557.601406</td>\n",
       "      <td>1488.416289</td>\n",
       "      <td>1069.817009</td>\n",
       "      <td>893.716501</td>\n",
       "      <td>701.714865</td>\n",
       "      <td>693.816508</td>\n",
       "      <td>626.309169</td>\n",
       "      <td>583.849041</td>\n",
       "      <td>698.850350</td>\n",
       "      <td>533.367124</td>\n",
       "    </tr>\n",
       "    <tr>\n",
       "      <th>263</th>\n",
       "      <td>South Africa</td>\n",
       "      <td>ZAF</td>\n",
       "      <td>529.561923</td>\n",
       "      <td>543.042224</td>\n",
       "      <td>560.699395</td>\n",
       "      <td>601.599951</td>\n",
       "      <td>642.688431</td>\n",
       "      <td>681.131111</td>\n",
       "      <td>718.118179</td>\n",
       "      <td>775.152812</td>\n",
       "      <td>...</td>\n",
       "      <td>6965.137897</td>\n",
       "      <td>6204.929901</td>\n",
       "      <td>5735.066787</td>\n",
       "      <td>6734.475153</td>\n",
       "      <td>7067.724165</td>\n",
       "      <td>6702.526617</td>\n",
       "      <td>5753.066494</td>\n",
       "      <td>7073.612754</td>\n",
       "      <td>6766.481254</td>\n",
       "      <td>6253.161613</td>\n",
       "    </tr>\n",
       "    <tr>\n",
       "      <th>264</th>\n",
       "      <td>Zambia</td>\n",
       "      <td>ZMB</td>\n",
       "      <td>228.567398</td>\n",
       "      <td>216.274674</td>\n",
       "      <td>208.562685</td>\n",
       "      <td>209.453362</td>\n",
       "      <td>236.941713</td>\n",
       "      <td>296.022427</td>\n",
       "      <td>334.672528</td>\n",
       "      <td>350.653425</td>\n",
       "      <td>...</td>\n",
       "      <td>1724.576220</td>\n",
       "      <td>1307.909649</td>\n",
       "      <td>1249.923143</td>\n",
       "      <td>1495.752138</td>\n",
       "      <td>1475.199883</td>\n",
       "      <td>1268.120941</td>\n",
       "      <td>958.264900</td>\n",
       "      <td>1134.713454</td>\n",
       "      <td>1456.901570</td>\n",
       "      <td>1369.129365</td>\n",
       "    </tr>\n",
       "    <tr>\n",
       "      <th>265</th>\n",
       "      <td>Zimbabwe</td>\n",
       "      <td>ZWE</td>\n",
       "      <td>276.643363</td>\n",
       "      <td>279.332656</td>\n",
       "      <td>275.966139</td>\n",
       "      <td>277.532515</td>\n",
       "      <td>282.376856</td>\n",
       "      <td>294.893605</td>\n",
       "      <td>279.337779</td>\n",
       "      <td>295.056449</td>\n",
       "      <td>...</td>\n",
       "      <td>1407.034291</td>\n",
       "      <td>1410.329173</td>\n",
       "      <td>1421.787791</td>\n",
       "      <td>1192.107012</td>\n",
       "      <td>2269.177012</td>\n",
       "      <td>1421.868596</td>\n",
       "      <td>1372.696674</td>\n",
       "      <td>1773.920411</td>\n",
       "      <td>1676.821489</td>\n",
       "      <td>1592.416574</td>\n",
       "    </tr>\n",
       "  </tbody>\n",
       "</table>\n",
       "<p>266 rows × 66 columns</p>\n",
       "</div>"
      ],
      "text/plain": [
       "                    Country Name Country Code        1960        1961  \\\n",
       "0                          Aruba          ABW         NaN         NaN   \n",
       "1    Africa Eastern and Southern          AFE  162.342518  166.263682   \n",
       "2                    Afghanistan          AFG         NaN         NaN   \n",
       "3     Africa Western and Central          AFW  122.193931  127.732834   \n",
       "4                         Angola          AGO         NaN         NaN   \n",
       "..                           ...          ...         ...         ...   \n",
       "261                       Kosovo          XKX         NaN         NaN   \n",
       "262                  Yemen, Rep.          YEM         NaN         NaN   \n",
       "263                 South Africa          ZAF  529.561923  543.042224   \n",
       "264                       Zambia          ZMB  228.567398  216.274674   \n",
       "265                     Zimbabwe          ZWE  276.643363  279.332656   \n",
       "\n",
       "           1962        1963        1964        1965        1966        1967  \\\n",
       "0           NaN         NaN         NaN         NaN         NaN         NaN   \n",
       "1    171.961916  182.018480  192.639989  202.847824  214.666914  226.978859   \n",
       "2           NaN         NaN         NaN         NaN         NaN         NaN   \n",
       "3    134.130070  139.291222  148.821355  156.314136  162.890667  145.568085   \n",
       "4           NaN         NaN         NaN         NaN         NaN         NaN   \n",
       "..          ...         ...         ...         ...         ...         ...   \n",
       "261         NaN         NaN         NaN         NaN         NaN         NaN   \n",
       "262         NaN         NaN         NaN         NaN         NaN         NaN   \n",
       "263  560.699395  601.599951  642.688431  681.131111  718.118179  775.152812   \n",
       "264  208.562685  209.453362  236.941713  296.022427  334.672528  350.653425   \n",
       "265  275.966139  277.532515  282.376856  294.893605  279.337779  295.056449   \n",
       "\n",
       "     ...          2014          2015          2016          2017  \\\n",
       "0    ...  26940.264110  28419.264530  28449.712950  29329.081750   \n",
       "1    ...   1678.553610   1498.805084   1346.301281   1485.753579   \n",
       "2    ...    626.512929    566.881130    523.053012    526.140801   \n",
       "3    ...   2248.518426   1882.518808   1648.920269   1590.555785   \n",
       "4    ...   5011.984427   3217.339240   1809.709377   2439.374439   \n",
       "..   ...           ...           ...           ...           ...   \n",
       "261  ...   3902.530841   3520.782075   3759.472855   4009.353811   \n",
       "262  ...   1557.601406   1488.416289   1069.817009    893.716501   \n",
       "263  ...   6965.137897   6204.929901   5735.066787   6734.475153   \n",
       "264  ...   1724.576220   1307.909649   1249.923143   1495.752138   \n",
       "265  ...   1407.034291   1410.329173   1421.787791   1192.107012   \n",
       "\n",
       "             2018          2019          2020          2021          2022  \\\n",
       "0    30918.483580  31902.809820  24008.127820  29127.759380  33300.838820   \n",
       "1     1558.612079   1508.486886   1356.088871   1545.956697   1642.432039   \n",
       "2      492.090631    497.741431    512.055098    355.777826    352.603733   \n",
       "3     1735.445833   1813.609146   1688.470871   1769.171853   1788.875347   \n",
       "4     2540.508879   2191.347764   1450.905111   1927.474078   2933.484644   \n",
       "..            ...           ...           ...           ...           ...   \n",
       "261   4384.188680   4416.029253   4310.934002   5270.550640   5290.977397   \n",
       "262    701.714865    693.816508    626.309169    583.849041    698.850350   \n",
       "263   7067.724165   6702.526617   5753.066494   7073.612754   6766.481254   \n",
       "264   1475.199883   1268.120941    958.264900   1134.713454   1456.901570   \n",
       "265   2269.177012   1421.868596   1372.696674   1773.920411   1676.821489   \n",
       "\n",
       "            2023  \n",
       "0            NaN  \n",
       "1    1672.505957  \n",
       "2            NaN  \n",
       "3    1584.333285  \n",
       "4    2309.521620  \n",
       "..           ...  \n",
       "261  5943.125714  \n",
       "262   533.367124  \n",
       "263  6253.161613  \n",
       "264  1369.129365  \n",
       "265  1592.416574  \n",
       "\n",
       "[266 rows x 66 columns]"
      ]
     },
     "execution_count": 23,
     "metadata": {},
     "output_type": "execute_result"
    }
   ],
   "source": [
    "# H1: Drop cols \"Indicator Name\", \"Indicator Code\"\n",
    "df_gdp_cleaned = df_gdp.drop(columns=[\"Indicator Name\", \"Indicator Code\"])\n",
    "df_gdp_cleaned"
   ]
  },
  {
   "cell_type": "code",
   "execution_count": 24,
   "metadata": {},
   "outputs": [
    {
     "data": {
      "text/html": [
       "<div>\n",
       "<style scoped>\n",
       "    .dataframe tbody tr th:only-of-type {\n",
       "        vertical-align: middle;\n",
       "    }\n",
       "\n",
       "    .dataframe tbody tr th {\n",
       "        vertical-align: top;\n",
       "    }\n",
       "\n",
       "    .dataframe thead th {\n",
       "        text-align: right;\n",
       "    }\n",
       "</style>\n",
       "<table border=\"1\" class=\"dataframe\">\n",
       "  <thead>\n",
       "    <tr style=\"text-align: right;\">\n",
       "      <th></th>\n",
       "      <th>Country</th>\n",
       "      <th>Country Code</th>\n",
       "      <th>Year</th>\n",
       "      <th>GDP</th>\n",
       "    </tr>\n",
       "  </thead>\n",
       "  <tbody>\n",
       "    <tr>\n",
       "      <th>0</th>\n",
       "      <td>Aruba</td>\n",
       "      <td>ABW</td>\n",
       "      <td>1986</td>\n",
       "      <td>6283.001443</td>\n",
       "    </tr>\n",
       "    <tr>\n",
       "      <th>1</th>\n",
       "      <td>Aruba</td>\n",
       "      <td>ABW</td>\n",
       "      <td>1987</td>\n",
       "      <td>7567.253642</td>\n",
       "    </tr>\n",
       "    <tr>\n",
       "      <th>2</th>\n",
       "      <td>Aruba</td>\n",
       "      <td>ABW</td>\n",
       "      <td>1988</td>\n",
       "      <td>9274.514156</td>\n",
       "    </tr>\n",
       "    <tr>\n",
       "      <th>3</th>\n",
       "      <td>Aruba</td>\n",
       "      <td>ABW</td>\n",
       "      <td>1989</td>\n",
       "      <td>10767.396220</td>\n",
       "    </tr>\n",
       "    <tr>\n",
       "      <th>4</th>\n",
       "      <td>Aruba</td>\n",
       "      <td>ABW</td>\n",
       "      <td>1990</td>\n",
       "      <td>11638.733710</td>\n",
       "    </tr>\n",
       "  </tbody>\n",
       "</table>\n",
       "</div>"
      ],
      "text/plain": [
       "  Country Country Code  Year           GDP\n",
       "0   Aruba          ABW  1986   6283.001443\n",
       "1   Aruba          ABW  1987   7567.253642\n",
       "2   Aruba          ABW  1988   9274.514156\n",
       "3   Aruba          ABW  1989  10767.396220\n",
       "4   Aruba          ABW  1990  11638.733710"
      ]
     },
     "execution_count": 24,
     "metadata": {},
     "output_type": "execute_result"
    }
   ],
   "source": [
    "# H1: transform data from wide to long format with \"stack() function\"\n",
    "df_stacked = df_gdp_cleaned.set_index([\"Country Name\", \"Country Code\"]).stack().reset_index()\n",
    "df_stacked.columns = [\"Country\", \"Country Code\", \"Year\", \"GDP\"]\n",
    "df_stacked.head()"
   ]
  },
  {
   "cell_type": "code",
   "execution_count": 25,
   "metadata": {},
   "outputs": [
    {
     "data": {
      "text/plain": [
       "Index(['country', 'country_code', 'year', 'gdp'], dtype='object')"
      ]
     },
     "execution_count": 25,
     "metadata": {},
     "output_type": "execute_result"
    }
   ],
   "source": [
    "# H1: format_column_titles\n",
    "format_column_titles_h1(df_stacked)"
   ]
  },
  {
   "cell_type": "code",
   "execution_count": 26,
   "metadata": {},
   "outputs": [
    {
     "data": {
      "text/html": [
       "<div>\n",
       "<style scoped>\n",
       "    .dataframe tbody tr th:only-of-type {\n",
       "        vertical-align: middle;\n",
       "    }\n",
       "\n",
       "    .dataframe tbody tr th {\n",
       "        vertical-align: top;\n",
       "    }\n",
       "\n",
       "    .dataframe thead th {\n",
       "        text-align: right;\n",
       "    }\n",
       "</style>\n",
       "<table border=\"1\" class=\"dataframe\">\n",
       "  <thead>\n",
       "    <tr style=\"text-align: right;\">\n",
       "      <th></th>\n",
       "      <th>country_name</th>\n",
       "      <th>country_code</th>\n",
       "      <th>year</th>\n",
       "      <th>gdp</th>\n",
       "    </tr>\n",
       "  </thead>\n",
       "  <tbody>\n",
       "    <tr>\n",
       "      <th>0</th>\n",
       "      <td>Aruba</td>\n",
       "      <td>ABW</td>\n",
       "      <td>1986</td>\n",
       "      <td>6283.001443</td>\n",
       "    </tr>\n",
       "    <tr>\n",
       "      <th>1</th>\n",
       "      <td>Aruba</td>\n",
       "      <td>ABW</td>\n",
       "      <td>1987</td>\n",
       "      <td>7567.253642</td>\n",
       "    </tr>\n",
       "    <tr>\n",
       "      <th>2</th>\n",
       "      <td>Aruba</td>\n",
       "      <td>ABW</td>\n",
       "      <td>1988</td>\n",
       "      <td>9274.514156</td>\n",
       "    </tr>\n",
       "    <tr>\n",
       "      <th>3</th>\n",
       "      <td>Aruba</td>\n",
       "      <td>ABW</td>\n",
       "      <td>1989</td>\n",
       "      <td>10767.396220</td>\n",
       "    </tr>\n",
       "    <tr>\n",
       "      <th>4</th>\n",
       "      <td>Aruba</td>\n",
       "      <td>ABW</td>\n",
       "      <td>1990</td>\n",
       "      <td>11638.733710</td>\n",
       "    </tr>\n",
       "  </tbody>\n",
       "</table>\n",
       "</div>"
      ],
      "text/plain": [
       "  country_name country_code  year           gdp\n",
       "0        Aruba          ABW  1986   6283.001443\n",
       "1        Aruba          ABW  1987   7567.253642\n",
       "2        Aruba          ABW  1988   9274.514156\n",
       "3        Aruba          ABW  1989  10767.396220\n",
       "4        Aruba          ABW  1990  11638.733710"
      ]
     },
     "execution_count": 26,
     "metadata": {},
     "output_type": "execute_result"
    }
   ],
   "source": [
    "#  H1: rename column country\n",
    "df_stacked.rename(columns={'country': 'country_name'}, inplace=True)\n",
    "df_stacked.head()"
   ]
  },
  {
   "cell_type": "code",
   "execution_count": 27,
   "metadata": {},
   "outputs": [],
   "source": [
    "# H1: rename column 'Czechia' to 'Czech Republic'\n",
    "df_stacked['country_name'] = df_stacked['country_name'].replace(['Czechia'], 'Czech Republic')"
   ]
  },
  {
   "cell_type": "code",
   "execution_count": 28,
   "metadata": {},
   "outputs": [],
   "source": [
    "# H1: filter EU countries \n",
    "eu_countries = ['Austria', 'Belgium', 'Bulgaria', 'Croatia', 'Cyprus', 'Czech Republic', 'Denmark', 'Estonia', 'Finland', 'France', 'Germany', 'Greece', 'Hungary', 'Ireland', 'Italy', 'Latvia', 'Lithuania', 'Luxembourg', 'Malta', 'Netherlands', 'Poland', 'Portugal', 'Romania', 'Slovak Republic', 'Slovenia', 'Spain', 'Sweden']\n",
    "\n",
    "df_stacked_eu = df_stacked.loc[df_stacked['country_name'].isin(eu_countries)]"
   ]
  },
  {
   "cell_type": "code",
   "execution_count": 29,
   "metadata": {},
   "outputs": [
    {
     "data": {
      "text/html": [
       "<div>\n",
       "<style scoped>\n",
       "    .dataframe tbody tr th:only-of-type {\n",
       "        vertical-align: middle;\n",
       "    }\n",
       "\n",
       "    .dataframe tbody tr th {\n",
       "        vertical-align: top;\n",
       "    }\n",
       "\n",
       "    .dataframe thead th {\n",
       "        text-align: right;\n",
       "    }\n",
       "</style>\n",
       "<table border=\"1\" class=\"dataframe\">\n",
       "  <thead>\n",
       "    <tr style=\"text-align: right;\">\n",
       "      <th></th>\n",
       "      <th>index</th>\n",
       "      <th>country_name</th>\n",
       "      <th>country_code</th>\n",
       "      <th>year</th>\n",
       "      <th>gdp</th>\n",
       "    </tr>\n",
       "  </thead>\n",
       "  <tbody>\n",
       "    <tr>\n",
       "      <th>0</th>\n",
       "      <td>633</td>\n",
       "      <td>Austria</td>\n",
       "      <td>AUT</td>\n",
       "      <td>1960</td>\n",
       "      <td>943.610800</td>\n",
       "    </tr>\n",
       "    <tr>\n",
       "      <th>1</th>\n",
       "      <td>634</td>\n",
       "      <td>Austria</td>\n",
       "      <td>AUT</td>\n",
       "      <td>1961</td>\n",
       "      <td>1040.804885</td>\n",
       "    </tr>\n",
       "    <tr>\n",
       "      <th>2</th>\n",
       "      <td>635</td>\n",
       "      <td>Austria</td>\n",
       "      <td>AUT</td>\n",
       "      <td>1962</td>\n",
       "      <td>1097.312202</td>\n",
       "    </tr>\n",
       "    <tr>\n",
       "      <th>3</th>\n",
       "      <td>636</td>\n",
       "      <td>Austria</td>\n",
       "      <td>AUT</td>\n",
       "      <td>1963</td>\n",
       "      <td>1177.168242</td>\n",
       "    </tr>\n",
       "    <tr>\n",
       "      <th>4</th>\n",
       "      <td>637</td>\n",
       "      <td>Austria</td>\n",
       "      <td>AUT</td>\n",
       "      <td>1964</td>\n",
       "      <td>1280.472577</td>\n",
       "    </tr>\n",
       "    <tr>\n",
       "      <th>...</th>\n",
       "      <td>...</td>\n",
       "      <td>...</td>\n",
       "      <td>...</td>\n",
       "      <td>...</td>\n",
       "      <td>...</td>\n",
       "    </tr>\n",
       "    <tr>\n",
       "      <th>1390</th>\n",
       "      <td>11861</td>\n",
       "      <td>Sweden</td>\n",
       "      <td>SWE</td>\n",
       "      <td>2019</td>\n",
       "      <td>51939.429740</td>\n",
       "    </tr>\n",
       "    <tr>\n",
       "      <th>1391</th>\n",
       "      <td>11862</td>\n",
       "      <td>Sweden</td>\n",
       "      <td>SWE</td>\n",
       "      <td>2020</td>\n",
       "      <td>52837.903980</td>\n",
       "    </tr>\n",
       "    <tr>\n",
       "      <th>1392</th>\n",
       "      <td>11863</td>\n",
       "      <td>Sweden</td>\n",
       "      <td>SWE</td>\n",
       "      <td>2021</td>\n",
       "      <td>61417.680880</td>\n",
       "    </tr>\n",
       "    <tr>\n",
       "      <th>1393</th>\n",
       "      <td>11864</td>\n",
       "      <td>Sweden</td>\n",
       "      <td>SWE</td>\n",
       "      <td>2022</td>\n",
       "      <td>56299.505730</td>\n",
       "    </tr>\n",
       "    <tr>\n",
       "      <th>1394</th>\n",
       "      <td>11865</td>\n",
       "      <td>Sweden</td>\n",
       "      <td>SWE</td>\n",
       "      <td>2023</td>\n",
       "      <td>56305.250200</td>\n",
       "    </tr>\n",
       "  </tbody>\n",
       "</table>\n",
       "<p>1395 rows × 5 columns</p>\n",
       "</div>"
      ],
      "text/plain": [
       "      index country_name country_code  year           gdp\n",
       "0       633      Austria          AUT  1960    943.610800\n",
       "1       634      Austria          AUT  1961   1040.804885\n",
       "2       635      Austria          AUT  1962   1097.312202\n",
       "3       636      Austria          AUT  1963   1177.168242\n",
       "4       637      Austria          AUT  1964   1280.472577\n",
       "...     ...          ...          ...   ...           ...\n",
       "1390  11861       Sweden          SWE  2019  51939.429740\n",
       "1391  11862       Sweden          SWE  2020  52837.903980\n",
       "1392  11863       Sweden          SWE  2021  61417.680880\n",
       "1393  11864       Sweden          SWE  2022  56299.505730\n",
       "1394  11865       Sweden          SWE  2023  56305.250200\n",
       "\n",
       "[1395 rows x 5 columns]"
      ]
     },
     "execution_count": 29,
     "metadata": {},
     "output_type": "execute_result"
    }
   ],
   "source": [
    "# H1: reset index\n",
    "df_stacked_eu = df_stacked_eu.reset_index()\n",
    "df_stacked_eu"
   ]
  },
  {
   "cell_type": "code",
   "execution_count": 30,
   "metadata": {},
   "outputs": [],
   "source": [
    "# H1: GDP col round and convert in int type\n",
    "df_stacked_eu['gdp'] = df_stacked_eu['gdp'].astype(int)"
   ]
  },
  {
   "cell_type": "code",
   "execution_count": 31,
   "metadata": {},
   "outputs": [
    {
     "data": {
      "text/html": [
       "<div>\n",
       "<style scoped>\n",
       "    .dataframe tbody tr th:only-of-type {\n",
       "        vertical-align: middle;\n",
       "    }\n",
       "\n",
       "    .dataframe tbody tr th {\n",
       "        vertical-align: top;\n",
       "    }\n",
       "\n",
       "    .dataframe thead th {\n",
       "        text-align: right;\n",
       "    }\n",
       "</style>\n",
       "<table border=\"1\" class=\"dataframe\">\n",
       "  <thead>\n",
       "    <tr style=\"text-align: right;\">\n",
       "      <th></th>\n",
       "      <th>non-Null_count</th>\n",
       "      <th>dtype</th>\n",
       "      <th>unique_values</th>\n",
       "      <th>%_unique</th>\n",
       "      <th>missing_values</th>\n",
       "      <th>%_missing</th>\n",
       "    </tr>\n",
       "  </thead>\n",
       "  <tbody>\n",
       "    <tr>\n",
       "      <th>index</th>\n",
       "      <td>1395</td>\n",
       "      <td>int64</td>\n",
       "      <td>1395</td>\n",
       "      <td>100.0%</td>\n",
       "      <td>0</td>\n",
       "      <td>0.0%</td>\n",
       "    </tr>\n",
       "    <tr>\n",
       "      <th>country_name</th>\n",
       "      <td>1395</td>\n",
       "      <td>object</td>\n",
       "      <td>27</td>\n",
       "      <td>1.94%</td>\n",
       "      <td>0</td>\n",
       "      <td>0.0%</td>\n",
       "    </tr>\n",
       "    <tr>\n",
       "      <th>country_code</th>\n",
       "      <td>1395</td>\n",
       "      <td>object</td>\n",
       "      <td>27</td>\n",
       "      <td>1.94%</td>\n",
       "      <td>0</td>\n",
       "      <td>0.0%</td>\n",
       "    </tr>\n",
       "    <tr>\n",
       "      <th>year</th>\n",
       "      <td>1395</td>\n",
       "      <td>object</td>\n",
       "      <td>64</td>\n",
       "      <td>4.59%</td>\n",
       "      <td>0</td>\n",
       "      <td>0.0%</td>\n",
       "    </tr>\n",
       "    <tr>\n",
       "      <th>gdp</th>\n",
       "      <td>1395</td>\n",
       "      <td>int64</td>\n",
       "      <td>1366</td>\n",
       "      <td>97.92%</td>\n",
       "      <td>0</td>\n",
       "      <td>0.0%</td>\n",
       "    </tr>\n",
       "  </tbody>\n",
       "</table>\n",
       "</div>"
      ],
      "text/plain": [
       "              non-Null_count   dtype  unique_values %_unique  missing_values  \\\n",
       "index                   1395   int64           1395   100.0%               0   \n",
       "country_name            1395  object             27    1.94%               0   \n",
       "country_code            1395  object             27    1.94%               0   \n",
       "year                    1395  object             64    4.59%               0   \n",
       "gdp                     1395   int64           1366   97.92%               0   \n",
       "\n",
       "             %_missing  \n",
       "index             0.0%  \n",
       "country_name      0.0%  \n",
       "country_code      0.0%  \n",
       "year              0.0%  \n",
       "gdp               0.0%  "
      ]
     },
     "execution_count": 31,
     "metadata": {},
     "output_type": "execute_result"
    }
   ],
   "source": [
    "# H1: check missing values \n",
    "unique_and_missing_values_dtype(df_stacked_eu)"
   ]
  },
  {
   "cell_type": "code",
   "execution_count": 32,
   "metadata": {},
   "outputs": [],
   "source": [
    "# H1: drop col index: \n",
    "df_stacked_eu = df_stacked_eu.drop(columns=['index'])"
   ]
  },
  {
   "cell_type": "code",
   "execution_count": 33,
   "metadata": {},
   "outputs": [
    {
     "data": {
      "text/html": [
       "<div>\n",
       "<style scoped>\n",
       "    .dataframe tbody tr th:only-of-type {\n",
       "        vertical-align: middle;\n",
       "    }\n",
       "\n",
       "    .dataframe tbody tr th {\n",
       "        vertical-align: top;\n",
       "    }\n",
       "\n",
       "    .dataframe thead th {\n",
       "        text-align: right;\n",
       "    }\n",
       "</style>\n",
       "<table border=\"1\" class=\"dataframe\">\n",
       "  <thead>\n",
       "    <tr style=\"text-align: right;\">\n",
       "      <th></th>\n",
       "      <th>non-Null_count</th>\n",
       "      <th>dtype</th>\n",
       "      <th>unique_values</th>\n",
       "      <th>%_unique</th>\n",
       "      <th>missing_values</th>\n",
       "      <th>%_missing</th>\n",
       "    </tr>\n",
       "  </thead>\n",
       "  <tbody>\n",
       "    <tr>\n",
       "      <th>country_name</th>\n",
       "      <td>1395</td>\n",
       "      <td>object</td>\n",
       "      <td>27</td>\n",
       "      <td>1.94%</td>\n",
       "      <td>0</td>\n",
       "      <td>0.0%</td>\n",
       "    </tr>\n",
       "    <tr>\n",
       "      <th>country_code</th>\n",
       "      <td>1395</td>\n",
       "      <td>object</td>\n",
       "      <td>27</td>\n",
       "      <td>1.94%</td>\n",
       "      <td>0</td>\n",
       "      <td>0.0%</td>\n",
       "    </tr>\n",
       "    <tr>\n",
       "      <th>year</th>\n",
       "      <td>1395</td>\n",
       "      <td>object</td>\n",
       "      <td>64</td>\n",
       "      <td>4.59%</td>\n",
       "      <td>0</td>\n",
       "      <td>0.0%</td>\n",
       "    </tr>\n",
       "    <tr>\n",
       "      <th>gdp</th>\n",
       "      <td>1395</td>\n",
       "      <td>int64</td>\n",
       "      <td>1366</td>\n",
       "      <td>97.92%</td>\n",
       "      <td>0</td>\n",
       "      <td>0.0%</td>\n",
       "    </tr>\n",
       "  </tbody>\n",
       "</table>\n",
       "</div>"
      ],
      "text/plain": [
       "              non-Null_count   dtype  unique_values %_unique  missing_values  \\\n",
       "country_name            1395  object             27    1.94%               0   \n",
       "country_code            1395  object             27    1.94%               0   \n",
       "year                    1395  object             64    4.59%               0   \n",
       "gdp                     1395   int64           1366   97.92%               0   \n",
       "\n",
       "             %_missing  \n",
       "country_name      0.0%  \n",
       "country_code      0.0%  \n",
       "year              0.0%  \n",
       "gdp               0.0%  "
      ]
     },
     "execution_count": 33,
     "metadata": {},
     "output_type": "execute_result"
    }
   ],
   "source": [
    "# H1: perform unique_and_missing_values_dtype analysis\n",
    "unique_and_missing_values_dtype(df_stacked_eu)"
   ]
  },
  {
   "cell_type": "code",
   "execution_count": 34,
   "metadata": {},
   "outputs": [
    {
     "data": {
      "text/html": [
       "<div>\n",
       "<style scoped>\n",
       "    .dataframe tbody tr th:only-of-type {\n",
       "        vertical-align: middle;\n",
       "    }\n",
       "\n",
       "    .dataframe tbody tr th {\n",
       "        vertical-align: top;\n",
       "    }\n",
       "\n",
       "    .dataframe thead th {\n",
       "        text-align: right;\n",
       "    }\n",
       "</style>\n",
       "<table border=\"1\" class=\"dataframe\">\n",
       "  <thead>\n",
       "    <tr style=\"text-align: right;\">\n",
       "      <th></th>\n",
       "      <th>country_name</th>\n",
       "      <th>country_code</th>\n",
       "      <th>year</th>\n",
       "      <th>gdp</th>\n",
       "    </tr>\n",
       "  </thead>\n",
       "  <tbody>\n",
       "    <tr>\n",
       "      <th>0</th>\n",
       "      <td>Austria</td>\n",
       "      <td>AUT</td>\n",
       "      <td>1960</td>\n",
       "      <td>943</td>\n",
       "    </tr>\n",
       "    <tr>\n",
       "      <th>1</th>\n",
       "      <td>Austria</td>\n",
       "      <td>AUT</td>\n",
       "      <td>1961</td>\n",
       "      <td>1040</td>\n",
       "    </tr>\n",
       "    <tr>\n",
       "      <th>2</th>\n",
       "      <td>Austria</td>\n",
       "      <td>AUT</td>\n",
       "      <td>1962</td>\n",
       "      <td>1097</td>\n",
       "    </tr>\n",
       "    <tr>\n",
       "      <th>3</th>\n",
       "      <td>Austria</td>\n",
       "      <td>AUT</td>\n",
       "      <td>1963</td>\n",
       "      <td>1177</td>\n",
       "    </tr>\n",
       "    <tr>\n",
       "      <th>4</th>\n",
       "      <td>Austria</td>\n",
       "      <td>AUT</td>\n",
       "      <td>1964</td>\n",
       "      <td>1280</td>\n",
       "    </tr>\n",
       "  </tbody>\n",
       "</table>\n",
       "</div>"
      ],
      "text/plain": [
       "  country_name country_code  year   gdp\n",
       "0      Austria          AUT  1960   943\n",
       "1      Austria          AUT  1961  1040\n",
       "2      Austria          AUT  1962  1097\n",
       "3      Austria          AUT  1963  1177\n",
       "4      Austria          AUT  1964  1280"
      ]
     },
     "execution_count": 34,
     "metadata": {},
     "output_type": "execute_result"
    }
   ],
   "source": [
    "#  H1: remove 'Romania' data from the GDP dataset:\n",
    "df_stacked_eu = df_stacked_eu.drop(df_stacked_eu[df_stacked_eu['country_name'] == 'Romania'].index)\n",
    "df_stacked_eu.head()\n"
   ]
  },
  {
   "cell_type": "code",
   "execution_count": 35,
   "metadata": {},
   "outputs": [
    {
     "name": "stdout",
     "output_type": "stream",
     "text": [
      "Countries in df_main not in df_stacked_eu: set()\n",
      "Countries in df_stacked_eu not in df_main: set()\n"
     ]
    }
   ],
   "source": [
    "#  H1: compare countries in both datasets:\n",
    "unique_countries_eu = df_stacked_eu['country_name'].unique()\n",
    "unique_countries_main = df_main['country_name'].unique()\n",
    "\n",
    "# Find countries in df_main that are not in df_stacked_eu\n",
    "countries_not_in_eu = set(unique_countries_main) - set(unique_countries_eu)\n",
    "# Find countries in df_stacked_eu that are not in df_main\n",
    "countries_not_in_main = set(unique_countries_eu) - set(unique_countries_main)\n",
    "\n",
    "print(\"Countries in df_main not in df_stacked_eu:\", countries_not_in_eu)\n",
    "print(\"Countries in df_stacked_eu not in df_main:\", countries_not_in_main)"
   ]
  },
  {
   "cell_type": "code",
   "execution_count": 36,
   "metadata": {},
   "outputs": [
    {
     "data": {
      "text/html": [
       "<div>\n",
       "<style scoped>\n",
       "    .dataframe tbody tr th:only-of-type {\n",
       "        vertical-align: middle;\n",
       "    }\n",
       "\n",
       "    .dataframe tbody tr th {\n",
       "        vertical-align: top;\n",
       "    }\n",
       "\n",
       "    .dataframe thead th {\n",
       "        text-align: right;\n",
       "    }\n",
       "</style>\n",
       "<table border=\"1\" class=\"dataframe\">\n",
       "  <thead>\n",
       "    <tr style=\"text-align: right;\">\n",
       "      <th></th>\n",
       "      <th>country_name</th>\n",
       "      <th>country_code</th>\n",
       "      <th>year</th>\n",
       "      <th>gdp</th>\n",
       "    </tr>\n",
       "  </thead>\n",
       "  <tbody>\n",
       "    <tr>\n",
       "      <th>0</th>\n",
       "      <td>Austria</td>\n",
       "      <td>AUT</td>\n",
       "      <td>1960</td>\n",
       "      <td>943</td>\n",
       "    </tr>\n",
       "    <tr>\n",
       "      <th>1</th>\n",
       "      <td>Austria</td>\n",
       "      <td>AUT</td>\n",
       "      <td>1961</td>\n",
       "      <td>1040</td>\n",
       "    </tr>\n",
       "    <tr>\n",
       "      <th>2</th>\n",
       "      <td>Austria</td>\n",
       "      <td>AUT</td>\n",
       "      <td>1962</td>\n",
       "      <td>1097</td>\n",
       "    </tr>\n",
       "    <tr>\n",
       "      <th>3</th>\n",
       "      <td>Austria</td>\n",
       "      <td>AUT</td>\n",
       "      <td>1963</td>\n",
       "      <td>1177</td>\n",
       "    </tr>\n",
       "    <tr>\n",
       "      <th>4</th>\n",
       "      <td>Austria</td>\n",
       "      <td>AUT</td>\n",
       "      <td>1964</td>\n",
       "      <td>1280</td>\n",
       "    </tr>\n",
       "  </tbody>\n",
       "</table>\n",
       "</div>"
      ],
      "text/plain": [
       "  country_name country_code  year   gdp\n",
       "0      Austria          AUT  1960   943\n",
       "1      Austria          AUT  1961  1040\n",
       "2      Austria          AUT  1962  1097\n",
       "3      Austria          AUT  1963  1177\n",
       "4      Austria          AUT  1964  1280"
      ]
     },
     "execution_count": 36,
     "metadata": {},
     "output_type": "execute_result"
    }
   ],
   "source": [
    "#  H1: make a copy of GDP dataset\n",
    "df_gdp_final = df_stacked_eu.copy()\n",
    "df_gdp_final.head()"
   ]
  },
  {
   "cell_type": "code",
   "execution_count": 37,
   "metadata": {},
   "outputs": [],
   "source": [
    "# H1 : convert df_gdp_final['year'] to int\n",
    "df_gdp_final['year'] = df_gdp_final['year'].astype(int)"
   ]
  },
  {
   "cell_type": "markdown",
   "metadata": {},
   "source": [
    "# H1: cleaned databases : "
   ]
  },
  {
   "cell_type": "code",
   "execution_count": 38,
   "metadata": {},
   "outputs": [
    {
     "data": {
      "text/html": [
       "<div>\n",
       "<style scoped>\n",
       "    .dataframe tbody tr th:only-of-type {\n",
       "        vertical-align: middle;\n",
       "    }\n",
       "\n",
       "    .dataframe tbody tr th {\n",
       "        vertical-align: top;\n",
       "    }\n",
       "\n",
       "    .dataframe thead th {\n",
       "        text-align: right;\n",
       "    }\n",
       "</style>\n",
       "<table border=\"1\" class=\"dataframe\">\n",
       "  <thead>\n",
       "    <tr style=\"text-align: right;\">\n",
       "      <th></th>\n",
       "      <th>country_name</th>\n",
       "      <th>country_code</th>\n",
       "      <th>year</th>\n",
       "      <th>gdp</th>\n",
       "    </tr>\n",
       "  </thead>\n",
       "  <tbody>\n",
       "    <tr>\n",
       "      <th>0</th>\n",
       "      <td>Austria</td>\n",
       "      <td>AUT</td>\n",
       "      <td>1960</td>\n",
       "      <td>943</td>\n",
       "    </tr>\n",
       "    <tr>\n",
       "      <th>1</th>\n",
       "      <td>Austria</td>\n",
       "      <td>AUT</td>\n",
       "      <td>1961</td>\n",
       "      <td>1040</td>\n",
       "    </tr>\n",
       "    <tr>\n",
       "      <th>2</th>\n",
       "      <td>Austria</td>\n",
       "      <td>AUT</td>\n",
       "      <td>1962</td>\n",
       "      <td>1097</td>\n",
       "    </tr>\n",
       "    <tr>\n",
       "      <th>3</th>\n",
       "      <td>Austria</td>\n",
       "      <td>AUT</td>\n",
       "      <td>1963</td>\n",
       "      <td>1177</td>\n",
       "    </tr>\n",
       "    <tr>\n",
       "      <th>4</th>\n",
       "      <td>Austria</td>\n",
       "      <td>AUT</td>\n",
       "      <td>1964</td>\n",
       "      <td>1280</td>\n",
       "    </tr>\n",
       "    <tr>\n",
       "      <th>...</th>\n",
       "      <td>...</td>\n",
       "      <td>...</td>\n",
       "      <td>...</td>\n",
       "      <td>...</td>\n",
       "    </tr>\n",
       "    <tr>\n",
       "      <th>1390</th>\n",
       "      <td>Sweden</td>\n",
       "      <td>SWE</td>\n",
       "      <td>2019</td>\n",
       "      <td>51939</td>\n",
       "    </tr>\n",
       "    <tr>\n",
       "      <th>1391</th>\n",
       "      <td>Sweden</td>\n",
       "      <td>SWE</td>\n",
       "      <td>2020</td>\n",
       "      <td>52837</td>\n",
       "    </tr>\n",
       "    <tr>\n",
       "      <th>1392</th>\n",
       "      <td>Sweden</td>\n",
       "      <td>SWE</td>\n",
       "      <td>2021</td>\n",
       "      <td>61417</td>\n",
       "    </tr>\n",
       "    <tr>\n",
       "      <th>1393</th>\n",
       "      <td>Sweden</td>\n",
       "      <td>SWE</td>\n",
       "      <td>2022</td>\n",
       "      <td>56299</td>\n",
       "    </tr>\n",
       "    <tr>\n",
       "      <th>1394</th>\n",
       "      <td>Sweden</td>\n",
       "      <td>SWE</td>\n",
       "      <td>2023</td>\n",
       "      <td>56305</td>\n",
       "    </tr>\n",
       "  </tbody>\n",
       "</table>\n",
       "<p>1358 rows × 4 columns</p>\n",
       "</div>"
      ],
      "text/plain": [
       "     country_name country_code  year    gdp\n",
       "0         Austria          AUT  1960    943\n",
       "1         Austria          AUT  1961   1040\n",
       "2         Austria          AUT  1962   1097\n",
       "3         Austria          AUT  1963   1177\n",
       "4         Austria          AUT  1964   1280\n",
       "...           ...          ...   ...    ...\n",
       "1390       Sweden          SWE  2019  51939\n",
       "1391       Sweden          SWE  2020  52837\n",
       "1392       Sweden          SWE  2021  61417\n",
       "1393       Sweden          SWE  2022  56299\n",
       "1394       Sweden          SWE  2023  56305\n",
       "\n",
       "[1358 rows x 4 columns]"
      ]
     },
     "execution_count": 38,
     "metadata": {},
     "output_type": "execute_result"
    }
   ],
   "source": [
    "df_main  # global electricity production\n",
    "df_gdp_final #gdp per capita"
   ]
  },
  {
   "cell_type": "markdown",
   "metadata": {},
   "source": [
    "# H1: Correlation research \n",
    "How does GDP rate influence renewable energy adoption in EU countries from 2010 to 2023\n"
   ]
  },
  {
   "cell_type": "markdown",
   "metadata": {},
   "source": [
    "# H1: Correlation idea: \n",
    "1. in df_main find the % of renevavable energy\n",
    "2. make a pivot df with cols : country, year, % of renevable energy\n",
    "3. merge df energy production  with gdp_df (cols: country, year, gdp) by cols country and year\n",
    "4. perform a scatterplot visualisation by 'GDP' and '% of renuvable'\n"
   ]
  },
  {
   "cell_type": "markdown",
   "metadata": {},
   "source": [
    "## H1.1. In df_main find the % of renevavable energy"
   ]
  },
  {
   "cell_type": "code",
   "execution_count": 39,
   "metadata": {},
   "outputs": [
    {
     "data": {
      "text/plain": [
       "Index(['country_name', 'date', 'parameter', 'product', 'value', 'unit',\n",
       "       'year'],\n",
       "      dtype='object')"
      ]
     },
     "execution_count": 39,
     "metadata": {},
     "output_type": "execute_result"
    }
   ],
   "source": [
    "df_main.columns"
   ]
  },
  {
   "cell_type": "code",
   "execution_count": 40,
   "metadata": {},
   "outputs": [],
   "source": [
    "# H1 : make a copy of df\n",
    "df_energy_prod = df_main.copy()"
   ]
  },
  {
   "cell_type": "code",
   "execution_count": 41,
   "metadata": {},
   "outputs": [],
   "source": [
    "# Filter the DataFrame to keep only the specified products: 'Total Combustible Fuels', 'Total Renevables (Hydro, Geo, Solar, Wind, Other)': \n",
    "filtered_df_energy_prod = df_energy_prod[df_energy_prod['product'].isin(['Total Combustible Fuels', 'Total Renewables (Hydro, Geo, Solar, Wind, Other)'])]"
   ]
  },
  {
   "cell_type": "markdown",
   "metadata": {},
   "source": [
    "## H1.2. make a pivot df_main (energy prod) with cols : country, year, % of renevable energy"
   ]
  },
  {
   "cell_type": "code",
   "execution_count": 42,
   "metadata": {},
   "outputs": [],
   "source": [
    "# H1.2. make a pivot table\n",
    "pivot_df_energy = filtered_df_energy_prod.pivot_table(index=['year', 'country_name'], columns='product', values='value', aggfunc='sum').reset_index()\n",
    "\n",
    "# Calculate the share of renewables\n",
    "pivot_df_energy['%_of_renewable'] = (pivot_df_energy['Total Renewables (Hydro, Geo, Solar, Wind, Other)'] / \n",
    "                             (pivot_df_energy['Total Combustible Fuels'] + pivot_df_energy['Total Renewables (Hydro, Geo, Solar, Wind, Other)'])) * 100"
   ]
  },
  {
   "cell_type": "code",
   "execution_count": 43,
   "metadata": {},
   "outputs": [],
   "source": [
    "# H1.2.ensure that in the both dataframes the date range is between 2010 and 2023\n",
    "df_gdp_final_filtered = df_gdp_final[df_gdp_final['year'] >= 2010]"
   ]
  },
  {
   "cell_type": "code",
   "execution_count": 44,
   "metadata": {},
   "outputs": [
    {
     "data": {
      "text/plain": [
       "array([2010, 2011, 2012, 2013, 2014, 2015, 2016, 2017, 2018, 2019, 2020,\n",
       "       2021, 2022, 2023])"
      ]
     },
     "execution_count": 44,
     "metadata": {},
     "output_type": "execute_result"
    }
   ],
   "source": [
    "df_gdp_final_filtered['year'].unique()"
   ]
  },
  {
   "cell_type": "markdown",
   "metadata": {},
   "source": [
    "## H1.3. merge df energy production  with gdp_df (cols: country, year, gdp) by cols country and year\n"
   ]
  },
  {
   "cell_type": "code",
   "execution_count": 45,
   "metadata": {},
   "outputs": [
    {
     "data": {
      "text/html": [
       "<div>\n",
       "<style scoped>\n",
       "    .dataframe tbody tr th:only-of-type {\n",
       "        vertical-align: middle;\n",
       "    }\n",
       "\n",
       "    .dataframe tbody tr th {\n",
       "        vertical-align: top;\n",
       "    }\n",
       "\n",
       "    .dataframe thead th {\n",
       "        text-align: right;\n",
       "    }\n",
       "</style>\n",
       "<table border=\"1\" class=\"dataframe\">\n",
       "  <thead>\n",
       "    <tr style=\"text-align: right;\">\n",
       "      <th></th>\n",
       "      <th>year</th>\n",
       "      <th>country_name</th>\n",
       "      <th>Total Combustible Fuels</th>\n",
       "      <th>Total Renewables (Hydro, Geo, Solar, Wind, Other)</th>\n",
       "      <th>%_of_renewable</th>\n",
       "      <th>country_code</th>\n",
       "      <th>gdp</th>\n",
       "    </tr>\n",
       "  </thead>\n",
       "  <tbody>\n",
       "    <tr>\n",
       "      <th>0</th>\n",
       "      <td>2010</td>\n",
       "      <td>Austria</td>\n",
       "      <td>26038</td>\n",
       "      <td>45804</td>\n",
       "      <td>63.756577</td>\n",
       "      <td>AUT</td>\n",
       "      <td>46903</td>\n",
       "    </tr>\n",
       "    <tr>\n",
       "      <th>1</th>\n",
       "      <td>2010</td>\n",
       "      <td>Belgium</td>\n",
       "      <td>42054</td>\n",
       "      <td>7674</td>\n",
       "      <td>15.431950</td>\n",
       "      <td>BEL</td>\n",
       "      <td>44184</td>\n",
       "    </tr>\n",
       "    <tr>\n",
       "      <th>2</th>\n",
       "      <td>2010</td>\n",
       "      <td>Czech Republic</td>\n",
       "      <td>47559</td>\n",
       "      <td>6229</td>\n",
       "      <td>11.580650</td>\n",
       "      <td>CZE</td>\n",
       "      <td>19960</td>\n",
       "    </tr>\n",
       "    <tr>\n",
       "      <th>3</th>\n",
       "      <td>2010</td>\n",
       "      <td>Denmark</td>\n",
       "      <td>29030</td>\n",
       "      <td>12128</td>\n",
       "      <td>29.466932</td>\n",
       "      <td>DNK</td>\n",
       "      <td>58041</td>\n",
       "    </tr>\n",
       "    <tr>\n",
       "      <th>4</th>\n",
       "      <td>2010</td>\n",
       "      <td>Estonia</td>\n",
       "      <td>11422</td>\n",
       "      <td>965</td>\n",
       "      <td>7.790425</td>\n",
       "      <td>EST</td>\n",
       "      <td>14663</td>\n",
       "    </tr>\n",
       "    <tr>\n",
       "      <th>...</th>\n",
       "      <td>...</td>\n",
       "      <td>...</td>\n",
       "      <td>...</td>\n",
       "      <td>...</td>\n",
       "      <td>...</td>\n",
       "      <td>...</td>\n",
       "      <td>...</td>\n",
       "    </tr>\n",
       "    <tr>\n",
       "      <th>339</th>\n",
       "      <td>2023</td>\n",
       "      <td>Portugal</td>\n",
       "      <td>15468</td>\n",
       "      <td>36667</td>\n",
       "      <td>70.330872</td>\n",
       "      <td>PRT</td>\n",
       "      <td>27275</td>\n",
       "    </tr>\n",
       "    <tr>\n",
       "      <th>340</th>\n",
       "      <td>2023</td>\n",
       "      <td>Slovak Republic</td>\n",
       "      <td>6279</td>\n",
       "      <td>7471</td>\n",
       "      <td>54.334545</td>\n",
       "      <td>SVK</td>\n",
       "      <td>24470</td>\n",
       "    </tr>\n",
       "    <tr>\n",
       "      <th>341</th>\n",
       "      <td>2023</td>\n",
       "      <td>Slovenia</td>\n",
       "      <td>3552</td>\n",
       "      <td>6379</td>\n",
       "      <td>64.233209</td>\n",
       "      <td>SVN</td>\n",
       "      <td>32163</td>\n",
       "    </tr>\n",
       "    <tr>\n",
       "      <th>342</th>\n",
       "      <td>2023</td>\n",
       "      <td>Spain</td>\n",
       "      <td>81697</td>\n",
       "      <td>141350</td>\n",
       "      <td>63.372294</td>\n",
       "      <td>ESP</td>\n",
       "      <td>32676</td>\n",
       "    </tr>\n",
       "    <tr>\n",
       "      <th>343</th>\n",
       "      <td>2023</td>\n",
       "      <td>Sweden</td>\n",
       "      <td>13573</td>\n",
       "      <td>112169</td>\n",
       "      <td>89.205675</td>\n",
       "      <td>SWE</td>\n",
       "      <td>56305</td>\n",
       "    </tr>\n",
       "  </tbody>\n",
       "</table>\n",
       "<p>344 rows × 7 columns</p>\n",
       "</div>"
      ],
      "text/plain": [
       "     year     country_name  Total Combustible Fuels  \\\n",
       "0    2010          Austria                    26038   \n",
       "1    2010          Belgium                    42054   \n",
       "2    2010   Czech Republic                    47559   \n",
       "3    2010          Denmark                    29030   \n",
       "4    2010          Estonia                    11422   \n",
       "..    ...              ...                      ...   \n",
       "339  2023         Portugal                    15468   \n",
       "340  2023  Slovak Republic                     6279   \n",
       "341  2023         Slovenia                     3552   \n",
       "342  2023            Spain                    81697   \n",
       "343  2023           Sweden                    13573   \n",
       "\n",
       "     Total Renewables (Hydro, Geo, Solar, Wind, Other)  %_of_renewable  \\\n",
       "0                                                45804       63.756577   \n",
       "1                                                 7674       15.431950   \n",
       "2                                                 6229       11.580650   \n",
       "3                                                12128       29.466932   \n",
       "4                                                  965        7.790425   \n",
       "..                                                 ...             ...   \n",
       "339                                              36667       70.330872   \n",
       "340                                               7471       54.334545   \n",
       "341                                               6379       64.233209   \n",
       "342                                             141350       63.372294   \n",
       "343                                             112169       89.205675   \n",
       "\n",
       "    country_code    gdp  \n",
       "0            AUT  46903  \n",
       "1            BEL  44184  \n",
       "2            CZE  19960  \n",
       "3            DNK  58041  \n",
       "4            EST  14663  \n",
       "..           ...    ...  \n",
       "339          PRT  27275  \n",
       "340          SVK  24470  \n",
       "341          SVN  32163  \n",
       "342          ESP  32676  \n",
       "343          SWE  56305  \n",
       "\n",
       "[344 rows x 7 columns]"
      ]
     },
     "execution_count": 45,
     "metadata": {},
     "output_type": "execute_result"
    }
   ],
   "source": [
    "# H1.3.merge both dataframes\n",
    "df_merged = pd.merge(pivot_df_energy, df_gdp_final_filtered, on=['year', 'country_name'], how='left')\n",
    "df_merged "
   ]
  },
  {
   "cell_type": "code",
   "execution_count": 46,
   "metadata": {},
   "outputs": [],
   "source": [
    "# H1.3.convert df_main['%_of_renewable'] to int\n",
    "df_merged['%_of_renewable'] = df_merged['%_of_renewable'].astype(int)"
   ]
  },
  {
   "cell_type": "code",
   "execution_count": 47,
   "metadata": {},
   "outputs": [
    {
     "data": {
      "text/html": [
       "<div>\n",
       "<style scoped>\n",
       "    .dataframe tbody tr th:only-of-type {\n",
       "        vertical-align: middle;\n",
       "    }\n",
       "\n",
       "    .dataframe tbody tr th {\n",
       "        vertical-align: top;\n",
       "    }\n",
       "\n",
       "    .dataframe thead th {\n",
       "        text-align: right;\n",
       "    }\n",
       "</style>\n",
       "<table border=\"1\" class=\"dataframe\">\n",
       "  <thead>\n",
       "    <tr style=\"text-align: right;\">\n",
       "      <th></th>\n",
       "      <th>year</th>\n",
       "      <th>country_name</th>\n",
       "      <th>%_of_renewable</th>\n",
       "      <th>gdp</th>\n",
       "    </tr>\n",
       "  </thead>\n",
       "  <tbody>\n",
       "    <tr>\n",
       "      <th>0</th>\n",
       "      <td>2010</td>\n",
       "      <td>Austria</td>\n",
       "      <td>63</td>\n",
       "      <td>46903</td>\n",
       "    </tr>\n",
       "    <tr>\n",
       "      <th>1</th>\n",
       "      <td>2010</td>\n",
       "      <td>Belgium</td>\n",
       "      <td>15</td>\n",
       "      <td>44184</td>\n",
       "    </tr>\n",
       "    <tr>\n",
       "      <th>2</th>\n",
       "      <td>2010</td>\n",
       "      <td>Czech Republic</td>\n",
       "      <td>11</td>\n",
       "      <td>19960</td>\n",
       "    </tr>\n",
       "    <tr>\n",
       "      <th>3</th>\n",
       "      <td>2010</td>\n",
       "      <td>Denmark</td>\n",
       "      <td>29</td>\n",
       "      <td>58041</td>\n",
       "    </tr>\n",
       "    <tr>\n",
       "      <th>4</th>\n",
       "      <td>2010</td>\n",
       "      <td>Estonia</td>\n",
       "      <td>7</td>\n",
       "      <td>14663</td>\n",
       "    </tr>\n",
       "    <tr>\n",
       "      <th>...</th>\n",
       "      <td>...</td>\n",
       "      <td>...</td>\n",
       "      <td>...</td>\n",
       "      <td>...</td>\n",
       "    </tr>\n",
       "    <tr>\n",
       "      <th>339</th>\n",
       "      <td>2023</td>\n",
       "      <td>Portugal</td>\n",
       "      <td>70</td>\n",
       "      <td>27275</td>\n",
       "    </tr>\n",
       "    <tr>\n",
       "      <th>340</th>\n",
       "      <td>2023</td>\n",
       "      <td>Slovak Republic</td>\n",
       "      <td>54</td>\n",
       "      <td>24470</td>\n",
       "    </tr>\n",
       "    <tr>\n",
       "      <th>341</th>\n",
       "      <td>2023</td>\n",
       "      <td>Slovenia</td>\n",
       "      <td>64</td>\n",
       "      <td>32163</td>\n",
       "    </tr>\n",
       "    <tr>\n",
       "      <th>342</th>\n",
       "      <td>2023</td>\n",
       "      <td>Spain</td>\n",
       "      <td>63</td>\n",
       "      <td>32676</td>\n",
       "    </tr>\n",
       "    <tr>\n",
       "      <th>343</th>\n",
       "      <td>2023</td>\n",
       "      <td>Sweden</td>\n",
       "      <td>89</td>\n",
       "      <td>56305</td>\n",
       "    </tr>\n",
       "  </tbody>\n",
       "</table>\n",
       "<p>344 rows × 4 columns</p>\n",
       "</div>"
      ],
      "text/plain": [
       "     year     country_name  %_of_renewable    gdp\n",
       "0    2010          Austria              63  46903\n",
       "1    2010          Belgium              15  44184\n",
       "2    2010   Czech Republic              11  19960\n",
       "3    2010          Denmark              29  58041\n",
       "4    2010          Estonia               7  14663\n",
       "..    ...              ...             ...    ...\n",
       "339  2023         Portugal              70  27275\n",
       "340  2023  Slovak Republic              54  24470\n",
       "341  2023         Slovenia              64  32163\n",
       "342  2023            Spain              63  32676\n",
       "343  2023           Sweden              89  56305\n",
       "\n",
       "[344 rows x 4 columns]"
      ]
     },
     "execution_count": 47,
     "metadata": {},
     "output_type": "execute_result"
    }
   ],
   "source": [
    "# H1.3.remove unrelevant cols \n",
    "df_viz = df_merged.drop(columns=['Total Combustible Fuels', 'Total Renewables (Hydro, Geo, Solar, Wind, Other)', 'country_code'])\n",
    "df_viz"
   ]
  },
  {
   "cell_type": "markdown",
   "metadata": {},
   "source": [
    "## H1.4. perform a scatterplot visualisation"
   ]
  },
  {
   "cell_type": "code",
   "execution_count": 48,
   "metadata": {},
   "outputs": [
    {
     "data": {
      "application/vnd.plotly.v1+json": {
       "config": {
        "plotlyServerURL": "https://plot.ly"
       },
       "data": [
        {
         "hovertemplate": "<b>%{hovertext}</b><br><br>gdp=%{x}<br>%_of_renewable=%{y}<br>year=%{marker.color}<extra></extra>",
         "hovertext": [
          "Austria",
          "Belgium",
          "Czech Republic",
          "Denmark",
          "Estonia",
          "Finland",
          "France",
          "Germany",
          "Greece",
          "Hungary",
          "Ireland",
          "Italy",
          "Latvia",
          "Lithuania",
          "Luxembourg",
          "Netherlands",
          "Poland",
          "Portugal",
          "Slovak Republic",
          "Slovenia",
          "Spain",
          "Sweden",
          "Austria",
          "Belgium",
          "Czech Republic",
          "Denmark",
          "Estonia",
          "Finland",
          "France",
          "Germany",
          "Greece",
          "Hungary",
          "Ireland",
          "Italy",
          "Latvia",
          "Lithuania",
          "Luxembourg",
          "Netherlands",
          "Poland",
          "Portugal",
          "Slovak Republic",
          "Slovenia",
          "Spain",
          "Sweden",
          "Austria",
          "Belgium",
          "Czech Republic",
          "Denmark",
          "Estonia",
          "Finland",
          "France",
          "Germany",
          "Greece",
          "Hungary",
          "Ireland",
          "Italy",
          "Latvia",
          "Lithuania",
          "Luxembourg",
          "Netherlands",
          "Poland",
          "Portugal",
          "Slovak Republic",
          "Slovenia",
          "Spain",
          "Sweden",
          "Austria",
          "Belgium",
          "Czech Republic",
          "Denmark",
          "Estonia",
          "Finland",
          "France",
          "Germany",
          "Greece",
          "Hungary",
          "Ireland",
          "Italy",
          "Latvia",
          "Lithuania",
          "Luxembourg",
          "Netherlands",
          "Poland",
          "Portugal",
          "Slovak Republic",
          "Slovenia",
          "Spain",
          "Sweden",
          "Austria",
          "Belgium",
          "Czech Republic",
          "Denmark",
          "Estonia",
          "Finland",
          "France",
          "Germany",
          "Greece",
          "Hungary",
          "Ireland",
          "Italy",
          "Latvia",
          "Lithuania",
          "Luxembourg",
          "Netherlands",
          "Poland",
          "Portugal",
          "Slovak Republic",
          "Slovenia",
          "Spain",
          "Sweden",
          "Austria",
          "Belgium",
          "Bulgaria",
          "Croatia",
          "Cyprus",
          "Czech Republic",
          "Denmark",
          "Estonia",
          "Finland",
          "France",
          "Germany",
          "Greece",
          "Hungary",
          "Ireland",
          "Italy",
          "Latvia",
          "Lithuania",
          "Luxembourg",
          "Malta",
          "Netherlands",
          "Poland",
          "Portugal",
          "Slovak Republic",
          "Slovenia",
          "Spain",
          "Sweden",
          "Austria",
          "Belgium",
          "Bulgaria",
          "Croatia",
          "Cyprus",
          "Czech Republic",
          "Denmark",
          "Estonia",
          "Finland",
          "France",
          "Germany",
          "Greece",
          "Hungary",
          "Ireland",
          "Italy",
          "Latvia",
          "Lithuania",
          "Luxembourg",
          "Malta",
          "Netherlands",
          "Poland",
          "Portugal",
          "Slovak Republic",
          "Slovenia",
          "Spain",
          "Sweden",
          "Austria",
          "Belgium",
          "Bulgaria",
          "Croatia",
          "Cyprus",
          "Czech Republic",
          "Denmark",
          "Estonia",
          "Finland",
          "France",
          "Germany",
          "Greece",
          "Hungary",
          "Ireland",
          "Italy",
          "Latvia",
          "Lithuania",
          "Luxembourg",
          "Malta",
          "Netherlands",
          "Poland",
          "Portugal",
          "Slovak Republic",
          "Slovenia",
          "Spain",
          "Sweden",
          "Austria",
          "Belgium",
          "Bulgaria",
          "Croatia",
          "Cyprus",
          "Czech Republic",
          "Denmark",
          "Estonia",
          "Finland",
          "France",
          "Germany",
          "Greece",
          "Hungary",
          "Ireland",
          "Italy",
          "Latvia",
          "Lithuania",
          "Luxembourg",
          "Malta",
          "Netherlands",
          "Poland",
          "Portugal",
          "Slovak Republic",
          "Slovenia",
          "Spain",
          "Sweden",
          "Austria",
          "Belgium",
          "Bulgaria",
          "Croatia",
          "Cyprus",
          "Czech Republic",
          "Denmark",
          "Estonia",
          "Finland",
          "France",
          "Germany",
          "Greece",
          "Hungary",
          "Ireland",
          "Italy",
          "Latvia",
          "Lithuania",
          "Luxembourg",
          "Malta",
          "Netherlands",
          "Poland",
          "Portugal",
          "Slovak Republic",
          "Slovenia",
          "Spain",
          "Sweden",
          "Austria",
          "Belgium",
          "Bulgaria",
          "Croatia",
          "Cyprus",
          "Czech Republic",
          "Denmark",
          "Estonia",
          "Finland",
          "France",
          "Germany",
          "Greece",
          "Hungary",
          "Ireland",
          "Italy",
          "Latvia",
          "Lithuania",
          "Luxembourg",
          "Malta",
          "Netherlands",
          "Poland",
          "Portugal",
          "Slovak Republic",
          "Slovenia",
          "Spain",
          "Sweden",
          "Austria",
          "Belgium",
          "Bulgaria",
          "Croatia",
          "Cyprus",
          "Czech Republic",
          "Denmark",
          "Estonia",
          "Finland",
          "France",
          "Germany",
          "Greece",
          "Hungary",
          "Ireland",
          "Italy",
          "Latvia",
          "Lithuania",
          "Luxembourg",
          "Malta",
          "Netherlands",
          "Poland",
          "Portugal",
          "Slovak Republic",
          "Slovenia",
          "Spain",
          "Sweden",
          "Austria",
          "Belgium",
          "Bulgaria",
          "Croatia",
          "Cyprus",
          "Czech Republic",
          "Denmark",
          "Estonia",
          "Finland",
          "France",
          "Germany",
          "Greece",
          "Hungary",
          "Ireland",
          "Italy",
          "Latvia",
          "Lithuania",
          "Luxembourg",
          "Malta",
          "Netherlands",
          "Poland",
          "Portugal",
          "Slovak Republic",
          "Slovenia",
          "Spain",
          "Sweden",
          "Austria",
          "Belgium",
          "Bulgaria",
          "Croatia",
          "Cyprus",
          "Czech Republic",
          "Denmark",
          "Estonia",
          "Finland",
          "France",
          "Germany",
          "Greece",
          "Hungary",
          "Ireland",
          "Italy",
          "Latvia",
          "Lithuania",
          "Luxembourg",
          "Malta",
          "Netherlands",
          "Poland",
          "Portugal",
          "Slovak Republic",
          "Slovenia",
          "Spain",
          "Sweden"
         ],
         "legendgroup": "",
         "marker": {
          "color": [
           2010,
           2010,
           2010,
           2010,
           2010,
           2010,
           2010,
           2010,
           2010,
           2010,
           2010,
           2010,
           2010,
           2010,
           2010,
           2010,
           2010,
           2010,
           2010,
           2010,
           2010,
           2010,
           2011,
           2011,
           2011,
           2011,
           2011,
           2011,
           2011,
           2011,
           2011,
           2011,
           2011,
           2011,
           2011,
           2011,
           2011,
           2011,
           2011,
           2011,
           2011,
           2011,
           2011,
           2011,
           2012,
           2012,
           2012,
           2012,
           2012,
           2012,
           2012,
           2012,
           2012,
           2012,
           2012,
           2012,
           2012,
           2012,
           2012,
           2012,
           2012,
           2012,
           2012,
           2012,
           2012,
           2012,
           2013,
           2013,
           2013,
           2013,
           2013,
           2013,
           2013,
           2013,
           2013,
           2013,
           2013,
           2013,
           2013,
           2013,
           2013,
           2013,
           2013,
           2013,
           2013,
           2013,
           2013,
           2013,
           2014,
           2014,
           2014,
           2014,
           2014,
           2014,
           2014,
           2014,
           2014,
           2014,
           2014,
           2014,
           2014,
           2014,
           2014,
           2014,
           2014,
           2014,
           2014,
           2014,
           2014,
           2014,
           2015,
           2015,
           2015,
           2015,
           2015,
           2015,
           2015,
           2015,
           2015,
           2015,
           2015,
           2015,
           2015,
           2015,
           2015,
           2015,
           2015,
           2015,
           2015,
           2015,
           2015,
           2015,
           2015,
           2015,
           2015,
           2015,
           2016,
           2016,
           2016,
           2016,
           2016,
           2016,
           2016,
           2016,
           2016,
           2016,
           2016,
           2016,
           2016,
           2016,
           2016,
           2016,
           2016,
           2016,
           2016,
           2016,
           2016,
           2016,
           2016,
           2016,
           2016,
           2016,
           2017,
           2017,
           2017,
           2017,
           2017,
           2017,
           2017,
           2017,
           2017,
           2017,
           2017,
           2017,
           2017,
           2017,
           2017,
           2017,
           2017,
           2017,
           2017,
           2017,
           2017,
           2017,
           2017,
           2017,
           2017,
           2017,
           2018,
           2018,
           2018,
           2018,
           2018,
           2018,
           2018,
           2018,
           2018,
           2018,
           2018,
           2018,
           2018,
           2018,
           2018,
           2018,
           2018,
           2018,
           2018,
           2018,
           2018,
           2018,
           2018,
           2018,
           2018,
           2018,
           2019,
           2019,
           2019,
           2019,
           2019,
           2019,
           2019,
           2019,
           2019,
           2019,
           2019,
           2019,
           2019,
           2019,
           2019,
           2019,
           2019,
           2019,
           2019,
           2019,
           2019,
           2019,
           2019,
           2019,
           2019,
           2019,
           2020,
           2020,
           2020,
           2020,
           2020,
           2020,
           2020,
           2020,
           2020,
           2020,
           2020,
           2020,
           2020,
           2020,
           2020,
           2020,
           2020,
           2020,
           2020,
           2020,
           2020,
           2020,
           2020,
           2020,
           2020,
           2020,
           2021,
           2021,
           2021,
           2021,
           2021,
           2021,
           2021,
           2021,
           2021,
           2021,
           2021,
           2021,
           2021,
           2021,
           2021,
           2021,
           2021,
           2021,
           2021,
           2021,
           2021,
           2021,
           2021,
           2021,
           2021,
           2021,
           2022,
           2022,
           2022,
           2022,
           2022,
           2022,
           2022,
           2022,
           2022,
           2022,
           2022,
           2022,
           2022,
           2022,
           2022,
           2022,
           2022,
           2022,
           2022,
           2022,
           2022,
           2022,
           2022,
           2022,
           2022,
           2022,
           2023,
           2023,
           2023,
           2023,
           2023,
           2023,
           2023,
           2023,
           2023,
           2023,
           2023,
           2023,
           2023,
           2023,
           2023,
           2023,
           2023,
           2023,
           2023,
           2023,
           2023,
           2023,
           2023,
           2023,
           2023,
           2023
          ],
          "coloraxis": "coloraxis",
          "symbol": "circle"
         },
         "mode": "markers",
         "name": "",
         "orientation": "v",
         "showlegend": false,
         "type": "scatter",
         "x": [
          46903,
          44184,
          19960,
          58041,
          14663,
          46505,
          40676,
          41572,
          26716,
          13217,
          48663,
          36035,
          11420,
          11987,
          110885,
          50999,
          12504,
          22520,
          16908,
          23532,
          30532,
          52869,
          51442,
          47410,
          21871,
          61753,
          17487,
          51148,
          43846,
          46705,
          25483,
          14234,
          52219,
          38649,
          13338,
          14376,
          119025,
          54230,
          13776,
          23217,
          18509,
          25128,
          31677,
          60755,
          48564,
          44670,
          19870,
          58507,
          17403,
          47708,
          40870,
          43855,
          21912,
          12984,
          48943,
          35051,
          13847,
          14367,
          112584,
          50070,
          13010,
          20563,
          17498,
          22641,
          28322,
          58037,
          50731,
          46757,
          20133,
          61191,
          19056,
          49892,
          42602,
          46298,
          21787,
          13715,
          51496,
          35560,
          15007,
          15729,
          120000,
          52198,
          13558,
          21653,
          18276,
          23503,
          29077,
          61126,
          51786,
          47764,
          19890,
          62548,
          20261,
          50327,
          43068,
          48023,
          21616,
          14294,
          55752,
          35565,
          15742,
          16551,
          123678,
          52900,
          14181,
          22103,
          18719,
          24247,
          29513,
          60020,
          44195,
          41008,
          7078,
          12135,
          23487,
          17829,
          53254,
          17402,
          42801,
          36652,
          41103,
          18083,
          12717,
          62179,
          30242,
          13786,
          14263,
          105462,
          24921,
          45193,
          12560,
          19250,
          16390,
          20890,
          25754,
          51545,
          45307,
          42012,
          7570,
          12634,
          24715,
          18575,
          54663,
          18295,
          43814,
          37062,
          42136,
          17923,
          13104,
          62784,
          30960,
          14331,
          15008,
          106899,
          25623,
          46039,
          12378,
          19991,
          16563,
          21678,
          26537,
          51965,
          47429,
          44198,
          8381,
          13655,
          26697,
          20636,
          57610,
          20437,
          46412,
          38781,
          44652,
          18582,
          14621,
          70150,
          32406,
          15695,
          16885,
          110193,
          28813,
          48675,
          13815,
          21490,
          17585,
          23514,
          28185,
          53791,
          51466,
          47544,
          9447,
          15132,
          29419,
          23424,
          61591,
          23165,
          49987,
          41557,
          47939,
          19756,
          16425,
          79446,
          34622,
          17865,
          19186,
          116786,
          31785,
          53044,
          15504,
          23562,
          19486,
          26123,
          30379,
          54589,
          50067,
          46641,
          9874,
          15218,
          29419,
          23664,
          59592,
          23581,
          48629,
          40494,
          46805,
          19143,
          16786,
          80848,
          33673,
          17883,
          19615,
          112726,
          31751,
          52476,
          15700,
          23330,
          19381,
          26042,
          29581,
          51939,
          48789,
          45587,
          10148,
          14383,
          28281,
          22992,
          60836,
          23565,
          49169,
          39179,
          46749,
          17617,
          16131,
          85973,
          31922,
          18096,
          20381,
          116905,
          29592,
          52162,
          15816,
          22242,
          19553,
          25558,
          26984,
          52837,
          53517,
          51863,
          12219,
          17943,
          32745,
          26822,
          69268,
          27698,
          53504,
          43671,
          51426,
          20310,
          18755,
          102001,
          36441,
          20930,
          23849,
          133711,
          34951,
          58727,
          18050,
          24661,
          21765,
          29331,
          30488,
          61417,
          52084,
          49942,
          13974,
          18673,
          32048,
          27226,
          67790,
          28114,
          50734,
          40886,
          48717,
          20867,
          18355,
          103983,
          35068,
          21508,
          25078,
          125006,
          34563,
          57025,
          18732,
          24515,
          21279,
          28439,
          29674,
          56299,
          56505,
          53475,
          15797,
          21459,
          34701,
          30427,
          67967,
          29823,
          53755,
          44460,
          52745,
          22990,
          22147,
          103684,
          38373,
          23184,
          27102,
          128259,
          37882,
          62536,
          22112,
          27275,
          24470,
          32163,
          32676,
          56305
         ],
         "xaxis": "x",
         "y": [
          63,
          15,
          11,
          29,
          7,
          35,
          58,
          21,
          19,
          12,
          13,
          26,
          58,
          31,
          34,
          9,
          7,
          51,
          46,
          47,
          42,
          80,
          63,
          20,
          13,
          36,
          8,
          40,
          53,
          24,
          15,
          12,
          20,
          27,
          53,
          38,
          34,
          10,
          8,
          45,
          37,
          42,
          37,
          83,
          71,
          24,
          15,
          43,
          11,
          49,
          60,
          26,
          17,
          13,
          20,
          30,
          67,
          35,
          34,
          11,
          10,
          41,
          42,
          45,
          38,
          86,
          74,
          28,
          17,
          42,
          9,
          43,
          65,
          27,
          27,
          16,
          23,
          37,
          54,
          44,
          47,
          11,
          10,
          56,
          45,
          51,
          50,
          84,
          77,
          31,
          17,
          50,
          11,
          47,
          71,
          30,
          26,
          20,
          25,
          41,
          50,
          50,
          47,
          11,
          12,
          58,
          49,
          63,
          51,
          86,
          72,
          32,
          29,
          67,
          9,
          18,
          58,
          14,
          54,
          66,
          33,
          30,
          19,
          28,
          37,
          46,
          47,
          64,
          7,
          12,
          13,
          46,
          49,
          50,
          44,
          88,
          74,
          32,
          28,
          66,
          8,
          17,
          53,
          12,
          54,
          62,
          32,
          29,
          18,
          25,
          36,
          50,
          62,
          80,
          16,
          13,
          13,
          53,
          52,
          50,
          49,
          85,
          72,
          34,
          24,
          59,
          8,
          17,
          60,
          13,
          56,
          58,
          36,
          27,
          18,
          29,
          34,
          67,
          72,
          81,
          10,
          15,
          14,
          39,
          50,
          47,
          41,
          86,
          72,
          35,
          32,
          70,
          9,
          17,
          58,
          15,
          54,
          68,
          38,
          30,
          20,
          33,
          38,
          47,
          73,
          80,
          10,
          16,
          12,
          49,
          46,
          52,
          47,
          85,
          73,
          37,
          29,
          63,
          10,
          19,
          66,
          24,
          55,
          66,
          43,
          34,
          23,
          38,
          38,
          45,
          73,
          75,
          9,
          18,
          15,
          51,
          48,
          51,
          47,
          86,
          76,
          41,
          33,
          61,
          12,
          21,
          68,
          39,
          63,
          70,
          47,
          38,
          27,
          42,
          40,
          57,
          58,
          76,
          11,
          26,
          18,
          55,
          48,
          55,
          55,
          89,
          75,
          44,
          33,
          66,
          15,
          20,
          63,
          33,
          62,
          69,
          42,
          41,
          31,
          37,
          38,
          57,
          61,
          76,
          11,
          32,
          17,
          60,
          44,
          57,
          57,
          88,
          73,
          45,
          28,
          60,
          17,
          20,
          69,
          31,
          65,
          64,
          44,
          46,
          35,
          40,
          34,
          66,
          64,
          79,
          11,
          38,
          21,
          55,
          49,
          53,
          52,
          88,
          79,
          54,
          41,
          67,
          20,
          23,
          73,
          37,
          72,
          74,
          51,
          52,
          44,
          45,
          41,
          71,
          72,
          86,
          11,
          46,
          27,
          70,
          54,
          64,
          63,
          89
         ],
         "yaxis": "y"
        },
        {
         "hovertemplate": "<b>OLS trendline</b><br>%_of_renewable = 0.000301417 * gdp + 31.1309<br>R<sup>2</sup>=0.109989<br><br>gdp=%{x}<br>%_of_renewable=%{y} <b>(trend)</b><extra></extra>",
         "legendgroup": "",
         "marker": {
          "symbol": "circle"
         },
         "mode": "lines",
         "name": "",
         "showlegend": false,
         "type": "scatter",
         "x": [
          7078,
          7570,
          8381,
          9447,
          9874,
          10148,
          11420,
          11987,
          12135,
          12219,
          12378,
          12504,
          12560,
          12634,
          12717,
          12984,
          13010,
          13104,
          13217,
          13338,
          13558,
          13655,
          13715,
          13776,
          13786,
          13815,
          13847,
          13974,
          14181,
          14234,
          14263,
          14294,
          14331,
          14367,
          14376,
          14383,
          14621,
          14663,
          15007,
          15008,
          15132,
          15218,
          15504,
          15695,
          15700,
          15729,
          15742,
          15797,
          15816,
          16131,
          16390,
          16425,
          16551,
          16563,
          16786,
          16885,
          16908,
          17402,
          17403,
          17487,
          17498,
          17585,
          17617,
          17829,
          17865,
          17883,
          17923,
          17943,
          18050,
          18083,
          18096,
          18276,
          18295,
          18355,
          18509,
          18575,
          18582,
          18673,
          18719,
          18732,
          18755,
          19056,
          19143,
          19186,
          19250,
          19381,
          19486,
          19553,
          19615,
          19756,
          19870,
          19890,
          19960,
          19991,
          20133,
          20261,
          20310,
          20381,
          20437,
          20563,
          20636,
          20867,
          20890,
          20930,
          21279,
          21459,
          21490,
          21508,
          21616,
          21653,
          21678,
          21765,
          21787,
          21871,
          21912,
          22103,
          22112,
          22147,
          22242,
          22520,
          22641,
          22990,
          22992,
          23165,
          23184,
          23217,
          23330,
          23424,
          23487,
          23503,
          23514,
          23532,
          23562,
          23565,
          23581,
          23664,
          23849,
          24247,
          24470,
          24515,
          24661,
          24715,
          24921,
          25078,
          25128,
          25483,
          25558,
          25623,
          25754,
          26042,
          26123,
          26537,
          26697,
          26716,
          26822,
          26984,
          27102,
          27226,
          27275,
          27698,
          28114,
          28185,
          28281,
          28322,
          28439,
          28813,
          29077,
          29331,
          29419,
          29419,
          29513,
          29581,
          29592,
          29674,
          29823,
          30242,
          30379,
          30427,
          30488,
          30532,
          30960,
          31677,
          31751,
          31785,
          31922,
          32048,
          32163,
          32406,
          32676,
          32745,
          33673,
          34563,
          34622,
          34701,
          34951,
          35051,
          35068,
          35560,
          35565,
          36035,
          36441,
          36652,
          37062,
          37882,
          38373,
          38649,
          38781,
          39179,
          40494,
          40676,
          40870,
          40886,
          41008,
          41103,
          41557,
          41572,
          42012,
          42136,
          42602,
          42801,
          43068,
          43671,
          43814,
          43846,
          43855,
          44184,
          44195,
          44198,
          44460,
          44652,
          44670,
          45193,
          45307,
          45587,
          46039,
          46298,
          46412,
          46505,
          46641,
          46705,
          46749,
          46757,
          46805,
          46903,
          47410,
          47429,
          47544,
          47708,
          47764,
          47939,
          48023,
          48564,
          48629,
          48663,
          48675,
          48717,
          48789,
          48943,
          49169,
          49892,
          49942,
          49987,
          50067,
          50070,
          50327,
          50731,
          50734,
          50999,
          51148,
          51426,
          51442,
          51466,
          51496,
          51545,
          51786,
          51863,
          51939,
          51965,
          52084,
          52162,
          52198,
          52219,
          52476,
          52745,
          52837,
          52869,
          52900,
          53044,
          53254,
          53475,
          53504,
          53517,
          53755,
          53791,
          54230,
          54589,
          54663,
          55752,
          56299,
          56305,
          56505,
          57025,
          57610,
          58037,
          58041,
          58507,
          58727,
          59592,
          60020,
          60755,
          60836,
          61126,
          61191,
          61417,
          61591,
          61753,
          62179,
          62536,
          62548,
          62784,
          67790,
          67967,
          69268,
          70150,
          79446,
          80848,
          85973,
          102001,
          103684,
          103983,
          105462,
          106899,
          110193,
          110885,
          112584,
          112726,
          116786,
          116905,
          119025,
          120000,
          123678,
          125006,
          128259,
          133711
         ],
         "xaxis": "x",
         "y": [
          33.264292256933835,
          33.412589559234135,
          33.65703897420475,
          33.978349795855394,
          34.10705497488431,
          34.18964330990521,
          34.573046091462075,
          34.74394968984474,
          34.78855944744727,
          34.81387849905951,
          34.86180384675412,
          34.89978242417249,
          34.91666179191399,
          34.93896667071525,
          34.9639843050464,
          35.04446271909961,
          35.05229956840816,
          35.08063279283139,
          35.114692945595486,
          35.15116443660836,
          35.21747623844996,
          35.24671371471648,
          35.26479875158237,
          35.28318520572936,
          35.28619937854034,
          35.29494047969219,
          35.30458583268733,
          35.342865827386795,
          35.405259204574115,
          35.421234320472315,
          35.429975421624164,
          35.439319357338206,
          35.45047179673884,
          35.46132281885838,
          35.464035574388255,
          35.466145495355946,
          35.53788280825731,
          35.55054233406343,
          35.6542298787612,
          35.6545312960423,
          35.69190703889847,
          35.717828925072915,
          35.80403426746699,
          35.86160496815674,
          35.86311205456223,
          35.87185315571408,
          35.87577158036835,
          35.89234953082875,
          35.898076459169616,
          35.99302290271554,
          36.071089978519964,
          36.0816395833584,
          36.11961816077677,
          36.12323516814995,
          36.19045122183484,
          36.22029153266356,
          36.22722413012882,
          36.37612426699131,
          36.376425684272405,
          36.401744735884655,
          36.405060325976734,
          36.43128362943227,
          36.440928982427415,
          36.504829446020224,
          36.51568046813976,
          36.521105979199525,
          36.53316267044345,
          36.539191016065416,
          36.571442665142925,
          36.58138943541916,
          36.585307860073435,
          36.63956297067111,
          36.64528989901197,
          36.66337493587786,
          36.70979319716698,
          36.72968673771946,
          36.731796658687145,
          36.75922563126708,
          36.773090826197596,
          36.77700925085187,
          36.78394184831713,
          36.874668449927675,
          36.90089175338322,
          36.91385269647044,
          36.93314340246072,
          36.97262906628458,
          37.00427788079989,
          37.024472838633464,
          37.04316071006155,
          37.085660546696396,
          37.12002211674159,
          37.12605046236355,
          37.14714967204042,
          37.15649360775446,
          37.1992948616704,
          37.23787627365097,
          37.25264572042478,
          37.27404634738275,
          37.290925715124246,
          37.32890429254262,
          37.35090775406278,
          37.42053514599645,
          37.42746774346171,
          37.43952443470564,
          37.544719065808906,
          37.59897417640657,
          37.608318112120614,
          37.61374362318038,
          37.646296689538985,
          37.65744912893962,
          37.66498456096707,
          37.69120786442261,
          37.697839044606766,
          37.72315809621902,
          37.735516204744044,
          37.79308690543379,
          37.795799660963674,
          37.80634926580211,
          37.834983907506434,
          37.91877791165172,
          37.955249402664606,
          38.060444033767865,
          38.06104686833006,
          38.11319205796004,
          38.11891898630091,
          38.12886575657715,
          38.16292590934124,
          38.19125913376447,
          38.210248422473654,
          38.21507109897122,
          38.2183866890633,
          38.22381220012307,
          38.23285471855601,
          38.23375897039931,
          38.23858164689688,
          38.263599281228025,
          38.31936147823119,
          38.43932555610826,
          38.50654160979315,
          38.52010538744257,
          38.5641123104829,
          38.5803888436622,
          38.642480803568425,
          38.68980331670084,
          38.704874180755745,
          38.811877315545594,
          38.83448361162796,
          38.85407573489934,
          38.89356139872319,
          38.98036957567947,
          39.00478437544842,
          39.12957112982306,
          39.17779789479877,
          39.183524823139635,
          39.215475054936036,
          39.264304654473946,
          39.29987189364353,
          39.3372476364997,
          39.35201708327351,
          39.47951659317803,
          39.604906182114874,
          39.626306809072844,
          39.65524286805827,
          39.66760097658329,
          39.702866798471774,
          39.81559686160249,
          39.8951710238124,
          39.97173101321134,
          39.99825573394798,
          39.99825573394798,
          40.02658895837121,
          40.04708533348588,
          40.05040092357796,
          40.07511714062801,
          40.12002831551163,
          40.24632215629177,
          40.28761632380222,
          40.30208435329493,
          40.32047080744192,
          40.33373316781024,
          40.46273976412025,
          40.67885595466764,
          40.701160833468904,
          40.71140902102624,
          40.752703188536685,
          40.79068176595506,
          40.82534475328134,
          40.8985891525882,
          40.97997181848471,
          41.00076961088048,
          41.28048484773958,
          41.54874622791695,
          41.56652984750174,
          41.590341812708495,
          41.66569613298304,
          41.695837861092855,
          41.70096195487152,
          41.849259257171816,
          41.850766343577305,
          41.99243246569345,
          42.1148078818193,
          42.17840692813102,
          42.30198801338126,
          42.549150183881764,
          42.69714606890096,
          42.78033723848405,
          42.82012431958901,
          42.940088397466084,
          43.336452122110174,
          43.39131006727004,
          43.44978501980308,
          43.454607696300656,
          43.49138060459463,
          43.520015246298954,
          43.65685869191752,
          43.661379951133995,
          43.79400355481719,
          43.831379297673365,
          43.97183975066511,
          44.03182178960364,
          44.11230020365685,
          44.29405482415905,
          44.33715749535608,
          44.346802848351224,
          44.34951560388111,
          44.448681889362405,
          44.45199747945449,
          44.45290173129778,
          44.5318730589455,
          44.58974517691635,
          44.595170687976115,
          44.75281192599046,
          44.78717349603565,
          44.87157033474313,
          45.007810945799505,
          45.08587802160393,
          45.120239591649124,
          45.14827139879125,
          45.1892641490206,
          45.20855485501089,
          45.221817215379204,
          45.22422855362799,
          45.2386965831207,
          45.26823547666832,
          45.42105403818509,
          45.42678096652595,
          45.461443953852246,
          45.510876387952344,
          45.527755755693846,
          45.58050377988602,
          45.605822831498266,
          45.76888958057238,
          45.78848170384376,
          45.798729891401095,
          45.802346898774275,
          45.815006424580396,
          45.83670846881947,
          45.88312673010858,
          45.95124703563677,
          46.16917172987074,
          46.184242593925646,
          46.19780637157507,
          46.221919754062924,
          46.22282400590622,
          46.300288247148444,
          46.422060828712105,
          46.4229650805554,
          46.50284066004641,
          46.54775183493004,
          46.63154583907533,
          46.6363685155729,
          46.64360253031926,
          46.6526450487522,
          46.66741449552601,
          46.74005606027067,
          46.76326519091523,
          46.786172904278686,
          46.79400975358724,
          46.82987841003792,
          46.85338895796358,
          46.86423998008311,
          46.87056974298618,
          46.9480339842284,
          47.02911523284381,
          47.05684562270484,
          47.066490975699985,
          47.07583491141403,
          47.11923899989216,
          47.182536628922776,
          47.24914984804548,
          47.25789094919732,
          47.26180937385159,
          47.33354668675296,
          47.34439770887249,
          47.476719895274584,
          47.58492869918883,
          47.607233577990094,
          47.935476997105994,
          48.100352249866695,
          48.102160753553285,
          48.162444209772914,
          48.31918119594396,
          48.49551030538639,
          48.62421548441531,
          48.625421153539705,
          48.76588160653145,
          48.832193408373044,
          49.092919356522955,
          49.221925952832976,
          49.44346765444013,
          49.467882454209075,
          49.555293465727544,
          49.574885588998924,
          49.64300589452711,
          49.6954525014382,
          49.74428210097609,
          49.87268586272391,
          49.98029183207596,
          49.983908839449136,
          50.055043317788304,
          51.563938226965725,
          51.6172890857201,
          52.00943296842881,
          52.2752830103574,
          55.07725805544595,
          55.49984508354559,
          57.04460864917369,
          61.8757248306151,
          62.38301011470332,
          62.473133881751664,
          62.91893004049586,
          63.352066673433924,
          64.34493519737129,
          64.55351595589121,
          65.065623916477,
          65.10842517039293,
          66.3321793316515,
          66.36804798810218,
          67.00705262403028,
          67.300934473101,
          68.40954723298006,
          68.80982938227842,
          69.79033979769076,
          71.43366681423797
         ],
         "yaxis": "y"
        }
       ],
       "layout": {
        "annotations": [
         {
          "font": {
           "color": "red",
           "size": 12
          },
          "showarrow": false,
          "text": "r = 0.33",
          "x": 0.05,
          "xref": "paper",
          "y": 0.95,
          "yref": "paper"
         }
        ],
        "coloraxis": {
         "colorbar": {
          "title": {
           "text": "year"
          }
         },
         "colorscale": [
          [
           0,
           "#440154"
          ],
          [
           0.1111111111111111,
           "#482878"
          ],
          [
           0.2222222222222222,
           "#3e4989"
          ],
          [
           0.3333333333333333,
           "#31688e"
          ],
          [
           0.4444444444444444,
           "#26828e"
          ],
          [
           0.5555555555555556,
           "#1f9e89"
          ],
          [
           0.6666666666666666,
           "#35b779"
          ],
          [
           0.7777777777777778,
           "#6ece58"
          ],
          [
           0.8888888888888888,
           "#b5de2b"
          ],
          [
           1,
           "#fde725"
          ]
         ]
        },
        "legend": {
         "title": {
          "text": "Year"
         },
         "tracegroupgap": 0
        },
        "template": {
         "data": {
          "bar": [
           {
            "error_x": {
             "color": "rgb(36,36,36)"
            },
            "error_y": {
             "color": "rgb(36,36,36)"
            },
            "marker": {
             "line": {
              "color": "white",
              "width": 0.5
             },
             "pattern": {
              "fillmode": "overlay",
              "size": 10,
              "solidity": 0.2
             }
            },
            "type": "bar"
           }
          ],
          "barpolar": [
           {
            "marker": {
             "line": {
              "color": "white",
              "width": 0.5
             },
             "pattern": {
              "fillmode": "overlay",
              "size": 10,
              "solidity": 0.2
             }
            },
            "type": "barpolar"
           }
          ],
          "carpet": [
           {
            "aaxis": {
             "endlinecolor": "rgb(36,36,36)",
             "gridcolor": "white",
             "linecolor": "white",
             "minorgridcolor": "white",
             "startlinecolor": "rgb(36,36,36)"
            },
            "baxis": {
             "endlinecolor": "rgb(36,36,36)",
             "gridcolor": "white",
             "linecolor": "white",
             "minorgridcolor": "white",
             "startlinecolor": "rgb(36,36,36)"
            },
            "type": "carpet"
           }
          ],
          "choropleth": [
           {
            "colorbar": {
             "outlinewidth": 1,
             "tickcolor": "rgb(36,36,36)",
             "ticks": "outside"
            },
            "type": "choropleth"
           }
          ],
          "contour": [
           {
            "colorbar": {
             "outlinewidth": 1,
             "tickcolor": "rgb(36,36,36)",
             "ticks": "outside"
            },
            "colorscale": [
             [
              0,
              "#440154"
             ],
             [
              0.1111111111111111,
              "#482878"
             ],
             [
              0.2222222222222222,
              "#3e4989"
             ],
             [
              0.3333333333333333,
              "#31688e"
             ],
             [
              0.4444444444444444,
              "#26828e"
             ],
             [
              0.5555555555555556,
              "#1f9e89"
             ],
             [
              0.6666666666666666,
              "#35b779"
             ],
             [
              0.7777777777777778,
              "#6ece58"
             ],
             [
              0.8888888888888888,
              "#b5de2b"
             ],
             [
              1,
              "#fde725"
             ]
            ],
            "type": "contour"
           }
          ],
          "contourcarpet": [
           {
            "colorbar": {
             "outlinewidth": 1,
             "tickcolor": "rgb(36,36,36)",
             "ticks": "outside"
            },
            "type": "contourcarpet"
           }
          ],
          "heatmap": [
           {
            "colorbar": {
             "outlinewidth": 1,
             "tickcolor": "rgb(36,36,36)",
             "ticks": "outside"
            },
            "colorscale": [
             [
              0,
              "#440154"
             ],
             [
              0.1111111111111111,
              "#482878"
             ],
             [
              0.2222222222222222,
              "#3e4989"
             ],
             [
              0.3333333333333333,
              "#31688e"
             ],
             [
              0.4444444444444444,
              "#26828e"
             ],
             [
              0.5555555555555556,
              "#1f9e89"
             ],
             [
              0.6666666666666666,
              "#35b779"
             ],
             [
              0.7777777777777778,
              "#6ece58"
             ],
             [
              0.8888888888888888,
              "#b5de2b"
             ],
             [
              1,
              "#fde725"
             ]
            ],
            "type": "heatmap"
           }
          ],
          "heatmapgl": [
           {
            "colorbar": {
             "outlinewidth": 1,
             "tickcolor": "rgb(36,36,36)",
             "ticks": "outside"
            },
            "colorscale": [
             [
              0,
              "#440154"
             ],
             [
              0.1111111111111111,
              "#482878"
             ],
             [
              0.2222222222222222,
              "#3e4989"
             ],
             [
              0.3333333333333333,
              "#31688e"
             ],
             [
              0.4444444444444444,
              "#26828e"
             ],
             [
              0.5555555555555556,
              "#1f9e89"
             ],
             [
              0.6666666666666666,
              "#35b779"
             ],
             [
              0.7777777777777778,
              "#6ece58"
             ],
             [
              0.8888888888888888,
              "#b5de2b"
             ],
             [
              1,
              "#fde725"
             ]
            ],
            "type": "heatmapgl"
           }
          ],
          "histogram": [
           {
            "marker": {
             "line": {
              "color": "white",
              "width": 0.6
             }
            },
            "type": "histogram"
           }
          ],
          "histogram2d": [
           {
            "colorbar": {
             "outlinewidth": 1,
             "tickcolor": "rgb(36,36,36)",
             "ticks": "outside"
            },
            "colorscale": [
             [
              0,
              "#440154"
             ],
             [
              0.1111111111111111,
              "#482878"
             ],
             [
              0.2222222222222222,
              "#3e4989"
             ],
             [
              0.3333333333333333,
              "#31688e"
             ],
             [
              0.4444444444444444,
              "#26828e"
             ],
             [
              0.5555555555555556,
              "#1f9e89"
             ],
             [
              0.6666666666666666,
              "#35b779"
             ],
             [
              0.7777777777777778,
              "#6ece58"
             ],
             [
              0.8888888888888888,
              "#b5de2b"
             ],
             [
              1,
              "#fde725"
             ]
            ],
            "type": "histogram2d"
           }
          ],
          "histogram2dcontour": [
           {
            "colorbar": {
             "outlinewidth": 1,
             "tickcolor": "rgb(36,36,36)",
             "ticks": "outside"
            },
            "colorscale": [
             [
              0,
              "#440154"
             ],
             [
              0.1111111111111111,
              "#482878"
             ],
             [
              0.2222222222222222,
              "#3e4989"
             ],
             [
              0.3333333333333333,
              "#31688e"
             ],
             [
              0.4444444444444444,
              "#26828e"
             ],
             [
              0.5555555555555556,
              "#1f9e89"
             ],
             [
              0.6666666666666666,
              "#35b779"
             ],
             [
              0.7777777777777778,
              "#6ece58"
             ],
             [
              0.8888888888888888,
              "#b5de2b"
             ],
             [
              1,
              "#fde725"
             ]
            ],
            "type": "histogram2dcontour"
           }
          ],
          "mesh3d": [
           {
            "colorbar": {
             "outlinewidth": 1,
             "tickcolor": "rgb(36,36,36)",
             "ticks": "outside"
            },
            "type": "mesh3d"
           }
          ],
          "parcoords": [
           {
            "line": {
             "colorbar": {
              "outlinewidth": 1,
              "tickcolor": "rgb(36,36,36)",
              "ticks": "outside"
             }
            },
            "type": "parcoords"
           }
          ],
          "pie": [
           {
            "automargin": true,
            "type": "pie"
           }
          ],
          "scatter": [
           {
            "fillpattern": {
             "fillmode": "overlay",
             "size": 10,
             "solidity": 0.2
            },
            "type": "scatter"
           }
          ],
          "scatter3d": [
           {
            "line": {
             "colorbar": {
              "outlinewidth": 1,
              "tickcolor": "rgb(36,36,36)",
              "ticks": "outside"
             }
            },
            "marker": {
             "colorbar": {
              "outlinewidth": 1,
              "tickcolor": "rgb(36,36,36)",
              "ticks": "outside"
             }
            },
            "type": "scatter3d"
           }
          ],
          "scattercarpet": [
           {
            "marker": {
             "colorbar": {
              "outlinewidth": 1,
              "tickcolor": "rgb(36,36,36)",
              "ticks": "outside"
             }
            },
            "type": "scattercarpet"
           }
          ],
          "scattergeo": [
           {
            "marker": {
             "colorbar": {
              "outlinewidth": 1,
              "tickcolor": "rgb(36,36,36)",
              "ticks": "outside"
             }
            },
            "type": "scattergeo"
           }
          ],
          "scattergl": [
           {
            "marker": {
             "colorbar": {
              "outlinewidth": 1,
              "tickcolor": "rgb(36,36,36)",
              "ticks": "outside"
             }
            },
            "type": "scattergl"
           }
          ],
          "scattermapbox": [
           {
            "marker": {
             "colorbar": {
              "outlinewidth": 1,
              "tickcolor": "rgb(36,36,36)",
              "ticks": "outside"
             }
            },
            "type": "scattermapbox"
           }
          ],
          "scatterpolar": [
           {
            "marker": {
             "colorbar": {
              "outlinewidth": 1,
              "tickcolor": "rgb(36,36,36)",
              "ticks": "outside"
             }
            },
            "type": "scatterpolar"
           }
          ],
          "scatterpolargl": [
           {
            "marker": {
             "colorbar": {
              "outlinewidth": 1,
              "tickcolor": "rgb(36,36,36)",
              "ticks": "outside"
             }
            },
            "type": "scatterpolargl"
           }
          ],
          "scatterternary": [
           {
            "marker": {
             "colorbar": {
              "outlinewidth": 1,
              "tickcolor": "rgb(36,36,36)",
              "ticks": "outside"
             }
            },
            "type": "scatterternary"
           }
          ],
          "surface": [
           {
            "colorbar": {
             "outlinewidth": 1,
             "tickcolor": "rgb(36,36,36)",
             "ticks": "outside"
            },
            "colorscale": [
             [
              0,
              "#440154"
             ],
             [
              0.1111111111111111,
              "#482878"
             ],
             [
              0.2222222222222222,
              "#3e4989"
             ],
             [
              0.3333333333333333,
              "#31688e"
             ],
             [
              0.4444444444444444,
              "#26828e"
             ],
             [
              0.5555555555555556,
              "#1f9e89"
             ],
             [
              0.6666666666666666,
              "#35b779"
             ],
             [
              0.7777777777777778,
              "#6ece58"
             ],
             [
              0.8888888888888888,
              "#b5de2b"
             ],
             [
              1,
              "#fde725"
             ]
            ],
            "type": "surface"
           }
          ],
          "table": [
           {
            "cells": {
             "fill": {
              "color": "rgb(237,237,237)"
             },
             "line": {
              "color": "white"
             }
            },
            "header": {
             "fill": {
              "color": "rgb(217,217,217)"
             },
             "line": {
              "color": "white"
             }
            },
            "type": "table"
           }
          ]
         },
         "layout": {
          "annotationdefaults": {
           "arrowhead": 0,
           "arrowwidth": 1
          },
          "autotypenumbers": "strict",
          "coloraxis": {
           "colorbar": {
            "outlinewidth": 1,
            "tickcolor": "rgb(36,36,36)",
            "ticks": "outside"
           }
          },
          "colorscale": {
           "diverging": [
            [
             0,
             "rgb(103,0,31)"
            ],
            [
             0.1,
             "rgb(178,24,43)"
            ],
            [
             0.2,
             "rgb(214,96,77)"
            ],
            [
             0.3,
             "rgb(244,165,130)"
            ],
            [
             0.4,
             "rgb(253,219,199)"
            ],
            [
             0.5,
             "rgb(247,247,247)"
            ],
            [
             0.6,
             "rgb(209,229,240)"
            ],
            [
             0.7,
             "rgb(146,197,222)"
            ],
            [
             0.8,
             "rgb(67,147,195)"
            ],
            [
             0.9,
             "rgb(33,102,172)"
            ],
            [
             1,
             "rgb(5,48,97)"
            ]
           ],
           "sequential": [
            [
             0,
             "#440154"
            ],
            [
             0.1111111111111111,
             "#482878"
            ],
            [
             0.2222222222222222,
             "#3e4989"
            ],
            [
             0.3333333333333333,
             "#31688e"
            ],
            [
             0.4444444444444444,
             "#26828e"
            ],
            [
             0.5555555555555556,
             "#1f9e89"
            ],
            [
             0.6666666666666666,
             "#35b779"
            ],
            [
             0.7777777777777778,
             "#6ece58"
            ],
            [
             0.8888888888888888,
             "#b5de2b"
            ],
            [
             1,
             "#fde725"
            ]
           ],
           "sequentialminus": [
            [
             0,
             "#440154"
            ],
            [
             0.1111111111111111,
             "#482878"
            ],
            [
             0.2222222222222222,
             "#3e4989"
            ],
            [
             0.3333333333333333,
             "#31688e"
            ],
            [
             0.4444444444444444,
             "#26828e"
            ],
            [
             0.5555555555555556,
             "#1f9e89"
            ],
            [
             0.6666666666666666,
             "#35b779"
            ],
            [
             0.7777777777777778,
             "#6ece58"
            ],
            [
             0.8888888888888888,
             "#b5de2b"
            ],
            [
             1,
             "#fde725"
            ]
           ]
          },
          "colorway": [
           "#1F77B4",
           "#FF7F0E",
           "#2CA02C",
           "#D62728",
           "#9467BD",
           "#8C564B",
           "#E377C2",
           "#7F7F7F",
           "#BCBD22",
           "#17BECF"
          ],
          "font": {
           "color": "rgb(36,36,36)"
          },
          "geo": {
           "bgcolor": "white",
           "lakecolor": "white",
           "landcolor": "white",
           "showlakes": true,
           "showland": true,
           "subunitcolor": "white"
          },
          "hoverlabel": {
           "align": "left"
          },
          "hovermode": "closest",
          "mapbox": {
           "style": "light"
          },
          "paper_bgcolor": "white",
          "plot_bgcolor": "white",
          "polar": {
           "angularaxis": {
            "gridcolor": "rgb(232,232,232)",
            "linecolor": "rgb(36,36,36)",
            "showgrid": false,
            "showline": true,
            "ticks": "outside"
           },
           "bgcolor": "white",
           "radialaxis": {
            "gridcolor": "rgb(232,232,232)",
            "linecolor": "rgb(36,36,36)",
            "showgrid": false,
            "showline": true,
            "ticks": "outside"
           }
          },
          "scene": {
           "xaxis": {
            "backgroundcolor": "white",
            "gridcolor": "rgb(232,232,232)",
            "gridwidth": 2,
            "linecolor": "rgb(36,36,36)",
            "showbackground": true,
            "showgrid": false,
            "showline": true,
            "ticks": "outside",
            "zeroline": false,
            "zerolinecolor": "rgb(36,36,36)"
           },
           "yaxis": {
            "backgroundcolor": "white",
            "gridcolor": "rgb(232,232,232)",
            "gridwidth": 2,
            "linecolor": "rgb(36,36,36)",
            "showbackground": true,
            "showgrid": false,
            "showline": true,
            "ticks": "outside",
            "zeroline": false,
            "zerolinecolor": "rgb(36,36,36)"
           },
           "zaxis": {
            "backgroundcolor": "white",
            "gridcolor": "rgb(232,232,232)",
            "gridwidth": 2,
            "linecolor": "rgb(36,36,36)",
            "showbackground": true,
            "showgrid": false,
            "showline": true,
            "ticks": "outside",
            "zeroline": false,
            "zerolinecolor": "rgb(36,36,36)"
           }
          },
          "shapedefaults": {
           "fillcolor": "black",
           "line": {
            "width": 0
           },
           "opacity": 0.3
          },
          "ternary": {
           "aaxis": {
            "gridcolor": "rgb(232,232,232)",
            "linecolor": "rgb(36,36,36)",
            "showgrid": false,
            "showline": true,
            "ticks": "outside"
           },
           "baxis": {
            "gridcolor": "rgb(232,232,232)",
            "linecolor": "rgb(36,36,36)",
            "showgrid": false,
            "showline": true,
            "ticks": "outside"
           },
           "bgcolor": "white",
           "caxis": {
            "gridcolor": "rgb(232,232,232)",
            "linecolor": "rgb(36,36,36)",
            "showgrid": false,
            "showline": true,
            "ticks": "outside"
           }
          },
          "title": {
           "x": 0.05
          },
          "xaxis": {
           "automargin": true,
           "gridcolor": "rgb(232,232,232)",
           "linecolor": "rgb(36,36,36)",
           "showgrid": false,
           "showline": true,
           "ticks": "outside",
           "title": {
            "standoff": 15
           },
           "zeroline": false,
           "zerolinecolor": "rgb(36,36,36)"
          },
          "yaxis": {
           "automargin": true,
           "gridcolor": "rgb(232,232,232)",
           "linecolor": "rgb(36,36,36)",
           "showgrid": false,
           "showline": true,
           "ticks": "outside",
           "title": {
            "standoff": 15
           },
           "zeroline": false,
           "zerolinecolor": "rgb(36,36,36)"
          }
         }
        },
        "title": {
         "text": "Correlation between GDP per capita and % of Renewable energy production in EU countries in 2010-2023"
        },
        "xaxis": {
         "anchor": "y",
         "domain": [
          0,
          1
         ],
         "title": {
          "text": "GDP per capita, USD"
         }
        },
        "yaxis": {
         "anchor": "x",
         "domain": [
          0,
          1
         ],
         "title": {
          "text": "% Renewable Energy Production, GWh"
         }
        }
       }
      }
     },
     "metadata": {},
     "output_type": "display_data"
    }
   ],
   "source": [
    "# H1.4. correlation index visualizaton \n",
    "create_scatter_plot_with_trendline(df_viz)"
   ]
  },
  {
   "cell_type": "markdown",
   "metadata": {},
   "source": [
    "The scatterplot shows the relationship between GDP and the percentage of renewable energy production for EU countries in 2010-2023. \n",
    "## Positive Correlation\n",
    "The trendline indicates a positive correlation between GDP and the percentage of renewable energy. \n",
    "This means that, on average, countries with higher GDP tend to have a higher percentage of renewable energy production. \n",
    "\n",
    "The positive trend suggests that economically developed countries are more likely to invest in renewable energy sources. This could be due to higher availability of funds for infrastructure, more advanced technology, and stronger policy frameworks supporting renewable energy.\n",
    "\n",
    "Despite the positive trend, there is considerable variability in the data. Many countries with lower GDP have a wide range of renewable energy percentages, from very low to very high.\n",
    "Similarly, even at higher GDP levels, there is a spread in the percentage of renewable energy, however it tends to be somewhat more concentrated.\n",
    "\n",
    "\n",
    "\n"
   ]
  },
  {
   "cell_type": "code",
   "execution_count": 49,
   "metadata": {},
   "outputs": [
    {
     "data": {
      "application/vnd.plotly.v1+json": {
       "config": {
        "plotlyServerURL": "https://plot.ly"
       },
       "data": [
        {
         "alignmentgroup": "True",
         "hovertemplate": "<b>%{hovertext}</b><br><br>Country Name=%{x}<br>Average % of Renewable Energy for all years=%{text}<extra></extra>",
         "hovertext": [
          "Malta"
         ],
         "legendgroup": "Malta",
         "marker": {
          "color": "#1F77B4",
          "pattern": {
           "shape": ""
          }
         },
         "name": "Malta",
         "offsetgroup": "Malta",
         "orientation": "v",
         "showlegend": true,
         "text": [
          10.666666666666666
         ],
         "textposition": "outside",
         "texttemplate": "%{text:.1f}%",
         "type": "bar",
         "x": [
          "Malta"
         ],
         "xaxis": "x",
         "y": [
          10.666666666666666
         ],
         "yaxis": "y"
        },
        {
         "alignmentgroup": "True",
         "hovertemplate": "<b>%{hovertext}</b><br><br>Country Name=%{x}<br>Average % of Renewable Energy for all years=%{text}<extra></extra>",
         "hovertext": [
          "Cyprus"
         ],
         "legendgroup": "Cyprus",
         "marker": {
          "color": "#FF7F0E",
          "pattern": {
           "shape": ""
          }
         },
         "name": "Cyprus",
         "offsetgroup": "Cyprus",
         "orientation": "v",
         "showlegend": true,
         "text": [
          12
         ],
         "textposition": "outside",
         "texttemplate": "%{text:.1f}%",
         "type": "bar",
         "x": [
          "Cyprus"
         ],
         "xaxis": "x",
         "y": [
          12
         ],
         "yaxis": "y"
        },
        {
         "alignmentgroup": "True",
         "hovertemplate": "<b>%{hovertext}</b><br><br>Country Name=%{x}<br>Average % of Renewable Energy for all years=%{text}<extra></extra>",
         "hovertext": [
          "Poland"
         ],
         "legendgroup": "Poland",
         "marker": {
          "color": "#2CA02C",
          "pattern": {
           "shape": ""
          }
         },
         "name": "Poland",
         "offsetgroup": "Poland",
         "orientation": "v",
         "showlegend": true,
         "text": [
          14.071428571428571
         ],
         "textposition": "outside",
         "texttemplate": "%{text:.1f}%",
         "type": "bar",
         "x": [
          "Poland"
         ],
         "xaxis": "x",
         "y": [
          14.071428571428571
         ],
         "yaxis": "y"
        },
        {
         "alignmentgroup": "True",
         "hovertemplate": "<b>%{hovertext}</b><br><br>Country Name=%{x}<br>Average % of Renewable Energy for all years=%{text}<extra></extra>",
         "hovertext": [
          "Czech Republic"
         ],
         "legendgroup": "Czech Republic",
         "marker": {
          "color": "#D62728",
          "pattern": {
           "shape": ""
          }
         },
         "name": "Czech Republic",
         "offsetgroup": "Czech Republic",
         "orientation": "v",
         "showlegend": true,
         "text": [
          17.5
         ],
         "textposition": "outside",
         "texttemplate": "%{text:.1f}%",
         "type": "bar",
         "x": [
          "Czech Republic"
         ],
         "xaxis": "x",
         "y": [
          17.5
         ],
         "yaxis": "y"
        },
        {
         "alignmentgroup": "True",
         "hovertemplate": "<b>%{hovertext}</b><br><br>Country Name=%{x}<br>Average % of Renewable Energy for all years=%{text}<extra></extra>",
         "hovertext": [
          "Estonia"
         ],
         "legendgroup": "Estonia",
         "marker": {
          "color": "#9467BD",
          "pattern": {
           "shape": ""
          }
         },
         "name": "Estonia",
         "offsetgroup": "Estonia",
         "orientation": "v",
         "showlegend": true,
         "text": [
          18.857142857142858
         ],
         "textposition": "outside",
         "texttemplate": "%{text:.1f}%",
         "type": "bar",
         "x": [
          "Estonia"
         ],
         "xaxis": "x",
         "y": [
          18.857142857142858
         ],
         "yaxis": "y"
        },
        {
         "alignmentgroup": "True",
         "hovertemplate": "<b>%{hovertext}</b><br><br>Country Name=%{x}<br>Average % of Renewable Energy for all years=%{text}<extra></extra>",
         "hovertext": [
          "Netherlands"
         ],
         "legendgroup": "Netherlands",
         "marker": {
          "color": "#8C564B",
          "pattern": {
           "shape": ""
          }
         },
         "name": "Netherlands",
         "offsetgroup": "Netherlands",
         "orientation": "v",
         "showlegend": true,
         "text": [
          19.142857142857142
         ],
         "textposition": "outside",
         "texttemplate": "%{text:.1f}%",
         "type": "bar",
         "x": [
          "Netherlands"
         ],
         "xaxis": "x",
         "y": [
          19.142857142857142
         ],
         "yaxis": "y"
        },
        {
         "alignmentgroup": "True",
         "hovertemplate": "<b>%{hovertext}</b><br><br>Country Name=%{x}<br>Average % of Renewable Energy for all years=%{text}<extra></extra>",
         "hovertext": [
          "Hungary"
         ],
         "legendgroup": "Hungary",
         "marker": {
          "color": "#E377C2",
          "pattern": {
           "shape": ""
          }
         },
         "name": "Hungary",
         "offsetgroup": "Hungary",
         "orientation": "v",
         "showlegend": true,
         "text": [
          22
         ],
         "textposition": "outside",
         "texttemplate": "%{text:.1f}%",
         "type": "bar",
         "x": [
          "Hungary"
         ],
         "xaxis": "x",
         "y": [
          22
         ],
         "yaxis": "y"
        },
        {
         "alignmentgroup": "True",
         "hovertemplate": "<b>%{hovertext}</b><br><br>Country Name=%{x}<br>Average % of Renewable Energy for all years=%{text}<extra></extra>",
         "hovertext": [
          "Ireland"
         ],
         "legendgroup": "Ireland",
         "marker": {
          "color": "#7F7F7F",
          "pattern": {
           "shape": ""
          }
         },
         "name": "Ireland",
         "offsetgroup": "Ireland",
         "orientation": "v",
         "showlegend": true,
         "text": [
          29.857142857142858
         ],
         "textposition": "outside",
         "texttemplate": "%{text:.1f}%",
         "type": "bar",
         "x": [
          "Ireland"
         ],
         "xaxis": "x",
         "y": [
          29.857142857142858
         ],
         "yaxis": "y"
        },
        {
         "alignmentgroup": "True",
         "hovertemplate": "<b>%{hovertext}</b><br><br>Country Name=%{x}<br>Average % of Renewable Energy for all years=%{text}<extra></extra>",
         "hovertext": [
          "Bulgaria"
         ],
         "legendgroup": "Bulgaria",
         "marker": {
          "color": "#BCBD22",
          "pattern": {
           "shape": ""
          }
         },
         "name": "Bulgaria",
         "offsetgroup": "Bulgaria",
         "orientation": "v",
         "showlegend": true,
         "text": [
          30.77777777777778
         ],
         "textposition": "outside",
         "texttemplate": "%{text:.1f}%",
         "type": "bar",
         "x": [
          "Bulgaria"
         ],
         "xaxis": "x",
         "y": [
          30.77777777777778
         ],
         "yaxis": "y"
        },
        {
         "alignmentgroup": "True",
         "hovertemplate": "<b>%{hovertext}</b><br><br>Country Name=%{x}<br>Average % of Renewable Energy for all years=%{text}<extra></extra>",
         "hovertext": [
          "Greece"
         ],
         "legendgroup": "Greece",
         "marker": {
          "color": "#17BECF",
          "pattern": {
           "shape": ""
          }
         },
         "name": "Greece",
         "offsetgroup": "Greece",
         "orientation": "v",
         "showlegend": true,
         "text": [
          30.785714285714285
         ],
         "textposition": "outside",
         "texttemplate": "%{text:.1f}%",
         "type": "bar",
         "x": [
          "Greece"
         ],
         "xaxis": "x",
         "y": [
          30.785714285714285
         ],
         "yaxis": "y"
        },
        {
         "alignmentgroup": "True",
         "hovertemplate": "<b>%{hovertext}</b><br><br>Country Name=%{x}<br>Average % of Renewable Energy for all years=%{text}<extra></extra>",
         "hovertext": [
          "Belgium"
         ],
         "legendgroup": "Belgium",
         "marker": {
          "color": "#1F77B4",
          "pattern": {
           "shape": ""
          }
         },
         "name": "Belgium",
         "offsetgroup": "Belgium",
         "orientation": "v",
         "showlegend": true,
         "text": [
          33.714285714285715
         ],
         "textposition": "outside",
         "texttemplate": "%{text:.1f}%",
         "type": "bar",
         "x": [
          "Belgium"
         ],
         "xaxis": "x",
         "y": [
          33.714285714285715
         ],
         "yaxis": "y"
        },
        {
         "alignmentgroup": "True",
         "hovertemplate": "<b>%{hovertext}</b><br><br>Country Name=%{x}<br>Average % of Renewable Energy for all years=%{text}<extra></extra>",
         "hovertext": [
          "Germany"
         ],
         "legendgroup": "Germany",
         "marker": {
          "color": "#FF7F0E",
          "pattern": {
           "shape": ""
          }
         },
         "name": "Germany",
         "offsetgroup": "Germany",
         "orientation": "v",
         "showlegend": true,
         "text": [
          35.285714285714285
         ],
         "textposition": "outside",
         "texttemplate": "%{text:.1f}%",
         "type": "bar",
         "x": [
          "Germany"
         ],
         "xaxis": "x",
         "y": [
          35.285714285714285
         ],
         "yaxis": "y"
        },
        {
         "alignmentgroup": "True",
         "hovertemplate": "<b>%{hovertext}</b><br><br>Country Name=%{x}<br>Average % of Renewable Energy for all years=%{text}<extra></extra>",
         "hovertext": [
          "Italy"
         ],
         "legendgroup": "Italy",
         "marker": {
          "color": "#2CA02C",
          "pattern": {
           "shape": ""
          }
         },
         "name": "Italy",
         "offsetgroup": "Italy",
         "orientation": "v",
         "showlegend": true,
         "text": [
          35.5
         ],
         "textposition": "outside",
         "texttemplate": "%{text:.1f}%",
         "type": "bar",
         "x": [
          "Italy"
         ],
         "xaxis": "x",
         "y": [
          35.5
         ],
         "yaxis": "y"
        },
        {
         "alignmentgroup": "True",
         "hovertemplate": "<b>%{hovertext}</b><br><br>Country Name=%{x}<br>Average % of Renewable Energy for all years=%{text}<extra></extra>",
         "hovertext": [
          "Slovak Republic"
         ],
         "legendgroup": "Slovak Republic",
         "marker": {
          "color": "#D62728",
          "pattern": {
           "shape": ""
          }
         },
         "name": "Slovak Republic",
         "offsetgroup": "Slovak Republic",
         "orientation": "v",
         "showlegend": true,
         "text": [
          47.07142857142857
         ],
         "textposition": "outside",
         "texttemplate": "%{text:.1f}%",
         "type": "bar",
         "x": [
          "Slovak Republic"
         ],
         "xaxis": "x",
         "y": [
          47.07142857142857
         ],
         "yaxis": "y"
        },
        {
         "alignmentgroup": "True",
         "hovertemplate": "<b>%{hovertext}</b><br><br>Country Name=%{x}<br>Average % of Renewable Energy for all years=%{text}<extra></extra>",
         "hovertext": [
          "Spain"
         ],
         "legendgroup": "Spain",
         "marker": {
          "color": "#9467BD",
          "pattern": {
           "shape": ""
          }
         },
         "name": "Spain",
         "offsetgroup": "Spain",
         "orientation": "v",
         "showlegend": true,
         "text": [
          48.07142857142857
         ],
         "textposition": "outside",
         "texttemplate": "%{text:.1f}%",
         "type": "bar",
         "x": [
          "Spain"
         ],
         "xaxis": "x",
         "y": [
          48.07142857142857
         ],
         "yaxis": "y"
        },
        {
         "alignmentgroup": "True",
         "hovertemplate": "<b>%{hovertext}</b><br><br>Country Name=%{x}<br>Average % of Renewable Energy for all years=%{text}<extra></extra>",
         "hovertext": [
          "Slovenia"
         ],
         "legendgroup": "Slovenia",
         "marker": {
          "color": "#8C564B",
          "pattern": {
           "shape": ""
          }
         },
         "name": "Slovenia",
         "offsetgroup": "Slovenia",
         "orientation": "v",
         "showlegend": true,
         "text": [
          51.92857142857143
         ],
         "textposition": "outside",
         "texttemplate": "%{text:.1f}%",
         "type": "bar",
         "x": [
          "Slovenia"
         ],
         "xaxis": "x",
         "y": [
          51.92857142857143
         ],
         "yaxis": "y"
        },
        {
         "alignmentgroup": "True",
         "hovertemplate": "<b>%{hovertext}</b><br><br>Country Name=%{x}<br>Average % of Renewable Energy for all years=%{text}<extra></extra>",
         "hovertext": [
          "Portugal"
         ],
         "legendgroup": "Portugal",
         "marker": {
          "color": "#E377C2",
          "pattern": {
           "shape": ""
          }
         },
         "name": "Portugal",
         "offsetgroup": "Portugal",
         "orientation": "v",
         "showlegend": true,
         "text": [
          52.07142857142857
         ],
         "textposition": "outside",
         "texttemplate": "%{text:.1f}%",
         "type": "bar",
         "x": [
          "Portugal"
         ],
         "xaxis": "x",
         "y": [
          52.07142857142857
         ],
         "yaxis": "y"
        },
        {
         "alignmentgroup": "True",
         "hovertemplate": "<b>%{hovertext}</b><br><br>Country Name=%{x}<br>Average % of Renewable Energy for all years=%{text}<extra></extra>",
         "hovertext": [
          "Finland"
         ],
         "legendgroup": "Finland",
         "marker": {
          "color": "#7F7F7F",
          "pattern": {
           "shape": ""
          }
         },
         "name": "Finland",
         "offsetgroup": "Finland",
         "orientation": "v",
         "showlegend": true,
         "text": [
          53.5
         ],
         "textposition": "outside",
         "texttemplate": "%{text:.1f}%",
         "type": "bar",
         "x": [
          "Finland"
         ],
         "xaxis": "x",
         "y": [
          53.5
         ],
         "yaxis": "y"
        },
        {
         "alignmentgroup": "True",
         "hovertemplate": "<b>%{hovertext}</b><br><br>Country Name=%{x}<br>Average % of Renewable Energy for all years=%{text}<extra></extra>",
         "hovertext": [
          "Denmark"
         ],
         "legendgroup": "Denmark",
         "marker": {
          "color": "#BCBD22",
          "pattern": {
           "shape": ""
          }
         },
         "name": "Denmark",
         "offsetgroup": "Denmark",
         "orientation": "v",
         "showlegend": true,
         "text": [
          54.857142857142854
         ],
         "textposition": "outside",
         "texttemplate": "%{text:.1f}%",
         "type": "bar",
         "x": [
          "Denmark"
         ],
         "xaxis": "x",
         "y": [
          54.857142857142854
         ],
         "yaxis": "y"
        },
        {
         "alignmentgroup": "True",
         "hovertemplate": "<b>%{hovertext}</b><br><br>Country Name=%{x}<br>Average % of Renewable Energy for all years=%{text}<extra></extra>",
         "hovertext": [
          "Lithuania"
         ],
         "legendgroup": "Lithuania",
         "marker": {
          "color": "#17BECF",
          "pattern": {
           "shape": ""
          }
         },
         "name": "Lithuania",
         "offsetgroup": "Lithuania",
         "orientation": "v",
         "showlegend": true,
         "text": [
          55.714285714285715
         ],
         "textposition": "outside",
         "texttemplate": "%{text:.1f}%",
         "type": "bar",
         "x": [
          "Lithuania"
         ],
         "xaxis": "x",
         "y": [
          55.714285714285715
         ],
         "yaxis": "y"
        },
        {
         "alignmentgroup": "True",
         "hovertemplate": "<b>%{hovertext}</b><br><br>Country Name=%{x}<br>Average % of Renewable Energy for all years=%{text}<extra></extra>",
         "hovertext": [
          "Latvia"
         ],
         "legendgroup": "Latvia",
         "marker": {
          "color": "#1F77B4",
          "pattern": {
           "shape": ""
          }
         },
         "name": "Latvia",
         "offsetgroup": "Latvia",
         "orientation": "v",
         "showlegend": true,
         "text": [
          56.285714285714285
         ],
         "textposition": "outside",
         "texttemplate": "%{text:.1f}%",
         "type": "bar",
         "x": [
          "Latvia"
         ],
         "xaxis": "x",
         "y": [
          56.285714285714285
         ],
         "yaxis": "y"
        },
        {
         "alignmentgroup": "True",
         "hovertemplate": "<b>%{hovertext}</b><br><br>Country Name=%{x}<br>Average % of Renewable Energy for all years=%{text}<extra></extra>",
         "hovertext": [
          "Luxembourg"
         ],
         "legendgroup": "Luxembourg",
         "marker": {
          "color": "#FF7F0E",
          "pattern": {
           "shape": ""
          }
         },
         "name": "Luxembourg",
         "offsetgroup": "Luxembourg",
         "orientation": "v",
         "showlegend": true,
         "text": [
          63.785714285714285
         ],
         "textposition": "outside",
         "texttemplate": "%{text:.1f}%",
         "type": "bar",
         "x": [
          "Luxembourg"
         ],
         "xaxis": "x",
         "y": [
          63.785714285714285
         ],
         "yaxis": "y"
        },
        {
         "alignmentgroup": "True",
         "hovertemplate": "<b>%{hovertext}</b><br><br>Country Name=%{x}<br>Average % of Renewable Energy for all years=%{text}<extra></extra>",
         "hovertext": [
          "Croatia"
         ],
         "legendgroup": "Croatia",
         "marker": {
          "color": "#2CA02C",
          "pattern": {
           "shape": ""
          }
         },
         "name": "Croatia",
         "offsetgroup": "Croatia",
         "orientation": "v",
         "showlegend": true,
         "text": [
          64.33333333333333
         ],
         "textposition": "outside",
         "texttemplate": "%{text:.1f}%",
         "type": "bar",
         "x": [
          "Croatia"
         ],
         "xaxis": "x",
         "y": [
          64.33333333333333
         ],
         "yaxis": "y"
        },
        {
         "alignmentgroup": "True",
         "hovertemplate": "<b>%{hovertext}</b><br><br>Country Name=%{x}<br>Average % of Renewable Energy for all years=%{text}<extra></extra>",
         "hovertext": [
          "France"
         ],
         "legendgroup": "France",
         "marker": {
          "color": "#D62728",
          "pattern": {
           "shape": ""
          }
         },
         "name": "France",
         "offsetgroup": "France",
         "orientation": "v",
         "showlegend": true,
         "text": [
          64.57142857142857
         ],
         "textposition": "outside",
         "texttemplate": "%{text:.1f}%",
         "type": "bar",
         "x": [
          "France"
         ],
         "xaxis": "x",
         "y": [
          64.57142857142857
         ],
         "yaxis": "y"
        },
        {
         "alignmentgroup": "True",
         "hovertemplate": "<b>%{hovertext}</b><br><br>Country Name=%{x}<br>Average % of Renewable Energy for all years=%{text}<extra></extra>",
         "hovertext": [
          "Austria"
         ],
         "legendgroup": "Austria",
         "marker": {
          "color": "#9467BD",
          "pattern": {
           "shape": ""
          }
         },
         "name": "Austria",
         "offsetgroup": "Austria",
         "orientation": "v",
         "showlegend": true,
         "text": [
          72.42857142857143
         ],
         "textposition": "outside",
         "texttemplate": "%{text:.1f}%",
         "type": "bar",
         "x": [
          "Austria"
         ],
         "xaxis": "x",
         "y": [
          72.42857142857143
         ],
         "yaxis": "y"
        },
        {
         "alignmentgroup": "True",
         "hovertemplate": "<b>%{hovertext}</b><br><br>Country Name=%{x}<br>Average % of Renewable Energy for all years=%{text}<extra></extra>",
         "hovertext": [
          "Sweden"
         ],
         "legendgroup": "Sweden",
         "marker": {
          "color": "#8C564B",
          "pattern": {
           "shape": ""
          }
         },
         "name": "Sweden",
         "offsetgroup": "Sweden",
         "orientation": "v",
         "showlegend": true,
         "text": [
          85.92857142857143
         ],
         "textposition": "outside",
         "texttemplate": "%{text:.1f}%",
         "type": "bar",
         "x": [
          "Sweden"
         ],
         "xaxis": "x",
         "y": [
          85.92857142857143
         ],
         "yaxis": "y"
        }
       ],
       "layout": {
        "annotations": [
         {
          "font": {
           "color": "Red"
          },
          "showarrow": false,
          "text": "Target: 42%",
          "x": 25.5,
          "xshift": 10,
          "y": 42,
          "yshift": 10
         }
        ],
        "barmode": "relative",
        "height": 500,
        "legend": {
         "title": {
          "text": "Country Name"
         },
         "tracegroupgap": 0
        },
        "shapes": [
         {
          "line": {
           "color": "Red",
           "dash": "dash"
          },
          "type": "line",
          "x0": -0.5,
          "x1": 25.5,
          "y0": 42,
          "y1": 42
         }
        ],
        "template": {
         "data": {
          "bar": [
           {
            "error_x": {
             "color": "rgb(36,36,36)"
            },
            "error_y": {
             "color": "rgb(36,36,36)"
            },
            "marker": {
             "line": {
              "color": "white",
              "width": 0.5
             },
             "pattern": {
              "fillmode": "overlay",
              "size": 10,
              "solidity": 0.2
             }
            },
            "type": "bar"
           }
          ],
          "barpolar": [
           {
            "marker": {
             "line": {
              "color": "white",
              "width": 0.5
             },
             "pattern": {
              "fillmode": "overlay",
              "size": 10,
              "solidity": 0.2
             }
            },
            "type": "barpolar"
           }
          ],
          "carpet": [
           {
            "aaxis": {
             "endlinecolor": "rgb(36,36,36)",
             "gridcolor": "white",
             "linecolor": "white",
             "minorgridcolor": "white",
             "startlinecolor": "rgb(36,36,36)"
            },
            "baxis": {
             "endlinecolor": "rgb(36,36,36)",
             "gridcolor": "white",
             "linecolor": "white",
             "minorgridcolor": "white",
             "startlinecolor": "rgb(36,36,36)"
            },
            "type": "carpet"
           }
          ],
          "choropleth": [
           {
            "colorbar": {
             "outlinewidth": 1,
             "tickcolor": "rgb(36,36,36)",
             "ticks": "outside"
            },
            "type": "choropleth"
           }
          ],
          "contour": [
           {
            "colorbar": {
             "outlinewidth": 1,
             "tickcolor": "rgb(36,36,36)",
             "ticks": "outside"
            },
            "colorscale": [
             [
              0,
              "#440154"
             ],
             [
              0.1111111111111111,
              "#482878"
             ],
             [
              0.2222222222222222,
              "#3e4989"
             ],
             [
              0.3333333333333333,
              "#31688e"
             ],
             [
              0.4444444444444444,
              "#26828e"
             ],
             [
              0.5555555555555556,
              "#1f9e89"
             ],
             [
              0.6666666666666666,
              "#35b779"
             ],
             [
              0.7777777777777778,
              "#6ece58"
             ],
             [
              0.8888888888888888,
              "#b5de2b"
             ],
             [
              1,
              "#fde725"
             ]
            ],
            "type": "contour"
           }
          ],
          "contourcarpet": [
           {
            "colorbar": {
             "outlinewidth": 1,
             "tickcolor": "rgb(36,36,36)",
             "ticks": "outside"
            },
            "type": "contourcarpet"
           }
          ],
          "heatmap": [
           {
            "colorbar": {
             "outlinewidth": 1,
             "tickcolor": "rgb(36,36,36)",
             "ticks": "outside"
            },
            "colorscale": [
             [
              0,
              "#440154"
             ],
             [
              0.1111111111111111,
              "#482878"
             ],
             [
              0.2222222222222222,
              "#3e4989"
             ],
             [
              0.3333333333333333,
              "#31688e"
             ],
             [
              0.4444444444444444,
              "#26828e"
             ],
             [
              0.5555555555555556,
              "#1f9e89"
             ],
             [
              0.6666666666666666,
              "#35b779"
             ],
             [
              0.7777777777777778,
              "#6ece58"
             ],
             [
              0.8888888888888888,
              "#b5de2b"
             ],
             [
              1,
              "#fde725"
             ]
            ],
            "type": "heatmap"
           }
          ],
          "heatmapgl": [
           {
            "colorbar": {
             "outlinewidth": 1,
             "tickcolor": "rgb(36,36,36)",
             "ticks": "outside"
            },
            "colorscale": [
             [
              0,
              "#440154"
             ],
             [
              0.1111111111111111,
              "#482878"
             ],
             [
              0.2222222222222222,
              "#3e4989"
             ],
             [
              0.3333333333333333,
              "#31688e"
             ],
             [
              0.4444444444444444,
              "#26828e"
             ],
             [
              0.5555555555555556,
              "#1f9e89"
             ],
             [
              0.6666666666666666,
              "#35b779"
             ],
             [
              0.7777777777777778,
              "#6ece58"
             ],
             [
              0.8888888888888888,
              "#b5de2b"
             ],
             [
              1,
              "#fde725"
             ]
            ],
            "type": "heatmapgl"
           }
          ],
          "histogram": [
           {
            "marker": {
             "line": {
              "color": "white",
              "width": 0.6
             }
            },
            "type": "histogram"
           }
          ],
          "histogram2d": [
           {
            "colorbar": {
             "outlinewidth": 1,
             "tickcolor": "rgb(36,36,36)",
             "ticks": "outside"
            },
            "colorscale": [
             [
              0,
              "#440154"
             ],
             [
              0.1111111111111111,
              "#482878"
             ],
             [
              0.2222222222222222,
              "#3e4989"
             ],
             [
              0.3333333333333333,
              "#31688e"
             ],
             [
              0.4444444444444444,
              "#26828e"
             ],
             [
              0.5555555555555556,
              "#1f9e89"
             ],
             [
              0.6666666666666666,
              "#35b779"
             ],
             [
              0.7777777777777778,
              "#6ece58"
             ],
             [
              0.8888888888888888,
              "#b5de2b"
             ],
             [
              1,
              "#fde725"
             ]
            ],
            "type": "histogram2d"
           }
          ],
          "histogram2dcontour": [
           {
            "colorbar": {
             "outlinewidth": 1,
             "tickcolor": "rgb(36,36,36)",
             "ticks": "outside"
            },
            "colorscale": [
             [
              0,
              "#440154"
             ],
             [
              0.1111111111111111,
              "#482878"
             ],
             [
              0.2222222222222222,
              "#3e4989"
             ],
             [
              0.3333333333333333,
              "#31688e"
             ],
             [
              0.4444444444444444,
              "#26828e"
             ],
             [
              0.5555555555555556,
              "#1f9e89"
             ],
             [
              0.6666666666666666,
              "#35b779"
             ],
             [
              0.7777777777777778,
              "#6ece58"
             ],
             [
              0.8888888888888888,
              "#b5de2b"
             ],
             [
              1,
              "#fde725"
             ]
            ],
            "type": "histogram2dcontour"
           }
          ],
          "mesh3d": [
           {
            "colorbar": {
             "outlinewidth": 1,
             "tickcolor": "rgb(36,36,36)",
             "ticks": "outside"
            },
            "type": "mesh3d"
           }
          ],
          "parcoords": [
           {
            "line": {
             "colorbar": {
              "outlinewidth": 1,
              "tickcolor": "rgb(36,36,36)",
              "ticks": "outside"
             }
            },
            "type": "parcoords"
           }
          ],
          "pie": [
           {
            "automargin": true,
            "type": "pie"
           }
          ],
          "scatter": [
           {
            "fillpattern": {
             "fillmode": "overlay",
             "size": 10,
             "solidity": 0.2
            },
            "type": "scatter"
           }
          ],
          "scatter3d": [
           {
            "line": {
             "colorbar": {
              "outlinewidth": 1,
              "tickcolor": "rgb(36,36,36)",
              "ticks": "outside"
             }
            },
            "marker": {
             "colorbar": {
              "outlinewidth": 1,
              "tickcolor": "rgb(36,36,36)",
              "ticks": "outside"
             }
            },
            "type": "scatter3d"
           }
          ],
          "scattercarpet": [
           {
            "marker": {
             "colorbar": {
              "outlinewidth": 1,
              "tickcolor": "rgb(36,36,36)",
              "ticks": "outside"
             }
            },
            "type": "scattercarpet"
           }
          ],
          "scattergeo": [
           {
            "marker": {
             "colorbar": {
              "outlinewidth": 1,
              "tickcolor": "rgb(36,36,36)",
              "ticks": "outside"
             }
            },
            "type": "scattergeo"
           }
          ],
          "scattergl": [
           {
            "marker": {
             "colorbar": {
              "outlinewidth": 1,
              "tickcolor": "rgb(36,36,36)",
              "ticks": "outside"
             }
            },
            "type": "scattergl"
           }
          ],
          "scattermapbox": [
           {
            "marker": {
             "colorbar": {
              "outlinewidth": 1,
              "tickcolor": "rgb(36,36,36)",
              "ticks": "outside"
             }
            },
            "type": "scattermapbox"
           }
          ],
          "scatterpolar": [
           {
            "marker": {
             "colorbar": {
              "outlinewidth": 1,
              "tickcolor": "rgb(36,36,36)",
              "ticks": "outside"
             }
            },
            "type": "scatterpolar"
           }
          ],
          "scatterpolargl": [
           {
            "marker": {
             "colorbar": {
              "outlinewidth": 1,
              "tickcolor": "rgb(36,36,36)",
              "ticks": "outside"
             }
            },
            "type": "scatterpolargl"
           }
          ],
          "scatterternary": [
           {
            "marker": {
             "colorbar": {
              "outlinewidth": 1,
              "tickcolor": "rgb(36,36,36)",
              "ticks": "outside"
             }
            },
            "type": "scatterternary"
           }
          ],
          "surface": [
           {
            "colorbar": {
             "outlinewidth": 1,
             "tickcolor": "rgb(36,36,36)",
             "ticks": "outside"
            },
            "colorscale": [
             [
              0,
              "#440154"
             ],
             [
              0.1111111111111111,
              "#482878"
             ],
             [
              0.2222222222222222,
              "#3e4989"
             ],
             [
              0.3333333333333333,
              "#31688e"
             ],
             [
              0.4444444444444444,
              "#26828e"
             ],
             [
              0.5555555555555556,
              "#1f9e89"
             ],
             [
              0.6666666666666666,
              "#35b779"
             ],
             [
              0.7777777777777778,
              "#6ece58"
             ],
             [
              0.8888888888888888,
              "#b5de2b"
             ],
             [
              1,
              "#fde725"
             ]
            ],
            "type": "surface"
           }
          ],
          "table": [
           {
            "cells": {
             "fill": {
              "color": "rgb(237,237,237)"
             },
             "line": {
              "color": "white"
             }
            },
            "header": {
             "fill": {
              "color": "rgb(217,217,217)"
             },
             "line": {
              "color": "white"
             }
            },
            "type": "table"
           }
          ]
         },
         "layout": {
          "annotationdefaults": {
           "arrowhead": 0,
           "arrowwidth": 1
          },
          "autotypenumbers": "strict",
          "coloraxis": {
           "colorbar": {
            "outlinewidth": 1,
            "tickcolor": "rgb(36,36,36)",
            "ticks": "outside"
           }
          },
          "colorscale": {
           "diverging": [
            [
             0,
             "rgb(103,0,31)"
            ],
            [
             0.1,
             "rgb(178,24,43)"
            ],
            [
             0.2,
             "rgb(214,96,77)"
            ],
            [
             0.3,
             "rgb(244,165,130)"
            ],
            [
             0.4,
             "rgb(253,219,199)"
            ],
            [
             0.5,
             "rgb(247,247,247)"
            ],
            [
             0.6,
             "rgb(209,229,240)"
            ],
            [
             0.7,
             "rgb(146,197,222)"
            ],
            [
             0.8,
             "rgb(67,147,195)"
            ],
            [
             0.9,
             "rgb(33,102,172)"
            ],
            [
             1,
             "rgb(5,48,97)"
            ]
           ],
           "sequential": [
            [
             0,
             "#440154"
            ],
            [
             0.1111111111111111,
             "#482878"
            ],
            [
             0.2222222222222222,
             "#3e4989"
            ],
            [
             0.3333333333333333,
             "#31688e"
            ],
            [
             0.4444444444444444,
             "#26828e"
            ],
            [
             0.5555555555555556,
             "#1f9e89"
            ],
            [
             0.6666666666666666,
             "#35b779"
            ],
            [
             0.7777777777777778,
             "#6ece58"
            ],
            [
             0.8888888888888888,
             "#b5de2b"
            ],
            [
             1,
             "#fde725"
            ]
           ],
           "sequentialminus": [
            [
             0,
             "#440154"
            ],
            [
             0.1111111111111111,
             "#482878"
            ],
            [
             0.2222222222222222,
             "#3e4989"
            ],
            [
             0.3333333333333333,
             "#31688e"
            ],
            [
             0.4444444444444444,
             "#26828e"
            ],
            [
             0.5555555555555556,
             "#1f9e89"
            ],
            [
             0.6666666666666666,
             "#35b779"
            ],
            [
             0.7777777777777778,
             "#6ece58"
            ],
            [
             0.8888888888888888,
             "#b5de2b"
            ],
            [
             1,
             "#fde725"
            ]
           ]
          },
          "colorway": [
           "#1F77B4",
           "#FF7F0E",
           "#2CA02C",
           "#D62728",
           "#9467BD",
           "#8C564B",
           "#E377C2",
           "#7F7F7F",
           "#BCBD22",
           "#17BECF"
          ],
          "font": {
           "color": "rgb(36,36,36)"
          },
          "geo": {
           "bgcolor": "white",
           "lakecolor": "white",
           "landcolor": "white",
           "showlakes": true,
           "showland": true,
           "subunitcolor": "white"
          },
          "hoverlabel": {
           "align": "left"
          },
          "hovermode": "closest",
          "mapbox": {
           "style": "light"
          },
          "paper_bgcolor": "white",
          "plot_bgcolor": "white",
          "polar": {
           "angularaxis": {
            "gridcolor": "rgb(232,232,232)",
            "linecolor": "rgb(36,36,36)",
            "showgrid": false,
            "showline": true,
            "ticks": "outside"
           },
           "bgcolor": "white",
           "radialaxis": {
            "gridcolor": "rgb(232,232,232)",
            "linecolor": "rgb(36,36,36)",
            "showgrid": false,
            "showline": true,
            "ticks": "outside"
           }
          },
          "scene": {
           "xaxis": {
            "backgroundcolor": "white",
            "gridcolor": "rgb(232,232,232)",
            "gridwidth": 2,
            "linecolor": "rgb(36,36,36)",
            "showbackground": true,
            "showgrid": false,
            "showline": true,
            "ticks": "outside",
            "zeroline": false,
            "zerolinecolor": "rgb(36,36,36)"
           },
           "yaxis": {
            "backgroundcolor": "white",
            "gridcolor": "rgb(232,232,232)",
            "gridwidth": 2,
            "linecolor": "rgb(36,36,36)",
            "showbackground": true,
            "showgrid": false,
            "showline": true,
            "ticks": "outside",
            "zeroline": false,
            "zerolinecolor": "rgb(36,36,36)"
           },
           "zaxis": {
            "backgroundcolor": "white",
            "gridcolor": "rgb(232,232,232)",
            "gridwidth": 2,
            "linecolor": "rgb(36,36,36)",
            "showbackground": true,
            "showgrid": false,
            "showline": true,
            "ticks": "outside",
            "zeroline": false,
            "zerolinecolor": "rgb(36,36,36)"
           }
          },
          "shapedefaults": {
           "fillcolor": "black",
           "line": {
            "width": 0
           },
           "opacity": 0.3
          },
          "ternary": {
           "aaxis": {
            "gridcolor": "rgb(232,232,232)",
            "linecolor": "rgb(36,36,36)",
            "showgrid": false,
            "showline": true,
            "ticks": "outside"
           },
           "baxis": {
            "gridcolor": "rgb(232,232,232)",
            "linecolor": "rgb(36,36,36)",
            "showgrid": false,
            "showline": true,
            "ticks": "outside"
           },
           "bgcolor": "white",
           "caxis": {
            "gridcolor": "rgb(232,232,232)",
            "linecolor": "rgb(36,36,36)",
            "showgrid": false,
            "showline": true,
            "ticks": "outside"
           }
          },
          "title": {
           "x": 0.05
          },
          "xaxis": {
           "automargin": true,
           "gridcolor": "rgb(232,232,232)",
           "linecolor": "rgb(36,36,36)",
           "showgrid": false,
           "showline": true,
           "ticks": "outside",
           "title": {
            "standoff": 15
           },
           "zeroline": false,
           "zerolinecolor": "rgb(36,36,36)"
          },
          "yaxis": {
           "automargin": true,
           "gridcolor": "rgb(232,232,232)",
           "linecolor": "rgb(36,36,36)",
           "showgrid": false,
           "showline": true,
           "ticks": "outside",
           "title": {
            "standoff": 15
           },
           "zeroline": false,
           "zerolinecolor": "rgb(36,36,36)"
          }
         }
        },
        "title": {
         "text": "Average Percentage of Renewable Energy by Country (All Years)"
        },
        "width": 800,
        "xaxis": {
         "anchor": "y",
         "categoryarray": [
          "Malta",
          "Cyprus",
          "Poland",
          "Czech Republic",
          "Estonia",
          "Netherlands",
          "Hungary",
          "Ireland",
          "Bulgaria",
          "Greece",
          "Belgium",
          "Germany",
          "Italy",
          "Slovak Republic",
          "Spain",
          "Slovenia",
          "Portugal",
          "Finland",
          "Denmark",
          "Lithuania",
          "Latvia",
          "Luxembourg",
          "Croatia",
          "France",
          "Austria",
          "Sweden"
         ],
         "categoryorder": "array",
         "domain": [
          0,
          1
         ],
         "title": {
          "text": "Country Name"
         }
        },
        "yaxis": {
         "anchor": "x",
         "domain": [
          0,
          1
         ],
         "title": {
          "text": "Average % of Renewable Energy for all years"
         }
        }
       }
      }
     },
     "metadata": {},
     "output_type": "display_data"
    }
   ],
   "source": [
    "# H1.4. bar chart: the average % of renewable energy adoption for each country in 2010-2023\n",
    "create_bar_chart_with_target(df_viz)"
   ]
  }
 ],
 "metadata": {
  "kernelspec": {
   "display_name": "base",
   "language": "python",
   "name": "python3"
  },
  "language_info": {
   "codemirror_mode": {
    "name": "ipython",
    "version": 3
   },
   "file_extension": ".py",
   "mimetype": "text/x-python",
   "name": "python",
   "nbconvert_exporter": "python",
   "pygments_lexer": "ipython3",
   "version": "3.11.7"
  }
 },
 "nbformat": 4,
 "nbformat_minor": 2
}
