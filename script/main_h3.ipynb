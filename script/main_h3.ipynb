{
 "cells": [
  {
   "cell_type": "code",
   "execution_count": 331,
   "metadata": {},
   "outputs": [],
   "source": [
    "import pandas as pd\n",
    "import numpy as np\n",
    "import seaborn as sns\n",
    "import re\n",
    "\n",
    "\n",
    "from functions import *"
   ]
  },
  {
   "cell_type": "markdown",
   "metadata": {},
   "source": [
    "# EDA 1st Dataset (121K rows) global_electriciy_production"
   ]
  },
  {
   "cell_type": "code",
   "execution_count": 332,
   "metadata": {},
   "outputs": [
    {
     "data": {
      "text/html": [
       "<div>\n",
       "<style scoped>\n",
       "    .dataframe tbody tr th:only-of-type {\n",
       "        vertical-align: middle;\n",
       "    }\n",
       "\n",
       "    .dataframe tbody tr th {\n",
       "        vertical-align: top;\n",
       "    }\n",
       "\n",
       "    .dataframe thead th {\n",
       "        text-align: right;\n",
       "    }\n",
       "</style>\n",
       "<table border=\"1\" class=\"dataframe\">\n",
       "  <thead>\n",
       "    <tr style=\"text-align: right;\">\n",
       "      <th></th>\n",
       "      <th>country_name</th>\n",
       "      <th>date</th>\n",
       "      <th>parameter</th>\n",
       "      <th>product</th>\n",
       "      <th>value</th>\n",
       "      <th>unit</th>\n",
       "    </tr>\n",
       "  </thead>\n",
       "  <tbody>\n",
       "    <tr>\n",
       "      <th>0</th>\n",
       "      <td>Australia</td>\n",
       "      <td>12/1/2023</td>\n",
       "      <td>Net Electricity Production</td>\n",
       "      <td>Electricity</td>\n",
       "      <td>22646.1901</td>\n",
       "      <td>GWh</td>\n",
       "    </tr>\n",
       "    <tr>\n",
       "      <th>1</th>\n",
       "      <td>Australia</td>\n",
       "      <td>12/1/2023</td>\n",
       "      <td>Net Electricity Production</td>\n",
       "      <td>Total Combustible Fuels</td>\n",
       "      <td>13397.9356</td>\n",
       "      <td>GWh</td>\n",
       "    </tr>\n",
       "    <tr>\n",
       "      <th>2</th>\n",
       "      <td>Australia</td>\n",
       "      <td>12/1/2023</td>\n",
       "      <td>Net Electricity Production</td>\n",
       "      <td>Coal, Peat and Manufactured Gases</td>\n",
       "      <td>9768.5223</td>\n",
       "      <td>GWh</td>\n",
       "    </tr>\n",
       "    <tr>\n",
       "      <th>3</th>\n",
       "      <td>Australia</td>\n",
       "      <td>12/1/2023</td>\n",
       "      <td>Net Electricity Production</td>\n",
       "      <td>Oil and Petroleum Products</td>\n",
       "      <td>289.5415</td>\n",
       "      <td>GWh</td>\n",
       "    </tr>\n",
       "    <tr>\n",
       "      <th>4</th>\n",
       "      <td>Australia</td>\n",
       "      <td>12/1/2023</td>\n",
       "      <td>Net Electricity Production</td>\n",
       "      <td>Natural Gas</td>\n",
       "      <td>3091.9272</td>\n",
       "      <td>GWh</td>\n",
       "    </tr>\n",
       "  </tbody>\n",
       "</table>\n",
       "</div>"
      ],
      "text/plain": [
       "  country_name       date                   parameter  \\\n",
       "0    Australia  12/1/2023  Net Electricity Production   \n",
       "1    Australia  12/1/2023  Net Electricity Production   \n",
       "2    Australia  12/1/2023  Net Electricity Production   \n",
       "3    Australia  12/1/2023  Net Electricity Production   \n",
       "4    Australia  12/1/2023  Net Electricity Production   \n",
       "\n",
       "                             product       value unit  \n",
       "0                        Electricity  22646.1901  GWh  \n",
       "1            Total Combustible Fuels  13397.9356  GWh  \n",
       "2  Coal, Peat and Manufactured Gases   9768.5223  GWh  \n",
       "3         Oil and Petroleum Products    289.5415  GWh  \n",
       "4                        Natural Gas   3091.9272  GWh  "
      ]
     },
     "execution_count": 332,
     "metadata": {},
     "output_type": "execute_result"
    }
   ],
   "source": [
    "#load dataset 1        \n",
    "df1 = pd.read_csv('./data/global_electricity_production_data.csv')     \n",
    "df1.head()                       \n"
   ]
  },
  {
   "cell_type": "code",
   "execution_count": 333,
   "metadata": {},
   "outputs": [
    {
     "name": "stdout",
     "output_type": "stream",
     "text": [
      "\n",
      "Shape of the DataFrame:\n",
      "\n",
      "(121074, 6)\n",
      "\n",
      "Duplicate Rows Number:\n",
      "\n",
      "0\n",
      "\n",
      "Summary Statistics:\n",
      "\n",
      "              value\n",
      "count  121060.00000\n",
      "mean     6925.08149\n",
      "std     34224.45546\n",
      "min         0.00000\n",
      "25%        41.19900\n",
      "50%       470.41900\n",
      "75%      2629.71275\n",
      "max    865976.48280\n"
     ]
    }
   ],
   "source": [
    "initial_data_checking(df1)"
   ]
  },
  {
   "cell_type": "code",
   "execution_count": 334,
   "metadata": {},
   "outputs": [
    {
     "data": {
      "text/html": [
       "<div>\n",
       "<style scoped>\n",
       "    .dataframe tbody tr th:only-of-type {\n",
       "        vertical-align: middle;\n",
       "    }\n",
       "\n",
       "    .dataframe tbody tr th {\n",
       "        vertical-align: top;\n",
       "    }\n",
       "\n",
       "    .dataframe thead th {\n",
       "        text-align: right;\n",
       "    }\n",
       "</style>\n",
       "<table border=\"1\" class=\"dataframe\">\n",
       "  <thead>\n",
       "    <tr style=\"text-align: right;\">\n",
       "      <th></th>\n",
       "      <th>non-Null_count</th>\n",
       "      <th>dtype</th>\n",
       "      <th>unique_values</th>\n",
       "      <th>%_unique</th>\n",
       "      <th>missing_values</th>\n",
       "      <th>%_missing</th>\n",
       "    </tr>\n",
       "  </thead>\n",
       "  <tbody>\n",
       "    <tr>\n",
       "      <th>country_name</th>\n",
       "      <td>121074</td>\n",
       "      <td>object</td>\n",
       "      <td>48</td>\n",
       "      <td>0.04%</td>\n",
       "      <td>0</td>\n",
       "      <td>0.0%</td>\n",
       "    </tr>\n",
       "    <tr>\n",
       "      <th>date</th>\n",
       "      <td>121074</td>\n",
       "      <td>object</td>\n",
       "      <td>168</td>\n",
       "      <td>0.14%</td>\n",
       "      <td>0</td>\n",
       "      <td>0.0%</td>\n",
       "    </tr>\n",
       "    <tr>\n",
       "      <th>parameter</th>\n",
       "      <td>121074</td>\n",
       "      <td>object</td>\n",
       "      <td>7</td>\n",
       "      <td>0.01%</td>\n",
       "      <td>0</td>\n",
       "      <td>0.0%</td>\n",
       "    </tr>\n",
       "    <tr>\n",
       "      <th>product</th>\n",
       "      <td>121074</td>\n",
       "      <td>object</td>\n",
       "      <td>16</td>\n",
       "      <td>0.01%</td>\n",
       "      <td>0</td>\n",
       "      <td>0.0%</td>\n",
       "    </tr>\n",
       "    <tr>\n",
       "      <th>value</th>\n",
       "      <td>121060</td>\n",
       "      <td>float64</td>\n",
       "      <td>101983</td>\n",
       "      <td>84.23%</td>\n",
       "      <td>14</td>\n",
       "      <td>0.01%</td>\n",
       "    </tr>\n",
       "    <tr>\n",
       "      <th>unit</th>\n",
       "      <td>121074</td>\n",
       "      <td>object</td>\n",
       "      <td>1</td>\n",
       "      <td>0.0%</td>\n",
       "      <td>0</td>\n",
       "      <td>0.0%</td>\n",
       "    </tr>\n",
       "  </tbody>\n",
       "</table>\n",
       "</div>"
      ],
      "text/plain": [
       "              non-Null_count    dtype  unique_values %_unique  missing_values  \\\n",
       "country_name          121074   object             48    0.04%               0   \n",
       "date                  121074   object            168    0.14%               0   \n",
       "parameter             121074   object              7    0.01%               0   \n",
       "product               121074   object             16    0.01%               0   \n",
       "value                 121060  float64         101983   84.23%              14   \n",
       "unit                  121074   object              1     0.0%               0   \n",
       "\n",
       "             %_missing  \n",
       "country_name      0.0%  \n",
       "date              0.0%  \n",
       "parameter         0.0%  \n",
       "product           0.0%  \n",
       "value            0.01%  \n",
       "unit              0.0%  "
      ]
     },
     "execution_count": 334,
     "metadata": {},
     "output_type": "execute_result"
    }
   ],
   "source": [
    "unique_and_missing_values_dtype(df1)"
   ]
  },
  {
   "cell_type": "code",
   "execution_count": 335,
   "metadata": {},
   "outputs": [
    {
     "name": "stdout",
     "output_type": "stream",
     "text": [
      "\n",
      "Categorical Columns:\n",
      "\n",
      "  country_name       date                   parameter  \\\n",
      "0    Australia  12/1/2023  Net Electricity Production   \n",
      "1    Australia  12/1/2023  Net Electricity Production   \n",
      "2    Australia  12/1/2023  Net Electricity Production   \n",
      "3    Australia  12/1/2023  Net Electricity Production   \n",
      "4    Australia  12/1/2023  Net Electricity Production   \n",
      "\n",
      "                             product unit  \n",
      "0                        Electricity  GWh  \n",
      "1            Total Combustible Fuels  GWh  \n",
      "2  Coal, Peat and Manufactured Gases  GWh  \n",
      "3         Oil and Petroleum Products  GWh  \n",
      "4                        Natural Gas  GWh  \n",
      "\n",
      "Numerical Columns:\n",
      "\n",
      "        value\n",
      "0  22646.1901\n",
      "1  13397.9356\n",
      "2   9768.5223\n",
      "3    289.5415\n",
      "4   3091.9272\n"
     ]
    }
   ],
   "source": [
    "# separate categorical and numerical columns:\n",
    "def separate_columns(df1):\n",
    "    categorical_cols = df1[['country_name', 'date', 'parameter', 'product', 'unit']]\n",
    "    numerical_cols = df1[['value']]\n",
    "    \n",
    "    print(\"\\nCategorical Columns:\\n\")\n",
    "    print(categorical_cols.head())  # Using head() to show the first few rows\n",
    "    print(\"\\nNumerical Columns:\\n\")\n",
    "    print(numerical_cols.head())  # Using head() to show the first few rows\n",
    "    \n",
    "separate_columns(df1)"
   ]
  },
  {
   "cell_type": "code",
   "execution_count": 336,
   "metadata": {},
   "outputs": [
    {
     "data": {
      "text/html": [
       "<div>\n",
       "<style scoped>\n",
       "    .dataframe tbody tr th:only-of-type {\n",
       "        vertical-align: middle;\n",
       "    }\n",
       "\n",
       "    .dataframe tbody tr th {\n",
       "        vertical-align: top;\n",
       "    }\n",
       "\n",
       "    .dataframe thead th {\n",
       "        text-align: right;\n",
       "    }\n",
       "</style>\n",
       "<table border=\"1\" class=\"dataframe\">\n",
       "  <thead>\n",
       "    <tr style=\"text-align: right;\">\n",
       "      <th></th>\n",
       "      <th>country_name</th>\n",
       "      <th>date</th>\n",
       "      <th>parameter</th>\n",
       "      <th>product</th>\n",
       "      <th>unit</th>\n",
       "    </tr>\n",
       "  </thead>\n",
       "  <tbody>\n",
       "    <tr>\n",
       "      <th>count</th>\n",
       "      <td>121074</td>\n",
       "      <td>121074</td>\n",
       "      <td>121074</td>\n",
       "      <td>121074</td>\n",
       "      <td>121074</td>\n",
       "    </tr>\n",
       "    <tr>\n",
       "      <th>unique</th>\n",
       "      <td>48</td>\n",
       "      <td>168</td>\n",
       "      <td>7</td>\n",
       "      <td>16</td>\n",
       "      <td>1</td>\n",
       "    </tr>\n",
       "    <tr>\n",
       "      <th>top</th>\n",
       "      <td>France</td>\n",
       "      <td>3/1/2021</td>\n",
       "      <td>Net Electricity Production</td>\n",
       "      <td>Electricity</td>\n",
       "      <td>GWh</td>\n",
       "    </tr>\n",
       "    <tr>\n",
       "      <th>freq</th>\n",
       "      <td>3348</td>\n",
       "      <td>893</td>\n",
       "      <td>93318</td>\n",
       "      <td>34930</td>\n",
       "      <td>121074</td>\n",
       "    </tr>\n",
       "  </tbody>\n",
       "</table>\n",
       "</div>"
      ],
      "text/plain": [
       "       country_name      date                   parameter      product    unit\n",
       "count        121074    121074                      121074       121074  121074\n",
       "unique           48       168                           7           16       1\n",
       "top          France  3/1/2021  Net Electricity Production  Electricity     GWh\n",
       "freq           3348       893                       93318        34930  121074"
      ]
     },
     "execution_count": 336,
     "metadata": {},
     "output_type": "execute_result"
    }
   ],
   "source": [
    "# analyze_categorical cols:\n",
    "analyze_categorical(df1)"
   ]
  },
  {
   "cell_type": "code",
   "execution_count": 337,
   "metadata": {},
   "outputs": [
    {
     "name": "stdout",
     "output_type": "stream",
     "text": [
      "\n",
      "Numerical Columns Analysis:\n"
     ]
    },
    {
     "data": {
      "text/html": [
       "<div>\n",
       "<style scoped>\n",
       "    .dataframe tbody tr th:only-of-type {\n",
       "        vertical-align: middle;\n",
       "    }\n",
       "\n",
       "    .dataframe tbody tr th {\n",
       "        vertical-align: top;\n",
       "    }\n",
       "\n",
       "    .dataframe thead th {\n",
       "        text-align: right;\n",
       "    }\n",
       "</style>\n",
       "<table border=\"1\" class=\"dataframe\">\n",
       "  <thead>\n",
       "    <tr style=\"text-align: right;\">\n",
       "      <th></th>\n",
       "      <th>value</th>\n",
       "    </tr>\n",
       "  </thead>\n",
       "  <tbody>\n",
       "    <tr>\n",
       "      <th>count</th>\n",
       "      <td>121060.00000</td>\n",
       "    </tr>\n",
       "    <tr>\n",
       "      <th>mean</th>\n",
       "      <td>6925.08149</td>\n",
       "    </tr>\n",
       "    <tr>\n",
       "      <th>std</th>\n",
       "      <td>34224.45546</td>\n",
       "    </tr>\n",
       "    <tr>\n",
       "      <th>min</th>\n",
       "      <td>0.00000</td>\n",
       "    </tr>\n",
       "    <tr>\n",
       "      <th>25%</th>\n",
       "      <td>41.19900</td>\n",
       "    </tr>\n",
       "    <tr>\n",
       "      <th>50%</th>\n",
       "      <td>470.41900</td>\n",
       "    </tr>\n",
       "    <tr>\n",
       "      <th>75%</th>\n",
       "      <td>2629.71275</td>\n",
       "    </tr>\n",
       "    <tr>\n",
       "      <th>max</th>\n",
       "      <td>865976.48280</td>\n",
       "    </tr>\n",
       "  </tbody>\n",
       "</table>\n",
       "</div>"
      ],
      "text/plain": [
       "              value\n",
       "count  121060.00000\n",
       "mean     6925.08149\n",
       "std     34224.45546\n",
       "min         0.00000\n",
       "25%        41.19900\n",
       "50%       470.41900\n",
       "75%      2629.71275\n",
       "max    865976.48280"
      ]
     },
     "execution_count": 337,
     "metadata": {},
     "output_type": "execute_result"
    }
   ],
   "source": [
    "  # analyze_numerical cols:\n",
    "analyze_numerical(df1)"
   ]
  },
  {
   "cell_type": "code",
   "execution_count": 338,
   "metadata": {},
   "outputs": [
    {
     "name": "stdout",
     "output_type": "stream",
     "text": [
      "Number of missing values in 'value' column: 14\n"
     ]
    }
   ],
   "source": [
    "# Count missing values in the 'value' column of df1\n",
    "missing_values_count = df1['value'].isna().sum()\n",
    "\n",
    "# Print the number of missing values\n",
    "print(\"Number of missing values in 'value' column:\", missing_values_count)"
   ]
  },
  {
   "cell_type": "code",
   "execution_count": 339,
   "metadata": {},
   "outputs": [
    {
     "data": {
      "text/html": [
       "<div>\n",
       "<style scoped>\n",
       "    .dataframe tbody tr th:only-of-type {\n",
       "        vertical-align: middle;\n",
       "    }\n",
       "\n",
       "    .dataframe tbody tr th {\n",
       "        vertical-align: top;\n",
       "    }\n",
       "\n",
       "    .dataframe thead th {\n",
       "        text-align: right;\n",
       "    }\n",
       "</style>\n",
       "<table border=\"1\" class=\"dataframe\">\n",
       "  <thead>\n",
       "    <tr style=\"text-align: right;\">\n",
       "      <th></th>\n",
       "      <th>country_name</th>\n",
       "      <th>date</th>\n",
       "      <th>parameter</th>\n",
       "      <th>product</th>\n",
       "      <th>value</th>\n",
       "      <th>unit</th>\n",
       "    </tr>\n",
       "  </thead>\n",
       "  <tbody>\n",
       "    <tr>\n",
       "      <th>67</th>\n",
       "      <td>Chile</td>\n",
       "      <td>12/1/2023</td>\n",
       "      <td>Remarks</td>\n",
       "      <td>Data is estimated for this month</td>\n",
       "      <td>NaN</td>\n",
       "      <td>GWh</td>\n",
       "    </tr>\n",
       "    <tr>\n",
       "      <th>94</th>\n",
       "      <td>Costa Rica</td>\n",
       "      <td>12/1/2023</td>\n",
       "      <td>Remarks</td>\n",
       "      <td>Data is estimated for this month</td>\n",
       "      <td>NaN</td>\n",
       "      <td>GWh</td>\n",
       "    </tr>\n",
       "    <tr>\n",
       "      <th>285</th>\n",
       "      <td>Japan</td>\n",
       "      <td>12/1/2023</td>\n",
       "      <td>Remarks</td>\n",
       "      <td>Data is estimated for this month</td>\n",
       "      <td>NaN</td>\n",
       "      <td>GWh</td>\n",
       "    </tr>\n",
       "    <tr>\n",
       "      <th>804</th>\n",
       "      <td>Costa Rica</td>\n",
       "      <td>11/1/2023</td>\n",
       "      <td>Remarks</td>\n",
       "      <td>Data is estimated for this month</td>\n",
       "      <td>NaN</td>\n",
       "      <td>GWh</td>\n",
       "    </tr>\n",
       "    <tr>\n",
       "      <th>1517</th>\n",
       "      <td>Costa Rica</td>\n",
       "      <td>10/1/2023</td>\n",
       "      <td>Remarks</td>\n",
       "      <td>Data is estimated for this month</td>\n",
       "      <td>NaN</td>\n",
       "      <td>GWh</td>\n",
       "    </tr>\n",
       "    <tr>\n",
       "      <th>2230</th>\n",
       "      <td>Costa Rica</td>\n",
       "      <td>9/1/2023</td>\n",
       "      <td>Remarks</td>\n",
       "      <td>Data is estimated for this month</td>\n",
       "      <td>NaN</td>\n",
       "      <td>GWh</td>\n",
       "    </tr>\n",
       "    <tr>\n",
       "      <th>2944</th>\n",
       "      <td>Costa Rica</td>\n",
       "      <td>8/1/2023</td>\n",
       "      <td>Remarks</td>\n",
       "      <td>Data is estimated for this month</td>\n",
       "      <td>NaN</td>\n",
       "      <td>GWh</td>\n",
       "    </tr>\n",
       "    <tr>\n",
       "      <th>3659</th>\n",
       "      <td>Costa Rica</td>\n",
       "      <td>7/1/2023</td>\n",
       "      <td>Remarks</td>\n",
       "      <td>Data is estimated for this month</td>\n",
       "      <td>NaN</td>\n",
       "      <td>GWh</td>\n",
       "    </tr>\n",
       "    <tr>\n",
       "      <th>4375</th>\n",
       "      <td>Costa Rica</td>\n",
       "      <td>6/1/2023</td>\n",
       "      <td>Remarks</td>\n",
       "      <td>Data is estimated for this month</td>\n",
       "      <td>NaN</td>\n",
       "      <td>GWh</td>\n",
       "    </tr>\n",
       "    <tr>\n",
       "      <th>5090</th>\n",
       "      <td>Costa Rica</td>\n",
       "      <td>5/1/2023</td>\n",
       "      <td>Remarks</td>\n",
       "      <td>Data is estimated for this month</td>\n",
       "      <td>NaN</td>\n",
       "      <td>GWh</td>\n",
       "    </tr>\n",
       "    <tr>\n",
       "      <th>5805</th>\n",
       "      <td>Costa Rica</td>\n",
       "      <td>4/1/2023</td>\n",
       "      <td>Remarks</td>\n",
       "      <td>Data is estimated for this month</td>\n",
       "      <td>NaN</td>\n",
       "      <td>GWh</td>\n",
       "    </tr>\n",
       "    <tr>\n",
       "      <th>6523</th>\n",
       "      <td>Costa Rica</td>\n",
       "      <td>3/1/2023</td>\n",
       "      <td>Remarks</td>\n",
       "      <td>Data is estimated for this month</td>\n",
       "      <td>NaN</td>\n",
       "      <td>GWh</td>\n",
       "    </tr>\n",
       "    <tr>\n",
       "      <th>7242</th>\n",
       "      <td>Costa Rica</td>\n",
       "      <td>2/1/2023</td>\n",
       "      <td>Remarks</td>\n",
       "      <td>Data is estimated for this month</td>\n",
       "      <td>NaN</td>\n",
       "      <td>GWh</td>\n",
       "    </tr>\n",
       "    <tr>\n",
       "      <th>7961</th>\n",
       "      <td>Costa Rica</td>\n",
       "      <td>1/1/2023</td>\n",
       "      <td>Remarks</td>\n",
       "      <td>Data is estimated for this month</td>\n",
       "      <td>NaN</td>\n",
       "      <td>GWh</td>\n",
       "    </tr>\n",
       "  </tbody>\n",
       "</table>\n",
       "</div>"
      ],
      "text/plain": [
       "     country_name       date parameter                           product  \\\n",
       "67          Chile  12/1/2023   Remarks  Data is estimated for this month   \n",
       "94     Costa Rica  12/1/2023   Remarks  Data is estimated for this month   \n",
       "285         Japan  12/1/2023   Remarks  Data is estimated for this month   \n",
       "804    Costa Rica  11/1/2023   Remarks  Data is estimated for this month   \n",
       "1517   Costa Rica  10/1/2023   Remarks  Data is estimated for this month   \n",
       "2230   Costa Rica   9/1/2023   Remarks  Data is estimated for this month   \n",
       "2944   Costa Rica   8/1/2023   Remarks  Data is estimated for this month   \n",
       "3659   Costa Rica   7/1/2023   Remarks  Data is estimated for this month   \n",
       "4375   Costa Rica   6/1/2023   Remarks  Data is estimated for this month   \n",
       "5090   Costa Rica   5/1/2023   Remarks  Data is estimated for this month   \n",
       "5805   Costa Rica   4/1/2023   Remarks  Data is estimated for this month   \n",
       "6523   Costa Rica   3/1/2023   Remarks  Data is estimated for this month   \n",
       "7242   Costa Rica   2/1/2023   Remarks  Data is estimated for this month   \n",
       "7961   Costa Rica   1/1/2023   Remarks  Data is estimated for this month   \n",
       "\n",
       "      value unit  \n",
       "67      NaN  GWh  \n",
       "94      NaN  GWh  \n",
       "285     NaN  GWh  \n",
       "804     NaN  GWh  \n",
       "1517    NaN  GWh  \n",
       "2230    NaN  GWh  \n",
       "2944    NaN  GWh  \n",
       "3659    NaN  GWh  \n",
       "4375    NaN  GWh  \n",
       "5090    NaN  GWh  \n",
       "5805    NaN  GWh  \n",
       "6523    NaN  GWh  \n",
       "7242    NaN  GWh  \n",
       "7961    NaN  GWh  "
      ]
     },
     "execution_count": 339,
     "metadata": {},
     "output_type": "execute_result"
    }
   ],
   "source": [
    "#display missing data\n",
    "missing_value_rows = df1[df1['value'].isna()]\n",
    "\n",
    "# Print the rows with missing values in the 'value' column\n",
    "missing_value_rows"
   ]
  },
  {
   "cell_type": "code",
   "execution_count": 340,
   "metadata": {},
   "outputs": [
    {
     "data": {
      "text/plain": [
       "array(['Australia', 'Austria', 'Belgium', 'Canada', 'Chile', 'Colombia',\n",
       "       'Costa Rica', 'Czech Republic', 'Denmark', 'Estonia', 'Finland',\n",
       "       'France', 'Germany', 'Greece', 'Hungary', 'Iceland', 'Ireland',\n",
       "       'Italy', 'Japan', 'Korea', 'Latvia', 'Lithuania', 'Luxembourg',\n",
       "       'Mexico', 'Netherlands', 'New Zealand', 'Norway', 'Poland',\n",
       "       'Portugal', 'Slovak Republic', 'Slovenia', 'Spain', 'Sweden',\n",
       "       'Switzerland', 'Turkey', 'United Kingdom', 'United States',\n",
       "       'Argentina', 'Brazil', 'Bulgaria', 'China', 'Croatia', 'Cyprus',\n",
       "       'India', 'Malta', 'North Macedonia', 'Peru', 'Serbia'],\n",
       "      dtype=object)"
      ]
     },
     "execution_count": 340,
     "metadata": {},
     "output_type": "execute_result"
    }
   ],
   "source": [
    "countries  = df1['country_name'].unique()\n",
    "countries"
   ]
  },
  {
   "cell_type": "code",
   "execution_count": 341,
   "metadata": {},
   "outputs": [
    {
     "name": "stdout",
     "output_type": "stream",
     "text": [
      "The 'date' column is not in datetime format.\n"
     ]
    }
   ],
   "source": [
    "# Check if 'date' column is in datetime format\n",
    "if pd.api.types.is_datetime64_any_dtype(df1['date']):\n",
    "    print(\"The 'date' column is already in datetime format.\")\n",
    "else:\n",
    "    print(\"The 'date' column is not in datetime format.\")"
   ]
  },
  {
   "cell_type": "code",
   "execution_count": 342,
   "metadata": {},
   "outputs": [
    {
     "data": {
      "text/plain": [
       "parameter\n",
       "Net Electricity Production        93318\n",
       "Final Consumption (Calculated)     6036\n",
       "Distribution Losses                6033\n",
       "Total Exports                      5416\n",
       "Total Imports                      5411\n",
       "Used for pumped storage            4846\n",
       "Remarks                              14\n",
       "Name: count, dtype: int64"
      ]
     },
     "execution_count": 342,
     "metadata": {},
     "output_type": "execute_result"
    }
   ],
   "source": [
    "parameter_counts = df1['parameter'].value_counts()\n",
    "parameter_counts"
   ]
  },
  {
   "cell_type": "code",
   "execution_count": 343,
   "metadata": {},
   "outputs": [
    {
     "data": {
      "text/plain": [
       "product\n",
       "Electricity                                          34930\n",
       "Total Combustible Fuels                               7188\n",
       "Total Renewables (Hydro, Geo, Solar, Wind, Other)     7188\n",
       "Hydro                                                 7070\n",
       "Oil and Petroleum Products                            7066\n",
       "Combustible Renewables                                7049\n",
       "Wind                                                  7040\n",
       "Natural Gas                                           6923\n",
       "Solar                                                 6898\n",
       "Coal, Peat and Manufactured Gases                     6525\n",
       "Other Combustible Non-Renewables                      6147\n",
       "Not Specified                                         5098\n",
       "Nuclear                                               4814\n",
       "Geothermal                                            4267\n",
       "Other Renewables                                      2857\n",
       "Data is estimated for this month                        14\n",
       "Name: count, dtype: int64"
      ]
     },
     "execution_count": 343,
     "metadata": {},
     "output_type": "execute_result"
    }
   ],
   "source": [
    "product_count = df1['product'].value_counts()\n",
    "product_count"
   ]
  },
  {
   "cell_type": "code",
   "execution_count": 344,
   "metadata": {},
   "outputs": [
    {
     "data": {
      "text/plain": [
       "unit\n",
       "GWh    121074\n",
       "Name: count, dtype: int64"
      ]
     },
     "execution_count": 344,
     "metadata": {},
     "output_type": "execute_result"
    }
   ],
   "source": [
    "unit_count = df1['unit'].value_counts()\n",
    "unit_count"
   ]
  },
  {
   "cell_type": "markdown",
   "metadata": {},
   "source": [
    "# Data cleaning main dataset"
   ]
  },
  {
   "cell_type": "code",
   "execution_count": 345,
   "metadata": {},
   "outputs": [
    {
     "data": {
      "text/plain": [
       "Index(['country_name', 'date', 'parameter', 'product', 'value', 'unit'], dtype='object')"
      ]
     },
     "execution_count": 345,
     "metadata": {},
     "output_type": "execute_result"
    }
   ],
   "source": [
    "#format titles names \n",
    "format_column_titles(df1)"
   ]
  },
  {
   "cell_type": "code",
   "execution_count": 346,
   "metadata": {},
   "outputs": [],
   "source": [
    "#filter EU countries \n",
    "eu_countries = ['Austria', 'Belgium', 'Bulgaria', 'Croatia', 'Cyprus', 'Czech Republic', 'Denmark', 'Estonia', 'Finland', 'France', 'Germany', 'Greece', 'Hungary', 'Ireland', 'Italy', 'Latvia', 'Lithuania', 'Luxembourg', 'Malta', 'Netherlands', 'Poland', 'Portugal', 'Romania', 'Slovak Republic', 'Slovenia', 'Spain', 'Sweden']\n",
    "\n",
    "df_eu = df1.loc[df1['country_name'].isin(eu_countries)]"
   ]
  },
  {
   "cell_type": "code",
   "execution_count": 347,
   "metadata": {},
   "outputs": [],
   "source": [
    "#drop rows with missing data \n",
    "df_cleaned = df_eu.dropna(axis=1)"
   ]
  },
  {
   "cell_type": "code",
   "execution_count": 348,
   "metadata": {},
   "outputs": [
    {
     "data": {
      "text/html": [
       "<div>\n",
       "<style scoped>\n",
       "    .dataframe tbody tr th:only-of-type {\n",
       "        vertical-align: middle;\n",
       "    }\n",
       "\n",
       "    .dataframe tbody tr th {\n",
       "        vertical-align: top;\n",
       "    }\n",
       "\n",
       "    .dataframe thead th {\n",
       "        text-align: right;\n",
       "    }\n",
       "</style>\n",
       "<table border=\"1\" class=\"dataframe\">\n",
       "  <thead>\n",
       "    <tr style=\"text-align: right;\">\n",
       "      <th></th>\n",
       "      <th>non-Null_count</th>\n",
       "      <th>dtype</th>\n",
       "      <th>unique_values</th>\n",
       "      <th>%_unique</th>\n",
       "      <th>missing_values</th>\n",
       "      <th>%_missing</th>\n",
       "    </tr>\n",
       "  </thead>\n",
       "  <tbody>\n",
       "    <tr>\n",
       "      <th>country_name</th>\n",
       "      <td>71097</td>\n",
       "      <td>object</td>\n",
       "      <td>26</td>\n",
       "      <td>0.04%</td>\n",
       "      <td>0</td>\n",
       "      <td>0.0%</td>\n",
       "    </tr>\n",
       "    <tr>\n",
       "      <th>date</th>\n",
       "      <td>71097</td>\n",
       "      <td>object</td>\n",
       "      <td>168</td>\n",
       "      <td>0.24%</td>\n",
       "      <td>0</td>\n",
       "      <td>0.0%</td>\n",
       "    </tr>\n",
       "    <tr>\n",
       "      <th>parameter</th>\n",
       "      <td>71097</td>\n",
       "      <td>object</td>\n",
       "      <td>6</td>\n",
       "      <td>0.01%</td>\n",
       "      <td>0</td>\n",
       "      <td>0.0%</td>\n",
       "    </tr>\n",
       "    <tr>\n",
       "      <th>product</th>\n",
       "      <td>71097</td>\n",
       "      <td>object</td>\n",
       "      <td>15</td>\n",
       "      <td>0.02%</td>\n",
       "      <td>0</td>\n",
       "      <td>0.0%</td>\n",
       "    </tr>\n",
       "    <tr>\n",
       "      <th>value</th>\n",
       "      <td>71097</td>\n",
       "      <td>float64</td>\n",
       "      <td>61218</td>\n",
       "      <td>86.1%</td>\n",
       "      <td>0</td>\n",
       "      <td>0.0%</td>\n",
       "    </tr>\n",
       "    <tr>\n",
       "      <th>unit</th>\n",
       "      <td>71097</td>\n",
       "      <td>object</td>\n",
       "      <td>1</td>\n",
       "      <td>0.0%</td>\n",
       "      <td>0</td>\n",
       "      <td>0.0%</td>\n",
       "    </tr>\n",
       "  </tbody>\n",
       "</table>\n",
       "</div>"
      ],
      "text/plain": [
       "              non-Null_count    dtype  unique_values %_unique  missing_values  \\\n",
       "country_name           71097   object             26    0.04%               0   \n",
       "date                   71097   object            168    0.24%               0   \n",
       "parameter              71097   object              6    0.01%               0   \n",
       "product                71097   object             15    0.02%               0   \n",
       "value                  71097  float64          61218    86.1%               0   \n",
       "unit                   71097   object              1     0.0%               0   \n",
       "\n",
       "             %_missing  \n",
       "country_name      0.0%  \n",
       "date              0.0%  \n",
       "parameter         0.0%  \n",
       "product           0.0%  \n",
       "value             0.0%  \n",
       "unit              0.0%  "
      ]
     },
     "execution_count": 348,
     "metadata": {},
     "output_type": "execute_result"
    }
   ],
   "source": [
    "#check cleaned date\n",
    "unique_and_missing_values_dtype(df_cleaned)"
   ]
  },
  {
   "cell_type": "code",
   "execution_count": 349,
   "metadata": {},
   "outputs": [],
   "source": [
    "#make a copy (before year formatting)\n",
    "df_main = df_cleaned.copy()"
   ]
  },
  {
   "cell_type": "code",
   "execution_count": 350,
   "metadata": {},
   "outputs": [
    {
     "data": {
      "text/html": [
       "<div>\n",
       "<style scoped>\n",
       "    .dataframe tbody tr th:only-of-type {\n",
       "        vertical-align: middle;\n",
       "    }\n",
       "\n",
       "    .dataframe tbody tr th {\n",
       "        vertical-align: top;\n",
       "    }\n",
       "\n",
       "    .dataframe thead th {\n",
       "        text-align: right;\n",
       "    }\n",
       "</style>\n",
       "<table border=\"1\" class=\"dataframe\">\n",
       "  <thead>\n",
       "    <tr style=\"text-align: right;\">\n",
       "      <th></th>\n",
       "      <th>country_name</th>\n",
       "      <th>date</th>\n",
       "      <th>parameter</th>\n",
       "      <th>product</th>\n",
       "      <th>value</th>\n",
       "      <th>unit</th>\n",
       "      <th>year</th>\n",
       "    </tr>\n",
       "  </thead>\n",
       "  <tbody>\n",
       "    <tr>\n",
       "      <th>13</th>\n",
       "      <td>Austria</td>\n",
       "      <td>12/1/2023</td>\n",
       "      <td>Net Electricity Production</td>\n",
       "      <td>Electricity</td>\n",
       "      <td>6783.2730</td>\n",
       "      <td>GWh</td>\n",
       "      <td>2023</td>\n",
       "    </tr>\n",
       "    <tr>\n",
       "      <th>14</th>\n",
       "      <td>Austria</td>\n",
       "      <td>12/1/2023</td>\n",
       "      <td>Net Electricity Production</td>\n",
       "      <td>Total Combustible Fuels</td>\n",
       "      <td>1746.9034</td>\n",
       "      <td>GWh</td>\n",
       "      <td>2023</td>\n",
       "    </tr>\n",
       "    <tr>\n",
       "      <th>15</th>\n",
       "      <td>Austria</td>\n",
       "      <td>12/1/2023</td>\n",
       "      <td>Net Electricity Production</td>\n",
       "      <td>Coal, Peat and Manufactured Gases</td>\n",
       "      <td>167.3548</td>\n",
       "      <td>GWh</td>\n",
       "      <td>2023</td>\n",
       "    </tr>\n",
       "    <tr>\n",
       "      <th>16</th>\n",
       "      <td>Austria</td>\n",
       "      <td>12/1/2023</td>\n",
       "      <td>Net Electricity Production</td>\n",
       "      <td>Oil and Petroleum Products</td>\n",
       "      <td>73.8682</td>\n",
       "      <td>GWh</td>\n",
       "      <td>2023</td>\n",
       "    </tr>\n",
       "    <tr>\n",
       "      <th>17</th>\n",
       "      <td>Austria</td>\n",
       "      <td>12/1/2023</td>\n",
       "      <td>Net Electricity Production</td>\n",
       "      <td>Natural Gas</td>\n",
       "      <td>1035.0865</td>\n",
       "      <td>GWh</td>\n",
       "      <td>2023</td>\n",
       "    </tr>\n",
       "  </tbody>\n",
       "</table>\n",
       "</div>"
      ],
      "text/plain": [
       "   country_name       date                   parameter  \\\n",
       "13      Austria  12/1/2023  Net Electricity Production   \n",
       "14      Austria  12/1/2023  Net Electricity Production   \n",
       "15      Austria  12/1/2023  Net Electricity Production   \n",
       "16      Austria  12/1/2023  Net Electricity Production   \n",
       "17      Austria  12/1/2023  Net Electricity Production   \n",
       "\n",
       "                              product      value unit  year  \n",
       "13                        Electricity  6783.2730  GWh  2023  \n",
       "14            Total Combustible Fuels  1746.9034  GWh  2023  \n",
       "15  Coal, Peat and Manufactured Gases   167.3548  GWh  2023  \n",
       "16         Oil and Petroleum Products    73.8682  GWh  2023  \n",
       "17                        Natural Gas  1035.0865  GWh  2023  "
      ]
     },
     "execution_count": 350,
     "metadata": {},
     "output_type": "execute_result"
    }
   ],
   "source": [
    "#format year\n",
    "df_main[\"year\"] = df_main[\"date\"].apply(lambda x: int(x.split(\"/\")[2]))\n",
    "df_main.head()"
   ]
  },
  {
   "cell_type": "code",
   "execution_count": 351,
   "metadata": {},
   "outputs": [
    {
     "data": {
      "text/html": [
       "<div>\n",
       "<style scoped>\n",
       "    .dataframe tbody tr th:only-of-type {\n",
       "        vertical-align: middle;\n",
       "    }\n",
       "\n",
       "    .dataframe tbody tr th {\n",
       "        vertical-align: top;\n",
       "    }\n",
       "\n",
       "    .dataframe thead th {\n",
       "        text-align: right;\n",
       "    }\n",
       "</style>\n",
       "<table border=\"1\" class=\"dataframe\">\n",
       "  <thead>\n",
       "    <tr style=\"text-align: right;\">\n",
       "      <th></th>\n",
       "      <th>country_name</th>\n",
       "      <th>date</th>\n",
       "      <th>parameter</th>\n",
       "      <th>product</th>\n",
       "      <th>value</th>\n",
       "      <th>unit</th>\n",
       "      <th>year</th>\n",
       "    </tr>\n",
       "  </thead>\n",
       "  <tbody>\n",
       "    <tr>\n",
       "      <th>0</th>\n",
       "      <td>Austria</td>\n",
       "      <td>12/1/2023</td>\n",
       "      <td>Net Electricity Production</td>\n",
       "      <td>Electricity</td>\n",
       "      <td>6783.2730</td>\n",
       "      <td>GWh</td>\n",
       "      <td>2023</td>\n",
       "    </tr>\n",
       "    <tr>\n",
       "      <th>1</th>\n",
       "      <td>Austria</td>\n",
       "      <td>12/1/2023</td>\n",
       "      <td>Net Electricity Production</td>\n",
       "      <td>Total Combustible Fuels</td>\n",
       "      <td>1746.9034</td>\n",
       "      <td>GWh</td>\n",
       "      <td>2023</td>\n",
       "    </tr>\n",
       "    <tr>\n",
       "      <th>2</th>\n",
       "      <td>Austria</td>\n",
       "      <td>12/1/2023</td>\n",
       "      <td>Net Electricity Production</td>\n",
       "      <td>Coal, Peat and Manufactured Gases</td>\n",
       "      <td>167.3548</td>\n",
       "      <td>GWh</td>\n",
       "      <td>2023</td>\n",
       "    </tr>\n",
       "    <tr>\n",
       "      <th>3</th>\n",
       "      <td>Austria</td>\n",
       "      <td>12/1/2023</td>\n",
       "      <td>Net Electricity Production</td>\n",
       "      <td>Oil and Petroleum Products</td>\n",
       "      <td>73.8682</td>\n",
       "      <td>GWh</td>\n",
       "      <td>2023</td>\n",
       "    </tr>\n",
       "    <tr>\n",
       "      <th>4</th>\n",
       "      <td>Austria</td>\n",
       "      <td>12/1/2023</td>\n",
       "      <td>Net Electricity Production</td>\n",
       "      <td>Natural Gas</td>\n",
       "      <td>1035.0865</td>\n",
       "      <td>GWh</td>\n",
       "      <td>2023</td>\n",
       "    </tr>\n",
       "    <tr>\n",
       "      <th>...</th>\n",
       "      <td>...</td>\n",
       "      <td>...</td>\n",
       "      <td>...</td>\n",
       "      <td>...</td>\n",
       "      <td>...</td>\n",
       "      <td>...</td>\n",
       "      <td>...</td>\n",
       "    </tr>\n",
       "    <tr>\n",
       "      <th>71092</th>\n",
       "      <td>Sweden</td>\n",
       "      <td>1/1/2010</td>\n",
       "      <td>Total Imports</td>\n",
       "      <td>Electricity</td>\n",
       "      <td>1806.0000</td>\n",
       "      <td>GWh</td>\n",
       "      <td>2010</td>\n",
       "    </tr>\n",
       "    <tr>\n",
       "      <th>71093</th>\n",
       "      <td>Sweden</td>\n",
       "      <td>1/1/2010</td>\n",
       "      <td>Total Exports</td>\n",
       "      <td>Electricity</td>\n",
       "      <td>266.6560</td>\n",
       "      <td>GWh</td>\n",
       "      <td>2010</td>\n",
       "    </tr>\n",
       "    <tr>\n",
       "      <th>71094</th>\n",
       "      <td>Sweden</td>\n",
       "      <td>1/1/2010</td>\n",
       "      <td>Used for pumped storage</td>\n",
       "      <td>Electricity</td>\n",
       "      <td>16.1090</td>\n",
       "      <td>GWh</td>\n",
       "      <td>2010</td>\n",
       "    </tr>\n",
       "    <tr>\n",
       "      <th>71095</th>\n",
       "      <td>Sweden</td>\n",
       "      <td>1/1/2010</td>\n",
       "      <td>Distribution Losses</td>\n",
       "      <td>Electricity</td>\n",
       "      <td>1091.0110</td>\n",
       "      <td>GWh</td>\n",
       "      <td>2010</td>\n",
       "    </tr>\n",
       "    <tr>\n",
       "      <th>71096</th>\n",
       "      <td>Sweden</td>\n",
       "      <td>1/1/2010</td>\n",
       "      <td>Final Consumption (Calculated)</td>\n",
       "      <td>Electricity</td>\n",
       "      <td>15170.7810</td>\n",
       "      <td>GWh</td>\n",
       "      <td>2010</td>\n",
       "    </tr>\n",
       "  </tbody>\n",
       "</table>\n",
       "<p>71097 rows × 7 columns</p>\n",
       "</div>"
      ],
      "text/plain": [
       "      country_name       date                       parameter  \\\n",
       "0          Austria  12/1/2023      Net Electricity Production   \n",
       "1          Austria  12/1/2023      Net Electricity Production   \n",
       "2          Austria  12/1/2023      Net Electricity Production   \n",
       "3          Austria  12/1/2023      Net Electricity Production   \n",
       "4          Austria  12/1/2023      Net Electricity Production   \n",
       "...            ...        ...                             ...   \n",
       "71092       Sweden   1/1/2010                   Total Imports   \n",
       "71093       Sweden   1/1/2010                   Total Exports   \n",
       "71094       Sweden   1/1/2010         Used for pumped storage   \n",
       "71095       Sweden   1/1/2010             Distribution Losses   \n",
       "71096       Sweden   1/1/2010  Final Consumption (Calculated)   \n",
       "\n",
       "                                 product       value unit  year  \n",
       "0                            Electricity   6783.2730  GWh  2023  \n",
       "1                Total Combustible Fuels   1746.9034  GWh  2023  \n",
       "2      Coal, Peat and Manufactured Gases    167.3548  GWh  2023  \n",
       "3             Oil and Petroleum Products     73.8682  GWh  2023  \n",
       "4                            Natural Gas   1035.0865  GWh  2023  \n",
       "...                                  ...         ...  ...   ...  \n",
       "71092                        Electricity   1806.0000  GWh  2010  \n",
       "71093                        Electricity    266.6560  GWh  2010  \n",
       "71094                        Electricity     16.1090  GWh  2010  \n",
       "71095                        Electricity   1091.0110  GWh  2010  \n",
       "71096                        Electricity  15170.7810  GWh  2010  \n",
       "\n",
       "[71097 rows x 7 columns]"
      ]
     },
     "execution_count": 351,
     "metadata": {},
     "output_type": "execute_result"
    }
   ],
   "source": [
    "df_main = df_main.reset_index(drop=True)\n",
    "df_main"
   ]
  },
  {
   "cell_type": "code",
   "execution_count": 352,
   "metadata": {},
   "outputs": [],
   "source": [
    "#df_main = df_main.drop(columns=['index'])\n"
   ]
  },
  {
   "cell_type": "code",
   "execution_count": 353,
   "metadata": {},
   "outputs": [
    {
     "data": {
      "text/html": [
       "<div>\n",
       "<style scoped>\n",
       "    .dataframe tbody tr th:only-of-type {\n",
       "        vertical-align: middle;\n",
       "    }\n",
       "\n",
       "    .dataframe tbody tr th {\n",
       "        vertical-align: top;\n",
       "    }\n",
       "\n",
       "    .dataframe thead th {\n",
       "        text-align: right;\n",
       "    }\n",
       "</style>\n",
       "<table border=\"1\" class=\"dataframe\">\n",
       "  <thead>\n",
       "    <tr style=\"text-align: right;\">\n",
       "      <th></th>\n",
       "      <th>country_name</th>\n",
       "      <th>date</th>\n",
       "      <th>parameter</th>\n",
       "      <th>product</th>\n",
       "      <th>value</th>\n",
       "      <th>unit</th>\n",
       "      <th>year</th>\n",
       "    </tr>\n",
       "  </thead>\n",
       "  <tbody>\n",
       "    <tr>\n",
       "      <th>0</th>\n",
       "      <td>Austria</td>\n",
       "      <td>12/1/2023</td>\n",
       "      <td>Net Electricity Production</td>\n",
       "      <td>Electricity</td>\n",
       "      <td>6783.2730</td>\n",
       "      <td>GWh</td>\n",
       "      <td>2023</td>\n",
       "    </tr>\n",
       "    <tr>\n",
       "      <th>1</th>\n",
       "      <td>Austria</td>\n",
       "      <td>12/1/2023</td>\n",
       "      <td>Net Electricity Production</td>\n",
       "      <td>Total Combustible Fuels</td>\n",
       "      <td>1746.9034</td>\n",
       "      <td>GWh</td>\n",
       "      <td>2023</td>\n",
       "    </tr>\n",
       "    <tr>\n",
       "      <th>2</th>\n",
       "      <td>Austria</td>\n",
       "      <td>12/1/2023</td>\n",
       "      <td>Net Electricity Production</td>\n",
       "      <td>Coal, Peat and Manufactured Gases</td>\n",
       "      <td>167.3548</td>\n",
       "      <td>GWh</td>\n",
       "      <td>2023</td>\n",
       "    </tr>\n",
       "    <tr>\n",
       "      <th>3</th>\n",
       "      <td>Austria</td>\n",
       "      <td>12/1/2023</td>\n",
       "      <td>Net Electricity Production</td>\n",
       "      <td>Oil and Petroleum Products</td>\n",
       "      <td>73.8682</td>\n",
       "      <td>GWh</td>\n",
       "      <td>2023</td>\n",
       "    </tr>\n",
       "    <tr>\n",
       "      <th>4</th>\n",
       "      <td>Austria</td>\n",
       "      <td>12/1/2023</td>\n",
       "      <td>Net Electricity Production</td>\n",
       "      <td>Natural Gas</td>\n",
       "      <td>1035.0865</td>\n",
       "      <td>GWh</td>\n",
       "      <td>2023</td>\n",
       "    </tr>\n",
       "  </tbody>\n",
       "</table>\n",
       "</div>"
      ],
      "text/plain": [
       "  country_name       date                   parameter  \\\n",
       "0      Austria  12/1/2023  Net Electricity Production   \n",
       "1      Austria  12/1/2023  Net Electricity Production   \n",
       "2      Austria  12/1/2023  Net Electricity Production   \n",
       "3      Austria  12/1/2023  Net Electricity Production   \n",
       "4      Austria  12/1/2023  Net Electricity Production   \n",
       "\n",
       "                             product      value unit  year  \n",
       "0                        Electricity  6783.2730  GWh  2023  \n",
       "1            Total Combustible Fuels  1746.9034  GWh  2023  \n",
       "2  Coal, Peat and Manufactured Gases   167.3548  GWh  2023  \n",
       "3         Oil and Petroleum Products    73.8682  GWh  2023  \n",
       "4                        Natural Gas  1035.0865  GWh  2023  "
      ]
     },
     "execution_count": 353,
     "metadata": {},
     "output_type": "execute_result"
    }
   ],
   "source": [
    "df_main.head()"
   ]
  },
  {
   "cell_type": "code",
   "execution_count": 354,
   "metadata": {},
   "outputs": [],
   "source": [
    "df_main['value'] = df_main['value'].round()"
   ]
  },
  {
   "cell_type": "code",
   "execution_count": 355,
   "metadata": {},
   "outputs": [
    {
     "data": {
      "text/html": [
       "<div>\n",
       "<style scoped>\n",
       "    .dataframe tbody tr th:only-of-type {\n",
       "        vertical-align: middle;\n",
       "    }\n",
       "\n",
       "    .dataframe tbody tr th {\n",
       "        vertical-align: top;\n",
       "    }\n",
       "\n",
       "    .dataframe thead th {\n",
       "        text-align: right;\n",
       "    }\n",
       "</style>\n",
       "<table border=\"1\" class=\"dataframe\">\n",
       "  <thead>\n",
       "    <tr style=\"text-align: right;\">\n",
       "      <th></th>\n",
       "      <th>country_name</th>\n",
       "      <th>date</th>\n",
       "      <th>parameter</th>\n",
       "      <th>product</th>\n",
       "      <th>value</th>\n",
       "      <th>unit</th>\n",
       "      <th>year</th>\n",
       "    </tr>\n",
       "  </thead>\n",
       "  <tbody>\n",
       "    <tr>\n",
       "      <th>0</th>\n",
       "      <td>Austria</td>\n",
       "      <td>12/1/2023</td>\n",
       "      <td>Net Electricity Production</td>\n",
       "      <td>Electricity</td>\n",
       "      <td>6783.0</td>\n",
       "      <td>GWh</td>\n",
       "      <td>2023</td>\n",
       "    </tr>\n",
       "    <tr>\n",
       "      <th>1</th>\n",
       "      <td>Austria</td>\n",
       "      <td>12/1/2023</td>\n",
       "      <td>Net Electricity Production</td>\n",
       "      <td>Total Combustible Fuels</td>\n",
       "      <td>1747.0</td>\n",
       "      <td>GWh</td>\n",
       "      <td>2023</td>\n",
       "    </tr>\n",
       "    <tr>\n",
       "      <th>2</th>\n",
       "      <td>Austria</td>\n",
       "      <td>12/1/2023</td>\n",
       "      <td>Net Electricity Production</td>\n",
       "      <td>Coal, Peat and Manufactured Gases</td>\n",
       "      <td>167.0</td>\n",
       "      <td>GWh</td>\n",
       "      <td>2023</td>\n",
       "    </tr>\n",
       "    <tr>\n",
       "      <th>3</th>\n",
       "      <td>Austria</td>\n",
       "      <td>12/1/2023</td>\n",
       "      <td>Net Electricity Production</td>\n",
       "      <td>Oil and Petroleum Products</td>\n",
       "      <td>74.0</td>\n",
       "      <td>GWh</td>\n",
       "      <td>2023</td>\n",
       "    </tr>\n",
       "    <tr>\n",
       "      <th>4</th>\n",
       "      <td>Austria</td>\n",
       "      <td>12/1/2023</td>\n",
       "      <td>Net Electricity Production</td>\n",
       "      <td>Natural Gas</td>\n",
       "      <td>1035.0</td>\n",
       "      <td>GWh</td>\n",
       "      <td>2023</td>\n",
       "    </tr>\n",
       "  </tbody>\n",
       "</table>\n",
       "</div>"
      ],
      "text/plain": [
       "  country_name       date                   parameter  \\\n",
       "0      Austria  12/1/2023  Net Electricity Production   \n",
       "1      Austria  12/1/2023  Net Electricity Production   \n",
       "2      Austria  12/1/2023  Net Electricity Production   \n",
       "3      Austria  12/1/2023  Net Electricity Production   \n",
       "4      Austria  12/1/2023  Net Electricity Production   \n",
       "\n",
       "                             product   value unit  year  \n",
       "0                        Electricity  6783.0  GWh  2023  \n",
       "1            Total Combustible Fuels  1747.0  GWh  2023  \n",
       "2  Coal, Peat and Manufactured Gases   167.0  GWh  2023  \n",
       "3         Oil and Petroleum Products    74.0  GWh  2023  \n",
       "4                        Natural Gas  1035.0  GWh  2023  "
      ]
     },
     "execution_count": 355,
     "metadata": {},
     "output_type": "execute_result"
    }
   ],
   "source": [
    "df_main.head()"
   ]
  },
  {
   "cell_type": "code",
   "execution_count": 356,
   "metadata": {},
   "outputs": [
    {
     "data": {
      "text/html": [
       "<div>\n",
       "<style scoped>\n",
       "    .dataframe tbody tr th:only-of-type {\n",
       "        vertical-align: middle;\n",
       "    }\n",
       "\n",
       "    .dataframe tbody tr th {\n",
       "        vertical-align: top;\n",
       "    }\n",
       "\n",
       "    .dataframe thead th {\n",
       "        text-align: right;\n",
       "    }\n",
       "</style>\n",
       "<table border=\"1\" class=\"dataframe\">\n",
       "  <thead>\n",
       "    <tr style=\"text-align: right;\">\n",
       "      <th></th>\n",
       "      <th>country_name</th>\n",
       "      <th>date</th>\n",
       "      <th>parameter</th>\n",
       "      <th>product</th>\n",
       "      <th>value</th>\n",
       "      <th>unit</th>\n",
       "      <th>year</th>\n",
       "    </tr>\n",
       "  </thead>\n",
       "  <tbody>\n",
       "    <tr>\n",
       "      <th>0</th>\n",
       "      <td>Austria</td>\n",
       "      <td>12/1/2023</td>\n",
       "      <td>Net Electricity Production</td>\n",
       "      <td>Electricity</td>\n",
       "      <td>6783</td>\n",
       "      <td>GWh</td>\n",
       "      <td>2023</td>\n",
       "    </tr>\n",
       "    <tr>\n",
       "      <th>1</th>\n",
       "      <td>Austria</td>\n",
       "      <td>12/1/2023</td>\n",
       "      <td>Net Electricity Production</td>\n",
       "      <td>Total Combustible Fuels</td>\n",
       "      <td>1747</td>\n",
       "      <td>GWh</td>\n",
       "      <td>2023</td>\n",
       "    </tr>\n",
       "    <tr>\n",
       "      <th>2</th>\n",
       "      <td>Austria</td>\n",
       "      <td>12/1/2023</td>\n",
       "      <td>Net Electricity Production</td>\n",
       "      <td>Coal, Peat and Manufactured Gases</td>\n",
       "      <td>167</td>\n",
       "      <td>GWh</td>\n",
       "      <td>2023</td>\n",
       "    </tr>\n",
       "    <tr>\n",
       "      <th>3</th>\n",
       "      <td>Austria</td>\n",
       "      <td>12/1/2023</td>\n",
       "      <td>Net Electricity Production</td>\n",
       "      <td>Oil and Petroleum Products</td>\n",
       "      <td>74</td>\n",
       "      <td>GWh</td>\n",
       "      <td>2023</td>\n",
       "    </tr>\n",
       "    <tr>\n",
       "      <th>4</th>\n",
       "      <td>Austria</td>\n",
       "      <td>12/1/2023</td>\n",
       "      <td>Net Electricity Production</td>\n",
       "      <td>Natural Gas</td>\n",
       "      <td>1035</td>\n",
       "      <td>GWh</td>\n",
       "      <td>2023</td>\n",
       "    </tr>\n",
       "  </tbody>\n",
       "</table>\n",
       "</div>"
      ],
      "text/plain": [
       "  country_name       date                   parameter  \\\n",
       "0      Austria  12/1/2023  Net Electricity Production   \n",
       "1      Austria  12/1/2023  Net Electricity Production   \n",
       "2      Austria  12/1/2023  Net Electricity Production   \n",
       "3      Austria  12/1/2023  Net Electricity Production   \n",
       "4      Austria  12/1/2023  Net Electricity Production   \n",
       "\n",
       "                             product  value unit  year  \n",
       "0                        Electricity   6783  GWh  2023  \n",
       "1            Total Combustible Fuels   1747  GWh  2023  \n",
       "2  Coal, Peat and Manufactured Gases    167  GWh  2023  \n",
       "3         Oil and Petroleum Products     74  GWh  2023  \n",
       "4                        Natural Gas   1035  GWh  2023  "
      ]
     },
     "execution_count": 356,
     "metadata": {},
     "output_type": "execute_result"
    }
   ],
   "source": [
    "df_main['value'] = df_main['value'].astype(int)\n",
    "df_main.head()"
   ]
  },
  {
   "cell_type": "markdown",
   "metadata": {},
   "source": [
    "# This is where my code start"
   ]
  },
  {
   "cell_type": "code",
   "execution_count": 357,
   "metadata": {},
   "outputs": [
    {
     "data": {
      "text/plain": [
       "product\n",
       "Electricity                                          21957\n",
       "Total Combustible Fuels                               4128\n",
       "Total Renewables (Hydro, Geo, Solar, Wind, Other)     4128\n",
       "Combustible Renewables                                4109\n",
       "Natural Gas                                           4043\n",
       "Wind                                                  4036\n",
       "Solar                                                 4032\n",
       "Oil and Petroleum Products                            4019\n",
       "Hydro                                                 4010\n",
       "Coal, Peat and Manufactured Gases                     3743\n",
       "Other Combustible Non-Renewables                      3732\n",
       "Not Specified                                         2946\n",
       "Nuclear                                               2737\n",
       "Geothermal                                            2085\n",
       "Other Renewables                                      1392\n",
       "Name: count, dtype: int64"
      ]
     },
     "execution_count": 357,
     "metadata": {},
     "output_type": "execute_result"
    }
   ],
   "source": [
    "df_main[\"product\"].value_counts()"
   ]
  },
  {
   "cell_type": "code",
   "execution_count": 358,
   "metadata": {},
   "outputs": [
    {
     "data": {
      "text/plain": [
       "array(['Austria', 'Belgium', 'Czech Republic', 'Denmark', 'Estonia',\n",
       "       'Finland', 'France', 'Germany', 'Greece', 'Hungary', 'Ireland',\n",
       "       'Italy', 'Latvia', 'Lithuania', 'Luxembourg', 'Netherlands',\n",
       "       'Poland', 'Portugal', 'Slovak Republic', 'Slovenia', 'Spain',\n",
       "       'Sweden', 'Bulgaria', 'Croatia', 'Cyprus', 'Malta'], dtype=object)"
      ]
     },
     "execution_count": 358,
     "metadata": {},
     "output_type": "execute_result"
    }
   ],
   "source": [
    "df_main[\"country_name\"].unique()"
   ]
  },
  {
   "cell_type": "markdown",
   "metadata": {},
   "source": [
    "## Hypothesis 3"
   ]
  },
  {
   "cell_type": "markdown",
   "metadata": {},
   "source": [
    "### 3.1. Data Collection, Wranging, and Cleaning\n",
    "\n",
    "We need three dataframes to prove Hypothesis 3 which consist of:\n",
    "- dataframe of renewable energy production of the EU countries for the past 10 years.\n",
    "- dataframe of R&D budget of the EU countries for the past 10 years.\n",
    "- dataframe of EU population.\n",
    "\n",
    "For the first dataframe, we need to filter our main dataframe to show only products with renewable energy. In this case, we focus only on \"Total Renewables (Hydro, Geo, Solar, Wind, Other)\" and \"Other Renewable\". Furthermore, we will only use the data from country who has R&D budget. After that, we take the data from 2013 to 2023 and group them by \"country_name\" and \"value\".\n",
    "\n",
    "For the second dataframe, we notice that there are countries who don't have enough data on the R&D budget. Therefore, we decide to drop the country who has five or more missing values. For countries with missing value of less than five, we will fill the missing values with the value of previous year. \n",
    "We would then convert the wide format dataframe into a long format for the visualization.\n",
    "\n",
    "For the last dataframe, we want to focus only on \"geo\" column, which has each country code, and \"population\" column. We will then add a new column of \"country_name\" to show the country's full name by using .map() method. \n",
    "\n",
    "After all three dataframes are clean, we will create two new dataframes to show the renewable energy production per capita and R&D budget per capita by dividing the renewable energy production and R&D budget with the population, respectively.\n",
    "\n",
    "### 3.2. Visualization\n",
    "\n",
    "We decide to use scatter plot to show the correlation between renewable energy production and R&D budget per capita. First, we need to merge two dataframes of renewable energy and R&D budget per capita. Subsequently, we find the correlation coefficient (r) for our trendline. We use pyplot express to visualize the correlation. \n",
    "\n",
    "The r value is 0.61 which indicates strong positive correlation. It proves our hypothesis that when a country invests more in R&D in renewable energy technoloties, the renewable energy production growth will also be faster. Innovation in technology can lead to more efficient and cost-effective renewable energy solutions.\n"
   ]
  },
  {
   "cell_type": "code",
   "execution_count": 359,
   "metadata": {},
   "outputs": [
    {
     "data": {
      "text/plain": [
       "country_name  date       parameter                   product                                            value  unit  year\n",
       "Austria       1/1/2013   Net Electricity Production  Total Renewables (Hydro, Geo, Solar, Wind, Other)  4205   GWh   2013    1\n",
       "Luxembourg    12/1/2013  Net Electricity Production  Total Renewables (Hydro, Geo, Solar, Wind, Other)  123    GWh   2013    1\n",
       "              2/1/2014   Net Electricity Production  Total Renewables (Hydro, Geo, Solar, Wind, Other)  132    GWh   2014    1\n",
       "              2/1/2013   Net Electricity Production  Total Renewables (Hydro, Geo, Solar, Wind, Other)  108    GWh   2013    1\n",
       "              12/1/2023  Net Electricity Production  Total Renewables (Hydro, Geo, Solar, Wind, Other)  211    GWh   2023    1\n",
       "                                                                                                                            ..\n",
       "France        1/1/2020   Net Electricity Production  Other Renewables                                   40     GWh   2020    1\n",
       "              1/1/2019   Net Electricity Production  Total Renewables (Hydro, Geo, Solar, Wind, Other)  9326   GWh   2019    1\n",
       "                                                     Other Renewables                                   39     GWh   2019    1\n",
       "              1/1/2018   Net Electricity Production  Total Renewables (Hydro, Geo, Solar, Wind, Other)  12809  GWh   2018    1\n",
       "Sweden        9/1/2023   Net Electricity Production  Total Renewables (Hydro, Geo, Solar, Wind, Other)  8029   GWh   2023    1\n",
       "Name: count, Length: 4692, dtype: int64"
      ]
     },
     "execution_count": 359,
     "metadata": {},
     "output_type": "execute_result"
    }
   ],
   "source": [
    "# create a dataframe for renewables only\n",
    "\n",
    "renewable_products = [\"Total Renewables (Hydro, Geo, Solar, Wind, Other)\", \"Other Renewables\"]\n",
    "\n",
    "filtered_df = df_main[df_main[\"product\"].isin(renewable_products)].reset_index(drop=True)\n",
    "\n",
    "# change year into integer and filter the year into past 10 years\n",
    "\n",
    "filtered_df[\"year\"].astype(int)\n",
    "filtered_df = filtered_df[(filtered_df[\"year\"] > 2012) & (filtered_df[\"year\"] < 2024)]\n",
    "filtered_df[\"value\"] = filtered_df[\"value\"].round(0).astype(int)\n",
    "\n",
    "filtered_df.value_counts()\n"
   ]
  },
  {
   "cell_type": "code",
   "execution_count": 360,
   "metadata": {},
   "outputs": [
    {
     "data": {
      "text/html": [
       "<div>\n",
       "<style scoped>\n",
       "    .dataframe tbody tr th:only-of-type {\n",
       "        vertical-align: middle;\n",
       "    }\n",
       "\n",
       "    .dataframe tbody tr th {\n",
       "        vertical-align: top;\n",
       "    }\n",
       "\n",
       "    .dataframe thead th {\n",
       "        text-align: right;\n",
       "    }\n",
       "</style>\n",
       "<table border=\"1\" class=\"dataframe\">\n",
       "  <thead>\n",
       "    <tr style=\"text-align: right;\">\n",
       "      <th></th>\n",
       "      <th>country_name</th>\n",
       "      <th>year</th>\n",
       "      <th>value_(GWh)</th>\n",
       "    </tr>\n",
       "  </thead>\n",
       "  <tbody>\n",
       "    <tr>\n",
       "      <th>0</th>\n",
       "      <td>Austria</td>\n",
       "      <td>2013</td>\n",
       "      <td>51827</td>\n",
       "    </tr>\n",
       "    <tr>\n",
       "      <th>1</th>\n",
       "      <td>Austria</td>\n",
       "      <td>2014</td>\n",
       "      <td>51369</td>\n",
       "    </tr>\n",
       "    <tr>\n",
       "      <th>2</th>\n",
       "      <td>Austria</td>\n",
       "      <td>2015</td>\n",
       "      <td>48406</td>\n",
       "    </tr>\n",
       "    <tr>\n",
       "      <th>3</th>\n",
       "      <td>Austria</td>\n",
       "      <td>2016</td>\n",
       "      <td>51467</td>\n",
       "    </tr>\n",
       "    <tr>\n",
       "      <th>4</th>\n",
       "      <td>Austria</td>\n",
       "      <td>2017</td>\n",
       "      <td>52450</td>\n",
       "    </tr>\n",
       "    <tr>\n",
       "      <th>...</th>\n",
       "      <td>...</td>\n",
       "      <td>...</td>\n",
       "      <td>...</td>\n",
       "    </tr>\n",
       "    <tr>\n",
       "      <th>273</th>\n",
       "      <td>Sweden</td>\n",
       "      <td>2019</td>\n",
       "      <td>98073</td>\n",
       "    </tr>\n",
       "    <tr>\n",
       "      <th>274</th>\n",
       "      <td>Sweden</td>\n",
       "      <td>2020</td>\n",
       "      <td>111297</td>\n",
       "    </tr>\n",
       "    <tr>\n",
       "      <th>275</th>\n",
       "      <td>Sweden</td>\n",
       "      <td>2021</td>\n",
       "      <td>114682</td>\n",
       "    </tr>\n",
       "    <tr>\n",
       "      <th>276</th>\n",
       "      <td>Sweden</td>\n",
       "      <td>2022</td>\n",
       "      <td>120078</td>\n",
       "    </tr>\n",
       "    <tr>\n",
       "      <th>277</th>\n",
       "      <td>Sweden</td>\n",
       "      <td>2023</td>\n",
       "      <td>112174</td>\n",
       "    </tr>\n",
       "  </tbody>\n",
       "</table>\n",
       "<p>278 rows × 3 columns</p>\n",
       "</div>"
      ],
      "text/plain": [
       "    country_name  year  value_(GWh)\n",
       "0        Austria  2013        51827\n",
       "1        Austria  2014        51369\n",
       "2        Austria  2015        48406\n",
       "3        Austria  2016        51467\n",
       "4        Austria  2017        52450\n",
       "..           ...   ...          ...\n",
       "273       Sweden  2019        98073\n",
       "274       Sweden  2020       111297\n",
       "275       Sweden  2021       114682\n",
       "276       Sweden  2022       120078\n",
       "277       Sweden  2023       112174\n",
       "\n",
       "[278 rows x 3 columns]"
      ]
     },
     "execution_count": 360,
     "metadata": {},
     "output_type": "execute_result"
    }
   ],
   "source": [
    "# group the dataframe based on country_name and year\n",
    "\n",
    "grouped_df = filtered_df.groupby([\"country_name\", \"year\"])[\"value\"].sum().reset_index()\n",
    "\n",
    "# rename value to include its unit\n",
    "grouped_df = grouped_df.rename(columns={\"value\":\"value_(GWh)\"})\n",
    "\n",
    "grouped_df"
   ]
  },
  {
   "cell_type": "code",
   "execution_count": 361,
   "metadata": {},
   "outputs": [
    {
     "data": {
      "text/html": [
       "<div>\n",
       "<style scoped>\n",
       "    .dataframe tbody tr th:only-of-type {\n",
       "        vertical-align: middle;\n",
       "    }\n",
       "\n",
       "    .dataframe tbody tr th {\n",
       "        vertical-align: top;\n",
       "    }\n",
       "\n",
       "    .dataframe thead th {\n",
       "        text-align: right;\n",
       "    }\n",
       "</style>\n",
       "<table border=\"1\" class=\"dataframe\">\n",
       "  <thead>\n",
       "    <tr style=\"text-align: right;\">\n",
       "      <th></th>\n",
       "      <th>country_name</th>\n",
       "      <th>year</th>\n",
       "      <th>value_(GWh)</th>\n",
       "    </tr>\n",
       "  </thead>\n",
       "  <tbody>\n",
       "    <tr>\n",
       "      <th>0</th>\n",
       "      <td>Austria</td>\n",
       "      <td>2013</td>\n",
       "      <td>51827</td>\n",
       "    </tr>\n",
       "    <tr>\n",
       "      <th>1</th>\n",
       "      <td>Austria</td>\n",
       "      <td>2014</td>\n",
       "      <td>51369</td>\n",
       "    </tr>\n",
       "    <tr>\n",
       "      <th>2</th>\n",
       "      <td>Austria</td>\n",
       "      <td>2015</td>\n",
       "      <td>48406</td>\n",
       "    </tr>\n",
       "    <tr>\n",
       "      <th>3</th>\n",
       "      <td>Austria</td>\n",
       "      <td>2016</td>\n",
       "      <td>51467</td>\n",
       "    </tr>\n",
       "    <tr>\n",
       "      <th>4</th>\n",
       "      <td>Austria</td>\n",
       "      <td>2017</td>\n",
       "      <td>52450</td>\n",
       "    </tr>\n",
       "    <tr>\n",
       "      <th>...</th>\n",
       "      <td>...</td>\n",
       "      <td>...</td>\n",
       "      <td>...</td>\n",
       "    </tr>\n",
       "    <tr>\n",
       "      <th>182</th>\n",
       "      <td>Sweden</td>\n",
       "      <td>2019</td>\n",
       "      <td>98073</td>\n",
       "    </tr>\n",
       "    <tr>\n",
       "      <th>183</th>\n",
       "      <td>Sweden</td>\n",
       "      <td>2020</td>\n",
       "      <td>111297</td>\n",
       "    </tr>\n",
       "    <tr>\n",
       "      <th>184</th>\n",
       "      <td>Sweden</td>\n",
       "      <td>2021</td>\n",
       "      <td>114682</td>\n",
       "    </tr>\n",
       "    <tr>\n",
       "      <th>185</th>\n",
       "      <td>Sweden</td>\n",
       "      <td>2022</td>\n",
       "      <td>120078</td>\n",
       "    </tr>\n",
       "    <tr>\n",
       "      <th>186</th>\n",
       "      <td>Sweden</td>\n",
       "      <td>2023</td>\n",
       "      <td>112174</td>\n",
       "    </tr>\n",
       "  </tbody>\n",
       "</table>\n",
       "<p>187 rows × 3 columns</p>\n",
       "</div>"
      ],
      "text/plain": [
       "    country_name  year  value_(GWh)\n",
       "0        Austria  2013        51827\n",
       "1        Austria  2014        51369\n",
       "2        Austria  2015        48406\n",
       "3        Austria  2016        51467\n",
       "4        Austria  2017        52450\n",
       "..           ...   ...          ...\n",
       "182       Sweden  2019        98073\n",
       "183       Sweden  2020       111297\n",
       "184       Sweden  2021       114682\n",
       "185       Sweden  2022       120078\n",
       "186       Sweden  2023       112174\n",
       "\n",
       "[187 rows x 3 columns]"
      ]
     },
     "execution_count": 361,
     "metadata": {},
     "output_type": "execute_result"
    }
   ],
   "source": [
    "# filter the countries in the renewable energy production (grouped_df) with countries who have RnD budget\n",
    "\n",
    "countries_with_RnD_budget = ['Austria', 'Belgium', 'Czech Republic', 'Denmark', 'Estonia', 'Finland', 'France', 'Germany', 'Hungary', 'Ireland', 'Italy', 'Netherlands', 'Poland', 'Portugal', 'Slovak Republic', 'Spain', 'Sweden']\n",
    "\n",
    "RE_production_df = grouped_df[grouped_df[\"country_name\"].isin(countries_with_RnD_budget)].reset_index(drop=True).round(0)\n",
    "\n",
    "RE_production_df\n"
   ]
  },
  {
   "cell_type": "code",
   "execution_count": 362,
   "metadata": {},
   "outputs": [
    {
     "data": {
      "text/html": [
       "<div>\n",
       "<style scoped>\n",
       "    .dataframe tbody tr th:only-of-type {\n",
       "        vertical-align: middle;\n",
       "    }\n",
       "\n",
       "    .dataframe tbody tr th {\n",
       "        vertical-align: top;\n",
       "    }\n",
       "\n",
       "    .dataframe thead th {\n",
       "        text-align: right;\n",
       "    }\n",
       "</style>\n",
       "<table border=\"1\" class=\"dataframe\">\n",
       "  <thead>\n",
       "    <tr style=\"text-align: right;\">\n",
       "      <th></th>\n",
       "      <th>Country</th>\n",
       "      <th>2013</th>\n",
       "      <th>2014</th>\n",
       "      <th>2015</th>\n",
       "      <th>2016</th>\n",
       "      <th>2017</th>\n",
       "      <th>2018</th>\n",
       "      <th>2019</th>\n",
       "      <th>2020</th>\n",
       "      <th>2021</th>\n",
       "      <th>2022</th>\n",
       "      <th>2023</th>\n",
       "    </tr>\n",
       "  </thead>\n",
       "  <tbody>\n",
       "    <tr>\n",
       "      <th>0</th>\n",
       "      <td>Austria</td>\n",
       "      <td>73.902</td>\n",
       "      <td>80.348</td>\n",
       "      <td>72.471</td>\n",
       "      <td>82.885</td>\n",
       "      <td>81.356</td>\n",
       "      <td>81.180</td>\n",
       "      <td>89.551</td>\n",
       "      <td>89.412</td>\n",
       "      <td>109.359</td>\n",
       "      <td>116.630</td>\n",
       "      <td>NaN</td>\n",
       "    </tr>\n",
       "    <tr>\n",
       "      <th>1</th>\n",
       "      <td>Belgium</td>\n",
       "      <td>64.807</td>\n",
       "      <td>64.460</td>\n",
       "      <td>65.908</td>\n",
       "      <td>53.456</td>\n",
       "      <td>51.910</td>\n",
       "      <td>66.544</td>\n",
       "      <td>78.975</td>\n",
       "      <td>143.928</td>\n",
       "      <td>33.309</td>\n",
       "      <td>122.916</td>\n",
       "      <td>89.398</td>\n",
       "    </tr>\n",
       "    <tr>\n",
       "      <th>2</th>\n",
       "      <td>Czech Republic</td>\n",
       "      <td>3.439</td>\n",
       "      <td>2.457</td>\n",
       "      <td>5.935</td>\n",
       "      <td>6.320</td>\n",
       "      <td>10.789</td>\n",
       "      <td>12.823</td>\n",
       "      <td>18.529</td>\n",
       "      <td>15.623</td>\n",
       "      <td>35.385</td>\n",
       "      <td>29.572</td>\n",
       "      <td>20.456</td>\n",
       "    </tr>\n",
       "    <tr>\n",
       "      <th>3</th>\n",
       "      <td>Denmark</td>\n",
       "      <td>40.110</td>\n",
       "      <td>50.959</td>\n",
       "      <td>33.143</td>\n",
       "      <td>22.580</td>\n",
       "      <td>21.746</td>\n",
       "      <td>13.389</td>\n",
       "      <td>27.598</td>\n",
       "      <td>37.107</td>\n",
       "      <td>23.055</td>\n",
       "      <td>16.514</td>\n",
       "      <td>22.959</td>\n",
       "    </tr>\n",
       "    <tr>\n",
       "      <th>4</th>\n",
       "      <td>Estonia</td>\n",
       "      <td>2.473</td>\n",
       "      <td>0.763</td>\n",
       "      <td>3.419</td>\n",
       "      <td>1.820</td>\n",
       "      <td>3.887</td>\n",
       "      <td>2.603</td>\n",
       "      <td>1.431</td>\n",
       "      <td>1.162</td>\n",
       "      <td>0.197</td>\n",
       "      <td>2.894</td>\n",
       "      <td>0.114</td>\n",
       "    </tr>\n",
       "    <tr>\n",
       "      <th>5</th>\n",
       "      <td>Finland</td>\n",
       "      <td>144.673</td>\n",
       "      <td>162.318</td>\n",
       "      <td>164.798</td>\n",
       "      <td>125.972</td>\n",
       "      <td>127.756</td>\n",
       "      <td>112.648</td>\n",
       "      <td>105.542</td>\n",
       "      <td>85.764</td>\n",
       "      <td>84.000</td>\n",
       "      <td>94.635</td>\n",
       "      <td>NaN</td>\n",
       "    </tr>\n",
       "    <tr>\n",
       "      <th>6</th>\n",
       "      <td>France</td>\n",
       "      <td>286.941</td>\n",
       "      <td>293.669</td>\n",
       "      <td>268.517</td>\n",
       "      <td>273.854</td>\n",
       "      <td>237.371</td>\n",
       "      <td>273.282</td>\n",
       "      <td>230.022</td>\n",
       "      <td>336.272</td>\n",
       "      <td>267.252</td>\n",
       "      <td>415.969</td>\n",
       "      <td>NaN</td>\n",
       "    </tr>\n",
       "    <tr>\n",
       "      <th>7</th>\n",
       "      <td>Germany</td>\n",
       "      <td>239.019</td>\n",
       "      <td>149.219</td>\n",
       "      <td>150.139</td>\n",
       "      <td>128.776</td>\n",
       "      <td>163.251</td>\n",
       "      <td>169.425</td>\n",
       "      <td>243.531</td>\n",
       "      <td>230.691</td>\n",
       "      <td>234.747</td>\n",
       "      <td>195.012</td>\n",
       "      <td>NaN</td>\n",
       "    </tr>\n",
       "    <tr>\n",
       "      <th>8</th>\n",
       "      <td>Hungary</td>\n",
       "      <td>0.052</td>\n",
       "      <td>3.563</td>\n",
       "      <td>4.834</td>\n",
       "      <td>5.456</td>\n",
       "      <td>58.555</td>\n",
       "      <td>8.943</td>\n",
       "      <td>5.441</td>\n",
       "      <td>8.657</td>\n",
       "      <td>26.086</td>\n",
       "      <td>2.364</td>\n",
       "      <td>0.032</td>\n",
       "    </tr>\n",
       "    <tr>\n",
       "      <th>9</th>\n",
       "      <td>Ireland</td>\n",
       "      <td>3.626</td>\n",
       "      <td>2.900</td>\n",
       "      <td>1.814</td>\n",
       "      <td>2.404</td>\n",
       "      <td>2.369</td>\n",
       "      <td>4.252</td>\n",
       "      <td>4.894</td>\n",
       "      <td>3.986</td>\n",
       "      <td>4.450</td>\n",
       "      <td>7.143</td>\n",
       "      <td>NaN</td>\n",
       "    </tr>\n",
       "    <tr>\n",
       "      <th>10</th>\n",
       "      <td>Italy</td>\n",
       "      <td>86.808</td>\n",
       "      <td>85.828</td>\n",
       "      <td>77.457</td>\n",
       "      <td>75.495</td>\n",
       "      <td>76.320</td>\n",
       "      <td>79.075</td>\n",
       "      <td>119.652</td>\n",
       "      <td>111.206</td>\n",
       "      <td>NaN</td>\n",
       "      <td>NaN</td>\n",
       "      <td>NaN</td>\n",
       "    </tr>\n",
       "    <tr>\n",
       "      <th>11</th>\n",
       "      <td>Lithuania</td>\n",
       "      <td>NaN</td>\n",
       "      <td>NaN</td>\n",
       "      <td>NaN</td>\n",
       "      <td>NaN</td>\n",
       "      <td>NaN</td>\n",
       "      <td>NaN</td>\n",
       "      <td>2.184</td>\n",
       "      <td>1.485</td>\n",
       "      <td>1.495</td>\n",
       "      <td>0.909</td>\n",
       "      <td>1.653</td>\n",
       "    </tr>\n",
       "    <tr>\n",
       "      <th>12</th>\n",
       "      <td>Luxembourg</td>\n",
       "      <td>NaN</td>\n",
       "      <td>NaN</td>\n",
       "      <td>NaN</td>\n",
       "      <td>NaN</td>\n",
       "      <td>NaN</td>\n",
       "      <td>NaN</td>\n",
       "      <td>NaN</td>\n",
       "      <td>NaN</td>\n",
       "      <td>NaN</td>\n",
       "      <td>NaN</td>\n",
       "      <td>NaN</td>\n",
       "    </tr>\n",
       "    <tr>\n",
       "      <th>13</th>\n",
       "      <td>Netherlands</td>\n",
       "      <td>65.755</td>\n",
       "      <td>47.953</td>\n",
       "      <td>53.861</td>\n",
       "      <td>76.706</td>\n",
       "      <td>76.784</td>\n",
       "      <td>75.872</td>\n",
       "      <td>154.377</td>\n",
       "      <td>175.618</td>\n",
       "      <td>265.936</td>\n",
       "      <td>108.420</td>\n",
       "      <td>NaN</td>\n",
       "    </tr>\n",
       "    <tr>\n",
       "      <th>14</th>\n",
       "      <td>Poland</td>\n",
       "      <td>30.690</td>\n",
       "      <td>25.875</td>\n",
       "      <td>10.233</td>\n",
       "      <td>9.991</td>\n",
       "      <td>9.578</td>\n",
       "      <td>12.498</td>\n",
       "      <td>16.555</td>\n",
       "      <td>22.140</td>\n",
       "      <td>22.005</td>\n",
       "      <td>26.661</td>\n",
       "      <td>19.410</td>\n",
       "    </tr>\n",
       "    <tr>\n",
       "      <th>15</th>\n",
       "      <td>Portugal</td>\n",
       "      <td>2.720</td>\n",
       "      <td>2.660</td>\n",
       "      <td>2.242</td>\n",
       "      <td>NaN</td>\n",
       "      <td>NaN</td>\n",
       "      <td>NaN</td>\n",
       "      <td>23.748</td>\n",
       "      <td>26.347</td>\n",
       "      <td>30.105</td>\n",
       "      <td>32.196</td>\n",
       "      <td>NaN</td>\n",
       "    </tr>\n",
       "    <tr>\n",
       "      <th>16</th>\n",
       "      <td>Slovak Republic</td>\n",
       "      <td>1.858</td>\n",
       "      <td>5.709</td>\n",
       "      <td>0.723</td>\n",
       "      <td>1.221</td>\n",
       "      <td>1.388</td>\n",
       "      <td>3.325</td>\n",
       "      <td>3.075</td>\n",
       "      <td>7.286</td>\n",
       "      <td>9.020</td>\n",
       "      <td>7.638</td>\n",
       "      <td>8.820</td>\n",
       "    </tr>\n",
       "    <tr>\n",
       "      <th>17</th>\n",
       "      <td>Spain</td>\n",
       "      <td>8.697</td>\n",
       "      <td>20.611</td>\n",
       "      <td>11.695</td>\n",
       "      <td>11.854</td>\n",
       "      <td>14.894</td>\n",
       "      <td>14.587</td>\n",
       "      <td>24.786</td>\n",
       "      <td>7.331</td>\n",
       "      <td>214.840</td>\n",
       "      <td>368.924</td>\n",
       "      <td>NaN</td>\n",
       "    </tr>\n",
       "    <tr>\n",
       "      <th>18</th>\n",
       "      <td>Sweden</td>\n",
       "      <td>69.400</td>\n",
       "      <td>67.813</td>\n",
       "      <td>48.025</td>\n",
       "      <td>72.573</td>\n",
       "      <td>80.071</td>\n",
       "      <td>105.263</td>\n",
       "      <td>76.295</td>\n",
       "      <td>109.678</td>\n",
       "      <td>137.848</td>\n",
       "      <td>133.763</td>\n",
       "      <td>NaN</td>\n",
       "    </tr>\n",
       "  </tbody>\n",
       "</table>\n",
       "</div>"
      ],
      "text/plain": [
       "           Country      2013     2014     2015     2016     2017     2018  \\\n",
       "0           Austria   73.902   80.348   72.471   82.885   81.356   81.180   \n",
       "1           Belgium   64.807   64.460   65.908   53.456   51.910   66.544   \n",
       "2    Czech Republic    3.439    2.457    5.935    6.320   10.789   12.823   \n",
       "3           Denmark   40.110   50.959   33.143   22.580   21.746   13.389   \n",
       "4           Estonia    2.473    0.763    3.419    1.820    3.887    2.603   \n",
       "5           Finland  144.673  162.318  164.798  125.972  127.756  112.648   \n",
       "6            France  286.941  293.669  268.517  273.854  237.371  273.282   \n",
       "7           Germany  239.019  149.219  150.139  128.776  163.251  169.425   \n",
       "8           Hungary    0.052    3.563    4.834    5.456   58.555    8.943   \n",
       "9           Ireland    3.626    2.900    1.814    2.404    2.369    4.252   \n",
       "10            Italy   86.808   85.828   77.457   75.495   76.320   79.075   \n",
       "11        Lithuania      NaN      NaN      NaN      NaN      NaN      NaN   \n",
       "12       Luxembourg      NaN      NaN      NaN      NaN      NaN      NaN   \n",
       "13      Netherlands   65.755   47.953   53.861   76.706   76.784   75.872   \n",
       "14           Poland   30.690   25.875   10.233    9.991    9.578   12.498   \n",
       "15         Portugal    2.720    2.660    2.242      NaN      NaN      NaN   \n",
       "16  Slovak Republic    1.858    5.709    0.723    1.221    1.388    3.325   \n",
       "17            Spain    8.697   20.611   11.695   11.854   14.894   14.587   \n",
       "18           Sweden   69.400   67.813   48.025   72.573   80.071  105.263   \n",
       "\n",
       "       2019     2020     2021     2022    2023  \n",
       "0    89.551   89.412  109.359  116.630     NaN  \n",
       "1    78.975  143.928   33.309  122.916  89.398  \n",
       "2    18.529   15.623   35.385   29.572  20.456  \n",
       "3    27.598   37.107   23.055   16.514  22.959  \n",
       "4     1.431    1.162    0.197    2.894   0.114  \n",
       "5   105.542   85.764   84.000   94.635     NaN  \n",
       "6   230.022  336.272  267.252  415.969     NaN  \n",
       "7   243.531  230.691  234.747  195.012     NaN  \n",
       "8     5.441    8.657   26.086    2.364   0.032  \n",
       "9     4.894    3.986    4.450    7.143     NaN  \n",
       "10  119.652  111.206      NaN      NaN     NaN  \n",
       "11    2.184    1.485    1.495    0.909   1.653  \n",
       "12      NaN      NaN      NaN      NaN     NaN  \n",
       "13  154.377  175.618  265.936  108.420     NaN  \n",
       "14   16.555   22.140   22.005   26.661  19.410  \n",
       "15   23.748   26.347   30.105   32.196     NaN  \n",
       "16    3.075    7.286    9.020    7.638   8.820  \n",
       "17   24.786    7.331  214.840  368.924     NaN  \n",
       "18   76.295  109.678  137.848  133.763     NaN  "
      ]
     },
     "execution_count": 362,
     "metadata": {},
     "output_type": "execute_result"
    }
   ],
   "source": [
    "# import the R&D budget document. The value is in million EUR.\n",
    "\n",
    "file_path_RnD_budget = r'C:\\Users\\erlin\\OneDrive\\Documents\\09 Ironhack\\07 Bootcamp\\03 Week 3 - First project\\04 Others\\RE topics\\RnD_budget.xlsx'\n",
    "\n",
    "RnD_budget = pd.read_excel(file_path_RnD_budget)\n",
    "\n",
    "df_RnD_budget = RnD_budget.copy()\n",
    "df_RnD_budget = df_RnD_budget.drop(columns=2012)\n",
    "df_RnD_budget"
   ]
  },
  {
   "cell_type": "code",
   "execution_count": 363,
   "metadata": {},
   "outputs": [
    {
     "data": {
      "text/html": [
       "<div>\n",
       "<style scoped>\n",
       "    .dataframe tbody tr th:only-of-type {\n",
       "        vertical-align: middle;\n",
       "    }\n",
       "\n",
       "    .dataframe tbody tr th {\n",
       "        vertical-align: top;\n",
       "    }\n",
       "\n",
       "    .dataframe thead th {\n",
       "        text-align: right;\n",
       "    }\n",
       "</style>\n",
       "<table border=\"1\" class=\"dataframe\">\n",
       "  <thead>\n",
       "    <tr style=\"text-align: right;\">\n",
       "      <th></th>\n",
       "      <th>Country</th>\n",
       "      <th>2013</th>\n",
       "      <th>2014</th>\n",
       "      <th>2015</th>\n",
       "      <th>2016</th>\n",
       "      <th>2017</th>\n",
       "      <th>2018</th>\n",
       "      <th>2019</th>\n",
       "      <th>2020</th>\n",
       "      <th>2021</th>\n",
       "      <th>2022</th>\n",
       "      <th>2023</th>\n",
       "    </tr>\n",
       "  </thead>\n",
       "  <tbody>\n",
       "    <tr>\n",
       "      <th>0</th>\n",
       "      <td>Austria</td>\n",
       "      <td>73.902</td>\n",
       "      <td>80.348</td>\n",
       "      <td>72.471</td>\n",
       "      <td>82.885</td>\n",
       "      <td>81.356</td>\n",
       "      <td>81.180</td>\n",
       "      <td>89.551</td>\n",
       "      <td>89.412</td>\n",
       "      <td>109.359</td>\n",
       "      <td>116.630</td>\n",
       "      <td>NaN</td>\n",
       "    </tr>\n",
       "    <tr>\n",
       "      <th>1</th>\n",
       "      <td>Belgium</td>\n",
       "      <td>64.807</td>\n",
       "      <td>64.460</td>\n",
       "      <td>65.908</td>\n",
       "      <td>53.456</td>\n",
       "      <td>51.910</td>\n",
       "      <td>66.544</td>\n",
       "      <td>78.975</td>\n",
       "      <td>143.928</td>\n",
       "      <td>33.309</td>\n",
       "      <td>122.916</td>\n",
       "      <td>89.398</td>\n",
       "    </tr>\n",
       "    <tr>\n",
       "      <th>2</th>\n",
       "      <td>Czech Republic</td>\n",
       "      <td>3.439</td>\n",
       "      <td>2.457</td>\n",
       "      <td>5.935</td>\n",
       "      <td>6.320</td>\n",
       "      <td>10.789</td>\n",
       "      <td>12.823</td>\n",
       "      <td>18.529</td>\n",
       "      <td>15.623</td>\n",
       "      <td>35.385</td>\n",
       "      <td>29.572</td>\n",
       "      <td>20.456</td>\n",
       "    </tr>\n",
       "    <tr>\n",
       "      <th>3</th>\n",
       "      <td>Denmark</td>\n",
       "      <td>40.110</td>\n",
       "      <td>50.959</td>\n",
       "      <td>33.143</td>\n",
       "      <td>22.580</td>\n",
       "      <td>21.746</td>\n",
       "      <td>13.389</td>\n",
       "      <td>27.598</td>\n",
       "      <td>37.107</td>\n",
       "      <td>23.055</td>\n",
       "      <td>16.514</td>\n",
       "      <td>22.959</td>\n",
       "    </tr>\n",
       "    <tr>\n",
       "      <th>4</th>\n",
       "      <td>Estonia</td>\n",
       "      <td>2.473</td>\n",
       "      <td>0.763</td>\n",
       "      <td>3.419</td>\n",
       "      <td>1.820</td>\n",
       "      <td>3.887</td>\n",
       "      <td>2.603</td>\n",
       "      <td>1.431</td>\n",
       "      <td>1.162</td>\n",
       "      <td>0.197</td>\n",
       "      <td>2.894</td>\n",
       "      <td>0.114</td>\n",
       "    </tr>\n",
       "    <tr>\n",
       "      <th>5</th>\n",
       "      <td>Finland</td>\n",
       "      <td>144.673</td>\n",
       "      <td>162.318</td>\n",
       "      <td>164.798</td>\n",
       "      <td>125.972</td>\n",
       "      <td>127.756</td>\n",
       "      <td>112.648</td>\n",
       "      <td>105.542</td>\n",
       "      <td>85.764</td>\n",
       "      <td>84.000</td>\n",
       "      <td>94.635</td>\n",
       "      <td>NaN</td>\n",
       "    </tr>\n",
       "    <tr>\n",
       "      <th>6</th>\n",
       "      <td>France</td>\n",
       "      <td>286.941</td>\n",
       "      <td>293.669</td>\n",
       "      <td>268.517</td>\n",
       "      <td>273.854</td>\n",
       "      <td>237.371</td>\n",
       "      <td>273.282</td>\n",
       "      <td>230.022</td>\n",
       "      <td>336.272</td>\n",
       "      <td>267.252</td>\n",
       "      <td>415.969</td>\n",
       "      <td>NaN</td>\n",
       "    </tr>\n",
       "    <tr>\n",
       "      <th>7</th>\n",
       "      <td>Germany</td>\n",
       "      <td>239.019</td>\n",
       "      <td>149.219</td>\n",
       "      <td>150.139</td>\n",
       "      <td>128.776</td>\n",
       "      <td>163.251</td>\n",
       "      <td>169.425</td>\n",
       "      <td>243.531</td>\n",
       "      <td>230.691</td>\n",
       "      <td>234.747</td>\n",
       "      <td>195.012</td>\n",
       "      <td>NaN</td>\n",
       "    </tr>\n",
       "    <tr>\n",
       "      <th>8</th>\n",
       "      <td>Hungary</td>\n",
       "      <td>0.052</td>\n",
       "      <td>3.563</td>\n",
       "      <td>4.834</td>\n",
       "      <td>5.456</td>\n",
       "      <td>58.555</td>\n",
       "      <td>8.943</td>\n",
       "      <td>5.441</td>\n",
       "      <td>8.657</td>\n",
       "      <td>26.086</td>\n",
       "      <td>2.364</td>\n",
       "      <td>0.032</td>\n",
       "    </tr>\n",
       "    <tr>\n",
       "      <th>9</th>\n",
       "      <td>Ireland</td>\n",
       "      <td>3.626</td>\n",
       "      <td>2.900</td>\n",
       "      <td>1.814</td>\n",
       "      <td>2.404</td>\n",
       "      <td>2.369</td>\n",
       "      <td>4.252</td>\n",
       "      <td>4.894</td>\n",
       "      <td>3.986</td>\n",
       "      <td>4.450</td>\n",
       "      <td>7.143</td>\n",
       "      <td>NaN</td>\n",
       "    </tr>\n",
       "    <tr>\n",
       "      <th>10</th>\n",
       "      <td>Italy</td>\n",
       "      <td>86.808</td>\n",
       "      <td>85.828</td>\n",
       "      <td>77.457</td>\n",
       "      <td>75.495</td>\n",
       "      <td>76.320</td>\n",
       "      <td>79.075</td>\n",
       "      <td>119.652</td>\n",
       "      <td>111.206</td>\n",
       "      <td>NaN</td>\n",
       "      <td>NaN</td>\n",
       "      <td>NaN</td>\n",
       "    </tr>\n",
       "    <tr>\n",
       "      <th>11</th>\n",
       "      <td>Netherlands</td>\n",
       "      <td>65.755</td>\n",
       "      <td>47.953</td>\n",
       "      <td>53.861</td>\n",
       "      <td>76.706</td>\n",
       "      <td>76.784</td>\n",
       "      <td>75.872</td>\n",
       "      <td>154.377</td>\n",
       "      <td>175.618</td>\n",
       "      <td>265.936</td>\n",
       "      <td>108.420</td>\n",
       "      <td>NaN</td>\n",
       "    </tr>\n",
       "    <tr>\n",
       "      <th>12</th>\n",
       "      <td>Poland</td>\n",
       "      <td>30.690</td>\n",
       "      <td>25.875</td>\n",
       "      <td>10.233</td>\n",
       "      <td>9.991</td>\n",
       "      <td>9.578</td>\n",
       "      <td>12.498</td>\n",
       "      <td>16.555</td>\n",
       "      <td>22.140</td>\n",
       "      <td>22.005</td>\n",
       "      <td>26.661</td>\n",
       "      <td>19.410</td>\n",
       "    </tr>\n",
       "    <tr>\n",
       "      <th>13</th>\n",
       "      <td>Portugal</td>\n",
       "      <td>2.720</td>\n",
       "      <td>2.660</td>\n",
       "      <td>2.242</td>\n",
       "      <td>NaN</td>\n",
       "      <td>NaN</td>\n",
       "      <td>NaN</td>\n",
       "      <td>23.748</td>\n",
       "      <td>26.347</td>\n",
       "      <td>30.105</td>\n",
       "      <td>32.196</td>\n",
       "      <td>NaN</td>\n",
       "    </tr>\n",
       "    <tr>\n",
       "      <th>14</th>\n",
       "      <td>Slovak Republic</td>\n",
       "      <td>1.858</td>\n",
       "      <td>5.709</td>\n",
       "      <td>0.723</td>\n",
       "      <td>1.221</td>\n",
       "      <td>1.388</td>\n",
       "      <td>3.325</td>\n",
       "      <td>3.075</td>\n",
       "      <td>7.286</td>\n",
       "      <td>9.020</td>\n",
       "      <td>7.638</td>\n",
       "      <td>8.820</td>\n",
       "    </tr>\n",
       "    <tr>\n",
       "      <th>15</th>\n",
       "      <td>Spain</td>\n",
       "      <td>8.697</td>\n",
       "      <td>20.611</td>\n",
       "      <td>11.695</td>\n",
       "      <td>11.854</td>\n",
       "      <td>14.894</td>\n",
       "      <td>14.587</td>\n",
       "      <td>24.786</td>\n",
       "      <td>7.331</td>\n",
       "      <td>214.840</td>\n",
       "      <td>368.924</td>\n",
       "      <td>NaN</td>\n",
       "    </tr>\n",
       "    <tr>\n",
       "      <th>16</th>\n",
       "      <td>Sweden</td>\n",
       "      <td>69.400</td>\n",
       "      <td>67.813</td>\n",
       "      <td>48.025</td>\n",
       "      <td>72.573</td>\n",
       "      <td>80.071</td>\n",
       "      <td>105.263</td>\n",
       "      <td>76.295</td>\n",
       "      <td>109.678</td>\n",
       "      <td>137.848</td>\n",
       "      <td>133.763</td>\n",
       "      <td>NaN</td>\n",
       "    </tr>\n",
       "  </tbody>\n",
       "</table>\n",
       "</div>"
      ],
      "text/plain": [
       "           Country      2013     2014     2015     2016     2017     2018  \\\n",
       "0           Austria   73.902   80.348   72.471   82.885   81.356   81.180   \n",
       "1           Belgium   64.807   64.460   65.908   53.456   51.910   66.544   \n",
       "2    Czech Republic    3.439    2.457    5.935    6.320   10.789   12.823   \n",
       "3           Denmark   40.110   50.959   33.143   22.580   21.746   13.389   \n",
       "4           Estonia    2.473    0.763    3.419    1.820    3.887    2.603   \n",
       "5           Finland  144.673  162.318  164.798  125.972  127.756  112.648   \n",
       "6            France  286.941  293.669  268.517  273.854  237.371  273.282   \n",
       "7           Germany  239.019  149.219  150.139  128.776  163.251  169.425   \n",
       "8           Hungary    0.052    3.563    4.834    5.456   58.555    8.943   \n",
       "9           Ireland    3.626    2.900    1.814    2.404    2.369    4.252   \n",
       "10            Italy   86.808   85.828   77.457   75.495   76.320   79.075   \n",
       "11      Netherlands   65.755   47.953   53.861   76.706   76.784   75.872   \n",
       "12           Poland   30.690   25.875   10.233    9.991    9.578   12.498   \n",
       "13         Portugal    2.720    2.660    2.242      NaN      NaN      NaN   \n",
       "14  Slovak Republic    1.858    5.709    0.723    1.221    1.388    3.325   \n",
       "15            Spain    8.697   20.611   11.695   11.854   14.894   14.587   \n",
       "16           Sweden   69.400   67.813   48.025   72.573   80.071  105.263   \n",
       "\n",
       "       2019     2020     2021     2022    2023  \n",
       "0    89.551   89.412  109.359  116.630     NaN  \n",
       "1    78.975  143.928   33.309  122.916  89.398  \n",
       "2    18.529   15.623   35.385   29.572  20.456  \n",
       "3    27.598   37.107   23.055   16.514  22.959  \n",
       "4     1.431    1.162    0.197    2.894   0.114  \n",
       "5   105.542   85.764   84.000   94.635     NaN  \n",
       "6   230.022  336.272  267.252  415.969     NaN  \n",
       "7   243.531  230.691  234.747  195.012     NaN  \n",
       "8     5.441    8.657   26.086    2.364   0.032  \n",
       "9     4.894    3.986    4.450    7.143     NaN  \n",
       "10  119.652  111.206      NaN      NaN     NaN  \n",
       "11  154.377  175.618  265.936  108.420     NaN  \n",
       "12   16.555   22.140   22.005   26.661  19.410  \n",
       "13   23.748   26.347   30.105   32.196     NaN  \n",
       "14    3.075    7.286    9.020    7.638   8.820  \n",
       "15   24.786    7.331  214.840  368.924     NaN  \n",
       "16   76.295  109.678  137.848  133.763     NaN  "
      ]
     },
     "execution_count": 363,
     "metadata": {},
     "output_type": "execute_result"
    }
   ],
   "source": [
    "# drop row which has more than 5 NaNs in the columns\n",
    "\n",
    "#count the NaN in every row  \n",
    "na_counts_per_row = df_RnD_budget.isna().sum(axis=1)\n",
    "\n",
    "df_RnD_budget = df_RnD_budget[na_counts_per_row <= 5].reset_index(drop=True)\n",
    "df_RnD_budget\n"
   ]
  },
  {
   "cell_type": "code",
   "execution_count": 364,
   "metadata": {},
   "outputs": [
    {
     "data": {
      "text/html": [
       "<div>\n",
       "<style scoped>\n",
       "    .dataframe tbody tr th:only-of-type {\n",
       "        vertical-align: middle;\n",
       "    }\n",
       "\n",
       "    .dataframe tbody tr th {\n",
       "        vertical-align: top;\n",
       "    }\n",
       "\n",
       "    .dataframe thead th {\n",
       "        text-align: right;\n",
       "    }\n",
       "</style>\n",
       "<table border=\"1\" class=\"dataframe\">\n",
       "  <thead>\n",
       "    <tr style=\"text-align: right;\">\n",
       "      <th></th>\n",
       "      <th>country_name</th>\n",
       "      <th>2013</th>\n",
       "      <th>2014</th>\n",
       "      <th>2015</th>\n",
       "      <th>2016</th>\n",
       "      <th>2017</th>\n",
       "      <th>2018</th>\n",
       "      <th>2019</th>\n",
       "      <th>2020</th>\n",
       "      <th>2021</th>\n",
       "      <th>2022</th>\n",
       "      <th>2023</th>\n",
       "    </tr>\n",
       "  </thead>\n",
       "  <tbody>\n",
       "    <tr>\n",
       "      <th>0</th>\n",
       "      <td>Austria</td>\n",
       "      <td>73.902</td>\n",
       "      <td>80.348</td>\n",
       "      <td>72.471</td>\n",
       "      <td>82.885</td>\n",
       "      <td>81.356</td>\n",
       "      <td>81.180</td>\n",
       "      <td>89.551</td>\n",
       "      <td>89.412</td>\n",
       "      <td>109.359</td>\n",
       "      <td>116.630</td>\n",
       "      <td>116.630</td>\n",
       "    </tr>\n",
       "    <tr>\n",
       "      <th>1</th>\n",
       "      <td>Belgium</td>\n",
       "      <td>64.807</td>\n",
       "      <td>64.460</td>\n",
       "      <td>65.908</td>\n",
       "      <td>53.456</td>\n",
       "      <td>51.910</td>\n",
       "      <td>66.544</td>\n",
       "      <td>78.975</td>\n",
       "      <td>143.928</td>\n",
       "      <td>33.309</td>\n",
       "      <td>122.916</td>\n",
       "      <td>89.398</td>\n",
       "    </tr>\n",
       "    <tr>\n",
       "      <th>2</th>\n",
       "      <td>Czech Republic</td>\n",
       "      <td>3.439</td>\n",
       "      <td>2.457</td>\n",
       "      <td>5.935</td>\n",
       "      <td>6.320</td>\n",
       "      <td>10.789</td>\n",
       "      <td>12.823</td>\n",
       "      <td>18.529</td>\n",
       "      <td>15.623</td>\n",
       "      <td>35.385</td>\n",
       "      <td>29.572</td>\n",
       "      <td>20.456</td>\n",
       "    </tr>\n",
       "    <tr>\n",
       "      <th>3</th>\n",
       "      <td>Denmark</td>\n",
       "      <td>40.110</td>\n",
       "      <td>50.959</td>\n",
       "      <td>33.143</td>\n",
       "      <td>22.580</td>\n",
       "      <td>21.746</td>\n",
       "      <td>13.389</td>\n",
       "      <td>27.598</td>\n",
       "      <td>37.107</td>\n",
       "      <td>23.055</td>\n",
       "      <td>16.514</td>\n",
       "      <td>22.959</td>\n",
       "    </tr>\n",
       "    <tr>\n",
       "      <th>4</th>\n",
       "      <td>Estonia</td>\n",
       "      <td>2.473</td>\n",
       "      <td>0.763</td>\n",
       "      <td>3.419</td>\n",
       "      <td>1.820</td>\n",
       "      <td>3.887</td>\n",
       "      <td>2.603</td>\n",
       "      <td>1.431</td>\n",
       "      <td>1.162</td>\n",
       "      <td>0.197</td>\n",
       "      <td>2.894</td>\n",
       "      <td>0.114</td>\n",
       "    </tr>\n",
       "    <tr>\n",
       "      <th>5</th>\n",
       "      <td>Finland</td>\n",
       "      <td>144.673</td>\n",
       "      <td>162.318</td>\n",
       "      <td>164.798</td>\n",
       "      <td>125.972</td>\n",
       "      <td>127.756</td>\n",
       "      <td>112.648</td>\n",
       "      <td>105.542</td>\n",
       "      <td>85.764</td>\n",
       "      <td>84.000</td>\n",
       "      <td>94.635</td>\n",
       "      <td>94.635</td>\n",
       "    </tr>\n",
       "    <tr>\n",
       "      <th>6</th>\n",
       "      <td>France</td>\n",
       "      <td>286.941</td>\n",
       "      <td>293.669</td>\n",
       "      <td>268.517</td>\n",
       "      <td>273.854</td>\n",
       "      <td>237.371</td>\n",
       "      <td>273.282</td>\n",
       "      <td>230.022</td>\n",
       "      <td>336.272</td>\n",
       "      <td>267.252</td>\n",
       "      <td>415.969</td>\n",
       "      <td>415.969</td>\n",
       "    </tr>\n",
       "    <tr>\n",
       "      <th>7</th>\n",
       "      <td>Germany</td>\n",
       "      <td>239.019</td>\n",
       "      <td>149.219</td>\n",
       "      <td>150.139</td>\n",
       "      <td>128.776</td>\n",
       "      <td>163.251</td>\n",
       "      <td>169.425</td>\n",
       "      <td>243.531</td>\n",
       "      <td>230.691</td>\n",
       "      <td>234.747</td>\n",
       "      <td>195.012</td>\n",
       "      <td>195.012</td>\n",
       "    </tr>\n",
       "    <tr>\n",
       "      <th>8</th>\n",
       "      <td>Hungary</td>\n",
       "      <td>0.052</td>\n",
       "      <td>3.563</td>\n",
       "      <td>4.834</td>\n",
       "      <td>5.456</td>\n",
       "      <td>58.555</td>\n",
       "      <td>8.943</td>\n",
       "      <td>5.441</td>\n",
       "      <td>8.657</td>\n",
       "      <td>26.086</td>\n",
       "      <td>2.364</td>\n",
       "      <td>0.032</td>\n",
       "    </tr>\n",
       "    <tr>\n",
       "      <th>9</th>\n",
       "      <td>Ireland</td>\n",
       "      <td>3.626</td>\n",
       "      <td>2.900</td>\n",
       "      <td>1.814</td>\n",
       "      <td>2.404</td>\n",
       "      <td>2.369</td>\n",
       "      <td>4.252</td>\n",
       "      <td>4.894</td>\n",
       "      <td>3.986</td>\n",
       "      <td>4.450</td>\n",
       "      <td>7.143</td>\n",
       "      <td>7.143</td>\n",
       "    </tr>\n",
       "    <tr>\n",
       "      <th>10</th>\n",
       "      <td>Italy</td>\n",
       "      <td>86.808</td>\n",
       "      <td>85.828</td>\n",
       "      <td>77.457</td>\n",
       "      <td>75.495</td>\n",
       "      <td>76.320</td>\n",
       "      <td>79.075</td>\n",
       "      <td>119.652</td>\n",
       "      <td>111.206</td>\n",
       "      <td>111.206</td>\n",
       "      <td>111.206</td>\n",
       "      <td>111.206</td>\n",
       "    </tr>\n",
       "    <tr>\n",
       "      <th>11</th>\n",
       "      <td>Netherlands</td>\n",
       "      <td>65.755</td>\n",
       "      <td>47.953</td>\n",
       "      <td>53.861</td>\n",
       "      <td>76.706</td>\n",
       "      <td>76.784</td>\n",
       "      <td>75.872</td>\n",
       "      <td>154.377</td>\n",
       "      <td>175.618</td>\n",
       "      <td>265.936</td>\n",
       "      <td>108.420</td>\n",
       "      <td>108.420</td>\n",
       "    </tr>\n",
       "    <tr>\n",
       "      <th>12</th>\n",
       "      <td>Poland</td>\n",
       "      <td>30.690</td>\n",
       "      <td>25.875</td>\n",
       "      <td>10.233</td>\n",
       "      <td>9.991</td>\n",
       "      <td>9.578</td>\n",
       "      <td>12.498</td>\n",
       "      <td>16.555</td>\n",
       "      <td>22.140</td>\n",
       "      <td>22.005</td>\n",
       "      <td>26.661</td>\n",
       "      <td>19.410</td>\n",
       "    </tr>\n",
       "    <tr>\n",
       "      <th>13</th>\n",
       "      <td>Portugal</td>\n",
       "      <td>2.720</td>\n",
       "      <td>2.660</td>\n",
       "      <td>2.242</td>\n",
       "      <td>2.242</td>\n",
       "      <td>2.242</td>\n",
       "      <td>2.242</td>\n",
       "      <td>23.748</td>\n",
       "      <td>26.347</td>\n",
       "      <td>30.105</td>\n",
       "      <td>32.196</td>\n",
       "      <td>32.196</td>\n",
       "    </tr>\n",
       "    <tr>\n",
       "      <th>14</th>\n",
       "      <td>Slovak Republic</td>\n",
       "      <td>1.858</td>\n",
       "      <td>5.709</td>\n",
       "      <td>0.723</td>\n",
       "      <td>1.221</td>\n",
       "      <td>1.388</td>\n",
       "      <td>3.325</td>\n",
       "      <td>3.075</td>\n",
       "      <td>7.286</td>\n",
       "      <td>9.020</td>\n",
       "      <td>7.638</td>\n",
       "      <td>8.820</td>\n",
       "    </tr>\n",
       "    <tr>\n",
       "      <th>15</th>\n",
       "      <td>Spain</td>\n",
       "      <td>8.697</td>\n",
       "      <td>20.611</td>\n",
       "      <td>11.695</td>\n",
       "      <td>11.854</td>\n",
       "      <td>14.894</td>\n",
       "      <td>14.587</td>\n",
       "      <td>24.786</td>\n",
       "      <td>7.331</td>\n",
       "      <td>214.840</td>\n",
       "      <td>368.924</td>\n",
       "      <td>368.924</td>\n",
       "    </tr>\n",
       "    <tr>\n",
       "      <th>16</th>\n",
       "      <td>Sweden</td>\n",
       "      <td>69.400</td>\n",
       "      <td>67.813</td>\n",
       "      <td>48.025</td>\n",
       "      <td>72.573</td>\n",
       "      <td>80.071</td>\n",
       "      <td>105.263</td>\n",
       "      <td>76.295</td>\n",
       "      <td>109.678</td>\n",
       "      <td>137.848</td>\n",
       "      <td>133.763</td>\n",
       "      <td>133.763</td>\n",
       "    </tr>\n",
       "  </tbody>\n",
       "</table>\n",
       "</div>"
      ],
      "text/plain": [
       "       country_name     2013     2014     2015     2016     2017     2018  \\\n",
       "0           Austria   73.902   80.348   72.471   82.885   81.356   81.180   \n",
       "1           Belgium   64.807   64.460   65.908   53.456   51.910   66.544   \n",
       "2    Czech Republic    3.439    2.457    5.935    6.320   10.789   12.823   \n",
       "3           Denmark   40.110   50.959   33.143   22.580   21.746   13.389   \n",
       "4           Estonia    2.473    0.763    3.419    1.820    3.887    2.603   \n",
       "5           Finland  144.673  162.318  164.798  125.972  127.756  112.648   \n",
       "6            France  286.941  293.669  268.517  273.854  237.371  273.282   \n",
       "7           Germany  239.019  149.219  150.139  128.776  163.251  169.425   \n",
       "8           Hungary    0.052    3.563    4.834    5.456   58.555    8.943   \n",
       "9           Ireland    3.626    2.900    1.814    2.404    2.369    4.252   \n",
       "10            Italy   86.808   85.828   77.457   75.495   76.320   79.075   \n",
       "11      Netherlands   65.755   47.953   53.861   76.706   76.784   75.872   \n",
       "12           Poland   30.690   25.875   10.233    9.991    9.578   12.498   \n",
       "13         Portugal    2.720    2.660    2.242    2.242    2.242    2.242   \n",
       "14  Slovak Republic    1.858    5.709    0.723    1.221    1.388    3.325   \n",
       "15            Spain    8.697   20.611   11.695   11.854   14.894   14.587   \n",
       "16           Sweden   69.400   67.813   48.025   72.573   80.071  105.263   \n",
       "\n",
       "       2019     2020     2021     2022     2023  \n",
       "0    89.551   89.412  109.359  116.630  116.630  \n",
       "1    78.975  143.928   33.309  122.916   89.398  \n",
       "2    18.529   15.623   35.385   29.572   20.456  \n",
       "3    27.598   37.107   23.055   16.514   22.959  \n",
       "4     1.431    1.162    0.197    2.894    0.114  \n",
       "5   105.542   85.764   84.000   94.635   94.635  \n",
       "6   230.022  336.272  267.252  415.969  415.969  \n",
       "7   243.531  230.691  234.747  195.012  195.012  \n",
       "8     5.441    8.657   26.086    2.364    0.032  \n",
       "9     4.894    3.986    4.450    7.143    7.143  \n",
       "10  119.652  111.206  111.206  111.206  111.206  \n",
       "11  154.377  175.618  265.936  108.420  108.420  \n",
       "12   16.555   22.140   22.005   26.661   19.410  \n",
       "13   23.748   26.347   30.105   32.196   32.196  \n",
       "14    3.075    7.286    9.020    7.638    8.820  \n",
       "15   24.786    7.331  214.840  368.924  368.924  \n",
       "16   76.295  109.678  137.848  133.763  133.763  "
      ]
     },
     "execution_count": 364,
     "metadata": {},
     "output_type": "execute_result"
    }
   ],
   "source": [
    "# fill the NaN value with the value of left row\n",
    "df_RnD_budget = df_RnD_budget.apply(lambda row: row.ffill(axis=0), axis=1)\n",
    "df_RnD_budget = df_RnD_budget.rename(columns = {\"Country \": \"country_name\"})\n",
    "df_RnD_budget"
   ]
  },
  {
   "cell_type": "code",
   "execution_count": 365,
   "metadata": {},
   "outputs": [
    {
     "data": {
      "text/html": [
       "<div>\n",
       "<style scoped>\n",
       "    .dataframe tbody tr th:only-of-type {\n",
       "        vertical-align: middle;\n",
       "    }\n",
       "\n",
       "    .dataframe tbody tr th {\n",
       "        vertical-align: top;\n",
       "    }\n",
       "\n",
       "    .dataframe thead th {\n",
       "        text-align: right;\n",
       "    }\n",
       "</style>\n",
       "<table border=\"1\" class=\"dataframe\">\n",
       "  <thead>\n",
       "    <tr style=\"text-align: right;\">\n",
       "      <th></th>\n",
       "      <th>country_name</th>\n",
       "      <th>year</th>\n",
       "      <th>budget_(million_Euro)</th>\n",
       "    </tr>\n",
       "  </thead>\n",
       "  <tbody>\n",
       "    <tr>\n",
       "      <th>0</th>\n",
       "      <td>Austria</td>\n",
       "      <td>2013</td>\n",
       "      <td>73.902</td>\n",
       "    </tr>\n",
       "    <tr>\n",
       "      <th>1</th>\n",
       "      <td>Belgium</td>\n",
       "      <td>2013</td>\n",
       "      <td>64.807</td>\n",
       "    </tr>\n",
       "    <tr>\n",
       "      <th>2</th>\n",
       "      <td>Czech Republic</td>\n",
       "      <td>2013</td>\n",
       "      <td>3.439</td>\n",
       "    </tr>\n",
       "    <tr>\n",
       "      <th>3</th>\n",
       "      <td>Denmark</td>\n",
       "      <td>2013</td>\n",
       "      <td>40.110</td>\n",
       "    </tr>\n",
       "    <tr>\n",
       "      <th>4</th>\n",
       "      <td>Estonia</td>\n",
       "      <td>2013</td>\n",
       "      <td>2.473</td>\n",
       "    </tr>\n",
       "    <tr>\n",
       "      <th>...</th>\n",
       "      <td>...</td>\n",
       "      <td>...</td>\n",
       "      <td>...</td>\n",
       "    </tr>\n",
       "    <tr>\n",
       "      <th>182</th>\n",
       "      <td>Poland</td>\n",
       "      <td>2023</td>\n",
       "      <td>19.410</td>\n",
       "    </tr>\n",
       "    <tr>\n",
       "      <th>183</th>\n",
       "      <td>Portugal</td>\n",
       "      <td>2023</td>\n",
       "      <td>32.196</td>\n",
       "    </tr>\n",
       "    <tr>\n",
       "      <th>184</th>\n",
       "      <td>Slovak Republic</td>\n",
       "      <td>2023</td>\n",
       "      <td>8.820</td>\n",
       "    </tr>\n",
       "    <tr>\n",
       "      <th>185</th>\n",
       "      <td>Spain</td>\n",
       "      <td>2023</td>\n",
       "      <td>368.924</td>\n",
       "    </tr>\n",
       "    <tr>\n",
       "      <th>186</th>\n",
       "      <td>Sweden</td>\n",
       "      <td>2023</td>\n",
       "      <td>133.763</td>\n",
       "    </tr>\n",
       "  </tbody>\n",
       "</table>\n",
       "<p>187 rows × 3 columns</p>\n",
       "</div>"
      ],
      "text/plain": [
       "        country_name  year  budget_(million_Euro)\n",
       "0            Austria  2013                 73.902\n",
       "1            Belgium  2013                 64.807\n",
       "2     Czech Republic  2013                  3.439\n",
       "3            Denmark  2013                 40.110\n",
       "4            Estonia  2013                  2.473\n",
       "..               ...   ...                    ...\n",
       "182           Poland  2023                 19.410\n",
       "183         Portugal  2023                 32.196\n",
       "184  Slovak Republic  2023                  8.820\n",
       "185            Spain  2023                368.924\n",
       "186           Sweden  2023                133.763\n",
       "\n",
       "[187 rows x 3 columns]"
      ]
     },
     "execution_count": 365,
     "metadata": {},
     "output_type": "execute_result"
    }
   ],
   "source": [
    "# convert df_RnD_budget into long format\n",
    "\n",
    "df_RnD_budget_long = pd.melt(df_RnD_budget, id_vars=[\"country_name\"], var_name=\"year\", value_name= 'budget')\n",
    "df_RnD_budget_long[\"year\"] = pd.to_numeric(df_RnD_budget_long[\"year\"])\n",
    "\n",
    "# rename budget to include its unit\n",
    "\n",
    "df_RnD_budget_long = df_RnD_budget_long.rename(columns={\"budget\":\"budget_(million_Euro)\"})\n",
    "\n",
    "df_RnD_budget_long "
   ]
  },
  {
   "cell_type": "code",
   "execution_count": 369,
   "metadata": {},
   "outputs": [],
   "source": [
    "# update both RE production and R&D budget dataframe by considering the population of each country\n",
    "\n",
    "file_path_population = r'C:\\Users\\erlin\\OneDrive\\Documents\\09 Ironhack\\07 Bootcamp\\03 Week 3 - First project\\04 Others\\RE topics\\eu_country_population.csv'\n",
    "\n",
    "df_population_original = pd.read_csv(file_path_population)\n",
    "df_population = df_population_original.copy()\n",
    "\n",
    "# drop unnecessary columns\n",
    "\n",
    "df_population = df_population.drop(columns=[\"DATAFLOW\",\"LAST UPDATE\",\"freq\",\"indic_de\",\"TIME_PERIOD\",\"OBS_FLAG\"])\n",
    "\n",
    "# rename column names \n",
    "\n",
    "df_population = df_population.rename(columns={\"OBS_VALUE\":\"population\"})"
   ]
  },
  {
   "cell_type": "code",
   "execution_count": 370,
   "metadata": {},
   "outputs": [
    {
     "data": {
      "text/html": [
       "<div>\n",
       "<style scoped>\n",
       "    .dataframe tbody tr th:only-of-type {\n",
       "        vertical-align: middle;\n",
       "    }\n",
       "\n",
       "    .dataframe tbody tr th {\n",
       "        vertical-align: top;\n",
       "    }\n",
       "\n",
       "    .dataframe thead th {\n",
       "        text-align: right;\n",
       "    }\n",
       "</style>\n",
       "<table border=\"1\" class=\"dataframe\">\n",
       "  <thead>\n",
       "    <tr style=\"text-align: right;\">\n",
       "      <th></th>\n",
       "      <th>geo</th>\n",
       "      <th>population</th>\n",
       "    </tr>\n",
       "  </thead>\n",
       "  <tbody>\n",
       "    <tr>\n",
       "      <th>0</th>\n",
       "      <td>AT</td>\n",
       "      <td>9104772</td>\n",
       "    </tr>\n",
       "    <tr>\n",
       "      <th>1</th>\n",
       "      <td>BE</td>\n",
       "      <td>11742796</td>\n",
       "    </tr>\n",
       "    <tr>\n",
       "      <th>2</th>\n",
       "      <td>BG</td>\n",
       "      <td>6447710</td>\n",
       "    </tr>\n",
       "    <tr>\n",
       "      <th>3</th>\n",
       "      <td>CY</td>\n",
       "      <td>920701</td>\n",
       "    </tr>\n",
       "    <tr>\n",
       "      <th>4</th>\n",
       "      <td>CZ</td>\n",
       "      <td>10827529</td>\n",
       "    </tr>\n",
       "    <tr>\n",
       "      <th>5</th>\n",
       "      <td>DE</td>\n",
       "      <td>84358845</td>\n",
       "    </tr>\n",
       "    <tr>\n",
       "      <th>6</th>\n",
       "      <td>DK</td>\n",
       "      <td>5932654</td>\n",
       "    </tr>\n",
       "    <tr>\n",
       "      <th>7</th>\n",
       "      <td>EE</td>\n",
       "      <td>1365884</td>\n",
       "    </tr>\n",
       "    <tr>\n",
       "      <th>8</th>\n",
       "      <td>EL</td>\n",
       "      <td>10413982</td>\n",
       "    </tr>\n",
       "    <tr>\n",
       "      <th>9</th>\n",
       "      <td>ES</td>\n",
       "      <td>48085361</td>\n",
       "    </tr>\n",
       "    <tr>\n",
       "      <th>10</th>\n",
       "      <td>EU27_2020</td>\n",
       "      <td>448753823</td>\n",
       "    </tr>\n",
       "    <tr>\n",
       "      <th>11</th>\n",
       "      <td>FI</td>\n",
       "      <td>5563970</td>\n",
       "    </tr>\n",
       "    <tr>\n",
       "      <th>12</th>\n",
       "      <td>FR</td>\n",
       "      <td>68172977</td>\n",
       "    </tr>\n",
       "    <tr>\n",
       "      <th>13</th>\n",
       "      <td>HR</td>\n",
       "      <td>3850894</td>\n",
       "    </tr>\n",
       "    <tr>\n",
       "      <th>14</th>\n",
       "      <td>HU</td>\n",
       "      <td>9599744</td>\n",
       "    </tr>\n",
       "    <tr>\n",
       "      <th>15</th>\n",
       "      <td>IE</td>\n",
       "      <td>5271395</td>\n",
       "    </tr>\n",
       "    <tr>\n",
       "      <th>16</th>\n",
       "      <td>IT</td>\n",
       "      <td>58997201</td>\n",
       "    </tr>\n",
       "    <tr>\n",
       "      <th>17</th>\n",
       "      <td>LT</td>\n",
       "      <td>2857279</td>\n",
       "    </tr>\n",
       "    <tr>\n",
       "      <th>18</th>\n",
       "      <td>LU</td>\n",
       "      <td>660809</td>\n",
       "    </tr>\n",
       "    <tr>\n",
       "      <th>19</th>\n",
       "      <td>LV</td>\n",
       "      <td>1883008</td>\n",
       "    </tr>\n",
       "    <tr>\n",
       "      <th>20</th>\n",
       "      <td>MT</td>\n",
       "      <td>542051</td>\n",
       "    </tr>\n",
       "    <tr>\n",
       "      <th>21</th>\n",
       "      <td>NL</td>\n",
       "      <td>17811291</td>\n",
       "    </tr>\n",
       "    <tr>\n",
       "      <th>22</th>\n",
       "      <td>PL</td>\n",
       "      <td>36753736</td>\n",
       "    </tr>\n",
       "    <tr>\n",
       "      <th>23</th>\n",
       "      <td>PT</td>\n",
       "      <td>10467366</td>\n",
       "    </tr>\n",
       "    <tr>\n",
       "      <th>24</th>\n",
       "      <td>RO</td>\n",
       "      <td>19054548</td>\n",
       "    </tr>\n",
       "    <tr>\n",
       "      <th>25</th>\n",
       "      <td>SE</td>\n",
       "      <td>10521556</td>\n",
       "    </tr>\n",
       "    <tr>\n",
       "      <th>26</th>\n",
       "      <td>SI</td>\n",
       "      <td>2116972</td>\n",
       "    </tr>\n",
       "    <tr>\n",
       "      <th>27</th>\n",
       "      <td>SK</td>\n",
       "      <td>5428792</td>\n",
       "    </tr>\n",
       "  </tbody>\n",
       "</table>\n",
       "</div>"
      ],
      "text/plain": [
       "          geo  population\n",
       "0          AT     9104772\n",
       "1          BE    11742796\n",
       "2          BG     6447710\n",
       "3          CY      920701\n",
       "4          CZ    10827529\n",
       "5          DE    84358845\n",
       "6          DK     5932654\n",
       "7          EE     1365884\n",
       "8          EL    10413982\n",
       "9          ES    48085361\n",
       "10  EU27_2020   448753823\n",
       "11         FI     5563970\n",
       "12         FR    68172977\n",
       "13         HR     3850894\n",
       "14         HU     9599744\n",
       "15         IE     5271395\n",
       "16         IT    58997201\n",
       "17         LT     2857279\n",
       "18         LU      660809\n",
       "19         LV     1883008\n",
       "20         MT      542051\n",
       "21         NL    17811291\n",
       "22         PL    36753736\n",
       "23         PT    10467366\n",
       "24         RO    19054548\n",
       "25         SE    10521556\n",
       "26         SI     2116972\n",
       "27         SK     5428792"
      ]
     },
     "execution_count": 370,
     "metadata": {},
     "output_type": "execute_result"
    }
   ],
   "source": [
    "df_population "
   ]
  },
  {
   "cell_type": "code",
   "execution_count": 371,
   "metadata": {},
   "outputs": [],
   "source": [
    "# drop the outlier\n",
    "\n",
    "df_population = df_population[df_population['geo'] != \"EU27_2020\"]\n"
   ]
  },
  {
   "cell_type": "code",
   "execution_count": 372,
   "metadata": {},
   "outputs": [
    {
     "name": "stderr",
     "output_type": "stream",
     "text": [
      "C:\\Users\\erlin\\AppData\\Local\\Temp\\ipykernel_13352\\2642954344.py:35: SettingWithCopyWarning:\n",
      "\n",
      "\n",
      "A value is trying to be set on a copy of a slice from a DataFrame.\n",
      "Try using .loc[row_indexer,col_indexer] = value instead\n",
      "\n",
      "See the caveats in the documentation: https://pandas.pydata.org/pandas-docs/stable/user_guide/indexing.html#returning-a-view-versus-a-copy\n",
      "\n"
     ]
    },
    {
     "data": {
      "text/html": [
       "<div>\n",
       "<style scoped>\n",
       "    .dataframe tbody tr th:only-of-type {\n",
       "        vertical-align: middle;\n",
       "    }\n",
       "\n",
       "    .dataframe tbody tr th {\n",
       "        vertical-align: top;\n",
       "    }\n",
       "\n",
       "    .dataframe thead th {\n",
       "        text-align: right;\n",
       "    }\n",
       "</style>\n",
       "<table border=\"1\" class=\"dataframe\">\n",
       "  <thead>\n",
       "    <tr style=\"text-align: right;\">\n",
       "      <th></th>\n",
       "      <th>geo</th>\n",
       "      <th>population</th>\n",
       "      <th>country_name</th>\n",
       "    </tr>\n",
       "  </thead>\n",
       "  <tbody>\n",
       "    <tr>\n",
       "      <th>0</th>\n",
       "      <td>AT</td>\n",
       "      <td>9104772</td>\n",
       "      <td>Austria</td>\n",
       "    </tr>\n",
       "    <tr>\n",
       "      <th>1</th>\n",
       "      <td>BE</td>\n",
       "      <td>11742796</td>\n",
       "      <td>Belgium</td>\n",
       "    </tr>\n",
       "    <tr>\n",
       "      <th>2</th>\n",
       "      <td>BG</td>\n",
       "      <td>6447710</td>\n",
       "      <td>Bulgaria</td>\n",
       "    </tr>\n",
       "    <tr>\n",
       "      <th>3</th>\n",
       "      <td>CY</td>\n",
       "      <td>920701</td>\n",
       "      <td>Cyprus</td>\n",
       "    </tr>\n",
       "    <tr>\n",
       "      <th>4</th>\n",
       "      <td>CZ</td>\n",
       "      <td>10827529</td>\n",
       "      <td>Czech Republic</td>\n",
       "    </tr>\n",
       "    <tr>\n",
       "      <th>5</th>\n",
       "      <td>DE</td>\n",
       "      <td>84358845</td>\n",
       "      <td>Germany</td>\n",
       "    </tr>\n",
       "    <tr>\n",
       "      <th>6</th>\n",
       "      <td>DK</td>\n",
       "      <td>5932654</td>\n",
       "      <td>Denmark</td>\n",
       "    </tr>\n",
       "    <tr>\n",
       "      <th>7</th>\n",
       "      <td>EE</td>\n",
       "      <td>1365884</td>\n",
       "      <td>Estonia</td>\n",
       "    </tr>\n",
       "    <tr>\n",
       "      <th>8</th>\n",
       "      <td>EL</td>\n",
       "      <td>10413982</td>\n",
       "      <td>Greece</td>\n",
       "    </tr>\n",
       "    <tr>\n",
       "      <th>9</th>\n",
       "      <td>ES</td>\n",
       "      <td>48085361</td>\n",
       "      <td>Spain</td>\n",
       "    </tr>\n",
       "    <tr>\n",
       "      <th>11</th>\n",
       "      <td>FI</td>\n",
       "      <td>5563970</td>\n",
       "      <td>Finland</td>\n",
       "    </tr>\n",
       "    <tr>\n",
       "      <th>12</th>\n",
       "      <td>FR</td>\n",
       "      <td>68172977</td>\n",
       "      <td>France</td>\n",
       "    </tr>\n",
       "    <tr>\n",
       "      <th>13</th>\n",
       "      <td>HR</td>\n",
       "      <td>3850894</td>\n",
       "      <td>Croatia</td>\n",
       "    </tr>\n",
       "    <tr>\n",
       "      <th>14</th>\n",
       "      <td>HU</td>\n",
       "      <td>9599744</td>\n",
       "      <td>Hungary</td>\n",
       "    </tr>\n",
       "    <tr>\n",
       "      <th>15</th>\n",
       "      <td>IE</td>\n",
       "      <td>5271395</td>\n",
       "      <td>Ireland</td>\n",
       "    </tr>\n",
       "    <tr>\n",
       "      <th>16</th>\n",
       "      <td>IT</td>\n",
       "      <td>58997201</td>\n",
       "      <td>Italy</td>\n",
       "    </tr>\n",
       "    <tr>\n",
       "      <th>17</th>\n",
       "      <td>LT</td>\n",
       "      <td>2857279</td>\n",
       "      <td>Lithuania</td>\n",
       "    </tr>\n",
       "    <tr>\n",
       "      <th>18</th>\n",
       "      <td>LU</td>\n",
       "      <td>660809</td>\n",
       "      <td>Luxembourg</td>\n",
       "    </tr>\n",
       "    <tr>\n",
       "      <th>19</th>\n",
       "      <td>LV</td>\n",
       "      <td>1883008</td>\n",
       "      <td>Latvia</td>\n",
       "    </tr>\n",
       "    <tr>\n",
       "      <th>20</th>\n",
       "      <td>MT</td>\n",
       "      <td>542051</td>\n",
       "      <td>Malta</td>\n",
       "    </tr>\n",
       "    <tr>\n",
       "      <th>21</th>\n",
       "      <td>NL</td>\n",
       "      <td>17811291</td>\n",
       "      <td>Netherlands</td>\n",
       "    </tr>\n",
       "    <tr>\n",
       "      <th>22</th>\n",
       "      <td>PL</td>\n",
       "      <td>36753736</td>\n",
       "      <td>Poland</td>\n",
       "    </tr>\n",
       "    <tr>\n",
       "      <th>23</th>\n",
       "      <td>PT</td>\n",
       "      <td>10467366</td>\n",
       "      <td>Portugal</td>\n",
       "    </tr>\n",
       "    <tr>\n",
       "      <th>24</th>\n",
       "      <td>RO</td>\n",
       "      <td>19054548</td>\n",
       "      <td>Romania</td>\n",
       "    </tr>\n",
       "    <tr>\n",
       "      <th>25</th>\n",
       "      <td>SE</td>\n",
       "      <td>10521556</td>\n",
       "      <td>Sweden</td>\n",
       "    </tr>\n",
       "    <tr>\n",
       "      <th>26</th>\n",
       "      <td>SI</td>\n",
       "      <td>2116972</td>\n",
       "      <td>Slovenia</td>\n",
       "    </tr>\n",
       "    <tr>\n",
       "      <th>27</th>\n",
       "      <td>SK</td>\n",
       "      <td>5428792</td>\n",
       "      <td>Slovak Republic</td>\n",
       "    </tr>\n",
       "  </tbody>\n",
       "</table>\n",
       "</div>"
      ],
      "text/plain": [
       "   geo  population     country_name\n",
       "0   AT     9104772          Austria\n",
       "1   BE    11742796          Belgium\n",
       "2   BG     6447710         Bulgaria\n",
       "3   CY      920701           Cyprus\n",
       "4   CZ    10827529   Czech Republic\n",
       "5   DE    84358845          Germany\n",
       "6   DK     5932654          Denmark\n",
       "7   EE     1365884          Estonia\n",
       "8   EL    10413982           Greece\n",
       "9   ES    48085361            Spain\n",
       "11  FI     5563970          Finland\n",
       "12  FR    68172977           France\n",
       "13  HR     3850894          Croatia\n",
       "14  HU     9599744          Hungary\n",
       "15  IE     5271395          Ireland\n",
       "16  IT    58997201            Italy\n",
       "17  LT     2857279        Lithuania\n",
       "18  LU      660809       Luxembourg\n",
       "19  LV     1883008           Latvia\n",
       "20  MT      542051            Malta\n",
       "21  NL    17811291      Netherlands\n",
       "22  PL    36753736           Poland\n",
       "23  PT    10467366         Portugal\n",
       "24  RO    19054548          Romania\n",
       "25  SE    10521556           Sweden\n",
       "26  SI     2116972         Slovenia\n",
       "27  SK     5428792  Slovak Republic"
      ]
     },
     "execution_count": 372,
     "metadata": {},
     "output_type": "execute_result"
    }
   ],
   "source": [
    "# rename country code with country full name using map\n",
    "\n",
    "country_codes_dict = {\n",
    "    'AT': 'Austria',\n",
    "    'BE': 'Belgium',\n",
    "    'BG': 'Bulgaria',\n",
    "    'CY': 'Cyprus',\n",
    "    'CZ': 'Czech Republic',\n",
    "    'DE': 'Germany',\n",
    "    'DK': 'Denmark',\n",
    "    'EE': 'Estonia',\n",
    "    'EL': 'Greece',\n",
    "    'ES': 'Spain',\n",
    "    'FI': 'Finland',\n",
    "    'FR': 'France',\n",
    "    'HR': 'Croatia',\n",
    "    'HU': 'Hungary',\n",
    "    'IE': 'Ireland',\n",
    "    'IT': 'Italy',\n",
    "    'LT': 'Lithuania',\n",
    "    'LU': 'Luxembourg',\n",
    "    'LV': 'Latvia',\n",
    "    'MT': 'Malta',\n",
    "    'NL': 'Netherlands',\n",
    "    'PL': 'Poland',\n",
    "    'PT': 'Portugal',\n",
    "    'RO': 'Romania',\n",
    "    'SE': 'Sweden',\n",
    "    'SI': 'Slovenia',\n",
    "    'SK': 'Slovak Republic'}\n",
    "\n",
    "# gender_mapping = {'male': 0, 'female': 1}\n",
    "# df['Gender_mapped'] = df['Sex'].map(gender_mapping)\n",
    "\n",
    "df_population[\"country_name\"] = df_population[\"geo\"].map(country_codes_dict)\n",
    "df_population"
   ]
  },
  {
   "cell_type": "code",
   "execution_count": 373,
   "metadata": {},
   "outputs": [],
   "source": [
    "# add population to RE adoption\n",
    "\n",
    "RE_production_df = RE_production_df.merge(df_population, on='country_name', how='left')"
   ]
  },
  {
   "cell_type": "code",
   "execution_count": 374,
   "metadata": {},
   "outputs": [
    {
     "data": {
      "text/html": [
       "<div>\n",
       "<style scoped>\n",
       "    .dataframe tbody tr th:only-of-type {\n",
       "        vertical-align: middle;\n",
       "    }\n",
       "\n",
       "    .dataframe tbody tr th {\n",
       "        vertical-align: top;\n",
       "    }\n",
       "\n",
       "    .dataframe thead th {\n",
       "        text-align: right;\n",
       "    }\n",
       "</style>\n",
       "<table border=\"1\" class=\"dataframe\">\n",
       "  <thead>\n",
       "    <tr style=\"text-align: right;\">\n",
       "      <th></th>\n",
       "      <th>country_name</th>\n",
       "      <th>year</th>\n",
       "      <th>value_(GWh)</th>\n",
       "      <th>geo</th>\n",
       "      <th>population</th>\n",
       "    </tr>\n",
       "  </thead>\n",
       "  <tbody>\n",
       "    <tr>\n",
       "      <th>0</th>\n",
       "      <td>Austria</td>\n",
       "      <td>2013</td>\n",
       "      <td>51827</td>\n",
       "      <td>AT</td>\n",
       "      <td>9104772</td>\n",
       "    </tr>\n",
       "    <tr>\n",
       "      <th>1</th>\n",
       "      <td>Austria</td>\n",
       "      <td>2014</td>\n",
       "      <td>51369</td>\n",
       "      <td>AT</td>\n",
       "      <td>9104772</td>\n",
       "    </tr>\n",
       "    <tr>\n",
       "      <th>2</th>\n",
       "      <td>Austria</td>\n",
       "      <td>2015</td>\n",
       "      <td>48406</td>\n",
       "      <td>AT</td>\n",
       "      <td>9104772</td>\n",
       "    </tr>\n",
       "    <tr>\n",
       "      <th>3</th>\n",
       "      <td>Austria</td>\n",
       "      <td>2016</td>\n",
       "      <td>51467</td>\n",
       "      <td>AT</td>\n",
       "      <td>9104772</td>\n",
       "    </tr>\n",
       "    <tr>\n",
       "      <th>4</th>\n",
       "      <td>Austria</td>\n",
       "      <td>2017</td>\n",
       "      <td>52450</td>\n",
       "      <td>AT</td>\n",
       "      <td>9104772</td>\n",
       "    </tr>\n",
       "    <tr>\n",
       "      <th>...</th>\n",
       "      <td>...</td>\n",
       "      <td>...</td>\n",
       "      <td>...</td>\n",
       "      <td>...</td>\n",
       "      <td>...</td>\n",
       "    </tr>\n",
       "    <tr>\n",
       "      <th>182</th>\n",
       "      <td>Sweden</td>\n",
       "      <td>2019</td>\n",
       "      <td>98073</td>\n",
       "      <td>SE</td>\n",
       "      <td>10521556</td>\n",
       "    </tr>\n",
       "    <tr>\n",
       "      <th>183</th>\n",
       "      <td>Sweden</td>\n",
       "      <td>2020</td>\n",
       "      <td>111297</td>\n",
       "      <td>SE</td>\n",
       "      <td>10521556</td>\n",
       "    </tr>\n",
       "    <tr>\n",
       "      <th>184</th>\n",
       "      <td>Sweden</td>\n",
       "      <td>2021</td>\n",
       "      <td>114682</td>\n",
       "      <td>SE</td>\n",
       "      <td>10521556</td>\n",
       "    </tr>\n",
       "    <tr>\n",
       "      <th>185</th>\n",
       "      <td>Sweden</td>\n",
       "      <td>2022</td>\n",
       "      <td>120078</td>\n",
       "      <td>SE</td>\n",
       "      <td>10521556</td>\n",
       "    </tr>\n",
       "    <tr>\n",
       "      <th>186</th>\n",
       "      <td>Sweden</td>\n",
       "      <td>2023</td>\n",
       "      <td>112174</td>\n",
       "      <td>SE</td>\n",
       "      <td>10521556</td>\n",
       "    </tr>\n",
       "  </tbody>\n",
       "</table>\n",
       "<p>187 rows × 5 columns</p>\n",
       "</div>"
      ],
      "text/plain": [
       "    country_name  year  value_(GWh) geo  population\n",
       "0        Austria  2013        51827  AT     9104772\n",
       "1        Austria  2014        51369  AT     9104772\n",
       "2        Austria  2015        48406  AT     9104772\n",
       "3        Austria  2016        51467  AT     9104772\n",
       "4        Austria  2017        52450  AT     9104772\n",
       "..           ...   ...          ...  ..         ...\n",
       "182       Sweden  2019        98073  SE    10521556\n",
       "183       Sweden  2020       111297  SE    10521556\n",
       "184       Sweden  2021       114682  SE    10521556\n",
       "185       Sweden  2022       120078  SE    10521556\n",
       "186       Sweden  2023       112174  SE    10521556\n",
       "\n",
       "[187 rows x 5 columns]"
      ]
     },
     "execution_count": 374,
     "metadata": {},
     "output_type": "execute_result"
    }
   ],
   "source": [
    "RE_production_df"
   ]
  },
  {
   "cell_type": "code",
   "execution_count": 375,
   "metadata": {},
   "outputs": [
    {
     "data": {
      "text/plain": [
       "country_name    object\n",
       "year             int64\n",
       "value_(GWh)      int32\n",
       "geo             object\n",
       "population       int64\n",
       "dtype: object"
      ]
     },
     "execution_count": 375,
     "metadata": {},
     "output_type": "execute_result"
    }
   ],
   "source": [
    "RE_production_df.dtypes"
   ]
  },
  {
   "cell_type": "code",
   "execution_count": 376,
   "metadata": {},
   "outputs": [],
   "source": [
    "# convert value type into int64 --> otherwise the calculation results in negative value\n",
    "RE_production_df['value_(GWh)'] = RE_production_df['value_(GWh)'].astype(np.int64)\n",
    "\n",
    "# create a new column to show value per capita\n",
    "RE_production_df[\"value_(kWh/capita)\"] = (RE_production_df[\"value_(GWh)\"] * 1000000 / RE_production_df[\"population\"]).round(0).astype(np.int64) # result will be in kWh/capita\n"
   ]
  },
  {
   "cell_type": "code",
   "execution_count": 377,
   "metadata": {},
   "outputs": [
    {
     "data": {
      "text/plain": [
       "country_name          object\n",
       "year                   int64\n",
       "value_(GWh)            int64\n",
       "geo                   object\n",
       "population             int64\n",
       "value_(kWh/capita)     int64\n",
       "dtype: object"
      ]
     },
     "execution_count": 377,
     "metadata": {},
     "output_type": "execute_result"
    }
   ],
   "source": [
    "RE_production_df.dtypes"
   ]
  },
  {
   "cell_type": "code",
   "execution_count": 378,
   "metadata": {},
   "outputs": [
    {
     "data": {
      "text/html": [
       "<div>\n",
       "<style scoped>\n",
       "    .dataframe tbody tr th:only-of-type {\n",
       "        vertical-align: middle;\n",
       "    }\n",
       "\n",
       "    .dataframe tbody tr th {\n",
       "        vertical-align: top;\n",
       "    }\n",
       "\n",
       "    .dataframe thead th {\n",
       "        text-align: right;\n",
       "    }\n",
       "</style>\n",
       "<table border=\"1\" class=\"dataframe\">\n",
       "  <thead>\n",
       "    <tr style=\"text-align: right;\">\n",
       "      <th></th>\n",
       "      <th>country_name</th>\n",
       "      <th>year</th>\n",
       "      <th>value_(GWh)</th>\n",
       "      <th>geo</th>\n",
       "      <th>population</th>\n",
       "      <th>value_(kWh/capita)</th>\n",
       "    </tr>\n",
       "  </thead>\n",
       "  <tbody>\n",
       "    <tr>\n",
       "      <th>0</th>\n",
       "      <td>Austria</td>\n",
       "      <td>2013</td>\n",
       "      <td>51827</td>\n",
       "      <td>AT</td>\n",
       "      <td>9104772</td>\n",
       "      <td>5692</td>\n",
       "    </tr>\n",
       "    <tr>\n",
       "      <th>1</th>\n",
       "      <td>Austria</td>\n",
       "      <td>2014</td>\n",
       "      <td>51369</td>\n",
       "      <td>AT</td>\n",
       "      <td>9104772</td>\n",
       "      <td>5642</td>\n",
       "    </tr>\n",
       "    <tr>\n",
       "      <th>2</th>\n",
       "      <td>Austria</td>\n",
       "      <td>2015</td>\n",
       "      <td>48406</td>\n",
       "      <td>AT</td>\n",
       "      <td>9104772</td>\n",
       "      <td>5317</td>\n",
       "    </tr>\n",
       "  </tbody>\n",
       "</table>\n",
       "</div>"
      ],
      "text/plain": [
       "  country_name  year  value_(GWh) geo  population  value_(kWh/capita)\n",
       "0      Austria  2013        51827  AT     9104772                5692\n",
       "1      Austria  2014        51369  AT     9104772                5642\n",
       "2      Austria  2015        48406  AT     9104772                5317"
      ]
     },
     "execution_count": 378,
     "metadata": {},
     "output_type": "execute_result"
    }
   ],
   "source": [
    "RE_production_df.head(3)"
   ]
  },
  {
   "cell_type": "code",
   "execution_count": 379,
   "metadata": {},
   "outputs": [],
   "source": [
    "# add population to R&D budget\n",
    "\n",
    "df_RnD_budget_long = df_RnD_budget_long.merge(df_population, on='country_name', how='left')"
   ]
  },
  {
   "cell_type": "code",
   "execution_count": 380,
   "metadata": {},
   "outputs": [
    {
     "data": {
      "text/html": [
       "<div>\n",
       "<style scoped>\n",
       "    .dataframe tbody tr th:only-of-type {\n",
       "        vertical-align: middle;\n",
       "    }\n",
       "\n",
       "    .dataframe tbody tr th {\n",
       "        vertical-align: top;\n",
       "    }\n",
       "\n",
       "    .dataframe thead th {\n",
       "        text-align: right;\n",
       "    }\n",
       "</style>\n",
       "<table border=\"1\" class=\"dataframe\">\n",
       "  <thead>\n",
       "    <tr style=\"text-align: right;\">\n",
       "      <th></th>\n",
       "      <th>country_name</th>\n",
       "      <th>year</th>\n",
       "      <th>budget_(million_Euro)</th>\n",
       "      <th>geo</th>\n",
       "      <th>population</th>\n",
       "    </tr>\n",
       "  </thead>\n",
       "  <tbody>\n",
       "    <tr>\n",
       "      <th>0</th>\n",
       "      <td>Austria</td>\n",
       "      <td>2013</td>\n",
       "      <td>73.902</td>\n",
       "      <td>AT</td>\n",
       "      <td>9104772</td>\n",
       "    </tr>\n",
       "    <tr>\n",
       "      <th>1</th>\n",
       "      <td>Belgium</td>\n",
       "      <td>2013</td>\n",
       "      <td>64.807</td>\n",
       "      <td>BE</td>\n",
       "      <td>11742796</td>\n",
       "    </tr>\n",
       "    <tr>\n",
       "      <th>2</th>\n",
       "      <td>Czech Republic</td>\n",
       "      <td>2013</td>\n",
       "      <td>3.439</td>\n",
       "      <td>CZ</td>\n",
       "      <td>10827529</td>\n",
       "    </tr>\n",
       "    <tr>\n",
       "      <th>3</th>\n",
       "      <td>Denmark</td>\n",
       "      <td>2013</td>\n",
       "      <td>40.110</td>\n",
       "      <td>DK</td>\n",
       "      <td>5932654</td>\n",
       "    </tr>\n",
       "    <tr>\n",
       "      <th>4</th>\n",
       "      <td>Estonia</td>\n",
       "      <td>2013</td>\n",
       "      <td>2.473</td>\n",
       "      <td>EE</td>\n",
       "      <td>1365884</td>\n",
       "    </tr>\n",
       "    <tr>\n",
       "      <th>...</th>\n",
       "      <td>...</td>\n",
       "      <td>...</td>\n",
       "      <td>...</td>\n",
       "      <td>...</td>\n",
       "      <td>...</td>\n",
       "    </tr>\n",
       "    <tr>\n",
       "      <th>182</th>\n",
       "      <td>Poland</td>\n",
       "      <td>2023</td>\n",
       "      <td>19.410</td>\n",
       "      <td>PL</td>\n",
       "      <td>36753736</td>\n",
       "    </tr>\n",
       "    <tr>\n",
       "      <th>183</th>\n",
       "      <td>Portugal</td>\n",
       "      <td>2023</td>\n",
       "      <td>32.196</td>\n",
       "      <td>PT</td>\n",
       "      <td>10467366</td>\n",
       "    </tr>\n",
       "    <tr>\n",
       "      <th>184</th>\n",
       "      <td>Slovak Republic</td>\n",
       "      <td>2023</td>\n",
       "      <td>8.820</td>\n",
       "      <td>SK</td>\n",
       "      <td>5428792</td>\n",
       "    </tr>\n",
       "    <tr>\n",
       "      <th>185</th>\n",
       "      <td>Spain</td>\n",
       "      <td>2023</td>\n",
       "      <td>368.924</td>\n",
       "      <td>ES</td>\n",
       "      <td>48085361</td>\n",
       "    </tr>\n",
       "    <tr>\n",
       "      <th>186</th>\n",
       "      <td>Sweden</td>\n",
       "      <td>2023</td>\n",
       "      <td>133.763</td>\n",
       "      <td>SE</td>\n",
       "      <td>10521556</td>\n",
       "    </tr>\n",
       "  </tbody>\n",
       "</table>\n",
       "<p>187 rows × 5 columns</p>\n",
       "</div>"
      ],
      "text/plain": [
       "        country_name  year  budget_(million_Euro) geo  population\n",
       "0            Austria  2013                 73.902  AT     9104772\n",
       "1            Belgium  2013                 64.807  BE    11742796\n",
       "2     Czech Republic  2013                  3.439  CZ    10827529\n",
       "3            Denmark  2013                 40.110  DK     5932654\n",
       "4            Estonia  2013                  2.473  EE     1365884\n",
       "..               ...   ...                    ...  ..         ...\n",
       "182           Poland  2023                 19.410  PL    36753736\n",
       "183         Portugal  2023                 32.196  PT    10467366\n",
       "184  Slovak Republic  2023                  8.820  SK     5428792\n",
       "185            Spain  2023                368.924  ES    48085361\n",
       "186           Sweden  2023                133.763  SE    10521556\n",
       "\n",
       "[187 rows x 5 columns]"
      ]
     },
     "execution_count": 380,
     "metadata": {},
     "output_type": "execute_result"
    }
   ],
   "source": [
    "df_RnD_budget_long"
   ]
  },
  {
   "cell_type": "code",
   "execution_count": 381,
   "metadata": {},
   "outputs": [
    {
     "data": {
      "text/plain": [
       "country_name              object\n",
       "year                       int64\n",
       "budget_(million_Euro)    float64\n",
       "geo                       object\n",
       "population                 int64\n",
       "dtype: object"
      ]
     },
     "execution_count": 381,
     "metadata": {},
     "output_type": "execute_result"
    }
   ],
   "source": [
    "df_RnD_budget_long.dtypes"
   ]
  },
  {
   "cell_type": "code",
   "execution_count": 382,
   "metadata": {},
   "outputs": [],
   "source": [
    "# create a new column to show value per capita\n",
    "\n",
    "df_RnD_budget_long[\"budget_(Euro/capita)\"] = (df_RnD_budget_long[\"budget_(million_Euro)\"] * 1000000 / df_RnD_budget_long[\"population\"]).round(0).astype(np.int64) # result will be in Euro/capita\n"
   ]
  },
  {
   "cell_type": "code",
   "execution_count": 383,
   "metadata": {},
   "outputs": [
    {
     "data": {
      "text/html": [
       "<div>\n",
       "<style scoped>\n",
       "    .dataframe tbody tr th:only-of-type {\n",
       "        vertical-align: middle;\n",
       "    }\n",
       "\n",
       "    .dataframe tbody tr th {\n",
       "        vertical-align: top;\n",
       "    }\n",
       "\n",
       "    .dataframe thead th {\n",
       "        text-align: right;\n",
       "    }\n",
       "</style>\n",
       "<table border=\"1\" class=\"dataframe\">\n",
       "  <thead>\n",
       "    <tr style=\"text-align: right;\">\n",
       "      <th></th>\n",
       "      <th>country_name</th>\n",
       "      <th>year</th>\n",
       "      <th>budget_(million_Euro)</th>\n",
       "      <th>geo</th>\n",
       "      <th>population</th>\n",
       "      <th>budget_(Euro/capita)</th>\n",
       "    </tr>\n",
       "  </thead>\n",
       "  <tbody>\n",
       "    <tr>\n",
       "      <th>0</th>\n",
       "      <td>Austria</td>\n",
       "      <td>2013</td>\n",
       "      <td>73.902</td>\n",
       "      <td>AT</td>\n",
       "      <td>9104772</td>\n",
       "      <td>8</td>\n",
       "    </tr>\n",
       "    <tr>\n",
       "      <th>1</th>\n",
       "      <td>Belgium</td>\n",
       "      <td>2013</td>\n",
       "      <td>64.807</td>\n",
       "      <td>BE</td>\n",
       "      <td>11742796</td>\n",
       "      <td>6</td>\n",
       "    </tr>\n",
       "    <tr>\n",
       "      <th>2</th>\n",
       "      <td>Czech Republic</td>\n",
       "      <td>2013</td>\n",
       "      <td>3.439</td>\n",
       "      <td>CZ</td>\n",
       "      <td>10827529</td>\n",
       "      <td>0</td>\n",
       "    </tr>\n",
       "    <tr>\n",
       "      <th>3</th>\n",
       "      <td>Denmark</td>\n",
       "      <td>2013</td>\n",
       "      <td>40.110</td>\n",
       "      <td>DK</td>\n",
       "      <td>5932654</td>\n",
       "      <td>7</td>\n",
       "    </tr>\n",
       "    <tr>\n",
       "      <th>4</th>\n",
       "      <td>Estonia</td>\n",
       "      <td>2013</td>\n",
       "      <td>2.473</td>\n",
       "      <td>EE</td>\n",
       "      <td>1365884</td>\n",
       "      <td>2</td>\n",
       "    </tr>\n",
       "    <tr>\n",
       "      <th>...</th>\n",
       "      <td>...</td>\n",
       "      <td>...</td>\n",
       "      <td>...</td>\n",
       "      <td>...</td>\n",
       "      <td>...</td>\n",
       "      <td>...</td>\n",
       "    </tr>\n",
       "    <tr>\n",
       "      <th>182</th>\n",
       "      <td>Poland</td>\n",
       "      <td>2023</td>\n",
       "      <td>19.410</td>\n",
       "      <td>PL</td>\n",
       "      <td>36753736</td>\n",
       "      <td>1</td>\n",
       "    </tr>\n",
       "    <tr>\n",
       "      <th>183</th>\n",
       "      <td>Portugal</td>\n",
       "      <td>2023</td>\n",
       "      <td>32.196</td>\n",
       "      <td>PT</td>\n",
       "      <td>10467366</td>\n",
       "      <td>3</td>\n",
       "    </tr>\n",
       "    <tr>\n",
       "      <th>184</th>\n",
       "      <td>Slovak Republic</td>\n",
       "      <td>2023</td>\n",
       "      <td>8.820</td>\n",
       "      <td>SK</td>\n",
       "      <td>5428792</td>\n",
       "      <td>2</td>\n",
       "    </tr>\n",
       "    <tr>\n",
       "      <th>185</th>\n",
       "      <td>Spain</td>\n",
       "      <td>2023</td>\n",
       "      <td>368.924</td>\n",
       "      <td>ES</td>\n",
       "      <td>48085361</td>\n",
       "      <td>8</td>\n",
       "    </tr>\n",
       "    <tr>\n",
       "      <th>186</th>\n",
       "      <td>Sweden</td>\n",
       "      <td>2023</td>\n",
       "      <td>133.763</td>\n",
       "      <td>SE</td>\n",
       "      <td>10521556</td>\n",
       "      <td>13</td>\n",
       "    </tr>\n",
       "  </tbody>\n",
       "</table>\n",
       "<p>187 rows × 6 columns</p>\n",
       "</div>"
      ],
      "text/plain": [
       "        country_name  year  budget_(million_Euro) geo  population  \\\n",
       "0            Austria  2013                 73.902  AT     9104772   \n",
       "1            Belgium  2013                 64.807  BE    11742796   \n",
       "2     Czech Republic  2013                  3.439  CZ    10827529   \n",
       "3            Denmark  2013                 40.110  DK     5932654   \n",
       "4            Estonia  2013                  2.473  EE     1365884   \n",
       "..               ...   ...                    ...  ..         ...   \n",
       "182           Poland  2023                 19.410  PL    36753736   \n",
       "183         Portugal  2023                 32.196  PT    10467366   \n",
       "184  Slovak Republic  2023                  8.820  SK     5428792   \n",
       "185            Spain  2023                368.924  ES    48085361   \n",
       "186           Sweden  2023                133.763  SE    10521556   \n",
       "\n",
       "     budget_(Euro/capita)  \n",
       "0                       8  \n",
       "1                       6  \n",
       "2                       0  \n",
       "3                       7  \n",
       "4                       2  \n",
       "..                    ...  \n",
       "182                     1  \n",
       "183                     3  \n",
       "184                     2  \n",
       "185                     8  \n",
       "186                    13  \n",
       "\n",
       "[187 rows x 6 columns]"
      ]
     },
     "execution_count": 383,
     "metadata": {},
     "output_type": "execute_result"
    }
   ],
   "source": [
    "df_RnD_budget_long"
   ]
  },
  {
   "cell_type": "markdown",
   "metadata": {},
   "source": [
    "## Visualization per capita"
   ]
  },
  {
   "cell_type": "code",
   "execution_count": 384,
   "metadata": {},
   "outputs": [
    {
     "name": "stderr",
     "output_type": "stream",
     "text": [
      "c:\\Users\\erlin\\anaconda3\\Lib\\site-packages\\seaborn\\_oldcore.py:1119: FutureWarning:\n",
      "\n",
      "use_inf_as_na option is deprecated and will be removed in a future version. Convert inf values to NaN before operating instead.\n",
      "\n",
      "c:\\Users\\erlin\\anaconda3\\Lib\\site-packages\\seaborn\\_oldcore.py:1119: FutureWarning:\n",
      "\n",
      "use_inf_as_na option is deprecated and will be removed in a future version. Convert inf values to NaN before operating instead.\n",
      "\n"
     ]
    },
    {
     "data": {
      "image/png": "[encoded data removed]",
      "text/plain": [
       "<Figure size 1000x600 with 1 Axes>"
      ]
     },
     "metadata": {},
     "output_type": "display_data"
    }
   ],
   "source": [
    "import seaborn as sns\n",
    "import matplotlib.pyplot as plt\n",
    "from adjustText import adjust_text\n",
    "\n",
    "# visualize Renewable Energy adoption of every country\n",
    "\n",
    "# initialize the plot\n",
    "plt.figure(figsize=(10,6))\n",
    "\n",
    "# plot each country's data\n",
    "sns.lineplot(data=RE_production_df, x=RE_production_df[\"year\"], y=RE_production_df[\"value_(kWh/capita)\"], hue=RE_production_df[\"country_name\"], marker='o')\n",
    "\n",
    "plt.title('Renewable Energy Adoption per Capita in The Past 10 years')\n",
    "plt.xlabel('Year')\n",
    "plt.ylabel('Energy production (kWh/capita)')\n",
    "plt.legend(title='Country', bbox_to_anchor=(1.05, 1), loc='upper left')\n",
    "plt.grid(True)\n",
    "\n",
    "# Set x-axis ticks to show every year\n",
    "plt.xticks(ticks=range(RE_production_df['year'].min(), RE_production_df['year'].max() + 1))\n",
    "\n",
    "# Adjusting text annotations\n",
    "texts = []\n",
    "for country in RE_production_df['country_name'].unique():\n",
    "    # Select the last year data point for each country to place the annotation\n",
    "    subset = RE_production_df[RE_production_df['country_name'] == country]\n",
    "    x = subset['year'].max()\n",
    "    y = subset[subset['year'] == x]['value_(kWh/capita)'].values[0]\n",
    "    texts.append(plt.text(x, y, country, fontsize=9, ha='right'))\n",
    "\n",
    "adjust_text(texts, arrowprops=dict(arrowstyle='->', color='gray'))\n",
    "\n",
    "plt.show()"
   ]
  },
  {
   "cell_type": "markdown",
   "metadata": {},
   "source": [
    "### Taking 5 top countries for RE adoption plot"
   ]
  },
  {
   "cell_type": "code",
   "execution_count": 385,
   "metadata": {},
   "outputs": [],
   "source": [
    "top_6_countries = [\"Sweden\", \"Finland\", \"Austria\", \"Denmark\", \"Portugal\", \"Germany\"]\n",
    "RE_production_df_top_6 = RE_production_df[RE_production_df[\"country_name\"].isin(top_6_countries)].reset_index(drop=True)"
   ]
  },
  {
   "cell_type": "code",
   "execution_count": 386,
   "metadata": {},
   "outputs": [
    {
     "name": "stderr",
     "output_type": "stream",
     "text": [
      "c:\\Users\\erlin\\anaconda3\\Lib\\site-packages\\seaborn\\_oldcore.py:1119: FutureWarning:\n",
      "\n",
      "use_inf_as_na option is deprecated and will be removed in a future version. Convert inf values to NaN before operating instead.\n",
      "\n",
      "c:\\Users\\erlin\\anaconda3\\Lib\\site-packages\\seaborn\\_oldcore.py:1119: FutureWarning:\n",
      "\n",
      "use_inf_as_na option is deprecated and will be removed in a future version. Convert inf values to NaN before operating instead.\n",
      "\n"
     ]
    },
    {
     "data": {
      "image/png": "[encoded data removed]",
      "text/plain": [
       "<Figure size 1000x600 with 1 Axes>"
      ]
     },
     "metadata": {},
     "output_type": "display_data"
    }
   ],
   "source": [
    "# visualize Renewable Energy adoption of every country\n",
    "\n",
    "# initialize the plot\n",
    "plt.figure(figsize=(10,6))\n",
    "\n",
    "# plot each country's data\n",
    "sns.lineplot(data=RE_production_df_top_6, x=RE_production_df_top_6[\"year\"], y=RE_production_df_top_6[\"value_(kWh/capita)\"], hue=RE_production_df_top_6[\"country_name\"], marker='o')\n",
    "\n",
    "plt.title('Renewable Energy Adoption per Capita in The Past 10 years')\n",
    "plt.xlabel('Year')\n",
    "plt.ylabel('Energy production (kWh/capita)')\n",
    "plt.legend(title='Country', bbox_to_anchor=(1.05, 1), loc='upper left')\n",
    "plt.grid(True)\n",
    "\n",
    "# Set x-axis ticks to show every year\n",
    "plt.xticks(ticks=range(RE_production_df_top_6['year'].min(), RE_production_df_top_6['year'].max() + 1))\n",
    "\n",
    "# Adjusting text annotations\n",
    "texts = []\n",
    "for country in RE_production_df_top_6['country_name'].unique():\n",
    "    # Select the last year data point for each country to place the annotation\n",
    "    subset = RE_production_df_top_6[RE_production_df_top_6['country_name'] == country]\n",
    "    x = subset['year'].max()\n",
    "    y = subset[subset['year'] == x]['value_(kWh/capita)'].values[0]\n",
    "    texts.append(plt.text(x, y, country, fontsize=9, ha='right'))\n",
    "\n",
    "adjust_text(texts, arrowprops=dict(arrowstyle='->', color='gray'))\n",
    "\n",
    "plt.show()"
   ]
  },
  {
   "cell_type": "code",
   "execution_count": 387,
   "metadata": {},
   "outputs": [
    {
     "name": "stderr",
     "output_type": "stream",
     "text": [
      "c:\\Users\\erlin\\anaconda3\\Lib\\site-packages\\seaborn\\_oldcore.py:1119: FutureWarning:\n",
      "\n",
      "use_inf_as_na option is deprecated and will be removed in a future version. Convert inf values to NaN before operating instead.\n",
      "\n",
      "c:\\Users\\erlin\\anaconda3\\Lib\\site-packages\\seaborn\\_oldcore.py:1119: FutureWarning:\n",
      "\n",
      "use_inf_as_na option is deprecated and will be removed in a future version. Convert inf values to NaN before operating instead.\n",
      "\n"
     ]
    },
    {
     "data": {
      "image/png": "[encoded data removed]",
      "text/plain": [
       "<Figure size 1000x600 with 1 Axes>"
      ]
     },
     "metadata": {},
     "output_type": "display_data"
    }
   ],
   "source": [
    "# visualize R&D budget over years by country\n",
    "\n",
    "# initialize the plot\n",
    "plt.figure(figsize=(10,6))\n",
    "\n",
    "# plot each country's data\n",
    "sns.lineplot(data=df_RnD_budget_long, x=df_RnD_budget_long[\"year\"], y=df_RnD_budget_long[\"budget_(Euro/capita)\"], hue=df_RnD_budget_long[\"country_name\"], marker='o')\n",
    "\n",
    "plt.title('R&D Budget per Capita in The Past 10 years')\n",
    "plt.xlabel('Year')\n",
    "plt.ylabel('Budget (Euro/capita)')\n",
    "plt.legend(title='Country', bbox_to_anchor=(1.05, 1), loc='upper left')\n",
    "plt.grid(True)\n",
    "\n",
    "# Set x-axis ticks to show every year\n",
    "plt.xticks(ticks=range(df_RnD_budget_long['year'].min(), df_RnD_budget_long['year'].max() + 1))\n",
    "\n",
    "# Adjusting text annotations\n",
    "texts = []\n",
    "for country in df_RnD_budget_long['country_name'].unique():\n",
    "    # Select the last year data point for each country to place the annotation\n",
    "    subset = df_RnD_budget_long[df_RnD_budget_long['country_name'] == country]\n",
    "    x = subset['year'].max()\n",
    "    y = subset[subset['year'] == x]['budget_(Euro/capita)'].values[0]\n",
    "    texts.append(plt.text(x, y, country, fontsize=9, ha='right'))\n",
    "\n",
    "adjust_text(texts, arrowprops=dict(arrowstyle='->', color='gray'))\n",
    "\n",
    "plt.show()"
   ]
  },
  {
   "cell_type": "markdown",
   "metadata": {},
   "source": [
    "### Taking top 6 countries from R&D budget plot"
   ]
  },
  {
   "cell_type": "code",
   "execution_count": 388,
   "metadata": {},
   "outputs": [],
   "source": [
    "top_6_countries = [\"Sweden\", \"Finland\", \"Austria\", \"Denmark\", \"Portugal\", \"Germany\"]\n",
    "df_RnD_budget_long_top_6 = df_RnD_budget_long[df_RnD_budget_long[\"country_name\"].isin(top_6_countries)].reset_index(drop=True)"
   ]
  },
  {
   "cell_type": "code",
   "execution_count": 389,
   "metadata": {},
   "outputs": [
    {
     "name": "stderr",
     "output_type": "stream",
     "text": [
      "c:\\Users\\erlin\\anaconda3\\Lib\\site-packages\\seaborn\\_oldcore.py:1119: FutureWarning:\n",
      "\n",
      "use_inf_as_na option is deprecated and will be removed in a future version. Convert inf values to NaN before operating instead.\n",
      "\n",
      "c:\\Users\\erlin\\anaconda3\\Lib\\site-packages\\seaborn\\_oldcore.py:1119: FutureWarning:\n",
      "\n",
      "use_inf_as_na option is deprecated and will be removed in a future version. Convert inf values to NaN before operating instead.\n",
      "\n"
     ]
    },
    {
     "data": {
      "image/png": "[encoded data removed]",
      "text/plain": [
       "<Figure size 1000x600 with 1 Axes>"
      ]
     },
     "metadata": {},
     "output_type": "display_data"
    }
   ],
   "source": [
    "# visualize R&D budget over years by country\n",
    "\n",
    "# initialize the plot\n",
    "plt.figure(figsize=(10,6))\n",
    "\n",
    "# plot each country's data\n",
    "sns.lineplot(data=df_RnD_budget_long_top_6, x=df_RnD_budget_long_top_6[\"year\"], y=df_RnD_budget_long_top_6[\"budget_(Euro/capita)\"], hue=df_RnD_budget_long_top_6[\"country_name\"], marker='o')\n",
    "\n",
    "plt.title('R&D Budget per Capita in The Past 10 years')\n",
    "plt.xlabel('Year')\n",
    "plt.ylabel('Budget (Euro/capita)')\n",
    "plt.legend(title='Country', bbox_to_anchor=(1.05, 1), loc='upper left')\n",
    "plt.grid(True)\n",
    "\n",
    "# Set x-axis ticks to show every year\n",
    "plt.xticks(ticks=range(df_RnD_budget_long_top_6['year'].min(), df_RnD_budget_long_top_6['year'].max() + 1))\n",
    "\n",
    "# Adjusting text annotations\n",
    "texts = []\n",
    "for country in df_RnD_budget_long_top_6['country_name'].unique():\n",
    "    # Select the last year data point for each country to place the annotation\n",
    "    subset = df_RnD_budget_long_top_6[df_RnD_budget_long_top_6['country_name'] == country]\n",
    "    x = subset['year'].max()\n",
    "    y = subset[subset['year'] == x][\"budget_(Euro/capita)\"].values[0]\n",
    "    texts.append(plt.text(x, y, country, fontsize=9, ha='right'))\n",
    "\n",
    "adjust_text(texts, arrowprops=dict(arrowstyle='->', color='gray'))\n",
    "\n",
    "plt.show()"
   ]
  },
  {
   "cell_type": "markdown",
   "metadata": {},
   "source": [
    "### Correlation between RE adoption and R&D budget"
   ]
  },
  {
   "cell_type": "code",
   "execution_count": 390,
   "metadata": {},
   "outputs": [
    {
     "data": {
      "text/html": [
       "<div>\n",
       "<style scoped>\n",
       "    .dataframe tbody tr th:only-of-type {\n",
       "        vertical-align: middle;\n",
       "    }\n",
       "\n",
       "    .dataframe tbody tr th {\n",
       "        vertical-align: top;\n",
       "    }\n",
       "\n",
       "    .dataframe thead th {\n",
       "        text-align: right;\n",
       "    }\n",
       "</style>\n",
       "<table border=\"1\" class=\"dataframe\">\n",
       "  <thead>\n",
       "    <tr style=\"text-align: right;\">\n",
       "      <th></th>\n",
       "      <th>country_name</th>\n",
       "      <th>year</th>\n",
       "      <th>value_(GWh)</th>\n",
       "      <th>geo</th>\n",
       "      <th>population</th>\n",
       "      <th>value_(kWh/capita)</th>\n",
       "      <th>budget_(million_Euro)</th>\n",
       "      <th>budget_(Euro/capita)</th>\n",
       "    </tr>\n",
       "  </thead>\n",
       "  <tbody>\n",
       "    <tr>\n",
       "      <th>0</th>\n",
       "      <td>Austria</td>\n",
       "      <td>2013</td>\n",
       "      <td>51827</td>\n",
       "      <td>AT</td>\n",
       "      <td>9104772</td>\n",
       "      <td>5692</td>\n",
       "      <td>73.902</td>\n",
       "      <td>8</td>\n",
       "    </tr>\n",
       "    <tr>\n",
       "      <th>1</th>\n",
       "      <td>Austria</td>\n",
       "      <td>2014</td>\n",
       "      <td>51369</td>\n",
       "      <td>AT</td>\n",
       "      <td>9104772</td>\n",
       "      <td>5642</td>\n",
       "      <td>80.348</td>\n",
       "      <td>9</td>\n",
       "    </tr>\n",
       "    <tr>\n",
       "      <th>2</th>\n",
       "      <td>Austria</td>\n",
       "      <td>2015</td>\n",
       "      <td>48406</td>\n",
       "      <td>AT</td>\n",
       "      <td>9104772</td>\n",
       "      <td>5317</td>\n",
       "      <td>72.471</td>\n",
       "      <td>8</td>\n",
       "    </tr>\n",
       "    <tr>\n",
       "      <th>3</th>\n",
       "      <td>Austria</td>\n",
       "      <td>2016</td>\n",
       "      <td>51467</td>\n",
       "      <td>AT</td>\n",
       "      <td>9104772</td>\n",
       "      <td>5653</td>\n",
       "      <td>82.885</td>\n",
       "      <td>9</td>\n",
       "    </tr>\n",
       "    <tr>\n",
       "      <th>4</th>\n",
       "      <td>Austria</td>\n",
       "      <td>2017</td>\n",
       "      <td>52450</td>\n",
       "      <td>AT</td>\n",
       "      <td>9104772</td>\n",
       "      <td>5761</td>\n",
       "      <td>81.356</td>\n",
       "      <td>9</td>\n",
       "    </tr>\n",
       "  </tbody>\n",
       "</table>\n",
       "</div>"
      ],
      "text/plain": [
       "  country_name  year  value_(GWh) geo  population  value_(kWh/capita)  \\\n",
       "0      Austria  2013        51827  AT     9104772                5692   \n",
       "1      Austria  2014        51369  AT     9104772                5642   \n",
       "2      Austria  2015        48406  AT     9104772                5317   \n",
       "3      Austria  2016        51467  AT     9104772                5653   \n",
       "4      Austria  2017        52450  AT     9104772                5761   \n",
       "\n",
       "   budget_(million_Euro)  budget_(Euro/capita)  \n",
       "0                 73.902                     8  \n",
       "1                 80.348                     9  \n",
       "2                 72.471                     8  \n",
       "3                 82.885                     9  \n",
       "4                 81.356                     9  "
      ]
     },
     "execution_count": 390,
     "metadata": {},
     "output_type": "execute_result"
    }
   ],
   "source": [
    "# First we need to merge both dataframes\n",
    "\n",
    "merged_df = pd.merge(RE_production_df, df_RnD_budget_long, on=[\"country_name\", \"year\", \"geo\", \"population\"])\n",
    "merged_df.head()"
   ]
  },
  {
   "cell_type": "code",
   "execution_count": 391,
   "metadata": {},
   "outputs": [
    {
     "data": {
      "application/vnd.plotly.v1+json": {
       "config": {
        "plotlyServerURL": "https://plot.ly"
       },
       "data": [
        {
         "hovertemplate": "budget_(Euro/capita)=%{x}<br>value_(kWh/capita)=%{y}<br>country_name=%{text}<br>year=%{marker.color}<extra></extra>",
         "legendgroup": "",
         "marker": {
          "color": [
           2013,
           2014,
           2015,
           2016,
           2017,
           2018,
           2019,
           2020,
           2021,
           2022,
           2023,
           2013,
           2014,
           2015,
           2016,
           2017,
           2018,
           2019,
           2020,
           2021,
           2022,
           2023,
           2013,
           2014,
           2015,
           2016,
           2017,
           2018,
           2019,
           2020,
           2021,
           2022,
           2023,
           2013,
           2014,
           2015,
           2016,
           2017,
           2018,
           2019,
           2020,
           2021,
           2022,
           2023,
           2013,
           2014,
           2015,
           2016,
           2017,
           2018,
           2019,
           2020,
           2021,
           2022,
           2023,
           2013,
           2014,
           2015,
           2016,
           2017,
           2018,
           2019,
           2020,
           2021,
           2022,
           2023,
           2013,
           2014,
           2015,
           2016,
           2017,
           2018,
           2019,
           2020,
           2021,
           2022,
           2023,
           2013,
           2014,
           2015,
           2016,
           2017,
           2018,
           2019,
           2020,
           2021,
           2022,
           2023,
           2013,
           2014,
           2015,
           2016,
           2017,
           2018,
           2019,
           2020,
           2021,
           2022,
           2023,
           2013,
           2014,
           2015,
           2016,
           2017,
           2018,
           2019,
           2020,
           2021,
           2022,
           2023,
           2013,
           2014,
           2015,
           2016,
           2017,
           2018,
           2019,
           2020,
           2021,
           2022,
           2023,
           2013,
           2014,
           2015,
           2016,
           2017,
           2018,
           2019,
           2020,
           2021,
           2022,
           2023,
           2013,
           2014,
           2015,
           2016,
           2017,
           2018,
           2019,
           2020,
           2021,
           2022,
           2023,
           2013,
           2014,
           2015,
           2016,
           2017,
           2018,
           2019,
           2020,
           2021,
           2022,
           2023,
           2013,
           2014,
           2015,
           2016,
           2017,
           2018,
           2019,
           2020,
           2021,
           2022,
           2023,
           2013,
           2014,
           2015,
           2016,
           2017,
           2018,
           2019,
           2020,
           2021,
           2022,
           2023,
           2013,
           2014,
           2015,
           2016,
           2017,
           2018,
           2019,
           2020,
           2021,
           2022,
           2023
          ],
          "coloraxis": "coloraxis",
          "symbol": "circle"
         },
         "mode": "markers+text",
         "name": "",
         "orientation": "v",
         "showlegend": false,
         "text": [
          "Austria",
          "Austria",
          "Austria",
          "Austria",
          "Austria",
          "Austria",
          "Austria",
          "Austria",
          "Austria",
          "Austria",
          "Austria",
          "Belgium",
          "Belgium",
          "Belgium",
          "Belgium",
          "Belgium",
          "Belgium",
          "Belgium",
          "Belgium",
          "Belgium",
          "Belgium",
          "Belgium",
          "Czech Republic",
          "Czech Republic",
          "Czech Republic",
          "Czech Republic",
          "Czech Republic",
          "Czech Republic",
          "Czech Republic",
          "Czech Republic",
          "Czech Republic",
          "Czech Republic",
          "Czech Republic",
          "Denmark",
          "Denmark",
          "Denmark",
          "Denmark",
          "Denmark",
          "Denmark",
          "Denmark",
          "Denmark",
          "Denmark",
          "Denmark",
          "Denmark",
          "Estonia",
          "Estonia",
          "Estonia",
          "Estonia",
          "Estonia",
          "Estonia",
          "Estonia",
          "Estonia",
          "Estonia",
          "Estonia",
          "Estonia",
          "Finland",
          "Finland",
          "Finland",
          "Finland",
          "Finland",
          "Finland",
          "Finland",
          "Finland",
          "Finland",
          "Finland",
          "Finland",
          "France",
          "France",
          "France",
          "France",
          "France",
          "France",
          "France",
          "France",
          "France",
          "France",
          "France",
          "Germany",
          "Germany",
          "Germany",
          "Germany",
          "Germany",
          "Germany",
          "Germany",
          "Germany",
          "Germany",
          "Germany",
          "Germany",
          "Hungary",
          "Hungary",
          "Hungary",
          "Hungary",
          "Hungary",
          "Hungary",
          "Hungary",
          "Hungary",
          "Hungary",
          "Hungary",
          "Hungary",
          "Ireland",
          "Ireland",
          "Ireland",
          "Ireland",
          "Ireland",
          "Ireland",
          "Ireland",
          "Ireland",
          "Ireland",
          "Ireland",
          "Ireland",
          "Italy",
          "Italy",
          "Italy",
          "Italy",
          "Italy",
          "Italy",
          "Italy",
          "Italy",
          "Italy",
          "Italy",
          "Italy",
          "Netherlands",
          "Netherlands",
          "Netherlands",
          "Netherlands",
          "Netherlands",
          "Netherlands",
          "Netherlands",
          "Netherlands",
          "Netherlands",
          "Netherlands",
          "Netherlands",
          "Poland",
          "Poland",
          "Poland",
          "Poland",
          "Poland",
          "Poland",
          "Poland",
          "Poland",
          "Poland",
          "Poland",
          "Poland",
          "Portugal",
          "Portugal",
          "Portugal",
          "Portugal",
          "Portugal",
          "Portugal",
          "Portugal",
          "Portugal",
          "Portugal",
          "Portugal",
          "Portugal",
          "Slovak Republic",
          "Slovak Republic",
          "Slovak Republic",
          "Slovak Republic",
          "Slovak Republic",
          "Slovak Republic",
          "Slovak Republic",
          "Slovak Republic",
          "Slovak Republic",
          "Slovak Republic",
          "Slovak Republic",
          "Spain",
          "Spain",
          "Spain",
          "Spain",
          "Spain",
          "Spain",
          "Spain",
          "Spain",
          "Spain",
          "Spain",
          "Spain",
          "Sweden",
          "Sweden",
          "Sweden",
          "Sweden",
          "Sweden",
          "Sweden",
          "Sweden",
          "Sweden",
          "Sweden",
          "Sweden",
          "Sweden"
         ],
         "textposition": "top center",
         "type": "scatter",
         "x": [
          8,
          9,
          8,
          9,
          9,
          9,
          10,
          10,
          12,
          13,
          13,
          6,
          5,
          6,
          5,
          4,
          6,
          7,
          12,
          3,
          10,
          8,
          0,
          0,
          1,
          1,
          1,
          1,
          2,
          1,
          3,
          3,
          2,
          7,
          9,
          6,
          4,
          4,
          2,
          5,
          6,
          4,
          3,
          4,
          2,
          1,
          3,
          1,
          3,
          2,
          1,
          1,
          0,
          2,
          0,
          26,
          29,
          30,
          23,
          23,
          20,
          19,
          15,
          15,
          17,
          17,
          4,
          4,
          4,
          4,
          3,
          4,
          3,
          5,
          4,
          6,
          6,
          3,
          2,
          2,
          2,
          2,
          2,
          3,
          3,
          3,
          2,
          2,
          0,
          0,
          1,
          1,
          6,
          1,
          1,
          1,
          3,
          0,
          0,
          1,
          1,
          0,
          0,
          0,
          1,
          1,
          1,
          1,
          1,
          1,
          1,
          1,
          1,
          1,
          1,
          1,
          2,
          2,
          2,
          2,
          2,
          4,
          3,
          3,
          4,
          4,
          4,
          9,
          10,
          15,
          6,
          6,
          1,
          1,
          0,
          0,
          0,
          0,
          0,
          1,
          1,
          1,
          1,
          0,
          0,
          0,
          0,
          0,
          0,
          2,
          3,
          3,
          3,
          3,
          0,
          1,
          0,
          0,
          0,
          1,
          1,
          1,
          2,
          1,
          2,
          0,
          0,
          0,
          0,
          0,
          0,
          1,
          0,
          4,
          8,
          8,
          7,
          6,
          5,
          7,
          8,
          10,
          7,
          10,
          13,
          13,
          13
         ],
         "xaxis": "x",
         "y": [
          5692,
          5642,
          5317,
          5653,
          5761,
          5613,
          6103,
          6191,
          5976,
          5630,
          6309,
          1085,
          1124,
          1304,
          1283,
          1409,
          1516,
          1698,
          2051,
          1979,
          2106,
          2313,
          898,
          895,
          935,
          927,
          943,
          917,
          985,
          1023,
          1046,
          1017,
          1020,
          2641,
          2978,
          3141,
          3030,
          3580,
          3432,
          3822,
          3876,
          4292,
          5046,
          5196,
          838,
          950,
          1023,
          1059,
          1237,
          1341,
          1418,
          1967,
          1949,
          2111,
          1526,
          4462,
          4585,
          5349,
          5320,
          5513,
          5613,
          5567,
          6249,
          6637,
          7005,
          7547,
          1519,
          1452,
          1410,
          1512,
          1425,
          1732,
          1717,
          1891,
          1846,
          1739,
          2115,
          1817,
          1936,
          2239,
          2249,
          2567,
          2626,
          2837,
          2974,
          2721,
          2963,
          3194,
          269,
          301,
          311,
          315,
          341,
          368,
          465,
          555,
          698,
          761,
          911,
          1127,
          1260,
          1541,
          1474,
          1717,
          1973,
          2277,
          2601,
          2248,
          2629,
          2670,
          1893,
          2031,
          1831,
          1824,
          1754,
          1929,
          1955,
          1976,
          1968,
          1732,
          1949,
          665,
          640,
          756,
          819,
          969,
          1053,
          1269,
          1821,
          2248,
          2705,
          3254,
          455,
          527,
          604,
          604,
          635,
          568,
          679,
          754,
          817,
          995,
          1228,
          2889,
          3058,
          2404,
          3163,
          2282,
          2894,
          2728,
          2993,
          3130,
          2805,
          3503,
          1132,
          1078,
          1093,
          1213,
          1216,
          1069,
          1212,
          1198,
          1181,
          1109,
          1378,
          2358,
          2326,
          2033,
          2191,
          1835,
          2156,
          2092,
          2381,
          2620,
          2543,
          2940,
          7804,
          8073,
          9663,
          8409,
          8950,
          8587,
          9321,
          10578,
          10900,
          11413,
          10661
         ],
         "yaxis": "y"
        },
        {
         "hovertemplate": "<b>OLS trendline</b><br>value_(kWh/capita) = 256.308 * budget_(Euro/capita) + 1566.54<br>R<sup>2</sup>=0.370924<br><br>budget_(Euro/capita)=%{x}<br>value_(kWh/capita)=%{y} <b>(trend)</b><extra></extra>",
         "legendgroup": "",
         "marker": {
          "symbol": "circle"
         },
         "mode": "lines",
         "name": "",
         "showlegend": false,
         "textposition": "top center",
         "type": "scatter",
         "x": [
          0,
          0,
          0,
          0,
          0,
          0,
          0,
          0,
          0,
          0,
          0,
          0,
          0,
          0,
          0,
          0,
          0,
          0,
          0,
          0,
          0,
          0,
          0,
          0,
          0,
          0,
          0,
          0,
          0,
          0,
          0,
          0,
          0,
          1,
          1,
          1,
          1,
          1,
          1,
          1,
          1,
          1,
          1,
          1,
          1,
          1,
          1,
          1,
          1,
          1,
          1,
          1,
          1,
          1,
          1,
          1,
          1,
          1,
          1,
          1,
          1,
          1,
          1,
          1,
          1,
          1,
          1,
          1,
          1,
          1,
          1,
          1,
          1,
          2,
          2,
          2,
          2,
          2,
          2,
          2,
          2,
          2,
          2,
          2,
          2,
          2,
          2,
          2,
          2,
          2,
          2,
          2,
          2,
          2,
          3,
          3,
          3,
          3,
          3,
          3,
          3,
          3,
          3,
          3,
          3,
          3,
          3,
          3,
          3,
          3,
          3,
          3,
          3,
          4,
          4,
          4,
          4,
          4,
          4,
          4,
          4,
          4,
          4,
          4,
          4,
          4,
          4,
          4,
          4,
          5,
          5,
          5,
          5,
          5,
          6,
          6,
          6,
          6,
          6,
          6,
          6,
          6,
          6,
          6,
          6,
          7,
          7,
          7,
          7,
          7,
          8,
          8,
          8,
          8,
          8,
          8,
          9,
          9,
          9,
          9,
          9,
          9,
          10,
          10,
          10,
          10,
          10,
          10,
          12,
          12,
          13,
          13,
          13,
          13,
          13,
          15,
          15,
          15,
          17,
          17,
          19,
          20,
          23,
          23,
          26,
          29,
          30
         ],
         "xaxis": "x",
         "y": [
          1566.542660145751,
          1566.542660145751,
          1566.542660145751,
          1566.542660145751,
          1566.542660145751,
          1566.542660145751,
          1566.542660145751,
          1566.542660145751,
          1566.542660145751,
          1566.542660145751,
          1566.542660145751,
          1566.542660145751,
          1566.542660145751,
          1566.542660145751,
          1566.542660145751,
          1566.542660145751,
          1566.542660145751,
          1566.542660145751,
          1566.542660145751,
          1566.542660145751,
          1566.542660145751,
          1566.542660145751,
          1566.542660145751,
          1566.542660145751,
          1566.542660145751,
          1566.542660145751,
          1566.542660145751,
          1566.542660145751,
          1566.542660145751,
          1566.542660145751,
          1566.542660145751,
          1566.542660145751,
          1566.542660145751,
          1822.850890004309,
          1822.850890004309,
          1822.850890004309,
          1822.850890004309,
          1822.850890004309,
          1822.850890004309,
          1822.850890004309,
          1822.850890004309,
          1822.850890004309,
          1822.850890004309,
          1822.850890004309,
          1822.850890004309,
          1822.850890004309,
          1822.850890004309,
          1822.850890004309,
          1822.850890004309,
          1822.850890004309,
          1822.850890004309,
          1822.850890004309,
          1822.850890004309,
          1822.850890004309,
          1822.850890004309,
          1822.850890004309,
          1822.850890004309,
          1822.850890004309,
          1822.850890004309,
          1822.850890004309,
          1822.850890004309,
          1822.850890004309,
          1822.850890004309,
          1822.850890004309,
          1822.850890004309,
          1822.850890004309,
          1822.850890004309,
          1822.850890004309,
          1822.850890004309,
          1822.850890004309,
          1822.850890004309,
          1822.850890004309,
          1822.850890004309,
          2079.1591198628666,
          2079.1591198628666,
          2079.1591198628666,
          2079.1591198628666,
          2079.1591198628666,
          2079.1591198628666,
          2079.1591198628666,
          2079.1591198628666,
          2079.1591198628666,
          2079.1591198628666,
          2079.1591198628666,
          2079.1591198628666,
          2079.1591198628666,
          2079.1591198628666,
          2079.1591198628666,
          2079.1591198628666,
          2079.1591198628666,
          2079.1591198628666,
          2079.1591198628666,
          2079.1591198628666,
          2079.1591198628666,
          2335.467349721425,
          2335.467349721425,
          2335.467349721425,
          2335.467349721425,
          2335.467349721425,
          2335.467349721425,
          2335.467349721425,
          2335.467349721425,
          2335.467349721425,
          2335.467349721425,
          2335.467349721425,
          2335.467349721425,
          2335.467349721425,
          2335.467349721425,
          2335.467349721425,
          2335.467349721425,
          2335.467349721425,
          2335.467349721425,
          2335.467349721425,
          2591.775579579983,
          2591.775579579983,
          2591.775579579983,
          2591.775579579983,
          2591.775579579983,
          2591.775579579983,
          2591.775579579983,
          2591.775579579983,
          2591.775579579983,
          2591.775579579983,
          2591.775579579983,
          2591.775579579983,
          2591.775579579983,
          2591.775579579983,
          2591.775579579983,
          2591.775579579983,
          2848.083809438541,
          2848.083809438541,
          2848.083809438541,
          2848.083809438541,
          2848.083809438541,
          3104.3920392970986,
          3104.3920392970986,
          3104.3920392970986,
          3104.3920392970986,
          3104.3920392970986,
          3104.3920392970986,
          3104.3920392970986,
          3104.3920392970986,
          3104.3920392970986,
          3104.3920392970986,
          3104.3920392970986,
          3360.7002691556568,
          3360.7002691556568,
          3360.7002691556568,
          3360.7002691556568,
          3360.7002691556568,
          3617.008499014215,
          3617.008499014215,
          3617.008499014215,
          3617.008499014215,
          3617.008499014215,
          3617.008499014215,
          3873.3167288727727,
          3873.3167288727727,
          3873.3167288727727,
          3873.3167288727727,
          3873.3167288727727,
          3873.3167288727727,
          4129.6249587313305,
          4129.6249587313305,
          4129.6249587313305,
          4129.6249587313305,
          4129.6249587313305,
          4129.6249587313305,
          4642.241418448447,
          4642.241418448447,
          4898.549648307005,
          4898.549648307005,
          4898.549648307005,
          4898.549648307005,
          4898.549648307005,
          5411.166108024121,
          5411.166108024121,
          5411.166108024121,
          5923.782567741237,
          5923.782567741237,
          6436.399027458353,
          6692.707257316911,
          7461.631946892585,
          7461.631946892585,
          8230.556636468258,
          8999.481326043931,
          9255.789555902491
         ],
         "yaxis": "y"
        }
       ],
       "layout": {
        "coloraxis": {
         "colorbar": {
          "title": {
           "text": "year"
          }
         },
         "colorscale": [
          [
           0,
           "#440154"
          ],
          [
           0.1111111111111111,
           "#482878"
          ],
          [
           0.2222222222222222,
           "#3e4989"
          ],
          [
           0.3333333333333333,
           "#31688e"
          ],
          [
           0.4444444444444444,
           "#26828e"
          ],
          [
           0.5555555555555556,
           "#1f9e89"
          ],
          [
           0.6666666666666666,
           "#35b779"
          ],
          [
           0.7777777777777778,
           "#6ece58"
          ],
          [
           0.8888888888888888,
           "#b5de2b"
          ],
          [
           1,
           "#fde725"
          ]
         ]
        },
        "legend": {
         "title": {
          "text": "Year"
         },
         "tracegroupgap": 0
        },
        "template": {
         "data": {
          "bar": [
           {
            "error_x": {
             "color": "rgb(36,36,36)"
            },
            "error_y": {
             "color": "rgb(36,36,36)"
            },
            "marker": {
             "line": {
              "color": "white",
              "width": 0.5
             },
             "pattern": {
              "fillmode": "overlay",
              "size": 10,
              "solidity": 0.2
             }
            },
            "type": "bar"
           }
          ],
          "barpolar": [
           {
            "marker": {
             "line": {
              "color": "white",
              "width": 0.5
             },
             "pattern": {
              "fillmode": "overlay",
              "size": 10,
              "solidity": 0.2
             }
            },
            "type": "barpolar"
           }
          ],
          "carpet": [
           {
            "aaxis": {
             "endlinecolor": "rgb(36,36,36)",
             "gridcolor": "white",
             "linecolor": "white",
             "minorgridcolor": "white",
             "startlinecolor": "rgb(36,36,36)"
            },
            "baxis": {
             "endlinecolor": "rgb(36,36,36)",
             "gridcolor": "white",
             "linecolor": "white",
             "minorgridcolor": "white",
             "startlinecolor": "rgb(36,36,36)"
            },
            "type": "carpet"
           }
          ],
          "choropleth": [
           {
            "colorbar": {
             "outlinewidth": 1,
             "tickcolor": "rgb(36,36,36)",
             "ticks": "outside"
            },
            "type": "choropleth"
           }
          ],
          "contour": [
           {
            "colorbar": {
             "outlinewidth": 1,
             "tickcolor": "rgb(36,36,36)",
             "ticks": "outside"
            },
            "colorscale": [
             [
              0,
              "#440154"
             ],
             [
              0.1111111111111111,
              "#482878"
             ],
             [
              0.2222222222222222,
              "#3e4989"
             ],
             [
              0.3333333333333333,
              "#31688e"
             ],
             [
              0.4444444444444444,
              "#26828e"
             ],
             [
              0.5555555555555556,
              "#1f9e89"
             ],
             [
              0.6666666666666666,
              "#35b779"
             ],
             [
              0.7777777777777778,
              "#6ece58"
             ],
             [
              0.8888888888888888,
              "#b5de2b"
             ],
             [
              1,
              "#fde725"
             ]
            ],
            "type": "contour"
           }
          ],
          "contourcarpet": [
           {
            "colorbar": {
             "outlinewidth": 1,
             "tickcolor": "rgb(36,36,36)",
             "ticks": "outside"
            },
            "type": "contourcarpet"
           }
          ],
          "heatmap": [
           {
            "colorbar": {
             "outlinewidth": 1,
             "tickcolor": "rgb(36,36,36)",
             "ticks": "outside"
            },
            "colorscale": [
             [
              0,
              "#440154"
             ],
             [
              0.1111111111111111,
              "#482878"
             ],
             [
              0.2222222222222222,
              "#3e4989"
             ],
             [
              0.3333333333333333,
              "#31688e"
             ],
             [
              0.4444444444444444,
              "#26828e"
             ],
             [
              0.5555555555555556,
              "#1f9e89"
             ],
             [
              0.6666666666666666,
              "#35b779"
             ],
             [
              0.7777777777777778,
              "#6ece58"
             ],
             [
              0.8888888888888888,
              "#b5de2b"
             ],
             [
              1,
              "#fde725"
             ]
            ],
            "type": "heatmap"
           }
          ],
          "heatmapgl": [
           {
            "colorbar": {
             "outlinewidth": 1,
             "tickcolor": "rgb(36,36,36)",
             "ticks": "outside"
            },
            "colorscale": [
             [
              0,
              "#440154"
             ],
             [
              0.1111111111111111,
              "#482878"
             ],
             [
              0.2222222222222222,
              "#3e4989"
             ],
             [
              0.3333333333333333,
              "#31688e"
             ],
             [
              0.4444444444444444,
              "#26828e"
             ],
             [
              0.5555555555555556,
              "#1f9e89"
             ],
             [
              0.6666666666666666,
              "#35b779"
             ],
             [
              0.7777777777777778,
              "#6ece58"
             ],
             [
              0.8888888888888888,
              "#b5de2b"
             ],
             [
              1,
              "#fde725"
             ]
            ],
            "type": "heatmapgl"
           }
          ],
          "histogram": [
           {
            "marker": {
             "line": {
              "color": "white",
              "width": 0.6
             }
            },
            "type": "histogram"
           }
          ],
          "histogram2d": [
           {
            "colorbar": {
             "outlinewidth": 1,
             "tickcolor": "rgb(36,36,36)",
             "ticks": "outside"
            },
            "colorscale": [
             [
              0,
              "#440154"
             ],
             [
              0.1111111111111111,
              "#482878"
             ],
             [
              0.2222222222222222,
              "#3e4989"
             ],
             [
              0.3333333333333333,
              "#31688e"
             ],
             [
              0.4444444444444444,
              "#26828e"
             ],
             [
              0.5555555555555556,
              "#1f9e89"
             ],
             [
              0.6666666666666666,
              "#35b779"
             ],
             [
              0.7777777777777778,
              "#6ece58"
             ],
             [
              0.8888888888888888,
              "#b5de2b"
             ],
             [
              1,
              "#fde725"
             ]
            ],
            "type": "histogram2d"
           }
          ],
          "histogram2dcontour": [
           {
            "colorbar": {
             "outlinewidth": 1,
             "tickcolor": "rgb(36,36,36)",
             "ticks": "outside"
            },
            "colorscale": [
             [
              0,
              "#440154"
             ],
             [
              0.1111111111111111,
              "#482878"
             ],
             [
              0.2222222222222222,
              "#3e4989"
             ],
             [
              0.3333333333333333,
              "#31688e"
             ],
             [
              0.4444444444444444,
              "#26828e"
             ],
             [
              0.5555555555555556,
              "#1f9e89"
             ],
             [
              0.6666666666666666,
              "#35b779"
             ],
             [
              0.7777777777777778,
              "#6ece58"
             ],
             [
              0.8888888888888888,
              "#b5de2b"
             ],
             [
              1,
              "#fde725"
             ]
            ],
            "type": "histogram2dcontour"
           }
          ],
          "mesh3d": [
           {
            "colorbar": {
             "outlinewidth": 1,
             "tickcolor": "rgb(36,36,36)",
             "ticks": "outside"
            },
            "type": "mesh3d"
           }
          ],
          "parcoords": [
           {
            "line": {
             "colorbar": {
              "outlinewidth": 1,
              "tickcolor": "rgb(36,36,36)",
              "ticks": "outside"
             }
            },
            "type": "parcoords"
           }
          ],
          "pie": [
           {
            "automargin": true,
            "type": "pie"
           }
          ],
          "scatter": [
           {
            "fillpattern": {
             "fillmode": "overlay",
             "size": 10,
             "solidity": 0.2
            },
            "type": "scatter"
           }
          ],
          "scatter3d": [
           {
            "line": {
             "colorbar": {
              "outlinewidth": 1,
              "tickcolor": "rgb(36,36,36)",
              "ticks": "outside"
             }
            },
            "marker": {
             "colorbar": {
              "outlinewidth": 1,
              "tickcolor": "rgb(36,36,36)",
              "ticks": "outside"
             }
            },
            "type": "scatter3d"
           }
          ],
          "scattercarpet": [
           {
            "marker": {
             "colorbar": {
              "outlinewidth": 1,
              "tickcolor": "rgb(36,36,36)",
              "ticks": "outside"
             }
            },
            "type": "scattercarpet"
           }
          ],
          "scattergeo": [
           {
            "marker": {
             "colorbar": {
              "outlinewidth": 1,
              "tickcolor": "rgb(36,36,36)",
              "ticks": "outside"
             }
            },
            "type": "scattergeo"
           }
          ],
          "scattergl": [
           {
            "marker": {
             "colorbar": {
              "outlinewidth": 1,
              "tickcolor": "rgb(36,36,36)",
              "ticks": "outside"
             }
            },
            "type": "scattergl"
           }
          ],
          "scattermapbox": [
           {
            "marker": {
             "colorbar": {
              "outlinewidth": 1,
              "tickcolor": "rgb(36,36,36)",
              "ticks": "outside"
             }
            },
            "type": "scattermapbox"
           }
          ],
          "scatterpolar": [
           {
            "marker": {
             "colorbar": {
              "outlinewidth": 1,
              "tickcolor": "rgb(36,36,36)",
              "ticks": "outside"
             }
            },
            "type": "scatterpolar"
           }
          ],
          "scatterpolargl": [
           {
            "marker": {
             "colorbar": {
              "outlinewidth": 1,
              "tickcolor": "rgb(36,36,36)",
              "ticks": "outside"
             }
            },
            "type": "scatterpolargl"
           }
          ],
          "scatterternary": [
           {
            "marker": {
             "colorbar": {
              "outlinewidth": 1,
              "tickcolor": "rgb(36,36,36)",
              "ticks": "outside"
             }
            },
            "type": "scatterternary"
           }
          ],
          "surface": [
           {
            "colorbar": {
             "outlinewidth": 1,
             "tickcolor": "rgb(36,36,36)",
             "ticks": "outside"
            },
            "colorscale": [
             [
              0,
              "#440154"
             ],
             [
              0.1111111111111111,
              "#482878"
             ],
             [
              0.2222222222222222,
              "#3e4989"
             ],
             [
              0.3333333333333333,
              "#31688e"
             ],
             [
              0.4444444444444444,
              "#26828e"
             ],
             [
              0.5555555555555556,
              "#1f9e89"
             ],
             [
              0.6666666666666666,
              "#35b779"
             ],
             [
              0.7777777777777778,
              "#6ece58"
             ],
             [
              0.8888888888888888,
              "#b5de2b"
             ],
             [
              1,
              "#fde725"
             ]
            ],
            "type": "surface"
           }
          ],
          "table": [
           {
            "cells": {
             "fill": {
              "color": "rgb(237,237,237)"
             },
             "line": {
              "color": "white"
             }
            },
            "header": {
             "fill": {
              "color": "rgb(217,217,217)"
             },
             "line": {
              "color": "white"
             }
            },
            "type": "table"
           }
          ]
         },
         "layout": {
          "annotationdefaults": {
           "arrowhead": 0,
           "arrowwidth": 1
          },
          "autotypenumbers": "strict",
          "coloraxis": {
           "colorbar": {
            "outlinewidth": 1,
            "tickcolor": "rgb(36,36,36)",
            "ticks": "outside"
           }
          },
          "colorscale": {
           "diverging": [
            [
             0,
             "rgb(103,0,31)"
            ],
            [
             0.1,
             "rgb(178,24,43)"
            ],
            [
             0.2,
             "rgb(214,96,77)"
            ],
            [
             0.3,
             "rgb(244,165,130)"
            ],
            [
             0.4,
             "rgb(253,219,199)"
            ],
            [
             0.5,
             "rgb(247,247,247)"
            ],
            [
             0.6,
             "rgb(209,229,240)"
            ],
            [
             0.7,
             "rgb(146,197,222)"
            ],
            [
             0.8,
             "rgb(67,147,195)"
            ],
            [
             0.9,
             "rgb(33,102,172)"
            ],
            [
             1,
             "rgb(5,48,97)"
            ]
           ],
           "sequential": [
            [
             0,
             "#440154"
            ],
            [
             0.1111111111111111,
             "#482878"
            ],
            [
             0.2222222222222222,
             "#3e4989"
            ],
            [
             0.3333333333333333,
             "#31688e"
            ],
            [
             0.4444444444444444,
             "#26828e"
            ],
            [
             0.5555555555555556,
             "#1f9e89"
            ],
            [
             0.6666666666666666,
             "#35b779"
            ],
            [
             0.7777777777777778,
             "#6ece58"
            ],
            [
             0.8888888888888888,
             "#b5de2b"
            ],
            [
             1,
             "#fde725"
            ]
           ],
           "sequentialminus": [
            [
             0,
             "#440154"
            ],
            [
             0.1111111111111111,
             "#482878"
            ],
            [
             0.2222222222222222,
             "#3e4989"
            ],
            [
             0.3333333333333333,
             "#31688e"
            ],
            [
             0.4444444444444444,
             "#26828e"
            ],
            [
             0.5555555555555556,
             "#1f9e89"
            ],
            [
             0.6666666666666666,
             "#35b779"
            ],
            [
             0.7777777777777778,
             "#6ece58"
            ],
            [
             0.8888888888888888,
             "#b5de2b"
            ],
            [
             1,
             "#fde725"
            ]
           ]
          },
          "colorway": [
           "#1F77B4",
           "#FF7F0E",
           "#2CA02C",
           "#D62728",
           "#9467BD",
           "#8C564B",
           "#E377C2",
           "#7F7F7F",
           "#BCBD22",
           "#17BECF"
          ],
          "font": {
           "color": "rgb(36,36,36)"
          },
          "geo": {
           "bgcolor": "white",
           "lakecolor": "white",
           "landcolor": "white",
           "showlakes": true,
           "showland": true,
           "subunitcolor": "white"
          },
          "hoverlabel": {
           "align": "left"
          },
          "hovermode": "closest",
          "mapbox": {
           "style": "light"
          },
          "paper_bgcolor": "white",
          "plot_bgcolor": "white",
          "polar": {
           "angularaxis": {
            "gridcolor": "rgb(232,232,232)",
            "linecolor": "rgb(36,36,36)",
            "showgrid": false,
            "showline": true,
            "ticks": "outside"
           },
           "bgcolor": "white",
           "radialaxis": {
            "gridcolor": "rgb(232,232,232)",
            "linecolor": "rgb(36,36,36)",
            "showgrid": false,
            "showline": true,
            "ticks": "outside"
           }
          },
          "scene": {
           "xaxis": {
            "backgroundcolor": "white",
            "gridcolor": "rgb(232,232,232)",
            "gridwidth": 2,
            "linecolor": "rgb(36,36,36)",
            "showbackground": true,
            "showgrid": false,
            "showline": true,
            "ticks": "outside",
            "zeroline": false,
            "zerolinecolor": "rgb(36,36,36)"
           },
           "yaxis": {
            "backgroundcolor": "white",
            "gridcolor": "rgb(232,232,232)",
            "gridwidth": 2,
            "linecolor": "rgb(36,36,36)",
            "showbackground": true,
            "showgrid": false,
            "showline": true,
            "ticks": "outside",
            "zeroline": false,
            "zerolinecolor": "rgb(36,36,36)"
           },
           "zaxis": {
            "backgroundcolor": "white",
            "gridcolor": "rgb(232,232,232)",
            "gridwidth": 2,
            "linecolor": "rgb(36,36,36)",
            "showbackground": true,
            "showgrid": false,
            "showline": true,
            "ticks": "outside",
            "zeroline": false,
            "zerolinecolor": "rgb(36,36,36)"
           }
          },
          "shapedefaults": {
           "fillcolor": "black",
           "line": {
            "width": 0
           },
           "opacity": 0.3
          },
          "ternary": {
           "aaxis": {
            "gridcolor": "rgb(232,232,232)",
            "linecolor": "rgb(36,36,36)",
            "showgrid": false,
            "showline": true,
            "ticks": "outside"
           },
           "baxis": {
            "gridcolor": "rgb(232,232,232)",
            "linecolor": "rgb(36,36,36)",
            "showgrid": false,
            "showline": true,
            "ticks": "outside"
           },
           "bgcolor": "white",
           "caxis": {
            "gridcolor": "rgb(232,232,232)",
            "linecolor": "rgb(36,36,36)",
            "showgrid": false,
            "showline": true,
            "ticks": "outside"
           }
          },
          "title": {
           "x": 0.05
          },
          "xaxis": {
           "automargin": true,
           "gridcolor": "rgb(232,232,232)",
           "linecolor": "rgb(36,36,36)",
           "showgrid": false,
           "showline": true,
           "ticks": "outside",
           "title": {
            "standoff": 15
           },
           "zeroline": false,
           "zerolinecolor": "rgb(36,36,36)"
          },
          "yaxis": {
           "automargin": true,
           "gridcolor": "rgb(232,232,232)",
           "linecolor": "rgb(36,36,36)",
           "showgrid": false,
           "showline": true,
           "ticks": "outside",
           "title": {
            "standoff": 15
           },
           "zeroline": false,
           "zerolinecolor": "rgb(36,36,36)"
          }
         }
        },
        "title": {
         "text": "Renewable Energy Production vs R&D Budget per Capita in The Past 10 years"
        },
        "xaxis": {
         "anchor": "y",
         "domain": [
          0,
          1
         ],
         "title": {
          "text": "R&D Budget (Euro/capita)"
         }
        },
        "yaxis": {
         "anchor": "x",
         "domain": [
          0,
          1
         ],
         "title": {
          "text": "Renewable Energy Production (kWh/capita)"
         }
        }
       }
      }
     },
     "metadata": {},
     "output_type": "display_data"
    }
   ],
   "source": [
    "import plotly.express as px\n",
    "\n",
    "fig = px.scatter(merged_df, x=\"budget_(Euro/capita)\", y=\"value_(kWh/capita)\", color=\"year\", text=\"country_name\",\n",
    "           trendline=\"ols\", template=\"simple_white\", title='Renewable Energy Production vs R&D Budget per Capita in The Past 10 years')\n",
    "\n",
    "fig.update_traces(textposition=\"top center\")\n",
    "\n",
    "fig.update_layout(\n",
    "    xaxis_title= \"R&D Budget (Euro/capita)\",\n",
    "    yaxis_title= \"Renewable Energy Production (kWh/capita)\",\n",
    "    legend_title_text= \"Year\"\n",
    ")\n",
    "\n",
    "fig.show()"
   ]
  },
  {
   "cell_type": "code",
   "execution_count": 392,
   "metadata": {},
   "outputs": [
    {
     "data": {
      "application/vnd.plotly.v1+json": {
       "config": {
        "plotlyServerURL": "https://plot.ly"
       },
       "data": [
        {
         "hovertemplate": "<b>%{hovertext}</b><br><br>budget_(Euro/capita)=%{x}<br>value_(kWh/capita)=%{y}<br>year=%{marker.color}<extra></extra>",
         "hovertext": [
          "Austria",
          "Austria",
          "Austria",
          "Austria",
          "Austria",
          "Austria",
          "Austria",
          "Austria",
          "Austria",
          "Austria",
          "Austria",
          "Belgium",
          "Belgium",
          "Belgium",
          "Belgium",
          "Belgium",
          "Belgium",
          "Belgium",
          "Belgium",
          "Belgium",
          "Belgium",
          "Belgium",
          "Czech Republic",
          "Czech Republic",
          "Czech Republic",
          "Czech Republic",
          "Czech Republic",
          "Czech Republic",
          "Czech Republic",
          "Czech Republic",
          "Czech Republic",
          "Czech Republic",
          "Czech Republic",
          "Denmark",
          "Denmark",
          "Denmark",
          "Denmark",
          "Denmark",
          "Denmark",
          "Denmark",
          "Denmark",
          "Denmark",
          "Denmark",
          "Denmark",
          "Estonia",
          "Estonia",
          "Estonia",
          "Estonia",
          "Estonia",
          "Estonia",
          "Estonia",
          "Estonia",
          "Estonia",
          "Estonia",
          "Estonia",
          "Finland",
          "Finland",
          "Finland",
          "Finland",
          "Finland",
          "Finland",
          "Finland",
          "Finland",
          "Finland",
          "Finland",
          "Finland",
          "France",
          "France",
          "France",
          "France",
          "France",
          "France",
          "France",
          "France",
          "France",
          "France",
          "France",
          "Germany",
          "Germany",
          "Germany",
          "Germany",
          "Germany",
          "Germany",
          "Germany",
          "Germany",
          "Germany",
          "Germany",
          "Germany",
          "Hungary",
          "Hungary",
          "Hungary",
          "Hungary",
          "Hungary",
          "Hungary",
          "Hungary",
          "Hungary",
          "Hungary",
          "Hungary",
          "Hungary",
          "Ireland",
          "Ireland",
          "Ireland",
          "Ireland",
          "Ireland",
          "Ireland",
          "Ireland",
          "Ireland",
          "Ireland",
          "Ireland",
          "Ireland",
          "Italy",
          "Italy",
          "Italy",
          "Italy",
          "Italy",
          "Italy",
          "Italy",
          "Italy",
          "Italy",
          "Italy",
          "Italy",
          "Netherlands",
          "Netherlands",
          "Netherlands",
          "Netherlands",
          "Netherlands",
          "Netherlands",
          "Netherlands",
          "Netherlands",
          "Netherlands",
          "Netherlands",
          "Netherlands",
          "Poland",
          "Poland",
          "Poland",
          "Poland",
          "Poland",
          "Poland",
          "Poland",
          "Poland",
          "Poland",
          "Poland",
          "Poland",
          "Portugal",
          "Portugal",
          "Portugal",
          "Portugal",
          "Portugal",
          "Portugal",
          "Portugal",
          "Portugal",
          "Portugal",
          "Portugal",
          "Portugal",
          "Slovak Republic",
          "Slovak Republic",
          "Slovak Republic",
          "Slovak Republic",
          "Slovak Republic",
          "Slovak Republic",
          "Slovak Republic",
          "Slovak Republic",
          "Slovak Republic",
          "Slovak Republic",
          "Slovak Republic",
          "Spain",
          "Spain",
          "Spain",
          "Spain",
          "Spain",
          "Spain",
          "Spain",
          "Spain",
          "Spain",
          "Spain",
          "Spain",
          "Sweden",
          "Sweden",
          "Sweden",
          "Sweden",
          "Sweden",
          "Sweden",
          "Sweden",
          "Sweden",
          "Sweden",
          "Sweden",
          "Sweden"
         ],
         "legendgroup": "",
         "marker": {
          "color": [
           2013,
           2014,
           2015,
           2016,
           2017,
           2018,
           2019,
           2020,
           2021,
           2022,
           2023,
           2013,
           2014,
           2015,
           2016,
           2017,
           2018,
           2019,
           2020,
           2021,
           2022,
           2023,
           2013,
           2014,
           2015,
           2016,
           2017,
           2018,
           2019,
           2020,
           2021,
           2022,
           2023,
           2013,
           2014,
           2015,
           2016,
           2017,
           2018,
           2019,
           2020,
           2021,
           2022,
           2023,
           2013,
           2014,
           2015,
           2016,
           2017,
           2018,
           2019,
           2020,
           2021,
           2022,
           2023,
           2013,
           2014,
           2015,
           2016,
           2017,
           2018,
           2019,
           2020,
           2021,
           2022,
           2023,
           2013,
           2014,
           2015,
           2016,
           2017,
           2018,
           2019,
           2020,
           2021,
           2022,
           2023,
           2013,
           2014,
           2015,
           2016,
           2017,
           2018,
           2019,
           2020,
           2021,
           2022,
           2023,
           2013,
           2014,
           2015,
           2016,
           2017,
           2018,
           2019,
           2020,
           2021,
           2022,
           2023,
           2013,
           2014,
           2015,
           2016,
           2017,
           2018,
           2019,
           2020,
           2021,
           2022,
           2023,
           2013,
           2014,
           2015,
           2016,
           2017,
           2018,
           2019,
           2020,
           2021,
           2022,
           2023,
           2013,
           2014,
           2015,
           2016,
           2017,
           2018,
           2019,
           2020,
           2021,
           2022,
           2023,
           2013,
           2014,
           2015,
           2016,
           2017,
           2018,
           2019,
           2020,
           2021,
           2022,
           2023,
           2013,
           2014,
           2015,
           2016,
           2017,
           2018,
           2019,
           2020,
           2021,
           2022,
           2023,
           2013,
           2014,
           2015,
           2016,
           2017,
           2018,
           2019,
           2020,
           2021,
           2022,
           2023,
           2013,
           2014,
           2015,
           2016,
           2017,
           2018,
           2019,
           2020,
           2021,
           2022,
           2023,
           2013,
           2014,
           2015,
           2016,
           2017,
           2018,
           2019,
           2020,
           2021,
           2022,
           2023
          ],
          "coloraxis": "coloraxis",
          "symbol": "circle"
         },
         "mode": "markers",
         "name": "",
         "orientation": "v",
         "showlegend": false,
         "textposition": "top center",
         "type": "scatter",
         "x": [
          8,
          9,
          8,
          9,
          9,
          9,
          10,
          10,
          12,
          13,
          13,
          6,
          5,
          6,
          5,
          4,
          6,
          7,
          12,
          3,
          10,
          8,
          0,
          0,
          1,
          1,
          1,
          1,
          2,
          1,
          3,
          3,
          2,
          7,
          9,
          6,
          4,
          4,
          2,
          5,
          6,
          4,
          3,
          4,
          2,
          1,
          3,
          1,
          3,
          2,
          1,
          1,
          0,
          2,
          0,
          26,
          29,
          30,
          23,
          23,
          20,
          19,
          15,
          15,
          17,
          17,
          4,
          4,
          4,
          4,
          3,
          4,
          3,
          5,
          4,
          6,
          6,
          3,
          2,
          2,
          2,
          2,
          2,
          3,
          3,
          3,
          2,
          2,
          0,
          0,
          1,
          1,
          6,
          1,
          1,
          1,
          3,
          0,
          0,
          1,
          1,
          0,
          0,
          0,
          1,
          1,
          1,
          1,
          1,
          1,
          1,
          1,
          1,
          1,
          1,
          1,
          2,
          2,
          2,
          2,
          2,
          4,
          3,
          3,
          4,
          4,
          4,
          9,
          10,
          15,
          6,
          6,
          1,
          1,
          0,
          0,
          0,
          0,
          0,
          1,
          1,
          1,
          1,
          0,
          0,
          0,
          0,
          0,
          0,
          2,
          3,
          3,
          3,
          3,
          0,
          1,
          0,
          0,
          0,
          1,
          1,
          1,
          2,
          1,
          2,
          0,
          0,
          0,
          0,
          0,
          0,
          1,
          0,
          4,
          8,
          8,
          7,
          6,
          5,
          7,
          8,
          10,
          7,
          10,
          13,
          13,
          13
         ],
         "xaxis": "x",
         "y": [
          5692,
          5642,
          5317,
          5653,
          5761,
          5613,
          6103,
          6191,
          5976,
          5630,
          6309,
          1085,
          1124,
          1304,
          1283,
          1409,
          1516,
          1698,
          2051,
          1979,
          2106,
          2313,
          898,
          895,
          935,
          927,
          943,
          917,
          985,
          1023,
          1046,
          1017,
          1020,
          2641,
          2978,
          3141,
          3030,
          3580,
          3432,
          3822,
          3876,
          4292,
          5046,
          5196,
          838,
          950,
          1023,
          1059,
          1237,
          1341,
          1418,
          1967,
          1949,
          2111,
          1526,
          4462,
          4585,
          5349,
          5320,
          5513,
          5613,
          5567,
          6249,
          6637,
          7005,
          7547,
          1519,
          1452,
          1410,
          1512,
          1425,
          1732,
          1717,
          1891,
          1846,
          1739,
          2115,
          1817,
          1936,
          2239,
          2249,
          2567,
          2626,
          2837,
          2974,
          2721,
          2963,
          3194,
          269,
          301,
          311,
          315,
          341,
          368,
          465,
          555,
          698,
          761,
          911,
          1127,
          1260,
          1541,
          1474,
          1717,
          1973,
          2277,
          2601,
          2248,
          2629,
          2670,
          1893,
          2031,
          1831,
          1824,
          1754,
          1929,
          1955,
          1976,
          1968,
          1732,
          1949,
          665,
          640,
          756,
          819,
          969,
          1053,
          1269,
          1821,
          2248,
          2705,
          3254,
          455,
          527,
          604,
          604,
          635,
          568,
          679,
          754,
          817,
          995,
          1228,
          2889,
          3058,
          2404,
          3163,
          2282,
          2894,
          2728,
          2993,
          3130,
          2805,
          3503,
          1132,
          1078,
          1093,
          1213,
          1216,
          1069,
          1212,
          1198,
          1181,
          1109,
          1378,
          2358,
          2326,
          2033,
          2191,
          1835,
          2156,
          2092,
          2381,
          2620,
          2543,
          2940,
          7804,
          8073,
          9663,
          8409,
          8950,
          8587,
          9321,
          10578,
          10900,
          11413,
          10661
         ],
         "yaxis": "y"
        },
        {
         "hovertemplate": "<b>OLS trendline</b><br>value_(kWh/capita) = 256.308 * budget_(Euro/capita) + 1566.54<br>R<sup>2</sup>=0.370924<br><br>budget_(Euro/capita)=%{x}<br>value_(kWh/capita)=%{y} <b>(trend)</b><extra></extra>",
         "legendgroup": "",
         "marker": {
          "symbol": "circle"
         },
         "mode": "lines",
         "name": "",
         "showlegend": false,
         "textposition": "top center",
         "type": "scatter",
         "x": [
          0,
          0,
          0,
          0,
          0,
          0,
          0,
          0,
          0,
          0,
          0,
          0,
          0,
          0,
          0,
          0,
          0,
          0,
          0,
          0,
          0,
          0,
          0,
          0,
          0,
          0,
          0,
          0,
          0,
          0,
          0,
          0,
          0,
          1,
          1,
          1,
          1,
          1,
          1,
          1,
          1,
          1,
          1,
          1,
          1,
          1,
          1,
          1,
          1,
          1,
          1,
          1,
          1,
          1,
          1,
          1,
          1,
          1,
          1,
          1,
          1,
          1,
          1,
          1,
          1,
          1,
          1,
          1,
          1,
          1,
          1,
          1,
          1,
          2,
          2,
          2,
          2,
          2,
          2,
          2,
          2,
          2,
          2,
          2,
          2,
          2,
          2,
          2,
          2,
          2,
          2,
          2,
          2,
          2,
          3,
          3,
          3,
          3,
          3,
          3,
          3,
          3,
          3,
          3,
          3,
          3,
          3,
          3,
          3,
          3,
          3,
          3,
          3,
          4,
          4,
          4,
          4,
          4,
          4,
          4,
          4,
          4,
          4,
          4,
          4,
          4,
          4,
          4,
          4,
          5,
          5,
          5,
          5,
          5,
          6,
          6,
          6,
          6,
          6,
          6,
          6,
          6,
          6,
          6,
          6,
          7,
          7,
          7,
          7,
          7,
          8,
          8,
          8,
          8,
          8,
          8,
          9,
          9,
          9,
          9,
          9,
          9,
          10,
          10,
          10,
          10,
          10,
          10,
          12,
          12,
          13,
          13,
          13,
          13,
          13,
          15,
          15,
          15,
          17,
          17,
          19,
          20,
          23,
          23,
          26,
          29,
          30
         ],
         "xaxis": "x",
         "y": [
          1566.542660145751,
          1566.542660145751,
          1566.542660145751,
          1566.542660145751,
          1566.542660145751,
          1566.542660145751,
          1566.542660145751,
          1566.542660145751,
          1566.542660145751,
          1566.542660145751,
          1566.542660145751,
          1566.542660145751,
          1566.542660145751,
          1566.542660145751,
          1566.542660145751,
          1566.542660145751,
          1566.542660145751,
          1566.542660145751,
          1566.542660145751,
          1566.542660145751,
          1566.542660145751,
          1566.542660145751,
          1566.542660145751,
          1566.542660145751,
          1566.542660145751,
          1566.542660145751,
          1566.542660145751,
          1566.542660145751,
          1566.542660145751,
          1566.542660145751,
          1566.542660145751,
          1566.542660145751,
          1566.542660145751,
          1822.850890004309,
          1822.850890004309,
          1822.850890004309,
          1822.850890004309,
          1822.850890004309,
          1822.850890004309,
          1822.850890004309,
          1822.850890004309,
          1822.850890004309,
          1822.850890004309,
          1822.850890004309,
          1822.850890004309,
          1822.850890004309,
          1822.850890004309,
          1822.850890004309,
          1822.850890004309,
          1822.850890004309,
          1822.850890004309,
          1822.850890004309,
          1822.850890004309,
          1822.850890004309,
          1822.850890004309,
          1822.850890004309,
          1822.850890004309,
          1822.850890004309,
          1822.850890004309,
          1822.850890004309,
          1822.850890004309,
          1822.850890004309,
          1822.850890004309,
          1822.850890004309,
          1822.850890004309,
          1822.850890004309,
          1822.850890004309,
          1822.850890004309,
          1822.850890004309,
          1822.850890004309,
          1822.850890004309,
          1822.850890004309,
          1822.850890004309,
          2079.1591198628666,
          2079.1591198628666,
          2079.1591198628666,
          2079.1591198628666,
          2079.1591198628666,
          2079.1591198628666,
          2079.1591198628666,
          2079.1591198628666,
          2079.1591198628666,
          2079.1591198628666,
          2079.1591198628666,
          2079.1591198628666,
          2079.1591198628666,
          2079.1591198628666,
          2079.1591198628666,
          2079.1591198628666,
          2079.1591198628666,
          2079.1591198628666,
          2079.1591198628666,
          2079.1591198628666,
          2079.1591198628666,
          2335.467349721425,
          2335.467349721425,
          2335.467349721425,
          2335.467349721425,
          2335.467349721425,
          2335.467349721425,
          2335.467349721425,
          2335.467349721425,
          2335.467349721425,
          2335.467349721425,
          2335.467349721425,
          2335.467349721425,
          2335.467349721425,
          2335.467349721425,
          2335.467349721425,
          2335.467349721425,
          2335.467349721425,
          2335.467349721425,
          2335.467349721425,
          2591.775579579983,
          2591.775579579983,
          2591.775579579983,
          2591.775579579983,
          2591.775579579983,
          2591.775579579983,
          2591.775579579983,
          2591.775579579983,
          2591.775579579983,
          2591.775579579983,
          2591.775579579983,
          2591.775579579983,
          2591.775579579983,
          2591.775579579983,
          2591.775579579983,
          2591.775579579983,
          2848.083809438541,
          2848.083809438541,
          2848.083809438541,
          2848.083809438541,
          2848.083809438541,
          3104.3920392970986,
          3104.3920392970986,
          3104.3920392970986,
          3104.3920392970986,
          3104.3920392970986,
          3104.3920392970986,
          3104.3920392970986,
          3104.3920392970986,
          3104.3920392970986,
          3104.3920392970986,
          3104.3920392970986,
          3360.7002691556568,
          3360.7002691556568,
          3360.7002691556568,
          3360.7002691556568,
          3360.7002691556568,
          3617.008499014215,
          3617.008499014215,
          3617.008499014215,
          3617.008499014215,
          3617.008499014215,
          3617.008499014215,
          3873.3167288727727,
          3873.3167288727727,
          3873.3167288727727,
          3873.3167288727727,
          3873.3167288727727,
          3873.3167288727727,
          4129.6249587313305,
          4129.6249587313305,
          4129.6249587313305,
          4129.6249587313305,
          4129.6249587313305,
          4129.6249587313305,
          4642.241418448447,
          4642.241418448447,
          4898.549648307005,
          4898.549648307005,
          4898.549648307005,
          4898.549648307005,
          4898.549648307005,
          5411.166108024121,
          5411.166108024121,
          5411.166108024121,
          5923.782567741237,
          5923.782567741237,
          6436.399027458353,
          6692.707257316911,
          7461.631946892585,
          7461.631946892585,
          8230.556636468258,
          8999.481326043931,
          9255.789555902491
         ],
         "yaxis": "y"
        }
       ],
       "layout": {
        "coloraxis": {
         "colorbar": {
          "title": {
           "text": "year"
          }
         },
         "colorscale": [
          [
           0,
           "#440154"
          ],
          [
           0.1111111111111111,
           "#482878"
          ],
          [
           0.2222222222222222,
           "#3e4989"
          ],
          [
           0.3333333333333333,
           "#31688e"
          ],
          [
           0.4444444444444444,
           "#26828e"
          ],
          [
           0.5555555555555556,
           "#1f9e89"
          ],
          [
           0.6666666666666666,
           "#35b779"
          ],
          [
           0.7777777777777778,
           "#6ece58"
          ],
          [
           0.8888888888888888,
           "#b5de2b"
          ],
          [
           1,
           "#fde725"
          ]
         ]
        },
        "legend": {
         "title": {
          "text": "Year"
         },
         "tracegroupgap": 0
        },
        "template": {
         "data": {
          "bar": [
           {
            "error_x": {
             "color": "rgb(36,36,36)"
            },
            "error_y": {
             "color": "rgb(36,36,36)"
            },
            "marker": {
             "line": {
              "color": "white",
              "width": 0.5
             },
             "pattern": {
              "fillmode": "overlay",
              "size": 10,
              "solidity": 0.2
             }
            },
            "type": "bar"
           }
          ],
          "barpolar": [
           {
            "marker": {
             "line": {
              "color": "white",
              "width": 0.5
             },
             "pattern": {
              "fillmode": "overlay",
              "size": 10,
              "solidity": 0.2
             }
            },
            "type": "barpolar"
           }
          ],
          "carpet": [
           {
            "aaxis": {
             "endlinecolor": "rgb(36,36,36)",
             "gridcolor": "white",
             "linecolor": "white",
             "minorgridcolor": "white",
             "startlinecolor": "rgb(36,36,36)"
            },
            "baxis": {
             "endlinecolor": "rgb(36,36,36)",
             "gridcolor": "white",
             "linecolor": "white",
             "minorgridcolor": "white",
             "startlinecolor": "rgb(36,36,36)"
            },
            "type": "carpet"
           }
          ],
          "choropleth": [
           {
            "colorbar": {
             "outlinewidth": 1,
             "tickcolor": "rgb(36,36,36)",
             "ticks": "outside"
            },
            "type": "choropleth"
           }
          ],
          "contour": [
           {
            "colorbar": {
             "outlinewidth": 1,
             "tickcolor": "rgb(36,36,36)",
             "ticks": "outside"
            },
            "colorscale": [
             [
              0,
              "#440154"
             ],
             [
              0.1111111111111111,
              "#482878"
             ],
             [
              0.2222222222222222,
              "#3e4989"
             ],
             [
              0.3333333333333333,
              "#31688e"
             ],
             [
              0.4444444444444444,
              "#26828e"
             ],
             [
              0.5555555555555556,
              "#1f9e89"
             ],
             [
              0.6666666666666666,
              "#35b779"
             ],
             [
              0.7777777777777778,
              "#6ece58"
             ],
             [
              0.8888888888888888,
              "#b5de2b"
             ],
             [
              1,
              "#fde725"
             ]
            ],
            "type": "contour"
           }
          ],
          "contourcarpet": [
           {
            "colorbar": {
             "outlinewidth": 1,
             "tickcolor": "rgb(36,36,36)",
             "ticks": "outside"
            },
            "type": "contourcarpet"
           }
          ],
          "heatmap": [
           {
            "colorbar": {
             "outlinewidth": 1,
             "tickcolor": "rgb(36,36,36)",
             "ticks": "outside"
            },
            "colorscale": [
             [
              0,
              "#440154"
             ],
             [
              0.1111111111111111,
              "#482878"
             ],
             [
              0.2222222222222222,
              "#3e4989"
             ],
             [
              0.3333333333333333,
              "#31688e"
             ],
             [
              0.4444444444444444,
              "#26828e"
             ],
             [
              0.5555555555555556,
              "#1f9e89"
             ],
             [
              0.6666666666666666,
              "#35b779"
             ],
             [
              0.7777777777777778,
              "#6ece58"
             ],
             [
              0.8888888888888888,
              "#b5de2b"
             ],
             [
              1,
              "#fde725"
             ]
            ],
            "type": "heatmap"
           }
          ],
          "heatmapgl": [
           {
            "colorbar": {
             "outlinewidth": 1,
             "tickcolor": "rgb(36,36,36)",
             "ticks": "outside"
            },
            "colorscale": [
             [
              0,
              "#440154"
             ],
             [
              0.1111111111111111,
              "#482878"
             ],
             [
              0.2222222222222222,
              "#3e4989"
             ],
             [
              0.3333333333333333,
              "#31688e"
             ],
             [
              0.4444444444444444,
              "#26828e"
             ],
             [
              0.5555555555555556,
              "#1f9e89"
             ],
             [
              0.6666666666666666,
              "#35b779"
             ],
             [
              0.7777777777777778,
              "#6ece58"
             ],
             [
              0.8888888888888888,
              "#b5de2b"
             ],
             [
              1,
              "#fde725"
             ]
            ],
            "type": "heatmapgl"
           }
          ],
          "histogram": [
           {
            "marker": {
             "line": {
              "color": "white",
              "width": 0.6
             }
            },
            "type": "histogram"
           }
          ],
          "histogram2d": [
           {
            "colorbar": {
             "outlinewidth": 1,
             "tickcolor": "rgb(36,36,36)",
             "ticks": "outside"
            },
            "colorscale": [
             [
              0,
              "#440154"
             ],
             [
              0.1111111111111111,
              "#482878"
             ],
             [
              0.2222222222222222,
              "#3e4989"
             ],
             [
              0.3333333333333333,
              "#31688e"
             ],
             [
              0.4444444444444444,
              "#26828e"
             ],
             [
              0.5555555555555556,
              "#1f9e89"
             ],
             [
              0.6666666666666666,
              "#35b779"
             ],
             [
              0.7777777777777778,
              "#6ece58"
             ],
             [
              0.8888888888888888,
              "#b5de2b"
             ],
             [
              1,
              "#fde725"
             ]
            ],
            "type": "histogram2d"
           }
          ],
          "histogram2dcontour": [
           {
            "colorbar": {
             "outlinewidth": 1,
             "tickcolor": "rgb(36,36,36)",
             "ticks": "outside"
            },
            "colorscale": [
             [
              0,
              "#440154"
             ],
             [
              0.1111111111111111,
              "#482878"
             ],
             [
              0.2222222222222222,
              "#3e4989"
             ],
             [
              0.3333333333333333,
              "#31688e"
             ],
             [
              0.4444444444444444,
              "#26828e"
             ],
             [
              0.5555555555555556,
              "#1f9e89"
             ],
             [
              0.6666666666666666,
              "#35b779"
             ],
             [
              0.7777777777777778,
              "#6ece58"
             ],
             [
              0.8888888888888888,
              "#b5de2b"
             ],
             [
              1,
              "#fde725"
             ]
            ],
            "type": "histogram2dcontour"
           }
          ],
          "mesh3d": [
           {
            "colorbar": {
             "outlinewidth": 1,
             "tickcolor": "rgb(36,36,36)",
             "ticks": "outside"
            },
            "type": "mesh3d"
           }
          ],
          "parcoords": [
           {
            "line": {
             "colorbar": {
              "outlinewidth": 1,
              "tickcolor": "rgb(36,36,36)",
              "ticks": "outside"
             }
            },
            "type": "parcoords"
           }
          ],
          "pie": [
           {
            "automargin": true,
            "type": "pie"
           }
          ],
          "scatter": [
           {
            "fillpattern": {
             "fillmode": "overlay",
             "size": 10,
             "solidity": 0.2
            },
            "type": "scatter"
           }
          ],
          "scatter3d": [
           {
            "line": {
             "colorbar": {
              "outlinewidth": 1,
              "tickcolor": "rgb(36,36,36)",
              "ticks": "outside"
             }
            },
            "marker": {
             "colorbar": {
              "outlinewidth": 1,
              "tickcolor": "rgb(36,36,36)",
              "ticks": "outside"
             }
            },
            "type": "scatter3d"
           }
          ],
          "scattercarpet": [
           {
            "marker": {
             "colorbar": {
              "outlinewidth": 1,
              "tickcolor": "rgb(36,36,36)",
              "ticks": "outside"
             }
            },
            "type": "scattercarpet"
           }
          ],
          "scattergeo": [
           {
            "marker": {
             "colorbar": {
              "outlinewidth": 1,
              "tickcolor": "rgb(36,36,36)",
              "ticks": "outside"
             }
            },
            "type": "scattergeo"
           }
          ],
          "scattergl": [
           {
            "marker": {
             "colorbar": {
              "outlinewidth": 1,
              "tickcolor": "rgb(36,36,36)",
              "ticks": "outside"
             }
            },
            "type": "scattergl"
           }
          ],
          "scattermapbox": [
           {
            "marker": {
             "colorbar": {
              "outlinewidth": 1,
              "tickcolor": "rgb(36,36,36)",
              "ticks": "outside"
             }
            },
            "type": "scattermapbox"
           }
          ],
          "scatterpolar": [
           {
            "marker": {
             "colorbar": {
              "outlinewidth": 1,
              "tickcolor": "rgb(36,36,36)",
              "ticks": "outside"
             }
            },
            "type": "scatterpolar"
           }
          ],
          "scatterpolargl": [
           {
            "marker": {
             "colorbar": {
              "outlinewidth": 1,
              "tickcolor": "rgb(36,36,36)",
              "ticks": "outside"
             }
            },
            "type": "scatterpolargl"
           }
          ],
          "scatterternary": [
           {
            "marker": {
             "colorbar": {
              "outlinewidth": 1,
              "tickcolor": "rgb(36,36,36)",
              "ticks": "outside"
             }
            },
            "type": "scatterternary"
           }
          ],
          "surface": [
           {
            "colorbar": {
             "outlinewidth": 1,
             "tickcolor": "rgb(36,36,36)",
             "ticks": "outside"
            },
            "colorscale": [
             [
              0,
              "#440154"
             ],
             [
              0.1111111111111111,
              "#482878"
             ],
             [
              0.2222222222222222,
              "#3e4989"
             ],
             [
              0.3333333333333333,
              "#31688e"
             ],
             [
              0.4444444444444444,
              "#26828e"
             ],
             [
              0.5555555555555556,
              "#1f9e89"
             ],
             [
              0.6666666666666666,
              "#35b779"
             ],
             [
              0.7777777777777778,
              "#6ece58"
             ],
             [
              0.8888888888888888,
              "#b5de2b"
             ],
             [
              1,
              "#fde725"
             ]
            ],
            "type": "surface"
           }
          ],
          "table": [
           {
            "cells": {
             "fill": {
              "color": "rgb(237,237,237)"
             },
             "line": {
              "color": "white"
             }
            },
            "header": {
             "fill": {
              "color": "rgb(217,217,217)"
             },
             "line": {
              "color": "white"
             }
            },
            "type": "table"
           }
          ]
         },
         "layout": {
          "annotationdefaults": {
           "arrowhead": 0,
           "arrowwidth": 1
          },
          "autotypenumbers": "strict",
          "coloraxis": {
           "colorbar": {
            "outlinewidth": 1,
            "tickcolor": "rgb(36,36,36)",
            "ticks": "outside"
           }
          },
          "colorscale": {
           "diverging": [
            [
             0,
             "rgb(103,0,31)"
            ],
            [
             0.1,
             "rgb(178,24,43)"
            ],
            [
             0.2,
             "rgb(214,96,77)"
            ],
            [
             0.3,
             "rgb(244,165,130)"
            ],
            [
             0.4,
             "rgb(253,219,199)"
            ],
            [
             0.5,
             "rgb(247,247,247)"
            ],
            [
             0.6,
             "rgb(209,229,240)"
            ],
            [
             0.7,
             "rgb(146,197,222)"
            ],
            [
             0.8,
             "rgb(67,147,195)"
            ],
            [
             0.9,
             "rgb(33,102,172)"
            ],
            [
             1,
             "rgb(5,48,97)"
            ]
           ],
           "sequential": [
            [
             0,
             "#440154"
            ],
            [
             0.1111111111111111,
             "#482878"
            ],
            [
             0.2222222222222222,
             "#3e4989"
            ],
            [
             0.3333333333333333,
             "#31688e"
            ],
            [
             0.4444444444444444,
             "#26828e"
            ],
            [
             0.5555555555555556,
             "#1f9e89"
            ],
            [
             0.6666666666666666,
             "#35b779"
            ],
            [
             0.7777777777777778,
             "#6ece58"
            ],
            [
             0.8888888888888888,
             "#b5de2b"
            ],
            [
             1,
             "#fde725"
            ]
           ],
           "sequentialminus": [
            [
             0,
             "#440154"
            ],
            [
             0.1111111111111111,
             "#482878"
            ],
            [
             0.2222222222222222,
             "#3e4989"
            ],
            [
             0.3333333333333333,
             "#31688e"
            ],
            [
             0.4444444444444444,
             "#26828e"
            ],
            [
             0.5555555555555556,
             "#1f9e89"
            ],
            [
             0.6666666666666666,
             "#35b779"
            ],
            [
             0.7777777777777778,
             "#6ece58"
            ],
            [
             0.8888888888888888,
             "#b5de2b"
            ],
            [
             1,
             "#fde725"
            ]
           ]
          },
          "colorway": [
           "#1F77B4",
           "#FF7F0E",
           "#2CA02C",
           "#D62728",
           "#9467BD",
           "#8C564B",
           "#E377C2",
           "#7F7F7F",
           "#BCBD22",
           "#17BECF"
          ],
          "font": {
           "color": "rgb(36,36,36)"
          },
          "geo": {
           "bgcolor": "white",
           "lakecolor": "white",
           "landcolor": "white",
           "showlakes": true,
           "showland": true,
           "subunitcolor": "white"
          },
          "hoverlabel": {
           "align": "left"
          },
          "hovermode": "closest",
          "mapbox": {
           "style": "light"
          },
          "paper_bgcolor": "white",
          "plot_bgcolor": "white",
          "polar": {
           "angularaxis": {
            "gridcolor": "rgb(232,232,232)",
            "linecolor": "rgb(36,36,36)",
            "showgrid": false,
            "showline": true,
            "ticks": "outside"
           },
           "bgcolor": "white",
           "radialaxis": {
            "gridcolor": "rgb(232,232,232)",
            "linecolor": "rgb(36,36,36)",
            "showgrid": false,
            "showline": true,
            "ticks": "outside"
           }
          },
          "scene": {
           "xaxis": {
            "backgroundcolor": "white",
            "gridcolor": "rgb(232,232,232)",
            "gridwidth": 2,
            "linecolor": "rgb(36,36,36)",
            "showbackground": true,
            "showgrid": false,
            "showline": true,
            "ticks": "outside",
            "zeroline": false,
            "zerolinecolor": "rgb(36,36,36)"
           },
           "yaxis": {
            "backgroundcolor": "white",
            "gridcolor": "rgb(232,232,232)",
            "gridwidth": 2,
            "linecolor": "rgb(36,36,36)",
            "showbackground": true,
            "showgrid": false,
            "showline": true,
            "ticks": "outside",
            "zeroline": false,
            "zerolinecolor": "rgb(36,36,36)"
           },
           "zaxis": {
            "backgroundcolor": "white",
            "gridcolor": "rgb(232,232,232)",
            "gridwidth": 2,
            "linecolor": "rgb(36,36,36)",
            "showbackground": true,
            "showgrid": false,
            "showline": true,
            "ticks": "outside",
            "zeroline": false,
            "zerolinecolor": "rgb(36,36,36)"
           }
          },
          "shapedefaults": {
           "fillcolor": "black",
           "line": {
            "width": 0
           },
           "opacity": 0.3
          },
          "ternary": {
           "aaxis": {
            "gridcolor": "rgb(232,232,232)",
            "linecolor": "rgb(36,36,36)",
            "showgrid": false,
            "showline": true,
            "ticks": "outside"
           },
           "baxis": {
            "gridcolor": "rgb(232,232,232)",
            "linecolor": "rgb(36,36,36)",
            "showgrid": false,
            "showline": true,
            "ticks": "outside"
           },
           "bgcolor": "white",
           "caxis": {
            "gridcolor": "rgb(232,232,232)",
            "linecolor": "rgb(36,36,36)",
            "showgrid": false,
            "showline": true,
            "ticks": "outside"
           }
          },
          "title": {
           "x": 0.05
          },
          "xaxis": {
           "automargin": true,
           "gridcolor": "rgb(232,232,232)",
           "linecolor": "rgb(36,36,36)",
           "showgrid": false,
           "showline": true,
           "ticks": "outside",
           "title": {
            "standoff": 15
           },
           "zeroline": false,
           "zerolinecolor": "rgb(36,36,36)"
          },
          "yaxis": {
           "automargin": true,
           "gridcolor": "rgb(232,232,232)",
           "linecolor": "rgb(36,36,36)",
           "showgrid": false,
           "showline": true,
           "ticks": "outside",
           "title": {
            "standoff": 15
           },
           "zeroline": false,
           "zerolinecolor": "rgb(36,36,36)"
          }
         }
        },
        "title": {
         "text": "Renewable Energy Production vs R&D Budget per Capita in The Past 10 years"
        },
        "xaxis": {
         "anchor": "y",
         "domain": [
          0,
          1
         ],
         "title": {
          "text": "R&D Budget (Euro/capita)"
         }
        },
        "yaxis": {
         "anchor": "x",
         "domain": [
          0,
          1
         ],
         "title": {
          "text": "Renewable Energy Production (kWh/capita)"
         }
        }
       }
      }
     },
     "metadata": {},
     "output_type": "display_data"
    }
   ],
   "source": [
    "import plotly.express as px\n",
    "\n",
    "fig = px.scatter(merged_df, x=\"budget_(Euro/capita)\", y=\"value_(kWh/capita)\", color=\"year\", hover_name=\"country_name\",\n",
    "           trendline=\"ols\", template=\"simple_white\", title='Renewable Energy Production vs R&D Budget per Capita in The Past 10 years')\n",
    "\n",
    "fig.update_traces(textposition=\"top center\")\n",
    "\n",
    "fig.update_layout(\n",
    "    xaxis_title= \"R&D Budget (Euro/capita)\",\n",
    "    yaxis_title= \"Renewable Energy Production (kWh/capita)\",\n",
    "    legend_title_text= \"Year\"\n",
    ")\n",
    "\n",
    "fig.show()"
   ]
  },
  {
   "cell_type": "code",
   "execution_count": 393,
   "metadata": {},
   "outputs": [
    {
     "data": {
      "text/html": [
       "<div>\n",
       "<style scoped>\n",
       "    .dataframe tbody tr th:only-of-type {\n",
       "        vertical-align: middle;\n",
       "    }\n",
       "\n",
       "    .dataframe tbody tr th {\n",
       "        vertical-align: top;\n",
       "    }\n",
       "\n",
       "    .dataframe thead th {\n",
       "        text-align: right;\n",
       "    }\n",
       "</style>\n",
       "<table border=\"1\" class=\"dataframe\">\n",
       "  <thead>\n",
       "    <tr style=\"text-align: right;\">\n",
       "      <th></th>\n",
       "      <th>country_name</th>\n",
       "      <th>year</th>\n",
       "      <th>value_(GWh)</th>\n",
       "      <th>geo</th>\n",
       "      <th>population</th>\n",
       "      <th>value_(kWh/capita)</th>\n",
       "      <th>budget_(million_Euro)</th>\n",
       "      <th>budget_(Euro/capita)</th>\n",
       "    </tr>\n",
       "  </thead>\n",
       "  <tbody>\n",
       "    <tr>\n",
       "      <th>0</th>\n",
       "      <td>Austria</td>\n",
       "      <td>2013</td>\n",
       "      <td>51827</td>\n",
       "      <td>AT</td>\n",
       "      <td>9104772</td>\n",
       "      <td>5692</td>\n",
       "      <td>73.902</td>\n",
       "      <td>8</td>\n",
       "    </tr>\n",
       "    <tr>\n",
       "      <th>1</th>\n",
       "      <td>Austria</td>\n",
       "      <td>2014</td>\n",
       "      <td>51369</td>\n",
       "      <td>AT</td>\n",
       "      <td>9104772</td>\n",
       "      <td>5642</td>\n",
       "      <td>80.348</td>\n",
       "      <td>9</td>\n",
       "    </tr>\n",
       "    <tr>\n",
       "      <th>2</th>\n",
       "      <td>Austria</td>\n",
       "      <td>2015</td>\n",
       "      <td>48406</td>\n",
       "      <td>AT</td>\n",
       "      <td>9104772</td>\n",
       "      <td>5317</td>\n",
       "      <td>72.471</td>\n",
       "      <td>8</td>\n",
       "    </tr>\n",
       "    <tr>\n",
       "      <th>3</th>\n",
       "      <td>Austria</td>\n",
       "      <td>2016</td>\n",
       "      <td>51467</td>\n",
       "      <td>AT</td>\n",
       "      <td>9104772</td>\n",
       "      <td>5653</td>\n",
       "      <td>82.885</td>\n",
       "      <td>9</td>\n",
       "    </tr>\n",
       "    <tr>\n",
       "      <th>4</th>\n",
       "      <td>Austria</td>\n",
       "      <td>2017</td>\n",
       "      <td>52450</td>\n",
       "      <td>AT</td>\n",
       "      <td>9104772</td>\n",
       "      <td>5761</td>\n",
       "      <td>81.356</td>\n",
       "      <td>9</td>\n",
       "    </tr>\n",
       "  </tbody>\n",
       "</table>\n",
       "</div>"
      ],
      "text/plain": [
       "  country_name  year  value_(GWh) geo  population  value_(kWh/capita)  \\\n",
       "0      Austria  2013        51827  AT     9104772                5692   \n",
       "1      Austria  2014        51369  AT     9104772                5642   \n",
       "2      Austria  2015        48406  AT     9104772                5317   \n",
       "3      Austria  2016        51467  AT     9104772                5653   \n",
       "4      Austria  2017        52450  AT     9104772                5761   \n",
       "\n",
       "   budget_(million_Euro)  budget_(Euro/capita)  \n",
       "0                 73.902                     8  \n",
       "1                 80.348                     9  \n",
       "2                 72.471                     8  \n",
       "3                 82.885                     9  \n",
       "4                 81.356                     9  "
      ]
     },
     "execution_count": 393,
     "metadata": {},
     "output_type": "execute_result"
    }
   ],
   "source": [
    "# now only focus on the top 6 countries\n",
    "\n",
    "merged_df_top_6 = pd.merge(RE_production_df_top_6, df_RnD_budget_long_top_6, on=[\"country_name\", \"year\", \"geo\", \"population\"])\n",
    "merged_df_top_6.head()"
   ]
  },
  {
   "cell_type": "code",
   "execution_count": 394,
   "metadata": {},
   "outputs": [
    {
     "data": {
      "text/html": [
       "<div>\n",
       "<style scoped>\n",
       "    .dataframe tbody tr th:only-of-type {\n",
       "        vertical-align: middle;\n",
       "    }\n",
       "\n",
       "    .dataframe tbody tr th {\n",
       "        vertical-align: top;\n",
       "    }\n",
       "\n",
       "    .dataframe thead th {\n",
       "        text-align: right;\n",
       "    }\n",
       "</style>\n",
       "<table border=\"1\" class=\"dataframe\">\n",
       "  <thead>\n",
       "    <tr style=\"text-align: right;\">\n",
       "      <th></th>\n",
       "      <th>country_name</th>\n",
       "      <th>year</th>\n",
       "      <th>value_(GWh)</th>\n",
       "      <th>geo</th>\n",
       "      <th>population</th>\n",
       "      <th>value_(kWh/capita)</th>\n",
       "    </tr>\n",
       "  </thead>\n",
       "  <tbody>\n",
       "    <tr>\n",
       "      <th>0</th>\n",
       "      <td>Austria</td>\n",
       "      <td>2013</td>\n",
       "      <td>51827</td>\n",
       "      <td>AT</td>\n",
       "      <td>9104772</td>\n",
       "      <td>5692</td>\n",
       "    </tr>\n",
       "    <tr>\n",
       "      <th>1</th>\n",
       "      <td>Austria</td>\n",
       "      <td>2014</td>\n",
       "      <td>51369</td>\n",
       "      <td>AT</td>\n",
       "      <td>9104772</td>\n",
       "      <td>5642</td>\n",
       "    </tr>\n",
       "    <tr>\n",
       "      <th>2</th>\n",
       "      <td>Austria</td>\n",
       "      <td>2015</td>\n",
       "      <td>48406</td>\n",
       "      <td>AT</td>\n",
       "      <td>9104772</td>\n",
       "      <td>5317</td>\n",
       "    </tr>\n",
       "    <tr>\n",
       "      <th>3</th>\n",
       "      <td>Austria</td>\n",
       "      <td>2016</td>\n",
       "      <td>51467</td>\n",
       "      <td>AT</td>\n",
       "      <td>9104772</td>\n",
       "      <td>5653</td>\n",
       "    </tr>\n",
       "    <tr>\n",
       "      <th>4</th>\n",
       "      <td>Austria</td>\n",
       "      <td>2017</td>\n",
       "      <td>52450</td>\n",
       "      <td>AT</td>\n",
       "      <td>9104772</td>\n",
       "      <td>5761</td>\n",
       "    </tr>\n",
       "    <tr>\n",
       "      <th>...</th>\n",
       "      <td>...</td>\n",
       "      <td>...</td>\n",
       "      <td>...</td>\n",
       "      <td>...</td>\n",
       "      <td>...</td>\n",
       "      <td>...</td>\n",
       "    </tr>\n",
       "    <tr>\n",
       "      <th>61</th>\n",
       "      <td>Sweden</td>\n",
       "      <td>2019</td>\n",
       "      <td>98073</td>\n",
       "      <td>SE</td>\n",
       "      <td>10521556</td>\n",
       "      <td>9321</td>\n",
       "    </tr>\n",
       "    <tr>\n",
       "      <th>62</th>\n",
       "      <td>Sweden</td>\n",
       "      <td>2020</td>\n",
       "      <td>111297</td>\n",
       "      <td>SE</td>\n",
       "      <td>10521556</td>\n",
       "      <td>10578</td>\n",
       "    </tr>\n",
       "    <tr>\n",
       "      <th>63</th>\n",
       "      <td>Sweden</td>\n",
       "      <td>2021</td>\n",
       "      <td>114682</td>\n",
       "      <td>SE</td>\n",
       "      <td>10521556</td>\n",
       "      <td>10900</td>\n",
       "    </tr>\n",
       "    <tr>\n",
       "      <th>64</th>\n",
       "      <td>Sweden</td>\n",
       "      <td>2022</td>\n",
       "      <td>120078</td>\n",
       "      <td>SE</td>\n",
       "      <td>10521556</td>\n",
       "      <td>11413</td>\n",
       "    </tr>\n",
       "    <tr>\n",
       "      <th>65</th>\n",
       "      <td>Sweden</td>\n",
       "      <td>2023</td>\n",
       "      <td>112174</td>\n",
       "      <td>SE</td>\n",
       "      <td>10521556</td>\n",
       "      <td>10661</td>\n",
       "    </tr>\n",
       "  </tbody>\n",
       "</table>\n",
       "<p>66 rows × 6 columns</p>\n",
       "</div>"
      ],
      "text/plain": [
       "   country_name  year  value_(GWh) geo  population  value_(kWh/capita)\n",
       "0       Austria  2013        51827  AT     9104772                5692\n",
       "1       Austria  2014        51369  AT     9104772                5642\n",
       "2       Austria  2015        48406  AT     9104772                5317\n",
       "3       Austria  2016        51467  AT     9104772                5653\n",
       "4       Austria  2017        52450  AT     9104772                5761\n",
       "..          ...   ...          ...  ..         ...                 ...\n",
       "61       Sweden  2019        98073  SE    10521556                9321\n",
       "62       Sweden  2020       111297  SE    10521556               10578\n",
       "63       Sweden  2021       114682  SE    10521556               10900\n",
       "64       Sweden  2022       120078  SE    10521556               11413\n",
       "65       Sweden  2023       112174  SE    10521556               10661\n",
       "\n",
       "[66 rows x 6 columns]"
      ]
     },
     "execution_count": 394,
     "metadata": {},
     "output_type": "execute_result"
    }
   ],
   "source": [
    "top_6_countries = [\"Sweden\", \"Finland\", \"Austria\", \"Denmark\", \"Portugal\", \"Germany\"]\n",
    "RE_production_df_top_6 = RE_production_df[RE_production_df[\"country_name\"].isin(top_6_countries)].reset_index(drop=True)\n",
    "RE_production_df_top_6"
   ]
  },
  {
   "cell_type": "code",
   "execution_count": 395,
   "metadata": {},
   "outputs": [
    {
     "data": {
      "text/html": [
       "<div>\n",
       "<style scoped>\n",
       "    .dataframe tbody tr th:only-of-type {\n",
       "        vertical-align: middle;\n",
       "    }\n",
       "\n",
       "    .dataframe tbody tr th {\n",
       "        vertical-align: top;\n",
       "    }\n",
       "\n",
       "    .dataframe thead th {\n",
       "        text-align: right;\n",
       "    }\n",
       "</style>\n",
       "<table border=\"1\" class=\"dataframe\">\n",
       "  <thead>\n",
       "    <tr style=\"text-align: right;\">\n",
       "      <th></th>\n",
       "      <th>country_name</th>\n",
       "      <th>year</th>\n",
       "      <th>budget_(million_Euro)</th>\n",
       "      <th>geo</th>\n",
       "      <th>population</th>\n",
       "      <th>budget_(Euro/capita)</th>\n",
       "    </tr>\n",
       "  </thead>\n",
       "  <tbody>\n",
       "    <tr>\n",
       "      <th>0</th>\n",
       "      <td>Austria</td>\n",
       "      <td>2013</td>\n",
       "      <td>73.902</td>\n",
       "      <td>AT</td>\n",
       "      <td>9104772</td>\n",
       "      <td>8</td>\n",
       "    </tr>\n",
       "    <tr>\n",
       "      <th>1</th>\n",
       "      <td>Denmark</td>\n",
       "      <td>2013</td>\n",
       "      <td>40.110</td>\n",
       "      <td>DK</td>\n",
       "      <td>5932654</td>\n",
       "      <td>7</td>\n",
       "    </tr>\n",
       "    <tr>\n",
       "      <th>2</th>\n",
       "      <td>Finland</td>\n",
       "      <td>2013</td>\n",
       "      <td>144.673</td>\n",
       "      <td>FI</td>\n",
       "      <td>5563970</td>\n",
       "      <td>26</td>\n",
       "    </tr>\n",
       "    <tr>\n",
       "      <th>3</th>\n",
       "      <td>Germany</td>\n",
       "      <td>2013</td>\n",
       "      <td>239.019</td>\n",
       "      <td>DE</td>\n",
       "      <td>84358845</td>\n",
       "      <td>3</td>\n",
       "    </tr>\n",
       "    <tr>\n",
       "      <th>4</th>\n",
       "      <td>Portugal</td>\n",
       "      <td>2013</td>\n",
       "      <td>2.720</td>\n",
       "      <td>PT</td>\n",
       "      <td>10467366</td>\n",
       "      <td>0</td>\n",
       "    </tr>\n",
       "    <tr>\n",
       "      <th>...</th>\n",
       "      <td>...</td>\n",
       "      <td>...</td>\n",
       "      <td>...</td>\n",
       "      <td>...</td>\n",
       "      <td>...</td>\n",
       "      <td>...</td>\n",
       "    </tr>\n",
       "    <tr>\n",
       "      <th>61</th>\n",
       "      <td>Denmark</td>\n",
       "      <td>2023</td>\n",
       "      <td>22.959</td>\n",
       "      <td>DK</td>\n",
       "      <td>5932654</td>\n",
       "      <td>4</td>\n",
       "    </tr>\n",
       "    <tr>\n",
       "      <th>62</th>\n",
       "      <td>Finland</td>\n",
       "      <td>2023</td>\n",
       "      <td>94.635</td>\n",
       "      <td>FI</td>\n",
       "      <td>5563970</td>\n",
       "      <td>17</td>\n",
       "    </tr>\n",
       "    <tr>\n",
       "      <th>63</th>\n",
       "      <td>Germany</td>\n",
       "      <td>2023</td>\n",
       "      <td>195.012</td>\n",
       "      <td>DE</td>\n",
       "      <td>84358845</td>\n",
       "      <td>2</td>\n",
       "    </tr>\n",
       "    <tr>\n",
       "      <th>64</th>\n",
       "      <td>Portugal</td>\n",
       "      <td>2023</td>\n",
       "      <td>32.196</td>\n",
       "      <td>PT</td>\n",
       "      <td>10467366</td>\n",
       "      <td>3</td>\n",
       "    </tr>\n",
       "    <tr>\n",
       "      <th>65</th>\n",
       "      <td>Sweden</td>\n",
       "      <td>2023</td>\n",
       "      <td>133.763</td>\n",
       "      <td>SE</td>\n",
       "      <td>10521556</td>\n",
       "      <td>13</td>\n",
       "    </tr>\n",
       "  </tbody>\n",
       "</table>\n",
       "<p>66 rows × 6 columns</p>\n",
       "</div>"
      ],
      "text/plain": [
       "   country_name  year  budget_(million_Euro) geo  population  \\\n",
       "0       Austria  2013                 73.902  AT     9104772   \n",
       "1       Denmark  2013                 40.110  DK     5932654   \n",
       "2       Finland  2013                144.673  FI     5563970   \n",
       "3       Germany  2013                239.019  DE    84358845   \n",
       "4      Portugal  2013                  2.720  PT    10467366   \n",
       "..          ...   ...                    ...  ..         ...   \n",
       "61      Denmark  2023                 22.959  DK     5932654   \n",
       "62      Finland  2023                 94.635  FI     5563970   \n",
       "63      Germany  2023                195.012  DE    84358845   \n",
       "64     Portugal  2023                 32.196  PT    10467366   \n",
       "65       Sweden  2023                133.763  SE    10521556   \n",
       "\n",
       "    budget_(Euro/capita)  \n",
       "0                      8  \n",
       "1                      7  \n",
       "2                     26  \n",
       "3                      3  \n",
       "4                      0  \n",
       "..                   ...  \n",
       "61                     4  \n",
       "62                    17  \n",
       "63                     2  \n",
       "64                     3  \n",
       "65                    13  \n",
       "\n",
       "[66 rows x 6 columns]"
      ]
     },
     "execution_count": 395,
     "metadata": {},
     "output_type": "execute_result"
    }
   ],
   "source": [
    "top_6_countries = [\"Sweden\", \"Finland\", \"Austria\", \"Denmark\", \"Portugal\", \"Germany\"]\n",
    "df_RnD_budget_long_top_6 = df_RnD_budget_long[df_RnD_budget_long[\"country_name\"].isin(top_6_countries)].reset_index(drop=True)\n",
    "df_RnD_budget_long_top_6"
   ]
  },
  {
   "cell_type": "code",
   "execution_count": 396,
   "metadata": {},
   "outputs": [
    {
     "data": {
      "application/vnd.plotly.v1+json": {
       "config": {
        "plotlyServerURL": "https://plot.ly"
       },
       "data": [
        {
         "hovertemplate": "budget_(Euro/capita)=%{x}<br>value_(kWh/capita)=%{y}<br>country_name=%{text}<br>year=%{marker.color}<extra></extra>",
         "legendgroup": "",
         "marker": {
          "color": [
           2013,
           2014,
           2015,
           2016,
           2017,
           2018,
           2019,
           2020,
           2021,
           2022,
           2023,
           2013,
           2014,
           2015,
           2016,
           2017,
           2018,
           2019,
           2020,
           2021,
           2022,
           2023,
           2013,
           2014,
           2015,
           2016,
           2017,
           2018,
           2019,
           2020,
           2021,
           2022,
           2023,
           2013,
           2014,
           2015,
           2016,
           2017,
           2018,
           2019,
           2020,
           2021,
           2022,
           2023,
           2013,
           2014,
           2015,
           2016,
           2017,
           2018,
           2019,
           2020,
           2021,
           2022,
           2023,
           2013,
           2014,
           2015,
           2016,
           2017,
           2018,
           2019,
           2020,
           2021,
           2022,
           2023
          ],
          "coloraxis": "coloraxis",
          "symbol": "circle"
         },
         "mode": "markers+text",
         "name": "",
         "orientation": "v",
         "showlegend": false,
         "text": [
          "Austria",
          "Austria",
          "Austria",
          "Austria",
          "Austria",
          "Austria",
          "Austria",
          "Austria",
          "Austria",
          "Austria",
          "Austria",
          "Denmark",
          "Denmark",
          "Denmark",
          "Denmark",
          "Denmark",
          "Denmark",
          "Denmark",
          "Denmark",
          "Denmark",
          "Denmark",
          "Denmark",
          "Finland",
          "Finland",
          "Finland",
          "Finland",
          "Finland",
          "Finland",
          "Finland",
          "Finland",
          "Finland",
          "Finland",
          "Finland",
          "Germany",
          "Germany",
          "Germany",
          "Germany",
          "Germany",
          "Germany",
          "Germany",
          "Germany",
          "Germany",
          "Germany",
          "Germany",
          "Portugal",
          "Portugal",
          "Portugal",
          "Portugal",
          "Portugal",
          "Portugal",
          "Portugal",
          "Portugal",
          "Portugal",
          "Portugal",
          "Portugal",
          "Sweden",
          "Sweden",
          "Sweden",
          "Sweden",
          "Sweden",
          "Sweden",
          "Sweden",
          "Sweden",
          "Sweden",
          "Sweden",
          "Sweden"
         ],
         "textposition": "top center",
         "type": "scatter",
         "x": [
          8,
          9,
          8,
          9,
          9,
          9,
          10,
          10,
          12,
          13,
          13,
          7,
          9,
          6,
          4,
          4,
          2,
          5,
          6,
          4,
          3,
          4,
          26,
          29,
          30,
          23,
          23,
          20,
          19,
          15,
          15,
          17,
          17,
          3,
          2,
          2,
          2,
          2,
          2,
          3,
          3,
          3,
          2,
          2,
          0,
          0,
          0,
          0,
          0,
          0,
          2,
          3,
          3,
          3,
          3,
          7,
          6,
          5,
          7,
          8,
          10,
          7,
          10,
          13,
          13,
          13
         ],
         "xaxis": "x",
         "y": [
          5692,
          5642,
          5317,
          5653,
          5761,
          5613,
          6103,
          6191,
          5976,
          5630,
          6309,
          2641,
          2978,
          3141,
          3030,
          3580,
          3432,
          3822,
          3876,
          4292,
          5046,
          5196,
          4462,
          4585,
          5349,
          5320,
          5513,
          5613,
          5567,
          6249,
          6637,
          7005,
          7547,
          1817,
          1936,
          2239,
          2249,
          2567,
          2626,
          2837,
          2974,
          2721,
          2963,
          3194,
          2889,
          3058,
          2404,
          3163,
          2282,
          2894,
          2728,
          2993,
          3130,
          2805,
          3503,
          7804,
          8073,
          9663,
          8409,
          8950,
          8587,
          9321,
          10578,
          10900,
          11413,
          10661
         ],
         "yaxis": "y"
        },
        {
         "hovertemplate": "<b>OLS trendline</b><br>value_(kWh/capita) = 151.852 * budget_(Euro/capita) + 3811.43<br>R<sup>2</sup>=0.195228<br><br>budget_(Euro/capita)=%{x}<br>value_(kWh/capita)=%{y} <b>(trend)</b><extra></extra>",
         "legendgroup": "",
         "marker": {
          "symbol": "circle"
         },
         "mode": "lines",
         "name": "",
         "showlegend": false,
         "textposition": "top center",
         "type": "scatter",
         "x": [
          0,
          0,
          0,
          0,
          0,
          0,
          2,
          2,
          2,
          2,
          2,
          2,
          2,
          2,
          2,
          3,
          3,
          3,
          3,
          3,
          3,
          3,
          3,
          3,
          4,
          4,
          4,
          4,
          5,
          5,
          6,
          6,
          6,
          7,
          7,
          7,
          7,
          8,
          8,
          8,
          9,
          9,
          9,
          9,
          9,
          10,
          10,
          10,
          10,
          12,
          13,
          13,
          13,
          13,
          13,
          15,
          15,
          17,
          17,
          19,
          20,
          23,
          23,
          26,
          29,
          30
         ],
         "xaxis": "x",
         "y": [
          3811.4302899650015,
          3811.4302899650015,
          3811.4302899650015,
          3811.4302899650015,
          3811.4302899650015,
          3811.4302899650015,
          4115.134576230587,
          4115.134576230587,
          4115.134576230587,
          4115.134576230587,
          4115.134576230587,
          4115.134576230587,
          4115.134576230587,
          4115.134576230587,
          4115.134576230587,
          4266.986719363381,
          4266.986719363381,
          4266.986719363381,
          4266.986719363381,
          4266.986719363381,
          4266.986719363381,
          4266.986719363381,
          4266.986719363381,
          4266.986719363381,
          4418.8388624961735,
          4418.8388624961735,
          4418.8388624961735,
          4418.8388624961735,
          4570.691005628967,
          4570.691005628967,
          4722.54314876176,
          4722.54314876176,
          4722.54314876176,
          4874.395291894552,
          4874.395291894552,
          4874.395291894552,
          4874.395291894552,
          5026.247435027346,
          5026.247435027346,
          5026.247435027346,
          5178.099578160139,
          5178.099578160139,
          5178.099578160139,
          5178.099578160139,
          5178.099578160139,
          5329.951721292931,
          5329.951721292931,
          5329.951721292931,
          5329.951721292931,
          5633.6560075585185,
          5785.508150691311,
          5785.508150691311,
          5785.508150691311,
          5785.508150691311,
          5785.508150691311,
          6089.212436956897,
          6089.212436956897,
          6392.916723222483,
          6392.916723222483,
          6696.621009488069,
          6848.473152620862,
          7304.029582019241,
          7304.029582019241,
          7759.58601141762,
          8215.142440816,
          8366.994583948792
         ],
         "yaxis": "y"
        }
       ],
       "layout": {
        "coloraxis": {
         "colorbar": {
          "title": {
           "text": "year"
          }
         },
         "colorscale": [
          [
           0,
           "#440154"
          ],
          [
           0.1111111111111111,
           "#482878"
          ],
          [
           0.2222222222222222,
           "#3e4989"
          ],
          [
           0.3333333333333333,
           "#31688e"
          ],
          [
           0.4444444444444444,
           "#26828e"
          ],
          [
           0.5555555555555556,
           "#1f9e89"
          ],
          [
           0.6666666666666666,
           "#35b779"
          ],
          [
           0.7777777777777778,
           "#6ece58"
          ],
          [
           0.8888888888888888,
           "#b5de2b"
          ],
          [
           1,
           "#fde725"
          ]
         ]
        },
        "legend": {
         "title": {
          "text": "Year"
         },
         "tracegroupgap": 0
        },
        "template": {
         "data": {
          "bar": [
           {
            "error_x": {
             "color": "rgb(36,36,36)"
            },
            "error_y": {
             "color": "rgb(36,36,36)"
            },
            "marker": {
             "line": {
              "color": "white",
              "width": 0.5
             },
             "pattern": {
              "fillmode": "overlay",
              "size": 10,
              "solidity": 0.2
             }
            },
            "type": "bar"
           }
          ],
          "barpolar": [
           {
            "marker": {
             "line": {
              "color": "white",
              "width": 0.5
             },
             "pattern": {
              "fillmode": "overlay",
              "size": 10,
              "solidity": 0.2
             }
            },
            "type": "barpolar"
           }
          ],
          "carpet": [
           {
            "aaxis": {
             "endlinecolor": "rgb(36,36,36)",
             "gridcolor": "white",
             "linecolor": "white",
             "minorgridcolor": "white",
             "startlinecolor": "rgb(36,36,36)"
            },
            "baxis": {
             "endlinecolor": "rgb(36,36,36)",
             "gridcolor": "white",
             "linecolor": "white",
             "minorgridcolor": "white",
             "startlinecolor": "rgb(36,36,36)"
            },
            "type": "carpet"
           }
          ],
          "choropleth": [
           {
            "colorbar": {
             "outlinewidth": 1,
             "tickcolor": "rgb(36,36,36)",
             "ticks": "outside"
            },
            "type": "choropleth"
           }
          ],
          "contour": [
           {
            "colorbar": {
             "outlinewidth": 1,
             "tickcolor": "rgb(36,36,36)",
             "ticks": "outside"
            },
            "colorscale": [
             [
              0,
              "#440154"
             ],
             [
              0.1111111111111111,
              "#482878"
             ],
             [
              0.2222222222222222,
              "#3e4989"
             ],
             [
              0.3333333333333333,
              "#31688e"
             ],
             [
              0.4444444444444444,
              "#26828e"
             ],
             [
              0.5555555555555556,
              "#1f9e89"
             ],
             [
              0.6666666666666666,
              "#35b779"
             ],
             [
              0.7777777777777778,
              "#6ece58"
             ],
             [
              0.8888888888888888,
              "#b5de2b"
             ],
             [
              1,
              "#fde725"
             ]
            ],
            "type": "contour"
           }
          ],
          "contourcarpet": [
           {
            "colorbar": {
             "outlinewidth": 1,
             "tickcolor": "rgb(36,36,36)",
             "ticks": "outside"
            },
            "type": "contourcarpet"
           }
          ],
          "heatmap": [
           {
            "colorbar": {
             "outlinewidth": 1,
             "tickcolor": "rgb(36,36,36)",
             "ticks": "outside"
            },
            "colorscale": [
             [
              0,
              "#440154"
             ],
             [
              0.1111111111111111,
              "#482878"
             ],
             [
              0.2222222222222222,
              "#3e4989"
             ],
             [
              0.3333333333333333,
              "#31688e"
             ],
             [
              0.4444444444444444,
              "#26828e"
             ],
             [
              0.5555555555555556,
              "#1f9e89"
             ],
             [
              0.6666666666666666,
              "#35b779"
             ],
             [
              0.7777777777777778,
              "#6ece58"
             ],
             [
              0.8888888888888888,
              "#b5de2b"
             ],
             [
              1,
              "#fde725"
             ]
            ],
            "type": "heatmap"
           }
          ],
          "heatmapgl": [
           {
            "colorbar": {
             "outlinewidth": 1,
             "tickcolor": "rgb(36,36,36)",
             "ticks": "outside"
            },
            "colorscale": [
             [
              0,
              "#440154"
             ],
             [
              0.1111111111111111,
              "#482878"
             ],
             [
              0.2222222222222222,
              "#3e4989"
             ],
             [
              0.3333333333333333,
              "#31688e"
             ],
             [
              0.4444444444444444,
              "#26828e"
             ],
             [
              0.5555555555555556,
              "#1f9e89"
             ],
             [
              0.6666666666666666,
              "#35b779"
             ],
             [
              0.7777777777777778,
              "#6ece58"
             ],
             [
              0.8888888888888888,
              "#b5de2b"
             ],
             [
              1,
              "#fde725"
             ]
            ],
            "type": "heatmapgl"
           }
          ],
          "histogram": [
           {
            "marker": {
             "line": {
              "color": "white",
              "width": 0.6
             }
            },
            "type": "histogram"
           }
          ],
          "histogram2d": [
           {
            "colorbar": {
             "outlinewidth": 1,
             "tickcolor": "rgb(36,36,36)",
             "ticks": "outside"
            },
            "colorscale": [
             [
              0,
              "#440154"
             ],
             [
              0.1111111111111111,
              "#482878"
             ],
             [
              0.2222222222222222,
              "#3e4989"
             ],
             [
              0.3333333333333333,
              "#31688e"
             ],
             [
              0.4444444444444444,
              "#26828e"
             ],
             [
              0.5555555555555556,
              "#1f9e89"
             ],
             [
              0.6666666666666666,
              "#35b779"
             ],
             [
              0.7777777777777778,
              "#6ece58"
             ],
             [
              0.8888888888888888,
              "#b5de2b"
             ],
             [
              1,
              "#fde725"
             ]
            ],
            "type": "histogram2d"
           }
          ],
          "histogram2dcontour": [
           {
            "colorbar": {
             "outlinewidth": 1,
             "tickcolor": "rgb(36,36,36)",
             "ticks": "outside"
            },
            "colorscale": [
             [
              0,
              "#440154"
             ],
             [
              0.1111111111111111,
              "#482878"
             ],
             [
              0.2222222222222222,
              "#3e4989"
             ],
             [
              0.3333333333333333,
              "#31688e"
             ],
             [
              0.4444444444444444,
              "#26828e"
             ],
             [
              0.5555555555555556,
              "#1f9e89"
             ],
             [
              0.6666666666666666,
              "#35b779"
             ],
             [
              0.7777777777777778,
              "#6ece58"
             ],
             [
              0.8888888888888888,
              "#b5de2b"
             ],
             [
              1,
              "#fde725"
             ]
            ],
            "type": "histogram2dcontour"
           }
          ],
          "mesh3d": [
           {
            "colorbar": {
             "outlinewidth": 1,
             "tickcolor": "rgb(36,36,36)",
             "ticks": "outside"
            },
            "type": "mesh3d"
           }
          ],
          "parcoords": [
           {
            "line": {
             "colorbar": {
              "outlinewidth": 1,
              "tickcolor": "rgb(36,36,36)",
              "ticks": "outside"
             }
            },
            "type": "parcoords"
           }
          ],
          "pie": [
           {
            "automargin": true,
            "type": "pie"
           }
          ],
          "scatter": [
           {
            "fillpattern": {
             "fillmode": "overlay",
             "size": 10,
             "solidity": 0.2
            },
            "type": "scatter"
           }
          ],
          "scatter3d": [
           {
            "line": {
             "colorbar": {
              "outlinewidth": 1,
              "tickcolor": "rgb(36,36,36)",
              "ticks": "outside"
             }
            },
            "marker": {
             "colorbar": {
              "outlinewidth": 1,
              "tickcolor": "rgb(36,36,36)",
              "ticks": "outside"
             }
            },
            "type": "scatter3d"
           }
          ],
          "scattercarpet": [
           {
            "marker": {
             "colorbar": {
              "outlinewidth": 1,
              "tickcolor": "rgb(36,36,36)",
              "ticks": "outside"
             }
            },
            "type": "scattercarpet"
           }
          ],
          "scattergeo": [
           {
            "marker": {
             "colorbar": {
              "outlinewidth": 1,
              "tickcolor": "rgb(36,36,36)",
              "ticks": "outside"
             }
            },
            "type": "scattergeo"
           }
          ],
          "scattergl": [
           {
            "marker": {
             "colorbar": {
              "outlinewidth": 1,
              "tickcolor": "rgb(36,36,36)",
              "ticks": "outside"
             }
            },
            "type": "scattergl"
           }
          ],
          "scattermapbox": [
           {
            "marker": {
             "colorbar": {
              "outlinewidth": 1,
              "tickcolor": "rgb(36,36,36)",
              "ticks": "outside"
             }
            },
            "type": "scattermapbox"
           }
          ],
          "scatterpolar": [
           {
            "marker": {
             "colorbar": {
              "outlinewidth": 1,
              "tickcolor": "rgb(36,36,36)",
              "ticks": "outside"
             }
            },
            "type": "scatterpolar"
           }
          ],
          "scatterpolargl": [
           {
            "marker": {
             "colorbar": {
              "outlinewidth": 1,
              "tickcolor": "rgb(36,36,36)",
              "ticks": "outside"
             }
            },
            "type": "scatterpolargl"
           }
          ],
          "scatterternary": [
           {
            "marker": {
             "colorbar": {
              "outlinewidth": 1,
              "tickcolor": "rgb(36,36,36)",
              "ticks": "outside"
             }
            },
            "type": "scatterternary"
           }
          ],
          "surface": [
           {
            "colorbar": {
             "outlinewidth": 1,
             "tickcolor": "rgb(36,36,36)",
             "ticks": "outside"
            },
            "colorscale": [
             [
              0,
              "#440154"
             ],
             [
              0.1111111111111111,
              "#482878"
             ],
             [
              0.2222222222222222,
              "#3e4989"
             ],
             [
              0.3333333333333333,
              "#31688e"
             ],
             [
              0.4444444444444444,
              "#26828e"
             ],
             [
              0.5555555555555556,
              "#1f9e89"
             ],
             [
              0.6666666666666666,
              "#35b779"
             ],
             [
              0.7777777777777778,
              "#6ece58"
             ],
             [
              0.8888888888888888,
              "#b5de2b"
             ],
             [
              1,
              "#fde725"
             ]
            ],
            "type": "surface"
           }
          ],
          "table": [
           {
            "cells": {
             "fill": {
              "color": "rgb(237,237,237)"
             },
             "line": {
              "color": "white"
             }
            },
            "header": {
             "fill": {
              "color": "rgb(217,217,217)"
             },
             "line": {
              "color": "white"
             }
            },
            "type": "table"
           }
          ]
         },
         "layout": {
          "annotationdefaults": {
           "arrowhead": 0,
           "arrowwidth": 1
          },
          "autotypenumbers": "strict",
          "coloraxis": {
           "colorbar": {
            "outlinewidth": 1,
            "tickcolor": "rgb(36,36,36)",
            "ticks": "outside"
           }
          },
          "colorscale": {
           "diverging": [
            [
             0,
             "rgb(103,0,31)"
            ],
            [
             0.1,
             "rgb(178,24,43)"
            ],
            [
             0.2,
             "rgb(214,96,77)"
            ],
            [
             0.3,
             "rgb(244,165,130)"
            ],
            [
             0.4,
             "rgb(253,219,199)"
            ],
            [
             0.5,
             "rgb(247,247,247)"
            ],
            [
             0.6,
             "rgb(209,229,240)"
            ],
            [
             0.7,
             "rgb(146,197,222)"
            ],
            [
             0.8,
             "rgb(67,147,195)"
            ],
            [
             0.9,
             "rgb(33,102,172)"
            ],
            [
             1,
             "rgb(5,48,97)"
            ]
           ],
           "sequential": [
            [
             0,
             "#440154"
            ],
            [
             0.1111111111111111,
             "#482878"
            ],
            [
             0.2222222222222222,
             "#3e4989"
            ],
            [
             0.3333333333333333,
             "#31688e"
            ],
            [
             0.4444444444444444,
             "#26828e"
            ],
            [
             0.5555555555555556,
             "#1f9e89"
            ],
            [
             0.6666666666666666,
             "#35b779"
            ],
            [
             0.7777777777777778,
             "#6ece58"
            ],
            [
             0.8888888888888888,
             "#b5de2b"
            ],
            [
             1,
             "#fde725"
            ]
           ],
           "sequentialminus": [
            [
             0,
             "#440154"
            ],
            [
             0.1111111111111111,
             "#482878"
            ],
            [
             0.2222222222222222,
             "#3e4989"
            ],
            [
             0.3333333333333333,
             "#31688e"
            ],
            [
             0.4444444444444444,
             "#26828e"
            ],
            [
             0.5555555555555556,
             "#1f9e89"
            ],
            [
             0.6666666666666666,
             "#35b779"
            ],
            [
             0.7777777777777778,
             "#6ece58"
            ],
            [
             0.8888888888888888,
             "#b5de2b"
            ],
            [
             1,
             "#fde725"
            ]
           ]
          },
          "colorway": [
           "#1F77B4",
           "#FF7F0E",
           "#2CA02C",
           "#D62728",
           "#9467BD",
           "#8C564B",
           "#E377C2",
           "#7F7F7F",
           "#BCBD22",
           "#17BECF"
          ],
          "font": {
           "color": "rgb(36,36,36)"
          },
          "geo": {
           "bgcolor": "white",
           "lakecolor": "white",
           "landcolor": "white",
           "showlakes": true,
           "showland": true,
           "subunitcolor": "white"
          },
          "hoverlabel": {
           "align": "left"
          },
          "hovermode": "closest",
          "mapbox": {
           "style": "light"
          },
          "paper_bgcolor": "white",
          "plot_bgcolor": "white",
          "polar": {
           "angularaxis": {
            "gridcolor": "rgb(232,232,232)",
            "linecolor": "rgb(36,36,36)",
            "showgrid": false,
            "showline": true,
            "ticks": "outside"
           },
           "bgcolor": "white",
           "radialaxis": {
            "gridcolor": "rgb(232,232,232)",
            "linecolor": "rgb(36,36,36)",
            "showgrid": false,
            "showline": true,
            "ticks": "outside"
           }
          },
          "scene": {
           "xaxis": {
            "backgroundcolor": "white",
            "gridcolor": "rgb(232,232,232)",
            "gridwidth": 2,
            "linecolor": "rgb(36,36,36)",
            "showbackground": true,
            "showgrid": false,
            "showline": true,
            "ticks": "outside",
            "zeroline": false,
            "zerolinecolor": "rgb(36,36,36)"
           },
           "yaxis": {
            "backgroundcolor": "white",
            "gridcolor": "rgb(232,232,232)",
            "gridwidth": 2,
            "linecolor": "rgb(36,36,36)",
            "showbackground": true,
            "showgrid": false,
            "showline": true,
            "ticks": "outside",
            "zeroline": false,
            "zerolinecolor": "rgb(36,36,36)"
           },
           "zaxis": {
            "backgroundcolor": "white",
            "gridcolor": "rgb(232,232,232)",
            "gridwidth": 2,
            "linecolor": "rgb(36,36,36)",
            "showbackground": true,
            "showgrid": false,
            "showline": true,
            "ticks": "outside",
            "zeroline": false,
            "zerolinecolor": "rgb(36,36,36)"
           }
          },
          "shapedefaults": {
           "fillcolor": "black",
           "line": {
            "width": 0
           },
           "opacity": 0.3
          },
          "ternary": {
           "aaxis": {
            "gridcolor": "rgb(232,232,232)",
            "linecolor": "rgb(36,36,36)",
            "showgrid": false,
            "showline": true,
            "ticks": "outside"
           },
           "baxis": {
            "gridcolor": "rgb(232,232,232)",
            "linecolor": "rgb(36,36,36)",
            "showgrid": false,
            "showline": true,
            "ticks": "outside"
           },
           "bgcolor": "white",
           "caxis": {
            "gridcolor": "rgb(232,232,232)",
            "linecolor": "rgb(36,36,36)",
            "showgrid": false,
            "showline": true,
            "ticks": "outside"
           }
          },
          "title": {
           "x": 0.05
          },
          "xaxis": {
           "automargin": true,
           "gridcolor": "rgb(232,232,232)",
           "linecolor": "rgb(36,36,36)",
           "showgrid": false,
           "showline": true,
           "ticks": "outside",
           "title": {
            "standoff": 15
           },
           "zeroline": false,
           "zerolinecolor": "rgb(36,36,36)"
          },
          "yaxis": {
           "automargin": true,
           "gridcolor": "rgb(232,232,232)",
           "linecolor": "rgb(36,36,36)",
           "showgrid": false,
           "showline": true,
           "ticks": "outside",
           "title": {
            "standoff": 15
           },
           "zeroline": false,
           "zerolinecolor": "rgb(36,36,36)"
          }
         }
        },
        "title": {
         "text": "Renewable Energy Production vs R&D Budget per Capita in The Past 10 years"
        },
        "xaxis": {
         "anchor": "y",
         "domain": [
          0,
          1
         ],
         "title": {
          "text": "R&D Budget (Euro/capita)"
         }
        },
        "yaxis": {
         "anchor": "x",
         "domain": [
          0,
          1
         ],
         "title": {
          "text": "Renewable Energy Production (kWh/capita)"
         }
        }
       }
      }
     },
     "metadata": {},
     "output_type": "display_data"
    }
   ],
   "source": [
    "import plotly.express as px\n",
    "\n",
    "fig = px.scatter(merged_df_top_6, x=\"budget_(Euro/capita)\", y=\"value_(kWh/capita)\", color=\"year\", text=\"country_name\",\n",
    "           trendline=\"ols\", template=\"simple_white\", title='Renewable Energy Production vs R&D Budget per Capita in The Past 10 years')\n",
    "\n",
    "fig.update_traces(textposition=\"top center\")\n",
    "\n",
    "fig.update_layout(\n",
    "    xaxis_title= \"R&D Budget (Euro/capita)\",\n",
    "    yaxis_title= \"Renewable Energy Production (kWh/capita)\",\n",
    "    legend_title_text= \"Year\"\n",
    ")\n",
    "\n",
    "fig.show()"
   ]
  },
  {
   "cell_type": "code",
   "execution_count": 397,
   "metadata": {},
   "outputs": [
    {
     "data": {
      "application/vnd.plotly.v1+json": {
       "config": {
        "plotlyServerURL": "https://plot.ly"
       },
       "data": [
        {
         "hovertemplate": "<b>%{hovertext}</b><br><br>budget_(Euro/capita)=%{x}<br>value_(kWh/capita)=%{y}<br>year=%{marker.color}<extra></extra>",
         "hovertext": [
          "Austria",
          "Austria",
          "Austria",
          "Austria",
          "Austria",
          "Austria",
          "Austria",
          "Austria",
          "Austria",
          "Austria",
          "Austria",
          "Belgium",
          "Belgium",
          "Belgium",
          "Belgium",
          "Belgium",
          "Belgium",
          "Belgium",
          "Belgium",
          "Belgium",
          "Belgium",
          "Belgium",
          "Czech Republic",
          "Czech Republic",
          "Czech Republic",
          "Czech Republic",
          "Czech Republic",
          "Czech Republic",
          "Czech Republic",
          "Czech Republic",
          "Czech Republic",
          "Czech Republic",
          "Czech Republic",
          "Denmark",
          "Denmark",
          "Denmark",
          "Denmark",
          "Denmark",
          "Denmark",
          "Denmark",
          "Denmark",
          "Denmark",
          "Denmark",
          "Denmark",
          "Estonia",
          "Estonia",
          "Estonia",
          "Estonia",
          "Estonia",
          "Estonia",
          "Estonia",
          "Estonia",
          "Estonia",
          "Estonia",
          "Estonia",
          "Finland",
          "Finland",
          "Finland",
          "Finland",
          "Finland",
          "Finland",
          "Finland",
          "Finland",
          "Finland",
          "Finland",
          "Finland",
          "France",
          "France",
          "France",
          "France",
          "France",
          "France",
          "France",
          "France",
          "France",
          "France",
          "France",
          "Germany",
          "Germany",
          "Germany",
          "Germany",
          "Germany",
          "Germany",
          "Germany",
          "Germany",
          "Germany",
          "Germany",
          "Germany",
          "Hungary",
          "Hungary",
          "Hungary",
          "Hungary",
          "Hungary",
          "Hungary",
          "Hungary",
          "Hungary",
          "Hungary",
          "Hungary",
          "Hungary",
          "Ireland",
          "Ireland",
          "Ireland",
          "Ireland",
          "Ireland",
          "Ireland",
          "Ireland",
          "Ireland",
          "Ireland",
          "Ireland",
          "Ireland",
          "Italy",
          "Italy",
          "Italy",
          "Italy",
          "Italy",
          "Italy",
          "Italy",
          "Italy",
          "Italy",
          "Italy",
          "Italy",
          "Netherlands",
          "Netherlands",
          "Netherlands",
          "Netherlands",
          "Netherlands",
          "Netherlands",
          "Netherlands",
          "Netherlands",
          "Netherlands",
          "Netherlands",
          "Netherlands",
          "Poland",
          "Poland",
          "Poland",
          "Poland",
          "Poland",
          "Poland",
          "Poland",
          "Poland",
          "Poland",
          "Poland",
          "Poland",
          "Portugal",
          "Portugal",
          "Portugal",
          "Portugal",
          "Portugal",
          "Portugal",
          "Portugal",
          "Portugal",
          "Portugal",
          "Portugal",
          "Portugal",
          "Slovak Republic",
          "Slovak Republic",
          "Slovak Republic",
          "Slovak Republic",
          "Slovak Republic",
          "Slovak Republic",
          "Slovak Republic",
          "Slovak Republic",
          "Slovak Republic",
          "Slovak Republic",
          "Slovak Republic",
          "Spain",
          "Spain",
          "Spain",
          "Spain",
          "Spain",
          "Spain",
          "Spain",
          "Spain",
          "Spain",
          "Spain",
          "Spain",
          "Sweden",
          "Sweden",
          "Sweden",
          "Sweden",
          "Sweden",
          "Sweden",
          "Sweden",
          "Sweden",
          "Sweden",
          "Sweden",
          "Sweden"
         ],
         "legendgroup": "",
         "marker": {
          "color": [
           2013,
           2014,
           2015,
           2016,
           2017,
           2018,
           2019,
           2020,
           2021,
           2022,
           2023,
           2013,
           2014,
           2015,
           2016,
           2017,
           2018,
           2019,
           2020,
           2021,
           2022,
           2023,
           2013,
           2014,
           2015,
           2016,
           2017,
           2018,
           2019,
           2020,
           2021,
           2022,
           2023,
           2013,
           2014,
           2015,
           2016,
           2017,
           2018,
           2019,
           2020,
           2021,
           2022,
           2023,
           2013,
           2014,
           2015,
           2016,
           2017,
           2018,
           2019,
           2020,
           2021,
           2022,
           2023,
           2013,
           2014,
           2015,
           2016,
           2017,
           2018,
           2019,
           2020,
           2021,
           2022,
           2023,
           2013,
           2014,
           2015,
           2016,
           2017,
           2018,
           2019,
           2020,
           2021,
           2022,
           2023,
           2013,
           2014,
           2015,
           2016,
           2017,
           2018,
           2019,
           2020,
           2021,
           2022,
           2023,
           2013,
           2014,
           2015,
           2016,
           2017,
           2018,
           2019,
           2020,
           2021,
           2022,
           2023,
           2013,
           2014,
           2015,
           2016,
           2017,
           2018,
           2019,
           2020,
           2021,
           2022,
           2023,
           2013,
           2014,
           2015,
           2016,
           2017,
           2018,
           2019,
           2020,
           2021,
           2022,
           2023,
           2013,
           2014,
           2015,
           2016,
           2017,
           2018,
           2019,
           2020,
           2021,
           2022,
           2023,
           2013,
           2014,
           2015,
           2016,
           2017,
           2018,
           2019,
           2020,
           2021,
           2022,
           2023,
           2013,
           2014,
           2015,
           2016,
           2017,
           2018,
           2019,
           2020,
           2021,
           2022,
           2023,
           2013,
           2014,
           2015,
           2016,
           2017,
           2018,
           2019,
           2020,
           2021,
           2022,
           2023,
           2013,
           2014,
           2015,
           2016,
           2017,
           2018,
           2019,
           2020,
           2021,
           2022,
           2023,
           2013,
           2014,
           2015,
           2016,
           2017,
           2018,
           2019,
           2020,
           2021,
           2022,
           2023
          ],
          "coloraxis": "coloraxis",
          "symbol": "circle"
         },
         "mode": "markers",
         "name": "",
         "orientation": "v",
         "showlegend": false,
         "type": "scatter",
         "x": [
          8,
          9,
          8,
          9,
          9,
          9,
          10,
          10,
          12,
          13,
          13,
          6,
          5,
          6,
          5,
          4,
          6,
          7,
          12,
          3,
          10,
          8,
          0,
          0,
          1,
          1,
          1,
          1,
          2,
          1,
          3,
          3,
          2,
          7,
          9,
          6,
          4,
          4,
          2,
          5,
          6,
          4,
          3,
          4,
          2,
          1,
          3,
          1,
          3,
          2,
          1,
          1,
          0,
          2,
          0,
          26,
          29,
          30,
          23,
          23,
          20,
          19,
          15,
          15,
          17,
          17,
          4,
          4,
          4,
          4,
          3,
          4,
          3,
          5,
          4,
          6,
          6,
          3,
          2,
          2,
          2,
          2,
          2,
          3,
          3,
          3,
          2,
          2,
          0,
          0,
          1,
          1,
          6,
          1,
          1,
          1,
          3,
          0,
          0,
          1,
          1,
          0,
          0,
          0,
          1,
          1,
          1,
          1,
          1,
          1,
          1,
          1,
          1,
          1,
          1,
          1,
          2,
          2,
          2,
          2,
          2,
          4,
          3,
          3,
          4,
          4,
          4,
          9,
          10,
          15,
          6,
          6,
          1,
          1,
          0,
          0,
          0,
          0,
          0,
          1,
          1,
          1,
          1,
          0,
          0,
          0,
          0,
          0,
          0,
          2,
          3,
          3,
          3,
          3,
          0,
          1,
          0,
          0,
          0,
          1,
          1,
          1,
          2,
          1,
          2,
          0,
          0,
          0,
          0,
          0,
          0,
          1,
          0,
          4,
          8,
          8,
          7,
          6,
          5,
          7,
          8,
          10,
          7,
          10,
          13,
          13,
          13
         ],
         "xaxis": "x",
         "y": [
          5692,
          5642,
          5317,
          5653,
          5761,
          5613,
          6103,
          6191,
          5976,
          5630,
          6309,
          1085,
          1124,
          1304,
          1283,
          1409,
          1516,
          1698,
          2051,
          1979,
          2106,
          2313,
          898,
          895,
          935,
          927,
          943,
          917,
          985,
          1023,
          1046,
          1017,
          1020,
          2641,
          2978,
          3141,
          3030,
          3580,
          3432,
          3822,
          3876,
          4292,
          5046,
          5196,
          838,
          950,
          1023,
          1059,
          1237,
          1341,
          1418,
          1967,
          1949,
          2111,
          1526,
          4462,
          4585,
          5349,
          5320,
          5513,
          5613,
          5567,
          6249,
          6637,
          7005,
          7547,
          1519,
          1452,
          1410,
          1512,
          1425,
          1732,
          1717,
          1891,
          1846,
          1739,
          2115,
          1817,
          1936,
          2239,
          2249,
          2567,
          2626,
          2837,
          2974,
          2721,
          2963,
          3194,
          269,
          301,
          311,
          315,
          341,
          368,
          465,
          555,
          698,
          761,
          911,
          1127,
          1260,
          1541,
          1474,
          1717,
          1973,
          2277,
          2601,
          2248,
          2629,
          2670,
          1893,
          2031,
          1831,
          1824,
          1754,
          1929,
          1955,
          1976,
          1968,
          1732,
          1949,
          665,
          640,
          756,
          819,
          969,
          1053,
          1269,
          1821,
          2248,
          2705,
          3254,
          455,
          527,
          604,
          604,
          635,
          568,
          679,
          754,
          817,
          995,
          1228,
          2889,
          3058,
          2404,
          3163,
          2282,
          2894,
          2728,
          2993,
          3130,
          2805,
          3503,
          1132,
          1078,
          1093,
          1213,
          1216,
          1069,
          1212,
          1198,
          1181,
          1109,
          1378,
          2358,
          2326,
          2033,
          2191,
          1835,
          2156,
          2092,
          2381,
          2620,
          2543,
          2940,
          7804,
          8073,
          9663,
          8409,
          8950,
          8587,
          9321,
          10578,
          10900,
          11413,
          10661
         ],
         "yaxis": "y"
        },
        {
         "hovertemplate": "<b>OLS trendline</b><br>value_(kWh/capita) = 256.308 * budget_(Euro/capita) + 1566.54<br>R<sup>2</sup>=0.370924<br><br>budget_(Euro/capita)=%{x}<br>value_(kWh/capita)=%{y} <b>(trend)</b><extra></extra>",
         "legendgroup": "",
         "marker": {
          "symbol": "circle"
         },
         "mode": "lines",
         "name": "",
         "showlegend": false,
         "type": "scatter",
         "x": [
          0,
          0,
          0,
          0,
          0,
          0,
          0,
          0,
          0,
          0,
          0,
          0,
          0,
          0,
          0,
          0,
          0,
          0,
          0,
          0,
          0,
          0,
          0,
          0,
          0,
          0,
          0,
          0,
          0,
          0,
          0,
          0,
          0,
          1,
          1,
          1,
          1,
          1,
          1,
          1,
          1,
          1,
          1,
          1,
          1,
          1,
          1,
          1,
          1,
          1,
          1,
          1,
          1,
          1,
          1,
          1,
          1,
          1,
          1,
          1,
          1,
          1,
          1,
          1,
          1,
          1,
          1,
          1,
          1,
          1,
          1,
          1,
          1,
          2,
          2,
          2,
          2,
          2,
          2,
          2,
          2,
          2,
          2,
          2,
          2,
          2,
          2,
          2,
          2,
          2,
          2,
          2,
          2,
          2,
          3,
          3,
          3,
          3,
          3,
          3,
          3,
          3,
          3,
          3,
          3,
          3,
          3,
          3,
          3,
          3,
          3,
          3,
          3,
          4,
          4,
          4,
          4,
          4,
          4,
          4,
          4,
          4,
          4,
          4,
          4,
          4,
          4,
          4,
          4,
          5,
          5,
          5,
          5,
          5,
          6,
          6,
          6,
          6,
          6,
          6,
          6,
          6,
          6,
          6,
          6,
          7,
          7,
          7,
          7,
          7,
          8,
          8,
          8,
          8,
          8,
          8,
          9,
          9,
          9,
          9,
          9,
          9,
          10,
          10,
          10,
          10,
          10,
          10,
          12,
          12,
          13,
          13,
          13,
          13,
          13,
          15,
          15,
          15,
          17,
          17,
          19,
          20,
          23,
          23,
          26,
          29,
          30
         ],
         "xaxis": "x",
         "y": [
          1566.542660145751,
          1566.542660145751,
          1566.542660145751,
          1566.542660145751,
          1566.542660145751,
          1566.542660145751,
          1566.542660145751,
          1566.542660145751,
          1566.542660145751,
          1566.542660145751,
          1566.542660145751,
          1566.542660145751,
          1566.542660145751,
          1566.542660145751,
          1566.542660145751,
          1566.542660145751,
          1566.542660145751,
          1566.542660145751,
          1566.542660145751,
          1566.542660145751,
          1566.542660145751,
          1566.542660145751,
          1566.542660145751,
          1566.542660145751,
          1566.542660145751,
          1566.542660145751,
          1566.542660145751,
          1566.542660145751,
          1566.542660145751,
          1566.542660145751,
          1566.542660145751,
          1566.542660145751,
          1566.542660145751,
          1822.850890004309,
          1822.850890004309,
          1822.850890004309,
          1822.850890004309,
          1822.850890004309,
          1822.850890004309,
          1822.850890004309,
          1822.850890004309,
          1822.850890004309,
          1822.850890004309,
          1822.850890004309,
          1822.850890004309,
          1822.850890004309,
          1822.850890004309,
          1822.850890004309,
          1822.850890004309,
          1822.850890004309,
          1822.850890004309,
          1822.850890004309,
          1822.850890004309,
          1822.850890004309,
          1822.850890004309,
          1822.850890004309,
          1822.850890004309,
          1822.850890004309,
          1822.850890004309,
          1822.850890004309,
          1822.850890004309,
          1822.850890004309,
          1822.850890004309,
          1822.850890004309,
          1822.850890004309,
          1822.850890004309,
          1822.850890004309,
          1822.850890004309,
          1822.850890004309,
          1822.850890004309,
          1822.850890004309,
          1822.850890004309,
          1822.850890004309,
          2079.1591198628666,
          2079.1591198628666,
          2079.1591198628666,
          2079.1591198628666,
          2079.1591198628666,
          2079.1591198628666,
          2079.1591198628666,
          2079.1591198628666,
          2079.1591198628666,
          2079.1591198628666,
          2079.1591198628666,
          2079.1591198628666,
          2079.1591198628666,
          2079.1591198628666,
          2079.1591198628666,
          2079.1591198628666,
          2079.1591198628666,
          2079.1591198628666,
          2079.1591198628666,
          2079.1591198628666,
          2079.1591198628666,
          2335.467349721425,
          2335.467349721425,
          2335.467349721425,
          2335.467349721425,
          2335.467349721425,
          2335.467349721425,
          2335.467349721425,
          2335.467349721425,
          2335.467349721425,
          2335.467349721425,
          2335.467349721425,
          2335.467349721425,
          2335.467349721425,
          2335.467349721425,
          2335.467349721425,
          2335.467349721425,
          2335.467349721425,
          2335.467349721425,
          2335.467349721425,
          2591.775579579983,
          2591.775579579983,
          2591.775579579983,
          2591.775579579983,
          2591.775579579983,
          2591.775579579983,
          2591.775579579983,
          2591.775579579983,
          2591.775579579983,
          2591.775579579983,
          2591.775579579983,
          2591.775579579983,
          2591.775579579983,
          2591.775579579983,
          2591.775579579983,
          2591.775579579983,
          2848.083809438541,
          2848.083809438541,
          2848.083809438541,
          2848.083809438541,
          2848.083809438541,
          3104.3920392970986,
          3104.3920392970986,
          3104.3920392970986,
          3104.3920392970986,
          3104.3920392970986,
          3104.3920392970986,
          3104.3920392970986,
          3104.3920392970986,
          3104.3920392970986,
          3104.3920392970986,
          3104.3920392970986,
          3360.7002691556568,
          3360.7002691556568,
          3360.7002691556568,
          3360.7002691556568,
          3360.7002691556568,
          3617.008499014215,
          3617.008499014215,
          3617.008499014215,
          3617.008499014215,
          3617.008499014215,
          3617.008499014215,
          3873.3167288727727,
          3873.3167288727727,
          3873.3167288727727,
          3873.3167288727727,
          3873.3167288727727,
          3873.3167288727727,
          4129.6249587313305,
          4129.6249587313305,
          4129.6249587313305,
          4129.6249587313305,
          4129.6249587313305,
          4129.6249587313305,
          4642.241418448447,
          4642.241418448447,
          4898.549648307005,
          4898.549648307005,
          4898.549648307005,
          4898.549648307005,
          4898.549648307005,
          5411.166108024121,
          5411.166108024121,
          5411.166108024121,
          5923.782567741237,
          5923.782567741237,
          6436.399027458353,
          6692.707257316911,
          7461.631946892585,
          7461.631946892585,
          8230.556636468258,
          8999.481326043931,
          9255.789555902491
         ],
         "yaxis": "y"
        }
       ],
       "layout": {
        "annotations": [
         {
          "font": {
           "color": "red",
           "size": 12
          },
          "showarrow": false,
          "text": "r = 0.61",
          "x": 0.05,
          "xref": "paper",
          "y": 0.95,
          "yref": "paper"
         }
        ],
        "coloraxis": {
         "colorbar": {
          "title": {
           "text": "year"
          }
         },
         "colorscale": [
          [
           0,
           "#440154"
          ],
          [
           0.1111111111111111,
           "#482878"
          ],
          [
           0.2222222222222222,
           "#3e4989"
          ],
          [
           0.3333333333333333,
           "#31688e"
          ],
          [
           0.4444444444444444,
           "#26828e"
          ],
          [
           0.5555555555555556,
           "#1f9e89"
          ],
          [
           0.6666666666666666,
           "#35b779"
          ],
          [
           0.7777777777777778,
           "#6ece58"
          ],
          [
           0.8888888888888888,
           "#b5de2b"
          ],
          [
           1,
           "#fde725"
          ]
         ]
        },
        "legend": {
         "title": {
          "text": "Year"
         },
         "tracegroupgap": 0
        },
        "template": {
         "data": {
          "bar": [
           {
            "error_x": {
             "color": "rgb(36,36,36)"
            },
            "error_y": {
             "color": "rgb(36,36,36)"
            },
            "marker": {
             "line": {
              "color": "white",
              "width": 0.5
             },
             "pattern": {
              "fillmode": "overlay",
              "size": 10,
              "solidity": 0.2
             }
            },
            "type": "bar"
           }
          ],
          "barpolar": [
           {
            "marker": {
             "line": {
              "color": "white",
              "width": 0.5
             },
             "pattern": {
              "fillmode": "overlay",
              "size": 10,
              "solidity": 0.2
             }
            },
            "type": "barpolar"
           }
          ],
          "carpet": [
           {
            "aaxis": {
             "endlinecolor": "rgb(36,36,36)",
             "gridcolor": "white",
             "linecolor": "white",
             "minorgridcolor": "white",
             "startlinecolor": "rgb(36,36,36)"
            },
            "baxis": {
             "endlinecolor": "rgb(36,36,36)",
             "gridcolor": "white",
             "linecolor": "white",
             "minorgridcolor": "white",
             "startlinecolor": "rgb(36,36,36)"
            },
            "type": "carpet"
           }
          ],
          "choropleth": [
           {
            "colorbar": {
             "outlinewidth": 1,
             "tickcolor": "rgb(36,36,36)",
             "ticks": "outside"
            },
            "type": "choropleth"
           }
          ],
          "contour": [
           {
            "colorbar": {
             "outlinewidth": 1,
             "tickcolor": "rgb(36,36,36)",
             "ticks": "outside"
            },
            "colorscale": [
             [
              0,
              "#440154"
             ],
             [
              0.1111111111111111,
              "#482878"
             ],
             [
              0.2222222222222222,
              "#3e4989"
             ],
             [
              0.3333333333333333,
              "#31688e"
             ],
             [
              0.4444444444444444,
              "#26828e"
             ],
             [
              0.5555555555555556,
              "#1f9e89"
             ],
             [
              0.6666666666666666,
              "#35b779"
             ],
             [
              0.7777777777777778,
              "#6ece58"
             ],
             [
              0.8888888888888888,
              "#b5de2b"
             ],
             [
              1,
              "#fde725"
             ]
            ],
            "type": "contour"
           }
          ],
          "contourcarpet": [
           {
            "colorbar": {
             "outlinewidth": 1,
             "tickcolor": "rgb(36,36,36)",
             "ticks": "outside"
            },
            "type": "contourcarpet"
           }
          ],
          "heatmap": [
           {
            "colorbar": {
             "outlinewidth": 1,
             "tickcolor": "rgb(36,36,36)",
             "ticks": "outside"
            },
            "colorscale": [
             [
              0,
              "#440154"
             ],
             [
              0.1111111111111111,
              "#482878"
             ],
             [
              0.2222222222222222,
              "#3e4989"
             ],
             [
              0.3333333333333333,
              "#31688e"
             ],
             [
              0.4444444444444444,
              "#26828e"
             ],
             [
              0.5555555555555556,
              "#1f9e89"
             ],
             [
              0.6666666666666666,
              "#35b779"
             ],
             [
              0.7777777777777778,
              "#6ece58"
             ],
             [
              0.8888888888888888,
              "#b5de2b"
             ],
             [
              1,
              "#fde725"
             ]
            ],
            "type": "heatmap"
           }
          ],
          "heatmapgl": [
           {
            "colorbar": {
             "outlinewidth": 1,
             "tickcolor": "rgb(36,36,36)",
             "ticks": "outside"
            },
            "colorscale": [
             [
              0,
              "#440154"
             ],
             [
              0.1111111111111111,
              "#482878"
             ],
             [
              0.2222222222222222,
              "#3e4989"
             ],
             [
              0.3333333333333333,
              "#31688e"
             ],
             [
              0.4444444444444444,
              "#26828e"
             ],
             [
              0.5555555555555556,
              "#1f9e89"
             ],
             [
              0.6666666666666666,
              "#35b779"
             ],
             [
              0.7777777777777778,
              "#6ece58"
             ],
             [
              0.8888888888888888,
              "#b5de2b"
             ],
             [
              1,
              "#fde725"
             ]
            ],
            "type": "heatmapgl"
           }
          ],
          "histogram": [
           {
            "marker": {
             "line": {
              "color": "white",
              "width": 0.6
             }
            },
            "type": "histogram"
           }
          ],
          "histogram2d": [
           {
            "colorbar": {
             "outlinewidth": 1,
             "tickcolor": "rgb(36,36,36)",
             "ticks": "outside"
            },
            "colorscale": [
             [
              0,
              "#440154"
             ],
             [
              0.1111111111111111,
              "#482878"
             ],
             [
              0.2222222222222222,
              "#3e4989"
             ],
             [
              0.3333333333333333,
              "#31688e"
             ],
             [
              0.4444444444444444,
              "#26828e"
             ],
             [
              0.5555555555555556,
              "#1f9e89"
             ],
             [
              0.6666666666666666,
              "#35b779"
             ],
             [
              0.7777777777777778,
              "#6ece58"
             ],
             [
              0.8888888888888888,
              "#b5de2b"
             ],
             [
              1,
              "#fde725"
             ]
            ],
            "type": "histogram2d"
           }
          ],
          "histogram2dcontour": [
           {
            "colorbar": {
             "outlinewidth": 1,
             "tickcolor": "rgb(36,36,36)",
             "ticks": "outside"
            },
            "colorscale": [
             [
              0,
              "#440154"
             ],
             [
              0.1111111111111111,
              "#482878"
             ],
             [
              0.2222222222222222,
              "#3e4989"
             ],
             [
              0.3333333333333333,
              "#31688e"
             ],
             [
              0.4444444444444444,
              "#26828e"
             ],
             [
              0.5555555555555556,
              "#1f9e89"
             ],
             [
              0.6666666666666666,
              "#35b779"
             ],
             [
              0.7777777777777778,
              "#6ece58"
             ],
             [
              0.8888888888888888,
              "#b5de2b"
             ],
             [
              1,
              "#fde725"
             ]
            ],
            "type": "histogram2dcontour"
           }
          ],
          "mesh3d": [
           {
            "colorbar": {
             "outlinewidth": 1,
             "tickcolor": "rgb(36,36,36)",
             "ticks": "outside"
            },
            "type": "mesh3d"
           }
          ],
          "parcoords": [
           {
            "line": {
             "colorbar": {
              "outlinewidth": 1,
              "tickcolor": "rgb(36,36,36)",
              "ticks": "outside"
             }
            },
            "type": "parcoords"
           }
          ],
          "pie": [
           {
            "automargin": true,
            "type": "pie"
           }
          ],
          "scatter": [
           {
            "fillpattern": {
             "fillmode": "overlay",
             "size": 10,
             "solidity": 0.2
            },
            "type": "scatter"
           }
          ],
          "scatter3d": [
           {
            "line": {
             "colorbar": {
              "outlinewidth": 1,
              "tickcolor": "rgb(36,36,36)",
              "ticks": "outside"
             }
            },
            "marker": {
             "colorbar": {
              "outlinewidth": 1,
              "tickcolor": "rgb(36,36,36)",
              "ticks": "outside"
             }
            },
            "type": "scatter3d"
           }
          ],
          "scattercarpet": [
           {
            "marker": {
             "colorbar": {
              "outlinewidth": 1,
              "tickcolor": "rgb(36,36,36)",
              "ticks": "outside"
             }
            },
            "type": "scattercarpet"
           }
          ],
          "scattergeo": [
           {
            "marker": {
             "colorbar": {
              "outlinewidth": 1,
              "tickcolor": "rgb(36,36,36)",
              "ticks": "outside"
             }
            },
            "type": "scattergeo"
           }
          ],
          "scattergl": [
           {
            "marker": {
             "colorbar": {
              "outlinewidth": 1,
              "tickcolor": "rgb(36,36,36)",
              "ticks": "outside"
             }
            },
            "type": "scattergl"
           }
          ],
          "scattermapbox": [
           {
            "marker": {
             "colorbar": {
              "outlinewidth": 1,
              "tickcolor": "rgb(36,36,36)",
              "ticks": "outside"
             }
            },
            "type": "scattermapbox"
           }
          ],
          "scatterpolar": [
           {
            "marker": {
             "colorbar": {
              "outlinewidth": 1,
              "tickcolor": "rgb(36,36,36)",
              "ticks": "outside"
             }
            },
            "type": "scatterpolar"
           }
          ],
          "scatterpolargl": [
           {
            "marker": {
             "colorbar": {
              "outlinewidth": 1,
              "tickcolor": "rgb(36,36,36)",
              "ticks": "outside"
             }
            },
            "type": "scatterpolargl"
           }
          ],
          "scatterternary": [
           {
            "marker": {
             "colorbar": {
              "outlinewidth": 1,
              "tickcolor": "rgb(36,36,36)",
              "ticks": "outside"
             }
            },
            "type": "scatterternary"
           }
          ],
          "surface": [
           {
            "colorbar": {
             "outlinewidth": 1,
             "tickcolor": "rgb(36,36,36)",
             "ticks": "outside"
            },
            "colorscale": [
             [
              0,
              "#440154"
             ],
             [
              0.1111111111111111,
              "#482878"
             ],
             [
              0.2222222222222222,
              "#3e4989"
             ],
             [
              0.3333333333333333,
              "#31688e"
             ],
             [
              0.4444444444444444,
              "#26828e"
             ],
             [
              0.5555555555555556,
              "#1f9e89"
             ],
             [
              0.6666666666666666,
              "#35b779"
             ],
             [
              0.7777777777777778,
              "#6ece58"
             ],
             [
              0.8888888888888888,
              "#b5de2b"
             ],
             [
              1,
              "#fde725"
             ]
            ],
            "type": "surface"
           }
          ],
          "table": [
           {
            "cells": {
             "fill": {
              "color": "rgb(237,237,237)"
             },
             "line": {
              "color": "white"
             }
            },
            "header": {
             "fill": {
              "color": "rgb(217,217,217)"
             },
             "line": {
              "color": "white"
             }
            },
            "type": "table"
           }
          ]
         },
         "layout": {
          "annotationdefaults": {
           "arrowhead": 0,
           "arrowwidth": 1
          },
          "autotypenumbers": "strict",
          "coloraxis": {
           "colorbar": {
            "outlinewidth": 1,
            "tickcolor": "rgb(36,36,36)",
            "ticks": "outside"
           }
          },
          "colorscale": {
           "diverging": [
            [
             0,
             "rgb(103,0,31)"
            ],
            [
             0.1,
             "rgb(178,24,43)"
            ],
            [
             0.2,
             "rgb(214,96,77)"
            ],
            [
             0.3,
             "rgb(244,165,130)"
            ],
            [
             0.4,
             "rgb(253,219,199)"
            ],
            [
             0.5,
             "rgb(247,247,247)"
            ],
            [
             0.6,
             "rgb(209,229,240)"
            ],
            [
             0.7,
             "rgb(146,197,222)"
            ],
            [
             0.8,
             "rgb(67,147,195)"
            ],
            [
             0.9,
             "rgb(33,102,172)"
            ],
            [
             1,
             "rgb(5,48,97)"
            ]
           ],
           "sequential": [
            [
             0,
             "#440154"
            ],
            [
             0.1111111111111111,
             "#482878"
            ],
            [
             0.2222222222222222,
             "#3e4989"
            ],
            [
             0.3333333333333333,
             "#31688e"
            ],
            [
             0.4444444444444444,
             "#26828e"
            ],
            [
             0.5555555555555556,
             "#1f9e89"
            ],
            [
             0.6666666666666666,
             "#35b779"
            ],
            [
             0.7777777777777778,
             "#6ece58"
            ],
            [
             0.8888888888888888,
             "#b5de2b"
            ],
            [
             1,
             "#fde725"
            ]
           ],
           "sequentialminus": [
            [
             0,
             "#440154"
            ],
            [
             0.1111111111111111,
             "#482878"
            ],
            [
             0.2222222222222222,
             "#3e4989"
            ],
            [
             0.3333333333333333,
             "#31688e"
            ],
            [
             0.4444444444444444,
             "#26828e"
            ],
            [
             0.5555555555555556,
             "#1f9e89"
            ],
            [
             0.6666666666666666,
             "#35b779"
            ],
            [
             0.7777777777777778,
             "#6ece58"
            ],
            [
             0.8888888888888888,
             "#b5de2b"
            ],
            [
             1,
             "#fde725"
            ]
           ]
          },
          "colorway": [
           "#1F77B4",
           "#FF7F0E",
           "#2CA02C",
           "#D62728",
           "#9467BD",
           "#8C564B",
           "#E377C2",
           "#7F7F7F",
           "#BCBD22",
           "#17BECF"
          ],
          "font": {
           "color": "rgb(36,36,36)"
          },
          "geo": {
           "bgcolor": "white",
           "lakecolor": "white",
           "landcolor": "white",
           "showlakes": true,
           "showland": true,
           "subunitcolor": "white"
          },
          "hoverlabel": {
           "align": "left"
          },
          "hovermode": "closest",
          "mapbox": {
           "style": "light"
          },
          "paper_bgcolor": "white",
          "plot_bgcolor": "white",
          "polar": {
           "angularaxis": {
            "gridcolor": "rgb(232,232,232)",
            "linecolor": "rgb(36,36,36)",
            "showgrid": false,
            "showline": true,
            "ticks": "outside"
           },
           "bgcolor": "white",
           "radialaxis": {
            "gridcolor": "rgb(232,232,232)",
            "linecolor": "rgb(36,36,36)",
            "showgrid": false,
            "showline": true,
            "ticks": "outside"
           }
          },
          "scene": {
           "xaxis": {
            "backgroundcolor": "white",
            "gridcolor": "rgb(232,232,232)",
            "gridwidth": 2,
            "linecolor": "rgb(36,36,36)",
            "showbackground": true,
            "showgrid": false,
            "showline": true,
            "ticks": "outside",
            "zeroline": false,
            "zerolinecolor": "rgb(36,36,36)"
           },
           "yaxis": {
            "backgroundcolor": "white",
            "gridcolor": "rgb(232,232,232)",
            "gridwidth": 2,
            "linecolor": "rgb(36,36,36)",
            "showbackground": true,
            "showgrid": false,
            "showline": true,
            "ticks": "outside",
            "zeroline": false,
            "zerolinecolor": "rgb(36,36,36)"
           },
           "zaxis": {
            "backgroundcolor": "white",
            "gridcolor": "rgb(232,232,232)",
            "gridwidth": 2,
            "linecolor": "rgb(36,36,36)",
            "showbackground": true,
            "showgrid": false,
            "showline": true,
            "ticks": "outside",
            "zeroline": false,
            "zerolinecolor": "rgb(36,36,36)"
           }
          },
          "shapedefaults": {
           "fillcolor": "black",
           "line": {
            "width": 0
           },
           "opacity": 0.3
          },
          "ternary": {
           "aaxis": {
            "gridcolor": "rgb(232,232,232)",
            "linecolor": "rgb(36,36,36)",
            "showgrid": false,
            "showline": true,
            "ticks": "outside"
           },
           "baxis": {
            "gridcolor": "rgb(232,232,232)",
            "linecolor": "rgb(36,36,36)",
            "showgrid": false,
            "showline": true,
            "ticks": "outside"
           },
           "bgcolor": "white",
           "caxis": {
            "gridcolor": "rgb(232,232,232)",
            "linecolor": "rgb(36,36,36)",
            "showgrid": false,
            "showline": true,
            "ticks": "outside"
           }
          },
          "title": {
           "x": 0.05
          },
          "xaxis": {
           "automargin": true,
           "gridcolor": "rgb(232,232,232)",
           "linecolor": "rgb(36,36,36)",
           "showgrid": false,
           "showline": true,
           "ticks": "outside",
           "title": {
            "standoff": 15
           },
           "zeroline": false,
           "zerolinecolor": "rgb(36,36,36)"
          },
          "yaxis": {
           "automargin": true,
           "gridcolor": "rgb(232,232,232)",
           "linecolor": "rgb(36,36,36)",
           "showgrid": false,
           "showline": true,
           "ticks": "outside",
           "title": {
            "standoff": 15
           },
           "zeroline": false,
           "zerolinecolor": "rgb(36,36,36)"
          }
         }
        },
        "title": {
         "text": "RE Production vs R&D Budget per Capita in The Past 10 years"
        },
        "xaxis": {
         "anchor": "y",
         "domain": [
          0,
          1
         ],
         "title": {
          "text": "R&D Budget (Euro/capita)"
         }
        },
        "yaxis": {
         "anchor": "x",
         "domain": [
          0,
          1
         ],
         "title": {
          "text": "Renewable Energy Production (kWh/capita)"
         }
        }
       }
      }
     },
     "metadata": {},
     "output_type": "display_data"
    }
   ],
   "source": [
    "from scipy.stats import pearsonr\n",
    "\n",
    "r, _ = pearsonr(merged_df['budget_(Euro/capita)'], merged_df['value_(kWh/capita)'])\n",
    "\n",
    "# Create scatter plot with trendline\n",
    "fig = px.scatter(\n",
    "    merged_df, \n",
    "    x=\"budget_(Euro/capita)\", \n",
    "    y=\"value_(kWh/capita)\", \n",
    "    color=\"year\", \n",
    "    hover_name=\"country_name\",\n",
    "    trendline=\"ols\", \n",
    "    template=\"simple_white\", \n",
    "    title='RE Production vs R&D Budget per Capita in The Past 10 years'\n",
    ")\n",
    "\n",
    "# Extract the trendline results\n",
    "trendline = fig.data[1]  # The trendline is the second trace (index 1)\n",
    "\n",
    "# Add annotation for the correlation coefficient\n",
    "fig.add_annotation(\n",
    "    x=0.05, \n",
    "    y=0.95, \n",
    "    xref=\"paper\", \n",
    "    yref=\"paper\",\n",
    "    text=f'r = {r:.2f}',\n",
    "    showarrow=False,\n",
    "    font=dict(size=12, color='red')\n",
    ")\n",
    "\n",
    "fig.update_layout(\n",
    "    xaxis_title=\"R&D Budget (Euro/capita)\",\n",
    "    yaxis_title=\"Renewable Energy Production (kWh/capita)\",\n",
    "    legend_title_text=\"Year\"\n",
    ")\n",
    "\n",
    "fig.show()"
   ]
  },
  {
   "cell_type": "code",
   "execution_count": 398,
   "metadata": {},
   "outputs": [
    {
     "data": {
      "application/vnd.plotly.v1+json": {
       "config": {
        "plotlyServerURL": "https://plot.ly"
       },
       "data": [
        {
         "hovertemplate": "<b>%{hovertext}</b><br><br>budget_(Euro/capita)=%{x}<br>value_(kWh/capita)=%{y}<br>year=%{marker.color}<extra></extra>",
         "hovertext": [
          "Austria",
          "Austria",
          "Austria",
          "Austria",
          "Austria",
          "Austria",
          "Austria",
          "Austria",
          "Austria",
          "Austria",
          "Austria",
          "Denmark",
          "Denmark",
          "Denmark",
          "Denmark",
          "Denmark",
          "Denmark",
          "Denmark",
          "Denmark",
          "Denmark",
          "Denmark",
          "Denmark",
          "Finland",
          "Finland",
          "Finland",
          "Finland",
          "Finland",
          "Finland",
          "Finland",
          "Finland",
          "Finland",
          "Finland",
          "Finland",
          "Germany",
          "Germany",
          "Germany",
          "Germany",
          "Germany",
          "Germany",
          "Germany",
          "Germany",
          "Germany",
          "Germany",
          "Germany",
          "Portugal",
          "Portugal",
          "Portugal",
          "Portugal",
          "Portugal",
          "Portugal",
          "Portugal",
          "Portugal",
          "Portugal",
          "Portugal",
          "Portugal",
          "Sweden",
          "Sweden",
          "Sweden",
          "Sweden",
          "Sweden",
          "Sweden",
          "Sweden",
          "Sweden",
          "Sweden",
          "Sweden",
          "Sweden"
         ],
         "legendgroup": "",
         "marker": {
          "color": [
           2013,
           2014,
           2015,
           2016,
           2017,
           2018,
           2019,
           2020,
           2021,
           2022,
           2023,
           2013,
           2014,
           2015,
           2016,
           2017,
           2018,
           2019,
           2020,
           2021,
           2022,
           2023,
           2013,
           2014,
           2015,
           2016,
           2017,
           2018,
           2019,
           2020,
           2021,
           2022,
           2023,
           2013,
           2014,
           2015,
           2016,
           2017,
           2018,
           2019,
           2020,
           2021,
           2022,
           2023,
           2013,
           2014,
           2015,
           2016,
           2017,
           2018,
           2019,
           2020,
           2021,
           2022,
           2023,
           2013,
           2014,
           2015,
           2016,
           2017,
           2018,
           2019,
           2020,
           2021,
           2022,
           2023
          ],
          "coloraxis": "coloraxis",
          "symbol": "circle"
         },
         "mode": "markers",
         "name": "",
         "orientation": "v",
         "showlegend": false,
         "type": "scatter",
         "x": [
          8,
          9,
          8,
          9,
          9,
          9,
          10,
          10,
          12,
          13,
          13,
          7,
          9,
          6,
          4,
          4,
          2,
          5,
          6,
          4,
          3,
          4,
          26,
          29,
          30,
          23,
          23,
          20,
          19,
          15,
          15,
          17,
          17,
          3,
          2,
          2,
          2,
          2,
          2,
          3,
          3,
          3,
          2,
          2,
          0,
          0,
          0,
          0,
          0,
          0,
          2,
          3,
          3,
          3,
          3,
          7,
          6,
          5,
          7,
          8,
          10,
          7,
          10,
          13,
          13,
          13
         ],
         "xaxis": "x",
         "y": [
          5692,
          5642,
          5317,
          5653,
          5761,
          5613,
          6103,
          6191,
          5976,
          5630,
          6309,
          2641,
          2978,
          3141,
          3030,
          3580,
          3432,
          3822,
          3876,
          4292,
          5046,
          5196,
          4462,
          4585,
          5349,
          5320,
          5513,
          5613,
          5567,
          6249,
          6637,
          7005,
          7547,
          1817,
          1936,
          2239,
          2249,
          2567,
          2626,
          2837,
          2974,
          2721,
          2963,
          3194,
          2889,
          3058,
          2404,
          3163,
          2282,
          2894,
          2728,
          2993,
          3130,
          2805,
          3503,
          7804,
          8073,
          9663,
          8409,
          8950,
          8587,
          9321,
          10578,
          10900,
          11413,
          10661
         ],
         "yaxis": "y"
        },
        {
         "hovertemplate": "<b>OLS trendline</b><br>value_(kWh/capita) = 151.852 * budget_(Euro/capita) + 3811.43<br>R<sup>2</sup>=0.195228<br><br>budget_(Euro/capita)=%{x}<br>value_(kWh/capita)=%{y} <b>(trend)</b><extra></extra>",
         "legendgroup": "",
         "marker": {
          "symbol": "circle"
         },
         "mode": "lines",
         "name": "",
         "showlegend": false,
         "type": "scatter",
         "x": [
          0,
          0,
          0,
          0,
          0,
          0,
          2,
          2,
          2,
          2,
          2,
          2,
          2,
          2,
          2,
          3,
          3,
          3,
          3,
          3,
          3,
          3,
          3,
          3,
          4,
          4,
          4,
          4,
          5,
          5,
          6,
          6,
          6,
          7,
          7,
          7,
          7,
          8,
          8,
          8,
          9,
          9,
          9,
          9,
          9,
          10,
          10,
          10,
          10,
          12,
          13,
          13,
          13,
          13,
          13,
          15,
          15,
          17,
          17,
          19,
          20,
          23,
          23,
          26,
          29,
          30
         ],
         "xaxis": "x",
         "y": [
          3811.4302899650015,
          3811.4302899650015,
          3811.4302899650015,
          3811.4302899650015,
          3811.4302899650015,
          3811.4302899650015,
          4115.134576230587,
          4115.134576230587,
          4115.134576230587,
          4115.134576230587,
          4115.134576230587,
          4115.134576230587,
          4115.134576230587,
          4115.134576230587,
          4115.134576230587,
          4266.986719363381,
          4266.986719363381,
          4266.986719363381,
          4266.986719363381,
          4266.986719363381,
          4266.986719363381,
          4266.986719363381,
          4266.986719363381,
          4266.986719363381,
          4418.8388624961735,
          4418.8388624961735,
          4418.8388624961735,
          4418.8388624961735,
          4570.691005628967,
          4570.691005628967,
          4722.54314876176,
          4722.54314876176,
          4722.54314876176,
          4874.395291894552,
          4874.395291894552,
          4874.395291894552,
          4874.395291894552,
          5026.247435027346,
          5026.247435027346,
          5026.247435027346,
          5178.099578160139,
          5178.099578160139,
          5178.099578160139,
          5178.099578160139,
          5178.099578160139,
          5329.951721292931,
          5329.951721292931,
          5329.951721292931,
          5329.951721292931,
          5633.6560075585185,
          5785.508150691311,
          5785.508150691311,
          5785.508150691311,
          5785.508150691311,
          5785.508150691311,
          6089.212436956897,
          6089.212436956897,
          6392.916723222483,
          6392.916723222483,
          6696.621009488069,
          6848.473152620862,
          7304.029582019241,
          7304.029582019241,
          7759.58601141762,
          8215.142440816,
          8366.994583948792
         ],
         "yaxis": "y"
        }
       ],
       "layout": {
        "annotations": [
         {
          "font": {
           "color": "red",
           "size": 12
          },
          "showarrow": false,
          "text": "r = 0.44",
          "x": 0.05,
          "xref": "paper",
          "y": 0.95,
          "yref": "paper"
         }
        ],
        "coloraxis": {
         "colorbar": {
          "title": {
           "text": "year"
          }
         },
         "colorscale": [
          [
           0,
           "#440154"
          ],
          [
           0.1111111111111111,
           "#482878"
          ],
          [
           0.2222222222222222,
           "#3e4989"
          ],
          [
           0.3333333333333333,
           "#31688e"
          ],
          [
           0.4444444444444444,
           "#26828e"
          ],
          [
           0.5555555555555556,
           "#1f9e89"
          ],
          [
           0.6666666666666666,
           "#35b779"
          ],
          [
           0.7777777777777778,
           "#6ece58"
          ],
          [
           0.8888888888888888,
           "#b5de2b"
          ],
          [
           1,
           "#fde725"
          ]
         ]
        },
        "legend": {
         "title": {
          "text": "Year"
         },
         "tracegroupgap": 0
        },
        "template": {
         "data": {
          "bar": [
           {
            "error_x": {
             "color": "rgb(36,36,36)"
            },
            "error_y": {
             "color": "rgb(36,36,36)"
            },
            "marker": {
             "line": {
              "color": "white",
              "width": 0.5
             },
             "pattern": {
              "fillmode": "overlay",
              "size": 10,
              "solidity": 0.2
             }
            },
            "type": "bar"
           }
          ],
          "barpolar": [
           {
            "marker": {
             "line": {
              "color": "white",
              "width": 0.5
             },
             "pattern": {
              "fillmode": "overlay",
              "size": 10,
              "solidity": 0.2
             }
            },
            "type": "barpolar"
           }
          ],
          "carpet": [
           {
            "aaxis": {
             "endlinecolor": "rgb(36,36,36)",
             "gridcolor": "white",
             "linecolor": "white",
             "minorgridcolor": "white",
             "startlinecolor": "rgb(36,36,36)"
            },
            "baxis": {
             "endlinecolor": "rgb(36,36,36)",
             "gridcolor": "white",
             "linecolor": "white",
             "minorgridcolor": "white",
             "startlinecolor": "rgb(36,36,36)"
            },
            "type": "carpet"
           }
          ],
          "choropleth": [
           {
            "colorbar": {
             "outlinewidth": 1,
             "tickcolor": "rgb(36,36,36)",
             "ticks": "outside"
            },
            "type": "choropleth"
           }
          ],
          "contour": [
           {
            "colorbar": {
             "outlinewidth": 1,
             "tickcolor": "rgb(36,36,36)",
             "ticks": "outside"
            },
            "colorscale": [
             [
              0,
              "#440154"
             ],
             [
              0.1111111111111111,
              "#482878"
             ],
             [
              0.2222222222222222,
              "#3e4989"
             ],
             [
              0.3333333333333333,
              "#31688e"
             ],
             [
              0.4444444444444444,
              "#26828e"
             ],
             [
              0.5555555555555556,
              "#1f9e89"
             ],
             [
              0.6666666666666666,
              "#35b779"
             ],
             [
              0.7777777777777778,
              "#6ece58"
             ],
             [
              0.8888888888888888,
              "#b5de2b"
             ],
             [
              1,
              "#fde725"
             ]
            ],
            "type": "contour"
           }
          ],
          "contourcarpet": [
           {
            "colorbar": {
             "outlinewidth": 1,
             "tickcolor": "rgb(36,36,36)",
             "ticks": "outside"
            },
            "type": "contourcarpet"
           }
          ],
          "heatmap": [
           {
            "colorbar": {
             "outlinewidth": 1,
             "tickcolor": "rgb(36,36,36)",
             "ticks": "outside"
            },
            "colorscale": [
             [
              0,
              "#440154"
             ],
             [
              0.1111111111111111,
              "#482878"
             ],
             [
              0.2222222222222222,
              "#3e4989"
             ],
             [
              0.3333333333333333,
              "#31688e"
             ],
             [
              0.4444444444444444,
              "#26828e"
             ],
             [
              0.5555555555555556,
              "#1f9e89"
             ],
             [
              0.6666666666666666,
              "#35b779"
             ],
             [
              0.7777777777777778,
              "#6ece58"
             ],
             [
              0.8888888888888888,
              "#b5de2b"
             ],
             [
              1,
              "#fde725"
             ]
            ],
            "type": "heatmap"
           }
          ],
          "heatmapgl": [
           {
            "colorbar": {
             "outlinewidth": 1,
             "tickcolor": "rgb(36,36,36)",
             "ticks": "outside"
            },
            "colorscale": [
             [
              0,
              "#440154"
             ],
             [
              0.1111111111111111,
              "#482878"
             ],
             [
              0.2222222222222222,
              "#3e4989"
             ],
             [
              0.3333333333333333,
              "#31688e"
             ],
             [
              0.4444444444444444,
              "#26828e"
             ],
             [
              0.5555555555555556,
              "#1f9e89"
             ],
             [
              0.6666666666666666,
              "#35b779"
             ],
             [
              0.7777777777777778,
              "#6ece58"
             ],
             [
              0.8888888888888888,
              "#b5de2b"
             ],
             [
              1,
              "#fde725"
             ]
            ],
            "type": "heatmapgl"
           }
          ],
          "histogram": [
           {
            "marker": {
             "line": {
              "color": "white",
              "width": 0.6
             }
            },
            "type": "histogram"
           }
          ],
          "histogram2d": [
           {
            "colorbar": {
             "outlinewidth": 1,
             "tickcolor": "rgb(36,36,36)",
             "ticks": "outside"
            },
            "colorscale": [
             [
              0,
              "#440154"
             ],
             [
              0.1111111111111111,
              "#482878"
             ],
             [
              0.2222222222222222,
              "#3e4989"
             ],
             [
              0.3333333333333333,
              "#31688e"
             ],
             [
              0.4444444444444444,
              "#26828e"
             ],
             [
              0.5555555555555556,
              "#1f9e89"
             ],
             [
              0.6666666666666666,
              "#35b779"
             ],
             [
              0.7777777777777778,
              "#6ece58"
             ],
             [
              0.8888888888888888,
              "#b5de2b"
             ],
             [
              1,
              "#fde725"
             ]
            ],
            "type": "histogram2d"
           }
          ],
          "histogram2dcontour": [
           {
            "colorbar": {
             "outlinewidth": 1,
             "tickcolor": "rgb(36,36,36)",
             "ticks": "outside"
            },
            "colorscale": [
             [
              0,
              "#440154"
             ],
             [
              0.1111111111111111,
              "#482878"
             ],
             [
              0.2222222222222222,
              "#3e4989"
             ],
             [
              0.3333333333333333,
              "#31688e"
             ],
             [
              0.4444444444444444,
              "#26828e"
             ],
             [
              0.5555555555555556,
              "#1f9e89"
             ],
             [
              0.6666666666666666,
              "#35b779"
             ],
             [
              0.7777777777777778,
              "#6ece58"
             ],
             [
              0.8888888888888888,
              "#b5de2b"
             ],
             [
              1,
              "#fde725"
             ]
            ],
            "type": "histogram2dcontour"
           }
          ],
          "mesh3d": [
           {
            "colorbar": {
             "outlinewidth": 1,
             "tickcolor": "rgb(36,36,36)",
             "ticks": "outside"
            },
            "type": "mesh3d"
           }
          ],
          "parcoords": [
           {
            "line": {
             "colorbar": {
              "outlinewidth": 1,
              "tickcolor": "rgb(36,36,36)",
              "ticks": "outside"
             }
            },
            "type": "parcoords"
           }
          ],
          "pie": [
           {
            "automargin": true,
            "type": "pie"
           }
          ],
          "scatter": [
           {
            "fillpattern": {
             "fillmode": "overlay",
             "size": 10,
             "solidity": 0.2
            },
            "type": "scatter"
           }
          ],
          "scatter3d": [
           {
            "line": {
             "colorbar": {
              "outlinewidth": 1,
              "tickcolor": "rgb(36,36,36)",
              "ticks": "outside"
             }
            },
            "marker": {
             "colorbar": {
              "outlinewidth": 1,
              "tickcolor": "rgb(36,36,36)",
              "ticks": "outside"
             }
            },
            "type": "scatter3d"
           }
          ],
          "scattercarpet": [
           {
            "marker": {
             "colorbar": {
              "outlinewidth": 1,
              "tickcolor": "rgb(36,36,36)",
              "ticks": "outside"
             }
            },
            "type": "scattercarpet"
           }
          ],
          "scattergeo": [
           {
            "marker": {
             "colorbar": {
              "outlinewidth": 1,
              "tickcolor": "rgb(36,36,36)",
              "ticks": "outside"
             }
            },
            "type": "scattergeo"
           }
          ],
          "scattergl": [
           {
            "marker": {
             "colorbar": {
              "outlinewidth": 1,
              "tickcolor": "rgb(36,36,36)",
              "ticks": "outside"
             }
            },
            "type": "scattergl"
           }
          ],
          "scattermapbox": [
           {
            "marker": {
             "colorbar": {
              "outlinewidth": 1,
              "tickcolor": "rgb(36,36,36)",
              "ticks": "outside"
             }
            },
            "type": "scattermapbox"
           }
          ],
          "scatterpolar": [
           {
            "marker": {
             "colorbar": {
              "outlinewidth": 1,
              "tickcolor": "rgb(36,36,36)",
              "ticks": "outside"
             }
            },
            "type": "scatterpolar"
           }
          ],
          "scatterpolargl": [
           {
            "marker": {
             "colorbar": {
              "outlinewidth": 1,
              "tickcolor": "rgb(36,36,36)",
              "ticks": "outside"
             }
            },
            "type": "scatterpolargl"
           }
          ],
          "scatterternary": [
           {
            "marker": {
             "colorbar": {
              "outlinewidth": 1,
              "tickcolor": "rgb(36,36,36)",
              "ticks": "outside"
             }
            },
            "type": "scatterternary"
           }
          ],
          "surface": [
           {
            "colorbar": {
             "outlinewidth": 1,
             "tickcolor": "rgb(36,36,36)",
             "ticks": "outside"
            },
            "colorscale": [
             [
              0,
              "#440154"
             ],
             [
              0.1111111111111111,
              "#482878"
             ],
             [
              0.2222222222222222,
              "#3e4989"
             ],
             [
              0.3333333333333333,
              "#31688e"
             ],
             [
              0.4444444444444444,
              "#26828e"
             ],
             [
              0.5555555555555556,
              "#1f9e89"
             ],
             [
              0.6666666666666666,
              "#35b779"
             ],
             [
              0.7777777777777778,
              "#6ece58"
             ],
             [
              0.8888888888888888,
              "#b5de2b"
             ],
             [
              1,
              "#fde725"
             ]
            ],
            "type": "surface"
           }
          ],
          "table": [
           {
            "cells": {
             "fill": {
              "color": "rgb(237,237,237)"
             },
             "line": {
              "color": "white"
             }
            },
            "header": {
             "fill": {
              "color": "rgb(217,217,217)"
             },
             "line": {
              "color": "white"
             }
            },
            "type": "table"
           }
          ]
         },
         "layout": {
          "annotationdefaults": {
           "arrowhead": 0,
           "arrowwidth": 1
          },
          "autotypenumbers": "strict",
          "coloraxis": {
           "colorbar": {
            "outlinewidth": 1,
            "tickcolor": "rgb(36,36,36)",
            "ticks": "outside"
           }
          },
          "colorscale": {
           "diverging": [
            [
             0,
             "rgb(103,0,31)"
            ],
            [
             0.1,
             "rgb(178,24,43)"
            ],
            [
             0.2,
             "rgb(214,96,77)"
            ],
            [
             0.3,
             "rgb(244,165,130)"
            ],
            [
             0.4,
             "rgb(253,219,199)"
            ],
            [
             0.5,
             "rgb(247,247,247)"
            ],
            [
             0.6,
             "rgb(209,229,240)"
            ],
            [
             0.7,
             "rgb(146,197,222)"
            ],
            [
             0.8,
             "rgb(67,147,195)"
            ],
            [
             0.9,
             "rgb(33,102,172)"
            ],
            [
             1,
             "rgb(5,48,97)"
            ]
           ],
           "sequential": [
            [
             0,
             "#440154"
            ],
            [
             0.1111111111111111,
             "#482878"
            ],
            [
             0.2222222222222222,
             "#3e4989"
            ],
            [
             0.3333333333333333,
             "#31688e"
            ],
            [
             0.4444444444444444,
             "#26828e"
            ],
            [
             0.5555555555555556,
             "#1f9e89"
            ],
            [
             0.6666666666666666,
             "#35b779"
            ],
            [
             0.7777777777777778,
             "#6ece58"
            ],
            [
             0.8888888888888888,
             "#b5de2b"
            ],
            [
             1,
             "#fde725"
            ]
           ],
           "sequentialminus": [
            [
             0,
             "#440154"
            ],
            [
             0.1111111111111111,
             "#482878"
            ],
            [
             0.2222222222222222,
             "#3e4989"
            ],
            [
             0.3333333333333333,
             "#31688e"
            ],
            [
             0.4444444444444444,
             "#26828e"
            ],
            [
             0.5555555555555556,
             "#1f9e89"
            ],
            [
             0.6666666666666666,
             "#35b779"
            ],
            [
             0.7777777777777778,
             "#6ece58"
            ],
            [
             0.8888888888888888,
             "#b5de2b"
            ],
            [
             1,
             "#fde725"
            ]
           ]
          },
          "colorway": [
           "#1F77B4",
           "#FF7F0E",
           "#2CA02C",
           "#D62728",
           "#9467BD",
           "#8C564B",
           "#E377C2",
           "#7F7F7F",
           "#BCBD22",
           "#17BECF"
          ],
          "font": {
           "color": "rgb(36,36,36)"
          },
          "geo": {
           "bgcolor": "white",
           "lakecolor": "white",
           "landcolor": "white",
           "showlakes": true,
           "showland": true,
           "subunitcolor": "white"
          },
          "hoverlabel": {
           "align": "left"
          },
          "hovermode": "closest",
          "mapbox": {
           "style": "light"
          },
          "paper_bgcolor": "white",
          "plot_bgcolor": "white",
          "polar": {
           "angularaxis": {
            "gridcolor": "rgb(232,232,232)",
            "linecolor": "rgb(36,36,36)",
            "showgrid": false,
            "showline": true,
            "ticks": "outside"
           },
           "bgcolor": "white",
           "radialaxis": {
            "gridcolor": "rgb(232,232,232)",
            "linecolor": "rgb(36,36,36)",
            "showgrid": false,
            "showline": true,
            "ticks": "outside"
           }
          },
          "scene": {
           "xaxis": {
            "backgroundcolor": "white",
            "gridcolor": "rgb(232,232,232)",
            "gridwidth": 2,
            "linecolor": "rgb(36,36,36)",
            "showbackground": true,
            "showgrid": false,
            "showline": true,
            "ticks": "outside",
            "zeroline": false,
            "zerolinecolor": "rgb(36,36,36)"
           },
           "yaxis": {
            "backgroundcolor": "white",
            "gridcolor": "rgb(232,232,232)",
            "gridwidth": 2,
            "linecolor": "rgb(36,36,36)",
            "showbackground": true,
            "showgrid": false,
            "showline": true,
            "ticks": "outside",
            "zeroline": false,
            "zerolinecolor": "rgb(36,36,36)"
           },
           "zaxis": {
            "backgroundcolor": "white",
            "gridcolor": "rgb(232,232,232)",
            "gridwidth": 2,
            "linecolor": "rgb(36,36,36)",
            "showbackground": true,
            "showgrid": false,
            "showline": true,
            "ticks": "outside",
            "zeroline": false,
            "zerolinecolor": "rgb(36,36,36)"
           }
          },
          "shapedefaults": {
           "fillcolor": "black",
           "line": {
            "width": 0
           },
           "opacity": 0.3
          },
          "ternary": {
           "aaxis": {
            "gridcolor": "rgb(232,232,232)",
            "linecolor": "rgb(36,36,36)",
            "showgrid": false,
            "showline": true,
            "ticks": "outside"
           },
           "baxis": {
            "gridcolor": "rgb(232,232,232)",
            "linecolor": "rgb(36,36,36)",
            "showgrid": false,
            "showline": true,
            "ticks": "outside"
           },
           "bgcolor": "white",
           "caxis": {
            "gridcolor": "rgb(232,232,232)",
            "linecolor": "rgb(36,36,36)",
            "showgrid": false,
            "showline": true,
            "ticks": "outside"
           }
          },
          "title": {
           "x": 0.05
          },
          "xaxis": {
           "automargin": true,
           "gridcolor": "rgb(232,232,232)",
           "linecolor": "rgb(36,36,36)",
           "showgrid": false,
           "showline": true,
           "ticks": "outside",
           "title": {
            "standoff": 15
           },
           "zeroline": false,
           "zerolinecolor": "rgb(36,36,36)"
          },
          "yaxis": {
           "automargin": true,
           "gridcolor": "rgb(232,232,232)",
           "linecolor": "rgb(36,36,36)",
           "showgrid": false,
           "showline": true,
           "ticks": "outside",
           "title": {
            "standoff": 15
           },
           "zeroline": false,
           "zerolinecolor": "rgb(36,36,36)"
          }
         }
        },
        "title": {
         "text": "RE Production vs R&D Budget per Capita in The Past 10 years"
        },
        "xaxis": {
         "anchor": "y",
         "domain": [
          0,
          1
         ],
         "title": {
          "text": "R&D Budget (Euro/capita)"
         }
        },
        "yaxis": {
         "anchor": "x",
         "domain": [
          0,
          1
         ],
         "title": {
          "text": "Renewable Energy Production (kWh/capita)"
         }
        }
       }
      }
     },
     "metadata": {},
     "output_type": "display_data"
    }
   ],
   "source": [
    "from scipy.stats import pearsonr\n",
    "\n",
    "r, _ = pearsonr(merged_df_top_6['budget_(Euro/capita)'], merged_df_top_6['value_(kWh/capita)'])\n",
    "\n",
    "# Create scatter plot with trendline\n",
    "fig = px.scatter(\n",
    "    merged_df_top_6, \n",
    "    x=\"budget_(Euro/capita)\", \n",
    "    y=\"value_(kWh/capita)\", \n",
    "    color=\"year\", \n",
    "    hover_name=\"country_name\",\n",
    "    trendline=\"ols\", \n",
    "    template=\"simple_white\", \n",
    "    title='RE Production vs R&D Budget per Capita in The Past 10 years'\n",
    ")\n",
    "\n",
    "# Extract the trendline results\n",
    "trendline = fig.data[1]  # The trendline is the second trace (index 1)\n",
    "\n",
    "# Add annotation for the correlation coefficient\n",
    "fig.add_annotation(\n",
    "    x=0.05, \n",
    "    y=0.95, \n",
    "    xref=\"paper\", \n",
    "    yref=\"paper\",\n",
    "    text=f'r = {r:.2f}',\n",
    "    showarrow=False,\n",
    "    font=dict(size=12, color='red')\n",
    ")\n",
    "\n",
    "fig.update_layout(\n",
    "    xaxis_title=\"R&D Budget (Euro/capita)\",\n",
    "    yaxis_title=\"Renewable Energy Production (kWh/capita)\",\n",
    "    legend_title_text=\"Year\"\n",
    ")\n",
    "\n",
    "fig.show()"
   ]
  },
  {
   "cell_type": "code",
   "execution_count": null,
   "metadata": {},
   "outputs": [],
   "source": [
    "df_RE_production = clean_RE_production(df_main)"
   ]
  },
  {
   "cell_type": "code",
   "execution_count": null,
   "metadata": {},
   "outputs": [],
   "source": [
    "data_url = 'url'\n",
    "df_RnD_budget = clean_RnD_budget(data_url)"
   ]
  },
  {
   "cell_type": "code",
   "execution_count": null,
   "metadata": {},
   "outputs": [],
   "source": [
    "data_url = 'url'\n",
    "df_population = clean_population(data_url)"
   ]
  },
  {
   "cell_type": "code",
   "execution_count": null,
   "metadata": {},
   "outputs": [],
   "source": [
    "df_RE_production_per_capita = RE_production_per_capita(df_RE_production, df_population)"
   ]
  },
  {
   "cell_type": "code",
   "execution_count": null,
   "metadata": {},
   "outputs": [],
   "source": [
    "df_RnD_budget_per_capita = RnD_budget_per_capita(df_RnD_budget, df_population)"
   ]
  },
  {
   "cell_type": "code",
   "execution_count": null,
   "metadata": {},
   "outputs": [],
   "source": [
    "visualize_hypothesis_3(df_RE_production_per_capita, df_RnD_budget_per_capita)"
   ]
  }
 ],
 "metadata": {
  "kernelspec": {
   "display_name": "base",
   "language": "python",
   "name": "python3"
  },
  "language_info": {
   "codemirror_mode": {
    "name": "ipython",
    "version": 3
   },
   "file_extension": ".py",
   "mimetype": "text/x-python",
   "name": "python",
   "nbconvert_exporter": "python",
   "pygments_lexer": "ipython3",
   "version": "3.11.7"
  }
 },
 "nbformat": 4,
 "nbformat_minor": 2
}
