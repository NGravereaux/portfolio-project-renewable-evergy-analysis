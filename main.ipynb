{
 "cells": [
  {
   "cell_type": "code",
   "execution_count": 1,
   "metadata": {},
   "outputs": [],
   "source": [
    "import pandas as pd\n",
    "import numpy as np\n",
    "import seaborn as sns\n",
    "import plotly.express as px\n",
    "import re\n",
    "\n",
    "\n",
    "from functions_h1 import *"
   ]
  },
  {
   "cell_type": "markdown",
   "metadata": {},
   "source": [
    "# Hypotesis 1"
   ]
  },
  {
   "cell_type": "markdown",
   "metadata": {},
   "source": [
    "# H1 : Initial data cheking EDA 1st Dataset : Global_electricity_production"
   ]
  },
  {
   "cell_type": "code",
   "execution_count": 2,
   "metadata": {},
   "outputs": [
    {
     "data": {
      "text/html": [
       "<div>\n",
       "<style scoped>\n",
       "    .dataframe tbody tr th:only-of-type {\n",
       "        vertical-align: middle;\n",
       "    }\n",
       "\n",
       "    .dataframe tbody tr th {\n",
       "        vertical-align: top;\n",
       "    }\n",
       "\n",
       "    .dataframe thead th {\n",
       "        text-align: right;\n",
       "    }\n",
       "</style>\n",
       "<table border=\"1\" class=\"dataframe\">\n",
       "  <thead>\n",
       "    <tr style=\"text-align: right;\">\n",
       "      <th></th>\n",
       "      <th>country_name</th>\n",
       "      <th>date</th>\n",
       "      <th>parameter</th>\n",
       "      <th>product</th>\n",
       "      <th>value</th>\n",
       "      <th>unit</th>\n",
       "    </tr>\n",
       "  </thead>\n",
       "  <tbody>\n",
       "    <tr>\n",
       "      <th>0</th>\n",
       "      <td>Australia</td>\n",
       "      <td>12/1/2023</td>\n",
       "      <td>Net Electricity Production</td>\n",
       "      <td>Electricity</td>\n",
       "      <td>22646.1901</td>\n",
       "      <td>GWh</td>\n",
       "    </tr>\n",
       "    <tr>\n",
       "      <th>1</th>\n",
       "      <td>Australia</td>\n",
       "      <td>12/1/2023</td>\n",
       "      <td>Net Electricity Production</td>\n",
       "      <td>Total Combustible Fuels</td>\n",
       "      <td>13397.9356</td>\n",
       "      <td>GWh</td>\n",
       "    </tr>\n",
       "    <tr>\n",
       "      <th>2</th>\n",
       "      <td>Australia</td>\n",
       "      <td>12/1/2023</td>\n",
       "      <td>Net Electricity Production</td>\n",
       "      <td>Coal, Peat and Manufactured Gases</td>\n",
       "      <td>9768.5223</td>\n",
       "      <td>GWh</td>\n",
       "    </tr>\n",
       "    <tr>\n",
       "      <th>3</th>\n",
       "      <td>Australia</td>\n",
       "      <td>12/1/2023</td>\n",
       "      <td>Net Electricity Production</td>\n",
       "      <td>Oil and Petroleum Products</td>\n",
       "      <td>289.5415</td>\n",
       "      <td>GWh</td>\n",
       "    </tr>\n",
       "    <tr>\n",
       "      <th>4</th>\n",
       "      <td>Australia</td>\n",
       "      <td>12/1/2023</td>\n",
       "      <td>Net Electricity Production</td>\n",
       "      <td>Natural Gas</td>\n",
       "      <td>3091.9272</td>\n",
       "      <td>GWh</td>\n",
       "    </tr>\n",
       "  </tbody>\n",
       "</table>\n",
       "</div>"
      ],
      "text/plain": [
       "  country_name       date                   parameter  \\\n",
       "0    Australia  12/1/2023  Net Electricity Production   \n",
       "1    Australia  12/1/2023  Net Electricity Production   \n",
       "2    Australia  12/1/2023  Net Electricity Production   \n",
       "3    Australia  12/1/2023  Net Electricity Production   \n",
       "4    Australia  12/1/2023  Net Electricity Production   \n",
       "\n",
       "                             product       value unit  \n",
       "0                        Electricity  22646.1901  GWh  \n",
       "1            Total Combustible Fuels  13397.9356  GWh  \n",
       "2  Coal, Peat and Manufactured Gases   9768.5223  GWh  \n",
       "3         Oil and Petroleum Products    289.5415  GWh  \n",
       "4                        Natural Gas   3091.9272  GWh  "
      ]
     },
     "execution_count": 2,
     "metadata": {},
     "output_type": "execute_result"
    }
   ],
   "source": [
    "#load dataset 1        \n",
    "df1 = pd.read_csv('./data/global_electricity_production_data.csv')     \n",
    "df1.head()                       \n"
   ]
  },
  {
   "cell_type": "code",
   "execution_count": 3,
   "metadata": {},
   "outputs": [
    {
     "name": "stdout",
     "output_type": "stream",
     "text": [
      "\n",
      "Shape of the DataFrame:\n",
      "\n",
      "(121074, 6)\n",
      "\n",
      "Duplicate Rows Number:\n",
      "\n",
      "0\n",
      "\n",
      "Summary Statistics:\n",
      "\n",
      "              value\n",
      "count  121060.00000\n",
      "mean     6925.08149\n",
      "std     34224.45546\n",
      "min         0.00000\n",
      "25%        41.19900\n",
      "50%       470.41900\n",
      "75%      2629.71275\n",
      "max    865976.48280\n"
     ]
    }
   ],
   "source": [
    "# H1: Perform initial data cheking:\n",
    "initial_data_checking(df1)"
   ]
  },
  {
   "cell_type": "code",
   "execution_count": 4,
   "metadata": {},
   "outputs": [
    {
     "data": {
      "text/html": [
       "<div>\n",
       "<style scoped>\n",
       "    .dataframe tbody tr th:only-of-type {\n",
       "        vertical-align: middle;\n",
       "    }\n",
       "\n",
       "    .dataframe tbody tr th {\n",
       "        vertical-align: top;\n",
       "    }\n",
       "\n",
       "    .dataframe thead th {\n",
       "        text-align: right;\n",
       "    }\n",
       "</style>\n",
       "<table border=\"1\" class=\"dataframe\">\n",
       "  <thead>\n",
       "    <tr style=\"text-align: right;\">\n",
       "      <th></th>\n",
       "      <th>non-Null_count</th>\n",
       "      <th>dtype</th>\n",
       "      <th>unique_values</th>\n",
       "      <th>%_unique</th>\n",
       "      <th>missing_values</th>\n",
       "      <th>%_missing</th>\n",
       "    </tr>\n",
       "  </thead>\n",
       "  <tbody>\n",
       "    <tr>\n",
       "      <th>country_name</th>\n",
       "      <td>121074</td>\n",
       "      <td>object</td>\n",
       "      <td>48</td>\n",
       "      <td>0.04%</td>\n",
       "      <td>0</td>\n",
       "      <td>0.0%</td>\n",
       "    </tr>\n",
       "    <tr>\n",
       "      <th>date</th>\n",
       "      <td>121074</td>\n",
       "      <td>object</td>\n",
       "      <td>168</td>\n",
       "      <td>0.14%</td>\n",
       "      <td>0</td>\n",
       "      <td>0.0%</td>\n",
       "    </tr>\n",
       "    <tr>\n",
       "      <th>parameter</th>\n",
       "      <td>121074</td>\n",
       "      <td>object</td>\n",
       "      <td>7</td>\n",
       "      <td>0.01%</td>\n",
       "      <td>0</td>\n",
       "      <td>0.0%</td>\n",
       "    </tr>\n",
       "    <tr>\n",
       "      <th>product</th>\n",
       "      <td>121074</td>\n",
       "      <td>object</td>\n",
       "      <td>16</td>\n",
       "      <td>0.01%</td>\n",
       "      <td>0</td>\n",
       "      <td>0.0%</td>\n",
       "    </tr>\n",
       "    <tr>\n",
       "      <th>value</th>\n",
       "      <td>121060</td>\n",
       "      <td>float64</td>\n",
       "      <td>101983</td>\n",
       "      <td>84.23%</td>\n",
       "      <td>14</td>\n",
       "      <td>0.01%</td>\n",
       "    </tr>\n",
       "    <tr>\n",
       "      <th>unit</th>\n",
       "      <td>121074</td>\n",
       "      <td>object</td>\n",
       "      <td>1</td>\n",
       "      <td>0.0%</td>\n",
       "      <td>0</td>\n",
       "      <td>0.0%</td>\n",
       "    </tr>\n",
       "  </tbody>\n",
       "</table>\n",
       "</div>"
      ],
      "text/plain": [
       "              non-Null_count    dtype  unique_values %_unique  missing_values  \\\n",
       "country_name          121074   object             48    0.04%               0   \n",
       "date                  121074   object            168    0.14%               0   \n",
       "parameter             121074   object              7    0.01%               0   \n",
       "product               121074   object             16    0.01%               0   \n",
       "value                 121060  float64         101983   84.23%              14   \n",
       "unit                  121074   object              1     0.0%               0   \n",
       "\n",
       "             %_missing  \n",
       "country_name      0.0%  \n",
       "date              0.0%  \n",
       "parameter         0.0%  \n",
       "product           0.0%  \n",
       "value            0.01%  \n",
       "unit              0.0%  "
      ]
     },
     "execution_count": 4,
     "metadata": {},
     "output_type": "execute_result"
    }
   ],
   "source": [
    "# H1: check unique and missing values:\n",
    "unique_and_missing_values_dtype(df1)"
   ]
  },
  {
   "cell_type": "code",
   "execution_count": 5,
   "metadata": {},
   "outputs": [
    {
     "name": "stdout",
     "output_type": "stream",
     "text": [
      "\n",
      "Categorical Columns:\n",
      "\n",
      "  country_name       date                   parameter  \\\n",
      "0    Australia  12/1/2023  Net Electricity Production   \n",
      "1    Australia  12/1/2023  Net Electricity Production   \n",
      "2    Australia  12/1/2023  Net Electricity Production   \n",
      "3    Australia  12/1/2023  Net Electricity Production   \n",
      "4    Australia  12/1/2023  Net Electricity Production   \n",
      "\n",
      "                             product unit  \n",
      "0                        Electricity  GWh  \n",
      "1            Total Combustible Fuels  GWh  \n",
      "2  Coal, Peat and Manufactured Gases  GWh  \n",
      "3         Oil and Petroleum Products  GWh  \n",
      "4                        Natural Gas  GWh  \n",
      "\n",
      "Numerical Columns:\n",
      "\n",
      "        value\n",
      "0  22646.1901\n",
      "1  13397.9356\n",
      "2   9768.5223\n",
      "3    289.5415\n",
      "4   3091.9272\n"
     ]
    }
   ],
   "source": [
    "# H1: separate categorical and numerical columns for 1st Dataset : Global_electriciy_production:\n",
    "separate_columns_h1(df1)"
   ]
  },
  {
   "cell_type": "code",
   "execution_count": 6,
   "metadata": {},
   "outputs": [
    {
     "data": {
      "text/html": [
       "<div>\n",
       "<style scoped>\n",
       "    .dataframe tbody tr th:only-of-type {\n",
       "        vertical-align: middle;\n",
       "    }\n",
       "\n",
       "    .dataframe tbody tr th {\n",
       "        vertical-align: top;\n",
       "    }\n",
       "\n",
       "    .dataframe thead th {\n",
       "        text-align: right;\n",
       "    }\n",
       "</style>\n",
       "<table border=\"1\" class=\"dataframe\">\n",
       "  <thead>\n",
       "    <tr style=\"text-align: right;\">\n",
       "      <th></th>\n",
       "      <th>country_name</th>\n",
       "      <th>date</th>\n",
       "      <th>parameter</th>\n",
       "      <th>product</th>\n",
       "      <th>unit</th>\n",
       "    </tr>\n",
       "  </thead>\n",
       "  <tbody>\n",
       "    <tr>\n",
       "      <th>count</th>\n",
       "      <td>121074</td>\n",
       "      <td>121074</td>\n",
       "      <td>121074</td>\n",
       "      <td>121074</td>\n",
       "      <td>121074</td>\n",
       "    </tr>\n",
       "    <tr>\n",
       "      <th>unique</th>\n",
       "      <td>48</td>\n",
       "      <td>168</td>\n",
       "      <td>7</td>\n",
       "      <td>16</td>\n",
       "      <td>1</td>\n",
       "    </tr>\n",
       "    <tr>\n",
       "      <th>top</th>\n",
       "      <td>France</td>\n",
       "      <td>3/1/2021</td>\n",
       "      <td>Net Electricity Production</td>\n",
       "      <td>Electricity</td>\n",
       "      <td>GWh</td>\n",
       "    </tr>\n",
       "    <tr>\n",
       "      <th>freq</th>\n",
       "      <td>3348</td>\n",
       "      <td>893</td>\n",
       "      <td>93318</td>\n",
       "      <td>34930</td>\n",
       "      <td>121074</td>\n",
       "    </tr>\n",
       "  </tbody>\n",
       "</table>\n",
       "</div>"
      ],
      "text/plain": [
       "       country_name      date                   parameter      product    unit\n",
       "count        121074    121074                      121074       121074  121074\n",
       "unique           48       168                           7           16       1\n",
       "top          France  3/1/2021  Net Electricity Production  Electricity     GWh\n",
       "freq           3348       893                       93318        34930  121074"
      ]
     },
     "execution_count": 6,
     "metadata": {},
     "output_type": "execute_result"
    }
   ],
   "source": [
    "# H1: analyze_categorical cols:\n",
    "analyze_categorical_h1(df1)"
   ]
  },
  {
   "cell_type": "code",
   "execution_count": 7,
   "metadata": {},
   "outputs": [
    {
     "name": "stdout",
     "output_type": "stream",
     "text": [
      "\n",
      "Numerical Columns Analysis:\n"
     ]
    },
    {
     "data": {
      "text/html": [
       "<div>\n",
       "<style scoped>\n",
       "    .dataframe tbody tr th:only-of-type {\n",
       "        vertical-align: middle;\n",
       "    }\n",
       "\n",
       "    .dataframe tbody tr th {\n",
       "        vertical-align: top;\n",
       "    }\n",
       "\n",
       "    .dataframe thead th {\n",
       "        text-align: right;\n",
       "    }\n",
       "</style>\n",
       "<table border=\"1\" class=\"dataframe\">\n",
       "  <thead>\n",
       "    <tr style=\"text-align: right;\">\n",
       "      <th></th>\n",
       "      <th>value</th>\n",
       "    </tr>\n",
       "  </thead>\n",
       "  <tbody>\n",
       "    <tr>\n",
       "      <th>count</th>\n",
       "      <td>121060.00000</td>\n",
       "    </tr>\n",
       "    <tr>\n",
       "      <th>mean</th>\n",
       "      <td>6925.08149</td>\n",
       "    </tr>\n",
       "    <tr>\n",
       "      <th>std</th>\n",
       "      <td>34224.45546</td>\n",
       "    </tr>\n",
       "    <tr>\n",
       "      <th>min</th>\n",
       "      <td>0.00000</td>\n",
       "    </tr>\n",
       "    <tr>\n",
       "      <th>25%</th>\n",
       "      <td>41.19900</td>\n",
       "    </tr>\n",
       "    <tr>\n",
       "      <th>50%</th>\n",
       "      <td>470.41900</td>\n",
       "    </tr>\n",
       "    <tr>\n",
       "      <th>75%</th>\n",
       "      <td>2629.71275</td>\n",
       "    </tr>\n",
       "    <tr>\n",
       "      <th>max</th>\n",
       "      <td>865976.48280</td>\n",
       "    </tr>\n",
       "  </tbody>\n",
       "</table>\n",
       "</div>"
      ],
      "text/plain": [
       "              value\n",
       "count  121060.00000\n",
       "mean     6925.08149\n",
       "std     34224.45546\n",
       "min         0.00000\n",
       "25%        41.19900\n",
       "50%       470.41900\n",
       "75%      2629.71275\n",
       "max    865976.48280"
      ]
     },
     "execution_count": 7,
     "metadata": {},
     "output_type": "execute_result"
    }
   ],
   "source": [
    "# H1: analyze_numerical cols:\n",
    "analyze_numerical_h1(df1)"
   ]
  },
  {
   "cell_type": "code",
   "execution_count": 8,
   "metadata": {},
   "outputs": [
    {
     "name": "stdout",
     "output_type": "stream",
     "text": [
      "Number of missing values in 'value' column: 14\n"
     ]
    }
   ],
   "source": [
    "# H1: Count missing values in the 'value' column of df1\n",
    "missing_values_count = df1['value'].isna().sum()\n",
    "\n",
    "# Print the number of missing values\n",
    "print(\"Number of missing values in 'value' column:\", missing_values_count)"
   ]
  },
  {
   "cell_type": "code",
   "execution_count": 9,
   "metadata": {},
   "outputs": [
    {
     "data": {
      "text/html": [
       "<div>\n",
       "<style scoped>\n",
       "    .dataframe tbody tr th:only-of-type {\n",
       "        vertical-align: middle;\n",
       "    }\n",
       "\n",
       "    .dataframe tbody tr th {\n",
       "        vertical-align: top;\n",
       "    }\n",
       "\n",
       "    .dataframe thead th {\n",
       "        text-align: right;\n",
       "    }\n",
       "</style>\n",
       "<table border=\"1\" class=\"dataframe\">\n",
       "  <thead>\n",
       "    <tr style=\"text-align: right;\">\n",
       "      <th></th>\n",
       "      <th>country_name</th>\n",
       "      <th>date</th>\n",
       "      <th>parameter</th>\n",
       "      <th>product</th>\n",
       "      <th>value</th>\n",
       "      <th>unit</th>\n",
       "    </tr>\n",
       "  </thead>\n",
       "  <tbody>\n",
       "    <tr>\n",
       "      <th>67</th>\n",
       "      <td>Chile</td>\n",
       "      <td>12/1/2023</td>\n",
       "      <td>Remarks</td>\n",
       "      <td>Data is estimated for this month</td>\n",
       "      <td>NaN</td>\n",
       "      <td>GWh</td>\n",
       "    </tr>\n",
       "    <tr>\n",
       "      <th>94</th>\n",
       "      <td>Costa Rica</td>\n",
       "      <td>12/1/2023</td>\n",
       "      <td>Remarks</td>\n",
       "      <td>Data is estimated for this month</td>\n",
       "      <td>NaN</td>\n",
       "      <td>GWh</td>\n",
       "    </tr>\n",
       "    <tr>\n",
       "      <th>285</th>\n",
       "      <td>Japan</td>\n",
       "      <td>12/1/2023</td>\n",
       "      <td>Remarks</td>\n",
       "      <td>Data is estimated for this month</td>\n",
       "      <td>NaN</td>\n",
       "      <td>GWh</td>\n",
       "    </tr>\n",
       "    <tr>\n",
       "      <th>804</th>\n",
       "      <td>Costa Rica</td>\n",
       "      <td>11/1/2023</td>\n",
       "      <td>Remarks</td>\n",
       "      <td>Data is estimated for this month</td>\n",
       "      <td>NaN</td>\n",
       "      <td>GWh</td>\n",
       "    </tr>\n",
       "    <tr>\n",
       "      <th>1517</th>\n",
       "      <td>Costa Rica</td>\n",
       "      <td>10/1/2023</td>\n",
       "      <td>Remarks</td>\n",
       "      <td>Data is estimated for this month</td>\n",
       "      <td>NaN</td>\n",
       "      <td>GWh</td>\n",
       "    </tr>\n",
       "    <tr>\n",
       "      <th>2230</th>\n",
       "      <td>Costa Rica</td>\n",
       "      <td>9/1/2023</td>\n",
       "      <td>Remarks</td>\n",
       "      <td>Data is estimated for this month</td>\n",
       "      <td>NaN</td>\n",
       "      <td>GWh</td>\n",
       "    </tr>\n",
       "    <tr>\n",
       "      <th>2944</th>\n",
       "      <td>Costa Rica</td>\n",
       "      <td>8/1/2023</td>\n",
       "      <td>Remarks</td>\n",
       "      <td>Data is estimated for this month</td>\n",
       "      <td>NaN</td>\n",
       "      <td>GWh</td>\n",
       "    </tr>\n",
       "    <tr>\n",
       "      <th>3659</th>\n",
       "      <td>Costa Rica</td>\n",
       "      <td>7/1/2023</td>\n",
       "      <td>Remarks</td>\n",
       "      <td>Data is estimated for this month</td>\n",
       "      <td>NaN</td>\n",
       "      <td>GWh</td>\n",
       "    </tr>\n",
       "    <tr>\n",
       "      <th>4375</th>\n",
       "      <td>Costa Rica</td>\n",
       "      <td>6/1/2023</td>\n",
       "      <td>Remarks</td>\n",
       "      <td>Data is estimated for this month</td>\n",
       "      <td>NaN</td>\n",
       "      <td>GWh</td>\n",
       "    </tr>\n",
       "    <tr>\n",
       "      <th>5090</th>\n",
       "      <td>Costa Rica</td>\n",
       "      <td>5/1/2023</td>\n",
       "      <td>Remarks</td>\n",
       "      <td>Data is estimated for this month</td>\n",
       "      <td>NaN</td>\n",
       "      <td>GWh</td>\n",
       "    </tr>\n",
       "    <tr>\n",
       "      <th>5805</th>\n",
       "      <td>Costa Rica</td>\n",
       "      <td>4/1/2023</td>\n",
       "      <td>Remarks</td>\n",
       "      <td>Data is estimated for this month</td>\n",
       "      <td>NaN</td>\n",
       "      <td>GWh</td>\n",
       "    </tr>\n",
       "    <tr>\n",
       "      <th>6523</th>\n",
       "      <td>Costa Rica</td>\n",
       "      <td>3/1/2023</td>\n",
       "      <td>Remarks</td>\n",
       "      <td>Data is estimated for this month</td>\n",
       "      <td>NaN</td>\n",
       "      <td>GWh</td>\n",
       "    </tr>\n",
       "    <tr>\n",
       "      <th>7242</th>\n",
       "      <td>Costa Rica</td>\n",
       "      <td>2/1/2023</td>\n",
       "      <td>Remarks</td>\n",
       "      <td>Data is estimated for this month</td>\n",
       "      <td>NaN</td>\n",
       "      <td>GWh</td>\n",
       "    </tr>\n",
       "    <tr>\n",
       "      <th>7961</th>\n",
       "      <td>Costa Rica</td>\n",
       "      <td>1/1/2023</td>\n",
       "      <td>Remarks</td>\n",
       "      <td>Data is estimated for this month</td>\n",
       "      <td>NaN</td>\n",
       "      <td>GWh</td>\n",
       "    </tr>\n",
       "  </tbody>\n",
       "</table>\n",
       "</div>"
      ],
      "text/plain": [
       "     country_name       date parameter                           product  \\\n",
       "67          Chile  12/1/2023   Remarks  Data is estimated for this month   \n",
       "94     Costa Rica  12/1/2023   Remarks  Data is estimated for this month   \n",
       "285         Japan  12/1/2023   Remarks  Data is estimated for this month   \n",
       "804    Costa Rica  11/1/2023   Remarks  Data is estimated for this month   \n",
       "1517   Costa Rica  10/1/2023   Remarks  Data is estimated for this month   \n",
       "2230   Costa Rica   9/1/2023   Remarks  Data is estimated for this month   \n",
       "2944   Costa Rica   8/1/2023   Remarks  Data is estimated for this month   \n",
       "3659   Costa Rica   7/1/2023   Remarks  Data is estimated for this month   \n",
       "4375   Costa Rica   6/1/2023   Remarks  Data is estimated for this month   \n",
       "5090   Costa Rica   5/1/2023   Remarks  Data is estimated for this month   \n",
       "5805   Costa Rica   4/1/2023   Remarks  Data is estimated for this month   \n",
       "6523   Costa Rica   3/1/2023   Remarks  Data is estimated for this month   \n",
       "7242   Costa Rica   2/1/2023   Remarks  Data is estimated for this month   \n",
       "7961   Costa Rica   1/1/2023   Remarks  Data is estimated for this month   \n",
       "\n",
       "      value unit  \n",
       "67      NaN  GWh  \n",
       "94      NaN  GWh  \n",
       "285     NaN  GWh  \n",
       "804     NaN  GWh  \n",
       "1517    NaN  GWh  \n",
       "2230    NaN  GWh  \n",
       "2944    NaN  GWh  \n",
       "3659    NaN  GWh  \n",
       "4375    NaN  GWh  \n",
       "5090    NaN  GWh  \n",
       "5805    NaN  GWh  \n",
       "6523    NaN  GWh  \n",
       "7242    NaN  GWh  \n",
       "7961    NaN  GWh  "
      ]
     },
     "execution_count": 9,
     "metadata": {},
     "output_type": "execute_result"
    }
   ],
   "source": [
    "# H1: display missing data\n",
    "missing_value_rows = df1[df1['value'].isna()]\n",
    "\n",
    "# H1: Print the rows with missing values in the 'value' column\n",
    "missing_value_rows"
   ]
  },
  {
   "cell_type": "code",
   "execution_count": 10,
   "metadata": {},
   "outputs": [
    {
     "data": {
      "text/plain": [
       "parameter\n",
       "Net Electricity Production        93318\n",
       "Final Consumption (Calculated)     6036\n",
       "Distribution Losses                6033\n",
       "Total Exports                      5416\n",
       "Total Imports                      5411\n",
       "Used for pumped storage            4846\n",
       "Remarks                              14\n",
       "Name: count, dtype: int64"
      ]
     },
     "execution_count": 10,
     "metadata": {},
     "output_type": "execute_result"
    }
   ],
   "source": [
    "# H1: display 'parameter' col data\n",
    "parameter_counts = df1['parameter'].value_counts()\n",
    "parameter_counts"
   ]
  },
  {
   "cell_type": "code",
   "execution_count": 11,
   "metadata": {},
   "outputs": [
    {
     "data": {
      "text/plain": [
       "product\n",
       "Electricity                                          34930\n",
       "Total Combustible Fuels                               7188\n",
       "Total Renewables (Hydro, Geo, Solar, Wind, Other)     7188\n",
       "Hydro                                                 7070\n",
       "Oil and Petroleum Products                            7066\n",
       "Combustible Renewables                                7049\n",
       "Wind                                                  7040\n",
       "Natural Gas                                           6923\n",
       "Solar                                                 6898\n",
       "Coal, Peat and Manufactured Gases                     6525\n",
       "Other Combustible Non-Renewables                      6147\n",
       "Not Specified                                         5098\n",
       "Nuclear                                               4814\n",
       "Geothermal                                            4267\n",
       "Other Renewables                                      2857\n",
       "Data is estimated for this month                        14\n",
       "Name: count, dtype: int64"
      ]
     },
     "execution_count": 11,
     "metadata": {},
     "output_type": "execute_result"
    }
   ],
   "source": [
    "# H1: display 'product' col data\n",
    "product_count = df1['product'].value_counts()\n",
    "product_count"
   ]
  },
  {
   "cell_type": "markdown",
   "metadata": {},
   "source": [
    "# H1 : Data cleaning"
   ]
  },
  {
   "cell_type": "code",
   "execution_count": 12,
   "metadata": {},
   "outputs": [
    {
     "data": {
      "text/plain": [
       "Index(['country_name', 'date', 'parameter', 'product', 'value', 'unit'], dtype='object')"
      ]
     },
     "execution_count": 12,
     "metadata": {},
     "output_type": "execute_result"
    }
   ],
   "source": [
    "# H1: format titles names \n",
    "format_column_titles_h1(df1)"
   ]
  },
  {
   "cell_type": "code",
   "execution_count": 13,
   "metadata": {},
   "outputs": [],
   "source": [
    "# H1:  filter EU countries \n",
    "eu_countries = ['Austria', 'Belgium', 'Bulgaria', 'Croatia', 'Cyprus', 'Czech Republic', 'Denmark', 'Estonia', 'Finland', 'France', 'Germany', 'Greece', 'Hungary', 'Ireland', 'Italy', 'Latvia', 'Lithuania', 'Luxembourg', 'Malta', 'Netherlands', 'Poland', 'Portugal', 'Romania', 'Slovak Republic', 'Slovenia', 'Spain', 'Sweden']\n",
    "\n",
    "df_eu = df1.loc[df1['country_name'].isin(eu_countries)]"
   ]
  },
  {
   "cell_type": "code",
   "execution_count": 14,
   "metadata": {},
   "outputs": [
    {
     "data": {
      "text/plain": [
       "country_name\n",
       "France             3348\n",
       "Germany            3230\n",
       "Portugal           3134\n",
       "Belgium            3120\n",
       "Italy              3120\n",
       "Austria            3120\n",
       "Spain              3120\n",
       "Czech Republic     3120\n",
       "Slovak Republic    3097\n",
       "Poland             3072\n",
       "Netherlands        3065\n",
       "Slovenia           3019\n",
       "Finland            3000\n",
       "Sweden             2997\n",
       "Hungary            2982\n",
       "Greece             2891\n",
       "Luxembourg         2874\n",
       "Ireland            2856\n",
       "Lithuania          2831\n",
       "Denmark            2760\n",
       "Latvia             2679\n",
       "Estonia            2652\n",
       "Bulgaria           1438\n",
       "Croatia            1331\n",
       "Cyprus             1140\n",
       "Malta              1101\n",
       "Name: count, dtype: int64"
      ]
     },
     "execution_count": 14,
     "metadata": {},
     "output_type": "execute_result"
    }
   ],
   "source": [
    "countries  = df_eu['country_name'].value_counts()\n",
    "countries"
   ]
  },
  {
   "cell_type": "code",
   "execution_count": 15,
   "metadata": {},
   "outputs": [],
   "source": [
    "#  H1: drop rows with missing data \n",
    "df_cleaned = df_eu.dropna(axis=1)"
   ]
  },
  {
   "cell_type": "code",
   "execution_count": 16,
   "metadata": {},
   "outputs": [
    {
     "data": {
      "text/html": [
       "<div>\n",
       "<style scoped>\n",
       "    .dataframe tbody tr th:only-of-type {\n",
       "        vertical-align: middle;\n",
       "    }\n",
       "\n",
       "    .dataframe tbody tr th {\n",
       "        vertical-align: top;\n",
       "    }\n",
       "\n",
       "    .dataframe thead th {\n",
       "        text-align: right;\n",
       "    }\n",
       "</style>\n",
       "<table border=\"1\" class=\"dataframe\">\n",
       "  <thead>\n",
       "    <tr style=\"text-align: right;\">\n",
       "      <th></th>\n",
       "      <th>non-Null_count</th>\n",
       "      <th>dtype</th>\n",
       "      <th>unique_values</th>\n",
       "      <th>%_unique</th>\n",
       "      <th>missing_values</th>\n",
       "      <th>%_missing</th>\n",
       "    </tr>\n",
       "  </thead>\n",
       "  <tbody>\n",
       "    <tr>\n",
       "      <th>country_name</th>\n",
       "      <td>71097</td>\n",
       "      <td>object</td>\n",
       "      <td>26</td>\n",
       "      <td>0.04%</td>\n",
       "      <td>0</td>\n",
       "      <td>0.0%</td>\n",
       "    </tr>\n",
       "    <tr>\n",
       "      <th>date</th>\n",
       "      <td>71097</td>\n",
       "      <td>object</td>\n",
       "      <td>168</td>\n",
       "      <td>0.24%</td>\n",
       "      <td>0</td>\n",
       "      <td>0.0%</td>\n",
       "    </tr>\n",
       "    <tr>\n",
       "      <th>parameter</th>\n",
       "      <td>71097</td>\n",
       "      <td>object</td>\n",
       "      <td>6</td>\n",
       "      <td>0.01%</td>\n",
       "      <td>0</td>\n",
       "      <td>0.0%</td>\n",
       "    </tr>\n",
       "    <tr>\n",
       "      <th>product</th>\n",
       "      <td>71097</td>\n",
       "      <td>object</td>\n",
       "      <td>15</td>\n",
       "      <td>0.02%</td>\n",
       "      <td>0</td>\n",
       "      <td>0.0%</td>\n",
       "    </tr>\n",
       "    <tr>\n",
       "      <th>value</th>\n",
       "      <td>71097</td>\n",
       "      <td>float64</td>\n",
       "      <td>61218</td>\n",
       "      <td>86.1%</td>\n",
       "      <td>0</td>\n",
       "      <td>0.0%</td>\n",
       "    </tr>\n",
       "    <tr>\n",
       "      <th>unit</th>\n",
       "      <td>71097</td>\n",
       "      <td>object</td>\n",
       "      <td>1</td>\n",
       "      <td>0.0%</td>\n",
       "      <td>0</td>\n",
       "      <td>0.0%</td>\n",
       "    </tr>\n",
       "  </tbody>\n",
       "</table>\n",
       "</div>"
      ],
      "text/plain": [
       "              non-Null_count    dtype  unique_values %_unique  missing_values  \\\n",
       "country_name           71097   object             26    0.04%               0   \n",
       "date                   71097   object            168    0.24%               0   \n",
       "parameter              71097   object              6    0.01%               0   \n",
       "product                71097   object             15    0.02%               0   \n",
       "value                  71097  float64          61218    86.1%               0   \n",
       "unit                   71097   object              1     0.0%               0   \n",
       "\n",
       "             %_missing  \n",
       "country_name      0.0%  \n",
       "date              0.0%  \n",
       "parameter         0.0%  \n",
       "product           0.0%  \n",
       "value             0.0%  \n",
       "unit              0.0%  "
      ]
     },
     "execution_count": 16,
     "metadata": {},
     "output_type": "execute_result"
    }
   ],
   "source": [
    "#  H1: check cleaned date\n",
    "unique_and_missing_values_dtype(df_cleaned)"
   ]
  },
  {
   "cell_type": "code",
   "execution_count": 17,
   "metadata": {},
   "outputs": [],
   "source": [
    "# H1: make a copy (before year formatting)\n",
    "df_main = df_cleaned.copy()"
   ]
  },
  {
   "cell_type": "code",
   "execution_count": 18,
   "metadata": {},
   "outputs": [
    {
     "data": {
      "text/html": [
       "<div>\n",
       "<style scoped>\n",
       "    .dataframe tbody tr th:only-of-type {\n",
       "        vertical-align: middle;\n",
       "    }\n",
       "\n",
       "    .dataframe tbody tr th {\n",
       "        vertical-align: top;\n",
       "    }\n",
       "\n",
       "    .dataframe thead th {\n",
       "        text-align: right;\n",
       "    }\n",
       "</style>\n",
       "<table border=\"1\" class=\"dataframe\">\n",
       "  <thead>\n",
       "    <tr style=\"text-align: right;\">\n",
       "      <th></th>\n",
       "      <th>country_name</th>\n",
       "      <th>date</th>\n",
       "      <th>parameter</th>\n",
       "      <th>product</th>\n",
       "      <th>value</th>\n",
       "      <th>unit</th>\n",
       "      <th>year</th>\n",
       "    </tr>\n",
       "  </thead>\n",
       "  <tbody>\n",
       "    <tr>\n",
       "      <th>13</th>\n",
       "      <td>Austria</td>\n",
       "      <td>12/1/2023</td>\n",
       "      <td>Net Electricity Production</td>\n",
       "      <td>Electricity</td>\n",
       "      <td>6783.2730</td>\n",
       "      <td>GWh</td>\n",
       "      <td>2023</td>\n",
       "    </tr>\n",
       "    <tr>\n",
       "      <th>14</th>\n",
       "      <td>Austria</td>\n",
       "      <td>12/1/2023</td>\n",
       "      <td>Net Electricity Production</td>\n",
       "      <td>Total Combustible Fuels</td>\n",
       "      <td>1746.9034</td>\n",
       "      <td>GWh</td>\n",
       "      <td>2023</td>\n",
       "    </tr>\n",
       "    <tr>\n",
       "      <th>15</th>\n",
       "      <td>Austria</td>\n",
       "      <td>12/1/2023</td>\n",
       "      <td>Net Electricity Production</td>\n",
       "      <td>Coal, Peat and Manufactured Gases</td>\n",
       "      <td>167.3548</td>\n",
       "      <td>GWh</td>\n",
       "      <td>2023</td>\n",
       "    </tr>\n",
       "    <tr>\n",
       "      <th>16</th>\n",
       "      <td>Austria</td>\n",
       "      <td>12/1/2023</td>\n",
       "      <td>Net Electricity Production</td>\n",
       "      <td>Oil and Petroleum Products</td>\n",
       "      <td>73.8682</td>\n",
       "      <td>GWh</td>\n",
       "      <td>2023</td>\n",
       "    </tr>\n",
       "    <tr>\n",
       "      <th>17</th>\n",
       "      <td>Austria</td>\n",
       "      <td>12/1/2023</td>\n",
       "      <td>Net Electricity Production</td>\n",
       "      <td>Natural Gas</td>\n",
       "      <td>1035.0865</td>\n",
       "      <td>GWh</td>\n",
       "      <td>2023</td>\n",
       "    </tr>\n",
       "  </tbody>\n",
       "</table>\n",
       "</div>"
      ],
      "text/plain": [
       "   country_name       date                   parameter  \\\n",
       "13      Austria  12/1/2023  Net Electricity Production   \n",
       "14      Austria  12/1/2023  Net Electricity Production   \n",
       "15      Austria  12/1/2023  Net Electricity Production   \n",
       "16      Austria  12/1/2023  Net Electricity Production   \n",
       "17      Austria  12/1/2023  Net Electricity Production   \n",
       "\n",
       "                              product      value unit  year  \n",
       "13                        Electricity  6783.2730  GWh  2023  \n",
       "14            Total Combustible Fuels  1746.9034  GWh  2023  \n",
       "15  Coal, Peat and Manufactured Gases   167.3548  GWh  2023  \n",
       "16         Oil and Petroleum Products    73.8682  GWh  2023  \n",
       "17                        Natural Gas  1035.0865  GWh  2023  "
      ]
     },
     "execution_count": 18,
     "metadata": {},
     "output_type": "execute_result"
    }
   ],
   "source": [
    "# H1: format year\n",
    "df_main[\"year\"] = df_main[\"date\"].apply(lambda x: int(x.split(\"/\")[2]))\n",
    "df_main.head()"
   ]
  },
  {
   "cell_type": "code",
   "execution_count": 19,
   "metadata": {},
   "outputs": [
    {
     "data": {
      "text/html": [
       "<div>\n",
       "<style scoped>\n",
       "    .dataframe tbody tr th:only-of-type {\n",
       "        vertical-align: middle;\n",
       "    }\n",
       "\n",
       "    .dataframe tbody tr th {\n",
       "        vertical-align: top;\n",
       "    }\n",
       "\n",
       "    .dataframe thead th {\n",
       "        text-align: right;\n",
       "    }\n",
       "</style>\n",
       "<table border=\"1\" class=\"dataframe\">\n",
       "  <thead>\n",
       "    <tr style=\"text-align: right;\">\n",
       "      <th></th>\n",
       "      <th>country_name</th>\n",
       "      <th>date</th>\n",
       "      <th>parameter</th>\n",
       "      <th>product</th>\n",
       "      <th>value</th>\n",
       "      <th>unit</th>\n",
       "      <th>year</th>\n",
       "    </tr>\n",
       "  </thead>\n",
       "  <tbody>\n",
       "    <tr>\n",
       "      <th>0</th>\n",
       "      <td>Austria</td>\n",
       "      <td>12/1/2023</td>\n",
       "      <td>Net Electricity Production</td>\n",
       "      <td>Electricity</td>\n",
       "      <td>6783.2730</td>\n",
       "      <td>GWh</td>\n",
       "      <td>2023</td>\n",
       "    </tr>\n",
       "    <tr>\n",
       "      <th>1</th>\n",
       "      <td>Austria</td>\n",
       "      <td>12/1/2023</td>\n",
       "      <td>Net Electricity Production</td>\n",
       "      <td>Total Combustible Fuels</td>\n",
       "      <td>1746.9034</td>\n",
       "      <td>GWh</td>\n",
       "      <td>2023</td>\n",
       "    </tr>\n",
       "    <tr>\n",
       "      <th>2</th>\n",
       "      <td>Austria</td>\n",
       "      <td>12/1/2023</td>\n",
       "      <td>Net Electricity Production</td>\n",
       "      <td>Coal, Peat and Manufactured Gases</td>\n",
       "      <td>167.3548</td>\n",
       "      <td>GWh</td>\n",
       "      <td>2023</td>\n",
       "    </tr>\n",
       "    <tr>\n",
       "      <th>3</th>\n",
       "      <td>Austria</td>\n",
       "      <td>12/1/2023</td>\n",
       "      <td>Net Electricity Production</td>\n",
       "      <td>Oil and Petroleum Products</td>\n",
       "      <td>73.8682</td>\n",
       "      <td>GWh</td>\n",
       "      <td>2023</td>\n",
       "    </tr>\n",
       "    <tr>\n",
       "      <th>4</th>\n",
       "      <td>Austria</td>\n",
       "      <td>12/1/2023</td>\n",
       "      <td>Net Electricity Production</td>\n",
       "      <td>Natural Gas</td>\n",
       "      <td>1035.0865</td>\n",
       "      <td>GWh</td>\n",
       "      <td>2023</td>\n",
       "    </tr>\n",
       "    <tr>\n",
       "      <th>...</th>\n",
       "      <td>...</td>\n",
       "      <td>...</td>\n",
       "      <td>...</td>\n",
       "      <td>...</td>\n",
       "      <td>...</td>\n",
       "      <td>...</td>\n",
       "      <td>...</td>\n",
       "    </tr>\n",
       "    <tr>\n",
       "      <th>71092</th>\n",
       "      <td>Sweden</td>\n",
       "      <td>1/1/2010</td>\n",
       "      <td>Total Imports</td>\n",
       "      <td>Electricity</td>\n",
       "      <td>1806.0000</td>\n",
       "      <td>GWh</td>\n",
       "      <td>2010</td>\n",
       "    </tr>\n",
       "    <tr>\n",
       "      <th>71093</th>\n",
       "      <td>Sweden</td>\n",
       "      <td>1/1/2010</td>\n",
       "      <td>Total Exports</td>\n",
       "      <td>Electricity</td>\n",
       "      <td>266.6560</td>\n",
       "      <td>GWh</td>\n",
       "      <td>2010</td>\n",
       "    </tr>\n",
       "    <tr>\n",
       "      <th>71094</th>\n",
       "      <td>Sweden</td>\n",
       "      <td>1/1/2010</td>\n",
       "      <td>Used for pumped storage</td>\n",
       "      <td>Electricity</td>\n",
       "      <td>16.1090</td>\n",
       "      <td>GWh</td>\n",
       "      <td>2010</td>\n",
       "    </tr>\n",
       "    <tr>\n",
       "      <th>71095</th>\n",
       "      <td>Sweden</td>\n",
       "      <td>1/1/2010</td>\n",
       "      <td>Distribution Losses</td>\n",
       "      <td>Electricity</td>\n",
       "      <td>1091.0110</td>\n",
       "      <td>GWh</td>\n",
       "      <td>2010</td>\n",
       "    </tr>\n",
       "    <tr>\n",
       "      <th>71096</th>\n",
       "      <td>Sweden</td>\n",
       "      <td>1/1/2010</td>\n",
       "      <td>Final Consumption (Calculated)</td>\n",
       "      <td>Electricity</td>\n",
       "      <td>15170.7810</td>\n",
       "      <td>GWh</td>\n",
       "      <td>2010</td>\n",
       "    </tr>\n",
       "  </tbody>\n",
       "</table>\n",
       "<p>71097 rows × 7 columns</p>\n",
       "</div>"
      ],
      "text/plain": [
       "      country_name       date                       parameter  \\\n",
       "0          Austria  12/1/2023      Net Electricity Production   \n",
       "1          Austria  12/1/2023      Net Electricity Production   \n",
       "2          Austria  12/1/2023      Net Electricity Production   \n",
       "3          Austria  12/1/2023      Net Electricity Production   \n",
       "4          Austria  12/1/2023      Net Electricity Production   \n",
       "...            ...        ...                             ...   \n",
       "71092       Sweden   1/1/2010                   Total Imports   \n",
       "71093       Sweden   1/1/2010                   Total Exports   \n",
       "71094       Sweden   1/1/2010         Used for pumped storage   \n",
       "71095       Sweden   1/1/2010             Distribution Losses   \n",
       "71096       Sweden   1/1/2010  Final Consumption (Calculated)   \n",
       "\n",
       "                                 product       value unit  year  \n",
       "0                            Electricity   6783.2730  GWh  2023  \n",
       "1                Total Combustible Fuels   1746.9034  GWh  2023  \n",
       "2      Coal, Peat and Manufactured Gases    167.3548  GWh  2023  \n",
       "3             Oil and Petroleum Products     73.8682  GWh  2023  \n",
       "4                            Natural Gas   1035.0865  GWh  2023  \n",
       "...                                  ...         ...  ...   ...  \n",
       "71092                        Electricity   1806.0000  GWh  2010  \n",
       "71093                        Electricity    266.6560  GWh  2010  \n",
       "71094                        Electricity     16.1090  GWh  2010  \n",
       "71095                        Electricity   1091.0110  GWh  2010  \n",
       "71096                        Electricity  15170.7810  GWh  2010  \n",
       "\n",
       "[71097 rows x 7 columns]"
      ]
     },
     "execution_count": 19,
     "metadata": {},
     "output_type": "execute_result"
    }
   ],
   "source": [
    "# H1: Reset index\n",
    "df_main = df_main.reset_index(drop=True)\n",
    "df_main"
   ]
  },
  {
   "cell_type": "code",
   "execution_count": 20,
   "metadata": {},
   "outputs": [
    {
     "ename": "KeyError",
     "evalue": "\"['index'] not found in axis\"",
     "output_type": "error",
     "traceback": [
      "\u001b[0;31m---------------------------------------------------------------------------\u001b[0m",
      "\u001b[0;31mKeyError\u001b[0m                                  Traceback (most recent call last)",
      "Cell \u001b[0;32mIn[20], line 2\u001b[0m\n\u001b[1;32m      1\u001b[0m \u001b[38;5;66;03m# H1: Drop unrelevant column 'index'\u001b[39;00m\n\u001b[0;32m----> 2\u001b[0m df_main \u001b[38;5;241m=\u001b[39m df_main\u001b[38;5;241m.\u001b[39mdrop(columns\u001b[38;5;241m=\u001b[39m[\u001b[38;5;124m'\u001b[39m\u001b[38;5;124mindex\u001b[39m\u001b[38;5;124m'\u001b[39m])\n\u001b[1;32m      3\u001b[0m df_main\u001b[38;5;241m.\u001b[39mhead()\n",
      "File \u001b[0;32m/opt/anaconda3/lib/python3.11/site-packages/pandas/core/frame.py:5344\u001b[0m, in \u001b[0;36mDataFrame.drop\u001b[0;34m(self, labels, axis, index, columns, level, inplace, errors)\u001b[0m\n\u001b[1;32m   5196\u001b[0m \u001b[38;5;28;01mdef\u001b[39;00m \u001b[38;5;21mdrop\u001b[39m(\n\u001b[1;32m   5197\u001b[0m     \u001b[38;5;28mself\u001b[39m,\n\u001b[1;32m   5198\u001b[0m     labels: IndexLabel \u001b[38;5;241m|\u001b[39m \u001b[38;5;28;01mNone\u001b[39;00m \u001b[38;5;241m=\u001b[39m \u001b[38;5;28;01mNone\u001b[39;00m,\n\u001b[0;32m   (...)\u001b[0m\n\u001b[1;32m   5205\u001b[0m     errors: IgnoreRaise \u001b[38;5;241m=\u001b[39m \u001b[38;5;124m\"\u001b[39m\u001b[38;5;124mraise\u001b[39m\u001b[38;5;124m\"\u001b[39m,\n\u001b[1;32m   5206\u001b[0m ) \u001b[38;5;241m-\u001b[39m\u001b[38;5;241m>\u001b[39m DataFrame \u001b[38;5;241m|\u001b[39m \u001b[38;5;28;01mNone\u001b[39;00m:\n\u001b[1;32m   5207\u001b[0m \u001b[38;5;250m    \u001b[39m\u001b[38;5;124;03m\"\"\"\u001b[39;00m\n\u001b[1;32m   5208\u001b[0m \u001b[38;5;124;03m    Drop specified labels from rows or columns.\u001b[39;00m\n\u001b[1;32m   5209\u001b[0m \n\u001b[0;32m   (...)\u001b[0m\n\u001b[1;32m   5342\u001b[0m \u001b[38;5;124;03m            weight  1.0     0.8\u001b[39;00m\n\u001b[1;32m   5343\u001b[0m \u001b[38;5;124;03m    \"\"\"\u001b[39;00m\n\u001b[0;32m-> 5344\u001b[0m     \u001b[38;5;28;01mreturn\u001b[39;00m \u001b[38;5;28msuper\u001b[39m()\u001b[38;5;241m.\u001b[39mdrop(\n\u001b[1;32m   5345\u001b[0m         labels\u001b[38;5;241m=\u001b[39mlabels,\n\u001b[1;32m   5346\u001b[0m         axis\u001b[38;5;241m=\u001b[39maxis,\n\u001b[1;32m   5347\u001b[0m         index\u001b[38;5;241m=\u001b[39mindex,\n\u001b[1;32m   5348\u001b[0m         columns\u001b[38;5;241m=\u001b[39mcolumns,\n\u001b[1;32m   5349\u001b[0m         level\u001b[38;5;241m=\u001b[39mlevel,\n\u001b[1;32m   5350\u001b[0m         inplace\u001b[38;5;241m=\u001b[39minplace,\n\u001b[1;32m   5351\u001b[0m         errors\u001b[38;5;241m=\u001b[39merrors,\n\u001b[1;32m   5352\u001b[0m     )\n",
      "File \u001b[0;32m/opt/anaconda3/lib/python3.11/site-packages/pandas/core/generic.py:4711\u001b[0m, in \u001b[0;36mNDFrame.drop\u001b[0;34m(self, labels, axis, index, columns, level, inplace, errors)\u001b[0m\n\u001b[1;32m   4709\u001b[0m \u001b[38;5;28;01mfor\u001b[39;00m axis, labels \u001b[38;5;129;01min\u001b[39;00m axes\u001b[38;5;241m.\u001b[39mitems():\n\u001b[1;32m   4710\u001b[0m     \u001b[38;5;28;01mif\u001b[39;00m labels \u001b[38;5;129;01mis\u001b[39;00m \u001b[38;5;129;01mnot\u001b[39;00m \u001b[38;5;28;01mNone\u001b[39;00m:\n\u001b[0;32m-> 4711\u001b[0m         obj \u001b[38;5;241m=\u001b[39m obj\u001b[38;5;241m.\u001b[39m_drop_axis(labels, axis, level\u001b[38;5;241m=\u001b[39mlevel, errors\u001b[38;5;241m=\u001b[39merrors)\n\u001b[1;32m   4713\u001b[0m \u001b[38;5;28;01mif\u001b[39;00m inplace:\n\u001b[1;32m   4714\u001b[0m     \u001b[38;5;28mself\u001b[39m\u001b[38;5;241m.\u001b[39m_update_inplace(obj)\n",
      "File \u001b[0;32m/opt/anaconda3/lib/python3.11/site-packages/pandas/core/generic.py:4753\u001b[0m, in \u001b[0;36mNDFrame._drop_axis\u001b[0;34m(self, labels, axis, level, errors, only_slice)\u001b[0m\n\u001b[1;32m   4751\u001b[0m         new_axis \u001b[38;5;241m=\u001b[39m axis\u001b[38;5;241m.\u001b[39mdrop(labels, level\u001b[38;5;241m=\u001b[39mlevel, errors\u001b[38;5;241m=\u001b[39merrors)\n\u001b[1;32m   4752\u001b[0m     \u001b[38;5;28;01melse\u001b[39;00m:\n\u001b[0;32m-> 4753\u001b[0m         new_axis \u001b[38;5;241m=\u001b[39m axis\u001b[38;5;241m.\u001b[39mdrop(labels, errors\u001b[38;5;241m=\u001b[39merrors)\n\u001b[1;32m   4754\u001b[0m     indexer \u001b[38;5;241m=\u001b[39m axis\u001b[38;5;241m.\u001b[39mget_indexer(new_axis)\n\u001b[1;32m   4756\u001b[0m \u001b[38;5;66;03m# Case for non-unique axis\u001b[39;00m\n\u001b[1;32m   4757\u001b[0m \u001b[38;5;28;01melse\u001b[39;00m:\n",
      "File \u001b[0;32m/opt/anaconda3/lib/python3.11/site-packages/pandas/core/indexes/base.py:7000\u001b[0m, in \u001b[0;36mIndex.drop\u001b[0;34m(self, labels, errors)\u001b[0m\n\u001b[1;32m   6998\u001b[0m \u001b[38;5;28;01mif\u001b[39;00m mask\u001b[38;5;241m.\u001b[39many():\n\u001b[1;32m   6999\u001b[0m     \u001b[38;5;28;01mif\u001b[39;00m errors \u001b[38;5;241m!=\u001b[39m \u001b[38;5;124m\"\u001b[39m\u001b[38;5;124mignore\u001b[39m\u001b[38;5;124m\"\u001b[39m:\n\u001b[0;32m-> 7000\u001b[0m         \u001b[38;5;28;01mraise\u001b[39;00m \u001b[38;5;167;01mKeyError\u001b[39;00m(\u001b[38;5;124mf\u001b[39m\u001b[38;5;124m\"\u001b[39m\u001b[38;5;132;01m{\u001b[39;00mlabels[mask]\u001b[38;5;241m.\u001b[39mtolist()\u001b[38;5;132;01m}\u001b[39;00m\u001b[38;5;124m not found in axis\u001b[39m\u001b[38;5;124m\"\u001b[39m)\n\u001b[1;32m   7001\u001b[0m     indexer \u001b[38;5;241m=\u001b[39m indexer[\u001b[38;5;241m~\u001b[39mmask]\n\u001b[1;32m   7002\u001b[0m \u001b[38;5;28;01mreturn\u001b[39;00m \u001b[38;5;28mself\u001b[39m\u001b[38;5;241m.\u001b[39mdelete(indexer)\n",
      "\u001b[0;31mKeyError\u001b[0m: \"['index'] not found in axis\""
     ]
    }
   ],
   "source": [
    "# H1: Drop unrelevant column 'index'\n",
    "df_main = df_main.drop(columns=['index'])\n",
    "df_main.head()"
   ]
  },
  {
   "cell_type": "code",
   "execution_count": null,
   "metadata": {},
   "outputs": [
    {
     "data": {
      "text/html": [
       "<div>\n",
       "<style scoped>\n",
       "    .dataframe tbody tr th:only-of-type {\n",
       "        vertical-align: middle;\n",
       "    }\n",
       "\n",
       "    .dataframe tbody tr th {\n",
       "        vertical-align: top;\n",
       "    }\n",
       "\n",
       "    .dataframe thead th {\n",
       "        text-align: right;\n",
       "    }\n",
       "</style>\n",
       "<table border=\"1\" class=\"dataframe\">\n",
       "  <thead>\n",
       "    <tr style=\"text-align: right;\">\n",
       "      <th></th>\n",
       "      <th>country_name</th>\n",
       "      <th>date</th>\n",
       "      <th>parameter</th>\n",
       "      <th>product</th>\n",
       "      <th>value</th>\n",
       "      <th>unit</th>\n",
       "      <th>year</th>\n",
       "    </tr>\n",
       "  </thead>\n",
       "  <tbody>\n",
       "    <tr>\n",
       "      <th>0</th>\n",
       "      <td>Austria</td>\n",
       "      <td>12/1/2023</td>\n",
       "      <td>Net Electricity Production</td>\n",
       "      <td>Electricity</td>\n",
       "      <td>6783.2730</td>\n",
       "      <td>GWh</td>\n",
       "      <td>2023</td>\n",
       "    </tr>\n",
       "    <tr>\n",
       "      <th>1</th>\n",
       "      <td>Austria</td>\n",
       "      <td>12/1/2023</td>\n",
       "      <td>Net Electricity Production</td>\n",
       "      <td>Total Combustible Fuels</td>\n",
       "      <td>1746.9034</td>\n",
       "      <td>GWh</td>\n",
       "      <td>2023</td>\n",
       "    </tr>\n",
       "    <tr>\n",
       "      <th>2</th>\n",
       "      <td>Austria</td>\n",
       "      <td>12/1/2023</td>\n",
       "      <td>Net Electricity Production</td>\n",
       "      <td>Coal, Peat and Manufactured Gases</td>\n",
       "      <td>167.3548</td>\n",
       "      <td>GWh</td>\n",
       "      <td>2023</td>\n",
       "    </tr>\n",
       "    <tr>\n",
       "      <th>3</th>\n",
       "      <td>Austria</td>\n",
       "      <td>12/1/2023</td>\n",
       "      <td>Net Electricity Production</td>\n",
       "      <td>Oil and Petroleum Products</td>\n",
       "      <td>73.8682</td>\n",
       "      <td>GWh</td>\n",
       "      <td>2023</td>\n",
       "    </tr>\n",
       "    <tr>\n",
       "      <th>4</th>\n",
       "      <td>Austria</td>\n",
       "      <td>12/1/2023</td>\n",
       "      <td>Net Electricity Production</td>\n",
       "      <td>Natural Gas</td>\n",
       "      <td>1035.0865</td>\n",
       "      <td>GWh</td>\n",
       "      <td>2023</td>\n",
       "    </tr>\n",
       "  </tbody>\n",
       "</table>\n",
       "</div>"
      ],
      "text/plain": [
       "  country_name       date                   parameter  \\\n",
       "0      Austria  12/1/2023  Net Electricity Production   \n",
       "1      Austria  12/1/2023  Net Electricity Production   \n",
       "2      Austria  12/1/2023  Net Electricity Production   \n",
       "3      Austria  12/1/2023  Net Electricity Production   \n",
       "4      Austria  12/1/2023  Net Electricity Production   \n",
       "\n",
       "                             product      value unit  year  \n",
       "0                        Electricity  6783.2730  GWh  2023  \n",
       "1            Total Combustible Fuels  1746.9034  GWh  2023  \n",
       "2  Coal, Peat and Manufactured Gases   167.3548  GWh  2023  \n",
       "3         Oil and Petroleum Products    73.8682  GWh  2023  \n",
       "4                        Natural Gas  1035.0865  GWh  2023  "
      ]
     },
     "execution_count": 41,
     "metadata": {},
     "output_type": "execute_result"
    }
   ],
   "source": []
  },
  {
   "cell_type": "code",
   "execution_count": null,
   "metadata": {},
   "outputs": [],
   "source": [
    "# H1: convert col 'value' to integer \n",
    "df_main['value'] = df_main['value'].astype(int)"
   ]
  },
  {
   "cell_type": "markdown",
   "metadata": {},
   "source": [
    "# H1 : EDA 2st Dataset GDP per country per capita "
   ]
  },
  {
   "cell_type": "code",
   "execution_count": null,
   "metadata": {},
   "outputs": [
    {
     "data": {
      "text/html": [
       "<div>\n",
       "<style scoped>\n",
       "    .dataframe tbody tr th:only-of-type {\n",
       "        vertical-align: middle;\n",
       "    }\n",
       "\n",
       "    .dataframe tbody tr th {\n",
       "        vertical-align: top;\n",
       "    }\n",
       "\n",
       "    .dataframe thead th {\n",
       "        text-align: right;\n",
       "    }\n",
       "</style>\n",
       "<table border=\"1\" class=\"dataframe\">\n",
       "  <thead>\n",
       "    <tr style=\"text-align: right;\">\n",
       "      <th></th>\n",
       "      <th>Country Name</th>\n",
       "      <th>Country Code</th>\n",
       "      <th>Indicator Name</th>\n",
       "      <th>Indicator Code</th>\n",
       "      <th>1960</th>\n",
       "      <th>1961</th>\n",
       "      <th>1962</th>\n",
       "      <th>1963</th>\n",
       "      <th>1964</th>\n",
       "      <th>1965</th>\n",
       "      <th>...</th>\n",
       "      <th>2014</th>\n",
       "      <th>2015</th>\n",
       "      <th>2016</th>\n",
       "      <th>2017</th>\n",
       "      <th>2018</th>\n",
       "      <th>2019</th>\n",
       "      <th>2020</th>\n",
       "      <th>2021</th>\n",
       "      <th>2022</th>\n",
       "      <th>2023</th>\n",
       "    </tr>\n",
       "  </thead>\n",
       "  <tbody>\n",
       "    <tr>\n",
       "      <th>0</th>\n",
       "      <td>Aruba</td>\n",
       "      <td>ABW</td>\n",
       "      <td>GDP per capita (current US$)</td>\n",
       "      <td>NY.GDP.PCAP.CD</td>\n",
       "      <td>NaN</td>\n",
       "      <td>NaN</td>\n",
       "      <td>NaN</td>\n",
       "      <td>NaN</td>\n",
       "      <td>NaN</td>\n",
       "      <td>NaN</td>\n",
       "      <td>...</td>\n",
       "      <td>26940.264110</td>\n",
       "      <td>28419.264530</td>\n",
       "      <td>28449.712950</td>\n",
       "      <td>29329.081750</td>\n",
       "      <td>30918.483580</td>\n",
       "      <td>31902.809820</td>\n",
       "      <td>24008.127820</td>\n",
       "      <td>29127.759380</td>\n",
       "      <td>33300.838820</td>\n",
       "      <td>NaN</td>\n",
       "    </tr>\n",
       "    <tr>\n",
       "      <th>1</th>\n",
       "      <td>Africa Eastern and Southern</td>\n",
       "      <td>AFE</td>\n",
       "      <td>GDP per capita (current US$)</td>\n",
       "      <td>NY.GDP.PCAP.CD</td>\n",
       "      <td>162.342518</td>\n",
       "      <td>166.263682</td>\n",
       "      <td>171.961916</td>\n",
       "      <td>182.018480</td>\n",
       "      <td>192.639989</td>\n",
       "      <td>202.847824</td>\n",
       "      <td>...</td>\n",
       "      <td>1678.553610</td>\n",
       "      <td>1498.805084</td>\n",
       "      <td>1346.301281</td>\n",
       "      <td>1485.753579</td>\n",
       "      <td>1558.612079</td>\n",
       "      <td>1508.486886</td>\n",
       "      <td>1356.088871</td>\n",
       "      <td>1545.956697</td>\n",
       "      <td>1642.432039</td>\n",
       "      <td>1672.505957</td>\n",
       "    </tr>\n",
       "    <tr>\n",
       "      <th>2</th>\n",
       "      <td>Afghanistan</td>\n",
       "      <td>AFG</td>\n",
       "      <td>GDP per capita (current US$)</td>\n",
       "      <td>NY.GDP.PCAP.CD</td>\n",
       "      <td>NaN</td>\n",
       "      <td>NaN</td>\n",
       "      <td>NaN</td>\n",
       "      <td>NaN</td>\n",
       "      <td>NaN</td>\n",
       "      <td>NaN</td>\n",
       "      <td>...</td>\n",
       "      <td>626.512929</td>\n",
       "      <td>566.881130</td>\n",
       "      <td>523.053012</td>\n",
       "      <td>526.140801</td>\n",
       "      <td>492.090631</td>\n",
       "      <td>497.741431</td>\n",
       "      <td>512.055098</td>\n",
       "      <td>355.777826</td>\n",
       "      <td>352.603733</td>\n",
       "      <td>NaN</td>\n",
       "    </tr>\n",
       "    <tr>\n",
       "      <th>3</th>\n",
       "      <td>Africa Western and Central</td>\n",
       "      <td>AFW</td>\n",
       "      <td>GDP per capita (current US$)</td>\n",
       "      <td>NY.GDP.PCAP.CD</td>\n",
       "      <td>122.193931</td>\n",
       "      <td>127.732834</td>\n",
       "      <td>134.130070</td>\n",
       "      <td>139.291222</td>\n",
       "      <td>148.821355</td>\n",
       "      <td>156.314136</td>\n",
       "      <td>...</td>\n",
       "      <td>2248.518426</td>\n",
       "      <td>1882.518808</td>\n",
       "      <td>1648.920269</td>\n",
       "      <td>1590.555785</td>\n",
       "      <td>1735.445833</td>\n",
       "      <td>1813.609146</td>\n",
       "      <td>1688.470871</td>\n",
       "      <td>1769.171853</td>\n",
       "      <td>1788.875347</td>\n",
       "      <td>1584.333285</td>\n",
       "    </tr>\n",
       "    <tr>\n",
       "      <th>4</th>\n",
       "      <td>Angola</td>\n",
       "      <td>AGO</td>\n",
       "      <td>GDP per capita (current US$)</td>\n",
       "      <td>NY.GDP.PCAP.CD</td>\n",
       "      <td>NaN</td>\n",
       "      <td>NaN</td>\n",
       "      <td>NaN</td>\n",
       "      <td>NaN</td>\n",
       "      <td>NaN</td>\n",
       "      <td>NaN</td>\n",
       "      <td>...</td>\n",
       "      <td>5011.984427</td>\n",
       "      <td>3217.339240</td>\n",
       "      <td>1809.709377</td>\n",
       "      <td>2439.374439</td>\n",
       "      <td>2540.508879</td>\n",
       "      <td>2191.347764</td>\n",
       "      <td>1450.905111</td>\n",
       "      <td>1927.474078</td>\n",
       "      <td>2933.484644</td>\n",
       "      <td>2309.521620</td>\n",
       "    </tr>\n",
       "  </tbody>\n",
       "</table>\n",
       "<p>5 rows × 68 columns</p>\n",
       "</div>"
      ],
      "text/plain": [
       "                  Country Name Country Code                Indicator Name  \\\n",
       "0                        Aruba          ABW  GDP per capita (current US$)   \n",
       "1  Africa Eastern and Southern          AFE  GDP per capita (current US$)   \n",
       "2                  Afghanistan          AFG  GDP per capita (current US$)   \n",
       "3   Africa Western and Central          AFW  GDP per capita (current US$)   \n",
       "4                       Angola          AGO  GDP per capita (current US$)   \n",
       "\n",
       "   Indicator Code        1960        1961        1962        1963        1964  \\\n",
       "0  NY.GDP.PCAP.CD         NaN         NaN         NaN         NaN         NaN   \n",
       "1  NY.GDP.PCAP.CD  162.342518  166.263682  171.961916  182.018480  192.639989   \n",
       "2  NY.GDP.PCAP.CD         NaN         NaN         NaN         NaN         NaN   \n",
       "3  NY.GDP.PCAP.CD  122.193931  127.732834  134.130070  139.291222  148.821355   \n",
       "4  NY.GDP.PCAP.CD         NaN         NaN         NaN         NaN         NaN   \n",
       "\n",
       "         1965  ...          2014          2015          2016          2017  \\\n",
       "0         NaN  ...  26940.264110  28419.264530  28449.712950  29329.081750   \n",
       "1  202.847824  ...   1678.553610   1498.805084   1346.301281   1485.753579   \n",
       "2         NaN  ...    626.512929    566.881130    523.053012    526.140801   \n",
       "3  156.314136  ...   2248.518426   1882.518808   1648.920269   1590.555785   \n",
       "4         NaN  ...   5011.984427   3217.339240   1809.709377   2439.374439   \n",
       "\n",
       "           2018          2019          2020          2021          2022  \\\n",
       "0  30918.483580  31902.809820  24008.127820  29127.759380  33300.838820   \n",
       "1   1558.612079   1508.486886   1356.088871   1545.956697   1642.432039   \n",
       "2    492.090631    497.741431    512.055098    355.777826    352.603733   \n",
       "3   1735.445833   1813.609146   1688.470871   1769.171853   1788.875347   \n",
       "4   2540.508879   2191.347764   1450.905111   1927.474078   2933.484644   \n",
       "\n",
       "          2023  \n",
       "0          NaN  \n",
       "1  1672.505957  \n",
       "2          NaN  \n",
       "3  1584.333285  \n",
       "4  2309.521620  \n",
       "\n",
       "[5 rows x 68 columns]"
      ]
     },
     "execution_count": 42,
     "metadata": {},
     "output_type": "execute_result"
    }
   ],
   "source": [
    "# H1: load dataset-2 GDP      \n",
    "df_gdp = pd.read_csv('./data/gdp_per_capita.csv')     \n",
    "df_gdp.head()                       "
   ]
  },
  {
   "cell_type": "code",
   "execution_count": null,
   "metadata": {},
   "outputs": [
    {
     "data": {
      "text/html": [
       "<div>\n",
       "<style scoped>\n",
       "    .dataframe tbody tr th:only-of-type {\n",
       "        vertical-align: middle;\n",
       "    }\n",
       "\n",
       "    .dataframe tbody tr th {\n",
       "        vertical-align: top;\n",
       "    }\n",
       "\n",
       "    .dataframe thead th {\n",
       "        text-align: right;\n",
       "    }\n",
       "</style>\n",
       "<table border=\"1\" class=\"dataframe\">\n",
       "  <thead>\n",
       "    <tr style=\"text-align: right;\">\n",
       "      <th></th>\n",
       "      <th>Country Name</th>\n",
       "      <th>Country Code</th>\n",
       "      <th>1960</th>\n",
       "      <th>1961</th>\n",
       "      <th>1962</th>\n",
       "      <th>1963</th>\n",
       "      <th>1964</th>\n",
       "      <th>1965</th>\n",
       "      <th>1966</th>\n",
       "      <th>1967</th>\n",
       "      <th>...</th>\n",
       "      <th>2014</th>\n",
       "      <th>2015</th>\n",
       "      <th>2016</th>\n",
       "      <th>2017</th>\n",
       "      <th>2018</th>\n",
       "      <th>2019</th>\n",
       "      <th>2020</th>\n",
       "      <th>2021</th>\n",
       "      <th>2022</th>\n",
       "      <th>2023</th>\n",
       "    </tr>\n",
       "  </thead>\n",
       "  <tbody>\n",
       "    <tr>\n",
       "      <th>0</th>\n",
       "      <td>Aruba</td>\n",
       "      <td>ABW</td>\n",
       "      <td>NaN</td>\n",
       "      <td>NaN</td>\n",
       "      <td>NaN</td>\n",
       "      <td>NaN</td>\n",
       "      <td>NaN</td>\n",
       "      <td>NaN</td>\n",
       "      <td>NaN</td>\n",
       "      <td>NaN</td>\n",
       "      <td>...</td>\n",
       "      <td>26940.264110</td>\n",
       "      <td>28419.264530</td>\n",
       "      <td>28449.712950</td>\n",
       "      <td>29329.081750</td>\n",
       "      <td>30918.483580</td>\n",
       "      <td>31902.809820</td>\n",
       "      <td>24008.127820</td>\n",
       "      <td>29127.759380</td>\n",
       "      <td>33300.838820</td>\n",
       "      <td>NaN</td>\n",
       "    </tr>\n",
       "    <tr>\n",
       "      <th>1</th>\n",
       "      <td>Africa Eastern and Southern</td>\n",
       "      <td>AFE</td>\n",
       "      <td>162.342518</td>\n",
       "      <td>166.263682</td>\n",
       "      <td>171.961916</td>\n",
       "      <td>182.018480</td>\n",
       "      <td>192.639989</td>\n",
       "      <td>202.847824</td>\n",
       "      <td>214.666914</td>\n",
       "      <td>226.978859</td>\n",
       "      <td>...</td>\n",
       "      <td>1678.553610</td>\n",
       "      <td>1498.805084</td>\n",
       "      <td>1346.301281</td>\n",
       "      <td>1485.753579</td>\n",
       "      <td>1558.612079</td>\n",
       "      <td>1508.486886</td>\n",
       "      <td>1356.088871</td>\n",
       "      <td>1545.956697</td>\n",
       "      <td>1642.432039</td>\n",
       "      <td>1672.505957</td>\n",
       "    </tr>\n",
       "    <tr>\n",
       "      <th>2</th>\n",
       "      <td>Afghanistan</td>\n",
       "      <td>AFG</td>\n",
       "      <td>NaN</td>\n",
       "      <td>NaN</td>\n",
       "      <td>NaN</td>\n",
       "      <td>NaN</td>\n",
       "      <td>NaN</td>\n",
       "      <td>NaN</td>\n",
       "      <td>NaN</td>\n",
       "      <td>NaN</td>\n",
       "      <td>...</td>\n",
       "      <td>626.512929</td>\n",
       "      <td>566.881130</td>\n",
       "      <td>523.053012</td>\n",
       "      <td>526.140801</td>\n",
       "      <td>492.090631</td>\n",
       "      <td>497.741431</td>\n",
       "      <td>512.055098</td>\n",
       "      <td>355.777826</td>\n",
       "      <td>352.603733</td>\n",
       "      <td>NaN</td>\n",
       "    </tr>\n",
       "    <tr>\n",
       "      <th>3</th>\n",
       "      <td>Africa Western and Central</td>\n",
       "      <td>AFW</td>\n",
       "      <td>122.193931</td>\n",
       "      <td>127.732834</td>\n",
       "      <td>134.130070</td>\n",
       "      <td>139.291222</td>\n",
       "      <td>148.821355</td>\n",
       "      <td>156.314136</td>\n",
       "      <td>162.890667</td>\n",
       "      <td>145.568085</td>\n",
       "      <td>...</td>\n",
       "      <td>2248.518426</td>\n",
       "      <td>1882.518808</td>\n",
       "      <td>1648.920269</td>\n",
       "      <td>1590.555785</td>\n",
       "      <td>1735.445833</td>\n",
       "      <td>1813.609146</td>\n",
       "      <td>1688.470871</td>\n",
       "      <td>1769.171853</td>\n",
       "      <td>1788.875347</td>\n",
       "      <td>1584.333285</td>\n",
       "    </tr>\n",
       "    <tr>\n",
       "      <th>4</th>\n",
       "      <td>Angola</td>\n",
       "      <td>AGO</td>\n",
       "      <td>NaN</td>\n",
       "      <td>NaN</td>\n",
       "      <td>NaN</td>\n",
       "      <td>NaN</td>\n",
       "      <td>NaN</td>\n",
       "      <td>NaN</td>\n",
       "      <td>NaN</td>\n",
       "      <td>NaN</td>\n",
       "      <td>...</td>\n",
       "      <td>5011.984427</td>\n",
       "      <td>3217.339240</td>\n",
       "      <td>1809.709377</td>\n",
       "      <td>2439.374439</td>\n",
       "      <td>2540.508879</td>\n",
       "      <td>2191.347764</td>\n",
       "      <td>1450.905111</td>\n",
       "      <td>1927.474078</td>\n",
       "      <td>2933.484644</td>\n",
       "      <td>2309.521620</td>\n",
       "    </tr>\n",
       "    <tr>\n",
       "      <th>...</th>\n",
       "      <td>...</td>\n",
       "      <td>...</td>\n",
       "      <td>...</td>\n",
       "      <td>...</td>\n",
       "      <td>...</td>\n",
       "      <td>...</td>\n",
       "      <td>...</td>\n",
       "      <td>...</td>\n",
       "      <td>...</td>\n",
       "      <td>...</td>\n",
       "      <td>...</td>\n",
       "      <td>...</td>\n",
       "      <td>...</td>\n",
       "      <td>...</td>\n",
       "      <td>...</td>\n",
       "      <td>...</td>\n",
       "      <td>...</td>\n",
       "      <td>...</td>\n",
       "      <td>...</td>\n",
       "      <td>...</td>\n",
       "      <td>...</td>\n",
       "    </tr>\n",
       "    <tr>\n",
       "      <th>261</th>\n",
       "      <td>Kosovo</td>\n",
       "      <td>XKX</td>\n",
       "      <td>NaN</td>\n",
       "      <td>NaN</td>\n",
       "      <td>NaN</td>\n",
       "      <td>NaN</td>\n",
       "      <td>NaN</td>\n",
       "      <td>NaN</td>\n",
       "      <td>NaN</td>\n",
       "      <td>NaN</td>\n",
       "      <td>...</td>\n",
       "      <td>3902.530841</td>\n",
       "      <td>3520.782075</td>\n",
       "      <td>3759.472855</td>\n",
       "      <td>4009.353811</td>\n",
       "      <td>4384.188680</td>\n",
       "      <td>4416.029253</td>\n",
       "      <td>4310.934002</td>\n",
       "      <td>5270.550640</td>\n",
       "      <td>5290.977397</td>\n",
       "      <td>5943.125714</td>\n",
       "    </tr>\n",
       "    <tr>\n",
       "      <th>262</th>\n",
       "      <td>Yemen, Rep.</td>\n",
       "      <td>YEM</td>\n",
       "      <td>NaN</td>\n",
       "      <td>NaN</td>\n",
       "      <td>NaN</td>\n",
       "      <td>NaN</td>\n",
       "      <td>NaN</td>\n",
       "      <td>NaN</td>\n",
       "      <td>NaN</td>\n",
       "      <td>NaN</td>\n",
       "      <td>...</td>\n",
       "      <td>1557.601406</td>\n",
       "      <td>1488.416289</td>\n",
       "      <td>1069.817009</td>\n",
       "      <td>893.716501</td>\n",
       "      <td>701.714865</td>\n",
       "      <td>693.816508</td>\n",
       "      <td>626.309169</td>\n",
       "      <td>583.849041</td>\n",
       "      <td>698.850350</td>\n",
       "      <td>533.367124</td>\n",
       "    </tr>\n",
       "    <tr>\n",
       "      <th>263</th>\n",
       "      <td>South Africa</td>\n",
       "      <td>ZAF</td>\n",
       "      <td>529.561923</td>\n",
       "      <td>543.042224</td>\n",
       "      <td>560.699395</td>\n",
       "      <td>601.599951</td>\n",
       "      <td>642.688431</td>\n",
       "      <td>681.131111</td>\n",
       "      <td>718.118179</td>\n",
       "      <td>775.152812</td>\n",
       "      <td>...</td>\n",
       "      <td>6965.137897</td>\n",
       "      <td>6204.929901</td>\n",
       "      <td>5735.066787</td>\n",
       "      <td>6734.475153</td>\n",
       "      <td>7067.724165</td>\n",
       "      <td>6702.526617</td>\n",
       "      <td>5753.066494</td>\n",
       "      <td>7073.612754</td>\n",
       "      <td>6766.481254</td>\n",
       "      <td>6253.161613</td>\n",
       "    </tr>\n",
       "    <tr>\n",
       "      <th>264</th>\n",
       "      <td>Zambia</td>\n",
       "      <td>ZMB</td>\n",
       "      <td>228.567398</td>\n",
       "      <td>216.274674</td>\n",
       "      <td>208.562685</td>\n",
       "      <td>209.453362</td>\n",
       "      <td>236.941713</td>\n",
       "      <td>296.022427</td>\n",
       "      <td>334.672528</td>\n",
       "      <td>350.653425</td>\n",
       "      <td>...</td>\n",
       "      <td>1724.576220</td>\n",
       "      <td>1307.909649</td>\n",
       "      <td>1249.923143</td>\n",
       "      <td>1495.752138</td>\n",
       "      <td>1475.199883</td>\n",
       "      <td>1268.120941</td>\n",
       "      <td>958.264900</td>\n",
       "      <td>1134.713454</td>\n",
       "      <td>1456.901570</td>\n",
       "      <td>1369.129365</td>\n",
       "    </tr>\n",
       "    <tr>\n",
       "      <th>265</th>\n",
       "      <td>Zimbabwe</td>\n",
       "      <td>ZWE</td>\n",
       "      <td>276.643363</td>\n",
       "      <td>279.332656</td>\n",
       "      <td>275.966139</td>\n",
       "      <td>277.532515</td>\n",
       "      <td>282.376856</td>\n",
       "      <td>294.893605</td>\n",
       "      <td>279.337779</td>\n",
       "      <td>295.056449</td>\n",
       "      <td>...</td>\n",
       "      <td>1407.034291</td>\n",
       "      <td>1410.329173</td>\n",
       "      <td>1421.787791</td>\n",
       "      <td>1192.107012</td>\n",
       "      <td>2269.177012</td>\n",
       "      <td>1421.868596</td>\n",
       "      <td>1372.696674</td>\n",
       "      <td>1773.920411</td>\n",
       "      <td>1676.821489</td>\n",
       "      <td>1592.416574</td>\n",
       "    </tr>\n",
       "  </tbody>\n",
       "</table>\n",
       "<p>266 rows × 66 columns</p>\n",
       "</div>"
      ],
      "text/plain": [
       "                    Country Name Country Code        1960        1961  \\\n",
       "0                          Aruba          ABW         NaN         NaN   \n",
       "1    Africa Eastern and Southern          AFE  162.342518  166.263682   \n",
       "2                    Afghanistan          AFG         NaN         NaN   \n",
       "3     Africa Western and Central          AFW  122.193931  127.732834   \n",
       "4                         Angola          AGO         NaN         NaN   \n",
       "..                           ...          ...         ...         ...   \n",
       "261                       Kosovo          XKX         NaN         NaN   \n",
       "262                  Yemen, Rep.          YEM         NaN         NaN   \n",
       "263                 South Africa          ZAF  529.561923  543.042224   \n",
       "264                       Zambia          ZMB  228.567398  216.274674   \n",
       "265                     Zimbabwe          ZWE  276.643363  279.332656   \n",
       "\n",
       "           1962        1963        1964        1965        1966        1967  \\\n",
       "0           NaN         NaN         NaN         NaN         NaN         NaN   \n",
       "1    171.961916  182.018480  192.639989  202.847824  214.666914  226.978859   \n",
       "2           NaN         NaN         NaN         NaN         NaN         NaN   \n",
       "3    134.130070  139.291222  148.821355  156.314136  162.890667  145.568085   \n",
       "4           NaN         NaN         NaN         NaN         NaN         NaN   \n",
       "..          ...         ...         ...         ...         ...         ...   \n",
       "261         NaN         NaN         NaN         NaN         NaN         NaN   \n",
       "262         NaN         NaN         NaN         NaN         NaN         NaN   \n",
       "263  560.699395  601.599951  642.688431  681.131111  718.118179  775.152812   \n",
       "264  208.562685  209.453362  236.941713  296.022427  334.672528  350.653425   \n",
       "265  275.966139  277.532515  282.376856  294.893605  279.337779  295.056449   \n",
       "\n",
       "     ...          2014          2015          2016          2017  \\\n",
       "0    ...  26940.264110  28419.264530  28449.712950  29329.081750   \n",
       "1    ...   1678.553610   1498.805084   1346.301281   1485.753579   \n",
       "2    ...    626.512929    566.881130    523.053012    526.140801   \n",
       "3    ...   2248.518426   1882.518808   1648.920269   1590.555785   \n",
       "4    ...   5011.984427   3217.339240   1809.709377   2439.374439   \n",
       "..   ...           ...           ...           ...           ...   \n",
       "261  ...   3902.530841   3520.782075   3759.472855   4009.353811   \n",
       "262  ...   1557.601406   1488.416289   1069.817009    893.716501   \n",
       "263  ...   6965.137897   6204.929901   5735.066787   6734.475153   \n",
       "264  ...   1724.576220   1307.909649   1249.923143   1495.752138   \n",
       "265  ...   1407.034291   1410.329173   1421.787791   1192.107012   \n",
       "\n",
       "             2018          2019          2020          2021          2022  \\\n",
       "0    30918.483580  31902.809820  24008.127820  29127.759380  33300.838820   \n",
       "1     1558.612079   1508.486886   1356.088871   1545.956697   1642.432039   \n",
       "2      492.090631    497.741431    512.055098    355.777826    352.603733   \n",
       "3     1735.445833   1813.609146   1688.470871   1769.171853   1788.875347   \n",
       "4     2540.508879   2191.347764   1450.905111   1927.474078   2933.484644   \n",
       "..            ...           ...           ...           ...           ...   \n",
       "261   4384.188680   4416.029253   4310.934002   5270.550640   5290.977397   \n",
       "262    701.714865    693.816508    626.309169    583.849041    698.850350   \n",
       "263   7067.724165   6702.526617   5753.066494   7073.612754   6766.481254   \n",
       "264   1475.199883   1268.120941    958.264900   1134.713454   1456.901570   \n",
       "265   2269.177012   1421.868596   1372.696674   1773.920411   1676.821489   \n",
       "\n",
       "            2023  \n",
       "0            NaN  \n",
       "1    1672.505957  \n",
       "2            NaN  \n",
       "3    1584.333285  \n",
       "4    2309.521620  \n",
       "..           ...  \n",
       "261  5943.125714  \n",
       "262   533.367124  \n",
       "263  6253.161613  \n",
       "264  1369.129365  \n",
       "265  1592.416574  \n",
       "\n",
       "[266 rows x 66 columns]"
      ]
     },
     "execution_count": 43,
     "metadata": {},
     "output_type": "execute_result"
    }
   ],
   "source": [
    "# H1: Drop cols \"Indicator Name\", \"Indicator Code\"\n",
    "df_gdp_cleaned = df_gdp.drop(columns=[\"Indicator Name\", \"Indicator Code\"])\n",
    "df_gdp_cleaned"
   ]
  },
  {
   "cell_type": "code",
   "execution_count": null,
   "metadata": {},
   "outputs": [
    {
     "data": {
      "text/html": [
       "<div>\n",
       "<style scoped>\n",
       "    .dataframe tbody tr th:only-of-type {\n",
       "        vertical-align: middle;\n",
       "    }\n",
       "\n",
       "    .dataframe tbody tr th {\n",
       "        vertical-align: top;\n",
       "    }\n",
       "\n",
       "    .dataframe thead th {\n",
       "        text-align: right;\n",
       "    }\n",
       "</style>\n",
       "<table border=\"1\" class=\"dataframe\">\n",
       "  <thead>\n",
       "    <tr style=\"text-align: right;\">\n",
       "      <th></th>\n",
       "      <th>Country</th>\n",
       "      <th>Country Code</th>\n",
       "      <th>Year</th>\n",
       "      <th>GDP</th>\n",
       "    </tr>\n",
       "  </thead>\n",
       "  <tbody>\n",
       "    <tr>\n",
       "      <th>0</th>\n",
       "      <td>Aruba</td>\n",
       "      <td>ABW</td>\n",
       "      <td>1986</td>\n",
       "      <td>6283.001443</td>\n",
       "    </tr>\n",
       "    <tr>\n",
       "      <th>1</th>\n",
       "      <td>Aruba</td>\n",
       "      <td>ABW</td>\n",
       "      <td>1987</td>\n",
       "      <td>7567.253642</td>\n",
       "    </tr>\n",
       "    <tr>\n",
       "      <th>2</th>\n",
       "      <td>Aruba</td>\n",
       "      <td>ABW</td>\n",
       "      <td>1988</td>\n",
       "      <td>9274.514156</td>\n",
       "    </tr>\n",
       "    <tr>\n",
       "      <th>3</th>\n",
       "      <td>Aruba</td>\n",
       "      <td>ABW</td>\n",
       "      <td>1989</td>\n",
       "      <td>10767.396220</td>\n",
       "    </tr>\n",
       "    <tr>\n",
       "      <th>4</th>\n",
       "      <td>Aruba</td>\n",
       "      <td>ABW</td>\n",
       "      <td>1990</td>\n",
       "      <td>11638.733710</td>\n",
       "    </tr>\n",
       "  </tbody>\n",
       "</table>\n",
       "</div>"
      ],
      "text/plain": [
       "  Country Country Code  Year           GDP\n",
       "0   Aruba          ABW  1986   6283.001443\n",
       "1   Aruba          ABW  1987   7567.253642\n",
       "2   Aruba          ABW  1988   9274.514156\n",
       "3   Aruba          ABW  1989  10767.396220\n",
       "4   Aruba          ABW  1990  11638.733710"
      ]
     },
     "execution_count": 44,
     "metadata": {},
     "output_type": "execute_result"
    }
   ],
   "source": [
    "# H1: transform data from wide to long format with \"stack() function\"\n",
    "df_stacked = df_gdp_cleaned.set_index([\"Country Name\", \"Country Code\"]).stack().reset_index()\n",
    "df_stacked.columns = [\"Country\", \"Country Code\", \"Year\", \"GDP\"]\n",
    "df_stacked.head()"
   ]
  },
  {
   "cell_type": "code",
   "execution_count": null,
   "metadata": {},
   "outputs": [
    {
     "data": {
      "text/plain": [
       "Index(['country', 'country_code', 'year', 'gdp'], dtype='object')"
      ]
     },
     "execution_count": 45,
     "metadata": {},
     "output_type": "execute_result"
    }
   ],
   "source": [
    "# H1: format_column_titles\n",
    "format_column_titles_h1(df_stacked)"
   ]
  },
  {
   "cell_type": "code",
   "execution_count": null,
   "metadata": {},
   "outputs": [
    {
     "data": {
      "text/html": [
       "<div>\n",
       "<style scoped>\n",
       "    .dataframe tbody tr th:only-of-type {\n",
       "        vertical-align: middle;\n",
       "    }\n",
       "\n",
       "    .dataframe tbody tr th {\n",
       "        vertical-align: top;\n",
       "    }\n",
       "\n",
       "    .dataframe thead th {\n",
       "        text-align: right;\n",
       "    }\n",
       "</style>\n",
       "<table border=\"1\" class=\"dataframe\">\n",
       "  <thead>\n",
       "    <tr style=\"text-align: right;\">\n",
       "      <th></th>\n",
       "      <th>country_name</th>\n",
       "      <th>country_code</th>\n",
       "      <th>year</th>\n",
       "      <th>gdp</th>\n",
       "    </tr>\n",
       "  </thead>\n",
       "  <tbody>\n",
       "    <tr>\n",
       "      <th>0</th>\n",
       "      <td>Aruba</td>\n",
       "      <td>ABW</td>\n",
       "      <td>1986</td>\n",
       "      <td>6283.001443</td>\n",
       "    </tr>\n",
       "    <tr>\n",
       "      <th>1</th>\n",
       "      <td>Aruba</td>\n",
       "      <td>ABW</td>\n",
       "      <td>1987</td>\n",
       "      <td>7567.253642</td>\n",
       "    </tr>\n",
       "    <tr>\n",
       "      <th>2</th>\n",
       "      <td>Aruba</td>\n",
       "      <td>ABW</td>\n",
       "      <td>1988</td>\n",
       "      <td>9274.514156</td>\n",
       "    </tr>\n",
       "    <tr>\n",
       "      <th>3</th>\n",
       "      <td>Aruba</td>\n",
       "      <td>ABW</td>\n",
       "      <td>1989</td>\n",
       "      <td>10767.396220</td>\n",
       "    </tr>\n",
       "    <tr>\n",
       "      <th>4</th>\n",
       "      <td>Aruba</td>\n",
       "      <td>ABW</td>\n",
       "      <td>1990</td>\n",
       "      <td>11638.733710</td>\n",
       "    </tr>\n",
       "  </tbody>\n",
       "</table>\n",
       "</div>"
      ],
      "text/plain": [
       "  country_name country_code  year           gdp\n",
       "0        Aruba          ABW  1986   6283.001443\n",
       "1        Aruba          ABW  1987   7567.253642\n",
       "2        Aruba          ABW  1988   9274.514156\n",
       "3        Aruba          ABW  1989  10767.396220\n",
       "4        Aruba          ABW  1990  11638.733710"
      ]
     },
     "execution_count": 46,
     "metadata": {},
     "output_type": "execute_result"
    }
   ],
   "source": [
    "#  H1: rename column country\n",
    "df_stacked.rename(columns={'country': 'country_name'}, inplace=True)\n",
    "df_stacked.head()"
   ]
  },
  {
   "cell_type": "code",
   "execution_count": null,
   "metadata": {},
   "outputs": [],
   "source": [
    "# H1: rename column 'Czechia' to 'Czech Republic'\n",
    "df_stacked['country_name'] = df_stacked['country_name'].replace(['Czechia'], 'Czech Republic')"
   ]
  },
  {
   "cell_type": "code",
   "execution_count": null,
   "metadata": {},
   "outputs": [],
   "source": [
    "# H1: filter EU countries \n",
    "eu_countries = ['Austria', 'Belgium', 'Bulgaria', 'Croatia', 'Cyprus', 'Czech Republic', 'Denmark', 'Estonia', 'Finland', 'France', 'Germany', 'Greece', 'Hungary', 'Ireland', 'Italy', 'Latvia', 'Lithuania', 'Luxembourg', 'Malta', 'Netherlands', 'Poland', 'Portugal', 'Romania', 'Slovak Republic', 'Slovenia', 'Spain', 'Sweden']\n",
    "\n",
    "df_stacked_eu = df_stacked.loc[df_stacked['country_name'].isin(eu_countries)]"
   ]
  },
  {
   "cell_type": "code",
   "execution_count": null,
   "metadata": {},
   "outputs": [
    {
     "data": {
      "text/html": [
       "<div>\n",
       "<style scoped>\n",
       "    .dataframe tbody tr th:only-of-type {\n",
       "        vertical-align: middle;\n",
       "    }\n",
       "\n",
       "    .dataframe tbody tr th {\n",
       "        vertical-align: top;\n",
       "    }\n",
       "\n",
       "    .dataframe thead th {\n",
       "        text-align: right;\n",
       "    }\n",
       "</style>\n",
       "<table border=\"1\" class=\"dataframe\">\n",
       "  <thead>\n",
       "    <tr style=\"text-align: right;\">\n",
       "      <th></th>\n",
       "      <th>index</th>\n",
       "      <th>country_name</th>\n",
       "      <th>country_code</th>\n",
       "      <th>year</th>\n",
       "      <th>gdp</th>\n",
       "    </tr>\n",
       "  </thead>\n",
       "  <tbody>\n",
       "    <tr>\n",
       "      <th>0</th>\n",
       "      <td>633</td>\n",
       "      <td>Austria</td>\n",
       "      <td>AUT</td>\n",
       "      <td>1960</td>\n",
       "      <td>943.610800</td>\n",
       "    </tr>\n",
       "    <tr>\n",
       "      <th>1</th>\n",
       "      <td>634</td>\n",
       "      <td>Austria</td>\n",
       "      <td>AUT</td>\n",
       "      <td>1961</td>\n",
       "      <td>1040.804885</td>\n",
       "    </tr>\n",
       "    <tr>\n",
       "      <th>2</th>\n",
       "      <td>635</td>\n",
       "      <td>Austria</td>\n",
       "      <td>AUT</td>\n",
       "      <td>1962</td>\n",
       "      <td>1097.312202</td>\n",
       "    </tr>\n",
       "    <tr>\n",
       "      <th>3</th>\n",
       "      <td>636</td>\n",
       "      <td>Austria</td>\n",
       "      <td>AUT</td>\n",
       "      <td>1963</td>\n",
       "      <td>1177.168242</td>\n",
       "    </tr>\n",
       "    <tr>\n",
       "      <th>4</th>\n",
       "      <td>637</td>\n",
       "      <td>Austria</td>\n",
       "      <td>AUT</td>\n",
       "      <td>1964</td>\n",
       "      <td>1280.472577</td>\n",
       "    </tr>\n",
       "    <tr>\n",
       "      <th>...</th>\n",
       "      <td>...</td>\n",
       "      <td>...</td>\n",
       "      <td>...</td>\n",
       "      <td>...</td>\n",
       "      <td>...</td>\n",
       "    </tr>\n",
       "    <tr>\n",
       "      <th>1390</th>\n",
       "      <td>11861</td>\n",
       "      <td>Sweden</td>\n",
       "      <td>SWE</td>\n",
       "      <td>2019</td>\n",
       "      <td>51939.429740</td>\n",
       "    </tr>\n",
       "    <tr>\n",
       "      <th>1391</th>\n",
       "      <td>11862</td>\n",
       "      <td>Sweden</td>\n",
       "      <td>SWE</td>\n",
       "      <td>2020</td>\n",
       "      <td>52837.903980</td>\n",
       "    </tr>\n",
       "    <tr>\n",
       "      <th>1392</th>\n",
       "      <td>11863</td>\n",
       "      <td>Sweden</td>\n",
       "      <td>SWE</td>\n",
       "      <td>2021</td>\n",
       "      <td>61417.680880</td>\n",
       "    </tr>\n",
       "    <tr>\n",
       "      <th>1393</th>\n",
       "      <td>11864</td>\n",
       "      <td>Sweden</td>\n",
       "      <td>SWE</td>\n",
       "      <td>2022</td>\n",
       "      <td>56299.505730</td>\n",
       "    </tr>\n",
       "    <tr>\n",
       "      <th>1394</th>\n",
       "      <td>11865</td>\n",
       "      <td>Sweden</td>\n",
       "      <td>SWE</td>\n",
       "      <td>2023</td>\n",
       "      <td>56305.250200</td>\n",
       "    </tr>\n",
       "  </tbody>\n",
       "</table>\n",
       "<p>1395 rows × 5 columns</p>\n",
       "</div>"
      ],
      "text/plain": [
       "      index country_name country_code  year           gdp\n",
       "0       633      Austria          AUT  1960    943.610800\n",
       "1       634      Austria          AUT  1961   1040.804885\n",
       "2       635      Austria          AUT  1962   1097.312202\n",
       "3       636      Austria          AUT  1963   1177.168242\n",
       "4       637      Austria          AUT  1964   1280.472577\n",
       "...     ...          ...          ...   ...           ...\n",
       "1390  11861       Sweden          SWE  2019  51939.429740\n",
       "1391  11862       Sweden          SWE  2020  52837.903980\n",
       "1392  11863       Sweden          SWE  2021  61417.680880\n",
       "1393  11864       Sweden          SWE  2022  56299.505730\n",
       "1394  11865       Sweden          SWE  2023  56305.250200\n",
       "\n",
       "[1395 rows x 5 columns]"
      ]
     },
     "execution_count": 49,
     "metadata": {},
     "output_type": "execute_result"
    }
   ],
   "source": [
    "# H1: reset index\n",
    "df_stacked_eu = df_stacked_eu.reset_index()\n",
    "df_stacked_eu"
   ]
  },
  {
   "cell_type": "code",
   "execution_count": null,
   "metadata": {},
   "outputs": [],
   "source": [
    "# H1: GDP col round and convert in int type\n",
    "df_stacked_eu['gdp'] = df_stacked_eu['gdp'].astype(int)"
   ]
  },
  {
   "cell_type": "code",
   "execution_count": null,
   "metadata": {},
   "outputs": [
    {
     "data": {
      "text/html": [
       "<div>\n",
       "<style scoped>\n",
       "    .dataframe tbody tr th:only-of-type {\n",
       "        vertical-align: middle;\n",
       "    }\n",
       "\n",
       "    .dataframe tbody tr th {\n",
       "        vertical-align: top;\n",
       "    }\n",
       "\n",
       "    .dataframe thead th {\n",
       "        text-align: right;\n",
       "    }\n",
       "</style>\n",
       "<table border=\"1\" class=\"dataframe\">\n",
       "  <thead>\n",
       "    <tr style=\"text-align: right;\">\n",
       "      <th></th>\n",
       "      <th>non-Null_count</th>\n",
       "      <th>dtype</th>\n",
       "      <th>unique_values</th>\n",
       "      <th>%_unique</th>\n",
       "      <th>missing_values</th>\n",
       "      <th>%_missing</th>\n",
       "    </tr>\n",
       "  </thead>\n",
       "  <tbody>\n",
       "    <tr>\n",
       "      <th>index</th>\n",
       "      <td>1395</td>\n",
       "      <td>int64</td>\n",
       "      <td>1395</td>\n",
       "      <td>100.0%</td>\n",
       "      <td>0</td>\n",
       "      <td>0.0%</td>\n",
       "    </tr>\n",
       "    <tr>\n",
       "      <th>country_name</th>\n",
       "      <td>1395</td>\n",
       "      <td>object</td>\n",
       "      <td>27</td>\n",
       "      <td>1.94%</td>\n",
       "      <td>0</td>\n",
       "      <td>0.0%</td>\n",
       "    </tr>\n",
       "    <tr>\n",
       "      <th>country_code</th>\n",
       "      <td>1395</td>\n",
       "      <td>object</td>\n",
       "      <td>27</td>\n",
       "      <td>1.94%</td>\n",
       "      <td>0</td>\n",
       "      <td>0.0%</td>\n",
       "    </tr>\n",
       "    <tr>\n",
       "      <th>year</th>\n",
       "      <td>1395</td>\n",
       "      <td>object</td>\n",
       "      <td>64</td>\n",
       "      <td>4.59%</td>\n",
       "      <td>0</td>\n",
       "      <td>0.0%</td>\n",
       "    </tr>\n",
       "    <tr>\n",
       "      <th>gdp</th>\n",
       "      <td>1395</td>\n",
       "      <td>int64</td>\n",
       "      <td>1366</td>\n",
       "      <td>97.92%</td>\n",
       "      <td>0</td>\n",
       "      <td>0.0%</td>\n",
       "    </tr>\n",
       "  </tbody>\n",
       "</table>\n",
       "</div>"
      ],
      "text/plain": [
       "              non-Null_count   dtype  unique_values %_unique  missing_values  \\\n",
       "index                   1395   int64           1395   100.0%               0   \n",
       "country_name            1395  object             27    1.94%               0   \n",
       "country_code            1395  object             27    1.94%               0   \n",
       "year                    1395  object             64    4.59%               0   \n",
       "gdp                     1395   int64           1366   97.92%               0   \n",
       "\n",
       "             %_missing  \n",
       "index             0.0%  \n",
       "country_name      0.0%  \n",
       "country_code      0.0%  \n",
       "year              0.0%  \n",
       "gdp               0.0%  "
      ]
     },
     "execution_count": 51,
     "metadata": {},
     "output_type": "execute_result"
    }
   ],
   "source": [
    "# H1: check missing values \n",
    "unique_and_missing_values_dtype(df_stacked_eu)"
   ]
  },
  {
   "cell_type": "code",
   "execution_count": null,
   "metadata": {},
   "outputs": [],
   "source": [
    "# H1: drop col index: \n",
    "df_stacked_eu = df_stacked_eu.drop(columns=['index'])"
   ]
  },
  {
   "cell_type": "code",
   "execution_count": null,
   "metadata": {},
   "outputs": [
    {
     "data": {
      "text/html": [
       "<div>\n",
       "<style scoped>\n",
       "    .dataframe tbody tr th:only-of-type {\n",
       "        vertical-align: middle;\n",
       "    }\n",
       "\n",
       "    .dataframe tbody tr th {\n",
       "        vertical-align: top;\n",
       "    }\n",
       "\n",
       "    .dataframe thead th {\n",
       "        text-align: right;\n",
       "    }\n",
       "</style>\n",
       "<table border=\"1\" class=\"dataframe\">\n",
       "  <thead>\n",
       "    <tr style=\"text-align: right;\">\n",
       "      <th></th>\n",
       "      <th>non-Null_count</th>\n",
       "      <th>dtype</th>\n",
       "      <th>unique_values</th>\n",
       "      <th>%_unique</th>\n",
       "      <th>missing_values</th>\n",
       "      <th>%_missing</th>\n",
       "    </tr>\n",
       "  </thead>\n",
       "  <tbody>\n",
       "    <tr>\n",
       "      <th>country_name</th>\n",
       "      <td>1395</td>\n",
       "      <td>object</td>\n",
       "      <td>27</td>\n",
       "      <td>1.94%</td>\n",
       "      <td>0</td>\n",
       "      <td>0.0%</td>\n",
       "    </tr>\n",
       "    <tr>\n",
       "      <th>country_code</th>\n",
       "      <td>1395</td>\n",
       "      <td>object</td>\n",
       "      <td>27</td>\n",
       "      <td>1.94%</td>\n",
       "      <td>0</td>\n",
       "      <td>0.0%</td>\n",
       "    </tr>\n",
       "    <tr>\n",
       "      <th>year</th>\n",
       "      <td>1395</td>\n",
       "      <td>object</td>\n",
       "      <td>64</td>\n",
       "      <td>4.59%</td>\n",
       "      <td>0</td>\n",
       "      <td>0.0%</td>\n",
       "    </tr>\n",
       "    <tr>\n",
       "      <th>gdp</th>\n",
       "      <td>1395</td>\n",
       "      <td>int64</td>\n",
       "      <td>1366</td>\n",
       "      <td>97.92%</td>\n",
       "      <td>0</td>\n",
       "      <td>0.0%</td>\n",
       "    </tr>\n",
       "  </tbody>\n",
       "</table>\n",
       "</div>"
      ],
      "text/plain": [
       "              non-Null_count   dtype  unique_values %_unique  missing_values  \\\n",
       "country_name            1395  object             27    1.94%               0   \n",
       "country_code            1395  object             27    1.94%               0   \n",
       "year                    1395  object             64    4.59%               0   \n",
       "gdp                     1395   int64           1366   97.92%               0   \n",
       "\n",
       "             %_missing  \n",
       "country_name      0.0%  \n",
       "country_code      0.0%  \n",
       "year              0.0%  \n",
       "gdp               0.0%  "
      ]
     },
     "execution_count": 53,
     "metadata": {},
     "output_type": "execute_result"
    }
   ],
   "source": [
    "# H1: perform unique_and_missing_values_dtype analysis\n",
    "unique_and_missing_values_dtype(df_stacked_eu)"
   ]
  },
  {
   "cell_type": "code",
   "execution_count": null,
   "metadata": {},
   "outputs": [
    {
     "data": {
      "text/html": [
       "<div>\n",
       "<style scoped>\n",
       "    .dataframe tbody tr th:only-of-type {\n",
       "        vertical-align: middle;\n",
       "    }\n",
       "\n",
       "    .dataframe tbody tr th {\n",
       "        vertical-align: top;\n",
       "    }\n",
       "\n",
       "    .dataframe thead th {\n",
       "        text-align: right;\n",
       "    }\n",
       "</style>\n",
       "<table border=\"1\" class=\"dataframe\">\n",
       "  <thead>\n",
       "    <tr style=\"text-align: right;\">\n",
       "      <th></th>\n",
       "      <th>country_name</th>\n",
       "      <th>country_code</th>\n",
       "      <th>year</th>\n",
       "      <th>gdp</th>\n",
       "    </tr>\n",
       "  </thead>\n",
       "  <tbody>\n",
       "    <tr>\n",
       "      <th>0</th>\n",
       "      <td>Austria</td>\n",
       "      <td>AUT</td>\n",
       "      <td>1960</td>\n",
       "      <td>943</td>\n",
       "    </tr>\n",
       "    <tr>\n",
       "      <th>1</th>\n",
       "      <td>Austria</td>\n",
       "      <td>AUT</td>\n",
       "      <td>1961</td>\n",
       "      <td>1040</td>\n",
       "    </tr>\n",
       "    <tr>\n",
       "      <th>2</th>\n",
       "      <td>Austria</td>\n",
       "      <td>AUT</td>\n",
       "      <td>1962</td>\n",
       "      <td>1097</td>\n",
       "    </tr>\n",
       "    <tr>\n",
       "      <th>3</th>\n",
       "      <td>Austria</td>\n",
       "      <td>AUT</td>\n",
       "      <td>1963</td>\n",
       "      <td>1177</td>\n",
       "    </tr>\n",
       "    <tr>\n",
       "      <th>4</th>\n",
       "      <td>Austria</td>\n",
       "      <td>AUT</td>\n",
       "      <td>1964</td>\n",
       "      <td>1280</td>\n",
       "    </tr>\n",
       "  </tbody>\n",
       "</table>\n",
       "</div>"
      ],
      "text/plain": [
       "  country_name country_code  year   gdp\n",
       "0      Austria          AUT  1960   943\n",
       "1      Austria          AUT  1961  1040\n",
       "2      Austria          AUT  1962  1097\n",
       "3      Austria          AUT  1963  1177\n",
       "4      Austria          AUT  1964  1280"
      ]
     },
     "execution_count": 55,
     "metadata": {},
     "output_type": "execute_result"
    }
   ],
   "source": [
    "#  H1: remove 'Romania' data from the GDP dataset:\n",
    "df_stacked_eu = df_stacked_eu.drop(df_stacked_eu[df_stacked_eu['country_name'] == 'Romania'].index)\n",
    "df_stacked_eu.head()\n"
   ]
  },
  {
   "cell_type": "code",
   "execution_count": null,
   "metadata": {},
   "outputs": [
    {
     "name": "stdout",
     "output_type": "stream",
     "text": [
      "Countries in df_main not in df_stacked_eu: set()\n",
      "Countries in df_stacked_eu not in df_main: set()\n"
     ]
    }
   ],
   "source": [
    "#  H1: compare countries in both datasets:\n",
    "unique_countries_eu = df_stacked_eu['country_name'].unique()\n",
    "unique_countries_main = df_main['country_name'].unique()\n",
    "\n",
    "# Find countries in df_main that are not in df_stacked_eu\n",
    "countries_not_in_eu = set(unique_countries_main) - set(unique_countries_eu)\n",
    "# Find countries in df_stacked_eu that are not in df_main\n",
    "countries_not_in_main = set(unique_countries_eu) - set(unique_countries_main)\n",
    "\n",
    "print(\"Countries in df_main not in df_stacked_eu:\", countries_not_in_eu)\n",
    "print(\"Countries in df_stacked_eu not in df_main:\", countries_not_in_main)"
   ]
  },
  {
   "cell_type": "code",
   "execution_count": null,
   "metadata": {},
   "outputs": [
    {
     "data": {
      "text/html": [
       "<div>\n",
       "<style scoped>\n",
       "    .dataframe tbody tr th:only-of-type {\n",
       "        vertical-align: middle;\n",
       "    }\n",
       "\n",
       "    .dataframe tbody tr th {\n",
       "        vertical-align: top;\n",
       "    }\n",
       "\n",
       "    .dataframe thead th {\n",
       "        text-align: right;\n",
       "    }\n",
       "</style>\n",
       "<table border=\"1\" class=\"dataframe\">\n",
       "  <thead>\n",
       "    <tr style=\"text-align: right;\">\n",
       "      <th></th>\n",
       "      <th>country_name</th>\n",
       "      <th>country_code</th>\n",
       "      <th>year</th>\n",
       "      <th>gdp</th>\n",
       "    </tr>\n",
       "  </thead>\n",
       "  <tbody>\n",
       "    <tr>\n",
       "      <th>0</th>\n",
       "      <td>Austria</td>\n",
       "      <td>AUT</td>\n",
       "      <td>1960</td>\n",
       "      <td>943</td>\n",
       "    </tr>\n",
       "    <tr>\n",
       "      <th>1</th>\n",
       "      <td>Austria</td>\n",
       "      <td>AUT</td>\n",
       "      <td>1961</td>\n",
       "      <td>1040</td>\n",
       "    </tr>\n",
       "    <tr>\n",
       "      <th>2</th>\n",
       "      <td>Austria</td>\n",
       "      <td>AUT</td>\n",
       "      <td>1962</td>\n",
       "      <td>1097</td>\n",
       "    </tr>\n",
       "    <tr>\n",
       "      <th>3</th>\n",
       "      <td>Austria</td>\n",
       "      <td>AUT</td>\n",
       "      <td>1963</td>\n",
       "      <td>1177</td>\n",
       "    </tr>\n",
       "    <tr>\n",
       "      <th>4</th>\n",
       "      <td>Austria</td>\n",
       "      <td>AUT</td>\n",
       "      <td>1964</td>\n",
       "      <td>1280</td>\n",
       "    </tr>\n",
       "  </tbody>\n",
       "</table>\n",
       "</div>"
      ],
      "text/plain": [
       "  country_name country_code  year   gdp\n",
       "0      Austria          AUT  1960   943\n",
       "1      Austria          AUT  1961  1040\n",
       "2      Austria          AUT  1962  1097\n",
       "3      Austria          AUT  1963  1177\n",
       "4      Austria          AUT  1964  1280"
      ]
     },
     "execution_count": 57,
     "metadata": {},
     "output_type": "execute_result"
    }
   ],
   "source": [
    "#  H1: make a copy of GDP dataset\n",
    "df_gdp_final = df_stacked_eu.copy()\n",
    "df_gdp_final.head()"
   ]
  },
  {
   "cell_type": "code",
   "execution_count": null,
   "metadata": {},
   "outputs": [],
   "source": [
    "# H1 : convert df_gdp_final['year'] to int\n",
    "df_gdp_final['year'] = df_gdp_final['year'].astype(int)"
   ]
  },
  {
   "cell_type": "markdown",
   "metadata": {},
   "source": [
    "# H1: cleaned databases : "
   ]
  },
  {
   "cell_type": "code",
   "execution_count": null,
   "metadata": {},
   "outputs": [],
   "source": [
    "df_main  # global electricity production\n",
    "df_gdp_final #gdp per capita"
   ]
  },
  {
   "cell_type": "markdown",
   "metadata": {},
   "source": [
    "# H1: Correlation research \n",
    "How does GDP rate influence renewable energy adoption in EU countries from 2010 to 2023\n"
   ]
  },
  {
   "cell_type": "markdown",
   "metadata": {},
   "source": [
    "# H1: Correlation idea: \n",
    "1. in df_main find the % of renevavable energy\n",
    "2. make a pivot df with cols : country, year, % of renevable energy\n",
    "3. merge df energy production  with gdp_df (cols: country, year, gdp) by cols country and year\n",
    "4. perform a scatterplot visualisation by 'GDP' and '% of renuvable'\n"
   ]
  },
  {
   "cell_type": "markdown",
   "metadata": {},
   "source": [
    "## H1.1. In df_main find the % of renevavable energy"
   ]
  },
  {
   "cell_type": "code",
   "execution_count": null,
   "metadata": {},
   "outputs": [],
   "source": [
    "# H1 : convert df_gdp_final['year'] to int\n",
    "df_energy_prod = df_main.drop(columns=['date', 'parameter', 'unit', '%_of_renewable'])"
   ]
  },
  {
   "cell_type": "code",
   "execution_count": null,
   "metadata": {},
   "outputs": [],
   "source": [
    "# Filter the DataFrame to keep only the specified products: 'Total Combustible Fuels', 'Total Renevables (Hydro, Geo, Solar, Wind, Other)': \n",
    "filtered_df_energy_prod = df_energy_prod[df_energy_prod['product'].isin(['Total Combustible Fuels', 'Total Renewables (Hydro, Geo, Solar, Wind, Other)'])]"
   ]
  },
  {
   "cell_type": "markdown",
   "metadata": {},
   "source": [
    "## H1.2. make a pivot df_main (energy prod) with cols : country, year, % of renevable energy"
   ]
  },
  {
   "cell_type": "code",
   "execution_count": null,
   "metadata": {},
   "outputs": [],
   "source": [
    "#make a pivot table\n",
    "pivot_df_energy = filtered_df_energy_prod.pivot_table(index=['year', 'country_name'], columns='product', values='value', aggfunc='sum').reset_index()\n",
    "\n",
    "# Calculate the share of renewables\n",
    "pivot_df_energy['%_of_renewable'] = (pivot_df_energy['Total Renewables (Hydro, Geo, Solar, Wind, Other)'] / \n",
    "                             (pivot_df_energy['Total Combustible Fuels'] + pivot_df_energy['Total Renewables (Hydro, Geo, Solar, Wind, Other)'])) * 100"
   ]
  },
  {
   "cell_type": "code",
   "execution_count": null,
   "metadata": {},
   "outputs": [],
   "source": [
    "#ensure that in the both dataframes the date range is between 2010 and 2023\n",
    "df_gdp_final_filtered = df_gdp_final[df_gdp_final['year'] >= 2010]"
   ]
  },
  {
   "cell_type": "code",
   "execution_count": null,
   "metadata": {},
   "outputs": [
    {
     "data": {
      "text/plain": [
       "array([2010, 2011, 2012, 2013, 2014, 2015, 2016, 2017, 2018, 2019, 2020,\n",
       "       2021, 2022, 2023])"
      ]
     },
     "execution_count": 118,
     "metadata": {},
     "output_type": "execute_result"
    }
   ],
   "source": [
    "df_gdp_final_filtered['year'].unique()"
   ]
  },
  {
   "cell_type": "markdown",
   "metadata": {},
   "source": [
    "## H1.3. merge df energy production  with gdp_df (cols: country, year, gdp) by cols country and year\n"
   ]
  },
  {
   "cell_type": "code",
   "execution_count": null,
   "metadata": {},
   "outputs": [
    {
     "data": {
      "text/html": [
       "<div>\n",
       "<style scoped>\n",
       "    .dataframe tbody tr th:only-of-type {\n",
       "        vertical-align: middle;\n",
       "    }\n",
       "\n",
       "    .dataframe tbody tr th {\n",
       "        vertical-align: top;\n",
       "    }\n",
       "\n",
       "    .dataframe thead th {\n",
       "        text-align: right;\n",
       "    }\n",
       "</style>\n",
       "<table border=\"1\" class=\"dataframe\">\n",
       "  <thead>\n",
       "    <tr style=\"text-align: right;\">\n",
       "      <th></th>\n",
       "      <th>year</th>\n",
       "      <th>country_name</th>\n",
       "      <th>Total Combustible Fuels</th>\n",
       "      <th>Total Renewables (Hydro, Geo, Solar, Wind, Other)</th>\n",
       "      <th>%_of_renewable</th>\n",
       "      <th>country_code</th>\n",
       "      <th>gdp</th>\n",
       "    </tr>\n",
       "  </thead>\n",
       "  <tbody>\n",
       "    <tr>\n",
       "      <th>0</th>\n",
       "      <td>2010</td>\n",
       "      <td>Austria</td>\n",
       "      <td>26038</td>\n",
       "      <td>45804</td>\n",
       "      <td>63.756577</td>\n",
       "      <td>AUT</td>\n",
       "      <td>46904</td>\n",
       "    </tr>\n",
       "    <tr>\n",
       "      <th>1</th>\n",
       "      <td>2010</td>\n",
       "      <td>Belgium</td>\n",
       "      <td>42054</td>\n",
       "      <td>7674</td>\n",
       "      <td>15.431950</td>\n",
       "      <td>BEL</td>\n",
       "      <td>44185</td>\n",
       "    </tr>\n",
       "    <tr>\n",
       "      <th>2</th>\n",
       "      <td>2010</td>\n",
       "      <td>Czech Republic</td>\n",
       "      <td>47559</td>\n",
       "      <td>6229</td>\n",
       "      <td>11.580650</td>\n",
       "      <td>CZE</td>\n",
       "      <td>19960</td>\n",
       "    </tr>\n",
       "    <tr>\n",
       "      <th>3</th>\n",
       "      <td>2010</td>\n",
       "      <td>Denmark</td>\n",
       "      <td>29030</td>\n",
       "      <td>12128</td>\n",
       "      <td>29.466932</td>\n",
       "      <td>DNK</td>\n",
       "      <td>58041</td>\n",
       "    </tr>\n",
       "    <tr>\n",
       "      <th>4</th>\n",
       "      <td>2010</td>\n",
       "      <td>Estonia</td>\n",
       "      <td>11422</td>\n",
       "      <td>965</td>\n",
       "      <td>7.790425</td>\n",
       "      <td>EST</td>\n",
       "      <td>14663</td>\n",
       "    </tr>\n",
       "    <tr>\n",
       "      <th>...</th>\n",
       "      <td>...</td>\n",
       "      <td>...</td>\n",
       "      <td>...</td>\n",
       "      <td>...</td>\n",
       "      <td>...</td>\n",
       "      <td>...</td>\n",
       "      <td>...</td>\n",
       "    </tr>\n",
       "    <tr>\n",
       "      <th>339</th>\n",
       "      <td>2023</td>\n",
       "      <td>Portugal</td>\n",
       "      <td>15468</td>\n",
       "      <td>36667</td>\n",
       "      <td>70.330872</td>\n",
       "      <td>PRT</td>\n",
       "      <td>27275</td>\n",
       "    </tr>\n",
       "    <tr>\n",
       "      <th>340</th>\n",
       "      <td>2023</td>\n",
       "      <td>Slovak Republic</td>\n",
       "      <td>6279</td>\n",
       "      <td>7471</td>\n",
       "      <td>54.334545</td>\n",
       "      <td>SVK</td>\n",
       "      <td>24470</td>\n",
       "    </tr>\n",
       "    <tr>\n",
       "      <th>341</th>\n",
       "      <td>2023</td>\n",
       "      <td>Slovenia</td>\n",
       "      <td>3552</td>\n",
       "      <td>6379</td>\n",
       "      <td>64.233209</td>\n",
       "      <td>SVN</td>\n",
       "      <td>32164</td>\n",
       "    </tr>\n",
       "    <tr>\n",
       "      <th>342</th>\n",
       "      <td>2023</td>\n",
       "      <td>Spain</td>\n",
       "      <td>81697</td>\n",
       "      <td>141350</td>\n",
       "      <td>63.372294</td>\n",
       "      <td>ESP</td>\n",
       "      <td>32677</td>\n",
       "    </tr>\n",
       "    <tr>\n",
       "      <th>343</th>\n",
       "      <td>2023</td>\n",
       "      <td>Sweden</td>\n",
       "      <td>13573</td>\n",
       "      <td>112169</td>\n",
       "      <td>89.205675</td>\n",
       "      <td>SWE</td>\n",
       "      <td>56305</td>\n",
       "    </tr>\n",
       "  </tbody>\n",
       "</table>\n",
       "<p>344 rows × 7 columns</p>\n",
       "</div>"
      ],
      "text/plain": [
       "     year     country_name  Total Combustible Fuels  \\\n",
       "0    2010          Austria                    26038   \n",
       "1    2010          Belgium                    42054   \n",
       "2    2010   Czech Republic                    47559   \n",
       "3    2010          Denmark                    29030   \n",
       "4    2010          Estonia                    11422   \n",
       "..    ...              ...                      ...   \n",
       "339  2023         Portugal                    15468   \n",
       "340  2023  Slovak Republic                     6279   \n",
       "341  2023         Slovenia                     3552   \n",
       "342  2023            Spain                    81697   \n",
       "343  2023           Sweden                    13573   \n",
       "\n",
       "     Total Renewables (Hydro, Geo, Solar, Wind, Other)  %_of_renewable  \\\n",
       "0                                                45804       63.756577   \n",
       "1                                                 7674       15.431950   \n",
       "2                                                 6229       11.580650   \n",
       "3                                                12128       29.466932   \n",
       "4                                                  965        7.790425   \n",
       "..                                                 ...             ...   \n",
       "339                                              36667       70.330872   \n",
       "340                                               7471       54.334545   \n",
       "341                                               6379       64.233209   \n",
       "342                                             141350       63.372294   \n",
       "343                                             112169       89.205675   \n",
       "\n",
       "    country_code    gdp  \n",
       "0            AUT  46904  \n",
       "1            BEL  44185  \n",
       "2            CZE  19960  \n",
       "3            DNK  58041  \n",
       "4            EST  14663  \n",
       "..           ...    ...  \n",
       "339          PRT  27275  \n",
       "340          SVK  24470  \n",
       "341          SVN  32164  \n",
       "342          ESP  32677  \n",
       "343          SWE  56305  \n",
       "\n",
       "[344 rows x 7 columns]"
      ]
     },
     "execution_count": 119,
     "metadata": {},
     "output_type": "execute_result"
    }
   ],
   "source": [
    "#merge both dataframes\n",
    "df_merged = pd.merge(pivot_df_energy, df_gdp_final_filtered, on=['year', 'country_name'], how='left')\n",
    "df_merged "
   ]
  },
  {
   "cell_type": "code",
   "execution_count": null,
   "metadata": {},
   "outputs": [],
   "source": [
    "#convert df_main['%_of_renewable'] to int\n",
    "df_merged['%_of_renewable'] = df_merged['%_of_renewable'].astype(int)"
   ]
  },
  {
   "cell_type": "code",
   "execution_count": null,
   "metadata": {},
   "outputs": [
    {
     "data": {
      "text/html": [
       "<div>\n",
       "<style scoped>\n",
       "    .dataframe tbody tr th:only-of-type {\n",
       "        vertical-align: middle;\n",
       "    }\n",
       "\n",
       "    .dataframe tbody tr th {\n",
       "        vertical-align: top;\n",
       "    }\n",
       "\n",
       "    .dataframe thead th {\n",
       "        text-align: right;\n",
       "    }\n",
       "</style>\n",
       "<table border=\"1\" class=\"dataframe\">\n",
       "  <thead>\n",
       "    <tr style=\"text-align: right;\">\n",
       "      <th></th>\n",
       "      <th>year</th>\n",
       "      <th>country_name</th>\n",
       "      <th>%_of_renewable</th>\n",
       "      <th>gdp</th>\n",
       "    </tr>\n",
       "  </thead>\n",
       "  <tbody>\n",
       "    <tr>\n",
       "      <th>0</th>\n",
       "      <td>2010</td>\n",
       "      <td>Austria</td>\n",
       "      <td>63</td>\n",
       "      <td>46904</td>\n",
       "    </tr>\n",
       "    <tr>\n",
       "      <th>1</th>\n",
       "      <td>2010</td>\n",
       "      <td>Belgium</td>\n",
       "      <td>15</td>\n",
       "      <td>44185</td>\n",
       "    </tr>\n",
       "    <tr>\n",
       "      <th>2</th>\n",
       "      <td>2010</td>\n",
       "      <td>Czech Republic</td>\n",
       "      <td>11</td>\n",
       "      <td>19960</td>\n",
       "    </tr>\n",
       "    <tr>\n",
       "      <th>3</th>\n",
       "      <td>2010</td>\n",
       "      <td>Denmark</td>\n",
       "      <td>29</td>\n",
       "      <td>58041</td>\n",
       "    </tr>\n",
       "    <tr>\n",
       "      <th>4</th>\n",
       "      <td>2010</td>\n",
       "      <td>Estonia</td>\n",
       "      <td>7</td>\n",
       "      <td>14663</td>\n",
       "    </tr>\n",
       "    <tr>\n",
       "      <th>...</th>\n",
       "      <td>...</td>\n",
       "      <td>...</td>\n",
       "      <td>...</td>\n",
       "      <td>...</td>\n",
       "    </tr>\n",
       "    <tr>\n",
       "      <th>339</th>\n",
       "      <td>2023</td>\n",
       "      <td>Portugal</td>\n",
       "      <td>70</td>\n",
       "      <td>27275</td>\n",
       "    </tr>\n",
       "    <tr>\n",
       "      <th>340</th>\n",
       "      <td>2023</td>\n",
       "      <td>Slovak Republic</td>\n",
       "      <td>54</td>\n",
       "      <td>24470</td>\n",
       "    </tr>\n",
       "    <tr>\n",
       "      <th>341</th>\n",
       "      <td>2023</td>\n",
       "      <td>Slovenia</td>\n",
       "      <td>64</td>\n",
       "      <td>32164</td>\n",
       "    </tr>\n",
       "    <tr>\n",
       "      <th>342</th>\n",
       "      <td>2023</td>\n",
       "      <td>Spain</td>\n",
       "      <td>63</td>\n",
       "      <td>32677</td>\n",
       "    </tr>\n",
       "    <tr>\n",
       "      <th>343</th>\n",
       "      <td>2023</td>\n",
       "      <td>Sweden</td>\n",
       "      <td>89</td>\n",
       "      <td>56305</td>\n",
       "    </tr>\n",
       "  </tbody>\n",
       "</table>\n",
       "<p>344 rows × 4 columns</p>\n",
       "</div>"
      ],
      "text/plain": [
       "     year     country_name  %_of_renewable    gdp\n",
       "0    2010          Austria              63  46904\n",
       "1    2010          Belgium              15  44185\n",
       "2    2010   Czech Republic              11  19960\n",
       "3    2010          Denmark              29  58041\n",
       "4    2010          Estonia               7  14663\n",
       "..    ...              ...             ...    ...\n",
       "339  2023         Portugal              70  27275\n",
       "340  2023  Slovak Republic              54  24470\n",
       "341  2023         Slovenia              64  32164\n",
       "342  2023            Spain              63  32677\n",
       "343  2023           Sweden              89  56305\n",
       "\n",
       "[344 rows x 4 columns]"
      ]
     },
     "execution_count": 155,
     "metadata": {},
     "output_type": "execute_result"
    }
   ],
   "source": [
    "#remove unrelevant cols \n",
    "df_viz = df_merged.drop(columns=['Total Combustible Fuels', 'Total Renewables (Hydro, Geo, Solar, Wind, Other)', 'country_code'])\n",
    "df_viz"
   ]
  },
  {
   "cell_type": "markdown",
   "metadata": {},
   "source": [
    "## H1.4. perform a scatterplot visualisation"
   ]
  },
  {
   "cell_type": "code",
   "execution_count": null,
   "metadata": {},
   "outputs": [
    {
     "data": {
      "application/vnd.plotly.v1+json": {
       "config": {
        "plotlyServerURL": "https://plot.ly"
       },
       "data": [
        {
         "hovertemplate": "<b>%{hovertext}</b><br><br>gdp=%{x}<br>%_of_renewable=%{y}<br>year=%{marker.color}<extra></extra>",
         "hovertext": [
          "Austria",
          "Belgium",
          "Czech Republic",
          "Denmark",
          "Estonia",
          "Finland",
          "France",
          "Germany",
          "Greece",
          "Hungary",
          "Ireland",
          "Italy",
          "Latvia",
          "Lithuania",
          "Luxembourg",
          "Netherlands",
          "Poland",
          "Portugal",
          "Slovak Republic",
          "Slovenia",
          "Spain",
          "Sweden",
          "Austria",
          "Belgium",
          "Czech Republic",
          "Denmark",
          "Estonia",
          "Finland",
          "France",
          "Germany",
          "Greece",
          "Hungary",
          "Ireland",
          "Italy",
          "Latvia",
          "Lithuania",
          "Luxembourg",
          "Netherlands",
          "Poland",
          "Portugal",
          "Slovak Republic",
          "Slovenia",
          "Spain",
          "Sweden",
          "Austria",
          "Belgium",
          "Czech Republic",
          "Denmark",
          "Estonia",
          "Finland",
          "France",
          "Germany",
          "Greece",
          "Hungary",
          "Ireland",
          "Italy",
          "Latvia",
          "Lithuania",
          "Luxembourg",
          "Netherlands",
          "Poland",
          "Portugal",
          "Slovak Republic",
          "Slovenia",
          "Spain",
          "Sweden",
          "Austria",
          "Belgium",
          "Czech Republic",
          "Denmark",
          "Estonia",
          "Finland",
          "France",
          "Germany",
          "Greece",
          "Hungary",
          "Ireland",
          "Italy",
          "Latvia",
          "Lithuania",
          "Luxembourg",
          "Netherlands",
          "Poland",
          "Portugal",
          "Slovak Republic",
          "Slovenia",
          "Spain",
          "Sweden",
          "Austria",
          "Belgium",
          "Czech Republic",
          "Denmark",
          "Estonia",
          "Finland",
          "France",
          "Germany",
          "Greece",
          "Hungary",
          "Ireland",
          "Italy",
          "Latvia",
          "Lithuania",
          "Luxembourg",
          "Netherlands",
          "Poland",
          "Portugal",
          "Slovak Republic",
          "Slovenia",
          "Spain",
          "Sweden",
          "Austria",
          "Belgium",
          "Bulgaria",
          "Croatia",
          "Cyprus",
          "Czech Republic",
          "Denmark",
          "Estonia",
          "Finland",
          "France",
          "Germany",
          "Greece",
          "Hungary",
          "Ireland",
          "Italy",
          "Latvia",
          "Lithuania",
          "Luxembourg",
          "Malta",
          "Netherlands",
          "Poland",
          "Portugal",
          "Slovak Republic",
          "Slovenia",
          "Spain",
          "Sweden",
          "Austria",
          "Belgium",
          "Bulgaria",
          "Croatia",
          "Cyprus",
          "Czech Republic",
          "Denmark",
          "Estonia",
          "Finland",
          "France",
          "Germany",
          "Greece",
          "Hungary",
          "Ireland",
          "Italy",
          "Latvia",
          "Lithuania",
          "Luxembourg",
          "Malta",
          "Netherlands",
          "Poland",
          "Portugal",
          "Slovak Republic",
          "Slovenia",
          "Spain",
          "Sweden",
          "Austria",
          "Belgium",
          "Bulgaria",
          "Croatia",
          "Cyprus",
          "Czech Republic",
          "Denmark",
          "Estonia",
          "Finland",
          "France",
          "Germany",
          "Greece",
          "Hungary",
          "Ireland",
          "Italy",
          "Latvia",
          "Lithuania",
          "Luxembourg",
          "Malta",
          "Netherlands",
          "Poland",
          "Portugal",
          "Slovak Republic",
          "Slovenia",
          "Spain",
          "Sweden",
          "Austria",
          "Belgium",
          "Bulgaria",
          "Croatia",
          "Cyprus",
          "Czech Republic",
          "Denmark",
          "Estonia",
          "Finland",
          "France",
          "Germany",
          "Greece",
          "Hungary",
          "Ireland",
          "Italy",
          "Latvia",
          "Lithuania",
          "Luxembourg",
          "Malta",
          "Netherlands",
          "Poland",
          "Portugal",
          "Slovak Republic",
          "Slovenia",
          "Spain",
          "Sweden",
          "Austria",
          "Belgium",
          "Bulgaria",
          "Croatia",
          "Cyprus",
          "Czech Republic",
          "Denmark",
          "Estonia",
          "Finland",
          "France",
          "Germany",
          "Greece",
          "Hungary",
          "Ireland",
          "Italy",
          "Latvia",
          "Lithuania",
          "Luxembourg",
          "Malta",
          "Netherlands",
          "Poland",
          "Portugal",
          "Slovak Republic",
          "Slovenia",
          "Spain",
          "Sweden",
          "Austria",
          "Belgium",
          "Bulgaria",
          "Croatia",
          "Cyprus",
          "Czech Republic",
          "Denmark",
          "Estonia",
          "Finland",
          "France",
          "Germany",
          "Greece",
          "Hungary",
          "Ireland",
          "Italy",
          "Latvia",
          "Lithuania",
          "Luxembourg",
          "Malta",
          "Netherlands",
          "Poland",
          "Portugal",
          "Slovak Republic",
          "Slovenia",
          "Spain",
          "Sweden",
          "Austria",
          "Belgium",
          "Bulgaria",
          "Croatia",
          "Cyprus",
          "Czech Republic",
          "Denmark",
          "Estonia",
          "Finland",
          "France",
          "Germany",
          "Greece",
          "Hungary",
          "Ireland",
          "Italy",
          "Latvia",
          "Lithuania",
          "Luxembourg",
          "Malta",
          "Netherlands",
          "Poland",
          "Portugal",
          "Slovak Republic",
          "Slovenia",
          "Spain",
          "Sweden",
          "Austria",
          "Belgium",
          "Bulgaria",
          "Croatia",
          "Cyprus",
          "Czech Republic",
          "Denmark",
          "Estonia",
          "Finland",
          "France",
          "Germany",
          "Greece",
          "Hungary",
          "Ireland",
          "Italy",
          "Latvia",
          "Lithuania",
          "Luxembourg",
          "Malta",
          "Netherlands",
          "Poland",
          "Portugal",
          "Slovak Republic",
          "Slovenia",
          "Spain",
          "Sweden",
          "Austria",
          "Belgium",
          "Bulgaria",
          "Croatia",
          "Cyprus",
          "Czech Republic",
          "Denmark",
          "Estonia",
          "Finland",
          "France",
          "Germany",
          "Greece",
          "Hungary",
          "Ireland",
          "Italy",
          "Latvia",
          "Lithuania",
          "Luxembourg",
          "Malta",
          "Netherlands",
          "Poland",
          "Portugal",
          "Slovak Republic",
          "Slovenia",
          "Spain",
          "Sweden"
         ],
         "legendgroup": "",
         "marker": {
          "color": [
           2010,
           2010,
           2010,
           2010,
           2010,
           2010,
           2010,
           2010,
           2010,
           2010,
           2010,
           2010,
           2010,
           2010,
           2010,
           2010,
           2010,
           2010,
           2010,
           2010,
           2010,
           2010,
           2011,
           2011,
           2011,
           2011,
           2011,
           2011,
           2011,
           2011,
           2011,
           2011,
           2011,
           2011,
           2011,
           2011,
           2011,
           2011,
           2011,
           2011,
           2011,
           2011,
           2011,
           2011,
           2012,
           2012,
           2012,
           2012,
           2012,
           2012,
           2012,
           2012,
           2012,
           2012,
           2012,
           2012,
           2012,
           2012,
           2012,
           2012,
           2012,
           2012,
           2012,
           2012,
           2012,
           2012,
           2013,
           2013,
           2013,
           2013,
           2013,
           2013,
           2013,
           2013,
           2013,
           2013,
           2013,
           2013,
           2013,
           2013,
           2013,
           2013,
           2013,
           2013,
           2013,
           2013,
           2013,
           2013,
           2014,
           2014,
           2014,
           2014,
           2014,
           2014,
           2014,
           2014,
           2014,
           2014,
           2014,
           2014,
           2014,
           2014,
           2014,
           2014,
           2014,
           2014,
           2014,
           2014,
           2014,
           2014,
           2015,
           2015,
           2015,
           2015,
           2015,
           2015,
           2015,
           2015,
           2015,
           2015,
           2015,
           2015,
           2015,
           2015,
           2015,
           2015,
           2015,
           2015,
           2015,
           2015,
           2015,
           2015,
           2015,
           2015,
           2015,
           2015,
           2016,
           2016,
           2016,
           2016,
           2016,
           2016,
           2016,
           2016,
           2016,
           2016,
           2016,
           2016,
           2016,
           2016,
           2016,
           2016,
           2016,
           2016,
           2016,
           2016,
           2016,
           2016,
           2016,
           2016,
           2016,
           2016,
           2017,
           2017,
           2017,
           2017,
           2017,
           2017,
           2017,
           2017,
           2017,
           2017,
           2017,
           2017,
           2017,
           2017,
           2017,
           2017,
           2017,
           2017,
           2017,
           2017,
           2017,
           2017,
           2017,
           2017,
           2017,
           2017,
           2018,
           2018,
           2018,
           2018,
           2018,
           2018,
           2018,
           2018,
           2018,
           2018,
           2018,
           2018,
           2018,
           2018,
           2018,
           2018,
           2018,
           2018,
           2018,
           2018,
           2018,
           2018,
           2018,
           2018,
           2018,
           2018,
           2019,
           2019,
           2019,
           2019,
           2019,
           2019,
           2019,
           2019,
           2019,
           2019,
           2019,
           2019,
           2019,
           2019,
           2019,
           2019,
           2019,
           2019,
           2019,
           2019,
           2019,
           2019,
           2019,
           2019,
           2019,
           2019,
           2020,
           2020,
           2020,
           2020,
           2020,
           2020,
           2020,
           2020,
           2020,
           2020,
           2020,
           2020,
           2020,
           2020,
           2020,
           2020,
           2020,
           2020,
           2020,
           2020,
           2020,
           2020,
           2020,
           2020,
           2020,
           2020,
           2021,
           2021,
           2021,
           2021,
           2021,
           2021,
           2021,
           2021,
           2021,
           2021,
           2021,
           2021,
           2021,
           2021,
           2021,
           2021,
           2021,
           2021,
           2021,
           2021,
           2021,
           2021,
           2021,
           2021,
           2021,
           2021,
           2022,
           2022,
           2022,
           2022,
           2022,
           2022,
           2022,
           2022,
           2022,
           2022,
           2022,
           2022,
           2022,
           2022,
           2022,
           2022,
           2022,
           2022,
           2022,
           2022,
           2022,
           2022,
           2022,
           2022,
           2022,
           2022,
           2023,
           2023,
           2023,
           2023,
           2023,
           2023,
           2023,
           2023,
           2023,
           2023,
           2023,
           2023,
           2023,
           2023,
           2023,
           2023,
           2023,
           2023,
           2023,
           2023,
           2023,
           2023,
           2023,
           2023,
           2023,
           2023
          ],
          "coloraxis": "coloraxis",
          "symbol": "circle"
         },
         "mode": "markers",
         "name": "",
         "orientation": "v",
         "showlegend": false,
         "type": "scatter",
         "x": [
          46904,
          44185,
          19960,
          58041,
          14663,
          46505,
          40676,
          41572,
          26717,
          13218,
          48664,
          36036,
          11421,
          11988,
          110886,
          51000,
          12504,
          22521,
          16909,
          23532,
          30532,
          52869,
          51442,
          47411,
          21871,
          61754,
          17488,
          51149,
          43846,
          46706,
          25484,
          14234,
          52220,
          38650,
          13339,
          14377,
          119025,
          54230,
          13776,
          23217,
          18510,
          25128,
          31678,
          60756,
          48565,
          44671,
          19871,
          58508,
          17403,
          47708,
          40871,
          43856,
          21913,
          12985,
          48944,
          35052,
          13847,
          14368,
          112585,
          50070,
          13011,
          20564,
          17498,
          22642,
          28323,
          58038,
          50731,
          46758,
          20133,
          61191,
          19056,
          49892,
          42603,
          46299,
          21788,
          13715,
          51497,
          35560,
          15007,
          15730,
          120000,
          52199,
          13558,
          21653,
          18276,
          23503,
          29077,
          61127,
          51786,
          47764,
          19891,
          62549,
          20261,
          50327,
          43069,
          48024,
          21617,
          14294,
          55753,
          35566,
          15742,
          16551,
          123679,
          52901,
          14182,
          22104,
          18720,
          24247,
          29514,
          60020,
          44196,
          41008,
          7079,
          12135,
          23487,
          17830,
          53255,
          17402,
          42802,
          36653,
          41103,
          18084,
          12717,
          62179,
          30242,
          13786,
          14264,
          105462,
          24922,
          45193,
          12560,
          19250,
          16391,
          20890,
          25754,
          51545,
          45308,
          42013,
          7571,
          12634,
          24715,
          18575,
          54664,
          18295,
          43814,
          37063,
          42136,
          17924,
          13105,
          62784,
          30961,
          14332,
          15008,
          106899,
          25624,
          46039,
          12379,
          19992,
          16563,
          21678,
          26537,
          51965,
          47429,
          44198,
          8382,
          13655,
          26697,
          20636,
          57610,
          20438,
          46412,
          38781,
          44653,
          18582,
          14621,
          70151,
          32407,
          15695,
          16885,
          110193,
          28813,
          48675,
          13816,
          21490,
          17585,
          23514,
          28185,
          53792,
          51467,
          47545,
          9448,
          15133,
          29420,
          23424,
          61592,
          23166,
          49988,
          41558,
          47939,
          19757,
          16425,
          79447,
          34622,
          17865,
          19186,
          116787,
          31786,
          53045,
          15505,
          23563,
          19486,
          26124,
          30380,
          54589,
          50068,
          46642,
          9874,
          15219,
          29420,
          23665,
          59593,
          23582,
          48630,
          40495,
          46805,
          19144,
          16786,
          80848,
          33674,
          17883,
          19616,
          112726,
          31751,
          52476,
          15700,
          23331,
          19382,
          26042,
          29582,
          51939,
          48789,
          45588,
          10148,
          14384,
          28281,
          22993,
          60837,
          23565,
          49170,
          39180,
          46749,
          17617,
          16132,
          85973,
          31923,
          18096,
          20382,
          116905,
          29593,
          52163,
          15817,
          22242,
          19553,
          25558,
          26984,
          52838,
          53518,
          51864,
          12219,
          17943,
          32746,
          26823,
          69269,
          27698,
          53505,
          43671,
          51427,
          20311,
          18755,
          102002,
          36441,
          20930,
          23850,
          133712,
          34952,
          58728,
          18050,
          24661,
          21766,
          29331,
          30489,
          61418,
          52085,
          49942,
          13974,
          18673,
          32048,
          27227,
          67790,
          28114,
          50735,
          40886,
          48718,
          20867,
          18356,
          103983,
          35069,
          21508,
          25079,
          125006,
          34563,
          57025,
          18732,
          24515,
          21279,
          28439,
          29675,
          56300,
          56506,
          53475,
          15798,
          21460,
          34701,
          30427,
          67967,
          29824,
          53756,
          44461,
          52746,
          22990,
          22147,
          103685,
          38373,
          23184,
          27103,
          128259,
          37882,
          62537,
          22113,
          27275,
          24470,
          32164,
          32677,
          56305
         ],
         "xaxis": "x",
         "y": [
          63,
          15,
          11,
          29,
          7,
          35,
          58,
          21,
          19,
          12,
          13,
          26,
          58,
          31,
          34,
          9,
          7,
          51,
          46,
          47,
          42,
          80,
          63,
          20,
          13,
          36,
          8,
          40,
          53,
          24,
          15,
          12,
          20,
          27,
          53,
          38,
          34,
          10,
          8,
          45,
          37,
          42,
          37,
          83,
          71,
          24,
          15,
          43,
          11,
          49,
          60,
          26,
          17,
          13,
          20,
          30,
          67,
          35,
          34,
          11,
          10,
          41,
          42,
          45,
          38,
          86,
          74,
          28,
          17,
          42,
          9,
          43,
          65,
          27,
          27,
          16,
          23,
          37,
          54,
          44,
          47,
          11,
          10,
          56,
          45,
          51,
          50,
          84,
          77,
          31,
          17,
          50,
          11,
          47,
          71,
          30,
          26,
          20,
          25,
          41,
          50,
          50,
          47,
          11,
          12,
          58,
          49,
          63,
          51,
          86,
          72,
          32,
          29,
          67,
          9,
          18,
          58,
          14,
          54,
          66,
          33,
          30,
          19,
          28,
          37,
          46,
          47,
          64,
          7,
          12,
          13,
          46,
          49,
          50,
          44,
          88,
          74,
          32,
          28,
          66,
          8,
          17,
          53,
          12,
          54,
          62,
          32,
          29,
          18,
          25,
          36,
          50,
          62,
          80,
          16,
          13,
          13,
          53,
          52,
          50,
          49,
          85,
          72,
          34,
          24,
          59,
          8,
          17,
          60,
          13,
          56,
          58,
          36,
          27,
          18,
          29,
          34,
          67,
          72,
          81,
          10,
          15,
          14,
          39,
          50,
          47,
          41,
          86,
          72,
          35,
          32,
          70,
          9,
          17,
          58,
          15,
          54,
          68,
          38,
          30,
          20,
          33,
          38,
          47,
          73,
          80,
          10,
          16,
          12,
          49,
          46,
          52,
          47,
          85,
          73,
          37,
          29,
          63,
          10,
          19,
          66,
          24,
          55,
          66,
          43,
          34,
          23,
          38,
          38,
          45,
          73,
          75,
          9,
          18,
          15,
          51,
          48,
          51,
          47,
          86,
          76,
          41,
          33,
          61,
          12,
          21,
          68,
          39,
          63,
          70,
          47,
          38,
          27,
          42,
          40,
          57,
          58,
          76,
          11,
          26,
          18,
          55,
          48,
          55,
          55,
          89,
          75,
          44,
          33,
          66,
          15,
          20,
          63,
          33,
          62,
          69,
          42,
          41,
          31,
          37,
          38,
          57,
          61,
          76,
          11,
          32,
          17,
          60,
          44,
          57,
          57,
          88,
          73,
          45,
          28,
          60,
          17,
          20,
          69,
          31,
          65,
          64,
          44,
          46,
          35,
          40,
          34,
          66,
          64,
          79,
          11,
          38,
          21,
          55,
          49,
          53,
          52,
          88,
          79,
          54,
          41,
          67,
          20,
          23,
          73,
          37,
          72,
          74,
          51,
          52,
          44,
          45,
          41,
          71,
          72,
          86,
          11,
          46,
          27,
          70,
          54,
          64,
          63,
          89
         ],
         "yaxis": "y"
        },
        {
         "hovertemplate": "<b>OLS trendline</b><br>%_of_renewable = 0.000301416 * gdp + 31.1307<br>R<sup>2</sup>=0.109989<br><br>gdp=%{x}<br>%_of_renewable=%{y} <b>(trend)</b><extra></extra>",
         "legendgroup": "",
         "marker": {
          "symbol": "circle"
         },
         "mode": "lines",
         "name": "",
         "showlegend": false,
         "type": "scatter",
         "x": [
          7079,
          7571,
          8382,
          9448,
          9874,
          10148,
          11421,
          11988,
          12135,
          12219,
          12379,
          12504,
          12560,
          12634,
          12717,
          12985,
          13011,
          13105,
          13218,
          13339,
          13558,
          13655,
          13715,
          13776,
          13786,
          13816,
          13847,
          13974,
          14182,
          14234,
          14264,
          14294,
          14332,
          14368,
          14377,
          14384,
          14621,
          14663,
          15007,
          15008,
          15133,
          15219,
          15505,
          15695,
          15700,
          15730,
          15742,
          15798,
          15817,
          16132,
          16391,
          16425,
          16551,
          16563,
          16786,
          16885,
          16909,
          17402,
          17403,
          17488,
          17498,
          17585,
          17617,
          17830,
          17865,
          17883,
          17924,
          17943,
          18050,
          18084,
          18096,
          18276,
          18295,
          18356,
          18510,
          18575,
          18582,
          18673,
          18720,
          18732,
          18755,
          19056,
          19144,
          19186,
          19250,
          19382,
          19486,
          19553,
          19616,
          19757,
          19871,
          19891,
          19960,
          19992,
          20133,
          20261,
          20311,
          20382,
          20438,
          20564,
          20636,
          20867,
          20890,
          20930,
          21279,
          21460,
          21490,
          21508,
          21617,
          21653,
          21678,
          21766,
          21788,
          21871,
          21913,
          22104,
          22113,
          22147,
          22242,
          22521,
          22642,
          22990,
          22993,
          23166,
          23184,
          23217,
          23331,
          23424,
          23487,
          23503,
          23514,
          23532,
          23563,
          23565,
          23582,
          23665,
          23850,
          24247,
          24470,
          24515,
          24661,
          24715,
          24922,
          25079,
          25128,
          25484,
          25558,
          25624,
          25754,
          26042,
          26124,
          26537,
          26697,
          26717,
          26823,
          26984,
          27103,
          27227,
          27275,
          27698,
          28114,
          28185,
          28281,
          28323,
          28439,
          28813,
          29077,
          29331,
          29420,
          29420,
          29514,
          29582,
          29593,
          29675,
          29824,
          30242,
          30380,
          30427,
          30489,
          30532,
          30961,
          31678,
          31751,
          31786,
          31923,
          32048,
          32164,
          32407,
          32677,
          32746,
          33674,
          34563,
          34622,
          34701,
          34952,
          35052,
          35069,
          35560,
          35566,
          36036,
          36441,
          36653,
          37063,
          37882,
          38373,
          38650,
          38781,
          39180,
          40495,
          40676,
          40871,
          40886,
          41008,
          41103,
          41558,
          41572,
          42013,
          42136,
          42603,
          42802,
          43069,
          43671,
          43814,
          43846,
          43856,
          44185,
          44196,
          44198,
          44461,
          44653,
          44671,
          45193,
          45308,
          45588,
          46039,
          46299,
          46412,
          46505,
          46642,
          46706,
          46749,
          46758,
          46805,
          46904,
          47411,
          47429,
          47545,
          47708,
          47764,
          47939,
          48024,
          48565,
          48630,
          48664,
          48675,
          48718,
          48789,
          48944,
          49170,
          49892,
          49942,
          49988,
          50068,
          50070,
          50327,
          50731,
          50735,
          51000,
          51149,
          51427,
          51442,
          51467,
          51497,
          51545,
          51786,
          51864,
          51939,
          51965,
          52085,
          52163,
          52199,
          52220,
          52476,
          52746,
          52838,
          52869,
          52901,
          53045,
          53255,
          53475,
          53505,
          53518,
          53756,
          53792,
          54230,
          54589,
          54664,
          55753,
          56300,
          56305,
          56506,
          57025,
          57610,
          58038,
          58041,
          58508,
          58728,
          59593,
          60020,
          60756,
          60837,
          61127,
          61191,
          61418,
          61592,
          61754,
          62179,
          62537,
          62549,
          62784,
          67790,
          67967,
          69269,
          70151,
          79447,
          80848,
          85973,
          102002,
          103685,
          103983,
          105462,
          106899,
          110193,
          110886,
          112585,
          112726,
          116787,
          116905,
          119025,
          120000,
          123679,
          125006,
          128259,
          133712
         ],
         "xaxis": "x",
         "y": [
          33.26446554945327,
          33.41276242215915,
          33.657211128997496,
          33.97852101986023,
          34.10692440964215,
          34.18951250541737,
          34.57321559272343,
          34.744118696024714,
          34.78842690799171,
          34.81374588625857,
          34.861972511528776,
          34.89964956252113,
          34.91652888136569,
          34.938833695553164,
          34.96385125741208,
          35.04463085473967,
          35.05246768134608,
          35.08080082369233,
          35.11486087778941,
          35.151332263149996,
          35.217342456488595,
          35.24657984805865,
          35.264664832534976,
          35.28305123341924,
          35.28606539749863,
          35.2951078897368,
          35.3044517983829,
          35.34273168219112,
          35.40542629504239,
          35.421099948255204,
          35.43014244049337,
          35.43918493273153,
          35.450638756233204,
          35.461489746919,
          35.464202494590445,
          35.46631240944602,
          35.53774809812751,
          35.550407587260935,
          35.65409483159188,
          35.65439624799981,
          35.69207329899216,
          35.717995110074895,
          35.804200202745385,
          35.861469320253754,
          35.86297640229345,
          35.87201889453161,
          35.875635891426874,
          35.89251521027145,
          35.89824212202228,
          35.993188290522994,
          36.07125514017914,
          36.08150329804906,
          36.11948176544934,
          36.12309876234461,
          36.190314621314954,
          36.22015484570089,
          36.227388839491425,
          36.37598712860524,
          36.37628854501318,
          36.40190893968797,
          36.40492310376736,
          36.431146331258034,
          36.44079165631208,
          36.504993351203034,
          36.515542925480894,
          36.52096842082379,
          36.53332649354928,
          36.539053405300116,
          36.57130496094957,
          36.581553118819485,
          36.585170115714746,
          36.639425069143726,
          36.64515198089457,
          36.66353838177883,
          36.7099565086014,
          36.72954857511742,
          36.73165848997299,
          36.75908738309542,
          36.77325395426855,
          36.77687095116381,
          36.7838035285464,
          36.87452986733597,
          36.901054511234584,
          36.91371400036801,
          36.93300465047609,
          36.97279161632402,
          37.00413892274965,
          37.024333822081545,
          37.043323055781684,
          37.08582276930105,
          37.12018423980607,
          37.12621256796485,
          37.147010300112626,
          37.156655625166664,
          37.19915533868603,
          37.23773663890219,
          37.252807459299135,
          37.27420802426279,
          37.29108734310736,
          37.32906581050764,
          37.350767791879235,
          37.420394982113095,
          37.42732755949569,
          37.439384215813234,
          37.54457854218387,
          37.59913491202079,
          37.60817740425895,
          37.613602899601844,
          37.646457288067175,
          37.65730827875297,
          37.664843688951436,
          37.69136833285005,
          37.6979994938247,
          37.72301705568362,
          37.73567654481705,
          37.79324707873336,
          37.795959826404804,
          37.80620798427472,
          37.834842543028905,
          37.91893772084383,
          37.955409106204414,
          38.060302016167114,
          38.06120626539093,
          38.113351303964336,
          38.118776799307234,
          38.128723540769215,
          38.163085011274234,
          38.19111673721254,
          38.21010597091268,
          38.214928633439705,
          38.21824421392703,
          38.22366970926993,
          38.23301361791603,
          38.23361645073191,
          38.23874052966686,
          38.26375809152578,
          38.319520126994455,
          38.43918244094615,
          38.5063982999165,
          38.51996203827374,
          38.5639688338328,
          38.5802453198615,
          38.64263851630482,
          38.68996089235121,
          38.70473029634021,
          38.81203453756641,
          38.83433935175388,
          38.854232834677845,
          38.89341696770988,
          38.98022489319625,
          39.00494103864723,
          39.129426015125944,
          39.17765264039615,
          39.183680968554924,
          39.21563110779643,
          39.26415914947457,
          39.30002770201929,
          39.3374033366037,
          39.351871324184756,
          39.47937046474286,
          39.60475969044539,
          39.62616025540904,
          39.65509623057116,
          39.667755719704594,
          39.70272002302549,
          39.81544975959459,
          39.89502369129043,
          39.97158345890688,
          39.998409519213425,
          39.998409519213425,
          40.02674266155967,
          40.047238977299514,
          40.05055455778684,
          40.07527070323782,
          40.12018174802069,
          40.246173806539105,
          40.28776927083465,
          40.30193584200777,
          40.32062365929998,
          40.333584564841345,
          40.462892203847076,
          40.67900776833918,
          40.70101116611871,
          40.71156074039657,
          40.75285478828418,
          40.790531839276525,
          40.82549614259742,
          40.89874032972655,
          40.980122759870014,
          41.00092049201779,
          41.28063491858497,
          41.54859410524254,
          41.56637767331093,
          41.5901895695381,
          41.66584508793073,
          41.695986728724606,
          41.70111080765957,
          41.8491062639575,
          41.85091476240514,
          41.99258047413636,
          42.11465411935156,
          42.17855439783458,
          42.30213512508948,
          42.548995163191336,
          42.69699061948928,
          42.780482964488314,
          42.819968513928295,
          42.94023366069587,
          43.33659623713535,
          43.39115260697227,
          43.44992880652033,
          43.454450052639416,
          43.491222854407944,
          43.51985741316213,
          43.65700187877427,
          43.661221708485414,
          43.79414634438641,
          43.83122056256288,
          43.97198202507029,
          44.031963890250104,
          44.11244207116976,
          44.2938947487489,
          44.336997295084146,
          44.346642620138184,
          44.34965678421757,
          44.44882278242943,
          44.452138362916756,
          44.452741195732635,
          44.53201371102053,
          44.58988566134478,
          44.59531115668767,
          44.752650521631715,
          44.78731340854468,
          44.87171000276753,
          45.00764880274792,
          45.086017068812,
          45.12007712290908,
          45.148108848847386,
          45.189402896735004,
          45.20869354684308,
          45.22165445238445,
          45.224367200055895,
          45.23853377122902,
          45.26837399561496,
          45.42119211443992,
          45.42661760978282,
          45.461581913103714,
          45.51071278759773,
          45.527592106442306,
          45.58033997783159,
          45.60596037250639,
          45.769026649201265,
          45.788618715717284,
          45.7988668735872,
          45.802182454074526,
          45.815143359615895,
          45.836543924579544,
          45.88326346781006,
          45.95138357600422,
          46.16900622253601,
          46.184077042932955,
          46.19794219769814,
          46.22205551033324,
          46.22265834314912,
          46.30012235998938,
          46.42189458879665,
          46.423100254428405,
          46.502975602532175,
          46.54788664731505,
          46.63168040872203,
          46.636201654841116,
          46.64373706503959,
          46.652779557277746,
          46.66724754485881,
          46.73988889917206,
          46.76339937899128,
          46.78600560958669,
          46.793842436193096,
          46.83001240514575,
          46.853522884964974,
          46.86437387565077,
          46.87070362021748,
          46.94786622064981,
          47.02924865079328,
          47.05697896032365,
          47.06632286896975,
          47.07596819402379,
          47.11937215676697,
          47.18266960243412,
          47.248981212180645,
          47.258023704418804,
          47.261942117722015,
          47.33367922281144,
          47.34453021349724,
          47.47655060017442,
          47.58475909062444,
          47.607365321219845,
          47.93560778946517,
          48.10048256460768,
          48.101989646647375,
          48.16257434464307,
          48.31900946036329,
          48.49533805900748,
          48.624344281605275,
          48.62524853082908,
          48.766009993336496,
          48.832321603083024,
          49.093046795950066,
          49.22175160213992,
          49.44359407838286,
          49.4680088074259,
          49.555419565728144,
          49.57471021583623,
          49.64313174043833,
          49.69557819541967,
          49.74440765350576,
          49.87250962687973,
          49.98041670092182,
          49.98403369781708,
          50.05486655368269,
          51.5637570918242,
          51.61710779602936,
          52.00955195916565,
          52.275401230967645,
          55.07736815916649,
          55.49965254668871,
          57.044411637374935,
          61.87581524022554,
          62.3830990547865,
          62.472921144352256,
          62.918716011693704,
          63.351851389901725,
          64.34471703765205,
          64.55359860835361,
          65.06570508544159,
          65.10820479896095,
          66.33225683160032,
          66.3678239677371,
          67.00682675256729,
          67.30070775030761,
          68.40961871511435,
          68.80959828844911,
          69.79010586347394,
          71.43372953596408
         ],
         "yaxis": "y"
        }
       ],
       "layout": {
        "annotations": [
         {
          "font": {
           "color": "red",
           "size": 12
          },
          "showarrow": false,
          "text": "r = 0.33",
          "x": 0.05,
          "xref": "paper",
          "y": 0.95,
          "yref": "paper"
         }
        ],
        "coloraxis": {
         "colorbar": {
          "title": {
           "text": "year"
          }
         },
         "colorscale": [
          [
           0,
           "#440154"
          ],
          [
           0.1111111111111111,
           "#482878"
          ],
          [
           0.2222222222222222,
           "#3e4989"
          ],
          [
           0.3333333333333333,
           "#31688e"
          ],
          [
           0.4444444444444444,
           "#26828e"
          ],
          [
           0.5555555555555556,
           "#1f9e89"
          ],
          [
           0.6666666666666666,
           "#35b779"
          ],
          [
           0.7777777777777778,
           "#6ece58"
          ],
          [
           0.8888888888888888,
           "#b5de2b"
          ],
          [
           1,
           "#fde725"
          ]
         ]
        },
        "legend": {
         "title": {
          "text": "Year"
         },
         "tracegroupgap": 0
        },
        "template": {
         "data": {
          "bar": [
           {
            "error_x": {
             "color": "rgb(36,36,36)"
            },
            "error_y": {
             "color": "rgb(36,36,36)"
            },
            "marker": {
             "line": {
              "color": "white",
              "width": 0.5
             },
             "pattern": {
              "fillmode": "overlay",
              "size": 10,
              "solidity": 0.2
             }
            },
            "type": "bar"
           }
          ],
          "barpolar": [
           {
            "marker": {
             "line": {
              "color": "white",
              "width": 0.5
             },
             "pattern": {
              "fillmode": "overlay",
              "size": 10,
              "solidity": 0.2
             }
            },
            "type": "barpolar"
           }
          ],
          "carpet": [
           {
            "aaxis": {
             "endlinecolor": "rgb(36,36,36)",
             "gridcolor": "white",
             "linecolor": "white",
             "minorgridcolor": "white",
             "startlinecolor": "rgb(36,36,36)"
            },
            "baxis": {
             "endlinecolor": "rgb(36,36,36)",
             "gridcolor": "white",
             "linecolor": "white",
             "minorgridcolor": "white",
             "startlinecolor": "rgb(36,36,36)"
            },
            "type": "carpet"
           }
          ],
          "choropleth": [
           {
            "colorbar": {
             "outlinewidth": 1,
             "tickcolor": "rgb(36,36,36)",
             "ticks": "outside"
            },
            "type": "choropleth"
           }
          ],
          "contour": [
           {
            "colorbar": {
             "outlinewidth": 1,
             "tickcolor": "rgb(36,36,36)",
             "ticks": "outside"
            },
            "colorscale": [
             [
              0,
              "#440154"
             ],
             [
              0.1111111111111111,
              "#482878"
             ],
             [
              0.2222222222222222,
              "#3e4989"
             ],
             [
              0.3333333333333333,
              "#31688e"
             ],
             [
              0.4444444444444444,
              "#26828e"
             ],
             [
              0.5555555555555556,
              "#1f9e89"
             ],
             [
              0.6666666666666666,
              "#35b779"
             ],
             [
              0.7777777777777778,
              "#6ece58"
             ],
             [
              0.8888888888888888,
              "#b5de2b"
             ],
             [
              1,
              "#fde725"
             ]
            ],
            "type": "contour"
           }
          ],
          "contourcarpet": [
           {
            "colorbar": {
             "outlinewidth": 1,
             "tickcolor": "rgb(36,36,36)",
             "ticks": "outside"
            },
            "type": "contourcarpet"
           }
          ],
          "heatmap": [
           {
            "colorbar": {
             "outlinewidth": 1,
             "tickcolor": "rgb(36,36,36)",
             "ticks": "outside"
            },
            "colorscale": [
             [
              0,
              "#440154"
             ],
             [
              0.1111111111111111,
              "#482878"
             ],
             [
              0.2222222222222222,
              "#3e4989"
             ],
             [
              0.3333333333333333,
              "#31688e"
             ],
             [
              0.4444444444444444,
              "#26828e"
             ],
             [
              0.5555555555555556,
              "#1f9e89"
             ],
             [
              0.6666666666666666,
              "#35b779"
             ],
             [
              0.7777777777777778,
              "#6ece58"
             ],
             [
              0.8888888888888888,
              "#b5de2b"
             ],
             [
              1,
              "#fde725"
             ]
            ],
            "type": "heatmap"
           }
          ],
          "heatmapgl": [
           {
            "colorbar": {
             "outlinewidth": 1,
             "tickcolor": "rgb(36,36,36)",
             "ticks": "outside"
            },
            "colorscale": [
             [
              0,
              "#440154"
             ],
             [
              0.1111111111111111,
              "#482878"
             ],
             [
              0.2222222222222222,
              "#3e4989"
             ],
             [
              0.3333333333333333,
              "#31688e"
             ],
             [
              0.4444444444444444,
              "#26828e"
             ],
             [
              0.5555555555555556,
              "#1f9e89"
             ],
             [
              0.6666666666666666,
              "#35b779"
             ],
             [
              0.7777777777777778,
              "#6ece58"
             ],
             [
              0.8888888888888888,
              "#b5de2b"
             ],
             [
              1,
              "#fde725"
             ]
            ],
            "type": "heatmapgl"
           }
          ],
          "histogram": [
           {
            "marker": {
             "line": {
              "color": "white",
              "width": 0.6
             }
            },
            "type": "histogram"
           }
          ],
          "histogram2d": [
           {
            "colorbar": {
             "outlinewidth": 1,
             "tickcolor": "rgb(36,36,36)",
             "ticks": "outside"
            },
            "colorscale": [
             [
              0,
              "#440154"
             ],
             [
              0.1111111111111111,
              "#482878"
             ],
             [
              0.2222222222222222,
              "#3e4989"
             ],
             [
              0.3333333333333333,
              "#31688e"
             ],
             [
              0.4444444444444444,
              "#26828e"
             ],
             [
              0.5555555555555556,
              "#1f9e89"
             ],
             [
              0.6666666666666666,
              "#35b779"
             ],
             [
              0.7777777777777778,
              "#6ece58"
             ],
             [
              0.8888888888888888,
              "#b5de2b"
             ],
             [
              1,
              "#fde725"
             ]
            ],
            "type": "histogram2d"
           }
          ],
          "histogram2dcontour": [
           {
            "colorbar": {
             "outlinewidth": 1,
             "tickcolor": "rgb(36,36,36)",
             "ticks": "outside"
            },
            "colorscale": [
             [
              0,
              "#440154"
             ],
             [
              0.1111111111111111,
              "#482878"
             ],
             [
              0.2222222222222222,
              "#3e4989"
             ],
             [
              0.3333333333333333,
              "#31688e"
             ],
             [
              0.4444444444444444,
              "#26828e"
             ],
             [
              0.5555555555555556,
              "#1f9e89"
             ],
             [
              0.6666666666666666,
              "#35b779"
             ],
             [
              0.7777777777777778,
              "#6ece58"
             ],
             [
              0.8888888888888888,
              "#b5de2b"
             ],
             [
              1,
              "#fde725"
             ]
            ],
            "type": "histogram2dcontour"
           }
          ],
          "mesh3d": [
           {
            "colorbar": {
             "outlinewidth": 1,
             "tickcolor": "rgb(36,36,36)",
             "ticks": "outside"
            },
            "type": "mesh3d"
           }
          ],
          "parcoords": [
           {
            "line": {
             "colorbar": {
              "outlinewidth": 1,
              "tickcolor": "rgb(36,36,36)",
              "ticks": "outside"
             }
            },
            "type": "parcoords"
           }
          ],
          "pie": [
           {
            "automargin": true,
            "type": "pie"
           }
          ],
          "scatter": [
           {
            "fillpattern": {
             "fillmode": "overlay",
             "size": 10,
             "solidity": 0.2
            },
            "type": "scatter"
           }
          ],
          "scatter3d": [
           {
            "line": {
             "colorbar": {
              "outlinewidth": 1,
              "tickcolor": "rgb(36,36,36)",
              "ticks": "outside"
             }
            },
            "marker": {
             "colorbar": {
              "outlinewidth": 1,
              "tickcolor": "rgb(36,36,36)",
              "ticks": "outside"
             }
            },
            "type": "scatter3d"
           }
          ],
          "scattercarpet": [
           {
            "marker": {
             "colorbar": {
              "outlinewidth": 1,
              "tickcolor": "rgb(36,36,36)",
              "ticks": "outside"
             }
            },
            "type": "scattercarpet"
           }
          ],
          "scattergeo": [
           {
            "marker": {
             "colorbar": {
              "outlinewidth": 1,
              "tickcolor": "rgb(36,36,36)",
              "ticks": "outside"
             }
            },
            "type": "scattergeo"
           }
          ],
          "scattergl": [
           {
            "marker": {
             "colorbar": {
              "outlinewidth": 1,
              "tickcolor": "rgb(36,36,36)",
              "ticks": "outside"
             }
            },
            "type": "scattergl"
           }
          ],
          "scattermapbox": [
           {
            "marker": {
             "colorbar": {
              "outlinewidth": 1,
              "tickcolor": "rgb(36,36,36)",
              "ticks": "outside"
             }
            },
            "type": "scattermapbox"
           }
          ],
          "scatterpolar": [
           {
            "marker": {
             "colorbar": {
              "outlinewidth": 1,
              "tickcolor": "rgb(36,36,36)",
              "ticks": "outside"
             }
            },
            "type": "scatterpolar"
           }
          ],
          "scatterpolargl": [
           {
            "marker": {
             "colorbar": {
              "outlinewidth": 1,
              "tickcolor": "rgb(36,36,36)",
              "ticks": "outside"
             }
            },
            "type": "scatterpolargl"
           }
          ],
          "scatterternary": [
           {
            "marker": {
             "colorbar": {
              "outlinewidth": 1,
              "tickcolor": "rgb(36,36,36)",
              "ticks": "outside"
             }
            },
            "type": "scatterternary"
           }
          ],
          "surface": [
           {
            "colorbar": {
             "outlinewidth": 1,
             "tickcolor": "rgb(36,36,36)",
             "ticks": "outside"
            },
            "colorscale": [
             [
              0,
              "#440154"
             ],
             [
              0.1111111111111111,
              "#482878"
             ],
             [
              0.2222222222222222,
              "#3e4989"
             ],
             [
              0.3333333333333333,
              "#31688e"
             ],
             [
              0.4444444444444444,
              "#26828e"
             ],
             [
              0.5555555555555556,
              "#1f9e89"
             ],
             [
              0.6666666666666666,
              "#35b779"
             ],
             [
              0.7777777777777778,
              "#6ece58"
             ],
             [
              0.8888888888888888,
              "#b5de2b"
             ],
             [
              1,
              "#fde725"
             ]
            ],
            "type": "surface"
           }
          ],
          "table": [
           {
            "cells": {
             "fill": {
              "color": "rgb(237,237,237)"
             },
             "line": {
              "color": "white"
             }
            },
            "header": {
             "fill": {
              "color": "rgb(217,217,217)"
             },
             "line": {
              "color": "white"
             }
            },
            "type": "table"
           }
          ]
         },
         "layout": {
          "annotationdefaults": {
           "arrowhead": 0,
           "arrowwidth": 1
          },
          "autotypenumbers": "strict",
          "coloraxis": {
           "colorbar": {
            "outlinewidth": 1,
            "tickcolor": "rgb(36,36,36)",
            "ticks": "outside"
           }
          },
          "colorscale": {
           "diverging": [
            [
             0,
             "rgb(103,0,31)"
            ],
            [
             0.1,
             "rgb(178,24,43)"
            ],
            [
             0.2,
             "rgb(214,96,77)"
            ],
            [
             0.3,
             "rgb(244,165,130)"
            ],
            [
             0.4,
             "rgb(253,219,199)"
            ],
            [
             0.5,
             "rgb(247,247,247)"
            ],
            [
             0.6,
             "rgb(209,229,240)"
            ],
            [
             0.7,
             "rgb(146,197,222)"
            ],
            [
             0.8,
             "rgb(67,147,195)"
            ],
            [
             0.9,
             "rgb(33,102,172)"
            ],
            [
             1,
             "rgb(5,48,97)"
            ]
           ],
           "sequential": [
            [
             0,
             "#440154"
            ],
            [
             0.1111111111111111,
             "#482878"
            ],
            [
             0.2222222222222222,
             "#3e4989"
            ],
            [
             0.3333333333333333,
             "#31688e"
            ],
            [
             0.4444444444444444,
             "#26828e"
            ],
            [
             0.5555555555555556,
             "#1f9e89"
            ],
            [
             0.6666666666666666,
             "#35b779"
            ],
            [
             0.7777777777777778,
             "#6ece58"
            ],
            [
             0.8888888888888888,
             "#b5de2b"
            ],
            [
             1,
             "#fde725"
            ]
           ],
           "sequentialminus": [
            [
             0,
             "#440154"
            ],
            [
             0.1111111111111111,
             "#482878"
            ],
            [
             0.2222222222222222,
             "#3e4989"
            ],
            [
             0.3333333333333333,
             "#31688e"
            ],
            [
             0.4444444444444444,
             "#26828e"
            ],
            [
             0.5555555555555556,
             "#1f9e89"
            ],
            [
             0.6666666666666666,
             "#35b779"
            ],
            [
             0.7777777777777778,
             "#6ece58"
            ],
            [
             0.8888888888888888,
             "#b5de2b"
            ],
            [
             1,
             "#fde725"
            ]
           ]
          },
          "colorway": [
           "#1F77B4",
           "#FF7F0E",
           "#2CA02C",
           "#D62728",
           "#9467BD",
           "#8C564B",
           "#E377C2",
           "#7F7F7F",
           "#BCBD22",
           "#17BECF"
          ],
          "font": {
           "color": "rgb(36,36,36)"
          },
          "geo": {
           "bgcolor": "white",
           "lakecolor": "white",
           "landcolor": "white",
           "showlakes": true,
           "showland": true,
           "subunitcolor": "white"
          },
          "hoverlabel": {
           "align": "left"
          },
          "hovermode": "closest",
          "mapbox": {
           "style": "light"
          },
          "paper_bgcolor": "white",
          "plot_bgcolor": "white",
          "polar": {
           "angularaxis": {
            "gridcolor": "rgb(232,232,232)",
            "linecolor": "rgb(36,36,36)",
            "showgrid": false,
            "showline": true,
            "ticks": "outside"
           },
           "bgcolor": "white",
           "radialaxis": {
            "gridcolor": "rgb(232,232,232)",
            "linecolor": "rgb(36,36,36)",
            "showgrid": false,
            "showline": true,
            "ticks": "outside"
           }
          },
          "scene": {
           "xaxis": {
            "backgroundcolor": "white",
            "gridcolor": "rgb(232,232,232)",
            "gridwidth": 2,
            "linecolor": "rgb(36,36,36)",
            "showbackground": true,
            "showgrid": false,
            "showline": true,
            "ticks": "outside",
            "zeroline": false,
            "zerolinecolor": "rgb(36,36,36)"
           },
           "yaxis": {
            "backgroundcolor": "white",
            "gridcolor": "rgb(232,232,232)",
            "gridwidth": 2,
            "linecolor": "rgb(36,36,36)",
            "showbackground": true,
            "showgrid": false,
            "showline": true,
            "ticks": "outside",
            "zeroline": false,
            "zerolinecolor": "rgb(36,36,36)"
           },
           "zaxis": {
            "backgroundcolor": "white",
            "gridcolor": "rgb(232,232,232)",
            "gridwidth": 2,
            "linecolor": "rgb(36,36,36)",
            "showbackground": true,
            "showgrid": false,
            "showline": true,
            "ticks": "outside",
            "zeroline": false,
            "zerolinecolor": "rgb(36,36,36)"
           }
          },
          "shapedefaults": {
           "fillcolor": "black",
           "line": {
            "width": 0
           },
           "opacity": 0.3
          },
          "ternary": {
           "aaxis": {
            "gridcolor": "rgb(232,232,232)",
            "linecolor": "rgb(36,36,36)",
            "showgrid": false,
            "showline": true,
            "ticks": "outside"
           },
           "baxis": {
            "gridcolor": "rgb(232,232,232)",
            "linecolor": "rgb(36,36,36)",
            "showgrid": false,
            "showline": true,
            "ticks": "outside"
           },
           "bgcolor": "white",
           "caxis": {
            "gridcolor": "rgb(232,232,232)",
            "linecolor": "rgb(36,36,36)",
            "showgrid": false,
            "showline": true,
            "ticks": "outside"
           }
          },
          "title": {
           "x": 0.05
          },
          "xaxis": {
           "automargin": true,
           "gridcolor": "rgb(232,232,232)",
           "linecolor": "rgb(36,36,36)",
           "showgrid": false,
           "showline": true,
           "ticks": "outside",
           "title": {
            "standoff": 15
           },
           "zeroline": false,
           "zerolinecolor": "rgb(36,36,36)"
          },
          "yaxis": {
           "automargin": true,
           "gridcolor": "rgb(232,232,232)",
           "linecolor": "rgb(36,36,36)",
           "showgrid": false,
           "showline": true,
           "ticks": "outside",
           "title": {
            "standoff": 15
           },
           "zeroline": false,
           "zerolinecolor": "rgb(36,36,36)"
          }
         }
        },
        "title": {
         "text": "Correlation between GDP per capita and % of Renewable energy production in EU countries in 2010-2023"
        },
        "xaxis": {
         "anchor": "y",
         "domain": [
          0,
          1
         ],
         "title": {
          "text": "GDP per capita, USD"
         }
        },
        "yaxis": {
         "anchor": "x",
         "domain": [
          0,
          1
         ],
         "title": {
          "text": "% Renewable Energy Production, GWh"
         }
        }
       }
      }
     },
     "metadata": {},
     "output_type": "display_data"
    }
   ],
   "source": [
    "#correlation index\n",
    "from scipy.stats import pearsonr\n",
    "r, _ = pearsonr(df_viz['gdp'], df_viz['%_of_renewable'])\n",
    "# Create scatter plot with trendline\n",
    "fig = px.scatter(\n",
    "    df_viz,\n",
    "    x=\"gdp\",\n",
    "    y=\"%_of_renewable\",\n",
    "    color=\"year\",\n",
    "    hover_name=\"country_name\",\n",
    "    trendline=\"ols\",\n",
    "    template=\"simple_white\",\n",
    "    title='Correlation between GDP per capita and % of Renewable energy production in EU countries in 2010-2023'\n",
    ")\n",
    "# Extract the trendline results\n",
    "trendline = fig.data[1]  # The trendline is the second trace (index 1)\n",
    "# Add annotation for the correlation coefficient\n",
    "fig.add_annotation(\n",
    "    x=0.05,\n",
    "    y=0.95,\n",
    "    xref=\"paper\",\n",
    "    yref=\"paper\",\n",
    "    text=f'r = {r:.2f}',\n",
    "    showarrow=False,\n",
    "    font=dict(size=12, color='red')\n",
    ")\n",
    "fig.update_layout(\n",
    "    xaxis_title=\"GDP per capita, USD\",\n",
    "    yaxis_title=\"% Renewable Energy Production, GWh\",\n",
    "    legend_title_text=\"Year\"\n",
    ")\n",
    "fig.show()"
   ]
  },
  {
   "cell_type": "markdown",
   "metadata": {},
   "source": [
    "The scatterplot shows the relationship between GDP and the percentage of renewable energy production for EU countries in 2010-2023. \n",
    "## Positive Correlation\n",
    "The trendline indicates a positive correlation between GDP and the percentage of renewable energy. \n",
    "This means that, on average, countries with higher GDP tend to have a higher percentage of renewable energy production. \n",
    "\n",
    "The positive trend suggests that economically developed countries are more likely to invest in renewable energy sources. This could be due to higher availability of funds for infrastructure, more advanced technology, and stronger policy frameworks supporting renewable energy.\n",
    "\n",
    "Despite the positive trend, there is considerable variability in the data. Many countries with lower GDP have a wide range of renewable energy percentages, from very low to very high.\n",
    "Similarly, even at higher GDP levels, there is a spread in the percentage of renewable energy, however it tends to be somewhat more concentrated.\n",
    "\n",
    "\n",
    "\n"
   ]
  },
  {
   "cell_type": "code",
   "execution_count": null,
   "metadata": {},
   "outputs": [],
   "source": [
    "#renevable % avarage for years 2010-2023\n"
   ]
  },
  {
   "cell_type": "code",
   "execution_count": null,
   "metadata": {},
   "outputs": [
    {
     "data": {
      "application/vnd.plotly.v1+json": {
       "config": {
        "plotlyServerURL": "https://plot.ly"
       },
       "data": [
        {
         "alignmentgroup": "True",
         "hovertemplate": "<b>%{hovertext}</b><br><br>Country Name=%{x}<br>Average % of Renewable Energy for all years=%{text}<extra></extra>",
         "hovertext": [
          "Malta"
         ],
         "legendgroup": "Malta",
         "marker": {
          "color": "#1F77B4",
          "pattern": {
           "shape": ""
          }
         },
         "name": "Malta",
         "offsetgroup": "Malta",
         "orientation": "v",
         "showlegend": true,
         "text": [
          10.666666666666666
         ],
         "textposition": "outside",
         "texttemplate": "%{text:.1f}%",
         "type": "bar",
         "x": [
          "Malta"
         ],
         "xaxis": "x",
         "y": [
          10.666666666666666
         ],
         "yaxis": "y"
        },
        {
         "alignmentgroup": "True",
         "hovertemplate": "<b>%{hovertext}</b><br><br>Country Name=%{x}<br>Average % of Renewable Energy for all years=%{text}<extra></extra>",
         "hovertext": [
          "Cyprus"
         ],
         "legendgroup": "Cyprus",
         "marker": {
          "color": "#FF7F0E",
          "pattern": {
           "shape": ""
          }
         },
         "name": "Cyprus",
         "offsetgroup": "Cyprus",
         "orientation": "v",
         "showlegend": true,
         "text": [
          12
         ],
         "textposition": "outside",
         "texttemplate": "%{text:.1f}%",
         "type": "bar",
         "x": [
          "Cyprus"
         ],
         "xaxis": "x",
         "y": [
          12
         ],
         "yaxis": "y"
        },
        {
         "alignmentgroup": "True",
         "hovertemplate": "<b>%{hovertext}</b><br><br>Country Name=%{x}<br>Average % of Renewable Energy for all years=%{text}<extra></extra>",
         "hovertext": [
          "Poland"
         ],
         "legendgroup": "Poland",
         "marker": {
          "color": "#2CA02C",
          "pattern": {
           "shape": ""
          }
         },
         "name": "Poland",
         "offsetgroup": "Poland",
         "orientation": "v",
         "showlegend": true,
         "text": [
          14.071428571428571
         ],
         "textposition": "outside",
         "texttemplate": "%{text:.1f}%",
         "type": "bar",
         "x": [
          "Poland"
         ],
         "xaxis": "x",
         "y": [
          14.071428571428571
         ],
         "yaxis": "y"
        },
        {
         "alignmentgroup": "True",
         "hovertemplate": "<b>%{hovertext}</b><br><br>Country Name=%{x}<br>Average % of Renewable Energy for all years=%{text}<extra></extra>",
         "hovertext": [
          "Czech Republic"
         ],
         "legendgroup": "Czech Republic",
         "marker": {
          "color": "#D62728",
          "pattern": {
           "shape": ""
          }
         },
         "name": "Czech Republic",
         "offsetgroup": "Czech Republic",
         "orientation": "v",
         "showlegend": true,
         "text": [
          17.5
         ],
         "textposition": "outside",
         "texttemplate": "%{text:.1f}%",
         "type": "bar",
         "x": [
          "Czech Republic"
         ],
         "xaxis": "x",
         "y": [
          17.5
         ],
         "yaxis": "y"
        },
        {
         "alignmentgroup": "True",
         "hovertemplate": "<b>%{hovertext}</b><br><br>Country Name=%{x}<br>Average % of Renewable Energy for all years=%{text}<extra></extra>",
         "hovertext": [
          "Estonia"
         ],
         "legendgroup": "Estonia",
         "marker": {
          "color": "#9467BD",
          "pattern": {
           "shape": ""
          }
         },
         "name": "Estonia",
         "offsetgroup": "Estonia",
         "orientation": "v",
         "showlegend": true,
         "text": [
          18.857142857142858
         ],
         "textposition": "outside",
         "texttemplate": "%{text:.1f}%",
         "type": "bar",
         "x": [
          "Estonia"
         ],
         "xaxis": "x",
         "y": [
          18.857142857142858
         ],
         "yaxis": "y"
        },
        {
         "alignmentgroup": "True",
         "hovertemplate": "<b>%{hovertext}</b><br><br>Country Name=%{x}<br>Average % of Renewable Energy for all years=%{text}<extra></extra>",
         "hovertext": [
          "Netherlands"
         ],
         "legendgroup": "Netherlands",
         "marker": {
          "color": "#8C564B",
          "pattern": {
           "shape": ""
          }
         },
         "name": "Netherlands",
         "offsetgroup": "Netherlands",
         "orientation": "v",
         "showlegend": true,
         "text": [
          19.142857142857142
         ],
         "textposition": "outside",
         "texttemplate": "%{text:.1f}%",
         "type": "bar",
         "x": [
          "Netherlands"
         ],
         "xaxis": "x",
         "y": [
          19.142857142857142
         ],
         "yaxis": "y"
        },
        {
         "alignmentgroup": "True",
         "hovertemplate": "<b>%{hovertext}</b><br><br>Country Name=%{x}<br>Average % of Renewable Energy for all years=%{text}<extra></extra>",
         "hovertext": [
          "Hungary"
         ],
         "legendgroup": "Hungary",
         "marker": {
          "color": "#E377C2",
          "pattern": {
           "shape": ""
          }
         },
         "name": "Hungary",
         "offsetgroup": "Hungary",
         "orientation": "v",
         "showlegend": true,
         "text": [
          22
         ],
         "textposition": "outside",
         "texttemplate": "%{text:.1f}%",
         "type": "bar",
         "x": [
          "Hungary"
         ],
         "xaxis": "x",
         "y": [
          22
         ],
         "yaxis": "y"
        },
        {
         "alignmentgroup": "True",
         "hovertemplate": "<b>%{hovertext}</b><br><br>Country Name=%{x}<br>Average % of Renewable Energy for all years=%{text}<extra></extra>",
         "hovertext": [
          "Ireland"
         ],
         "legendgroup": "Ireland",
         "marker": {
          "color": "#7F7F7F",
          "pattern": {
           "shape": ""
          }
         },
         "name": "Ireland",
         "offsetgroup": "Ireland",
         "orientation": "v",
         "showlegend": true,
         "text": [
          29.857142857142858
         ],
         "textposition": "outside",
         "texttemplate": "%{text:.1f}%",
         "type": "bar",
         "x": [
          "Ireland"
         ],
         "xaxis": "x",
         "y": [
          29.857142857142858
         ],
         "yaxis": "y"
        },
        {
         "alignmentgroup": "True",
         "hovertemplate": "<b>%{hovertext}</b><br><br>Country Name=%{x}<br>Average % of Renewable Energy for all years=%{text}<extra></extra>",
         "hovertext": [
          "Bulgaria"
         ],
         "legendgroup": "Bulgaria",
         "marker": {
          "color": "#BCBD22",
          "pattern": {
           "shape": ""
          }
         },
         "name": "Bulgaria",
         "offsetgroup": "Bulgaria",
         "orientation": "v",
         "showlegend": true,
         "text": [
          30.77777777777778
         ],
         "textposition": "outside",
         "texttemplate": "%{text:.1f}%",
         "type": "bar",
         "x": [
          "Bulgaria"
         ],
         "xaxis": "x",
         "y": [
          30.77777777777778
         ],
         "yaxis": "y"
        },
        {
         "alignmentgroup": "True",
         "hovertemplate": "<b>%{hovertext}</b><br><br>Country Name=%{x}<br>Average % of Renewable Energy for all years=%{text}<extra></extra>",
         "hovertext": [
          "Greece"
         ],
         "legendgroup": "Greece",
         "marker": {
          "color": "#17BECF",
          "pattern": {
           "shape": ""
          }
         },
         "name": "Greece",
         "offsetgroup": "Greece",
         "orientation": "v",
         "showlegend": true,
         "text": [
          30.785714285714285
         ],
         "textposition": "outside",
         "texttemplate": "%{text:.1f}%",
         "type": "bar",
         "x": [
          "Greece"
         ],
         "xaxis": "x",
         "y": [
          30.785714285714285
         ],
         "yaxis": "y"
        },
        {
         "alignmentgroup": "True",
         "hovertemplate": "<b>%{hovertext}</b><br><br>Country Name=%{x}<br>Average % of Renewable Energy for all years=%{text}<extra></extra>",
         "hovertext": [
          "Belgium"
         ],
         "legendgroup": "Belgium",
         "marker": {
          "color": "#1F77B4",
          "pattern": {
           "shape": ""
          }
         },
         "name": "Belgium",
         "offsetgroup": "Belgium",
         "orientation": "v",
         "showlegend": true,
         "text": [
          33.714285714285715
         ],
         "textposition": "outside",
         "texttemplate": "%{text:.1f}%",
         "type": "bar",
         "x": [
          "Belgium"
         ],
         "xaxis": "x",
         "y": [
          33.714285714285715
         ],
         "yaxis": "y"
        },
        {
         "alignmentgroup": "True",
         "hovertemplate": "<b>%{hovertext}</b><br><br>Country Name=%{x}<br>Average % of Renewable Energy for all years=%{text}<extra></extra>",
         "hovertext": [
          "Germany"
         ],
         "legendgroup": "Germany",
         "marker": {
          "color": "#FF7F0E",
          "pattern": {
           "shape": ""
          }
         },
         "name": "Germany",
         "offsetgroup": "Germany",
         "orientation": "v",
         "showlegend": true,
         "text": [
          35.285714285714285
         ],
         "textposition": "outside",
         "texttemplate": "%{text:.1f}%",
         "type": "bar",
         "x": [
          "Germany"
         ],
         "xaxis": "x",
         "y": [
          35.285714285714285
         ],
         "yaxis": "y"
        },
        {
         "alignmentgroup": "True",
         "hovertemplate": "<b>%{hovertext}</b><br><br>Country Name=%{x}<br>Average % of Renewable Energy for all years=%{text}<extra></extra>",
         "hovertext": [
          "Italy"
         ],
         "legendgroup": "Italy",
         "marker": {
          "color": "#2CA02C",
          "pattern": {
           "shape": ""
          }
         },
         "name": "Italy",
         "offsetgroup": "Italy",
         "orientation": "v",
         "showlegend": true,
         "text": [
          35.5
         ],
         "textposition": "outside",
         "texttemplate": "%{text:.1f}%",
         "type": "bar",
         "x": [
          "Italy"
         ],
         "xaxis": "x",
         "y": [
          35.5
         ],
         "yaxis": "y"
        },
        {
         "alignmentgroup": "True",
         "hovertemplate": "<b>%{hovertext}</b><br><br>Country Name=%{x}<br>Average % of Renewable Energy for all years=%{text}<extra></extra>",
         "hovertext": [
          "Slovak Republic"
         ],
         "legendgroup": "Slovak Republic",
         "marker": {
          "color": "#D62728",
          "pattern": {
           "shape": ""
          }
         },
         "name": "Slovak Republic",
         "offsetgroup": "Slovak Republic",
         "orientation": "v",
         "showlegend": true,
         "text": [
          47.07142857142857
         ],
         "textposition": "outside",
         "texttemplate": "%{text:.1f}%",
         "type": "bar",
         "x": [
          "Slovak Republic"
         ],
         "xaxis": "x",
         "y": [
          47.07142857142857
         ],
         "yaxis": "y"
        },
        {
         "alignmentgroup": "True",
         "hovertemplate": "<b>%{hovertext}</b><br><br>Country Name=%{x}<br>Average % of Renewable Energy for all years=%{text}<extra></extra>",
         "hovertext": [
          "Spain"
         ],
         "legendgroup": "Spain",
         "marker": {
          "color": "#9467BD",
          "pattern": {
           "shape": ""
          }
         },
         "name": "Spain",
         "offsetgroup": "Spain",
         "orientation": "v",
         "showlegend": true,
         "text": [
          48.07142857142857
         ],
         "textposition": "outside",
         "texttemplate": "%{text:.1f}%",
         "type": "bar",
         "x": [
          "Spain"
         ],
         "xaxis": "x",
         "y": [
          48.07142857142857
         ],
         "yaxis": "y"
        },
        {
         "alignmentgroup": "True",
         "hovertemplate": "<b>%{hovertext}</b><br><br>Country Name=%{x}<br>Average % of Renewable Energy for all years=%{text}<extra></extra>",
         "hovertext": [
          "Slovenia"
         ],
         "legendgroup": "Slovenia",
         "marker": {
          "color": "#8C564B",
          "pattern": {
           "shape": ""
          }
         },
         "name": "Slovenia",
         "offsetgroup": "Slovenia",
         "orientation": "v",
         "showlegend": true,
         "text": [
          51.92857142857143
         ],
         "textposition": "outside",
         "texttemplate": "%{text:.1f}%",
         "type": "bar",
         "x": [
          "Slovenia"
         ],
         "xaxis": "x",
         "y": [
          51.92857142857143
         ],
         "yaxis": "y"
        },
        {
         "alignmentgroup": "True",
         "hovertemplate": "<b>%{hovertext}</b><br><br>Country Name=%{x}<br>Average % of Renewable Energy for all years=%{text}<extra></extra>",
         "hovertext": [
          "Portugal"
         ],
         "legendgroup": "Portugal",
         "marker": {
          "color": "#E377C2",
          "pattern": {
           "shape": ""
          }
         },
         "name": "Portugal",
         "offsetgroup": "Portugal",
         "orientation": "v",
         "showlegend": true,
         "text": [
          52.07142857142857
         ],
         "textposition": "outside",
         "texttemplate": "%{text:.1f}%",
         "type": "bar",
         "x": [
          "Portugal"
         ],
         "xaxis": "x",
         "y": [
          52.07142857142857
         ],
         "yaxis": "y"
        },
        {
         "alignmentgroup": "True",
         "hovertemplate": "<b>%{hovertext}</b><br><br>Country Name=%{x}<br>Average % of Renewable Energy for all years=%{text}<extra></extra>",
         "hovertext": [
          "Finland"
         ],
         "legendgroup": "Finland",
         "marker": {
          "color": "#7F7F7F",
          "pattern": {
           "shape": ""
          }
         },
         "name": "Finland",
         "offsetgroup": "Finland",
         "orientation": "v",
         "showlegend": true,
         "text": [
          53.5
         ],
         "textposition": "outside",
         "texttemplate": "%{text:.1f}%",
         "type": "bar",
         "x": [
          "Finland"
         ],
         "xaxis": "x",
         "y": [
          53.5
         ],
         "yaxis": "y"
        },
        {
         "alignmentgroup": "True",
         "hovertemplate": "<b>%{hovertext}</b><br><br>Country Name=%{x}<br>Average % of Renewable Energy for all years=%{text}<extra></extra>",
         "hovertext": [
          "Denmark"
         ],
         "legendgroup": "Denmark",
         "marker": {
          "color": "#BCBD22",
          "pattern": {
           "shape": ""
          }
         },
         "name": "Denmark",
         "offsetgroup": "Denmark",
         "orientation": "v",
         "showlegend": true,
         "text": [
          54.857142857142854
         ],
         "textposition": "outside",
         "texttemplate": "%{text:.1f}%",
         "type": "bar",
         "x": [
          "Denmark"
         ],
         "xaxis": "x",
         "y": [
          54.857142857142854
         ],
         "yaxis": "y"
        },
        {
         "alignmentgroup": "True",
         "hovertemplate": "<b>%{hovertext}</b><br><br>Country Name=%{x}<br>Average % of Renewable Energy for all years=%{text}<extra></extra>",
         "hovertext": [
          "Lithuania"
         ],
         "legendgroup": "Lithuania",
         "marker": {
          "color": "#17BECF",
          "pattern": {
           "shape": ""
          }
         },
         "name": "Lithuania",
         "offsetgroup": "Lithuania",
         "orientation": "v",
         "showlegend": true,
         "text": [
          55.714285714285715
         ],
         "textposition": "outside",
         "texttemplate": "%{text:.1f}%",
         "type": "bar",
         "x": [
          "Lithuania"
         ],
         "xaxis": "x",
         "y": [
          55.714285714285715
         ],
         "yaxis": "y"
        },
        {
         "alignmentgroup": "True",
         "hovertemplate": "<b>%{hovertext}</b><br><br>Country Name=%{x}<br>Average % of Renewable Energy for all years=%{text}<extra></extra>",
         "hovertext": [
          "Latvia"
         ],
         "legendgroup": "Latvia",
         "marker": {
          "color": "#1F77B4",
          "pattern": {
           "shape": ""
          }
         },
         "name": "Latvia",
         "offsetgroup": "Latvia",
         "orientation": "v",
         "showlegend": true,
         "text": [
          56.285714285714285
         ],
         "textposition": "outside",
         "texttemplate": "%{text:.1f}%",
         "type": "bar",
         "x": [
          "Latvia"
         ],
         "xaxis": "x",
         "y": [
          56.285714285714285
         ],
         "yaxis": "y"
        },
        {
         "alignmentgroup": "True",
         "hovertemplate": "<b>%{hovertext}</b><br><br>Country Name=%{x}<br>Average % of Renewable Energy for all years=%{text}<extra></extra>",
         "hovertext": [
          "Luxembourg"
         ],
         "legendgroup": "Luxembourg",
         "marker": {
          "color": "#FF7F0E",
          "pattern": {
           "shape": ""
          }
         },
         "name": "Luxembourg",
         "offsetgroup": "Luxembourg",
         "orientation": "v",
         "showlegend": true,
         "text": [
          63.785714285714285
         ],
         "textposition": "outside",
         "texttemplate": "%{text:.1f}%",
         "type": "bar",
         "x": [
          "Luxembourg"
         ],
         "xaxis": "x",
         "y": [
          63.785714285714285
         ],
         "yaxis": "y"
        },
        {
         "alignmentgroup": "True",
         "hovertemplate": "<b>%{hovertext}</b><br><br>Country Name=%{x}<br>Average % of Renewable Energy for all years=%{text}<extra></extra>",
         "hovertext": [
          "Croatia"
         ],
         "legendgroup": "Croatia",
         "marker": {
          "color": "#2CA02C",
          "pattern": {
           "shape": ""
          }
         },
         "name": "Croatia",
         "offsetgroup": "Croatia",
         "orientation": "v",
         "showlegend": true,
         "text": [
          64.33333333333333
         ],
         "textposition": "outside",
         "texttemplate": "%{text:.1f}%",
         "type": "bar",
         "x": [
          "Croatia"
         ],
         "xaxis": "x",
         "y": [
          64.33333333333333
         ],
         "yaxis": "y"
        },
        {
         "alignmentgroup": "True",
         "hovertemplate": "<b>%{hovertext}</b><br><br>Country Name=%{x}<br>Average % of Renewable Energy for all years=%{text}<extra></extra>",
         "hovertext": [
          "France"
         ],
         "legendgroup": "France",
         "marker": {
          "color": "#D62728",
          "pattern": {
           "shape": ""
          }
         },
         "name": "France",
         "offsetgroup": "France",
         "orientation": "v",
         "showlegend": true,
         "text": [
          64.57142857142857
         ],
         "textposition": "outside",
         "texttemplate": "%{text:.1f}%",
         "type": "bar",
         "x": [
          "France"
         ],
         "xaxis": "x",
         "y": [
          64.57142857142857
         ],
         "yaxis": "y"
        },
        {
         "alignmentgroup": "True",
         "hovertemplate": "<b>%{hovertext}</b><br><br>Country Name=%{x}<br>Average % of Renewable Energy for all years=%{text}<extra></extra>",
         "hovertext": [
          "Austria"
         ],
         "legendgroup": "Austria",
         "marker": {
          "color": "#9467BD",
          "pattern": {
           "shape": ""
          }
         },
         "name": "Austria",
         "offsetgroup": "Austria",
         "orientation": "v",
         "showlegend": true,
         "text": [
          72.42857142857143
         ],
         "textposition": "outside",
         "texttemplate": "%{text:.1f}%",
         "type": "bar",
         "x": [
          "Austria"
         ],
         "xaxis": "x",
         "y": [
          72.42857142857143
         ],
         "yaxis": "y"
        },
        {
         "alignmentgroup": "True",
         "hovertemplate": "<b>%{hovertext}</b><br><br>Country Name=%{x}<br>Average % of Renewable Energy for all years=%{text}<extra></extra>",
         "hovertext": [
          "Sweden"
         ],
         "legendgroup": "Sweden",
         "marker": {
          "color": "#8C564B",
          "pattern": {
           "shape": ""
          }
         },
         "name": "Sweden",
         "offsetgroup": "Sweden",
         "orientation": "v",
         "showlegend": true,
         "text": [
          85.92857142857143
         ],
         "textposition": "outside",
         "texttemplate": "%{text:.1f}%",
         "type": "bar",
         "x": [
          "Sweden"
         ],
         "xaxis": "x",
         "y": [
          85.92857142857143
         ],
         "yaxis": "y"
        }
       ],
       "layout": {
        "barmode": "relative",
        "height": 500,
        "legend": {
         "title": {
          "text": "Country Name"
         },
         "tracegroupgap": 0
        },
        "template": {
         "data": {
          "bar": [
           {
            "error_x": {
             "color": "rgb(36,36,36)"
            },
            "error_y": {
             "color": "rgb(36,36,36)"
            },
            "marker": {
             "line": {
              "color": "white",
              "width": 0.5
             },
             "pattern": {
              "fillmode": "overlay",
              "size": 10,
              "solidity": 0.2
             }
            },
            "type": "bar"
           }
          ],
          "barpolar": [
           {
            "marker": {
             "line": {
              "color": "white",
              "width": 0.5
             },
             "pattern": {
              "fillmode": "overlay",
              "size": 10,
              "solidity": 0.2
             }
            },
            "type": "barpolar"
           }
          ],
          "carpet": [
           {
            "aaxis": {
             "endlinecolor": "rgb(36,36,36)",
             "gridcolor": "white",
             "linecolor": "white",
             "minorgridcolor": "white",
             "startlinecolor": "rgb(36,36,36)"
            },
            "baxis": {
             "endlinecolor": "rgb(36,36,36)",
             "gridcolor": "white",
             "linecolor": "white",
             "minorgridcolor": "white",
             "startlinecolor": "rgb(36,36,36)"
            },
            "type": "carpet"
           }
          ],
          "choropleth": [
           {
            "colorbar": {
             "outlinewidth": 1,
             "tickcolor": "rgb(36,36,36)",
             "ticks": "outside"
            },
            "type": "choropleth"
           }
          ],
          "contour": [
           {
            "colorbar": {
             "outlinewidth": 1,
             "tickcolor": "rgb(36,36,36)",
             "ticks": "outside"
            },
            "colorscale": [
             [
              0,
              "#440154"
             ],
             [
              0.1111111111111111,
              "#482878"
             ],
             [
              0.2222222222222222,
              "#3e4989"
             ],
             [
              0.3333333333333333,
              "#31688e"
             ],
             [
              0.4444444444444444,
              "#26828e"
             ],
             [
              0.5555555555555556,
              "#1f9e89"
             ],
             [
              0.6666666666666666,
              "#35b779"
             ],
             [
              0.7777777777777778,
              "#6ece58"
             ],
             [
              0.8888888888888888,
              "#b5de2b"
             ],
             [
              1,
              "#fde725"
             ]
            ],
            "type": "contour"
           }
          ],
          "contourcarpet": [
           {
            "colorbar": {
             "outlinewidth": 1,
             "tickcolor": "rgb(36,36,36)",
             "ticks": "outside"
            },
            "type": "contourcarpet"
           }
          ],
          "heatmap": [
           {
            "colorbar": {
             "outlinewidth": 1,
             "tickcolor": "rgb(36,36,36)",
             "ticks": "outside"
            },
            "colorscale": [
             [
              0,
              "#440154"
             ],
             [
              0.1111111111111111,
              "#482878"
             ],
             [
              0.2222222222222222,
              "#3e4989"
             ],
             [
              0.3333333333333333,
              "#31688e"
             ],
             [
              0.4444444444444444,
              "#26828e"
             ],
             [
              0.5555555555555556,
              "#1f9e89"
             ],
             [
              0.6666666666666666,
              "#35b779"
             ],
             [
              0.7777777777777778,
              "#6ece58"
             ],
             [
              0.8888888888888888,
              "#b5de2b"
             ],
             [
              1,
              "#fde725"
             ]
            ],
            "type": "heatmap"
           }
          ],
          "heatmapgl": [
           {
            "colorbar": {
             "outlinewidth": 1,
             "tickcolor": "rgb(36,36,36)",
             "ticks": "outside"
            },
            "colorscale": [
             [
              0,
              "#440154"
             ],
             [
              0.1111111111111111,
              "#482878"
             ],
             [
              0.2222222222222222,
              "#3e4989"
             ],
             [
              0.3333333333333333,
              "#31688e"
             ],
             [
              0.4444444444444444,
              "#26828e"
             ],
             [
              0.5555555555555556,
              "#1f9e89"
             ],
             [
              0.6666666666666666,
              "#35b779"
             ],
             [
              0.7777777777777778,
              "#6ece58"
             ],
             [
              0.8888888888888888,
              "#b5de2b"
             ],
             [
              1,
              "#fde725"
             ]
            ],
            "type": "heatmapgl"
           }
          ],
          "histogram": [
           {
            "marker": {
             "line": {
              "color": "white",
              "width": 0.6
             }
            },
            "type": "histogram"
           }
          ],
          "histogram2d": [
           {
            "colorbar": {
             "outlinewidth": 1,
             "tickcolor": "rgb(36,36,36)",
             "ticks": "outside"
            },
            "colorscale": [
             [
              0,
              "#440154"
             ],
             [
              0.1111111111111111,
              "#482878"
             ],
             [
              0.2222222222222222,
              "#3e4989"
             ],
             [
              0.3333333333333333,
              "#31688e"
             ],
             [
              0.4444444444444444,
              "#26828e"
             ],
             [
              0.5555555555555556,
              "#1f9e89"
             ],
             [
              0.6666666666666666,
              "#35b779"
             ],
             [
              0.7777777777777778,
              "#6ece58"
             ],
             [
              0.8888888888888888,
              "#b5de2b"
             ],
             [
              1,
              "#fde725"
             ]
            ],
            "type": "histogram2d"
           }
          ],
          "histogram2dcontour": [
           {
            "colorbar": {
             "outlinewidth": 1,
             "tickcolor": "rgb(36,36,36)",
             "ticks": "outside"
            },
            "colorscale": [
             [
              0,
              "#440154"
             ],
             [
              0.1111111111111111,
              "#482878"
             ],
             [
              0.2222222222222222,
              "#3e4989"
             ],
             [
              0.3333333333333333,
              "#31688e"
             ],
             [
              0.4444444444444444,
              "#26828e"
             ],
             [
              0.5555555555555556,
              "#1f9e89"
             ],
             [
              0.6666666666666666,
              "#35b779"
             ],
             [
              0.7777777777777778,
              "#6ece58"
             ],
             [
              0.8888888888888888,
              "#b5de2b"
             ],
             [
              1,
              "#fde725"
             ]
            ],
            "type": "histogram2dcontour"
           }
          ],
          "mesh3d": [
           {
            "colorbar": {
             "outlinewidth": 1,
             "tickcolor": "rgb(36,36,36)",
             "ticks": "outside"
            },
            "type": "mesh3d"
           }
          ],
          "parcoords": [
           {
            "line": {
             "colorbar": {
              "outlinewidth": 1,
              "tickcolor": "rgb(36,36,36)",
              "ticks": "outside"
             }
            },
            "type": "parcoords"
           }
          ],
          "pie": [
           {
            "automargin": true,
            "type": "pie"
           }
          ],
          "scatter": [
           {
            "fillpattern": {
             "fillmode": "overlay",
             "size": 10,
             "solidity": 0.2
            },
            "type": "scatter"
           }
          ],
          "scatter3d": [
           {
            "line": {
             "colorbar": {
              "outlinewidth": 1,
              "tickcolor": "rgb(36,36,36)",
              "ticks": "outside"
             }
            },
            "marker": {
             "colorbar": {
              "outlinewidth": 1,
              "tickcolor": "rgb(36,36,36)",
              "ticks": "outside"
             }
            },
            "type": "scatter3d"
           }
          ],
          "scattercarpet": [
           {
            "marker": {
             "colorbar": {
              "outlinewidth": 1,
              "tickcolor": "rgb(36,36,36)",
              "ticks": "outside"
             }
            },
            "type": "scattercarpet"
           }
          ],
          "scattergeo": [
           {
            "marker": {
             "colorbar": {
              "outlinewidth": 1,
              "tickcolor": "rgb(36,36,36)",
              "ticks": "outside"
             }
            },
            "type": "scattergeo"
           }
          ],
          "scattergl": [
           {
            "marker": {
             "colorbar": {
              "outlinewidth": 1,
              "tickcolor": "rgb(36,36,36)",
              "ticks": "outside"
             }
            },
            "type": "scattergl"
           }
          ],
          "scattermapbox": [
           {
            "marker": {
             "colorbar": {
              "outlinewidth": 1,
              "tickcolor": "rgb(36,36,36)",
              "ticks": "outside"
             }
            },
            "type": "scattermapbox"
           }
          ],
          "scatterpolar": [
           {
            "marker": {
             "colorbar": {
              "outlinewidth": 1,
              "tickcolor": "rgb(36,36,36)",
              "ticks": "outside"
             }
            },
            "type": "scatterpolar"
           }
          ],
          "scatterpolargl": [
           {
            "marker": {
             "colorbar": {
              "outlinewidth": 1,
              "tickcolor": "rgb(36,36,36)",
              "ticks": "outside"
             }
            },
            "type": "scatterpolargl"
           }
          ],
          "scatterternary": [
           {
            "marker": {
             "colorbar": {
              "outlinewidth": 1,
              "tickcolor": "rgb(36,36,36)",
              "ticks": "outside"
             }
            },
            "type": "scatterternary"
           }
          ],
          "surface": [
           {
            "colorbar": {
             "outlinewidth": 1,
             "tickcolor": "rgb(36,36,36)",
             "ticks": "outside"
            },
            "colorscale": [
             [
              0,
              "#440154"
             ],
             [
              0.1111111111111111,
              "#482878"
             ],
             [
              0.2222222222222222,
              "#3e4989"
             ],
             [
              0.3333333333333333,
              "#31688e"
             ],
             [
              0.4444444444444444,
              "#26828e"
             ],
             [
              0.5555555555555556,
              "#1f9e89"
             ],
             [
              0.6666666666666666,
              "#35b779"
             ],
             [
              0.7777777777777778,
              "#6ece58"
             ],
             [
              0.8888888888888888,
              "#b5de2b"
             ],
             [
              1,
              "#fde725"
             ]
            ],
            "type": "surface"
           }
          ],
          "table": [
           {
            "cells": {
             "fill": {
              "color": "rgb(237,237,237)"
             },
             "line": {
              "color": "white"
             }
            },
            "header": {
             "fill": {
              "color": "rgb(217,217,217)"
             },
             "line": {
              "color": "white"
             }
            },
            "type": "table"
           }
          ]
         },
         "layout": {
          "annotationdefaults": {
           "arrowhead": 0,
           "arrowwidth": 1
          },
          "autotypenumbers": "strict",
          "coloraxis": {
           "colorbar": {
            "outlinewidth": 1,
            "tickcolor": "rgb(36,36,36)",
            "ticks": "outside"
           }
          },
          "colorscale": {
           "diverging": [
            [
             0,
             "rgb(103,0,31)"
            ],
            [
             0.1,
             "rgb(178,24,43)"
            ],
            [
             0.2,
             "rgb(214,96,77)"
            ],
            [
             0.3,
             "rgb(244,165,130)"
            ],
            [
             0.4,
             "rgb(253,219,199)"
            ],
            [
             0.5,
             "rgb(247,247,247)"
            ],
            [
             0.6,
             "rgb(209,229,240)"
            ],
            [
             0.7,
             "rgb(146,197,222)"
            ],
            [
             0.8,
             "rgb(67,147,195)"
            ],
            [
             0.9,
             "rgb(33,102,172)"
            ],
            [
             1,
             "rgb(5,48,97)"
            ]
           ],
           "sequential": [
            [
             0,
             "#440154"
            ],
            [
             0.1111111111111111,
             "#482878"
            ],
            [
             0.2222222222222222,
             "#3e4989"
            ],
            [
             0.3333333333333333,
             "#31688e"
            ],
            [
             0.4444444444444444,
             "#26828e"
            ],
            [
             0.5555555555555556,
             "#1f9e89"
            ],
            [
             0.6666666666666666,
             "#35b779"
            ],
            [
             0.7777777777777778,
             "#6ece58"
            ],
            [
             0.8888888888888888,
             "#b5de2b"
            ],
            [
             1,
             "#fde725"
            ]
           ],
           "sequentialminus": [
            [
             0,
             "#440154"
            ],
            [
             0.1111111111111111,
             "#482878"
            ],
            [
             0.2222222222222222,
             "#3e4989"
            ],
            [
             0.3333333333333333,
             "#31688e"
            ],
            [
             0.4444444444444444,
             "#26828e"
            ],
            [
             0.5555555555555556,
             "#1f9e89"
            ],
            [
             0.6666666666666666,
             "#35b779"
            ],
            [
             0.7777777777777778,
             "#6ece58"
            ],
            [
             0.8888888888888888,
             "#b5de2b"
            ],
            [
             1,
             "#fde725"
            ]
           ]
          },
          "colorway": [
           "#1F77B4",
           "#FF7F0E",
           "#2CA02C",
           "#D62728",
           "#9467BD",
           "#8C564B",
           "#E377C2",
           "#7F7F7F",
           "#BCBD22",
           "#17BECF"
          ],
          "font": {
           "color": "rgb(36,36,36)"
          },
          "geo": {
           "bgcolor": "white",
           "lakecolor": "white",
           "landcolor": "white",
           "showlakes": true,
           "showland": true,
           "subunitcolor": "white"
          },
          "hoverlabel": {
           "align": "left"
          },
          "hovermode": "closest",
          "mapbox": {
           "style": "light"
          },
          "paper_bgcolor": "white",
          "plot_bgcolor": "white",
          "polar": {
           "angularaxis": {
            "gridcolor": "rgb(232,232,232)",
            "linecolor": "rgb(36,36,36)",
            "showgrid": false,
            "showline": true,
            "ticks": "outside"
           },
           "bgcolor": "white",
           "radialaxis": {
            "gridcolor": "rgb(232,232,232)",
            "linecolor": "rgb(36,36,36)",
            "showgrid": false,
            "showline": true,
            "ticks": "outside"
           }
          },
          "scene": {
           "xaxis": {
            "backgroundcolor": "white",
            "gridcolor": "rgb(232,232,232)",
            "gridwidth": 2,
            "linecolor": "rgb(36,36,36)",
            "showbackground": true,
            "showgrid": false,
            "showline": true,
            "ticks": "outside",
            "zeroline": false,
            "zerolinecolor": "rgb(36,36,36)"
           },
           "yaxis": {
            "backgroundcolor": "white",
            "gridcolor": "rgb(232,232,232)",
            "gridwidth": 2,
            "linecolor": "rgb(36,36,36)",
            "showbackground": true,
            "showgrid": false,
            "showline": true,
            "ticks": "outside",
            "zeroline": false,
            "zerolinecolor": "rgb(36,36,36)"
           },
           "zaxis": {
            "backgroundcolor": "white",
            "gridcolor": "rgb(232,232,232)",
            "gridwidth": 2,
            "linecolor": "rgb(36,36,36)",
            "showbackground": true,
            "showgrid": false,
            "showline": true,
            "ticks": "outside",
            "zeroline": false,
            "zerolinecolor": "rgb(36,36,36)"
           }
          },
          "shapedefaults": {
           "fillcolor": "black",
           "line": {
            "width": 0
           },
           "opacity": 0.3
          },
          "ternary": {
           "aaxis": {
            "gridcolor": "rgb(232,232,232)",
            "linecolor": "rgb(36,36,36)",
            "showgrid": false,
            "showline": true,
            "ticks": "outside"
           },
           "baxis": {
            "gridcolor": "rgb(232,232,232)",
            "linecolor": "rgb(36,36,36)",
            "showgrid": false,
            "showline": true,
            "ticks": "outside"
           },
           "bgcolor": "white",
           "caxis": {
            "gridcolor": "rgb(232,232,232)",
            "linecolor": "rgb(36,36,36)",
            "showgrid": false,
            "showline": true,
            "ticks": "outside"
           }
          },
          "title": {
           "x": 0.05
          },
          "xaxis": {
           "automargin": true,
           "gridcolor": "rgb(232,232,232)",
           "linecolor": "rgb(36,36,36)",
           "showgrid": false,
           "showline": true,
           "ticks": "outside",
           "title": {
            "standoff": 15
           },
           "zeroline": false,
           "zerolinecolor": "rgb(36,36,36)"
          },
          "yaxis": {
           "automargin": true,
           "gridcolor": "rgb(232,232,232)",
           "linecolor": "rgb(36,36,36)",
           "showgrid": false,
           "showline": true,
           "ticks": "outside",
           "title": {
            "standoff": 15
           },
           "zeroline": false,
           "zerolinecolor": "rgb(36,36,36)"
          }
         }
        },
        "title": {
         "text": "Average Percentage of Renewable Energy by Country (All Years)"
        },
        "width": 800,
        "xaxis": {
         "anchor": "y",
         "categoryarray": [
          "Malta",
          "Cyprus",
          "Poland",
          "Czech Republic",
          "Estonia",
          "Netherlands",
          "Hungary",
          "Ireland",
          "Bulgaria",
          "Greece",
          "Belgium",
          "Germany",
          "Italy",
          "Slovak Republic",
          "Spain",
          "Slovenia",
          "Portugal",
          "Finland",
          "Denmark",
          "Lithuania",
          "Latvia",
          "Luxembourg",
          "Croatia",
          "France",
          "Austria",
          "Sweden"
         ],
         "categoryorder": "array",
         "domain": [
          0,
          1
         ],
         "title": {
          "text": "Country Name"
         }
        },
        "yaxis": {
         "anchor": "x",
         "domain": [
          0,
          1
         ],
         "title": {
          "text": "Average % of Renewable Energy for all years"
         }
        }
       }
      }
     },
     "metadata": {},
     "output_type": "display_data"
    }
   ],
   "source": [
    "#bar chart: the average % of renewable energy for each country over all years\n",
    "import pandas as pd\n",
    "import plotly.express as px\n",
    "\n",
    "average_renewable_per_country = df_viz.groupby('country_name')['%_of_renewable'].mean().reset_index()\n",
    "\n",
    "# Sorting the DataFrame by '%_of_renewable' in descending order\n",
    "average_renewable_per_country = average_renewable_per_country.sort_values(by='%_of_renewable', ascending=True)\n",
    "\n",
    "# Plotting the bar chart with country on the x-axis using Plotly Express\n",
    "fig = px.bar(average_renewable_per_country, \n",
    "             y='%_of_renewable', \n",
    "             x='country_name', \n",
    "             color=\"country_name\",\n",
    "             hover_name=\"country_name\",\n",
    "             template=\"simple_white\",\n",
    "             title='Average Percentage of Renewable Energy by Country (All Years)', \n",
    "             labels={'%_of_renewable': 'Average % of Renewable Energy for all years', 'country_name': 'Country Name'},\n",
    "             text='%_of_renewable',\n",
    "             width=800, height=500)  # Adjusting the width and height\n",
    "\n",
    "fig.update_traces(texttemplate='%{text:.1f}%', textposition='outside')\n",
    "\n",
    "fig.show()"
   ]
  }
 ],
 "metadata": {
  "kernelspec": {
   "display_name": "base",
   "language": "python",
   "name": "python3"
  },
  "language_info": {
   "codemirror_mode": {
    "name": "ipython",
    "version": 3
   },
   "file_extension": ".py",
   "mimetype": "text/x-python",
   "name": "python",
   "nbconvert_exporter": "python",
   "pygments_lexer": "ipython3",
   "version": "3.11.7"
  }
 },
 "nbformat": 4,
 "nbformat_minor": 2
}
